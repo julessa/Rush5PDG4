{
 "cells": [
  {
   "cell_type": "code",
   "execution_count": 347,
   "metadata": {},
   "outputs": [
    {
     "data": {
      "text/html": [
       "<div>\n",
       "<style scoped>\n",
       "    .dataframe tbody tr th:only-of-type {\n",
       "        vertical-align: middle;\n",
       "    }\n",
       "\n",
       "    .dataframe tbody tr th {\n",
       "        vertical-align: top;\n",
       "    }\n",
       "\n",
       "    .dataframe thead th {\n",
       "        text-align: right;\n",
       "    }\n",
       "</style>\n",
       "<table border=\"1\" class=\"dataframe\">\n",
       "  <thead>\n",
       "    <tr style=\"text-align: right;\">\n",
       "      <th></th>\n",
       "      <th>Education</th>\n",
       "      <th>Marital_Status</th>\n",
       "      <th>Income</th>\n",
       "      <th>NumDealsPurchases</th>\n",
       "      <th>Age</th>\n",
       "      <th>Kids</th>\n",
       "      <th>Days_Enrolled</th>\n",
       "      <th>Total_Spend</th>\n",
       "      <th>CouponsAccepted</th>\n",
       "      <th>Total_Purchases</th>\n",
       "      <th>Recency_</th>\n",
       "    </tr>\n",
       "    <tr>\n",
       "      <th>ID</th>\n",
       "      <th></th>\n",
       "      <th></th>\n",
       "      <th></th>\n",
       "      <th></th>\n",
       "      <th></th>\n",
       "      <th></th>\n",
       "      <th></th>\n",
       "      <th></th>\n",
       "      <th></th>\n",
       "      <th></th>\n",
       "      <th></th>\n",
       "    </tr>\n",
       "  </thead>\n",
       "  <tbody>\n",
       "    <tr>\n",
       "      <th>5524</th>\n",
       "      <td>Graduation</td>\n",
       "      <td>Single</td>\n",
       "      <td>58138.0</td>\n",
       "      <td>3</td>\n",
       "      <td>(60, 70]</td>\n",
       "      <td>0</td>\n",
       "      <td>663</td>\n",
       "      <td>1617</td>\n",
       "      <td>1</td>\n",
       "      <td>22</td>\n",
       "      <td>4.142857</td>\n",
       "    </tr>\n",
       "    <tr>\n",
       "      <th>2174</th>\n",
       "      <td>Graduation</td>\n",
       "      <td>Single</td>\n",
       "      <td>46344.0</td>\n",
       "      <td>2</td>\n",
       "      <td>(60, 70]</td>\n",
       "      <td>2</td>\n",
       "      <td>113</td>\n",
       "      <td>27</td>\n",
       "      <td>0</td>\n",
       "      <td>4</td>\n",
       "      <td>2.714286</td>\n",
       "    </tr>\n",
       "    <tr>\n",
       "      <th>4141</th>\n",
       "      <td>Graduation</td>\n",
       "      <td>Relationship</td>\n",
       "      <td>71613.0</td>\n",
       "      <td>1</td>\n",
       "      <td>(50, 60]</td>\n",
       "      <td>0</td>\n",
       "      <td>312</td>\n",
       "      <td>776</td>\n",
       "      <td>0</td>\n",
       "      <td>20</td>\n",
       "      <td>1.857143</td>\n",
       "    </tr>\n",
       "    <tr>\n",
       "      <th>6182</th>\n",
       "      <td>Graduation</td>\n",
       "      <td>Relationship</td>\n",
       "      <td>26646.0</td>\n",
       "      <td>2</td>\n",
       "      <td>(30,40]</td>\n",
       "      <td>1</td>\n",
       "      <td>139</td>\n",
       "      <td>53</td>\n",
       "      <td>0</td>\n",
       "      <td>6</td>\n",
       "      <td>1.857143</td>\n",
       "    </tr>\n",
       "    <tr>\n",
       "      <th>5324</th>\n",
       "      <td>PhD</td>\n",
       "      <td>Relationship</td>\n",
       "      <td>58293.0</td>\n",
       "      <td>5</td>\n",
       "      <td>(40,50]</td>\n",
       "      <td>1</td>\n",
       "      <td>161</td>\n",
       "      <td>422</td>\n",
       "      <td>0</td>\n",
       "      <td>14</td>\n",
       "      <td>6.714286</td>\n",
       "    </tr>\n",
       "  </tbody>\n",
       "</table>\n",
       "</div>"
      ],
      "text/plain": [
       "       Education Marital_Status   Income  NumDealsPurchases       Age  Kids  \\\n",
       "ID                                                                            \n",
       "5524  Graduation         Single  58138.0                  3  (60, 70]     0   \n",
       "2174  Graduation         Single  46344.0                  2  (60, 70]     2   \n",
       "4141  Graduation   Relationship  71613.0                  1  (50, 60]     0   \n",
       "6182  Graduation   Relationship  26646.0                  2   (30,40]     1   \n",
       "5324         PhD   Relationship  58293.0                  5   (40,50]     1   \n",
       "\n",
       "      Days_Enrolled  Total_Spend  CouponsAccepted  Total_Purchases  Recency_  \n",
       "ID                                                                            \n",
       "5524            663         1617                1               22  4.142857  \n",
       "2174            113           27                0                4  2.714286  \n",
       "4141            312          776                0               20  1.857143  \n",
       "6182            139           53                0                6  1.857143  \n",
       "5324            161          422                0               14  6.714286  "
      ]
     },
     "execution_count": 347,
     "metadata": {},
     "output_type": "execute_result"
    }
   ],
   "source": [
    "import pandas as pd\n",
    "import numpy as np\n",
    "import datetime as dt\n",
    "from math import floor\n",
    "\n",
    "import warnings\n",
    "warnings.filterwarnings('ignore')\n",
    "pd.set_option('display.max_columns', None)\n",
    "\n",
    "import plotly.express as px\n",
    "import matplotlib.pyplot as plt\n",
    "from plotly.subplots import make_subplots\n",
    "import plotly.graph_objects as go\n",
    "import seaborn as sns\n",
    "\n",
    "from sklearn.preprocessing import LabelEncoder\n",
    "from sklearn.preprocessing import StandardScaler\n",
    "from sklearn.preprocessing import OneHotEncoder\n",
    "\n",
    "from yellowbrick.cluster import KElbowVisualizer\n",
    "from sklearn.cluster import KMeans\n",
    "from sklearn.metrics import silhouette_score\n",
    "\n",
    "df = pd.read_csv('../Prepared_Data.csv', sep=\",\", index_col=0)\n",
    "df_copy = df.copy()\n",
    "df.head()"
   ]
  },
  {
   "cell_type": "code",
   "execution_count": 348,
   "metadata": {},
   "outputs": [
    {
     "data": {
      "text/html": [
       "<div>\n",
       "<style scoped>\n",
       "    .dataframe tbody tr th:only-of-type {\n",
       "        vertical-align: middle;\n",
       "    }\n",
       "\n",
       "    .dataframe tbody tr th {\n",
       "        vertical-align: top;\n",
       "    }\n",
       "\n",
       "    .dataframe thead th {\n",
       "        text-align: right;\n",
       "    }\n",
       "</style>\n",
       "<table border=\"1\" class=\"dataframe\">\n",
       "  <thead>\n",
       "    <tr style=\"text-align: right;\">\n",
       "      <th></th>\n",
       "      <th>ID</th>\n",
       "      <th>Education</th>\n",
       "      <th>Marital_Status</th>\n",
       "      <th>Income</th>\n",
       "      <th>NumDealsPurchases</th>\n",
       "      <th>Age</th>\n",
       "      <th>Kids</th>\n",
       "      <th>Days_Enrolled</th>\n",
       "      <th>Total_Spend</th>\n",
       "      <th>CouponsAccepted</th>\n",
       "      <th>Total_Purchases</th>\n",
       "      <th>Recency_</th>\n",
       "    </tr>\n",
       "  </thead>\n",
       "  <tbody>\n",
       "    <tr>\n",
       "      <th>0</th>\n",
       "      <td>5524</td>\n",
       "      <td>Graduation</td>\n",
       "      <td>Single</td>\n",
       "      <td>58138.0</td>\n",
       "      <td>3</td>\n",
       "      <td>(60, 70]</td>\n",
       "      <td>0</td>\n",
       "      <td>663</td>\n",
       "      <td>1617</td>\n",
       "      <td>1</td>\n",
       "      <td>22</td>\n",
       "      <td>4.142857</td>\n",
       "    </tr>\n",
       "    <tr>\n",
       "      <th>1</th>\n",
       "      <td>2174</td>\n",
       "      <td>Graduation</td>\n",
       "      <td>Single</td>\n",
       "      <td>46344.0</td>\n",
       "      <td>2</td>\n",
       "      <td>(60, 70]</td>\n",
       "      <td>2</td>\n",
       "      <td>113</td>\n",
       "      <td>27</td>\n",
       "      <td>0</td>\n",
       "      <td>4</td>\n",
       "      <td>2.714286</td>\n",
       "    </tr>\n",
       "    <tr>\n",
       "      <th>2</th>\n",
       "      <td>4141</td>\n",
       "      <td>Graduation</td>\n",
       "      <td>Relationship</td>\n",
       "      <td>71613.0</td>\n",
       "      <td>1</td>\n",
       "      <td>(50, 60]</td>\n",
       "      <td>0</td>\n",
       "      <td>312</td>\n",
       "      <td>776</td>\n",
       "      <td>0</td>\n",
       "      <td>20</td>\n",
       "      <td>1.857143</td>\n",
       "    </tr>\n",
       "    <tr>\n",
       "      <th>3</th>\n",
       "      <td>6182</td>\n",
       "      <td>Graduation</td>\n",
       "      <td>Relationship</td>\n",
       "      <td>26646.0</td>\n",
       "      <td>2</td>\n",
       "      <td>(30,40]</td>\n",
       "      <td>1</td>\n",
       "      <td>139</td>\n",
       "      <td>53</td>\n",
       "      <td>0</td>\n",
       "      <td>6</td>\n",
       "      <td>1.857143</td>\n",
       "    </tr>\n",
       "    <tr>\n",
       "      <th>4</th>\n",
       "      <td>5324</td>\n",
       "      <td>PhD</td>\n",
       "      <td>Relationship</td>\n",
       "      <td>58293.0</td>\n",
       "      <td>5</td>\n",
       "      <td>(40,50]</td>\n",
       "      <td>1</td>\n",
       "      <td>161</td>\n",
       "      <td>422</td>\n",
       "      <td>0</td>\n",
       "      <td>14</td>\n",
       "      <td>6.714286</td>\n",
       "    </tr>\n",
       "  </tbody>\n",
       "</table>\n",
       "</div>"
      ],
      "text/plain": [
       "     ID   Education Marital_Status   Income  NumDealsPurchases       Age  \\\n",
       "0  5524  Graduation         Single  58138.0                  3  (60, 70]   \n",
       "1  2174  Graduation         Single  46344.0                  2  (60, 70]   \n",
       "2  4141  Graduation   Relationship  71613.0                  1  (50, 60]   \n",
       "3  6182  Graduation   Relationship  26646.0                  2   (30,40]   \n",
       "4  5324         PhD   Relationship  58293.0                  5   (40,50]   \n",
       "\n",
       "   Kids  Days_Enrolled  Total_Spend  CouponsAccepted  Total_Purchases  \\\n",
       "0     0            663         1617                1               22   \n",
       "1     2            113           27                0                4   \n",
       "2     0            312          776                0               20   \n",
       "3     1            139           53                0                6   \n",
       "4     1            161          422                0               14   \n",
       "\n",
       "   Recency_  \n",
       "0  4.142857  \n",
       "1  2.714286  \n",
       "2  1.857143  \n",
       "3  1.857143  \n",
       "4  6.714286  "
      ]
     },
     "execution_count": 348,
     "metadata": {},
     "output_type": "execute_result"
    }
   ],
   "source": [
    "df_ = df.copy()\n",
    "df_.reset_index(inplace=True)\n",
    "df_.head()\n"
   ]
  },
  {
   "cell_type": "code",
   "execution_count": 349,
   "metadata": {},
   "outputs": [
    {
     "name": "stdout",
     "output_type": "stream",
     "text": [
      "['Income', 'NumDealsPurchases', 'Kids', 'Days_Enrolled', 'Total_Spend', 'CouponsAccepted', 'Total_Purchases', 'Recency_']\n"
     ]
    }
   ],
   "source": [
    "int_list = []\n",
    "for col in df.columns:\n",
    "    if df[col].dtypes == int or df[col].dtypes == float:\n",
    "        int_list.append(col)\n",
    "print(int_list)"
   ]
  },
  {
   "cell_type": "code",
   "execution_count": 350,
   "metadata": {},
   "outputs": [
    {
     "data": {
      "text/plain": [
       "Education             object\n",
       "Marital_Status        object\n",
       "Income               float64\n",
       "NumDealsPurchases    float64\n",
       "Age                   object\n",
       "Kids                 float64\n",
       "Days_Enrolled        float64\n",
       "Total_Spend          float64\n",
       "CouponsAccepted      float64\n",
       "Total_Purchases      float64\n",
       "Recency_             float64\n",
       "dtype: object"
      ]
     },
     "execution_count": 350,
     "metadata": {},
     "output_type": "execute_result"
    }
   ],
   "source": [
    "autoscaler = StandardScaler()\n",
    "df[int_list] = autoscaler.fit_transform(df[int_list])\n",
    "df.dtypes"
   ]
  },
  {
   "cell_type": "code",
   "execution_count": 351,
   "metadata": {},
   "outputs": [],
   "source": [
    "df.reset_index('ID', inplace=True)"
   ]
  },
  {
   "cell_type": "code",
   "execution_count": 352,
   "metadata": {},
   "outputs": [
    {
     "data": {
      "text/html": [
       "<div>\n",
       "<style scoped>\n",
       "    .dataframe tbody tr th:only-of-type {\n",
       "        vertical-align: middle;\n",
       "    }\n",
       "\n",
       "    .dataframe tbody tr th {\n",
       "        vertical-align: top;\n",
       "    }\n",
       "\n",
       "    .dataframe thead th {\n",
       "        text-align: right;\n",
       "    }\n",
       "</style>\n",
       "<table border=\"1\" class=\"dataframe\">\n",
       "  <thead>\n",
       "    <tr style=\"text-align: right;\">\n",
       "      <th></th>\n",
       "      <th>index</th>\n",
       "      <th>ID</th>\n",
       "      <th>Education</th>\n",
       "      <th>Marital_Status</th>\n",
       "      <th>Income</th>\n",
       "      <th>NumDealsPurchases</th>\n",
       "      <th>Age</th>\n",
       "      <th>Kids</th>\n",
       "      <th>Days_Enrolled</th>\n",
       "      <th>Total_Spend</th>\n",
       "      <th>CouponsAccepted</th>\n",
       "      <th>Total_Purchases</th>\n",
       "      <th>Recency_</th>\n",
       "    </tr>\n",
       "  </thead>\n",
       "  <tbody>\n",
       "    <tr>\n",
       "      <th>0</th>\n",
       "      <td>0</td>\n",
       "      <td>5524</td>\n",
       "      <td>Graduation</td>\n",
       "      <td>Single</td>\n",
       "      <td>0.288195</td>\n",
       "      <td>0.348738</td>\n",
       "      <td>(60, 70]</td>\n",
       "      <td>-1.264308</td>\n",
       "      <td>1.529793</td>\n",
       "      <td>1.680176</td>\n",
       "      <td>0.620456</td>\n",
       "      <td>1.312080</td>\n",
       "      <td>0.306856</td>\n",
       "    </tr>\n",
       "    <tr>\n",
       "      <th>1</th>\n",
       "      <td>1</td>\n",
       "      <td>2174</td>\n",
       "      <td>Graduation</td>\n",
       "      <td>Single</td>\n",
       "      <td>-0.262715</td>\n",
       "      <td>-0.168700</td>\n",
       "      <td>(60, 70]</td>\n",
       "      <td>1.395139</td>\n",
       "      <td>-1.191143</td>\n",
       "      <td>-0.962202</td>\n",
       "      <td>-0.501987</td>\n",
       "      <td>-1.186198</td>\n",
       "      <td>-0.383971</td>\n",
       "    </tr>\n",
       "    <tr>\n",
       "      <th>2</th>\n",
       "      <td>2</td>\n",
       "      <td>4141</td>\n",
       "      <td>Graduation</td>\n",
       "      <td>Relationship</td>\n",
       "      <td>0.917627</td>\n",
       "      <td>-0.686137</td>\n",
       "      <td>(50, 60]</td>\n",
       "      <td>-1.264308</td>\n",
       "      <td>-0.206659</td>\n",
       "      <td>0.282541</td>\n",
       "      <td>-0.501987</td>\n",
       "      <td>1.034493</td>\n",
       "      <td>-0.798467</td>\n",
       "    </tr>\n",
       "    <tr>\n",
       "      <th>3</th>\n",
       "      <td>3</td>\n",
       "      <td>6182</td>\n",
       "      <td>Graduation</td>\n",
       "      <td>Relationship</td>\n",
       "      <td>-1.182829</td>\n",
       "      <td>-0.168700</td>\n",
       "      <td>(30,40]</td>\n",
       "      <td>0.065416</td>\n",
       "      <td>-1.062517</td>\n",
       "      <td>-0.918994</td>\n",
       "      <td>-0.501987</td>\n",
       "      <td>-0.908611</td>\n",
       "      <td>-0.798467</td>\n",
       "    </tr>\n",
       "    <tr>\n",
       "      <th>4</th>\n",
       "      <td>4</td>\n",
       "      <td>5324</td>\n",
       "      <td>PhD</td>\n",
       "      <td>Relationship</td>\n",
       "      <td>0.295435</td>\n",
       "      <td>1.383614</td>\n",
       "      <td>(40,50]</td>\n",
       "      <td>0.065416</td>\n",
       "      <td>-0.953679</td>\n",
       "      <td>-0.305762</td>\n",
       "      <td>-0.501987</td>\n",
       "      <td>0.201734</td>\n",
       "      <td>1.550344</td>\n",
       "    </tr>\n",
       "  </tbody>\n",
       "</table>\n",
       "</div>"
      ],
      "text/plain": [
       "   index    ID   Education Marital_Status    Income  NumDealsPurchases  \\\n",
       "0      0  5524  Graduation         Single  0.288195           0.348738   \n",
       "1      1  2174  Graduation         Single -0.262715          -0.168700   \n",
       "2      2  4141  Graduation   Relationship  0.917627          -0.686137   \n",
       "3      3  6182  Graduation   Relationship -1.182829          -0.168700   \n",
       "4      4  5324         PhD   Relationship  0.295435           1.383614   \n",
       "\n",
       "        Age      Kids  Days_Enrolled  Total_Spend  CouponsAccepted  \\\n",
       "0  (60, 70] -1.264308       1.529793     1.680176         0.620456   \n",
       "1  (60, 70]  1.395139      -1.191143    -0.962202        -0.501987   \n",
       "2  (50, 60] -1.264308      -0.206659     0.282541        -0.501987   \n",
       "3   (30,40]  0.065416      -1.062517    -0.918994        -0.501987   \n",
       "4   (40,50]  0.065416      -0.953679    -0.305762        -0.501987   \n",
       "\n",
       "   Total_Purchases  Recency_  \n",
       "0         1.312080  0.306856  \n",
       "1        -1.186198 -0.383971  \n",
       "2         1.034493 -0.798467  \n",
       "3        -0.908611 -0.798467  \n",
       "4         0.201734  1.550344  "
      ]
     },
     "execution_count": 352,
     "metadata": {},
     "output_type": "execute_result"
    }
   ],
   "source": [
    "df.reset_index(inplace=True)\n",
    "df.head()"
   ]
  },
  {
   "cell_type": "code",
   "execution_count": 353,
   "metadata": {},
   "outputs": [
    {
     "data": {
      "text/plain": [
       "['Education', 'Marital_Status', 'Age']"
      ]
     },
     "execution_count": 353,
     "metadata": {},
     "output_type": "execute_result"
    }
   ],
   "source": [
    "obj_col = []\n",
    "for col in df.columns:\n",
    "    if df[col].dtypes == object:\n",
    "        obj_col.append(col)\n",
    "obj_col"
   ]
  },
  {
   "cell_type": "code",
   "execution_count": 354,
   "metadata": {},
   "outputs": [],
   "source": [
    "onehotencoder = OneHotEncoder() \n",
    "data = pd.DataFrame(onehotencoder.fit_transform(df[['Age', 'Recency_']]).toarray())\n",
    "data = data.reset_index()\n",
    "df = pd.merge(left = df, right = data, on = 'index')\n",
    "df = df.drop(columns = ['Age'])"
   ]
  },
  {
   "cell_type": "code",
   "execution_count": 355,
   "metadata": {},
   "outputs": [
    {
     "data": {
      "text/plain": [
       "['Education', 'Marital_Status']"
      ]
     },
     "execution_count": 355,
     "metadata": {},
     "output_type": "execute_result"
    }
   ],
   "source": [
    "obj_col = []\n",
    "for col in df.columns:\n",
    "    if df[col].dtypes == object:\n",
    "        obj_col.append(col)\n",
    "obj_col"
   ]
  },
  {
   "cell_type": "code",
   "execution_count": 356,
   "metadata": {},
   "outputs": [
    {
     "data": {
      "text/html": [
       "<div>\n",
       "<style scoped>\n",
       "    .dataframe tbody tr th:only-of-type {\n",
       "        vertical-align: middle;\n",
       "    }\n",
       "\n",
       "    .dataframe tbody tr th {\n",
       "        vertical-align: top;\n",
       "    }\n",
       "\n",
       "    .dataframe thead th {\n",
       "        text-align: right;\n",
       "    }\n",
       "</style>\n",
       "<table border=\"1\" class=\"dataframe\">\n",
       "  <thead>\n",
       "    <tr style=\"text-align: right;\">\n",
       "      <th></th>\n",
       "      <th>index</th>\n",
       "      <th>ID</th>\n",
       "      <th>Education</th>\n",
       "      <th>Marital_Status</th>\n",
       "      <th>Income</th>\n",
       "      <th>NumDealsPurchases</th>\n",
       "      <th>Kids</th>\n",
       "      <th>Days_Enrolled</th>\n",
       "      <th>Total_Spend</th>\n",
       "      <th>CouponsAccepted</th>\n",
       "      <th>Total_Purchases</th>\n",
       "      <th>Recency_</th>\n",
       "      <th>0</th>\n",
       "      <th>1</th>\n",
       "      <th>2</th>\n",
       "      <th>3</th>\n",
       "      <th>4</th>\n",
       "      <th>5</th>\n",
       "      <th>6</th>\n",
       "      <th>7</th>\n",
       "      <th>8</th>\n",
       "      <th>9</th>\n",
       "      <th>10</th>\n",
       "      <th>11</th>\n",
       "      <th>12</th>\n",
       "      <th>13</th>\n",
       "      <th>14</th>\n",
       "      <th>15</th>\n",
       "      <th>16</th>\n",
       "      <th>17</th>\n",
       "      <th>18</th>\n",
       "      <th>19</th>\n",
       "      <th>20</th>\n",
       "      <th>21</th>\n",
       "      <th>22</th>\n",
       "      <th>23</th>\n",
       "      <th>24</th>\n",
       "      <th>25</th>\n",
       "      <th>26</th>\n",
       "      <th>27</th>\n",
       "      <th>28</th>\n",
       "      <th>29</th>\n",
       "      <th>30</th>\n",
       "      <th>31</th>\n",
       "      <th>32</th>\n",
       "      <th>33</th>\n",
       "      <th>34</th>\n",
       "      <th>35</th>\n",
       "      <th>36</th>\n",
       "      <th>37</th>\n",
       "      <th>38</th>\n",
       "      <th>39</th>\n",
       "      <th>40</th>\n",
       "      <th>41</th>\n",
       "      <th>42</th>\n",
       "      <th>43</th>\n",
       "      <th>44</th>\n",
       "      <th>45</th>\n",
       "      <th>46</th>\n",
       "      <th>47</th>\n",
       "      <th>48</th>\n",
       "      <th>49</th>\n",
       "      <th>50</th>\n",
       "      <th>51</th>\n",
       "      <th>52</th>\n",
       "      <th>53</th>\n",
       "      <th>54</th>\n",
       "      <th>55</th>\n",
       "      <th>56</th>\n",
       "      <th>57</th>\n",
       "      <th>58</th>\n",
       "      <th>59</th>\n",
       "      <th>60</th>\n",
       "      <th>61</th>\n",
       "      <th>62</th>\n",
       "      <th>63</th>\n",
       "      <th>64</th>\n",
       "      <th>65</th>\n",
       "      <th>66</th>\n",
       "      <th>67</th>\n",
       "      <th>68</th>\n",
       "      <th>69</th>\n",
       "      <th>70</th>\n",
       "      <th>71</th>\n",
       "      <th>72</th>\n",
       "      <th>73</th>\n",
       "      <th>74</th>\n",
       "      <th>75</th>\n",
       "      <th>76</th>\n",
       "      <th>77</th>\n",
       "      <th>78</th>\n",
       "      <th>79</th>\n",
       "      <th>80</th>\n",
       "      <th>81</th>\n",
       "      <th>82</th>\n",
       "      <th>83</th>\n",
       "      <th>84</th>\n",
       "      <th>85</th>\n",
       "      <th>86</th>\n",
       "      <th>87</th>\n",
       "      <th>88</th>\n",
       "      <th>89</th>\n",
       "      <th>90</th>\n",
       "      <th>91</th>\n",
       "      <th>92</th>\n",
       "      <th>93</th>\n",
       "      <th>94</th>\n",
       "      <th>95</th>\n",
       "      <th>96</th>\n",
       "      <th>97</th>\n",
       "      <th>98</th>\n",
       "      <th>99</th>\n",
       "      <th>100</th>\n",
       "      <th>101</th>\n",
       "      <th>102</th>\n",
       "      <th>103</th>\n",
       "      <th>104</th>\n",
       "      <th>105</th>\n",
       "    </tr>\n",
       "  </thead>\n",
       "  <tbody>\n",
       "    <tr>\n",
       "      <th>0</th>\n",
       "      <td>0</td>\n",
       "      <td>5524</td>\n",
       "      <td>1</td>\n",
       "      <td>1</td>\n",
       "      <td>0.288195</td>\n",
       "      <td>0.348738</td>\n",
       "      <td>-1.264308</td>\n",
       "      <td>1.529793</td>\n",
       "      <td>1.680176</td>\n",
       "      <td>0.620456</td>\n",
       "      <td>1.312080</td>\n",
       "      <td>0.306856</td>\n",
       "      <td>0.0</td>\n",
       "      <td>0.0</td>\n",
       "      <td>0.0</td>\n",
       "      <td>0.0</td>\n",
       "      <td>1.0</td>\n",
       "      <td>0.0</td>\n",
       "      <td>0.0</td>\n",
       "      <td>0.0</td>\n",
       "      <td>0.0</td>\n",
       "      <td>0.0</td>\n",
       "      <td>0.0</td>\n",
       "      <td>0.0</td>\n",
       "      <td>0.0</td>\n",
       "      <td>0.0</td>\n",
       "      <td>0.0</td>\n",
       "      <td>0.0</td>\n",
       "      <td>0.0</td>\n",
       "      <td>0.0</td>\n",
       "      <td>0.0</td>\n",
       "      <td>0.0</td>\n",
       "      <td>0.0</td>\n",
       "      <td>0.0</td>\n",
       "      <td>0.0</td>\n",
       "      <td>0.0</td>\n",
       "      <td>0.0</td>\n",
       "      <td>0.0</td>\n",
       "      <td>0.0</td>\n",
       "      <td>0.0</td>\n",
       "      <td>0.0</td>\n",
       "      <td>0.0</td>\n",
       "      <td>0.0</td>\n",
       "      <td>0.0</td>\n",
       "      <td>0.0</td>\n",
       "      <td>0.0</td>\n",
       "      <td>0.0</td>\n",
       "      <td>0.0</td>\n",
       "      <td>0.0</td>\n",
       "      <td>0.0</td>\n",
       "      <td>0.0</td>\n",
       "      <td>0.0</td>\n",
       "      <td>0.0</td>\n",
       "      <td>0.0</td>\n",
       "      <td>0.0</td>\n",
       "      <td>0.0</td>\n",
       "      <td>0.0</td>\n",
       "      <td>0.0</td>\n",
       "      <td>0.0</td>\n",
       "      <td>0.0</td>\n",
       "      <td>0.0</td>\n",
       "      <td>0.0</td>\n",
       "      <td>0.0</td>\n",
       "      <td>0.0</td>\n",
       "      <td>0.0</td>\n",
       "      <td>0.0</td>\n",
       "      <td>0.0</td>\n",
       "      <td>0.0</td>\n",
       "      <td>0.0</td>\n",
       "      <td>0.0</td>\n",
       "      <td>0.0</td>\n",
       "      <td>0.0</td>\n",
       "      <td>0.0</td>\n",
       "      <td>0.0</td>\n",
       "      <td>0.0</td>\n",
       "      <td>0.0</td>\n",
       "      <td>1.0</td>\n",
       "      <td>0.0</td>\n",
       "      <td>0.0</td>\n",
       "      <td>0.0</td>\n",
       "      <td>0.0</td>\n",
       "      <td>0.0</td>\n",
       "      <td>0.0</td>\n",
       "      <td>0.0</td>\n",
       "      <td>0.0</td>\n",
       "      <td>0.0</td>\n",
       "      <td>0.0</td>\n",
       "      <td>0.0</td>\n",
       "      <td>0.0</td>\n",
       "      <td>0.0</td>\n",
       "      <td>0.0</td>\n",
       "      <td>0.0</td>\n",
       "      <td>0.0</td>\n",
       "      <td>0.0</td>\n",
       "      <td>0.0</td>\n",
       "      <td>0.0</td>\n",
       "      <td>0.0</td>\n",
       "      <td>0.0</td>\n",
       "      <td>0.0</td>\n",
       "      <td>0.0</td>\n",
       "      <td>0.0</td>\n",
       "      <td>0.0</td>\n",
       "      <td>0.0</td>\n",
       "      <td>0.0</td>\n",
       "      <td>0.0</td>\n",
       "      <td>0.0</td>\n",
       "      <td>0.0</td>\n",
       "      <td>0.0</td>\n",
       "      <td>0.0</td>\n",
       "      <td>0.0</td>\n",
       "      <td>0.0</td>\n",
       "      <td>0.0</td>\n",
       "      <td>0.0</td>\n",
       "      <td>0.0</td>\n",
       "      <td>0.0</td>\n",
       "      <td>0.0</td>\n",
       "      <td>0.0</td>\n",
       "      <td>0.0</td>\n",
       "    </tr>\n",
       "    <tr>\n",
       "      <th>1</th>\n",
       "      <td>1</td>\n",
       "      <td>2174</td>\n",
       "      <td>1</td>\n",
       "      <td>1</td>\n",
       "      <td>-0.262715</td>\n",
       "      <td>-0.168700</td>\n",
       "      <td>1.395139</td>\n",
       "      <td>-1.191143</td>\n",
       "      <td>-0.962202</td>\n",
       "      <td>-0.501987</td>\n",
       "      <td>-1.186198</td>\n",
       "      <td>-0.383971</td>\n",
       "      <td>0.0</td>\n",
       "      <td>0.0</td>\n",
       "      <td>0.0</td>\n",
       "      <td>0.0</td>\n",
       "      <td>1.0</td>\n",
       "      <td>0.0</td>\n",
       "      <td>0.0</td>\n",
       "      <td>0.0</td>\n",
       "      <td>0.0</td>\n",
       "      <td>0.0</td>\n",
       "      <td>0.0</td>\n",
       "      <td>0.0</td>\n",
       "      <td>0.0</td>\n",
       "      <td>0.0</td>\n",
       "      <td>0.0</td>\n",
       "      <td>0.0</td>\n",
       "      <td>0.0</td>\n",
       "      <td>0.0</td>\n",
       "      <td>0.0</td>\n",
       "      <td>0.0</td>\n",
       "      <td>0.0</td>\n",
       "      <td>0.0</td>\n",
       "      <td>0.0</td>\n",
       "      <td>0.0</td>\n",
       "      <td>0.0</td>\n",
       "      <td>0.0</td>\n",
       "      <td>0.0</td>\n",
       "      <td>0.0</td>\n",
       "      <td>0.0</td>\n",
       "      <td>0.0</td>\n",
       "      <td>0.0</td>\n",
       "      <td>0.0</td>\n",
       "      <td>0.0</td>\n",
       "      <td>0.0</td>\n",
       "      <td>0.0</td>\n",
       "      <td>0.0</td>\n",
       "      <td>0.0</td>\n",
       "      <td>0.0</td>\n",
       "      <td>0.0</td>\n",
       "      <td>0.0</td>\n",
       "      <td>0.0</td>\n",
       "      <td>0.0</td>\n",
       "      <td>0.0</td>\n",
       "      <td>0.0</td>\n",
       "      <td>1.0</td>\n",
       "      <td>0.0</td>\n",
       "      <td>0.0</td>\n",
       "      <td>0.0</td>\n",
       "      <td>0.0</td>\n",
       "      <td>0.0</td>\n",
       "      <td>0.0</td>\n",
       "      <td>0.0</td>\n",
       "      <td>0.0</td>\n",
       "      <td>0.0</td>\n",
       "      <td>0.0</td>\n",
       "      <td>0.0</td>\n",
       "      <td>0.0</td>\n",
       "      <td>0.0</td>\n",
       "      <td>0.0</td>\n",
       "      <td>0.0</td>\n",
       "      <td>0.0</td>\n",
       "      <td>0.0</td>\n",
       "      <td>0.0</td>\n",
       "      <td>0.0</td>\n",
       "      <td>0.0</td>\n",
       "      <td>0.0</td>\n",
       "      <td>0.0</td>\n",
       "      <td>0.0</td>\n",
       "      <td>0.0</td>\n",
       "      <td>0.0</td>\n",
       "      <td>0.0</td>\n",
       "      <td>0.0</td>\n",
       "      <td>0.0</td>\n",
       "      <td>0.0</td>\n",
       "      <td>0.0</td>\n",
       "      <td>0.0</td>\n",
       "      <td>0.0</td>\n",
       "      <td>0.0</td>\n",
       "      <td>0.0</td>\n",
       "      <td>0.0</td>\n",
       "      <td>0.0</td>\n",
       "      <td>0.0</td>\n",
       "      <td>0.0</td>\n",
       "      <td>0.0</td>\n",
       "      <td>0.0</td>\n",
       "      <td>0.0</td>\n",
       "      <td>0.0</td>\n",
       "      <td>0.0</td>\n",
       "      <td>0.0</td>\n",
       "      <td>0.0</td>\n",
       "      <td>0.0</td>\n",
       "      <td>0.0</td>\n",
       "      <td>0.0</td>\n",
       "      <td>0.0</td>\n",
       "      <td>0.0</td>\n",
       "      <td>0.0</td>\n",
       "      <td>0.0</td>\n",
       "      <td>0.0</td>\n",
       "      <td>0.0</td>\n",
       "      <td>0.0</td>\n",
       "      <td>0.0</td>\n",
       "      <td>0.0</td>\n",
       "      <td>0.0</td>\n",
       "      <td>0.0</td>\n",
       "      <td>0.0</td>\n",
       "      <td>0.0</td>\n",
       "    </tr>\n",
       "    <tr>\n",
       "      <th>2</th>\n",
       "      <td>2</td>\n",
       "      <td>4141</td>\n",
       "      <td>1</td>\n",
       "      <td>0</td>\n",
       "      <td>0.917627</td>\n",
       "      <td>-0.686137</td>\n",
       "      <td>-1.264308</td>\n",
       "      <td>-0.206659</td>\n",
       "      <td>0.282541</td>\n",
       "      <td>-0.501987</td>\n",
       "      <td>1.034493</td>\n",
       "      <td>-0.798467</td>\n",
       "      <td>0.0</td>\n",
       "      <td>0.0</td>\n",
       "      <td>0.0</td>\n",
       "      <td>1.0</td>\n",
       "      <td>0.0</td>\n",
       "      <td>0.0</td>\n",
       "      <td>0.0</td>\n",
       "      <td>0.0</td>\n",
       "      <td>0.0</td>\n",
       "      <td>0.0</td>\n",
       "      <td>0.0</td>\n",
       "      <td>0.0</td>\n",
       "      <td>0.0</td>\n",
       "      <td>0.0</td>\n",
       "      <td>0.0</td>\n",
       "      <td>0.0</td>\n",
       "      <td>0.0</td>\n",
       "      <td>0.0</td>\n",
       "      <td>0.0</td>\n",
       "      <td>0.0</td>\n",
       "      <td>0.0</td>\n",
       "      <td>0.0</td>\n",
       "      <td>0.0</td>\n",
       "      <td>0.0</td>\n",
       "      <td>0.0</td>\n",
       "      <td>0.0</td>\n",
       "      <td>0.0</td>\n",
       "      <td>0.0</td>\n",
       "      <td>0.0</td>\n",
       "      <td>0.0</td>\n",
       "      <td>0.0</td>\n",
       "      <td>0.0</td>\n",
       "      <td>1.0</td>\n",
       "      <td>0.0</td>\n",
       "      <td>0.0</td>\n",
       "      <td>0.0</td>\n",
       "      <td>0.0</td>\n",
       "      <td>0.0</td>\n",
       "      <td>0.0</td>\n",
       "      <td>0.0</td>\n",
       "      <td>0.0</td>\n",
       "      <td>0.0</td>\n",
       "      <td>0.0</td>\n",
       "      <td>0.0</td>\n",
       "      <td>0.0</td>\n",
       "      <td>0.0</td>\n",
       "      <td>0.0</td>\n",
       "      <td>0.0</td>\n",
       "      <td>0.0</td>\n",
       "      <td>0.0</td>\n",
       "      <td>0.0</td>\n",
       "      <td>0.0</td>\n",
       "      <td>0.0</td>\n",
       "      <td>0.0</td>\n",
       "      <td>0.0</td>\n",
       "      <td>0.0</td>\n",
       "      <td>0.0</td>\n",
       "      <td>0.0</td>\n",
       "      <td>0.0</td>\n",
       "      <td>0.0</td>\n",
       "      <td>0.0</td>\n",
       "      <td>0.0</td>\n",
       "      <td>0.0</td>\n",
       "      <td>0.0</td>\n",
       "      <td>0.0</td>\n",
       "      <td>0.0</td>\n",
       "      <td>0.0</td>\n",
       "      <td>0.0</td>\n",
       "      <td>0.0</td>\n",
       "      <td>0.0</td>\n",
       "      <td>0.0</td>\n",
       "      <td>0.0</td>\n",
       "      <td>0.0</td>\n",
       "      <td>0.0</td>\n",
       "      <td>0.0</td>\n",
       "      <td>0.0</td>\n",
       "      <td>0.0</td>\n",
       "      <td>0.0</td>\n",
       "      <td>0.0</td>\n",
       "      <td>0.0</td>\n",
       "      <td>0.0</td>\n",
       "      <td>0.0</td>\n",
       "      <td>0.0</td>\n",
       "      <td>0.0</td>\n",
       "      <td>0.0</td>\n",
       "      <td>0.0</td>\n",
       "      <td>0.0</td>\n",
       "      <td>0.0</td>\n",
       "      <td>0.0</td>\n",
       "      <td>0.0</td>\n",
       "      <td>0.0</td>\n",
       "      <td>0.0</td>\n",
       "      <td>0.0</td>\n",
       "      <td>0.0</td>\n",
       "      <td>0.0</td>\n",
       "      <td>0.0</td>\n",
       "      <td>0.0</td>\n",
       "      <td>0.0</td>\n",
       "      <td>0.0</td>\n",
       "      <td>0.0</td>\n",
       "      <td>0.0</td>\n",
       "      <td>0.0</td>\n",
       "      <td>0.0</td>\n",
       "      <td>0.0</td>\n",
       "      <td>0.0</td>\n",
       "      <td>0.0</td>\n",
       "    </tr>\n",
       "    <tr>\n",
       "      <th>3</th>\n",
       "      <td>3</td>\n",
       "      <td>6182</td>\n",
       "      <td>1</td>\n",
       "      <td>0</td>\n",
       "      <td>-1.182829</td>\n",
       "      <td>-0.168700</td>\n",
       "      <td>0.065416</td>\n",
       "      <td>-1.062517</td>\n",
       "      <td>-0.918994</td>\n",
       "      <td>-0.501987</td>\n",
       "      <td>-0.908611</td>\n",
       "      <td>-0.798467</td>\n",
       "      <td>0.0</td>\n",
       "      <td>1.0</td>\n",
       "      <td>0.0</td>\n",
       "      <td>0.0</td>\n",
       "      <td>0.0</td>\n",
       "      <td>0.0</td>\n",
       "      <td>0.0</td>\n",
       "      <td>0.0</td>\n",
       "      <td>0.0</td>\n",
       "      <td>0.0</td>\n",
       "      <td>0.0</td>\n",
       "      <td>0.0</td>\n",
       "      <td>0.0</td>\n",
       "      <td>0.0</td>\n",
       "      <td>0.0</td>\n",
       "      <td>0.0</td>\n",
       "      <td>0.0</td>\n",
       "      <td>0.0</td>\n",
       "      <td>0.0</td>\n",
       "      <td>0.0</td>\n",
       "      <td>0.0</td>\n",
       "      <td>0.0</td>\n",
       "      <td>0.0</td>\n",
       "      <td>0.0</td>\n",
       "      <td>0.0</td>\n",
       "      <td>0.0</td>\n",
       "      <td>0.0</td>\n",
       "      <td>0.0</td>\n",
       "      <td>0.0</td>\n",
       "      <td>0.0</td>\n",
       "      <td>0.0</td>\n",
       "      <td>0.0</td>\n",
       "      <td>1.0</td>\n",
       "      <td>0.0</td>\n",
       "      <td>0.0</td>\n",
       "      <td>0.0</td>\n",
       "      <td>0.0</td>\n",
       "      <td>0.0</td>\n",
       "      <td>0.0</td>\n",
       "      <td>0.0</td>\n",
       "      <td>0.0</td>\n",
       "      <td>0.0</td>\n",
       "      <td>0.0</td>\n",
       "      <td>0.0</td>\n",
       "      <td>0.0</td>\n",
       "      <td>0.0</td>\n",
       "      <td>0.0</td>\n",
       "      <td>0.0</td>\n",
       "      <td>0.0</td>\n",
       "      <td>0.0</td>\n",
       "      <td>0.0</td>\n",
       "      <td>0.0</td>\n",
       "      <td>0.0</td>\n",
       "      <td>0.0</td>\n",
       "      <td>0.0</td>\n",
       "      <td>0.0</td>\n",
       "      <td>0.0</td>\n",
       "      <td>0.0</td>\n",
       "      <td>0.0</td>\n",
       "      <td>0.0</td>\n",
       "      <td>0.0</td>\n",
       "      <td>0.0</td>\n",
       "      <td>0.0</td>\n",
       "      <td>0.0</td>\n",
       "      <td>0.0</td>\n",
       "      <td>0.0</td>\n",
       "      <td>0.0</td>\n",
       "      <td>0.0</td>\n",
       "      <td>0.0</td>\n",
       "      <td>0.0</td>\n",
       "      <td>0.0</td>\n",
       "      <td>0.0</td>\n",
       "      <td>0.0</td>\n",
       "      <td>0.0</td>\n",
       "      <td>0.0</td>\n",
       "      <td>0.0</td>\n",
       "      <td>0.0</td>\n",
       "      <td>0.0</td>\n",
       "      <td>0.0</td>\n",
       "      <td>0.0</td>\n",
       "      <td>0.0</td>\n",
       "      <td>0.0</td>\n",
       "      <td>0.0</td>\n",
       "      <td>0.0</td>\n",
       "      <td>0.0</td>\n",
       "      <td>0.0</td>\n",
       "      <td>0.0</td>\n",
       "      <td>0.0</td>\n",
       "      <td>0.0</td>\n",
       "      <td>0.0</td>\n",
       "      <td>0.0</td>\n",
       "      <td>0.0</td>\n",
       "      <td>0.0</td>\n",
       "      <td>0.0</td>\n",
       "      <td>0.0</td>\n",
       "      <td>0.0</td>\n",
       "      <td>0.0</td>\n",
       "      <td>0.0</td>\n",
       "      <td>0.0</td>\n",
       "      <td>0.0</td>\n",
       "      <td>0.0</td>\n",
       "      <td>0.0</td>\n",
       "      <td>0.0</td>\n",
       "      <td>0.0</td>\n",
       "      <td>0.0</td>\n",
       "      <td>0.0</td>\n",
       "    </tr>\n",
       "    <tr>\n",
       "      <th>4</th>\n",
       "      <td>4</td>\n",
       "      <td>5324</td>\n",
       "      <td>3</td>\n",
       "      <td>0</td>\n",
       "      <td>0.295435</td>\n",
       "      <td>1.383614</td>\n",
       "      <td>0.065416</td>\n",
       "      <td>-0.953679</td>\n",
       "      <td>-0.305762</td>\n",
       "      <td>-0.501987</td>\n",
       "      <td>0.201734</td>\n",
       "      <td>1.550344</td>\n",
       "      <td>0.0</td>\n",
       "      <td>0.0</td>\n",
       "      <td>1.0</td>\n",
       "      <td>0.0</td>\n",
       "      <td>0.0</td>\n",
       "      <td>0.0</td>\n",
       "      <td>0.0</td>\n",
       "      <td>0.0</td>\n",
       "      <td>0.0</td>\n",
       "      <td>0.0</td>\n",
       "      <td>0.0</td>\n",
       "      <td>0.0</td>\n",
       "      <td>0.0</td>\n",
       "      <td>0.0</td>\n",
       "      <td>0.0</td>\n",
       "      <td>0.0</td>\n",
       "      <td>0.0</td>\n",
       "      <td>0.0</td>\n",
       "      <td>0.0</td>\n",
       "      <td>0.0</td>\n",
       "      <td>0.0</td>\n",
       "      <td>0.0</td>\n",
       "      <td>0.0</td>\n",
       "      <td>0.0</td>\n",
       "      <td>0.0</td>\n",
       "      <td>0.0</td>\n",
       "      <td>0.0</td>\n",
       "      <td>0.0</td>\n",
       "      <td>0.0</td>\n",
       "      <td>0.0</td>\n",
       "      <td>0.0</td>\n",
       "      <td>0.0</td>\n",
       "      <td>0.0</td>\n",
       "      <td>0.0</td>\n",
       "      <td>0.0</td>\n",
       "      <td>0.0</td>\n",
       "      <td>0.0</td>\n",
       "      <td>0.0</td>\n",
       "      <td>0.0</td>\n",
       "      <td>0.0</td>\n",
       "      <td>0.0</td>\n",
       "      <td>0.0</td>\n",
       "      <td>0.0</td>\n",
       "      <td>0.0</td>\n",
       "      <td>0.0</td>\n",
       "      <td>0.0</td>\n",
       "      <td>0.0</td>\n",
       "      <td>0.0</td>\n",
       "      <td>0.0</td>\n",
       "      <td>0.0</td>\n",
       "      <td>0.0</td>\n",
       "      <td>0.0</td>\n",
       "      <td>0.0</td>\n",
       "      <td>0.0</td>\n",
       "      <td>0.0</td>\n",
       "      <td>0.0</td>\n",
       "      <td>0.0</td>\n",
       "      <td>0.0</td>\n",
       "      <td>0.0</td>\n",
       "      <td>0.0</td>\n",
       "      <td>0.0</td>\n",
       "      <td>0.0</td>\n",
       "      <td>0.0</td>\n",
       "      <td>0.0</td>\n",
       "      <td>0.0</td>\n",
       "      <td>0.0</td>\n",
       "      <td>0.0</td>\n",
       "      <td>0.0</td>\n",
       "      <td>0.0</td>\n",
       "      <td>0.0</td>\n",
       "      <td>0.0</td>\n",
       "      <td>0.0</td>\n",
       "      <td>0.0</td>\n",
       "      <td>0.0</td>\n",
       "      <td>0.0</td>\n",
       "      <td>0.0</td>\n",
       "      <td>0.0</td>\n",
       "      <td>0.0</td>\n",
       "      <td>0.0</td>\n",
       "      <td>0.0</td>\n",
       "      <td>0.0</td>\n",
       "      <td>0.0</td>\n",
       "      <td>0.0</td>\n",
       "      <td>0.0</td>\n",
       "      <td>0.0</td>\n",
       "      <td>0.0</td>\n",
       "      <td>0.0</td>\n",
       "      <td>0.0</td>\n",
       "      <td>0.0</td>\n",
       "      <td>0.0</td>\n",
       "      <td>0.0</td>\n",
       "      <td>0.0</td>\n",
       "      <td>0.0</td>\n",
       "      <td>0.0</td>\n",
       "      <td>0.0</td>\n",
       "      <td>0.0</td>\n",
       "      <td>0.0</td>\n",
       "      <td>0.0</td>\n",
       "      <td>0.0</td>\n",
       "      <td>0.0</td>\n",
       "      <td>1.0</td>\n",
       "      <td>0.0</td>\n",
       "      <td>0.0</td>\n",
       "      <td>0.0</td>\n",
       "      <td>0.0</td>\n",
       "      <td>0.0</td>\n",
       "    </tr>\n",
       "  </tbody>\n",
       "</table>\n",
       "</div>"
      ],
      "text/plain": [
       "   index    ID  Education  Marital_Status    Income  NumDealsPurchases  \\\n",
       "0      0  5524          1               1  0.288195           0.348738   \n",
       "1      1  2174          1               1 -0.262715          -0.168700   \n",
       "2      2  4141          1               0  0.917627          -0.686137   \n",
       "3      3  6182          1               0 -1.182829          -0.168700   \n",
       "4      4  5324          3               0  0.295435           1.383614   \n",
       "\n",
       "       Kids  Days_Enrolled  Total_Spend  CouponsAccepted  Total_Purchases  \\\n",
       "0 -1.264308       1.529793     1.680176         0.620456         1.312080   \n",
       "1  1.395139      -1.191143    -0.962202        -0.501987        -1.186198   \n",
       "2 -1.264308      -0.206659     0.282541        -0.501987         1.034493   \n",
       "3  0.065416      -1.062517    -0.918994        -0.501987        -0.908611   \n",
       "4  0.065416      -0.953679    -0.305762        -0.501987         0.201734   \n",
       "\n",
       "   Recency_    0    1    2    3    4    5    6    7    8    9   10   11   12  \\\n",
       "0  0.306856  0.0  0.0  0.0  0.0  1.0  0.0  0.0  0.0  0.0  0.0  0.0  0.0  0.0   \n",
       "1 -0.383971  0.0  0.0  0.0  0.0  1.0  0.0  0.0  0.0  0.0  0.0  0.0  0.0  0.0   \n",
       "2 -0.798467  0.0  0.0  0.0  1.0  0.0  0.0  0.0  0.0  0.0  0.0  0.0  0.0  0.0   \n",
       "3 -0.798467  0.0  1.0  0.0  0.0  0.0  0.0  0.0  0.0  0.0  0.0  0.0  0.0  0.0   \n",
       "4  1.550344  0.0  0.0  1.0  0.0  0.0  0.0  0.0  0.0  0.0  0.0  0.0  0.0  0.0   \n",
       "\n",
       "    13   14   15   16   17   18   19   20   21   22   23   24   25   26   27  \\\n",
       "0  0.0  0.0  0.0  0.0  0.0  0.0  0.0  0.0  0.0  0.0  0.0  0.0  0.0  0.0  0.0   \n",
       "1  0.0  0.0  0.0  0.0  0.0  0.0  0.0  0.0  0.0  0.0  0.0  0.0  0.0  0.0  0.0   \n",
       "2  0.0  0.0  0.0  0.0  0.0  0.0  0.0  0.0  0.0  0.0  0.0  0.0  0.0  0.0  0.0   \n",
       "3  0.0  0.0  0.0  0.0  0.0  0.0  0.0  0.0  0.0  0.0  0.0  0.0  0.0  0.0  0.0   \n",
       "4  0.0  0.0  0.0  0.0  0.0  0.0  0.0  0.0  0.0  0.0  0.0  0.0  0.0  0.0  0.0   \n",
       "\n",
       "    28   29   30   31   32   33   34   35   36   37   38   39   40   41   42  \\\n",
       "0  0.0  0.0  0.0  0.0  0.0  0.0  0.0  0.0  0.0  0.0  0.0  0.0  0.0  0.0  0.0   \n",
       "1  0.0  0.0  0.0  0.0  0.0  0.0  0.0  0.0  0.0  0.0  0.0  0.0  0.0  0.0  0.0   \n",
       "2  0.0  0.0  0.0  0.0  1.0  0.0  0.0  0.0  0.0  0.0  0.0  0.0  0.0  0.0  0.0   \n",
       "3  0.0  0.0  0.0  0.0  1.0  0.0  0.0  0.0  0.0  0.0  0.0  0.0  0.0  0.0  0.0   \n",
       "4  0.0  0.0  0.0  0.0  0.0  0.0  0.0  0.0  0.0  0.0  0.0  0.0  0.0  0.0  0.0   \n",
       "\n",
       "    43   44   45   46   47   48   49   50   51   52   53   54   55   56   57  \\\n",
       "0  0.0  0.0  0.0  0.0  0.0  0.0  0.0  0.0  0.0  0.0  0.0  0.0  0.0  0.0  0.0   \n",
       "1  0.0  1.0  0.0  0.0  0.0  0.0  0.0  0.0  0.0  0.0  0.0  0.0  0.0  0.0  0.0   \n",
       "2  0.0  0.0  0.0  0.0  0.0  0.0  0.0  0.0  0.0  0.0  0.0  0.0  0.0  0.0  0.0   \n",
       "3  0.0  0.0  0.0  0.0  0.0  0.0  0.0  0.0  0.0  0.0  0.0  0.0  0.0  0.0  0.0   \n",
       "4  0.0  0.0  0.0  0.0  0.0  0.0  0.0  0.0  0.0  0.0  0.0  0.0  0.0  0.0  0.0   \n",
       "\n",
       "    58   59   60   61   62   63   64   65   66   67   68   69   70   71   72  \\\n",
       "0  0.0  0.0  0.0  0.0  0.0  0.0  1.0  0.0  0.0  0.0  0.0  0.0  0.0  0.0  0.0   \n",
       "1  0.0  0.0  0.0  0.0  0.0  0.0  0.0  0.0  0.0  0.0  0.0  0.0  0.0  0.0  0.0   \n",
       "2  0.0  0.0  0.0  0.0  0.0  0.0  0.0  0.0  0.0  0.0  0.0  0.0  0.0  0.0  0.0   \n",
       "3  0.0  0.0  0.0  0.0  0.0  0.0  0.0  0.0  0.0  0.0  0.0  0.0  0.0  0.0  0.0   \n",
       "4  0.0  0.0  0.0  0.0  0.0  0.0  0.0  0.0  0.0  0.0  0.0  0.0  0.0  0.0  0.0   \n",
       "\n",
       "    73   74   75   76   77   78   79   80   81   82   83   84   85   86   87  \\\n",
       "0  0.0  0.0  0.0  0.0  0.0  0.0  0.0  0.0  0.0  0.0  0.0  0.0  0.0  0.0  0.0   \n",
       "1  0.0  0.0  0.0  0.0  0.0  0.0  0.0  0.0  0.0  0.0  0.0  0.0  0.0  0.0  0.0   \n",
       "2  0.0  0.0  0.0  0.0  0.0  0.0  0.0  0.0  0.0  0.0  0.0  0.0  0.0  0.0  0.0   \n",
       "3  0.0  0.0  0.0  0.0  0.0  0.0  0.0  0.0  0.0  0.0  0.0  0.0  0.0  0.0  0.0   \n",
       "4  0.0  0.0  0.0  0.0  0.0  0.0  0.0  0.0  0.0  0.0  0.0  0.0  0.0  0.0  0.0   \n",
       "\n",
       "    88   89   90   91   92   93   94   95   96   97   98   99  100  101  102  \\\n",
       "0  0.0  0.0  0.0  0.0  0.0  0.0  0.0  0.0  0.0  0.0  0.0  0.0  0.0  0.0  0.0   \n",
       "1  0.0  0.0  0.0  0.0  0.0  0.0  0.0  0.0  0.0  0.0  0.0  0.0  0.0  0.0  0.0   \n",
       "2  0.0  0.0  0.0  0.0  0.0  0.0  0.0  0.0  0.0  0.0  0.0  0.0  0.0  0.0  0.0   \n",
       "3  0.0  0.0  0.0  0.0  0.0  0.0  0.0  0.0  0.0  0.0  0.0  0.0  0.0  0.0  0.0   \n",
       "4  0.0  0.0  0.0  0.0  0.0  0.0  0.0  0.0  0.0  0.0  0.0  0.0  1.0  0.0  0.0   \n",
       "\n",
       "   103  104  105  \n",
       "0  0.0  0.0  0.0  \n",
       "1  0.0  0.0  0.0  \n",
       "2  0.0  0.0  0.0  \n",
       "3  0.0  0.0  0.0  \n",
       "4  0.0  0.0  0.0  "
      ]
     },
     "execution_count": 356,
     "metadata": {},
     "output_type": "execute_result"
    }
   ],
   "source": [
    "label_encoder = LabelEncoder()\n",
    "for col in obj_col:\n",
    "    df[col] = label_encoder.fit_transform(df[col])\n",
    "df.head()"
   ]
  },
  {
   "cell_type": "code",
   "execution_count": 357,
   "metadata": {},
   "outputs": [
    {
     "data": {
      "text/html": [
       "<div>\n",
       "<style scoped>\n",
       "    .dataframe tbody tr th:only-of-type {\n",
       "        vertical-align: middle;\n",
       "    }\n",
       "\n",
       "    .dataframe tbody tr th {\n",
       "        vertical-align: top;\n",
       "    }\n",
       "\n",
       "    .dataframe thead th {\n",
       "        text-align: right;\n",
       "    }\n",
       "</style>\n",
       "<table border=\"1\" class=\"dataframe\">\n",
       "  <thead>\n",
       "    <tr style=\"text-align: right;\">\n",
       "      <th></th>\n",
       "      <th>Education</th>\n",
       "      <th>Marital_Status</th>\n",
       "      <th>Income</th>\n",
       "      <th>NumDealsPurchases</th>\n",
       "      <th>Kids</th>\n",
       "      <th>Days_Enrolled</th>\n",
       "      <th>Total_Spend</th>\n",
       "      <th>CouponsAccepted</th>\n",
       "      <th>Total_Purchases</th>\n",
       "      <th>Recency_</th>\n",
       "      <th>0</th>\n",
       "      <th>1</th>\n",
       "      <th>2</th>\n",
       "      <th>3</th>\n",
       "      <th>4</th>\n",
       "      <th>5</th>\n",
       "      <th>6</th>\n",
       "      <th>7</th>\n",
       "      <th>8</th>\n",
       "      <th>9</th>\n",
       "      <th>10</th>\n",
       "      <th>11</th>\n",
       "      <th>12</th>\n",
       "      <th>13</th>\n",
       "      <th>14</th>\n",
       "      <th>15</th>\n",
       "      <th>16</th>\n",
       "      <th>17</th>\n",
       "      <th>18</th>\n",
       "      <th>19</th>\n",
       "      <th>20</th>\n",
       "      <th>21</th>\n",
       "      <th>22</th>\n",
       "      <th>23</th>\n",
       "      <th>24</th>\n",
       "      <th>25</th>\n",
       "      <th>26</th>\n",
       "      <th>27</th>\n",
       "      <th>28</th>\n",
       "      <th>29</th>\n",
       "      <th>30</th>\n",
       "      <th>31</th>\n",
       "      <th>32</th>\n",
       "      <th>33</th>\n",
       "      <th>34</th>\n",
       "      <th>35</th>\n",
       "      <th>36</th>\n",
       "      <th>37</th>\n",
       "      <th>38</th>\n",
       "      <th>39</th>\n",
       "      <th>40</th>\n",
       "      <th>41</th>\n",
       "      <th>42</th>\n",
       "      <th>43</th>\n",
       "      <th>44</th>\n",
       "      <th>45</th>\n",
       "      <th>46</th>\n",
       "      <th>47</th>\n",
       "      <th>48</th>\n",
       "      <th>49</th>\n",
       "      <th>50</th>\n",
       "      <th>51</th>\n",
       "      <th>52</th>\n",
       "      <th>53</th>\n",
       "      <th>54</th>\n",
       "      <th>55</th>\n",
       "      <th>56</th>\n",
       "      <th>57</th>\n",
       "      <th>58</th>\n",
       "      <th>59</th>\n",
       "      <th>60</th>\n",
       "      <th>61</th>\n",
       "      <th>62</th>\n",
       "      <th>63</th>\n",
       "      <th>64</th>\n",
       "      <th>65</th>\n",
       "      <th>66</th>\n",
       "      <th>67</th>\n",
       "      <th>68</th>\n",
       "      <th>69</th>\n",
       "      <th>70</th>\n",
       "      <th>71</th>\n",
       "      <th>72</th>\n",
       "      <th>73</th>\n",
       "      <th>74</th>\n",
       "      <th>75</th>\n",
       "      <th>76</th>\n",
       "      <th>77</th>\n",
       "      <th>78</th>\n",
       "      <th>79</th>\n",
       "      <th>80</th>\n",
       "      <th>81</th>\n",
       "      <th>82</th>\n",
       "      <th>83</th>\n",
       "      <th>84</th>\n",
       "      <th>85</th>\n",
       "      <th>86</th>\n",
       "      <th>87</th>\n",
       "      <th>88</th>\n",
       "      <th>89</th>\n",
       "      <th>90</th>\n",
       "      <th>91</th>\n",
       "      <th>92</th>\n",
       "      <th>93</th>\n",
       "      <th>94</th>\n",
       "      <th>95</th>\n",
       "      <th>96</th>\n",
       "      <th>97</th>\n",
       "      <th>98</th>\n",
       "      <th>99</th>\n",
       "      <th>100</th>\n",
       "      <th>101</th>\n",
       "      <th>102</th>\n",
       "      <th>103</th>\n",
       "      <th>104</th>\n",
       "      <th>105</th>\n",
       "    </tr>\n",
       "    <tr>\n",
       "      <th>ID</th>\n",
       "      <th></th>\n",
       "      <th></th>\n",
       "      <th></th>\n",
       "      <th></th>\n",
       "      <th></th>\n",
       "      <th></th>\n",
       "      <th></th>\n",
       "      <th></th>\n",
       "      <th></th>\n",
       "      <th></th>\n",
       "      <th></th>\n",
       "      <th></th>\n",
       "      <th></th>\n",
       "      <th></th>\n",
       "      <th></th>\n",
       "      <th></th>\n",
       "      <th></th>\n",
       "      <th></th>\n",
       "      <th></th>\n",
       "      <th></th>\n",
       "      <th></th>\n",
       "      <th></th>\n",
       "      <th></th>\n",
       "      <th></th>\n",
       "      <th></th>\n",
       "      <th></th>\n",
       "      <th></th>\n",
       "      <th></th>\n",
       "      <th></th>\n",
       "      <th></th>\n",
       "      <th></th>\n",
       "      <th></th>\n",
       "      <th></th>\n",
       "      <th></th>\n",
       "      <th></th>\n",
       "      <th></th>\n",
       "      <th></th>\n",
       "      <th></th>\n",
       "      <th></th>\n",
       "      <th></th>\n",
       "      <th></th>\n",
       "      <th></th>\n",
       "      <th></th>\n",
       "      <th></th>\n",
       "      <th></th>\n",
       "      <th></th>\n",
       "      <th></th>\n",
       "      <th></th>\n",
       "      <th></th>\n",
       "      <th></th>\n",
       "      <th></th>\n",
       "      <th></th>\n",
       "      <th></th>\n",
       "      <th></th>\n",
       "      <th></th>\n",
       "      <th></th>\n",
       "      <th></th>\n",
       "      <th></th>\n",
       "      <th></th>\n",
       "      <th></th>\n",
       "      <th></th>\n",
       "      <th></th>\n",
       "      <th></th>\n",
       "      <th></th>\n",
       "      <th></th>\n",
       "      <th></th>\n",
       "      <th></th>\n",
       "      <th></th>\n",
       "      <th></th>\n",
       "      <th></th>\n",
       "      <th></th>\n",
       "      <th></th>\n",
       "      <th></th>\n",
       "      <th></th>\n",
       "      <th></th>\n",
       "      <th></th>\n",
       "      <th></th>\n",
       "      <th></th>\n",
       "      <th></th>\n",
       "      <th></th>\n",
       "      <th></th>\n",
       "      <th></th>\n",
       "      <th></th>\n",
       "      <th></th>\n",
       "      <th></th>\n",
       "      <th></th>\n",
       "      <th></th>\n",
       "      <th></th>\n",
       "      <th></th>\n",
       "      <th></th>\n",
       "      <th></th>\n",
       "      <th></th>\n",
       "      <th></th>\n",
       "      <th></th>\n",
       "      <th></th>\n",
       "      <th></th>\n",
       "      <th></th>\n",
       "      <th></th>\n",
       "      <th></th>\n",
       "      <th></th>\n",
       "      <th></th>\n",
       "      <th></th>\n",
       "      <th></th>\n",
       "      <th></th>\n",
       "      <th></th>\n",
       "      <th></th>\n",
       "      <th></th>\n",
       "      <th></th>\n",
       "      <th></th>\n",
       "      <th></th>\n",
       "      <th></th>\n",
       "      <th></th>\n",
       "      <th></th>\n",
       "      <th></th>\n",
       "      <th></th>\n",
       "      <th></th>\n",
       "    </tr>\n",
       "  </thead>\n",
       "  <tbody>\n",
       "    <tr>\n",
       "      <th>5524</th>\n",
       "      <td>1</td>\n",
       "      <td>1</td>\n",
       "      <td>0.288195</td>\n",
       "      <td>0.348738</td>\n",
       "      <td>-1.264308</td>\n",
       "      <td>1.529793</td>\n",
       "      <td>1.680176</td>\n",
       "      <td>0.620456</td>\n",
       "      <td>1.312080</td>\n",
       "      <td>0.306856</td>\n",
       "      <td>0.0</td>\n",
       "      <td>0.0</td>\n",
       "      <td>0.0</td>\n",
       "      <td>0.0</td>\n",
       "      <td>1.0</td>\n",
       "      <td>0.0</td>\n",
       "      <td>0.0</td>\n",
       "      <td>0.0</td>\n",
       "      <td>0.0</td>\n",
       "      <td>0.0</td>\n",
       "      <td>0.0</td>\n",
       "      <td>0.0</td>\n",
       "      <td>0.0</td>\n",
       "      <td>0.0</td>\n",
       "      <td>0.0</td>\n",
       "      <td>0.0</td>\n",
       "      <td>0.0</td>\n",
       "      <td>0.0</td>\n",
       "      <td>0.0</td>\n",
       "      <td>0.0</td>\n",
       "      <td>0.0</td>\n",
       "      <td>0.0</td>\n",
       "      <td>0.0</td>\n",
       "      <td>0.0</td>\n",
       "      <td>0.0</td>\n",
       "      <td>0.0</td>\n",
       "      <td>0.0</td>\n",
       "      <td>0.0</td>\n",
       "      <td>0.0</td>\n",
       "      <td>0.0</td>\n",
       "      <td>0.0</td>\n",
       "      <td>0.0</td>\n",
       "      <td>0.0</td>\n",
       "      <td>0.0</td>\n",
       "      <td>0.0</td>\n",
       "      <td>0.0</td>\n",
       "      <td>0.0</td>\n",
       "      <td>0.0</td>\n",
       "      <td>0.0</td>\n",
       "      <td>0.0</td>\n",
       "      <td>0.0</td>\n",
       "      <td>0.0</td>\n",
       "      <td>0.0</td>\n",
       "      <td>0.0</td>\n",
       "      <td>0.0</td>\n",
       "      <td>0.0</td>\n",
       "      <td>0.0</td>\n",
       "      <td>0.0</td>\n",
       "      <td>0.0</td>\n",
       "      <td>0.0</td>\n",
       "      <td>0.0</td>\n",
       "      <td>0.0</td>\n",
       "      <td>0.0</td>\n",
       "      <td>0.0</td>\n",
       "      <td>0.0</td>\n",
       "      <td>0.0</td>\n",
       "      <td>0.0</td>\n",
       "      <td>0.0</td>\n",
       "      <td>0.0</td>\n",
       "      <td>0.0</td>\n",
       "      <td>0.0</td>\n",
       "      <td>0.0</td>\n",
       "      <td>0.0</td>\n",
       "      <td>0.0</td>\n",
       "      <td>1.0</td>\n",
       "      <td>0.0</td>\n",
       "      <td>0.0</td>\n",
       "      <td>0.0</td>\n",
       "      <td>0.0</td>\n",
       "      <td>0.0</td>\n",
       "      <td>0.0</td>\n",
       "      <td>0.0</td>\n",
       "      <td>0.0</td>\n",
       "      <td>0.0</td>\n",
       "      <td>0.0</td>\n",
       "      <td>0.0</td>\n",
       "      <td>0.0</td>\n",
       "      <td>0.0</td>\n",
       "      <td>0.0</td>\n",
       "      <td>0.0</td>\n",
       "      <td>0.0</td>\n",
       "      <td>0.0</td>\n",
       "      <td>0.0</td>\n",
       "      <td>0.0</td>\n",
       "      <td>0.0</td>\n",
       "      <td>0.0</td>\n",
       "      <td>0.0</td>\n",
       "      <td>0.0</td>\n",
       "      <td>0.0</td>\n",
       "      <td>0.0</td>\n",
       "      <td>0.0</td>\n",
       "      <td>0.0</td>\n",
       "      <td>0.0</td>\n",
       "      <td>0.0</td>\n",
       "      <td>0.0</td>\n",
       "      <td>0.0</td>\n",
       "      <td>0.0</td>\n",
       "      <td>0.0</td>\n",
       "      <td>0.0</td>\n",
       "      <td>0.0</td>\n",
       "      <td>0.0</td>\n",
       "      <td>0.0</td>\n",
       "      <td>0.0</td>\n",
       "      <td>0.0</td>\n",
       "      <td>0.0</td>\n",
       "      <td>0.0</td>\n",
       "    </tr>\n",
       "    <tr>\n",
       "      <th>2174</th>\n",
       "      <td>1</td>\n",
       "      <td>1</td>\n",
       "      <td>-0.262715</td>\n",
       "      <td>-0.168700</td>\n",
       "      <td>1.395139</td>\n",
       "      <td>-1.191143</td>\n",
       "      <td>-0.962202</td>\n",
       "      <td>-0.501987</td>\n",
       "      <td>-1.186198</td>\n",
       "      <td>-0.383971</td>\n",
       "      <td>0.0</td>\n",
       "      <td>0.0</td>\n",
       "      <td>0.0</td>\n",
       "      <td>0.0</td>\n",
       "      <td>1.0</td>\n",
       "      <td>0.0</td>\n",
       "      <td>0.0</td>\n",
       "      <td>0.0</td>\n",
       "      <td>0.0</td>\n",
       "      <td>0.0</td>\n",
       "      <td>0.0</td>\n",
       "      <td>0.0</td>\n",
       "      <td>0.0</td>\n",
       "      <td>0.0</td>\n",
       "      <td>0.0</td>\n",
       "      <td>0.0</td>\n",
       "      <td>0.0</td>\n",
       "      <td>0.0</td>\n",
       "      <td>0.0</td>\n",
       "      <td>0.0</td>\n",
       "      <td>0.0</td>\n",
       "      <td>0.0</td>\n",
       "      <td>0.0</td>\n",
       "      <td>0.0</td>\n",
       "      <td>0.0</td>\n",
       "      <td>0.0</td>\n",
       "      <td>0.0</td>\n",
       "      <td>0.0</td>\n",
       "      <td>0.0</td>\n",
       "      <td>0.0</td>\n",
       "      <td>0.0</td>\n",
       "      <td>0.0</td>\n",
       "      <td>0.0</td>\n",
       "      <td>0.0</td>\n",
       "      <td>0.0</td>\n",
       "      <td>0.0</td>\n",
       "      <td>0.0</td>\n",
       "      <td>0.0</td>\n",
       "      <td>0.0</td>\n",
       "      <td>0.0</td>\n",
       "      <td>0.0</td>\n",
       "      <td>0.0</td>\n",
       "      <td>0.0</td>\n",
       "      <td>0.0</td>\n",
       "      <td>1.0</td>\n",
       "      <td>0.0</td>\n",
       "      <td>0.0</td>\n",
       "      <td>0.0</td>\n",
       "      <td>0.0</td>\n",
       "      <td>0.0</td>\n",
       "      <td>0.0</td>\n",
       "      <td>0.0</td>\n",
       "      <td>0.0</td>\n",
       "      <td>0.0</td>\n",
       "      <td>0.0</td>\n",
       "      <td>0.0</td>\n",
       "      <td>0.0</td>\n",
       "      <td>0.0</td>\n",
       "      <td>0.0</td>\n",
       "      <td>0.0</td>\n",
       "      <td>0.0</td>\n",
       "      <td>0.0</td>\n",
       "      <td>0.0</td>\n",
       "      <td>0.0</td>\n",
       "      <td>0.0</td>\n",
       "      <td>0.0</td>\n",
       "      <td>0.0</td>\n",
       "      <td>0.0</td>\n",
       "      <td>0.0</td>\n",
       "      <td>0.0</td>\n",
       "      <td>0.0</td>\n",
       "      <td>0.0</td>\n",
       "      <td>0.0</td>\n",
       "      <td>0.0</td>\n",
       "      <td>0.0</td>\n",
       "      <td>0.0</td>\n",
       "      <td>0.0</td>\n",
       "      <td>0.0</td>\n",
       "      <td>0.0</td>\n",
       "      <td>0.0</td>\n",
       "      <td>0.0</td>\n",
       "      <td>0.0</td>\n",
       "      <td>0.0</td>\n",
       "      <td>0.0</td>\n",
       "      <td>0.0</td>\n",
       "      <td>0.0</td>\n",
       "      <td>0.0</td>\n",
       "      <td>0.0</td>\n",
       "      <td>0.0</td>\n",
       "      <td>0.0</td>\n",
       "      <td>0.0</td>\n",
       "      <td>0.0</td>\n",
       "      <td>0.0</td>\n",
       "      <td>0.0</td>\n",
       "      <td>0.0</td>\n",
       "      <td>0.0</td>\n",
       "      <td>0.0</td>\n",
       "      <td>0.0</td>\n",
       "      <td>0.0</td>\n",
       "      <td>0.0</td>\n",
       "      <td>0.0</td>\n",
       "      <td>0.0</td>\n",
       "      <td>0.0</td>\n",
       "      <td>0.0</td>\n",
       "      <td>0.0</td>\n",
       "      <td>0.0</td>\n",
       "    </tr>\n",
       "    <tr>\n",
       "      <th>4141</th>\n",
       "      <td>1</td>\n",
       "      <td>0</td>\n",
       "      <td>0.917627</td>\n",
       "      <td>-0.686137</td>\n",
       "      <td>-1.264308</td>\n",
       "      <td>-0.206659</td>\n",
       "      <td>0.282541</td>\n",
       "      <td>-0.501987</td>\n",
       "      <td>1.034493</td>\n",
       "      <td>-0.798467</td>\n",
       "      <td>0.0</td>\n",
       "      <td>0.0</td>\n",
       "      <td>0.0</td>\n",
       "      <td>1.0</td>\n",
       "      <td>0.0</td>\n",
       "      <td>0.0</td>\n",
       "      <td>0.0</td>\n",
       "      <td>0.0</td>\n",
       "      <td>0.0</td>\n",
       "      <td>0.0</td>\n",
       "      <td>0.0</td>\n",
       "      <td>0.0</td>\n",
       "      <td>0.0</td>\n",
       "      <td>0.0</td>\n",
       "      <td>0.0</td>\n",
       "      <td>0.0</td>\n",
       "      <td>0.0</td>\n",
       "      <td>0.0</td>\n",
       "      <td>0.0</td>\n",
       "      <td>0.0</td>\n",
       "      <td>0.0</td>\n",
       "      <td>0.0</td>\n",
       "      <td>0.0</td>\n",
       "      <td>0.0</td>\n",
       "      <td>0.0</td>\n",
       "      <td>0.0</td>\n",
       "      <td>0.0</td>\n",
       "      <td>0.0</td>\n",
       "      <td>0.0</td>\n",
       "      <td>0.0</td>\n",
       "      <td>0.0</td>\n",
       "      <td>0.0</td>\n",
       "      <td>1.0</td>\n",
       "      <td>0.0</td>\n",
       "      <td>0.0</td>\n",
       "      <td>0.0</td>\n",
       "      <td>0.0</td>\n",
       "      <td>0.0</td>\n",
       "      <td>0.0</td>\n",
       "      <td>0.0</td>\n",
       "      <td>0.0</td>\n",
       "      <td>0.0</td>\n",
       "      <td>0.0</td>\n",
       "      <td>0.0</td>\n",
       "      <td>0.0</td>\n",
       "      <td>0.0</td>\n",
       "      <td>0.0</td>\n",
       "      <td>0.0</td>\n",
       "      <td>0.0</td>\n",
       "      <td>0.0</td>\n",
       "      <td>0.0</td>\n",
       "      <td>0.0</td>\n",
       "      <td>0.0</td>\n",
       "      <td>0.0</td>\n",
       "      <td>0.0</td>\n",
       "      <td>0.0</td>\n",
       "      <td>0.0</td>\n",
       "      <td>0.0</td>\n",
       "      <td>0.0</td>\n",
       "      <td>0.0</td>\n",
       "      <td>0.0</td>\n",
       "      <td>0.0</td>\n",
       "      <td>0.0</td>\n",
       "      <td>0.0</td>\n",
       "      <td>0.0</td>\n",
       "      <td>0.0</td>\n",
       "      <td>0.0</td>\n",
       "      <td>0.0</td>\n",
       "      <td>0.0</td>\n",
       "      <td>0.0</td>\n",
       "      <td>0.0</td>\n",
       "      <td>0.0</td>\n",
       "      <td>0.0</td>\n",
       "      <td>0.0</td>\n",
       "      <td>0.0</td>\n",
       "      <td>0.0</td>\n",
       "      <td>0.0</td>\n",
       "      <td>0.0</td>\n",
       "      <td>0.0</td>\n",
       "      <td>0.0</td>\n",
       "      <td>0.0</td>\n",
       "      <td>0.0</td>\n",
       "      <td>0.0</td>\n",
       "      <td>0.0</td>\n",
       "      <td>0.0</td>\n",
       "      <td>0.0</td>\n",
       "      <td>0.0</td>\n",
       "      <td>0.0</td>\n",
       "      <td>0.0</td>\n",
       "      <td>0.0</td>\n",
       "      <td>0.0</td>\n",
       "      <td>0.0</td>\n",
       "      <td>0.0</td>\n",
       "      <td>0.0</td>\n",
       "      <td>0.0</td>\n",
       "      <td>0.0</td>\n",
       "      <td>0.0</td>\n",
       "      <td>0.0</td>\n",
       "      <td>0.0</td>\n",
       "      <td>0.0</td>\n",
       "      <td>0.0</td>\n",
       "      <td>0.0</td>\n",
       "      <td>0.0</td>\n",
       "      <td>0.0</td>\n",
       "      <td>0.0</td>\n",
       "      <td>0.0</td>\n",
       "    </tr>\n",
       "    <tr>\n",
       "      <th>6182</th>\n",
       "      <td>1</td>\n",
       "      <td>0</td>\n",
       "      <td>-1.182829</td>\n",
       "      <td>-0.168700</td>\n",
       "      <td>0.065416</td>\n",
       "      <td>-1.062517</td>\n",
       "      <td>-0.918994</td>\n",
       "      <td>-0.501987</td>\n",
       "      <td>-0.908611</td>\n",
       "      <td>-0.798467</td>\n",
       "      <td>0.0</td>\n",
       "      <td>1.0</td>\n",
       "      <td>0.0</td>\n",
       "      <td>0.0</td>\n",
       "      <td>0.0</td>\n",
       "      <td>0.0</td>\n",
       "      <td>0.0</td>\n",
       "      <td>0.0</td>\n",
       "      <td>0.0</td>\n",
       "      <td>0.0</td>\n",
       "      <td>0.0</td>\n",
       "      <td>0.0</td>\n",
       "      <td>0.0</td>\n",
       "      <td>0.0</td>\n",
       "      <td>0.0</td>\n",
       "      <td>0.0</td>\n",
       "      <td>0.0</td>\n",
       "      <td>0.0</td>\n",
       "      <td>0.0</td>\n",
       "      <td>0.0</td>\n",
       "      <td>0.0</td>\n",
       "      <td>0.0</td>\n",
       "      <td>0.0</td>\n",
       "      <td>0.0</td>\n",
       "      <td>0.0</td>\n",
       "      <td>0.0</td>\n",
       "      <td>0.0</td>\n",
       "      <td>0.0</td>\n",
       "      <td>0.0</td>\n",
       "      <td>0.0</td>\n",
       "      <td>0.0</td>\n",
       "      <td>0.0</td>\n",
       "      <td>1.0</td>\n",
       "      <td>0.0</td>\n",
       "      <td>0.0</td>\n",
       "      <td>0.0</td>\n",
       "      <td>0.0</td>\n",
       "      <td>0.0</td>\n",
       "      <td>0.0</td>\n",
       "      <td>0.0</td>\n",
       "      <td>0.0</td>\n",
       "      <td>0.0</td>\n",
       "      <td>0.0</td>\n",
       "      <td>0.0</td>\n",
       "      <td>0.0</td>\n",
       "      <td>0.0</td>\n",
       "      <td>0.0</td>\n",
       "      <td>0.0</td>\n",
       "      <td>0.0</td>\n",
       "      <td>0.0</td>\n",
       "      <td>0.0</td>\n",
       "      <td>0.0</td>\n",
       "      <td>0.0</td>\n",
       "      <td>0.0</td>\n",
       "      <td>0.0</td>\n",
       "      <td>0.0</td>\n",
       "      <td>0.0</td>\n",
       "      <td>0.0</td>\n",
       "      <td>0.0</td>\n",
       "      <td>0.0</td>\n",
       "      <td>0.0</td>\n",
       "      <td>0.0</td>\n",
       "      <td>0.0</td>\n",
       "      <td>0.0</td>\n",
       "      <td>0.0</td>\n",
       "      <td>0.0</td>\n",
       "      <td>0.0</td>\n",
       "      <td>0.0</td>\n",
       "      <td>0.0</td>\n",
       "      <td>0.0</td>\n",
       "      <td>0.0</td>\n",
       "      <td>0.0</td>\n",
       "      <td>0.0</td>\n",
       "      <td>0.0</td>\n",
       "      <td>0.0</td>\n",
       "      <td>0.0</td>\n",
       "      <td>0.0</td>\n",
       "      <td>0.0</td>\n",
       "      <td>0.0</td>\n",
       "      <td>0.0</td>\n",
       "      <td>0.0</td>\n",
       "      <td>0.0</td>\n",
       "      <td>0.0</td>\n",
       "      <td>0.0</td>\n",
       "      <td>0.0</td>\n",
       "      <td>0.0</td>\n",
       "      <td>0.0</td>\n",
       "      <td>0.0</td>\n",
       "      <td>0.0</td>\n",
       "      <td>0.0</td>\n",
       "      <td>0.0</td>\n",
       "      <td>0.0</td>\n",
       "      <td>0.0</td>\n",
       "      <td>0.0</td>\n",
       "      <td>0.0</td>\n",
       "      <td>0.0</td>\n",
       "      <td>0.0</td>\n",
       "      <td>0.0</td>\n",
       "      <td>0.0</td>\n",
       "      <td>0.0</td>\n",
       "      <td>0.0</td>\n",
       "      <td>0.0</td>\n",
       "      <td>0.0</td>\n",
       "      <td>0.0</td>\n",
       "      <td>0.0</td>\n",
       "      <td>0.0</td>\n",
       "    </tr>\n",
       "    <tr>\n",
       "      <th>5324</th>\n",
       "      <td>3</td>\n",
       "      <td>0</td>\n",
       "      <td>0.295435</td>\n",
       "      <td>1.383614</td>\n",
       "      <td>0.065416</td>\n",
       "      <td>-0.953679</td>\n",
       "      <td>-0.305762</td>\n",
       "      <td>-0.501987</td>\n",
       "      <td>0.201734</td>\n",
       "      <td>1.550344</td>\n",
       "      <td>0.0</td>\n",
       "      <td>0.0</td>\n",
       "      <td>1.0</td>\n",
       "      <td>0.0</td>\n",
       "      <td>0.0</td>\n",
       "      <td>0.0</td>\n",
       "      <td>0.0</td>\n",
       "      <td>0.0</td>\n",
       "      <td>0.0</td>\n",
       "      <td>0.0</td>\n",
       "      <td>0.0</td>\n",
       "      <td>0.0</td>\n",
       "      <td>0.0</td>\n",
       "      <td>0.0</td>\n",
       "      <td>0.0</td>\n",
       "      <td>0.0</td>\n",
       "      <td>0.0</td>\n",
       "      <td>0.0</td>\n",
       "      <td>0.0</td>\n",
       "      <td>0.0</td>\n",
       "      <td>0.0</td>\n",
       "      <td>0.0</td>\n",
       "      <td>0.0</td>\n",
       "      <td>0.0</td>\n",
       "      <td>0.0</td>\n",
       "      <td>0.0</td>\n",
       "      <td>0.0</td>\n",
       "      <td>0.0</td>\n",
       "      <td>0.0</td>\n",
       "      <td>0.0</td>\n",
       "      <td>0.0</td>\n",
       "      <td>0.0</td>\n",
       "      <td>0.0</td>\n",
       "      <td>0.0</td>\n",
       "      <td>0.0</td>\n",
       "      <td>0.0</td>\n",
       "      <td>0.0</td>\n",
       "      <td>0.0</td>\n",
       "      <td>0.0</td>\n",
       "      <td>0.0</td>\n",
       "      <td>0.0</td>\n",
       "      <td>0.0</td>\n",
       "      <td>0.0</td>\n",
       "      <td>0.0</td>\n",
       "      <td>0.0</td>\n",
       "      <td>0.0</td>\n",
       "      <td>0.0</td>\n",
       "      <td>0.0</td>\n",
       "      <td>0.0</td>\n",
       "      <td>0.0</td>\n",
       "      <td>0.0</td>\n",
       "      <td>0.0</td>\n",
       "      <td>0.0</td>\n",
       "      <td>0.0</td>\n",
       "      <td>0.0</td>\n",
       "      <td>0.0</td>\n",
       "      <td>0.0</td>\n",
       "      <td>0.0</td>\n",
       "      <td>0.0</td>\n",
       "      <td>0.0</td>\n",
       "      <td>0.0</td>\n",
       "      <td>0.0</td>\n",
       "      <td>0.0</td>\n",
       "      <td>0.0</td>\n",
       "      <td>0.0</td>\n",
       "      <td>0.0</td>\n",
       "      <td>0.0</td>\n",
       "      <td>0.0</td>\n",
       "      <td>0.0</td>\n",
       "      <td>0.0</td>\n",
       "      <td>0.0</td>\n",
       "      <td>0.0</td>\n",
       "      <td>0.0</td>\n",
       "      <td>0.0</td>\n",
       "      <td>0.0</td>\n",
       "      <td>0.0</td>\n",
       "      <td>0.0</td>\n",
       "      <td>0.0</td>\n",
       "      <td>0.0</td>\n",
       "      <td>0.0</td>\n",
       "      <td>0.0</td>\n",
       "      <td>0.0</td>\n",
       "      <td>0.0</td>\n",
       "      <td>0.0</td>\n",
       "      <td>0.0</td>\n",
       "      <td>0.0</td>\n",
       "      <td>0.0</td>\n",
       "      <td>0.0</td>\n",
       "      <td>0.0</td>\n",
       "      <td>0.0</td>\n",
       "      <td>0.0</td>\n",
       "      <td>0.0</td>\n",
       "      <td>0.0</td>\n",
       "      <td>0.0</td>\n",
       "      <td>0.0</td>\n",
       "      <td>0.0</td>\n",
       "      <td>0.0</td>\n",
       "      <td>0.0</td>\n",
       "      <td>0.0</td>\n",
       "      <td>0.0</td>\n",
       "      <td>1.0</td>\n",
       "      <td>0.0</td>\n",
       "      <td>0.0</td>\n",
       "      <td>0.0</td>\n",
       "      <td>0.0</td>\n",
       "      <td>0.0</td>\n",
       "    </tr>\n",
       "  </tbody>\n",
       "</table>\n",
       "</div>"
      ],
      "text/plain": [
       "      Education  Marital_Status    Income  NumDealsPurchases      Kids  \\\n",
       "ID                                                                       \n",
       "5524          1               1  0.288195           0.348738 -1.264308   \n",
       "2174          1               1 -0.262715          -0.168700  1.395139   \n",
       "4141          1               0  0.917627          -0.686137 -1.264308   \n",
       "6182          1               0 -1.182829          -0.168700  0.065416   \n",
       "5324          3               0  0.295435           1.383614  0.065416   \n",
       "\n",
       "      Days_Enrolled  Total_Spend  CouponsAccepted  Total_Purchases  Recency_  \\\n",
       "ID                                                                             \n",
       "5524       1.529793     1.680176         0.620456         1.312080  0.306856   \n",
       "2174      -1.191143    -0.962202        -0.501987        -1.186198 -0.383971   \n",
       "4141      -0.206659     0.282541        -0.501987         1.034493 -0.798467   \n",
       "6182      -1.062517    -0.918994        -0.501987        -0.908611 -0.798467   \n",
       "5324      -0.953679    -0.305762        -0.501987         0.201734  1.550344   \n",
       "\n",
       "        0    1    2    3    4    5    6    7    8    9   10   11   12   13  \\\n",
       "ID                                                                           \n",
       "5524  0.0  0.0  0.0  0.0  1.0  0.0  0.0  0.0  0.0  0.0  0.0  0.0  0.0  0.0   \n",
       "2174  0.0  0.0  0.0  0.0  1.0  0.0  0.0  0.0  0.0  0.0  0.0  0.0  0.0  0.0   \n",
       "4141  0.0  0.0  0.0  1.0  0.0  0.0  0.0  0.0  0.0  0.0  0.0  0.0  0.0  0.0   \n",
       "6182  0.0  1.0  0.0  0.0  0.0  0.0  0.0  0.0  0.0  0.0  0.0  0.0  0.0  0.0   \n",
       "5324  0.0  0.0  1.0  0.0  0.0  0.0  0.0  0.0  0.0  0.0  0.0  0.0  0.0  0.0   \n",
       "\n",
       "       14   15   16   17   18   19   20   21   22   23   24   25   26   27  \\\n",
       "ID                                                                           \n",
       "5524  0.0  0.0  0.0  0.0  0.0  0.0  0.0  0.0  0.0  0.0  0.0  0.0  0.0  0.0   \n",
       "2174  0.0  0.0  0.0  0.0  0.0  0.0  0.0  0.0  0.0  0.0  0.0  0.0  0.0  0.0   \n",
       "4141  0.0  0.0  0.0  0.0  0.0  0.0  0.0  0.0  0.0  0.0  0.0  0.0  0.0  0.0   \n",
       "6182  0.0  0.0  0.0  0.0  0.0  0.0  0.0  0.0  0.0  0.0  0.0  0.0  0.0  0.0   \n",
       "5324  0.0  0.0  0.0  0.0  0.0  0.0  0.0  0.0  0.0  0.0  0.0  0.0  0.0  0.0   \n",
       "\n",
       "       28   29   30   31   32   33   34   35   36   37   38   39   40   41  \\\n",
       "ID                                                                           \n",
       "5524  0.0  0.0  0.0  0.0  0.0  0.0  0.0  0.0  0.0  0.0  0.0  0.0  0.0  0.0   \n",
       "2174  0.0  0.0  0.0  0.0  0.0  0.0  0.0  0.0  0.0  0.0  0.0  0.0  0.0  0.0   \n",
       "4141  0.0  0.0  0.0  0.0  1.0  0.0  0.0  0.0  0.0  0.0  0.0  0.0  0.0  0.0   \n",
       "6182  0.0  0.0  0.0  0.0  1.0  0.0  0.0  0.0  0.0  0.0  0.0  0.0  0.0  0.0   \n",
       "5324  0.0  0.0  0.0  0.0  0.0  0.0  0.0  0.0  0.0  0.0  0.0  0.0  0.0  0.0   \n",
       "\n",
       "       42   43   44   45   46   47   48   49   50   51   52   53   54   55  \\\n",
       "ID                                                                           \n",
       "5524  0.0  0.0  0.0  0.0  0.0  0.0  0.0  0.0  0.0  0.0  0.0  0.0  0.0  0.0   \n",
       "2174  0.0  0.0  1.0  0.0  0.0  0.0  0.0  0.0  0.0  0.0  0.0  0.0  0.0  0.0   \n",
       "4141  0.0  0.0  0.0  0.0  0.0  0.0  0.0  0.0  0.0  0.0  0.0  0.0  0.0  0.0   \n",
       "6182  0.0  0.0  0.0  0.0  0.0  0.0  0.0  0.0  0.0  0.0  0.0  0.0  0.0  0.0   \n",
       "5324  0.0  0.0  0.0  0.0  0.0  0.0  0.0  0.0  0.0  0.0  0.0  0.0  0.0  0.0   \n",
       "\n",
       "       56   57   58   59   60   61   62   63   64   65   66   67   68   69  \\\n",
       "ID                                                                           \n",
       "5524  0.0  0.0  0.0  0.0  0.0  0.0  0.0  0.0  1.0  0.0  0.0  0.0  0.0  0.0   \n",
       "2174  0.0  0.0  0.0  0.0  0.0  0.0  0.0  0.0  0.0  0.0  0.0  0.0  0.0  0.0   \n",
       "4141  0.0  0.0  0.0  0.0  0.0  0.0  0.0  0.0  0.0  0.0  0.0  0.0  0.0  0.0   \n",
       "6182  0.0  0.0  0.0  0.0  0.0  0.0  0.0  0.0  0.0  0.0  0.0  0.0  0.0  0.0   \n",
       "5324  0.0  0.0  0.0  0.0  0.0  0.0  0.0  0.0  0.0  0.0  0.0  0.0  0.0  0.0   \n",
       "\n",
       "       70   71   72   73   74   75   76   77   78   79   80   81   82   83  \\\n",
       "ID                                                                           \n",
       "5524  0.0  0.0  0.0  0.0  0.0  0.0  0.0  0.0  0.0  0.0  0.0  0.0  0.0  0.0   \n",
       "2174  0.0  0.0  0.0  0.0  0.0  0.0  0.0  0.0  0.0  0.0  0.0  0.0  0.0  0.0   \n",
       "4141  0.0  0.0  0.0  0.0  0.0  0.0  0.0  0.0  0.0  0.0  0.0  0.0  0.0  0.0   \n",
       "6182  0.0  0.0  0.0  0.0  0.0  0.0  0.0  0.0  0.0  0.0  0.0  0.0  0.0  0.0   \n",
       "5324  0.0  0.0  0.0  0.0  0.0  0.0  0.0  0.0  0.0  0.0  0.0  0.0  0.0  0.0   \n",
       "\n",
       "       84   85   86   87   88   89   90   91   92   93   94   95   96   97  \\\n",
       "ID                                                                           \n",
       "5524  0.0  0.0  0.0  0.0  0.0  0.0  0.0  0.0  0.0  0.0  0.0  0.0  0.0  0.0   \n",
       "2174  0.0  0.0  0.0  0.0  0.0  0.0  0.0  0.0  0.0  0.0  0.0  0.0  0.0  0.0   \n",
       "4141  0.0  0.0  0.0  0.0  0.0  0.0  0.0  0.0  0.0  0.0  0.0  0.0  0.0  0.0   \n",
       "6182  0.0  0.0  0.0  0.0  0.0  0.0  0.0  0.0  0.0  0.0  0.0  0.0  0.0  0.0   \n",
       "5324  0.0  0.0  0.0  0.0  0.0  0.0  0.0  0.0  0.0  0.0  0.0  0.0  0.0  0.0   \n",
       "\n",
       "       98   99  100  101  102  103  104  105  \n",
       "ID                                            \n",
       "5524  0.0  0.0  0.0  0.0  0.0  0.0  0.0  0.0  \n",
       "2174  0.0  0.0  0.0  0.0  0.0  0.0  0.0  0.0  \n",
       "4141  0.0  0.0  0.0  0.0  0.0  0.0  0.0  0.0  \n",
       "6182  0.0  0.0  0.0  0.0  0.0  0.0  0.0  0.0  \n",
       "5324  0.0  0.0  1.0  0.0  0.0  0.0  0.0  0.0  "
      ]
     },
     "execution_count": 357,
     "metadata": {},
     "output_type": "execute_result"
    }
   ],
   "source": [
    "df.drop(columns=[df.columns[0]], inplace=True)\n",
    "df.set_index('ID', inplace=True)\n",
    "\n",
    "df.head()"
   ]
  },
  {
   "cell_type": "code",
   "execution_count": 358,
   "metadata": {},
   "outputs": [
    {
     "data": {
      "image/png": "[encoded data removed]",
      "text/plain": [
       "<Figure size 800x550 with 2 Axes>"
      ]
     },
     "metadata": {},
     "output_type": "display_data"
    },
    {
     "data": {
      "text/plain": [
       "<AxesSubplot: title={'center': 'Distortion Score Elbow for KMeans Clustering'}, xlabel='k', ylabel='distortion score'>"
      ]
     },
     "execution_count": 358,
     "metadata": {},
     "output_type": "execute_result"
    }
   ],
   "source": [
    "df.columns = df.columns.astype(str)\n",
    "model = KMeans(init = 'k-means++')\n",
    "visualizer = KElbowVisualizer(model, k = 10, random_state = 42)\n",
    "\n",
    "visualizer.fit(df)\n",
    "visualizer.show()"
   ]
  },
  {
   "cell_type": "code",
   "execution_count": 359,
   "metadata": {},
   "outputs": [],
   "source": [
    "kmeans = KMeans(n_clusters = 4, random_state=42).fit(df)\n",
    "pred = kmeans.predict(df)\n",
    "df['Cluster'] = pred+1\n",
    "df = df.reset_index('ID')\n",
    "\n",
    "data = pd.read_csv('../DataOut.csv')\n",
    "data = pd.merge(data, df[['ID', 'Cluster']], how='left')\n",
    "\n",
    "\n",
    "\n",
    "data.head()\n",
    "data.to_csv('dataOutWithClusters')"
   ]
  },
  {
   "cell_type": "code",
   "execution_count": 360,
   "metadata": {},
   "outputs": [
    {
     "data": {
      "text/html": [
       "<div>\n",
       "<style scoped>\n",
       "    .dataframe tbody tr th:only-of-type {\n",
       "        vertical-align: middle;\n",
       "    }\n",
       "\n",
       "    .dataframe tbody tr th {\n",
       "        vertical-align: top;\n",
       "    }\n",
       "\n",
       "    .dataframe thead th {\n",
       "        text-align: right;\n",
       "    }\n",
       "</style>\n",
       "<table border=\"1\" class=\"dataframe\">\n",
       "  <thead>\n",
       "    <tr style=\"text-align: right;\">\n",
       "      <th></th>\n",
       "      <th>ID</th>\n",
       "      <th>Education</th>\n",
       "      <th>Marital_Status</th>\n",
       "      <th>Income</th>\n",
       "      <th>NumDealsPurchases</th>\n",
       "      <th>Age</th>\n",
       "      <th>Kids</th>\n",
       "      <th>Days_Enrolled</th>\n",
       "      <th>Total_Spend</th>\n",
       "      <th>CouponsAccepted</th>\n",
       "      <th>Total_Purchases</th>\n",
       "      <th>Recency_</th>\n",
       "      <th>Cluster</th>\n",
       "    </tr>\n",
       "  </thead>\n",
       "  <tbody>\n",
       "    <tr>\n",
       "      <th>0</th>\n",
       "      <td>5524</td>\n",
       "      <td>Graduation</td>\n",
       "      <td>Single</td>\n",
       "      <td>58138.0</td>\n",
       "      <td>3</td>\n",
       "      <td>(60, 70]</td>\n",
       "      <td>0</td>\n",
       "      <td>663</td>\n",
       "      <td>1617</td>\n",
       "      <td>1</td>\n",
       "      <td>22</td>\n",
       "      <td>4.142857</td>\n",
       "      <td>Cluster 3</td>\n",
       "    </tr>\n",
       "    <tr>\n",
       "      <th>1</th>\n",
       "      <td>2174</td>\n",
       "      <td>Graduation</td>\n",
       "      <td>Single</td>\n",
       "      <td>46344.0</td>\n",
       "      <td>2</td>\n",
       "      <td>(60, 70]</td>\n",
       "      <td>2</td>\n",
       "      <td>113</td>\n",
       "      <td>27</td>\n",
       "      <td>0</td>\n",
       "      <td>4</td>\n",
       "      <td>2.714286</td>\n",
       "      <td>Cluster 1</td>\n",
       "    </tr>\n",
       "    <tr>\n",
       "      <th>2</th>\n",
       "      <td>4141</td>\n",
       "      <td>Graduation</td>\n",
       "      <td>Relationship</td>\n",
       "      <td>71613.0</td>\n",
       "      <td>1</td>\n",
       "      <td>(50, 60]</td>\n",
       "      <td>0</td>\n",
       "      <td>312</td>\n",
       "      <td>776</td>\n",
       "      <td>0</td>\n",
       "      <td>20</td>\n",
       "      <td>1.857143</td>\n",
       "      <td>Cluster 3</td>\n",
       "    </tr>\n",
       "    <tr>\n",
       "      <th>3</th>\n",
       "      <td>6182</td>\n",
       "      <td>Graduation</td>\n",
       "      <td>Relationship</td>\n",
       "      <td>26646.0</td>\n",
       "      <td>2</td>\n",
       "      <td>(30,40]</td>\n",
       "      <td>1</td>\n",
       "      <td>139</td>\n",
       "      <td>53</td>\n",
       "      <td>0</td>\n",
       "      <td>6</td>\n",
       "      <td>1.857143</td>\n",
       "      <td>Cluster 1</td>\n",
       "    </tr>\n",
       "    <tr>\n",
       "      <th>4</th>\n",
       "      <td>5324</td>\n",
       "      <td>PhD</td>\n",
       "      <td>Relationship</td>\n",
       "      <td>58293.0</td>\n",
       "      <td>5</td>\n",
       "      <td>(40,50]</td>\n",
       "      <td>1</td>\n",
       "      <td>161</td>\n",
       "      <td>422</td>\n",
       "      <td>0</td>\n",
       "      <td>14</td>\n",
       "      <td>6.714286</td>\n",
       "      <td>Cluster 2</td>\n",
       "    </tr>\n",
       "  </tbody>\n",
       "</table>\n",
       "</div>"
      ],
      "text/plain": [
       "     ID   Education Marital_Status   Income  NumDealsPurchases       Age  \\\n",
       "0  5524  Graduation         Single  58138.0                  3  (60, 70]   \n",
       "1  2174  Graduation         Single  46344.0                  2  (60, 70]   \n",
       "2  4141  Graduation   Relationship  71613.0                  1  (50, 60]   \n",
       "3  6182  Graduation   Relationship  26646.0                  2   (30,40]   \n",
       "4  5324         PhD   Relationship  58293.0                  5   (40,50]   \n",
       "\n",
       "   Kids  Days_Enrolled  Total_Spend  CouponsAccepted  Total_Purchases  \\\n",
       "0     0            663         1617                1               22   \n",
       "1     2            113           27                0                4   \n",
       "2     0            312          776                0               20   \n",
       "3     1            139           53                0                6   \n",
       "4     1            161          422                0               14   \n",
       "\n",
       "   Recency_    Cluster  \n",
       "0  4.142857  Cluster 3  \n",
       "1  2.714286  Cluster 1  \n",
       "2  1.857143  Cluster 3  \n",
       "3  1.857143  Cluster 1  \n",
       "4  6.714286  Cluster 2  "
      ]
     },
     "execution_count": 360,
     "metadata": {},
     "output_type": "execute_result"
    }
   ],
   "source": [
    "df_ = pd.merge(df_, df[['ID', 'Cluster']], how='left')\n",
    "\n",
    "\n",
    "df_['Cluster'] = df_['Cluster'].astype('str')\n",
    "df_['Cluster'] = np.where(df_['Cluster'] == '1', \"Cluster 1\", np.where(df_['Cluster'] == '2', \"Cluster 2\", np.where(df_['Cluster'] == '3', \"Cluster 3\", \"Cluster 4\")))\n",
    "\n",
    "df_.head()"
   ]
  },
  {
   "cell_type": "code",
   "execution_count": 361,
   "metadata": {},
   "outputs": [
    {
     "data": {
      "application/vnd.plotly.v1+json": {
       "config": {
        "plotlyServerURL": "https://plot.ly"
       },
       "data": [
        {
         "hole": 0.3,
         "labels": [
          "Cluster 1",
          "Cluster 3",
          "Cluster 2",
          "Cluster 4"
         ],
         "type": "pie",
         "values": [
          1026,
          662,
          363,
          185
         ]
        }
       ],
       "layout": {
        "height": 400,
        "template": {
         "data": {
          "bar": [
           {
            "error_x": {
             "color": "#2a3f5f"
            },
            "error_y": {
             "color": "#2a3f5f"
            },
            "marker": {
             "line": {
              "color": "#E5ECF6",
              "width": 0.5
             },
             "pattern": {
              "fillmode": "overlay",
              "size": 10,
              "solidity": 0.2
             }
            },
            "type": "bar"
           }
          ],
          "barpolar": [
           {
            "marker": {
             "line": {
              "color": "#E5ECF6",
              "width": 0.5
             },
             "pattern": {
              "fillmode": "overlay",
              "size": 10,
              "solidity": 0.2
             }
            },
            "type": "barpolar"
           }
          ],
          "carpet": [
           {
            "aaxis": {
             "endlinecolor": "#2a3f5f",
             "gridcolor": "white",
             "linecolor": "white",
             "minorgridcolor": "white",
             "startlinecolor": "#2a3f5f"
            },
            "baxis": {
             "endlinecolor": "#2a3f5f",
             "gridcolor": "white",
             "linecolor": "white",
             "minorgridcolor": "white",
             "startlinecolor": "#2a3f5f"
            },
            "type": "carpet"
           }
          ],
          "choropleth": [
           {
            "colorbar": {
             "outlinewidth": 0,
             "ticks": ""
            },
            "type": "choropleth"
           }
          ],
          "contour": [
           {
            "colorbar": {
             "outlinewidth": 0,
             "ticks": ""
            },
            "colorscale": [
             [
              0,
              "#0d0887"
             ],
             [
              0.1111111111111111,
              "#46039f"
             ],
             [
              0.2222222222222222,
              "#7201a8"
             ],
             [
              0.3333333333333333,
              "#9c179e"
             ],
             [
              0.4444444444444444,
              "#bd3786"
             ],
             [
              0.5555555555555556,
              "#d8576b"
             ],
             [
              0.6666666666666666,
              "#ed7953"
             ],
             [
              0.7777777777777778,
              "#fb9f3a"
             ],
             [
              0.8888888888888888,
              "#fdca26"
             ],
             [
              1,
              "#f0f921"
             ]
            ],
            "type": "contour"
           }
          ],
          "contourcarpet": [
           {
            "colorbar": {
             "outlinewidth": 0,
             "ticks": ""
            },
            "type": "contourcarpet"
           }
          ],
          "heatmap": [
           {
            "colorbar": {
             "outlinewidth": 0,
             "ticks": ""
            },
            "colorscale": [
             [
              0,
              "#0d0887"
             ],
             [
              0.1111111111111111,
              "#46039f"
             ],
             [
              0.2222222222222222,
              "#7201a8"
             ],
             [
              0.3333333333333333,
              "#9c179e"
             ],
             [
              0.4444444444444444,
              "#bd3786"
             ],
             [
              0.5555555555555556,
              "#d8576b"
             ],
             [
              0.6666666666666666,
              "#ed7953"
             ],
             [
              0.7777777777777778,
              "#fb9f3a"
             ],
             [
              0.8888888888888888,
              "#fdca26"
             ],
             [
              1,
              "#f0f921"
             ]
            ],
            "type": "heatmap"
           }
          ],
          "heatmapgl": [
           {
            "colorbar": {
             "outlinewidth": 0,
             "ticks": ""
            },
            "colorscale": [
             [
              0,
              "#0d0887"
             ],
             [
              0.1111111111111111,
              "#46039f"
             ],
             [
              0.2222222222222222,
              "#7201a8"
             ],
             [
              0.3333333333333333,
              "#9c179e"
             ],
             [
              0.4444444444444444,
              "#bd3786"
             ],
             [
              0.5555555555555556,
              "#d8576b"
             ],
             [
              0.6666666666666666,
              "#ed7953"
             ],
             [
              0.7777777777777778,
              "#fb9f3a"
             ],
             [
              0.8888888888888888,
              "#fdca26"
             ],
             [
              1,
              "#f0f921"
             ]
            ],
            "type": "heatmapgl"
           }
          ],
          "histogram": [
           {
            "marker": {
             "pattern": {
              "fillmode": "overlay",
              "size": 10,
              "solidity": 0.2
             }
            },
            "type": "histogram"
           }
          ],
          "histogram2d": [
           {
            "colorbar": {
             "outlinewidth": 0,
             "ticks": ""
            },
            "colorscale": [
             [
              0,
              "#0d0887"
             ],
             [
              0.1111111111111111,
              "#46039f"
             ],
             [
              0.2222222222222222,
              "#7201a8"
             ],
             [
              0.3333333333333333,
              "#9c179e"
             ],
             [
              0.4444444444444444,
              "#bd3786"
             ],
             [
              0.5555555555555556,
              "#d8576b"
             ],
             [
              0.6666666666666666,
              "#ed7953"
             ],
             [
              0.7777777777777778,
              "#fb9f3a"
             ],
             [
              0.8888888888888888,
              "#fdca26"
             ],
             [
              1,
              "#f0f921"
             ]
            ],
            "type": "histogram2d"
           }
          ],
          "histogram2dcontour": [
           {
            "colorbar": {
             "outlinewidth": 0,
             "ticks": ""
            },
            "colorscale": [
             [
              0,
              "#0d0887"
             ],
             [
              0.1111111111111111,
              "#46039f"
             ],
             [
              0.2222222222222222,
              "#7201a8"
             ],
             [
              0.3333333333333333,
              "#9c179e"
             ],
             [
              0.4444444444444444,
              "#bd3786"
             ],
             [
              0.5555555555555556,
              "#d8576b"
             ],
             [
              0.6666666666666666,
              "#ed7953"
             ],
             [
              0.7777777777777778,
              "#fb9f3a"
             ],
             [
              0.8888888888888888,
              "#fdca26"
             ],
             [
              1,
              "#f0f921"
             ]
            ],
            "type": "histogram2dcontour"
           }
          ],
          "mesh3d": [
           {
            "colorbar": {
             "outlinewidth": 0,
             "ticks": ""
            },
            "type": "mesh3d"
           }
          ],
          "parcoords": [
           {
            "line": {
             "colorbar": {
              "outlinewidth": 0,
              "ticks": ""
             }
            },
            "type": "parcoords"
           }
          ],
          "pie": [
           {
            "automargin": true,
            "type": "pie"
           }
          ],
          "scatter": [
           {
            "fillpattern": {
             "fillmode": "overlay",
             "size": 10,
             "solidity": 0.2
            },
            "type": "scatter"
           }
          ],
          "scatter3d": [
           {
            "line": {
             "colorbar": {
              "outlinewidth": 0,
              "ticks": ""
             }
            },
            "marker": {
             "colorbar": {
              "outlinewidth": 0,
              "ticks": ""
             }
            },
            "type": "scatter3d"
           }
          ],
          "scattercarpet": [
           {
            "marker": {
             "colorbar": {
              "outlinewidth": 0,
              "ticks": ""
             }
            },
            "type": "scattercarpet"
           }
          ],
          "scattergeo": [
           {
            "marker": {
             "colorbar": {
              "outlinewidth": 0,
              "ticks": ""
             }
            },
            "type": "scattergeo"
           }
          ],
          "scattergl": [
           {
            "marker": {
             "colorbar": {
              "outlinewidth": 0,
              "ticks": ""
             }
            },
            "type": "scattergl"
           }
          ],
          "scattermapbox": [
           {
            "marker": {
             "colorbar": {
              "outlinewidth": 0,
              "ticks": ""
             }
            },
            "type": "scattermapbox"
           }
          ],
          "scatterpolar": [
           {
            "marker": {
             "colorbar": {
              "outlinewidth": 0,
              "ticks": ""
             }
            },
            "type": "scatterpolar"
           }
          ],
          "scatterpolargl": [
           {
            "marker": {
             "colorbar": {
              "outlinewidth": 0,
              "ticks": ""
             }
            },
            "type": "scatterpolargl"
           }
          ],
          "scatterternary": [
           {
            "marker": {
             "colorbar": {
              "outlinewidth": 0,
              "ticks": ""
             }
            },
            "type": "scatterternary"
           }
          ],
          "surface": [
           {
            "colorbar": {
             "outlinewidth": 0,
             "ticks": ""
            },
            "colorscale": [
             [
              0,
              "#0d0887"
             ],
             [
              0.1111111111111111,
              "#46039f"
             ],
             [
              0.2222222222222222,
              "#7201a8"
             ],
             [
              0.3333333333333333,
              "#9c179e"
             ],
             [
              0.4444444444444444,
              "#bd3786"
             ],
             [
              0.5555555555555556,
              "#d8576b"
             ],
             [
              0.6666666666666666,
              "#ed7953"
             ],
             [
              0.7777777777777778,
              "#fb9f3a"
             ],
             [
              0.8888888888888888,
              "#fdca26"
             ],
             [
              1,
              "#f0f921"
             ]
            ],
            "type": "surface"
           }
          ],
          "table": [
           {
            "cells": {
             "fill": {
              "color": "#EBF0F8"
             },
             "line": {
              "color": "white"
             }
            },
            "header": {
             "fill": {
              "color": "#C8D4E3"
             },
             "line": {
              "color": "white"
             }
            },
            "type": "table"
           }
          ]
         },
         "layout": {
          "annotationdefaults": {
           "arrowcolor": "#2a3f5f",
           "arrowhead": 0,
           "arrowwidth": 1
          },
          "autotypenumbers": "strict",
          "coloraxis": {
           "colorbar": {
            "outlinewidth": 0,
            "ticks": ""
           }
          },
          "colorscale": {
           "diverging": [
            [
             0,
             "#8e0152"
            ],
            [
             0.1,
             "#c51b7d"
            ],
            [
             0.2,
             "#de77ae"
            ],
            [
             0.3,
             "#f1b6da"
            ],
            [
             0.4,
             "#fde0ef"
            ],
            [
             0.5,
             "#f7f7f7"
            ],
            [
             0.6,
             "#e6f5d0"
            ],
            [
             0.7,
             "#b8e186"
            ],
            [
             0.8,
             "#7fbc41"
            ],
            [
             0.9,
             "#4d9221"
            ],
            [
             1,
             "#276419"
            ]
           ],
           "sequential": [
            [
             0,
             "#0d0887"
            ],
            [
             0.1111111111111111,
             "#46039f"
            ],
            [
             0.2222222222222222,
             "#7201a8"
            ],
            [
             0.3333333333333333,
             "#9c179e"
            ],
            [
             0.4444444444444444,
             "#bd3786"
            ],
            [
             0.5555555555555556,
             "#d8576b"
            ],
            [
             0.6666666666666666,
             "#ed7953"
            ],
            [
             0.7777777777777778,
             "#fb9f3a"
            ],
            [
             0.8888888888888888,
             "#fdca26"
            ],
            [
             1,
             "#f0f921"
            ]
           ],
           "sequentialminus": [
            [
             0,
             "#0d0887"
            ],
            [
             0.1111111111111111,
             "#46039f"
            ],
            [
             0.2222222222222222,
             "#7201a8"
            ],
            [
             0.3333333333333333,
             "#9c179e"
            ],
            [
             0.4444444444444444,
             "#bd3786"
            ],
            [
             0.5555555555555556,
             "#d8576b"
            ],
            [
             0.6666666666666666,
             "#ed7953"
            ],
            [
             0.7777777777777778,
             "#fb9f3a"
            ],
            [
             0.8888888888888888,
             "#fdca26"
            ],
            [
             1,
             "#f0f921"
            ]
           ]
          },
          "colorway": [
           "#636efa",
           "#EF553B",
           "#00cc96",
           "#ab63fa",
           "#FFA15A",
           "#19d3f3",
           "#FF6692",
           "#B6E880",
           "#FF97FF",
           "#FECB52"
          ],
          "font": {
           "color": "#2a3f5f"
          },
          "geo": {
           "bgcolor": "white",
           "lakecolor": "white",
           "landcolor": "#E5ECF6",
           "showlakes": true,
           "showland": true,
           "subunitcolor": "white"
          },
          "hoverlabel": {
           "align": "left"
          },
          "hovermode": "closest",
          "mapbox": {
           "style": "light"
          },
          "paper_bgcolor": "white",
          "plot_bgcolor": "#E5ECF6",
          "polar": {
           "angularaxis": {
            "gridcolor": "white",
            "linecolor": "white",
            "ticks": ""
           },
           "bgcolor": "#E5ECF6",
           "radialaxis": {
            "gridcolor": "white",
            "linecolor": "white",
            "ticks": ""
           }
          },
          "scene": {
           "xaxis": {
            "backgroundcolor": "#E5ECF6",
            "gridcolor": "white",
            "gridwidth": 2,
            "linecolor": "white",
            "showbackground": true,
            "ticks": "",
            "zerolinecolor": "white"
           },
           "yaxis": {
            "backgroundcolor": "#E5ECF6",
            "gridcolor": "white",
            "gridwidth": 2,
            "linecolor": "white",
            "showbackground": true,
            "ticks": "",
            "zerolinecolor": "white"
           },
           "zaxis": {
            "backgroundcolor": "#E5ECF6",
            "gridcolor": "white",
            "gridwidth": 2,
            "linecolor": "white",
            "showbackground": true,
            "ticks": "",
            "zerolinecolor": "white"
           }
          },
          "shapedefaults": {
           "line": {
            "color": "#2a3f5f"
           }
          },
          "ternary": {
           "aaxis": {
            "gridcolor": "white",
            "linecolor": "white",
            "ticks": ""
           },
           "baxis": {
            "gridcolor": "white",
            "linecolor": "white",
            "ticks": ""
           },
           "bgcolor": "#E5ECF6",
           "caxis": {
            "gridcolor": "white",
            "linecolor": "white",
            "ticks": ""
           }
          },
          "title": {
           "x": 0.05
          },
          "xaxis": {
           "automargin": true,
           "gridcolor": "white",
           "linecolor": "white",
           "ticks": "",
           "title": {
            "standoff": 15
           },
           "zerolinecolor": "white",
           "zerolinewidth": 2
          },
          "yaxis": {
           "automargin": true,
           "gridcolor": "white",
           "linecolor": "white",
           "ticks": "",
           "title": {
            "standoff": 15
           },
           "zerolinecolor": "white",
           "zerolinewidth": 2
          }
         }
        },
        "title": {
         "text": "Cluster"
        },
        "width": 800
       }
      }
     },
     "metadata": {},
     "output_type": "display_data"
    }
   ],
   "source": [
    "df_Edu = pd.DataFrame(df_['Cluster'].value_counts()).reset_index()\n",
    "df_Edu.columns = ['Cluster', 'Count']\n",
    "\n",
    "fig = go.Figure(data=[go.Pie(labels=df_Edu['Cluster'], values=df_Edu['Count'], hole=.3)])\n",
    "fig.update_layout(width=800, height=400, title='Cluster')\n",
    "fig.show()"
   ]
  },
  {
   "cell_type": "code",
   "execution_count": 362,
   "metadata": {},
   "outputs": [
    {
     "data": {
      "application/vnd.plotly.v1+json": {
       "config": {
        "plotlyServerURL": "https://plot.ly"
       },
       "data": [
        {
         "customdata": [
          [
           "Cluster 3"
          ],
          [
           "Cluster 3"
          ],
          [
           "Cluster 3"
          ],
          [
           "Cluster 3"
          ],
          [
           "Cluster 3"
          ],
          [
           "Cluster 3"
          ],
          [
           "Cluster 3"
          ],
          [
           "Cluster 3"
          ],
          [
           "Cluster 3"
          ],
          [
           "Cluster 3"
          ],
          [
           "Cluster 3"
          ],
          [
           "Cluster 3"
          ],
          [
           "Cluster 3"
          ],
          [
           "Cluster 3"
          ],
          [
           "Cluster 3"
          ],
          [
           "Cluster 3"
          ],
          [
           "Cluster 3"
          ],
          [
           "Cluster 3"
          ],
          [
           "Cluster 3"
          ],
          [
           "Cluster 3"
          ],
          [
           "Cluster 3"
          ],
          [
           "Cluster 3"
          ],
          [
           "Cluster 3"
          ],
          [
           "Cluster 3"
          ],
          [
           "Cluster 3"
          ],
          [
           "Cluster 3"
          ],
          [
           "Cluster 3"
          ],
          [
           "Cluster 3"
          ],
          [
           "Cluster 3"
          ],
          [
           "Cluster 3"
          ],
          [
           "Cluster 3"
          ],
          [
           "Cluster 3"
          ],
          [
           "Cluster 3"
          ],
          [
           "Cluster 3"
          ],
          [
           "Cluster 3"
          ],
          [
           "Cluster 3"
          ],
          [
           "Cluster 3"
          ],
          [
           "Cluster 3"
          ],
          [
           "Cluster 3"
          ],
          [
           "Cluster 3"
          ],
          [
           "Cluster 3"
          ],
          [
           "Cluster 3"
          ],
          [
           "Cluster 3"
          ],
          [
           "Cluster 3"
          ],
          [
           "Cluster 3"
          ],
          [
           "Cluster 3"
          ],
          [
           "Cluster 3"
          ],
          [
           "Cluster 3"
          ],
          [
           "Cluster 3"
          ],
          [
           "Cluster 3"
          ],
          [
           "Cluster 3"
          ],
          [
           "Cluster 3"
          ],
          [
           "Cluster 3"
          ],
          [
           "Cluster 3"
          ],
          [
           "Cluster 3"
          ],
          [
           "Cluster 3"
          ],
          [
           "Cluster 3"
          ],
          [
           "Cluster 3"
          ],
          [
           "Cluster 3"
          ],
          [
           "Cluster 3"
          ],
          [
           "Cluster 3"
          ],
          [
           "Cluster 3"
          ],
          [
           "Cluster 3"
          ],
          [
           "Cluster 3"
          ],
          [
           "Cluster 3"
          ],
          [
           "Cluster 3"
          ],
          [
           "Cluster 3"
          ],
          [
           "Cluster 3"
          ],
          [
           "Cluster 3"
          ],
          [
           "Cluster 3"
          ],
          [
           "Cluster 3"
          ],
          [
           "Cluster 3"
          ],
          [
           "Cluster 3"
          ],
          [
           "Cluster 3"
          ],
          [
           "Cluster 3"
          ],
          [
           "Cluster 3"
          ],
          [
           "Cluster 3"
          ],
          [
           "Cluster 3"
          ],
          [
           "Cluster 3"
          ],
          [
           "Cluster 3"
          ],
          [
           "Cluster 3"
          ],
          [
           "Cluster 3"
          ],
          [
           "Cluster 3"
          ],
          [
           "Cluster 3"
          ],
          [
           "Cluster 3"
          ],
          [
           "Cluster 3"
          ],
          [
           "Cluster 3"
          ],
          [
           "Cluster 3"
          ],
          [
           "Cluster 3"
          ],
          [
           "Cluster 3"
          ],
          [
           "Cluster 3"
          ],
          [
           "Cluster 3"
          ],
          [
           "Cluster 3"
          ],
          [
           "Cluster 3"
          ],
          [
           "Cluster 3"
          ],
          [
           "Cluster 3"
          ],
          [
           "Cluster 3"
          ],
          [
           "Cluster 3"
          ],
          [
           "Cluster 3"
          ],
          [
           "Cluster 3"
          ],
          [
           "Cluster 3"
          ],
          [
           "Cluster 3"
          ],
          [
           "Cluster 3"
          ],
          [
           "Cluster 3"
          ],
          [
           "Cluster 3"
          ],
          [
           "Cluster 3"
          ],
          [
           "Cluster 3"
          ],
          [
           "Cluster 3"
          ],
          [
           "Cluster 3"
          ],
          [
           "Cluster 3"
          ],
          [
           "Cluster 3"
          ],
          [
           "Cluster 3"
          ],
          [
           "Cluster 3"
          ],
          [
           "Cluster 3"
          ],
          [
           "Cluster 3"
          ],
          [
           "Cluster 3"
          ],
          [
           "Cluster 3"
          ],
          [
           "Cluster 3"
          ],
          [
           "Cluster 3"
          ],
          [
           "Cluster 3"
          ],
          [
           "Cluster 3"
          ],
          [
           "Cluster 3"
          ],
          [
           "Cluster 3"
          ],
          [
           "Cluster 3"
          ],
          [
           "Cluster 3"
          ],
          [
           "Cluster 3"
          ],
          [
           "Cluster 3"
          ],
          [
           "Cluster 3"
          ],
          [
           "Cluster 3"
          ],
          [
           "Cluster 3"
          ],
          [
           "Cluster 3"
          ],
          [
           "Cluster 3"
          ],
          [
           "Cluster 3"
          ],
          [
           "Cluster 3"
          ],
          [
           "Cluster 3"
          ],
          [
           "Cluster 3"
          ],
          [
           "Cluster 3"
          ],
          [
           "Cluster 3"
          ],
          [
           "Cluster 3"
          ],
          [
           "Cluster 3"
          ],
          [
           "Cluster 3"
          ],
          [
           "Cluster 3"
          ],
          [
           "Cluster 3"
          ],
          [
           "Cluster 3"
          ],
          [
           "Cluster 3"
          ],
          [
           "Cluster 3"
          ],
          [
           "Cluster 3"
          ],
          [
           "Cluster 3"
          ],
          [
           "Cluster 3"
          ],
          [
           "Cluster 3"
          ],
          [
           "Cluster 3"
          ],
          [
           "Cluster 3"
          ],
          [
           "Cluster 3"
          ],
          [
           "Cluster 3"
          ],
          [
           "Cluster 3"
          ],
          [
           "Cluster 3"
          ],
          [
           "Cluster 3"
          ],
          [
           "Cluster 3"
          ],
          [
           "Cluster 3"
          ],
          [
           "Cluster 3"
          ],
          [
           "Cluster 3"
          ],
          [
           "Cluster 3"
          ],
          [
           "Cluster 3"
          ],
          [
           "Cluster 3"
          ],
          [
           "Cluster 3"
          ],
          [
           "Cluster 3"
          ],
          [
           "Cluster 3"
          ],
          [
           "Cluster 3"
          ],
          [
           "Cluster 3"
          ],
          [
           "Cluster 3"
          ],
          [
           "Cluster 3"
          ],
          [
           "Cluster 3"
          ],
          [
           "Cluster 3"
          ],
          [
           "Cluster 3"
          ],
          [
           "Cluster 3"
          ],
          [
           "Cluster 3"
          ],
          [
           "Cluster 3"
          ],
          [
           "Cluster 3"
          ],
          [
           "Cluster 3"
          ],
          [
           "Cluster 3"
          ],
          [
           "Cluster 3"
          ],
          [
           "Cluster 3"
          ],
          [
           "Cluster 3"
          ],
          [
           "Cluster 3"
          ],
          [
           "Cluster 3"
          ],
          [
           "Cluster 3"
          ],
          [
           "Cluster 3"
          ],
          [
           "Cluster 3"
          ],
          [
           "Cluster 3"
          ],
          [
           "Cluster 3"
          ],
          [
           "Cluster 3"
          ],
          [
           "Cluster 3"
          ],
          [
           "Cluster 3"
          ],
          [
           "Cluster 3"
          ],
          [
           "Cluster 3"
          ],
          [
           "Cluster 3"
          ],
          [
           "Cluster 3"
          ],
          [
           "Cluster 3"
          ],
          [
           "Cluster 3"
          ],
          [
           "Cluster 3"
          ],
          [
           "Cluster 3"
          ],
          [
           "Cluster 3"
          ],
          [
           "Cluster 3"
          ],
          [
           "Cluster 3"
          ],
          [
           "Cluster 3"
          ],
          [
           "Cluster 3"
          ],
          [
           "Cluster 3"
          ],
          [
           "Cluster 3"
          ],
          [
           "Cluster 3"
          ],
          [
           "Cluster 3"
          ],
          [
           "Cluster 3"
          ],
          [
           "Cluster 3"
          ],
          [
           "Cluster 3"
          ],
          [
           "Cluster 3"
          ],
          [
           "Cluster 3"
          ],
          [
           "Cluster 3"
          ],
          [
           "Cluster 3"
          ],
          [
           "Cluster 3"
          ],
          [
           "Cluster 3"
          ],
          [
           "Cluster 3"
          ],
          [
           "Cluster 3"
          ],
          [
           "Cluster 3"
          ],
          [
           "Cluster 3"
          ],
          [
           "Cluster 3"
          ],
          [
           "Cluster 3"
          ],
          [
           "Cluster 3"
          ],
          [
           "Cluster 3"
          ],
          [
           "Cluster 3"
          ],
          [
           "Cluster 3"
          ],
          [
           "Cluster 3"
          ],
          [
           "Cluster 3"
          ],
          [
           "Cluster 3"
          ],
          [
           "Cluster 3"
          ],
          [
           "Cluster 3"
          ],
          [
           "Cluster 3"
          ],
          [
           "Cluster 3"
          ],
          [
           "Cluster 3"
          ],
          [
           "Cluster 3"
          ],
          [
           "Cluster 3"
          ],
          [
           "Cluster 3"
          ],
          [
           "Cluster 3"
          ],
          [
           "Cluster 3"
          ],
          [
           "Cluster 3"
          ],
          [
           "Cluster 3"
          ],
          [
           "Cluster 3"
          ],
          [
           "Cluster 3"
          ],
          [
           "Cluster 3"
          ],
          [
           "Cluster 3"
          ],
          [
           "Cluster 3"
          ],
          [
           "Cluster 3"
          ],
          [
           "Cluster 3"
          ],
          [
           "Cluster 3"
          ],
          [
           "Cluster 3"
          ],
          [
           "Cluster 3"
          ],
          [
           "Cluster 3"
          ],
          [
           "Cluster 3"
          ],
          [
           "Cluster 3"
          ],
          [
           "Cluster 3"
          ],
          [
           "Cluster 3"
          ],
          [
           "Cluster 3"
          ],
          [
           "Cluster 3"
          ],
          [
           "Cluster 3"
          ],
          [
           "Cluster 3"
          ],
          [
           "Cluster 3"
          ],
          [
           "Cluster 3"
          ],
          [
           "Cluster 3"
          ],
          [
           "Cluster 3"
          ],
          [
           "Cluster 3"
          ],
          [
           "Cluster 3"
          ],
          [
           "Cluster 3"
          ],
          [
           "Cluster 3"
          ],
          [
           "Cluster 3"
          ],
          [
           "Cluster 3"
          ],
          [
           "Cluster 3"
          ],
          [
           "Cluster 3"
          ],
          [
           "Cluster 3"
          ],
          [
           "Cluster 3"
          ],
          [
           "Cluster 3"
          ],
          [
           "Cluster 3"
          ],
          [
           "Cluster 3"
          ],
          [
           "Cluster 3"
          ],
          [
           "Cluster 3"
          ],
          [
           "Cluster 3"
          ],
          [
           "Cluster 3"
          ],
          [
           "Cluster 3"
          ],
          [
           "Cluster 3"
          ],
          [
           "Cluster 3"
          ],
          [
           "Cluster 3"
          ],
          [
           "Cluster 3"
          ],
          [
           "Cluster 3"
          ],
          [
           "Cluster 3"
          ],
          [
           "Cluster 3"
          ],
          [
           "Cluster 3"
          ],
          [
           "Cluster 3"
          ],
          [
           "Cluster 3"
          ],
          [
           "Cluster 3"
          ],
          [
           "Cluster 3"
          ],
          [
           "Cluster 3"
          ],
          [
           "Cluster 3"
          ],
          [
           "Cluster 3"
          ],
          [
           "Cluster 3"
          ],
          [
           "Cluster 3"
          ],
          [
           "Cluster 3"
          ],
          [
           "Cluster 3"
          ],
          [
           "Cluster 3"
          ],
          [
           "Cluster 3"
          ],
          [
           "Cluster 3"
          ],
          [
           "Cluster 3"
          ],
          [
           "Cluster 3"
          ],
          [
           "Cluster 3"
          ],
          [
           "Cluster 3"
          ],
          [
           "Cluster 3"
          ],
          [
           "Cluster 3"
          ],
          [
           "Cluster 3"
          ],
          [
           "Cluster 3"
          ],
          [
           "Cluster 3"
          ],
          [
           "Cluster 3"
          ],
          [
           "Cluster 3"
          ],
          [
           "Cluster 3"
          ],
          [
           "Cluster 3"
          ],
          [
           "Cluster 3"
          ],
          [
           "Cluster 3"
          ],
          [
           "Cluster 3"
          ],
          [
           "Cluster 3"
          ],
          [
           "Cluster 3"
          ],
          [
           "Cluster 3"
          ],
          [
           "Cluster 3"
          ],
          [
           "Cluster 3"
          ],
          [
           "Cluster 3"
          ],
          [
           "Cluster 3"
          ],
          [
           "Cluster 3"
          ],
          [
           "Cluster 3"
          ],
          [
           "Cluster 3"
          ],
          [
           "Cluster 3"
          ],
          [
           "Cluster 3"
          ],
          [
           "Cluster 3"
          ],
          [
           "Cluster 3"
          ],
          [
           "Cluster 3"
          ],
          [
           "Cluster 3"
          ],
          [
           "Cluster 3"
          ],
          [
           "Cluster 3"
          ],
          [
           "Cluster 3"
          ],
          [
           "Cluster 3"
          ],
          [
           "Cluster 3"
          ],
          [
           "Cluster 3"
          ],
          [
           "Cluster 3"
          ],
          [
           "Cluster 3"
          ],
          [
           "Cluster 3"
          ],
          [
           "Cluster 3"
          ],
          [
           "Cluster 3"
          ],
          [
           "Cluster 3"
          ],
          [
           "Cluster 3"
          ],
          [
           "Cluster 3"
          ],
          [
           "Cluster 3"
          ],
          [
           "Cluster 3"
          ],
          [
           "Cluster 3"
          ],
          [
           "Cluster 3"
          ],
          [
           "Cluster 3"
          ],
          [
           "Cluster 3"
          ],
          [
           "Cluster 3"
          ],
          [
           "Cluster 3"
          ],
          [
           "Cluster 3"
          ],
          [
           "Cluster 3"
          ],
          [
           "Cluster 3"
          ],
          [
           "Cluster 3"
          ],
          [
           "Cluster 3"
          ],
          [
           "Cluster 3"
          ],
          [
           "Cluster 3"
          ],
          [
           "Cluster 3"
          ],
          [
           "Cluster 3"
          ],
          [
           "Cluster 3"
          ],
          [
           "Cluster 3"
          ],
          [
           "Cluster 3"
          ],
          [
           "Cluster 3"
          ],
          [
           "Cluster 3"
          ],
          [
           "Cluster 3"
          ],
          [
           "Cluster 3"
          ],
          [
           "Cluster 3"
          ],
          [
           "Cluster 3"
          ],
          [
           "Cluster 3"
          ],
          [
           "Cluster 3"
          ],
          [
           "Cluster 3"
          ],
          [
           "Cluster 3"
          ],
          [
           "Cluster 3"
          ],
          [
           "Cluster 3"
          ],
          [
           "Cluster 3"
          ],
          [
           "Cluster 3"
          ],
          [
           "Cluster 3"
          ],
          [
           "Cluster 3"
          ],
          [
           "Cluster 3"
          ],
          [
           "Cluster 3"
          ],
          [
           "Cluster 3"
          ],
          [
           "Cluster 3"
          ],
          [
           "Cluster 3"
          ],
          [
           "Cluster 3"
          ],
          [
           "Cluster 3"
          ],
          [
           "Cluster 3"
          ],
          [
           "Cluster 3"
          ],
          [
           "Cluster 3"
          ],
          [
           "Cluster 3"
          ],
          [
           "Cluster 3"
          ],
          [
           "Cluster 3"
          ],
          [
           "Cluster 3"
          ],
          [
           "Cluster 3"
          ],
          [
           "Cluster 3"
          ],
          [
           "Cluster 3"
          ],
          [
           "Cluster 3"
          ],
          [
           "Cluster 3"
          ],
          [
           "Cluster 3"
          ],
          [
           "Cluster 3"
          ],
          [
           "Cluster 3"
          ],
          [
           "Cluster 3"
          ],
          [
           "Cluster 3"
          ],
          [
           "Cluster 3"
          ],
          [
           "Cluster 3"
          ],
          [
           "Cluster 3"
          ],
          [
           "Cluster 3"
          ],
          [
           "Cluster 3"
          ],
          [
           "Cluster 3"
          ],
          [
           "Cluster 3"
          ],
          [
           "Cluster 3"
          ],
          [
           "Cluster 3"
          ],
          [
           "Cluster 3"
          ],
          [
           "Cluster 3"
          ],
          [
           "Cluster 3"
          ],
          [
           "Cluster 3"
          ],
          [
           "Cluster 3"
          ],
          [
           "Cluster 3"
          ],
          [
           "Cluster 3"
          ],
          [
           "Cluster 3"
          ],
          [
           "Cluster 3"
          ],
          [
           "Cluster 3"
          ],
          [
           "Cluster 3"
          ],
          [
           "Cluster 3"
          ],
          [
           "Cluster 3"
          ],
          [
           "Cluster 3"
          ],
          [
           "Cluster 3"
          ],
          [
           "Cluster 3"
          ],
          [
           "Cluster 3"
          ],
          [
           "Cluster 3"
          ],
          [
           "Cluster 3"
          ],
          [
           "Cluster 3"
          ],
          [
           "Cluster 3"
          ],
          [
           "Cluster 3"
          ],
          [
           "Cluster 3"
          ],
          [
           "Cluster 3"
          ],
          [
           "Cluster 3"
          ],
          [
           "Cluster 3"
          ],
          [
           "Cluster 3"
          ],
          [
           "Cluster 3"
          ],
          [
           "Cluster 3"
          ],
          [
           "Cluster 3"
          ],
          [
           "Cluster 3"
          ],
          [
           "Cluster 3"
          ],
          [
           "Cluster 3"
          ],
          [
           "Cluster 3"
          ],
          [
           "Cluster 3"
          ],
          [
           "Cluster 3"
          ],
          [
           "Cluster 3"
          ],
          [
           "Cluster 3"
          ],
          [
           "Cluster 3"
          ],
          [
           "Cluster 3"
          ],
          [
           "Cluster 3"
          ],
          [
           "Cluster 3"
          ],
          [
           "Cluster 3"
          ],
          [
           "Cluster 3"
          ],
          [
           "Cluster 3"
          ],
          [
           "Cluster 3"
          ],
          [
           "Cluster 3"
          ],
          [
           "Cluster 3"
          ],
          [
           "Cluster 3"
          ],
          [
           "Cluster 3"
          ],
          [
           "Cluster 3"
          ],
          [
           "Cluster 3"
          ],
          [
           "Cluster 3"
          ],
          [
           "Cluster 3"
          ],
          [
           "Cluster 3"
          ],
          [
           "Cluster 3"
          ],
          [
           "Cluster 3"
          ],
          [
           "Cluster 3"
          ],
          [
           "Cluster 3"
          ],
          [
           "Cluster 3"
          ],
          [
           "Cluster 3"
          ],
          [
           "Cluster 3"
          ],
          [
           "Cluster 3"
          ],
          [
           "Cluster 3"
          ],
          [
           "Cluster 3"
          ],
          [
           "Cluster 3"
          ],
          [
           "Cluster 3"
          ],
          [
           "Cluster 3"
          ],
          [
           "Cluster 3"
          ],
          [
           "Cluster 3"
          ],
          [
           "Cluster 3"
          ],
          [
           "Cluster 3"
          ],
          [
           "Cluster 3"
          ],
          [
           "Cluster 3"
          ],
          [
           "Cluster 3"
          ],
          [
           "Cluster 3"
          ],
          [
           "Cluster 3"
          ],
          [
           "Cluster 3"
          ],
          [
           "Cluster 3"
          ],
          [
           "Cluster 3"
          ],
          [
           "Cluster 3"
          ],
          [
           "Cluster 3"
          ],
          [
           "Cluster 3"
          ],
          [
           "Cluster 3"
          ],
          [
           "Cluster 3"
          ],
          [
           "Cluster 3"
          ],
          [
           "Cluster 3"
          ],
          [
           "Cluster 3"
          ],
          [
           "Cluster 3"
          ],
          [
           "Cluster 3"
          ],
          [
           "Cluster 3"
          ],
          [
           "Cluster 3"
          ],
          [
           "Cluster 3"
          ],
          [
           "Cluster 3"
          ],
          [
           "Cluster 3"
          ],
          [
           "Cluster 3"
          ],
          [
           "Cluster 3"
          ],
          [
           "Cluster 3"
          ],
          [
           "Cluster 3"
          ],
          [
           "Cluster 3"
          ],
          [
           "Cluster 3"
          ],
          [
           "Cluster 3"
          ],
          [
           "Cluster 3"
          ],
          [
           "Cluster 3"
          ],
          [
           "Cluster 3"
          ],
          [
           "Cluster 3"
          ],
          [
           "Cluster 3"
          ],
          [
           "Cluster 3"
          ],
          [
           "Cluster 3"
          ],
          [
           "Cluster 3"
          ],
          [
           "Cluster 3"
          ],
          [
           "Cluster 3"
          ],
          [
           "Cluster 3"
          ],
          [
           "Cluster 3"
          ],
          [
           "Cluster 3"
          ],
          [
           "Cluster 3"
          ],
          [
           "Cluster 3"
          ],
          [
           "Cluster 3"
          ],
          [
           "Cluster 3"
          ],
          [
           "Cluster 3"
          ],
          [
           "Cluster 3"
          ],
          [
           "Cluster 3"
          ],
          [
           "Cluster 3"
          ],
          [
           "Cluster 3"
          ],
          [
           "Cluster 3"
          ],
          [
           "Cluster 3"
          ],
          [
           "Cluster 3"
          ],
          [
           "Cluster 3"
          ],
          [
           "Cluster 3"
          ],
          [
           "Cluster 3"
          ],
          [
           "Cluster 3"
          ],
          [
           "Cluster 3"
          ],
          [
           "Cluster 3"
          ],
          [
           "Cluster 3"
          ],
          [
           "Cluster 3"
          ],
          [
           "Cluster 3"
          ],
          [
           "Cluster 3"
          ],
          [
           "Cluster 3"
          ],
          [
           "Cluster 3"
          ],
          [
           "Cluster 3"
          ],
          [
           "Cluster 3"
          ],
          [
           "Cluster 3"
          ],
          [
           "Cluster 3"
          ],
          [
           "Cluster 3"
          ],
          [
           "Cluster 3"
          ],
          [
           "Cluster 3"
          ],
          [
           "Cluster 3"
          ],
          [
           "Cluster 3"
          ],
          [
           "Cluster 3"
          ],
          [
           "Cluster 3"
          ],
          [
           "Cluster 3"
          ],
          [
           "Cluster 3"
          ],
          [
           "Cluster 3"
          ],
          [
           "Cluster 3"
          ],
          [
           "Cluster 3"
          ],
          [
           "Cluster 3"
          ],
          [
           "Cluster 3"
          ],
          [
           "Cluster 3"
          ],
          [
           "Cluster 3"
          ],
          [
           "Cluster 3"
          ],
          [
           "Cluster 3"
          ],
          [
           "Cluster 3"
          ],
          [
           "Cluster 3"
          ],
          [
           "Cluster 3"
          ],
          [
           "Cluster 3"
          ],
          [
           "Cluster 3"
          ],
          [
           "Cluster 3"
          ],
          [
           "Cluster 3"
          ],
          [
           "Cluster 3"
          ],
          [
           "Cluster 3"
          ],
          [
           "Cluster 3"
          ],
          [
           "Cluster 3"
          ],
          [
           "Cluster 3"
          ],
          [
           "Cluster 3"
          ],
          [
           "Cluster 3"
          ],
          [
           "Cluster 3"
          ],
          [
           "Cluster 3"
          ],
          [
           "Cluster 3"
          ],
          [
           "Cluster 3"
          ],
          [
           "Cluster 3"
          ],
          [
           "Cluster 3"
          ],
          [
           "Cluster 3"
          ],
          [
           "Cluster 3"
          ],
          [
           "Cluster 3"
          ],
          [
           "Cluster 3"
          ],
          [
           "Cluster 3"
          ],
          [
           "Cluster 3"
          ],
          [
           "Cluster 3"
          ],
          [
           "Cluster 3"
          ],
          [
           "Cluster 3"
          ],
          [
           "Cluster 3"
          ],
          [
           "Cluster 3"
          ],
          [
           "Cluster 3"
          ],
          [
           "Cluster 3"
          ],
          [
           "Cluster 3"
          ],
          [
           "Cluster 3"
          ],
          [
           "Cluster 3"
          ],
          [
           "Cluster 3"
          ],
          [
           "Cluster 3"
          ],
          [
           "Cluster 3"
          ],
          [
           "Cluster 3"
          ],
          [
           "Cluster 3"
          ],
          [
           "Cluster 3"
          ],
          [
           "Cluster 3"
          ],
          [
           "Cluster 3"
          ],
          [
           "Cluster 3"
          ],
          [
           "Cluster 3"
          ],
          [
           "Cluster 3"
          ],
          [
           "Cluster 3"
          ],
          [
           "Cluster 3"
          ],
          [
           "Cluster 3"
          ],
          [
           "Cluster 3"
          ],
          [
           "Cluster 3"
          ],
          [
           "Cluster 3"
          ],
          [
           "Cluster 3"
          ],
          [
           "Cluster 3"
          ],
          [
           "Cluster 3"
          ],
          [
           "Cluster 3"
          ],
          [
           "Cluster 3"
          ],
          [
           "Cluster 3"
          ],
          [
           "Cluster 3"
          ],
          [
           "Cluster 3"
          ],
          [
           "Cluster 3"
          ],
          [
           "Cluster 3"
          ],
          [
           "Cluster 3"
          ],
          [
           "Cluster 3"
          ],
          [
           "Cluster 3"
          ],
          [
           "Cluster 3"
          ],
          [
           "Cluster 3"
          ],
          [
           "Cluster 3"
          ],
          [
           "Cluster 3"
          ],
          [
           "Cluster 3"
          ],
          [
           "Cluster 3"
          ],
          [
           "Cluster 3"
          ],
          [
           "Cluster 3"
          ],
          [
           "Cluster 3"
          ],
          [
           "Cluster 3"
          ],
          [
           "Cluster 3"
          ],
          [
           "Cluster 3"
          ],
          [
           "Cluster 3"
          ]
         ],
         "hovertemplate": "Cluster=%{customdata[0]}<br>Income=%{x}<br>Total_Spend=%{y}<extra></extra>",
         "legendgroup": "Cluster 3",
         "marker": {
          "color": "#636efa",
          "symbol": "circle"
         },
         "mode": "markers",
         "name": "Cluster 3",
         "showlegend": true,
         "type": "scattergl",
         "x": [
          58138,
          71613,
          62513,
          63033,
          76995,
          65324,
          52720.37365591398,
          84618,
          68657,
          80011,
          79941,
          65486,
          79143,
          70287,
          55954,
          67680,
          70666,
          69096,
          66991,
          65031,
          75251,
          81361,
          79593,
          52917.53424657534,
          78497,
          50150,
          85693,
          65846,
          87195,
          89058,
          77298,
          57288,
          71488,
          79607,
          73448,
          52720.37365591398,
          62981,
          92859,
          65104,
          86111,
          68352,
          61010,
          80317,
          70356,
          74165,
          62551,
          66951,
          80427,
          78497,
          66835,
          61286,
          74068,
          66973,
          69661,
          80067,
          86718,
          69142,
          75922,
          63693,
          77972,
          70951,
          69508,
          72460,
          77622,
          51369,
          51537,
          79930,
          81975,
          62745,
          79761,
          73455,
          64961,
          75027,
          67546,
          65176,
          63342,
          80124,
          72940,
          69267,
          66313,
          60714,
          77882,
          63841,
          51369,
          65640,
          75278,
          79946,
          82497,
          68627,
          58821,
          80950,
          77457,
          64100,
          70893,
          66503,
          64795,
          62187,
          66334,
          62204,
          68655,
          59292,
          82623,
          84835,
          71113,
          69759,
          72099,
          68462,
          65073,
          78618,
          62187,
          54803,
          79530,
          72025,
          52614,
          66426,
          90300,
          74293,
          70777,
          68682,
          75276,
          66465,
          75072,
          75865,
          93027,
          61314,
          75236,
          67272,
          55707,
          56796,
          65991,
          66664,
          70165,
          80124,
          66582,
          61456,
          55842,
          83151,
          78825,
          65104,
          60093,
          78952,
          76005,
          55614,
          59432,
          78642,
          67911,
          65275,
          64355,
          53653,
          65665,
          81217,
          60152,
          89120,
          81169,
          71367,
          73454,
          77863,
          50353,
          61839,
          72679,
          54058,
          85620,
          60504,
          81698,
          54880,
          79908,
          81741,
          71499,
          61794,
          69882,
          59973,
          62807,
          72906,
          81168,
          48240,
          162397,
          72635,
          84196,
          69084,
          65488,
          83917,
          84574,
          73691,
          76140,
          78710,
          66886,
          98777,
          153924,
          73059,
          58330,
          59304,
          77353,
          52614,
          70337,
          65295,
          68118,
          68743,
          41039,
          65777,
          66476,
          86857,
          69476,
          61209,
          45938,
          78468,
          78901,
          71427,
          71022,
          43185,
          66375,
          58398,
          76618,
          74806,
          59111,
          72190,
          80395,
          75012,
          89891,
          67432,
          70545,
          62882,
          64108,
          82224,
          83844,
          71163,
          83443,
          51518,
          58330,
          75507,
          63855,
          79146,
          78285,
          75127,
          74985,
          67430,
          72063,
          78939,
          74250,
          72258,
          71466,
          62847,
          45183,
          70421,
          60161,
          73926,
          82716,
          72504,
          73170,
          91820,
          65968,
          65685,
          78353,
          80995,
          48789,
          81702,
          56628,
          82504,
          61618,
          55284,
          65324,
          85710,
          62450,
          61346,
          86424,
          86857,
          82072,
          68092,
          76630,
          55260,
          64090,
          78331,
          81320,
          66825,
          57100,
          85072,
          78420,
          75114,
          62820,
          73113,
          74637,
          72354,
          83033,
          77583,
          74116,
          74293,
          68397,
          79632,
          64950,
          75127,
          71796,
          67536,
          55239,
          60554,
          56067,
          57937,
          67893,
          70647,
          52597,
          54753,
          84219,
          59052,
          80573,
          83715,
          82576,
          63693,
          65352,
          82170,
          79689,
          64449,
          75437,
          52845,
          65569,
          83844,
          59412,
          70924,
          56320,
          91700,
          68695,
          79593,
          61180,
          76081,
          77037,
          70924,
          69098,
          70596,
          53312,
          72228,
          67605,
          65196,
          42000,
          65526,
          67023,
          59925,
          46610,
          88347,
          66294,
          79456,
          71691,
          85844,
          71367,
          61825,
          79803,
          80910,
          56775,
          76045,
          65463,
          76773,
          98777,
          70566,
          63998,
          85606,
          85696,
          63285,
          57744,
          57513,
          68142,
          56715,
          79410,
          57304,
          59594,
          80685,
          77142,
          81657,
          74214,
          62000,
          78579,
          63841,
          70091,
          78075,
          59184,
          58113,
          66636,
          84618,
          65748,
          77044,
          74918,
          61559,
          68682,
          77297,
          75032,
          61284,
          64722,
          76624,
          66000,
          65106,
          74716,
          68118,
          62972,
          74190,
          85485,
          55956,
          64191,
          71847,
          39767,
          57091,
          52531,
          157733,
          71626,
          65695,
          64857,
          81843,
          77382,
          90842,
          71853,
          50150,
          62061,
          85696,
          76542,
          70515,
          69627,
          62159,
          80695,
          52203,
          75154,
          75507,
          63915,
          63841,
          65685,
          67087,
          69389,
          65704,
          51876,
          78041,
          70038,
          69401,
          77343,
          73892,
          32727,
          68695,
          38410,
          64866,
          83844,
          67419,
          65148,
          64857,
          57072,
          62807,
          75484,
          70379,
          79419,
          76998,
          65492,
          71706,
          68487,
          63206,
          78931,
          84219,
          73538,
          79529,
          87188,
          69930,
          82032,
          69283,
          67786,
          71969,
          59235,
          65819,
          66033,
          76800,
          63943,
          76081,
          70179,
          79865,
          75315,
          60482,
          78093,
          82460,
          81361,
          61482,
          75794,
          74268,
          76445,
          70638,
          71855,
          65526,
          68655,
          55434,
          66664,
          41003,
          73059,
          50002,
          69755,
          75774,
          58684,
          57136,
          82014,
          157146,
          62670,
          64892,
          63246,
          69084,
          86610,
          72635,
          69016,
          70440,
          78789,
          81217,
          49090,
          61787,
          62335,
          86580,
          73705,
          64813,
          80398,
          60230,
          82571,
          71107,
          82427,
          75342,
          70044,
          79146,
          77437,
          70321,
          58086,
          81795,
          66835,
          69901,
          77981,
          62905,
          72117,
          67131,
          71853,
          70596,
          85431,
          65370,
          64590,
          71232,
          77298,
          82122,
          62535,
          63404,
          75774,
          78416,
          75702,
          90369,
          63159,
          79734,
          63207,
          72071,
          58582,
          72282,
          62568,
          63967,
          52513,
          78394,
          80739,
          80336,
          62972,
          68148,
          57705,
          72159,
          64260,
          82733,
          70116,
          54006,
          69063,
          61825,
          70886,
          69932,
          33051,
          72905,
          69702,
          70300,
          70643,
          62772,
          52413,
          67546,
          69719,
          90933,
          113734,
          59292,
          73395,
          62820,
          60491,
          92556,
          67384,
          80573,
          70932,
          77598,
          80982,
          70617,
          64849,
          67472,
          75903,
          72570,
          70792,
          63211,
          83891,
          56939,
          80872,
          61798,
          76842,
          70053,
          74485,
          64474,
          77226,
          55686,
          32632,
          63684,
          68805,
          65814,
          71964,
          68281,
          77027,
          71322,
          67225,
          55914,
          61416,
          49767,
          76467,
          81044,
          76320,
          71128,
          70179,
          59462,
          70038,
          67046,
          77610,
          54591,
          71866,
          42000,
          69520,
          64713,
          68487,
          56796,
          87000,
          79823,
          80144,
          67911,
          44953,
          66476,
          69805,
          72217,
          61286,
          65220,
          156924,
          65487,
          69209,
          58482,
          60896,
          74859,
          72071,
          69263,
          60934,
          71965,
          81380,
          76234,
          84117,
          65487,
          89616,
          55593,
          73807,
          88325,
          80617,
          82032,
          58025,
          57642,
          47633.19,
          44802,
          61223,
          56981,
          69245
         ],
         "xaxis": "x",
         "y": [
          1617,
          776,
          716,
          1102,
          1782,
          544,
          637,
          1672,
          1196,
          1395,
          984,
          507,
          1693,
          1093,
          518,
          606,
          1076,
          653,
          1253,
          863,
          1890,
          778,
          1366,
          985,
          978,
          410,
          1169,
          1120,
          1097,
          850,
          969,
          608,
          559,
          1923,
          725,
          725,
          1482,
          2077,
          1053,
          1385,
          871,
          1021,
          1231,
          1706,
          1293,
          421,
          1117,
          1835,
          978,
          1033,
          608,
          1581,
          1282,
          834,
          1600,
          1270,
          535,
          1295,
          1150,
          1101,
          1198,
          1135,
          1047,
          714,
          576,
          1103,
          1753,
          1588,
          1117,
          605,
          2088,
          1009,
          1390,
          2126,
          1531,
          1101,
          1495,
          981,
          1635,
          770,
          957,
          818,
          908,
          576,
          461,
          930,
          1478,
          1919,
          825,
          728,
          1213,
          1157,
          546,
          1508,
          401,
          680,
          1283,
          1161,
          946,
          1538,
          507,
          940,
          1190,
          835,
          1029,
          1188,
          1670,
          900,
          2153,
          636,
          693,
          1348,
          1932,
          990,
          1377,
          1738,
          1127,
          787,
          1598,
          1040,
          1485,
          1073,
          1242,
          2119,
          1008,
          1068,
          733,
          428,
          1001,
          971,
          1289,
          926,
          1495,
          1288,
          1388,
          518,
          747,
          895,
          1053,
          735,
          2092,
          1722,
          682,
          663,
          1816,
          976,
          746,
          1445,
          1210,
          945,
          1157,
          943,
          1924,
          2089,
          777,
          1651,
          1291,
          442,
          1895,
          1168,
          662,
          1600,
          526,
          1008,
          795,
          1772,
          1572,
          795,
          611,
          1478,
          382,
          819,
          1151,
          1193,
          882,
          107,
          981,
          1237,
          1586,
          963,
          1587,
          1375,
          1179,
          1348,
          1092,
          599,
          2008,
          6,
          1095,
          1064,
          1048,
          670,
          990,
          576,
          664,
          928,
          2074,
          467,
          1146,
          689,
          2114,
          1044,
          957,
          636,
          1004,
          734,
          614,
          1453,
          637,
          948,
          596,
          1511,
          965,
          869,
          1947,
          1380,
          1027,
          836,
          1335,
          334,
          1338,
          1099,
          902,
          1574,
          960,
          1497,
          449,
          1064,
          1440,
          1006,
          564,
          1427,
          833,
          1869,
          1364,
          758,
          1507,
          1158,
          1525,
          1230,
          1612,
          315,
          767,
          1071,
          1580,
          1167,
          1478,
          726,
          1497,
          495,
          769,
          1576,
          1482,
          680,
          1633,
          761,
          1066,
          1345,
          764,
          544,
          1062,
          995,
          989,
          1226,
          2114,
          2018,
          1281,
          1003,
          1139,
          797,
          1638,
          928,
          858,
          409,
          1423,
          1453,
          1253,
          976,
          1001,
          1650,
          1228,
          1761,
          1149,
          2052,
          1127,
          1416,
          1113,
          966,
          833,
          960,
          1829,
          779,
          811,
          725,
          683,
          995,
          1079,
          578,
          728,
          1198,
          491,
          1564,
          926,
          1910,
          1150,
          405,
          1908,
          1315,
          805,
          1493,
          936,
          859,
          1574,
          406,
          1363,
          702,
          1968,
          1091,
          1366,
          704,
          1033,
          1123,
          1363,
          2440,
          968,
          278,
          1250,
          938,
          1155,
          653,
          506,
          906,
          766,
          467,
          2116,
          967,
          1401,
          1192,
          1958,
          777,
          424,
          868,
          756,
          937,
          1323,
          562,
          1156,
          2008,
          757,
          1168,
          1956,
          1313,
          1103,
          411,
          1060,
          1459,
          1020,
          1370,
          1026,
          499,
          1004,
          990,
          1097,
          1711,
          1020,
          1812,
          908,
          1161,
          988,
          1072,
          758,
          1084,
          1672,
          545,
          1065,
          2047,
          530,
          1598,
          789,
          1215,
          811,
          805,
          899,
          711,
          973,
          860,
          928,
          587,
          641,
          1383,
          999,
          825,
          1192,
          485,
          496,
          794,
          59,
          1305,
          656,
          1540,
          1643,
          1121,
          1424,
          1149,
          410,
          800,
          1313,
          1483,
          1258,
          861,
          634,
          1918,
          939,
          1143,
          1440,
          789,
          908,
          769,
          794,
          797,
          817,
          310,
          1319,
          1244,
          690,
          1134,
          1507,
          529,
          1091,
          534,
          556,
          1574,
          1471,
          1115,
          1540,
          1034,
          819,
          1159,
          860,
          1631,
          1910,
          1045,
          1443,
          1366,
          928,
          943,
          1198,
          1658,
          1638,
          1923,
          1662,
          1234,
          904,
          1156,
          1086,
          1128,
          1383,
          677,
          641,
          1106,
          1033,
          1034,
          792,
          841,
          507,
          1105,
          974,
          778,
          299,
          1682,
          892,
          1410,
          1334,
          1141,
          506,
          1538,
          882,
          1289,
          601,
          1095,
          638,
          894,
          823,
          813,
          1179,
          1511,
          1730,
          825,
          902,
          772,
          1586,
          1603,
          981,
          1533,
          1572,
          1754,
          1157,
          688,
          1319,
          708,
          746,
          1695,
          745,
          1597,
          1067,
          1686,
          1327,
          1456,
          563,
          1504,
          564,
          1125,
          1376,
          792,
          1382,
          1033,
          882,
          664,
          622,
          1073,
          976,
          1149,
          968,
          1165,
          461,
          1338,
          917,
          969,
          1382,
          398,
          902,
          823,
          1179,
          1921,
          1588,
          1797,
          914,
          1502,
          1338,
          763,
          1331,
          953,
          882,
          1149,
          1428,
          1633,
          1052,
          587,
          1042,
          486,
          1401,
          1574,
          1323,
          1536,
          581,
          928,
          424,
          960,
          1049,
          835,
          1515,
          1039,
          1596,
          1828,
          946,
          450,
          2126,
          801,
          1685,
          277,
          507,
          397,
          976,
          1028,
          1263,
          1490,
          1564,
          909,
          1735,
          1191,
          1280,
          1336,
          414,
          901,
          1089,
          1272,
          1173,
          816,
          561,
          1336,
          463,
          1130,
          1012,
          1734,
          823,
          1138,
          982,
          576,
          1464,
          283,
          747,
          1870,
          1655,
          1175,
          1305,
          868,
          1260,
          1665,
          692,
          1575,
          1208,
          932,
          1615,
          1034,
          1088,
          1244,
          993,
          1680,
          519,
          715,
          653,
          1455,
          602,
          1366,
          1001,
          961,
          1518,
          1367,
          976,
          1021,
          1013,
          1038,
          1573,
          608,
          1282,
          8,
          1169,
          1782,
          731,
          1701,
          1565,
          1338,
          568,
          873,
          1213,
          1893,
          907,
          1566,
          1169,
          1644,
          546,
          849,
          1623,
          1435,
          1234,
          470,
          679,
          1679,
          1049,
          1341,
          1241,
          843
         ],
         "yaxis": "y"
        },
        {
         "customdata": [
          [
           "Cluster 1"
          ],
          [
           "Cluster 1"
          ],
          [
           "Cluster 1"
          ],
          [
           "Cluster 1"
          ],
          [
           "Cluster 1"
          ],
          [
           "Cluster 1"
          ],
          [
           "Cluster 1"
          ],
          [
           "Cluster 1"
          ],
          [
           "Cluster 1"
          ],
          [
           "Cluster 1"
          ],
          [
           "Cluster 1"
          ],
          [
           "Cluster 1"
          ],
          [
           "Cluster 1"
          ],
          [
           "Cluster 1"
          ],
          [
           "Cluster 1"
          ],
          [
           "Cluster 1"
          ],
          [
           "Cluster 1"
          ],
          [
           "Cluster 1"
          ],
          [
           "Cluster 1"
          ],
          [
           "Cluster 1"
          ],
          [
           "Cluster 1"
          ],
          [
           "Cluster 1"
          ],
          [
           "Cluster 1"
          ],
          [
           "Cluster 1"
          ],
          [
           "Cluster 1"
          ],
          [
           "Cluster 1"
          ],
          [
           "Cluster 1"
          ],
          [
           "Cluster 1"
          ],
          [
           "Cluster 1"
          ],
          [
           "Cluster 1"
          ],
          [
           "Cluster 1"
          ],
          [
           "Cluster 1"
          ],
          [
           "Cluster 1"
          ],
          [
           "Cluster 1"
          ],
          [
           "Cluster 1"
          ],
          [
           "Cluster 1"
          ],
          [
           "Cluster 1"
          ],
          [
           "Cluster 1"
          ],
          [
           "Cluster 1"
          ],
          [
           "Cluster 1"
          ],
          [
           "Cluster 1"
          ],
          [
           "Cluster 1"
          ],
          [
           "Cluster 1"
          ],
          [
           "Cluster 1"
          ],
          [
           "Cluster 1"
          ],
          [
           "Cluster 1"
          ],
          [
           "Cluster 1"
          ],
          [
           "Cluster 1"
          ],
          [
           "Cluster 1"
          ],
          [
           "Cluster 1"
          ],
          [
           "Cluster 1"
          ],
          [
           "Cluster 1"
          ],
          [
           "Cluster 1"
          ],
          [
           "Cluster 1"
          ],
          [
           "Cluster 1"
          ],
          [
           "Cluster 1"
          ],
          [
           "Cluster 1"
          ],
          [
           "Cluster 1"
          ],
          [
           "Cluster 1"
          ],
          [
           "Cluster 1"
          ],
          [
           "Cluster 1"
          ],
          [
           "Cluster 1"
          ],
          [
           "Cluster 1"
          ],
          [
           "Cluster 1"
          ],
          [
           "Cluster 1"
          ],
          [
           "Cluster 1"
          ],
          [
           "Cluster 1"
          ],
          [
           "Cluster 1"
          ],
          [
           "Cluster 1"
          ],
          [
           "Cluster 1"
          ],
          [
           "Cluster 1"
          ],
          [
           "Cluster 1"
          ],
          [
           "Cluster 1"
          ],
          [
           "Cluster 1"
          ],
          [
           "Cluster 1"
          ],
          [
           "Cluster 1"
          ],
          [
           "Cluster 1"
          ],
          [
           "Cluster 1"
          ],
          [
           "Cluster 1"
          ],
          [
           "Cluster 1"
          ],
          [
           "Cluster 1"
          ],
          [
           "Cluster 1"
          ],
          [
           "Cluster 1"
          ],
          [
           "Cluster 1"
          ],
          [
           "Cluster 1"
          ],
          [
           "Cluster 1"
          ],
          [
           "Cluster 1"
          ],
          [
           "Cluster 1"
          ],
          [
           "Cluster 1"
          ],
          [
           "Cluster 1"
          ],
          [
           "Cluster 1"
          ],
          [
           "Cluster 1"
          ],
          [
           "Cluster 1"
          ],
          [
           "Cluster 1"
          ],
          [
           "Cluster 1"
          ],
          [
           "Cluster 1"
          ],
          [
           "Cluster 1"
          ],
          [
           "Cluster 1"
          ],
          [
           "Cluster 1"
          ],
          [
           "Cluster 1"
          ],
          [
           "Cluster 1"
          ],
          [
           "Cluster 1"
          ],
          [
           "Cluster 1"
          ],
          [
           "Cluster 1"
          ],
          [
           "Cluster 1"
          ],
          [
           "Cluster 1"
          ],
          [
           "Cluster 1"
          ],
          [
           "Cluster 1"
          ],
          [
           "Cluster 1"
          ],
          [
           "Cluster 1"
          ],
          [
           "Cluster 1"
          ],
          [
           "Cluster 1"
          ],
          [
           "Cluster 1"
          ],
          [
           "Cluster 1"
          ],
          [
           "Cluster 1"
          ],
          [
           "Cluster 1"
          ],
          [
           "Cluster 1"
          ],
          [
           "Cluster 1"
          ],
          [
           "Cluster 1"
          ],
          [
           "Cluster 1"
          ],
          [
           "Cluster 1"
          ],
          [
           "Cluster 1"
          ],
          [
           "Cluster 1"
          ],
          [
           "Cluster 1"
          ],
          [
           "Cluster 1"
          ],
          [
           "Cluster 1"
          ],
          [
           "Cluster 1"
          ],
          [
           "Cluster 1"
          ],
          [
           "Cluster 1"
          ],
          [
           "Cluster 1"
          ],
          [
           "Cluster 1"
          ],
          [
           "Cluster 1"
          ],
          [
           "Cluster 1"
          ],
          [
           "Cluster 1"
          ],
          [
           "Cluster 1"
          ],
          [
           "Cluster 1"
          ],
          [
           "Cluster 1"
          ],
          [
           "Cluster 1"
          ],
          [
           "Cluster 1"
          ],
          [
           "Cluster 1"
          ],
          [
           "Cluster 1"
          ],
          [
           "Cluster 1"
          ],
          [
           "Cluster 1"
          ],
          [
           "Cluster 1"
          ],
          [
           "Cluster 1"
          ],
          [
           "Cluster 1"
          ],
          [
           "Cluster 1"
          ],
          [
           "Cluster 1"
          ],
          [
           "Cluster 1"
          ],
          [
           "Cluster 1"
          ],
          [
           "Cluster 1"
          ],
          [
           "Cluster 1"
          ],
          [
           "Cluster 1"
          ],
          [
           "Cluster 1"
          ],
          [
           "Cluster 1"
          ],
          [
           "Cluster 1"
          ],
          [
           "Cluster 1"
          ],
          [
           "Cluster 1"
          ],
          [
           "Cluster 1"
          ],
          [
           "Cluster 1"
          ],
          [
           "Cluster 1"
          ],
          [
           "Cluster 1"
          ],
          [
           "Cluster 1"
          ],
          [
           "Cluster 1"
          ],
          [
           "Cluster 1"
          ],
          [
           "Cluster 1"
          ],
          [
           "Cluster 1"
          ],
          [
           "Cluster 1"
          ],
          [
           "Cluster 1"
          ],
          [
           "Cluster 1"
          ],
          [
           "Cluster 1"
          ],
          [
           "Cluster 1"
          ],
          [
           "Cluster 1"
          ],
          [
           "Cluster 1"
          ],
          [
           "Cluster 1"
          ],
          [
           "Cluster 1"
          ],
          [
           "Cluster 1"
          ],
          [
           "Cluster 1"
          ],
          [
           "Cluster 1"
          ],
          [
           "Cluster 1"
          ],
          [
           "Cluster 1"
          ],
          [
           "Cluster 1"
          ],
          [
           "Cluster 1"
          ],
          [
           "Cluster 1"
          ],
          [
           "Cluster 1"
          ],
          [
           "Cluster 1"
          ],
          [
           "Cluster 1"
          ],
          [
           "Cluster 1"
          ],
          [
           "Cluster 1"
          ],
          [
           "Cluster 1"
          ],
          [
           "Cluster 1"
          ],
          [
           "Cluster 1"
          ],
          [
           "Cluster 1"
          ],
          [
           "Cluster 1"
          ],
          [
           "Cluster 1"
          ],
          [
           "Cluster 1"
          ],
          [
           "Cluster 1"
          ],
          [
           "Cluster 1"
          ],
          [
           "Cluster 1"
          ],
          [
           "Cluster 1"
          ],
          [
           "Cluster 1"
          ],
          [
           "Cluster 1"
          ],
          [
           "Cluster 1"
          ],
          [
           "Cluster 1"
          ],
          [
           "Cluster 1"
          ],
          [
           "Cluster 1"
          ],
          [
           "Cluster 1"
          ],
          [
           "Cluster 1"
          ],
          [
           "Cluster 1"
          ],
          [
           "Cluster 1"
          ],
          [
           "Cluster 1"
          ],
          [
           "Cluster 1"
          ],
          [
           "Cluster 1"
          ],
          [
           "Cluster 1"
          ],
          [
           "Cluster 1"
          ],
          [
           "Cluster 1"
          ],
          [
           "Cluster 1"
          ],
          [
           "Cluster 1"
          ],
          [
           "Cluster 1"
          ],
          [
           "Cluster 1"
          ],
          [
           "Cluster 1"
          ],
          [
           "Cluster 1"
          ],
          [
           "Cluster 1"
          ],
          [
           "Cluster 1"
          ],
          [
           "Cluster 1"
          ],
          [
           "Cluster 1"
          ],
          [
           "Cluster 1"
          ],
          [
           "Cluster 1"
          ],
          [
           "Cluster 1"
          ],
          [
           "Cluster 1"
          ],
          [
           "Cluster 1"
          ],
          [
           "Cluster 1"
          ],
          [
           "Cluster 1"
          ],
          [
           "Cluster 1"
          ],
          [
           "Cluster 1"
          ],
          [
           "Cluster 1"
          ],
          [
           "Cluster 1"
          ],
          [
           "Cluster 1"
          ],
          [
           "Cluster 1"
          ],
          [
           "Cluster 1"
          ],
          [
           "Cluster 1"
          ],
          [
           "Cluster 1"
          ],
          [
           "Cluster 1"
          ],
          [
           "Cluster 1"
          ],
          [
           "Cluster 1"
          ],
          [
           "Cluster 1"
          ],
          [
           "Cluster 1"
          ],
          [
           "Cluster 1"
          ],
          [
           "Cluster 1"
          ],
          [
           "Cluster 1"
          ],
          [
           "Cluster 1"
          ],
          [
           "Cluster 1"
          ],
          [
           "Cluster 1"
          ],
          [
           "Cluster 1"
          ],
          [
           "Cluster 1"
          ],
          [
           "Cluster 1"
          ],
          [
           "Cluster 1"
          ],
          [
           "Cluster 1"
          ],
          [
           "Cluster 1"
          ],
          [
           "Cluster 1"
          ],
          [
           "Cluster 1"
          ],
          [
           "Cluster 1"
          ],
          [
           "Cluster 1"
          ],
          [
           "Cluster 1"
          ],
          [
           "Cluster 1"
          ],
          [
           "Cluster 1"
          ],
          [
           "Cluster 1"
          ],
          [
           "Cluster 1"
          ],
          [
           "Cluster 1"
          ],
          [
           "Cluster 1"
          ],
          [
           "Cluster 1"
          ],
          [
           "Cluster 1"
          ],
          [
           "Cluster 1"
          ],
          [
           "Cluster 1"
          ],
          [
           "Cluster 1"
          ],
          [
           "Cluster 1"
          ],
          [
           "Cluster 1"
          ],
          [
           "Cluster 1"
          ],
          [
           "Cluster 1"
          ],
          [
           "Cluster 1"
          ],
          [
           "Cluster 1"
          ],
          [
           "Cluster 1"
          ],
          [
           "Cluster 1"
          ],
          [
           "Cluster 1"
          ],
          [
           "Cluster 1"
          ],
          [
           "Cluster 1"
          ],
          [
           "Cluster 1"
          ],
          [
           "Cluster 1"
          ],
          [
           "Cluster 1"
          ],
          [
           "Cluster 1"
          ],
          [
           "Cluster 1"
          ],
          [
           "Cluster 1"
          ],
          [
           "Cluster 1"
          ],
          [
           "Cluster 1"
          ],
          [
           "Cluster 1"
          ],
          [
           "Cluster 1"
          ],
          [
           "Cluster 1"
          ],
          [
           "Cluster 1"
          ],
          [
           "Cluster 1"
          ],
          [
           "Cluster 1"
          ],
          [
           "Cluster 1"
          ],
          [
           "Cluster 1"
          ],
          [
           "Cluster 1"
          ],
          [
           "Cluster 1"
          ],
          [
           "Cluster 1"
          ],
          [
           "Cluster 1"
          ],
          [
           "Cluster 1"
          ],
          [
           "Cluster 1"
          ],
          [
           "Cluster 1"
          ],
          [
           "Cluster 1"
          ],
          [
           "Cluster 1"
          ],
          [
           "Cluster 1"
          ],
          [
           "Cluster 1"
          ],
          [
           "Cluster 1"
          ],
          [
           "Cluster 1"
          ],
          [
           "Cluster 1"
          ],
          [
           "Cluster 1"
          ],
          [
           "Cluster 1"
          ],
          [
           "Cluster 1"
          ],
          [
           "Cluster 1"
          ],
          [
           "Cluster 1"
          ],
          [
           "Cluster 1"
          ],
          [
           "Cluster 1"
          ],
          [
           "Cluster 1"
          ],
          [
           "Cluster 1"
          ],
          [
           "Cluster 1"
          ],
          [
           "Cluster 1"
          ],
          [
           "Cluster 1"
          ],
          [
           "Cluster 1"
          ],
          [
           "Cluster 1"
          ],
          [
           "Cluster 1"
          ],
          [
           "Cluster 1"
          ],
          [
           "Cluster 1"
          ],
          [
           "Cluster 1"
          ],
          [
           "Cluster 1"
          ],
          [
           "Cluster 1"
          ],
          [
           "Cluster 1"
          ],
          [
           "Cluster 1"
          ],
          [
           "Cluster 1"
          ],
          [
           "Cluster 1"
          ],
          [
           "Cluster 1"
          ],
          [
           "Cluster 1"
          ],
          [
           "Cluster 1"
          ],
          [
           "Cluster 1"
          ],
          [
           "Cluster 1"
          ],
          [
           "Cluster 1"
          ],
          [
           "Cluster 1"
          ],
          [
           "Cluster 1"
          ],
          [
           "Cluster 1"
          ],
          [
           "Cluster 1"
          ],
          [
           "Cluster 1"
          ],
          [
           "Cluster 1"
          ],
          [
           "Cluster 1"
          ],
          [
           "Cluster 1"
          ],
          [
           "Cluster 1"
          ],
          [
           "Cluster 1"
          ],
          [
           "Cluster 1"
          ],
          [
           "Cluster 1"
          ],
          [
           "Cluster 1"
          ],
          [
           "Cluster 1"
          ],
          [
           "Cluster 1"
          ],
          [
           "Cluster 1"
          ],
          [
           "Cluster 1"
          ],
          [
           "Cluster 1"
          ],
          [
           "Cluster 1"
          ],
          [
           "Cluster 1"
          ],
          [
           "Cluster 1"
          ],
          [
           "Cluster 1"
          ],
          [
           "Cluster 1"
          ],
          [
           "Cluster 1"
          ],
          [
           "Cluster 1"
          ],
          [
           "Cluster 1"
          ],
          [
           "Cluster 1"
          ],
          [
           "Cluster 1"
          ],
          [
           "Cluster 1"
          ],
          [
           "Cluster 1"
          ],
          [
           "Cluster 1"
          ],
          [
           "Cluster 1"
          ],
          [
           "Cluster 1"
          ],
          [
           "Cluster 1"
          ],
          [
           "Cluster 1"
          ],
          [
           "Cluster 1"
          ],
          [
           "Cluster 1"
          ],
          [
           "Cluster 1"
          ],
          [
           "Cluster 1"
          ],
          [
           "Cluster 1"
          ],
          [
           "Cluster 1"
          ],
          [
           "Cluster 1"
          ],
          [
           "Cluster 1"
          ],
          [
           "Cluster 1"
          ],
          [
           "Cluster 1"
          ],
          [
           "Cluster 1"
          ],
          [
           "Cluster 1"
          ],
          [
           "Cluster 1"
          ],
          [
           "Cluster 1"
          ],
          [
           "Cluster 1"
          ],
          [
           "Cluster 1"
          ],
          [
           "Cluster 1"
          ],
          [
           "Cluster 1"
          ],
          [
           "Cluster 1"
          ],
          [
           "Cluster 1"
          ],
          [
           "Cluster 1"
          ],
          [
           "Cluster 1"
          ],
          [
           "Cluster 1"
          ],
          [
           "Cluster 1"
          ],
          [
           "Cluster 1"
          ],
          [
           "Cluster 1"
          ],
          [
           "Cluster 1"
          ],
          [
           "Cluster 1"
          ],
          [
           "Cluster 1"
          ],
          [
           "Cluster 1"
          ],
          [
           "Cluster 1"
          ],
          [
           "Cluster 1"
          ],
          [
           "Cluster 1"
          ],
          [
           "Cluster 1"
          ],
          [
           "Cluster 1"
          ],
          [
           "Cluster 1"
          ],
          [
           "Cluster 1"
          ],
          [
           "Cluster 1"
          ],
          [
           "Cluster 1"
          ],
          [
           "Cluster 1"
          ],
          [
           "Cluster 1"
          ],
          [
           "Cluster 1"
          ],
          [
           "Cluster 1"
          ],
          [
           "Cluster 1"
          ],
          [
           "Cluster 1"
          ],
          [
           "Cluster 1"
          ],
          [
           "Cluster 1"
          ],
          [
           "Cluster 1"
          ],
          [
           "Cluster 1"
          ],
          [
           "Cluster 1"
          ],
          [
           "Cluster 1"
          ],
          [
           "Cluster 1"
          ],
          [
           "Cluster 1"
          ],
          [
           "Cluster 1"
          ],
          [
           "Cluster 1"
          ],
          [
           "Cluster 1"
          ],
          [
           "Cluster 1"
          ],
          [
           "Cluster 1"
          ],
          [
           "Cluster 1"
          ],
          [
           "Cluster 1"
          ],
          [
           "Cluster 1"
          ],
          [
           "Cluster 1"
          ],
          [
           "Cluster 1"
          ],
          [
           "Cluster 1"
          ],
          [
           "Cluster 1"
          ],
          [
           "Cluster 1"
          ],
          [
           "Cluster 1"
          ],
          [
           "Cluster 1"
          ],
          [
           "Cluster 1"
          ],
          [
           "Cluster 1"
          ],
          [
           "Cluster 1"
          ],
          [
           "Cluster 1"
          ],
          [
           "Cluster 1"
          ],
          [
           "Cluster 1"
          ],
          [
           "Cluster 1"
          ],
          [
           "Cluster 1"
          ],
          [
           "Cluster 1"
          ],
          [
           "Cluster 1"
          ],
          [
           "Cluster 1"
          ],
          [
           "Cluster 1"
          ],
          [
           "Cluster 1"
          ],
          [
           "Cluster 1"
          ],
          [
           "Cluster 1"
          ],
          [
           "Cluster 1"
          ],
          [
           "Cluster 1"
          ],
          [
           "Cluster 1"
          ],
          [
           "Cluster 1"
          ],
          [
           "Cluster 1"
          ],
          [
           "Cluster 1"
          ],
          [
           "Cluster 1"
          ],
          [
           "Cluster 1"
          ],
          [
           "Cluster 1"
          ],
          [
           "Cluster 1"
          ],
          [
           "Cluster 1"
          ],
          [
           "Cluster 1"
          ],
          [
           "Cluster 1"
          ],
          [
           "Cluster 1"
          ],
          [
           "Cluster 1"
          ],
          [
           "Cluster 1"
          ],
          [
           "Cluster 1"
          ],
          [
           "Cluster 1"
          ],
          [
           "Cluster 1"
          ],
          [
           "Cluster 1"
          ],
          [
           "Cluster 1"
          ],
          [
           "Cluster 1"
          ],
          [
           "Cluster 1"
          ],
          [
           "Cluster 1"
          ],
          [
           "Cluster 1"
          ],
          [
           "Cluster 1"
          ],
          [
           "Cluster 1"
          ],
          [
           "Cluster 1"
          ],
          [
           "Cluster 1"
          ],
          [
           "Cluster 1"
          ],
          [
           "Cluster 1"
          ],
          [
           "Cluster 1"
          ],
          [
           "Cluster 1"
          ],
          [
           "Cluster 1"
          ],
          [
           "Cluster 1"
          ],
          [
           "Cluster 1"
          ],
          [
           "Cluster 1"
          ],
          [
           "Cluster 1"
          ],
          [
           "Cluster 1"
          ],
          [
           "Cluster 1"
          ],
          [
           "Cluster 1"
          ],
          [
           "Cluster 1"
          ],
          [
           "Cluster 1"
          ],
          [
           "Cluster 1"
          ],
          [
           "Cluster 1"
          ],
          [
           "Cluster 1"
          ],
          [
           "Cluster 1"
          ],
          [
           "Cluster 1"
          ],
          [
           "Cluster 1"
          ],
          [
           "Cluster 1"
          ],
          [
           "Cluster 1"
          ],
          [
           "Cluster 1"
          ],
          [
           "Cluster 1"
          ],
          [
           "Cluster 1"
          ],
          [
           "Cluster 1"
          ],
          [
           "Cluster 1"
          ],
          [
           "Cluster 1"
          ],
          [
           "Cluster 1"
          ],
          [
           "Cluster 1"
          ],
          [
           "Cluster 1"
          ],
          [
           "Cluster 1"
          ],
          [
           "Cluster 1"
          ],
          [
           "Cluster 1"
          ],
          [
           "Cluster 1"
          ],
          [
           "Cluster 1"
          ],
          [
           "Cluster 1"
          ],
          [
           "Cluster 1"
          ],
          [
           "Cluster 1"
          ],
          [
           "Cluster 1"
          ],
          [
           "Cluster 1"
          ],
          [
           "Cluster 1"
          ],
          [
           "Cluster 1"
          ],
          [
           "Cluster 1"
          ],
          [
           "Cluster 1"
          ],
          [
           "Cluster 1"
          ],
          [
           "Cluster 1"
          ],
          [
           "Cluster 1"
          ],
          [
           "Cluster 1"
          ],
          [
           "Cluster 1"
          ],
          [
           "Cluster 1"
          ],
          [
           "Cluster 1"
          ],
          [
           "Cluster 1"
          ],
          [
           "Cluster 1"
          ],
          [
           "Cluster 1"
          ],
          [
           "Cluster 1"
          ],
          [
           "Cluster 1"
          ],
          [
           "Cluster 1"
          ],
          [
           "Cluster 1"
          ],
          [
           "Cluster 1"
          ],
          [
           "Cluster 1"
          ],
          [
           "Cluster 1"
          ],
          [
           "Cluster 1"
          ],
          [
           "Cluster 1"
          ],
          [
           "Cluster 1"
          ],
          [
           "Cluster 1"
          ],
          [
           "Cluster 1"
          ],
          [
           "Cluster 1"
          ],
          [
           "Cluster 1"
          ],
          [
           "Cluster 1"
          ],
          [
           "Cluster 1"
          ],
          [
           "Cluster 1"
          ],
          [
           "Cluster 1"
          ],
          [
           "Cluster 1"
          ],
          [
           "Cluster 1"
          ],
          [
           "Cluster 1"
          ],
          [
           "Cluster 1"
          ],
          [
           "Cluster 1"
          ],
          [
           "Cluster 1"
          ],
          [
           "Cluster 1"
          ],
          [
           "Cluster 1"
          ],
          [
           "Cluster 1"
          ],
          [
           "Cluster 1"
          ],
          [
           "Cluster 1"
          ],
          [
           "Cluster 1"
          ],
          [
           "Cluster 1"
          ],
          [
           "Cluster 1"
          ],
          [
           "Cluster 1"
          ],
          [
           "Cluster 1"
          ],
          [
           "Cluster 1"
          ],
          [
           "Cluster 1"
          ],
          [
           "Cluster 1"
          ],
          [
           "Cluster 1"
          ],
          [
           "Cluster 1"
          ],
          [
           "Cluster 1"
          ],
          [
           "Cluster 1"
          ],
          [
           "Cluster 1"
          ],
          [
           "Cluster 1"
          ],
          [
           "Cluster 1"
          ],
          [
           "Cluster 1"
          ],
          [
           "Cluster 1"
          ],
          [
           "Cluster 1"
          ],
          [
           "Cluster 1"
          ],
          [
           "Cluster 1"
          ],
          [
           "Cluster 1"
          ],
          [
           "Cluster 1"
          ],
          [
           "Cluster 1"
          ],
          [
           "Cluster 1"
          ],
          [
           "Cluster 1"
          ],
          [
           "Cluster 1"
          ],
          [
           "Cluster 1"
          ],
          [
           "Cluster 1"
          ],
          [
           "Cluster 1"
          ],
          [
           "Cluster 1"
          ],
          [
           "Cluster 1"
          ],
          [
           "Cluster 1"
          ],
          [
           "Cluster 1"
          ],
          [
           "Cluster 1"
          ],
          [
           "Cluster 1"
          ],
          [
           "Cluster 1"
          ],
          [
           "Cluster 1"
          ],
          [
           "Cluster 1"
          ],
          [
           "Cluster 1"
          ],
          [
           "Cluster 1"
          ],
          [
           "Cluster 1"
          ],
          [
           "Cluster 1"
          ],
          [
           "Cluster 1"
          ],
          [
           "Cluster 1"
          ],
          [
           "Cluster 1"
          ],
          [
           "Cluster 1"
          ],
          [
           "Cluster 1"
          ],
          [
           "Cluster 1"
          ],
          [
           "Cluster 1"
          ],
          [
           "Cluster 1"
          ],
          [
           "Cluster 1"
          ],
          [
           "Cluster 1"
          ],
          [
           "Cluster 1"
          ],
          [
           "Cluster 1"
          ],
          [
           "Cluster 1"
          ],
          [
           "Cluster 1"
          ],
          [
           "Cluster 1"
          ],
          [
           "Cluster 1"
          ],
          [
           "Cluster 1"
          ],
          [
           "Cluster 1"
          ],
          [
           "Cluster 1"
          ],
          [
           "Cluster 1"
          ],
          [
           "Cluster 1"
          ],
          [
           "Cluster 1"
          ],
          [
           "Cluster 1"
          ],
          [
           "Cluster 1"
          ],
          [
           "Cluster 1"
          ],
          [
           "Cluster 1"
          ],
          [
           "Cluster 1"
          ],
          [
           "Cluster 1"
          ],
          [
           "Cluster 1"
          ],
          [
           "Cluster 1"
          ],
          [
           "Cluster 1"
          ],
          [
           "Cluster 1"
          ],
          [
           "Cluster 1"
          ],
          [
           "Cluster 1"
          ],
          [
           "Cluster 1"
          ],
          [
           "Cluster 1"
          ],
          [
           "Cluster 1"
          ],
          [
           "Cluster 1"
          ],
          [
           "Cluster 1"
          ],
          [
           "Cluster 1"
          ],
          [
           "Cluster 1"
          ],
          [
           "Cluster 1"
          ],
          [
           "Cluster 1"
          ],
          [
           "Cluster 1"
          ],
          [
           "Cluster 1"
          ],
          [
           "Cluster 1"
          ],
          [
           "Cluster 1"
          ],
          [
           "Cluster 1"
          ],
          [
           "Cluster 1"
          ],
          [
           "Cluster 1"
          ],
          [
           "Cluster 1"
          ],
          [
           "Cluster 1"
          ],
          [
           "Cluster 1"
          ],
          [
           "Cluster 1"
          ],
          [
           "Cluster 1"
          ],
          [
           "Cluster 1"
          ],
          [
           "Cluster 1"
          ],
          [
           "Cluster 1"
          ],
          [
           "Cluster 1"
          ],
          [
           "Cluster 1"
          ],
          [
           "Cluster 1"
          ],
          [
           "Cluster 1"
          ],
          [
           "Cluster 1"
          ],
          [
           "Cluster 1"
          ],
          [
           "Cluster 1"
          ],
          [
           "Cluster 1"
          ],
          [
           "Cluster 1"
          ],
          [
           "Cluster 1"
          ],
          [
           "Cluster 1"
          ],
          [
           "Cluster 1"
          ],
          [
           "Cluster 1"
          ],
          [
           "Cluster 1"
          ],
          [
           "Cluster 1"
          ],
          [
           "Cluster 1"
          ],
          [
           "Cluster 1"
          ],
          [
           "Cluster 1"
          ],
          [
           "Cluster 1"
          ],
          [
           "Cluster 1"
          ],
          [
           "Cluster 1"
          ],
          [
           "Cluster 1"
          ],
          [
           "Cluster 1"
          ],
          [
           "Cluster 1"
          ],
          [
           "Cluster 1"
          ],
          [
           "Cluster 1"
          ],
          [
           "Cluster 1"
          ],
          [
           "Cluster 1"
          ],
          [
           "Cluster 1"
          ],
          [
           "Cluster 1"
          ],
          [
           "Cluster 1"
          ],
          [
           "Cluster 1"
          ],
          [
           "Cluster 1"
          ],
          [
           "Cluster 1"
          ],
          [
           "Cluster 1"
          ],
          [
           "Cluster 1"
          ],
          [
           "Cluster 1"
          ],
          [
           "Cluster 1"
          ],
          [
           "Cluster 1"
          ],
          [
           "Cluster 1"
          ],
          [
           "Cluster 1"
          ],
          [
           "Cluster 1"
          ],
          [
           "Cluster 1"
          ],
          [
           "Cluster 1"
          ],
          [
           "Cluster 1"
          ],
          [
           "Cluster 1"
          ],
          [
           "Cluster 1"
          ],
          [
           "Cluster 1"
          ],
          [
           "Cluster 1"
          ],
          [
           "Cluster 1"
          ],
          [
           "Cluster 1"
          ],
          [
           "Cluster 1"
          ],
          [
           "Cluster 1"
          ],
          [
           "Cluster 1"
          ],
          [
           "Cluster 1"
          ],
          [
           "Cluster 1"
          ],
          [
           "Cluster 1"
          ],
          [
           "Cluster 1"
          ],
          [
           "Cluster 1"
          ],
          [
           "Cluster 1"
          ],
          [
           "Cluster 1"
          ],
          [
           "Cluster 1"
          ],
          [
           "Cluster 1"
          ],
          [
           "Cluster 1"
          ],
          [
           "Cluster 1"
          ],
          [
           "Cluster 1"
          ],
          [
           "Cluster 1"
          ],
          [
           "Cluster 1"
          ],
          [
           "Cluster 1"
          ],
          [
           "Cluster 1"
          ],
          [
           "Cluster 1"
          ],
          [
           "Cluster 1"
          ],
          [
           "Cluster 1"
          ],
          [
           "Cluster 1"
          ],
          [
           "Cluster 1"
          ],
          [
           "Cluster 1"
          ],
          [
           "Cluster 1"
          ],
          [
           "Cluster 1"
          ],
          [
           "Cluster 1"
          ],
          [
           "Cluster 1"
          ],
          [
           "Cluster 1"
          ],
          [
           "Cluster 1"
          ],
          [
           "Cluster 1"
          ],
          [
           "Cluster 1"
          ],
          [
           "Cluster 1"
          ],
          [
           "Cluster 1"
          ],
          [
           "Cluster 1"
          ],
          [
           "Cluster 1"
          ],
          [
           "Cluster 1"
          ],
          [
           "Cluster 1"
          ],
          [
           "Cluster 1"
          ],
          [
           "Cluster 1"
          ],
          [
           "Cluster 1"
          ],
          [
           "Cluster 1"
          ],
          [
           "Cluster 1"
          ],
          [
           "Cluster 1"
          ],
          [
           "Cluster 1"
          ],
          [
           "Cluster 1"
          ],
          [
           "Cluster 1"
          ],
          [
           "Cluster 1"
          ],
          [
           "Cluster 1"
          ],
          [
           "Cluster 1"
          ],
          [
           "Cluster 1"
          ],
          [
           "Cluster 1"
          ],
          [
           "Cluster 1"
          ],
          [
           "Cluster 1"
          ],
          [
           "Cluster 1"
          ],
          [
           "Cluster 1"
          ],
          [
           "Cluster 1"
          ],
          [
           "Cluster 1"
          ],
          [
           "Cluster 1"
          ],
          [
           "Cluster 1"
          ],
          [
           "Cluster 1"
          ],
          [
           "Cluster 1"
          ],
          [
           "Cluster 1"
          ],
          [
           "Cluster 1"
          ],
          [
           "Cluster 1"
          ],
          [
           "Cluster 1"
          ],
          [
           "Cluster 1"
          ],
          [
           "Cluster 1"
          ],
          [
           "Cluster 1"
          ],
          [
           "Cluster 1"
          ],
          [
           "Cluster 1"
          ],
          [
           "Cluster 1"
          ],
          [
           "Cluster 1"
          ],
          [
           "Cluster 1"
          ],
          [
           "Cluster 1"
          ],
          [
           "Cluster 1"
          ],
          [
           "Cluster 1"
          ],
          [
           "Cluster 1"
          ],
          [
           "Cluster 1"
          ],
          [
           "Cluster 1"
          ],
          [
           "Cluster 1"
          ],
          [
           "Cluster 1"
          ],
          [
           "Cluster 1"
          ],
          [
           "Cluster 1"
          ],
          [
           "Cluster 1"
          ],
          [
           "Cluster 1"
          ],
          [
           "Cluster 1"
          ],
          [
           "Cluster 1"
          ],
          [
           "Cluster 1"
          ],
          [
           "Cluster 1"
          ],
          [
           "Cluster 1"
          ],
          [
           "Cluster 1"
          ],
          [
           "Cluster 1"
          ],
          [
           "Cluster 1"
          ],
          [
           "Cluster 1"
          ],
          [
           "Cluster 1"
          ],
          [
           "Cluster 1"
          ],
          [
           "Cluster 1"
          ],
          [
           "Cluster 1"
          ],
          [
           "Cluster 1"
          ],
          [
           "Cluster 1"
          ],
          [
           "Cluster 1"
          ],
          [
           "Cluster 1"
          ],
          [
           "Cluster 1"
          ],
          [
           "Cluster 1"
          ],
          [
           "Cluster 1"
          ],
          [
           "Cluster 1"
          ],
          [
           "Cluster 1"
          ],
          [
           "Cluster 1"
          ],
          [
           "Cluster 1"
          ],
          [
           "Cluster 1"
          ],
          [
           "Cluster 1"
          ],
          [
           "Cluster 1"
          ],
          [
           "Cluster 1"
          ],
          [
           "Cluster 1"
          ],
          [
           "Cluster 1"
          ],
          [
           "Cluster 1"
          ],
          [
           "Cluster 1"
          ],
          [
           "Cluster 1"
          ],
          [
           "Cluster 1"
          ],
          [
           "Cluster 1"
          ],
          [
           "Cluster 1"
          ],
          [
           "Cluster 1"
          ],
          [
           "Cluster 1"
          ],
          [
           "Cluster 1"
          ],
          [
           "Cluster 1"
          ],
          [
           "Cluster 1"
          ],
          [
           "Cluster 1"
          ],
          [
           "Cluster 1"
          ],
          [
           "Cluster 1"
          ],
          [
           "Cluster 1"
          ],
          [
           "Cluster 1"
          ],
          [
           "Cluster 1"
          ],
          [
           "Cluster 1"
          ],
          [
           "Cluster 1"
          ],
          [
           "Cluster 1"
          ],
          [
           "Cluster 1"
          ],
          [
           "Cluster 1"
          ],
          [
           "Cluster 1"
          ],
          [
           "Cluster 1"
          ],
          [
           "Cluster 1"
          ],
          [
           "Cluster 1"
          ],
          [
           "Cluster 1"
          ],
          [
           "Cluster 1"
          ],
          [
           "Cluster 1"
          ],
          [
           "Cluster 1"
          ],
          [
           "Cluster 1"
          ],
          [
           "Cluster 1"
          ],
          [
           "Cluster 1"
          ],
          [
           "Cluster 1"
          ],
          [
           "Cluster 1"
          ],
          [
           "Cluster 1"
          ],
          [
           "Cluster 1"
          ],
          [
           "Cluster 1"
          ],
          [
           "Cluster 1"
          ],
          [
           "Cluster 1"
          ],
          [
           "Cluster 1"
          ],
          [
           "Cluster 1"
          ],
          [
           "Cluster 1"
          ],
          [
           "Cluster 1"
          ],
          [
           "Cluster 1"
          ],
          [
           "Cluster 1"
          ],
          [
           "Cluster 1"
          ],
          [
           "Cluster 1"
          ],
          [
           "Cluster 1"
          ],
          [
           "Cluster 1"
          ],
          [
           "Cluster 1"
          ],
          [
           "Cluster 1"
          ],
          [
           "Cluster 1"
          ],
          [
           "Cluster 1"
          ],
          [
           "Cluster 1"
          ],
          [
           "Cluster 1"
          ],
          [
           "Cluster 1"
          ],
          [
           "Cluster 1"
          ],
          [
           "Cluster 1"
          ],
          [
           "Cluster 1"
          ],
          [
           "Cluster 1"
          ],
          [
           "Cluster 1"
          ],
          [
           "Cluster 1"
          ],
          [
           "Cluster 1"
          ],
          [
           "Cluster 1"
          ],
          [
           "Cluster 1"
          ],
          [
           "Cluster 1"
          ],
          [
           "Cluster 1"
          ],
          [
           "Cluster 1"
          ],
          [
           "Cluster 1"
          ],
          [
           "Cluster 1"
          ],
          [
           "Cluster 1"
          ],
          [
           "Cluster 1"
          ],
          [
           "Cluster 1"
          ],
          [
           "Cluster 1"
          ],
          [
           "Cluster 1"
          ],
          [
           "Cluster 1"
          ],
          [
           "Cluster 1"
          ],
          [
           "Cluster 1"
          ],
          [
           "Cluster 1"
          ],
          [
           "Cluster 1"
          ],
          [
           "Cluster 1"
          ],
          [
           "Cluster 1"
          ],
          [
           "Cluster 1"
          ],
          [
           "Cluster 1"
          ],
          [
           "Cluster 1"
          ],
          [
           "Cluster 1"
          ],
          [
           "Cluster 1"
          ],
          [
           "Cluster 1"
          ],
          [
           "Cluster 1"
          ],
          [
           "Cluster 1"
          ],
          [
           "Cluster 1"
          ],
          [
           "Cluster 1"
          ],
          [
           "Cluster 1"
          ],
          [
           "Cluster 1"
          ],
          [
           "Cluster 1"
          ],
          [
           "Cluster 1"
          ],
          [
           "Cluster 1"
          ],
          [
           "Cluster 1"
          ],
          [
           "Cluster 1"
          ],
          [
           "Cluster 1"
          ],
          [
           "Cluster 1"
          ],
          [
           "Cluster 1"
          ],
          [
           "Cluster 1"
          ],
          [
           "Cluster 1"
          ],
          [
           "Cluster 1"
          ],
          [
           "Cluster 1"
          ],
          [
           "Cluster 1"
          ],
          [
           "Cluster 1"
          ],
          [
           "Cluster 1"
          ],
          [
           "Cluster 1"
          ],
          [
           "Cluster 1"
          ],
          [
           "Cluster 1"
          ],
          [
           "Cluster 1"
          ],
          [
           "Cluster 1"
          ],
          [
           "Cluster 1"
          ],
          [
           "Cluster 1"
          ],
          [
           "Cluster 1"
          ],
          [
           "Cluster 1"
          ],
          [
           "Cluster 1"
          ],
          [
           "Cluster 1"
          ],
          [
           "Cluster 1"
          ],
          [
           "Cluster 1"
          ],
          [
           "Cluster 1"
          ],
          [
           "Cluster 1"
          ],
          [
           "Cluster 1"
          ],
          [
           "Cluster 1"
          ],
          [
           "Cluster 1"
          ],
          [
           "Cluster 1"
          ],
          [
           "Cluster 1"
          ],
          [
           "Cluster 1"
          ],
          [
           "Cluster 1"
          ],
          [
           "Cluster 1"
          ],
          [
           "Cluster 1"
          ],
          [
           "Cluster 1"
          ],
          [
           "Cluster 1"
          ],
          [
           "Cluster 1"
          ],
          [
           "Cluster 1"
          ],
          [
           "Cluster 1"
          ],
          [
           "Cluster 1"
          ],
          [
           "Cluster 1"
          ],
          [
           "Cluster 1"
          ],
          [
           "Cluster 1"
          ],
          [
           "Cluster 1"
          ],
          [
           "Cluster 1"
          ],
          [
           "Cluster 1"
          ],
          [
           "Cluster 1"
          ],
          [
           "Cluster 1"
          ],
          [
           "Cluster 1"
          ],
          [
           "Cluster 1"
          ],
          [
           "Cluster 1"
          ],
          [
           "Cluster 1"
          ],
          [
           "Cluster 1"
          ],
          [
           "Cluster 1"
          ],
          [
           "Cluster 1"
          ],
          [
           "Cluster 1"
          ],
          [
           "Cluster 1"
          ],
          [
           "Cluster 1"
          ],
          [
           "Cluster 1"
          ],
          [
           "Cluster 1"
          ],
          [
           "Cluster 1"
          ],
          [
           "Cluster 1"
          ],
          [
           "Cluster 1"
          ],
          [
           "Cluster 1"
          ],
          [
           "Cluster 1"
          ],
          [
           "Cluster 1"
          ],
          [
           "Cluster 1"
          ],
          [
           "Cluster 1"
          ],
          [
           "Cluster 1"
          ],
          [
           "Cluster 1"
          ],
          [
           "Cluster 1"
          ],
          [
           "Cluster 1"
          ],
          [
           "Cluster 1"
          ],
          [
           "Cluster 1"
          ],
          [
           "Cluster 1"
          ],
          [
           "Cluster 1"
          ],
          [
           "Cluster 1"
          ],
          [
           "Cluster 1"
          ],
          [
           "Cluster 1"
          ],
          [
           "Cluster 1"
          ],
          [
           "Cluster 1"
          ]
         ],
         "hovertemplate": "Cluster=%{customdata[0]}<br>Income=%{x}<br>Total_Spend=%{y}<extra></extra>",
         "legendgroup": "Cluster 1",
         "marker": {
          "color": "#EF553B",
          "symbol": "circle"
         },
         "mode": "markers",
         "name": "Cluster 1",
         "showlegend": true,
         "type": "scattergl",
         "x": [
          46344,
          26646,
          33454,
          30351,
          5648,
          52720.37365591398,
          7500,
          59354,
          17323,
          41850,
          37760,
          33812,
          37040,
          18589,
          38360,
          10979,
          38620,
          40548,
          49389,
          23718,
          42429,
          20559,
          21994,
          56145.31392931393,
          7500,
          7500,
          41728,
          52720.37365591398,
          35790,
          27938,
          52720.37365591398,
          25721,
          32474,
          47633.19,
          28332,
          40246,
          26326,
          29760,
          26304,
          23559,
          38620,
          29440,
          54178,
          52720.37365591398,
          42394,
          23626,
          30096,
          51813,
          47823,
          34554,
          24594,
          49096,
          38557,
          50785,
          30753,
          21918,
          32557,
          19510,
          30992,
          54348,
          9548,
          33762,
          35860,
          36921,
          41883,
          23957,
          38547,
          49605,
          59354,
          34176,
          49967,
          60199,
          55375,
          30523,
          23228,
          43482,
          52332,
          26091,
          33456,
          28718,
          50447,
          53537,
          52074,
          38853,
          38285,
          51650,
          16248,
          30477,
          28249,
          25271,
          32303,
          45759,
          24882,
          38872,
          31353,
          40637,
          18890,
          29604,
          44794,
          52195,
          44551,
          45204,
          30732,
          42011,
          34320,
          38590,
          15033,
          22212,
          23661,
          7500,
          22804,
          31686,
          31160,
          29938,
          26490,
          30899,
          18701,
          40737,
          15287,
          44159,
          37717,
          38179,
          22070,
          31788,
          61905,
          29315,
          33378,
          24480,
          37760,
          44319,
          30631,
          35416,
          32414,
          38361,
          16626,
          29672,
          35388,
          42386,
          35246,
          46377,
          39747,
          23976,
          27038,
          42670,
          12571,
          22574,
          28839,
          40321,
          30833,
          34421,
          47025,
          14849,
          27255,
          54432,
          29999,
          24072,
          33996,
          35178,
          22010,
          30675,
          41411,
          27190,
          44300,
          30372,
          33181,
          38643,
          50737,
          46681,
          28442,
          37717,
          31615,
          35684,
          29548,
          38578,
          22585,
          30279,
          30822,
          33581,
          19986,
          27421,
          36143,
          10245,
          43795,
          38823,
          62499,
          51012,
          15345,
          23442,
          14515,
          31395,
          30507,
          48006,
          27213,
          65808,
          30351,
          23616,
          19789,
          37401,
          30096,
          18492,
          48686,
          10404,
          30015,
          50943,
          51529,
          32011,
          7500,
          28691,
          56223,
          18100,
          30279,
          20130,
          23295,
          42618,
          24027,
          36230,
          70829,
          50300,
          50520,
          33183,
          31880,
          37406,
          38415,
          20518,
          41644,
          38961,
          37760,
          32233,
          43057,
          14045,
          28457,
          46310,
          55563,
          27203,
          48330,
          24279,
          50943,
          34935,
          39665,
          48920,
          36443,
          26095,
          30630,
          42691,
          25545,
          32880,
          65316,
          28567,
          44931,
          57247,
          22944,
          25315,
          43638,
          42710,
          24683,
          47850,
          19514,
          27159,
          39548,
          21474,
          22419,
          15315,
          33039,
          48799,
          52157,
          29298,
          47691,
          38200,
          38443,
          38593,
          64413,
          36959,
          51287,
          13260,
          47472,
          47821,
          27450,
          39453,
          26850,
          53863,
          24221,
          39684,
          33178,
          17459,
          23910,
          42169,
          26224,
          31089,
          30081,
          21888,
          42429,
          26150,
          30801,
          26877,
          45006,
          18978,
          22574,
          35791,
          54162,
          31632,
          36975,
          13624,
          34487,
          28769,
          32218,
          46102,
          56181,
          45906,
          55282,
          29103,
          50616,
          49431,
          61278,
          26490,
          19986,
          25965,
          14661,
          18690,
          45068,
          21063,
          29187,
          54690,
          26751,
          36145,
          38946,
          42315,
          13084,
          47570,
          61923,
          34824,
          26518,
          41335,
          35682,
          35178,
          25252,
          33249,
          50272,
          25851,
          45160,
          18988,
          44794,
          35946,
          17487,
          34941,
          48767,
          38702,
          17003,
          33697,
          40662,
          38829,
          35523,
          31626,
          48726,
          46891,
          33622,
          6835,
          41452,
          40760,
          51124,
          36283,
          20587,
          30467,
          31590,
          20425,
          17144,
          16813,
          51267,
          46524,
          19329,
          46984,
          34838,
          56850,
          26872,
          21359,
          30772,
          22507,
          25804,
          22063,
          22419,
          37859,
          16529,
          55412,
          25130,
          35441,
          49494,
          45889,
          34026,
          40049,
          34176,
          19419,
          49980,
          15072,
          49166,
          30843,
          38576,
          37758,
          23228,
          7500,
          49514,
          43456,
          19485,
          53172,
          30545,
          21675,
          42395,
          39922,
          17117,
          24762,
          35797,
          36627,
          51111,
          42243,
          31814,
          26868,
          37087,
          21846,
          54137,
          45684,
          47889,
          45921,
          35641,
          42607,
          46015,
          39858,
          34469,
          24401,
          46107,
          25443,
          32892,
          14906,
          68274,
          39771,
          27922,
          52190,
          42767,
          46106,
          16927,
          59041,
          41021,
          40233,
          33471,
          34596,
          15716,
          35704,
          46779,
          4861,
          33462,
          35340,
          24884,
          64587,
          34824,
          26091,
          46086,
          22434,
          19514,
          36736,
          49187,
          34053,
          38196,
          54165,
          32300,
          20180,
          34961,
          28440,
          33564,
          17345,
          28647,
          15038,
          32173,
          31056,
          28071,
          37334,
          46423,
          37126,
          38998,
          34728,
          33168,
          33585,
          28764,
          25959,
          27100,
          35860,
          16860,
          22304,
          32892,
          39722,
          26907,
          50014,
          41014,
          40479,
          24163,
          43776,
          39190,
          38578,
          57236,
          27590,
          54210,
          53187,
          30023,
          50870,
          15315,
          54466,
          16269,
          33569,
          36262,
          22634,
          31605,
          48526,
          46734,
          46931,
          16581,
          25930,
          42693,
          49669,
          36778,
          10979,
          49678,
          37155,
          21282,
          33419,
          21255,
          42162,
          26576,
          7500,
          54197,
          23091,
          44375,
          40344,
          48985,
          35322,
          14421,
          20130,
          23724,
          47353,
          33444,
          54386,
          28510,
          43140,
          15056,
          26954,
          22327,
          44393,
          31497,
          45894,
          58401,
          62307,
          43641,
          46891,
          54809,
          51412,
          15287,
          18351,
          40451,
          36317,
          42213,
          42160,
          34377,
          8940,
          26228,
          40211,
          33438,
          22518,
          38452,
          38197,
          41986,
          28427,
          37395,
          55249,
          28691,
          44213,
          25707,
          59062,
          7500,
          40521,
          20427,
          39356,
          35860,
          31454,
          47139,
          19656,
          45579,
          23748,
          37368,
          40800,
          37633,
          26997,
          33986,
          46831,
          15759,
          22804,
          43050,
          42997,
          48918,
          60033,
          34043,
          7500,
          23148,
          45143,
          59060,
          27238,
          46094,
          40321,
          37235,
          46692,
          18393,
          24711,
          45503,
          6560,
          27244,
          51948,
          35876,
          40049,
          50127,
          18929,
          24367,
          33249,
          26887,
          18227,
          69139,
          38136,
          33316,
          17256,
          47025,
          37971,
          41335,
          67267,
          57338,
          50523,
          35791,
          21355,
          57420,
          52917.53424657534,
          46390,
          52720.37365591398,
          47633.19,
          20895,
          56145.31392931393,
          26907,
          44964,
          22682,
          38887,
          41658,
          29791,
          39996,
          26759,
          51039,
          37716,
          43142,
          34412,
          22634,
          51315,
          36026,
          24639,
          34578,
          54132,
          18690,
          28164,
          34596,
          43269,
          38741,
          31907,
          27100,
          31163,
          34853,
          31086,
          20491,
          42523,
          39922,
          33402,
          36408,
          21645,
          46053,
          40304,
          43300,
          26290,
          46015,
          16531,
          28072,
          41145,
          23162,
          34380,
          34704,
          39898,
          59892,
          41020,
          19414,
          19107,
          35765,
          32952,
          31163,
          20981,
          51766,
          33039,
          37787,
          27242,
          37697,
          37401,
          3502,
          28087,
          19740,
          23331,
          9255,
          31928,
          51411,
          42386,
          30390,
          30983,
          37284,
          57530,
          37054,
          31859,
          27215,
          39922,
          24645,
          44322,
          47958,
          38998,
          27161,
          45203,
          34935,
          34633,
          45903,
          35860,
          31497,
          13724,
          45143,
          52569,
          17144,
          36108,
          36663,
          44512,
          27116,
          54072,
          12393,
          33955,
          31353,
          28359,
          57100,
          69139,
          51717,
          18793,
          54549,
          19444,
          36301,
          42731,
          52854,
          22775,
          46681,
          44078,
          30560,
          35924,
          24594,
          39228,
          58494,
          56551,
          22448,
          34213,
          25358,
          35544,
          36634,
          34916,
          43602,
          33996,
          41473,
          36732,
          20193,
          27573,
          15862,
          49544,
          33228,
          38232,
          22554,
          23536,
          49413,
          42231,
          18169,
          24336,
          18222,
          42033,
          41437,
          38452,
          18358,
          9722,
          38175,
          52117,
          54222,
          41154,
          18746,
          22108,
          17688,
          16653,
          23529,
          46910,
          18690,
          37244,
          54984,
          42403,
          55761,
          45576,
          28389,
          31859,
          30372,
          16014,
          41120,
          39763,
          38725,
          13533,
          59481,
          21955,
          36802,
          28249,
          47808,
          25509,
          51012,
          42664,
          29760,
          28973,
          39435,
          20194,
          42473,
          36075,
          34026,
          48918,
          37697,
          28520,
          36273,
          59385,
          44689,
          7144,
          18701,
          37758,
          21840,
          32583,
          44635,
          33316,
          25293,
          54111,
          22669,
          29236,
          44911,
          48186,
          54809,
          41580,
          47743,
          32313,
          27071,
          30093,
          25008,
          22280,
          58217,
          21024,
          11448,
          32889,
          34738,
          26642,
          44503,
          49638,
          23830,
          30396,
          50616,
          30298,
          44155,
          42081,
          31158,
          49160,
          24882,
          45759,
          22148,
          29819,
          45688,
          33235,
          35701,
          31535,
          18929,
          36038,
          20180,
          34230,
          31878,
          22701,
          61917,
          21059,
          29543,
          34984,
          34242,
          25410,
          28320,
          23763,
          34529,
          36065,
          39898,
          51141,
          29478,
          56551,
          44359,
          40887,
          48877,
          39062,
          40794,
          54690,
          4428,
          38236,
          36781,
          31385,
          24570,
          25509,
          58646,
          21994,
          51373,
          23477,
          58116,
          39791,
          13672,
          67506,
          24206,
          28420,
          22979,
          33279,
          46423,
          30368,
          39146,
          37284,
          36790,
          27943,
          22263,
          30261,
          28587,
          43815,
          32765,
          29672,
          23272,
          7500,
          17649,
          40059,
          60905,
          38680,
          29009,
          45057,
          43020,
          53154,
          32871,
          36927,
          48794,
          23478,
          38361,
          56145.31392931393,
          42554,
          42192,
          31761,
          34350,
          25293,
          27889,
          22123,
          52720.37365591398,
          52917.53424657534,
          27803,
          52720.37365591398,
          30828,
          34109,
          22390,
          71322,
          48699,
          53204,
          14796,
          14188,
          20425,
          58646,
          48150,
          34587,
          43018,
          27733,
          25818,
          37509,
          25176,
          43586,
          50116,
          33590,
          30992,
          16005,
          58692,
          20587,
          62637,
          19346,
          35788,
          23539,
          29732,
          41275,
          42769,
          49572,
          17148,
          30560,
          32146,
          41713,
          34176,
          59686,
          62994,
          15253,
          31560,
          41967,
          52914,
          38946,
          26067,
          42523,
          26487,
          53233,
          25224,
          40851,
          27469,
          8820,
          43322,
          37085,
          16185,
          18929,
          32144,
          14918,
          45146,
          38054,
          5305,
          36807,
          28427,
          22775,
          7500,
          33562,
          24434,
          11012,
          26816,
          34421
         ],
         "xaxis": "x",
         "y": [
          27,
          53,
          169,
          46,
          49,
          19,
          61,
          310,
          46,
          96,
          317,
          133,
          316,
          75,
          131,
          30,
          318,
          120,
          65,
          81,
          67,
          53,
          22,
          186,
          31,
          122,
          55,
          124,
          72,
          29,
          46,
          34,
          11,
          109,
          65,
          13,
          18,
          165,
          16,
          79,
          318,
          56,
          194,
          18,
          32,
          43,
          45,
          63,
          72,
          55,
          29,
          187,
          145,
          114,
          81,
          33,
          80,
          30,
          43,
          90,
          29,
          106,
          49,
          38,
          312,
          68,
          22,
          127,
          459,
          89,
          306,
          18,
          162,
          13,
          121,
          88,
          259,
          89,
          36,
          57,
          148,
          93,
          119,
          45,
          10,
          191,
          57,
          66,
          43,
          50,
          39,
          68,
          80,
          91,
          31,
          38,
          35,
          53,
          65,
          17,
          285,
          114,
          185,
          189,
          17,
          22,
          19,
          69,
          23,
          57,
          26,
          17,
          64,
          26,
          210,
          33,
          44,
          17,
          31,
          275,
          25,
          90,
          67,
          60,
          231,
          48,
          99,
          102,
          317,
          37,
          70,
          390,
          52,
          137,
          68,
          25,
          32,
          100,
          62,
          90,
          273,
          66,
          107,
          241,
          53,
          37,
          32,
          102,
          28,
          30,
          20,
          65,
          37,
          38,
          160,
          23,
          71,
          59,
          33,
          62,
          139,
          18,
          42,
          44,
          16,
          49,
          99,
          425,
          57,
          25,
          51,
          30,
          29,
          73,
          81,
          37,
          51,
          17,
          22,
          324,
          19,
          41,
          492,
          114,
          222,
          209,
          47,
          27,
          96,
          64,
          343,
          41,
          70,
          272,
          46,
          79,
          78,
          48,
          45,
          10,
          20,
          43,
          57,
          46,
          467,
          122,
          36,
          34,
          156,
          14,
          37,
          34,
          20,
          192,
          48,
          59,
          431,
          270,
          135,
          120,
          15,
          17,
          44,
          25,
          31,
          70,
          54,
          296,
          266,
          20,
          205,
          309,
          43,
          64,
          32,
          263,
          46,
          137,
          216,
          347,
          138,
          42,
          52,
          358,
          210,
          42,
          260,
          46,
          96,
          232,
          76,
          54,
          201,
          406,
          41,
          134,
          69,
          21,
          54,
          91,
          162,
          64,
          78,
          331,
          265,
          11,
          21,
          17,
          38,
          177,
          279,
          62,
          182,
          49,
          75,
          47,
          143,
          55,
          63,
          473,
          55,
          81,
          49,
          69,
          67,
          30,
          63,
          79,
          42,
          213,
          67,
          28,
          45,
          268,
          266,
          37,
          37,
          35,
          42,
          95,
          33,
          36,
          103,
          191,
          93,
          16,
          393,
          486,
          235,
          48,
          67,
          365,
          165,
          210,
          22,
          74,
          26,
          60,
          20,
          59,
          34,
          198,
          11,
          172,
          257,
          270,
          29,
          121,
          126,
          23,
          57,
          187,
          57,
          59,
          18,
          112,
          233,
          48,
          21,
          16,
          65,
          11,
          18,
          97,
          63,
          109,
          38,
          28,
          92,
          99,
          66,
          86,
          242,
          183,
          81,
          137,
          16,
          93,
          43,
          29,
          25,
          24,
          38,
          57,
          47,
          50,
          270,
          177,
          60,
          41,
          170,
          63,
          72,
          48,
          20,
          570,
          55,
          55,
          162,
          36,
          22,
          63,
          50,
          39,
          385,
          46,
          76,
          290,
          89,
          70,
          195,
          53,
          368,
          35,
          41,
          40,
          40,
          15,
          369,
          393,
          10,
          486,
          69,
          45,
          182,
          156,
          128,
          86,
          68,
          16,
          55,
          55,
          83,
          14,
          401,
          84,
          203,
          28,
          67,
          199,
          178,
          350,
          46,
          95,
          62,
          467,
          125,
          32,
          46,
          66,
          305,
          50,
          41,
          77,
          131,
          54,
          53,
          96,
          64,
          149,
          93,
          23,
          92,
          94,
          23,
          6,
          54,
          45,
          19,
          108,
          23,
          89,
          343,
          58,
          69,
          17,
          116,
          103,
          44,
          236,
          39,
          137,
          79,
          63,
          71,
          58,
          94,
          80,
          22,
          55,
          313,
          62,
          92,
          72,
          54,
          36,
          122,
          122,
          12,
          56,
          37,
          49,
          38,
          18,
          46,
          47,
          22,
          396,
          20,
          15,
          17,
          23,
          133,
          73,
          121,
          12,
          367,
          267,
          61,
          63,
          64,
          16,
          44,
          63,
          426,
          96,
          125,
          135,
          330,
          78,
          24,
          15,
          57,
          326,
          77,
          30,
          315,
          74,
          46,
          86,
          61,
          145,
          27,
          18,
          237,
          48,
          301,
          218,
          75,
          106,
          16,
          34,
          75,
          225,
          18,
          470,
          91,
          235,
          88,
          17,
          24,
          60,
          155,
          51,
          96,
          160,
          139,
          183,
          174,
          195,
          31,
          43,
          49,
          133,
          363,
          140,
          114,
          101,
          25,
          87,
          90,
          61,
          72,
          40,
          63,
          52,
          39,
          130,
          34,
          152,
          21,
          71,
          119,
          21,
          10,
          23,
          49,
          48,
          83,
          84,
          183,
          76,
          30,
          99,
          38,
          434,
          44,
          78,
          17,
          26,
          76,
          15,
          62,
          198,
          49,
          57,
          37,
          311,
          274,
          57,
          44,
          102,
          61,
          397,
          50,
          58,
          170,
          373,
          101,
          311,
          129,
          32,
          320,
          85,
          24,
          112,
          30,
          28,
          227,
          103,
          131,
          62,
          415,
          30,
          187,
          251,
          237,
          91,
          35,
          68,
          322,
          317,
          222,
          45,
          21,
          45,
          42,
          22,
          41,
          95,
          42,
          72,
          20,
          15,
          59,
          417,
          188,
          20,
          209,
          96,
          222,
          61,
          44,
          8,
          42,
          60,
          78,
          23,
          19,
          61,
          449,
          37,
          38,
          34,
          48,
          30,
          125,
          156,
          70,
          22,
          65,
          209,
          57,
          180,
          77,
          46,
          44,
          47,
          13,
          65,
          175,
          40,
          134,
          87,
          217,
          32,
          46,
          75,
          55,
          38,
          73,
          275,
          78,
          106,
          106,
          84,
          48,
          5,
          112,
          55,
          103,
          22,
          72,
          18,
          100,
          80,
          167,
          23,
          92,
          25,
          20,
          102,
          156,
          17,
          92,
          407,
          54,
          52,
          147,
          137,
          15,
          66,
          49,
          155,
          58,
          311,
          95,
          47,
          339,
          35,
          32,
          41,
          39,
          57,
          270,
          31,
          16,
          311,
          227,
          122,
          77,
          233,
          54,
          78,
          244,
          116,
          15,
          425,
          41,
          31,
          34,
          29,
          20,
          396,
          138,
          55,
          117,
          32,
          67,
          335,
          231,
          68,
          71,
          76,
          47,
          82,
          244,
          36,
          404,
          71,
          122,
          41,
          10,
          304,
          37,
          21,
          31,
          67,
          25,
          32,
          72,
          57,
          103,
          153,
          279,
          264,
          69,
          64,
          31,
          11,
          69,
          54,
          68,
          60,
          55,
          358,
          42,
          184,
          145,
          28,
          48,
          44,
          38,
          81,
          167,
          45,
          48,
          461,
          55,
          20,
          43,
          224,
          101,
          209,
          24,
          165,
          269,
          102,
          47,
          144,
          119,
          76,
          62,
          84,
          43,
          76,
          185,
          34,
          416,
          44,
          40,
          27,
          9,
          68,
          131,
          37,
          388,
          173,
          99,
          215,
          219,
          174,
          92,
          275,
          159,
          35,
          69,
          34,
          13,
          103,
          84,
          14,
          55,
          20,
          42,
          48,
          39,
          43,
          34,
          149,
          28,
          46,
          382,
          72,
          236,
          80,
          68,
          49,
          39,
          306,
          70,
          46,
          51,
          85,
          47,
          137,
          21,
          70,
          24,
          91,
          44,
          63,
          38,
          15,
          38,
          43,
          42,
          162,
          74,
          134,
          157,
          20,
          138,
          45,
          161,
          144,
          44,
          434,
          198,
          359,
          88,
          63,
          27,
          193,
          101,
          140,
          22,
          393,
          147,
          443,
          174,
          25,
          331,
          25,
          13,
          115,
          16,
          92,
          52,
          165,
          23,
          66,
          37,
          21,
          22,
          78,
          79,
          46,
          25,
          46,
          100,
          45,
          414,
          392,
          79,
          44,
          50,
          223,
          158,
          43,
          71,
          54,
          129,
          137,
          47,
          41,
          100,
          98,
          48,
          37,
          26,
          102,
          97,
          207,
          176,
          450,
          56,
          22,
          26,
          350,
          40,
          45,
          51,
          75,
          57,
          140,
          266,
          22,
          133,
          57,
          28,
          123,
          13,
          132,
          66,
          8,
          43,
          103,
          395,
          25,
          185,
          22,
          44,
          81,
          38,
          61,
          88,
          54,
          68,
          31,
          66,
          174,
          28,
          274,
          312,
          29,
          94,
          54,
          575,
          257,
          56,
          125,
          69,
          40,
          46,
          59,
          17,
          35,
          141,
          61,
          106,
          85,
          54,
          43,
          53,
          45,
          32,
          16,
          52,
          15,
          53,
          51,
          50,
          84,
          22,
          30
         ],
         "yaxis": "y"
        },
        {
         "customdata": [
          [
           "Cluster 2"
          ],
          [
           "Cluster 2"
          ],
          [
           "Cluster 2"
          ],
          [
           "Cluster 2"
          ],
          [
           "Cluster 2"
          ],
          [
           "Cluster 2"
          ],
          [
           "Cluster 2"
          ],
          [
           "Cluster 2"
          ],
          [
           "Cluster 2"
          ],
          [
           "Cluster 2"
          ],
          [
           "Cluster 2"
          ],
          [
           "Cluster 2"
          ],
          [
           "Cluster 2"
          ],
          [
           "Cluster 2"
          ],
          [
           "Cluster 2"
          ],
          [
           "Cluster 2"
          ],
          [
           "Cluster 2"
          ],
          [
           "Cluster 2"
          ],
          [
           "Cluster 2"
          ],
          [
           "Cluster 2"
          ],
          [
           "Cluster 2"
          ],
          [
           "Cluster 2"
          ],
          [
           "Cluster 2"
          ],
          [
           "Cluster 2"
          ],
          [
           "Cluster 2"
          ],
          [
           "Cluster 2"
          ],
          [
           "Cluster 2"
          ],
          [
           "Cluster 2"
          ],
          [
           "Cluster 2"
          ],
          [
           "Cluster 2"
          ],
          [
           "Cluster 2"
          ],
          [
           "Cluster 2"
          ],
          [
           "Cluster 2"
          ],
          [
           "Cluster 2"
          ],
          [
           "Cluster 2"
          ],
          [
           "Cluster 2"
          ],
          [
           "Cluster 2"
          ],
          [
           "Cluster 2"
          ],
          [
           "Cluster 2"
          ],
          [
           "Cluster 2"
          ],
          [
           "Cluster 2"
          ],
          [
           "Cluster 2"
          ],
          [
           "Cluster 2"
          ],
          [
           "Cluster 2"
          ],
          [
           "Cluster 2"
          ],
          [
           "Cluster 2"
          ],
          [
           "Cluster 2"
          ],
          [
           "Cluster 2"
          ],
          [
           "Cluster 2"
          ],
          [
           "Cluster 2"
          ],
          [
           "Cluster 2"
          ],
          [
           "Cluster 2"
          ],
          [
           "Cluster 2"
          ],
          [
           "Cluster 2"
          ],
          [
           "Cluster 2"
          ],
          [
           "Cluster 2"
          ],
          [
           "Cluster 2"
          ],
          [
           "Cluster 2"
          ],
          [
           "Cluster 2"
          ],
          [
           "Cluster 2"
          ],
          [
           "Cluster 2"
          ],
          [
           "Cluster 2"
          ],
          [
           "Cluster 2"
          ],
          [
           "Cluster 2"
          ],
          [
           "Cluster 2"
          ],
          [
           "Cluster 2"
          ],
          [
           "Cluster 2"
          ],
          [
           "Cluster 2"
          ],
          [
           "Cluster 2"
          ],
          [
           "Cluster 2"
          ],
          [
           "Cluster 2"
          ],
          [
           "Cluster 2"
          ],
          [
           "Cluster 2"
          ],
          [
           "Cluster 2"
          ],
          [
           "Cluster 2"
          ],
          [
           "Cluster 2"
          ],
          [
           "Cluster 2"
          ],
          [
           "Cluster 2"
          ],
          [
           "Cluster 2"
          ],
          [
           "Cluster 2"
          ],
          [
           "Cluster 2"
          ],
          [
           "Cluster 2"
          ],
          [
           "Cluster 2"
          ],
          [
           "Cluster 2"
          ],
          [
           "Cluster 2"
          ],
          [
           "Cluster 2"
          ],
          [
           "Cluster 2"
          ],
          [
           "Cluster 2"
          ],
          [
           "Cluster 2"
          ],
          [
           "Cluster 2"
          ],
          [
           "Cluster 2"
          ],
          [
           "Cluster 2"
          ],
          [
           "Cluster 2"
          ],
          [
           "Cluster 2"
          ],
          [
           "Cluster 2"
          ],
          [
           "Cluster 2"
          ],
          [
           "Cluster 2"
          ],
          [
           "Cluster 2"
          ],
          [
           "Cluster 2"
          ],
          [
           "Cluster 2"
          ],
          [
           "Cluster 2"
          ],
          [
           "Cluster 2"
          ],
          [
           "Cluster 2"
          ],
          [
           "Cluster 2"
          ],
          [
           "Cluster 2"
          ],
          [
           "Cluster 2"
          ],
          [
           "Cluster 2"
          ],
          [
           "Cluster 2"
          ],
          [
           "Cluster 2"
          ],
          [
           "Cluster 2"
          ],
          [
           "Cluster 2"
          ],
          [
           "Cluster 2"
          ],
          [
           "Cluster 2"
          ],
          [
           "Cluster 2"
          ],
          [
           "Cluster 2"
          ],
          [
           "Cluster 2"
          ],
          [
           "Cluster 2"
          ],
          [
           "Cluster 2"
          ],
          [
           "Cluster 2"
          ],
          [
           "Cluster 2"
          ],
          [
           "Cluster 2"
          ],
          [
           "Cluster 2"
          ],
          [
           "Cluster 2"
          ],
          [
           "Cluster 2"
          ],
          [
           "Cluster 2"
          ],
          [
           "Cluster 2"
          ],
          [
           "Cluster 2"
          ],
          [
           "Cluster 2"
          ],
          [
           "Cluster 2"
          ],
          [
           "Cluster 2"
          ],
          [
           "Cluster 2"
          ],
          [
           "Cluster 2"
          ],
          [
           "Cluster 2"
          ],
          [
           "Cluster 2"
          ],
          [
           "Cluster 2"
          ],
          [
           "Cluster 2"
          ],
          [
           "Cluster 2"
          ],
          [
           "Cluster 2"
          ],
          [
           "Cluster 2"
          ],
          [
           "Cluster 2"
          ],
          [
           "Cluster 2"
          ],
          [
           "Cluster 2"
          ],
          [
           "Cluster 2"
          ],
          [
           "Cluster 2"
          ],
          [
           "Cluster 2"
          ],
          [
           "Cluster 2"
          ],
          [
           "Cluster 2"
          ],
          [
           "Cluster 2"
          ],
          [
           "Cluster 2"
          ],
          [
           "Cluster 2"
          ],
          [
           "Cluster 2"
          ],
          [
           "Cluster 2"
          ],
          [
           "Cluster 2"
          ],
          [
           "Cluster 2"
          ],
          [
           "Cluster 2"
          ],
          [
           "Cluster 2"
          ],
          [
           "Cluster 2"
          ],
          [
           "Cluster 2"
          ],
          [
           "Cluster 2"
          ],
          [
           "Cluster 2"
          ],
          [
           "Cluster 2"
          ],
          [
           "Cluster 2"
          ],
          [
           "Cluster 2"
          ],
          [
           "Cluster 2"
          ],
          [
           "Cluster 2"
          ],
          [
           "Cluster 2"
          ],
          [
           "Cluster 2"
          ],
          [
           "Cluster 2"
          ],
          [
           "Cluster 2"
          ],
          [
           "Cluster 2"
          ],
          [
           "Cluster 2"
          ],
          [
           "Cluster 2"
          ],
          [
           "Cluster 2"
          ],
          [
           "Cluster 2"
          ],
          [
           "Cluster 2"
          ],
          [
           "Cluster 2"
          ],
          [
           "Cluster 2"
          ],
          [
           "Cluster 2"
          ],
          [
           "Cluster 2"
          ],
          [
           "Cluster 2"
          ],
          [
           "Cluster 2"
          ],
          [
           "Cluster 2"
          ],
          [
           "Cluster 2"
          ],
          [
           "Cluster 2"
          ],
          [
           "Cluster 2"
          ],
          [
           "Cluster 2"
          ],
          [
           "Cluster 2"
          ],
          [
           "Cluster 2"
          ],
          [
           "Cluster 2"
          ],
          [
           "Cluster 2"
          ],
          [
           "Cluster 2"
          ],
          [
           "Cluster 2"
          ],
          [
           "Cluster 2"
          ],
          [
           "Cluster 2"
          ],
          [
           "Cluster 2"
          ],
          [
           "Cluster 2"
          ],
          [
           "Cluster 2"
          ],
          [
           "Cluster 2"
          ],
          [
           "Cluster 2"
          ],
          [
           "Cluster 2"
          ],
          [
           "Cluster 2"
          ],
          [
           "Cluster 2"
          ],
          [
           "Cluster 2"
          ],
          [
           "Cluster 2"
          ],
          [
           "Cluster 2"
          ],
          [
           "Cluster 2"
          ],
          [
           "Cluster 2"
          ],
          [
           "Cluster 2"
          ],
          [
           "Cluster 2"
          ],
          [
           "Cluster 2"
          ],
          [
           "Cluster 2"
          ],
          [
           "Cluster 2"
          ],
          [
           "Cluster 2"
          ],
          [
           "Cluster 2"
          ],
          [
           "Cluster 2"
          ],
          [
           "Cluster 2"
          ],
          [
           "Cluster 2"
          ],
          [
           "Cluster 2"
          ],
          [
           "Cluster 2"
          ],
          [
           "Cluster 2"
          ],
          [
           "Cluster 2"
          ],
          [
           "Cluster 2"
          ],
          [
           "Cluster 2"
          ],
          [
           "Cluster 2"
          ],
          [
           "Cluster 2"
          ],
          [
           "Cluster 2"
          ],
          [
           "Cluster 2"
          ],
          [
           "Cluster 2"
          ],
          [
           "Cluster 2"
          ],
          [
           "Cluster 2"
          ],
          [
           "Cluster 2"
          ],
          [
           "Cluster 2"
          ],
          [
           "Cluster 2"
          ],
          [
           "Cluster 2"
          ],
          [
           "Cluster 2"
          ],
          [
           "Cluster 2"
          ],
          [
           "Cluster 2"
          ],
          [
           "Cluster 2"
          ],
          [
           "Cluster 2"
          ],
          [
           "Cluster 2"
          ],
          [
           "Cluster 2"
          ],
          [
           "Cluster 2"
          ],
          [
           "Cluster 2"
          ],
          [
           "Cluster 2"
          ],
          [
           "Cluster 2"
          ],
          [
           "Cluster 2"
          ],
          [
           "Cluster 2"
          ],
          [
           "Cluster 2"
          ],
          [
           "Cluster 2"
          ],
          [
           "Cluster 2"
          ],
          [
           "Cluster 2"
          ],
          [
           "Cluster 2"
          ],
          [
           "Cluster 2"
          ],
          [
           "Cluster 2"
          ],
          [
           "Cluster 2"
          ],
          [
           "Cluster 2"
          ],
          [
           "Cluster 2"
          ],
          [
           "Cluster 2"
          ],
          [
           "Cluster 2"
          ],
          [
           "Cluster 2"
          ],
          [
           "Cluster 2"
          ],
          [
           "Cluster 2"
          ],
          [
           "Cluster 2"
          ],
          [
           "Cluster 2"
          ],
          [
           "Cluster 2"
          ],
          [
           "Cluster 2"
          ],
          [
           "Cluster 2"
          ],
          [
           "Cluster 2"
          ],
          [
           "Cluster 2"
          ],
          [
           "Cluster 2"
          ],
          [
           "Cluster 2"
          ],
          [
           "Cluster 2"
          ],
          [
           "Cluster 2"
          ],
          [
           "Cluster 2"
          ],
          [
           "Cluster 2"
          ],
          [
           "Cluster 2"
          ],
          [
           "Cluster 2"
          ],
          [
           "Cluster 2"
          ],
          [
           "Cluster 2"
          ],
          [
           "Cluster 2"
          ],
          [
           "Cluster 2"
          ],
          [
           "Cluster 2"
          ],
          [
           "Cluster 2"
          ],
          [
           "Cluster 2"
          ],
          [
           "Cluster 2"
          ],
          [
           "Cluster 2"
          ],
          [
           "Cluster 2"
          ],
          [
           "Cluster 2"
          ],
          [
           "Cluster 2"
          ],
          [
           "Cluster 2"
          ],
          [
           "Cluster 2"
          ],
          [
           "Cluster 2"
          ],
          [
           "Cluster 2"
          ],
          [
           "Cluster 2"
          ],
          [
           "Cluster 2"
          ],
          [
           "Cluster 2"
          ],
          [
           "Cluster 2"
          ],
          [
           "Cluster 2"
          ],
          [
           "Cluster 2"
          ],
          [
           "Cluster 2"
          ],
          [
           "Cluster 2"
          ],
          [
           "Cluster 2"
          ],
          [
           "Cluster 2"
          ],
          [
           "Cluster 2"
          ],
          [
           "Cluster 2"
          ],
          [
           "Cluster 2"
          ],
          [
           "Cluster 2"
          ],
          [
           "Cluster 2"
          ],
          [
           "Cluster 2"
          ],
          [
           "Cluster 2"
          ],
          [
           "Cluster 2"
          ],
          [
           "Cluster 2"
          ],
          [
           "Cluster 2"
          ],
          [
           "Cluster 2"
          ],
          [
           "Cluster 2"
          ],
          [
           "Cluster 2"
          ],
          [
           "Cluster 2"
          ],
          [
           "Cluster 2"
          ],
          [
           "Cluster 2"
          ],
          [
           "Cluster 2"
          ],
          [
           "Cluster 2"
          ],
          [
           "Cluster 2"
          ],
          [
           "Cluster 2"
          ],
          [
           "Cluster 2"
          ],
          [
           "Cluster 2"
          ],
          [
           "Cluster 2"
          ],
          [
           "Cluster 2"
          ],
          [
           "Cluster 2"
          ],
          [
           "Cluster 2"
          ],
          [
           "Cluster 2"
          ],
          [
           "Cluster 2"
          ],
          [
           "Cluster 2"
          ],
          [
           "Cluster 2"
          ],
          [
           "Cluster 2"
          ],
          [
           "Cluster 2"
          ],
          [
           "Cluster 2"
          ],
          [
           "Cluster 2"
          ],
          [
           "Cluster 2"
          ],
          [
           "Cluster 2"
          ],
          [
           "Cluster 2"
          ],
          [
           "Cluster 2"
          ],
          [
           "Cluster 2"
          ],
          [
           "Cluster 2"
          ],
          [
           "Cluster 2"
          ],
          [
           "Cluster 2"
          ],
          [
           "Cluster 2"
          ],
          [
           "Cluster 2"
          ],
          [
           "Cluster 2"
          ],
          [
           "Cluster 2"
          ],
          [
           "Cluster 2"
          ],
          [
           "Cluster 2"
          ],
          [
           "Cluster 2"
          ],
          [
           "Cluster 2"
          ],
          [
           "Cluster 2"
          ],
          [
           "Cluster 2"
          ],
          [
           "Cluster 2"
          ],
          [
           "Cluster 2"
          ],
          [
           "Cluster 2"
          ],
          [
           "Cluster 2"
          ],
          [
           "Cluster 2"
          ],
          [
           "Cluster 2"
          ],
          [
           "Cluster 2"
          ],
          [
           "Cluster 2"
          ]
         ],
         "hovertemplate": "Cluster=%{customdata[0]}<br>Income=%{x}<br>Total_Spend=%{y}<extra></extra>",
         "legendgroup": "Cluster 2",
         "marker": {
          "color": "#00cc96",
          "symbol": "circle"
         },
         "mode": "markers",
         "name": "Cluster 2",
         "showlegend": true,
         "type": "scattergl",
         "x": [
          58293,
          55635,
          2447,
          58607,
          40689,
          53359,
          46610,
          67353,
          72550,
          66373,
          66653,
          61823,
          74854,
          60631,
          36138,
          56145.31392931393,
          47916,
          52413,
          43974,
          36550,
          56129,
          56145.31392931393,
          77376,
          62998,
          61331,
          41551,
          59809,
          35688,
          65747,
          46344,
          157243,
          51148,
          46854,
          48721,
          46097,
          44377,
          46014,
          41443,
          63887,
          37070,
          61074,
          75702,
          45989,
          69674,
          43776,
          38097,
          50898,
          57912,
          54198,
          52720.37365591398,
          64325,
          40464,
          60000,
          51479,
          48178,
          63810,
          46098,
          35688,
          63381,
          83664,
          43824,
          42373,
          55521,
          50437,
          53858,
          46923,
          49505,
          42387,
          67309,
          57959,
          38988,
          42207,
          60597,
          53790,
          49269,
          56937,
          62503,
          62010,
          41124,
          58308,
          61250,
          44124,
          49154,
          47682,
          57954,
          47352,
          43462,
          62466,
          66565,
          44989,
          54603,
          45207,
          40689,
          61467,
          49618,
          45837,
          30522,
          54456,
          70971,
          62466,
          63120,
          63381,
          62859,
          46463,
          67445,
          46734,
          56253,
          59247,
          66731,
          160803,
          50611,
          55250,
          58710,
          7500,
          56962,
          53593,
          66373,
          45072,
          62220,
          58512,
          62058,
          42720,
          42564,
          43783,
          40780,
          61872,
          49681,
          55267,
          59666,
          52750,
          93404,
          56575,
          71391,
          60474,
          55357,
          44602,
          38683,
          57906,
          42835,
          46231,
          51195,
          51390,
          58917,
          52278,
          64831,
          44051,
          59754,
          53700,
          54237,
          50183,
          44010,
          40706,
          56962,
          53103,
          42021,
          56337,
          36930,
          36130,
          30168,
          64504,
          68316,
          47703,
          8028,
          35196,
          44529,
          42557,
          62845,
          64176,
          70713,
          36715,
          54233,
          38508,
          66480,
          47025,
          52034,
          39552,
          86358,
          67381,
          56129,
          54450,
          46049,
          54450,
          62710,
          66726,
          48070,
          50965,
          56721,
          33629,
          54730,
          44421,
          27683,
          1730,
          67433,
          55158,
          53378,
          38808,
          57183,
          66303,
          46149,
          57811,
          44267,
          60894,
          50200,
          59868,
          74805,
          47009,
          37774,
          72828,
          48752,
          39660,
          43263,
          62845,
          58554,
          53034,
          59601,
          50611,
          56242,
          48904,
          56243,
          54342,
          53761,
          60544,
          36864,
          44511,
          36947,
          47352,
          57045,
          36957,
          57537,
          63810,
          70844,
          60544,
          52852,
          57957,
          49476,
          50725,
          60474,
          64014,
          49854,
          60585,
          42873,
          57867,
          53374,
          53253,
          42014,
          54108,
          57136,
          46772,
          53977,
          46098,
          55759,
          58597,
          57036,
          53083,
          46098,
          23331,
          74881,
          51983,
          67445,
          47175,
          49681,
          63972,
          55517,
          75283,
          42014,
          38201,
          40442,
          34968,
          48432,
          53843,
          51250,
          60432,
          52973,
          50664,
          54414,
          47111,
          59821,
          56386,
          50334,
          50729,
          58350,
          61064,
          55012,
          58656,
          35196,
          44392,
          55424,
          38513,
          42586,
          74881,
          37292,
          44989,
          51569,
          42586,
          34600,
          46904,
          49094,
          60839,
          34074,
          37070,
          53977,
          46757,
          50387,
          54693,
          57333,
          65735,
          4023,
          60208,
          30538,
          60200,
          76532,
          61671,
          52278,
          57107,
          62694,
          54998,
          54356,
          46998,
          34600,
          53201,
          57113,
          56559,
          32644,
          41638,
          34445,
          48195,
          49912,
          75330,
          60689,
          83273,
          37150,
          55801,
          52917.53424657534,
          67445,
          51651,
          53367,
          49912,
          54252,
          58275,
          45736,
          53230,
          40590,
          29435,
          36997,
          65333,
          63516,
          40590,
          47320,
          48432,
          44325,
          67716,
          50501,
          57731,
          48432,
          35893,
          61014,
          41769,
          40101,
          58554,
          63777,
          57967,
          64014,
          52869
         ],
         "xaxis": "x",
         "y": [
          422,
          590,
          1730,
          972,
          444,
          257,
          302,
          913,
          1319,
          606,
          612,
          884,
          1562,
          661,
          151,
          603,
          606,
          910,
          551,
          577,
          660,
          404,
          661,
          463,
          632,
          279,
          877,
          211,
          460,
          429,
          1608,
          315,
          263,
          293,
          241,
          264,
          541,
          482,
          1245,
          433,
          1102,
          1148,
          322,
          845,
          275,
          184,
          859,
          916,
          235,
          1052,
          1307,
          630,
          1277,
          494,
          254,
          1371,
          120,
          211,
          1005,
          1173,
          186,
          163,
          446,
          490,
          915,
          369,
          751,
          684,
          1082,
          868,
          348,
          265,
          893,
          542,
          890,
          906,
          973,
          530,
          506,
          900,
          730,
          397,
          411,
          521,
          493,
          319,
          240,
          889,
          1065,
          369,
          227,
          215,
          444,
          594,
          129,
          373,
          326,
          404,
          1825,
          889,
          1477,
          1005,
          1307,
          235,
          1174,
          223,
          597,
          574,
          1029,
          1717,
          493,
          903,
          1185,
          71,
          411,
          480,
          606,
          284,
          1226,
          1171,
          450,
          654,
          813,
          629,
          377,
          573,
          458,
          405,
          1027,
          860,
          1616,
          542,
          1043,
          1180,
          727,
          292,
          341,
          401,
          595,
          263,
          564,
          353,
          282,
          1198,
          1120,
          171,
          475,
          694,
          361,
          231,
          662,
          81,
          411,
          1085,
          573,
          724,
          297,
          488,
          279,
          1314,
          1211,
          655,
          178,
          497,
          691,
          270,
          1178,
          1826,
          1477,
          357,
          981,
          443,
          312,
          635,
          332,
          384,
          1722,
          957,
          660,
          684,
          515,
          684,
          606,
          438,
          504,
          685,
          296,
          152,
          405,
          189,
          351,
          8,
          992,
          418,
          793,
          246,
          610,
          1286,
          362,
          802,
          310,
          832,
          401,
          1194,
          820,
          448,
          473,
          1678,
          316,
          299,
          441,
          1178,
          586,
          447,
          797,
          493,
          971,
          371,
          396,
          177,
          325,
          289,
          354,
          727,
          146,
          319,
          454,
          152,
          545,
          1371,
          294,
          289,
          879,
          637,
          795,
          586,
          1180,
          444,
          380,
          736,
          269,
          612,
          1064,
          436,
          436,
          747,
          642,
          1048,
          907,
          120,
          854,
          733,
          1513,
          271,
          120,
          269,
          964,
          793,
          1174,
          240,
          458,
          1269,
          633,
          1019,
          436,
          268,
          169,
          221,
          424,
          562,
          710,
          401,
          1152,
          561,
          211,
          1092,
          734,
          612,
          694,
          496,
          1001,
          1080,
          660,
          1220,
          497,
          211,
          877,
          324,
          252,
          964,
          460,
          369,
          467,
          252,
          318,
          253,
          502,
          1250,
          255,
          433,
          907,
          1143,
          525,
          929,
          1662,
          395,
          9,
          656,
          367,
          685,
          820,
          732,
          1198,
          416,
          749,
          455,
          775,
          377,
          318,
          415,
          263,
          484,
          413,
          441,
          839,
          265,
          874,
          1109,
          639,
          1392,
          467,
          527,
          721,
          1174,
          433,
          400,
          874,
          264,
          615,
          437,
          732,
          258,
          180,
          94,
          798,
          300,
          258,
          414,
          424,
          542,
          1016,
          500,
          704,
          424,
          199,
          1147,
          521,
          415,
          586,
          653,
          468,
          444,
          172
         ],
         "yaxis": "y"
        },
        {
         "customdata": [
          [
           "Cluster 4"
          ],
          [
           "Cluster 4"
          ],
          [
           "Cluster 4"
          ],
          [
           "Cluster 4"
          ],
          [
           "Cluster 4"
          ],
          [
           "Cluster 4"
          ],
          [
           "Cluster 4"
          ],
          [
           "Cluster 4"
          ],
          [
           "Cluster 4"
          ],
          [
           "Cluster 4"
          ],
          [
           "Cluster 4"
          ],
          [
           "Cluster 4"
          ],
          [
           "Cluster 4"
          ],
          [
           "Cluster 4"
          ],
          [
           "Cluster 4"
          ],
          [
           "Cluster 4"
          ],
          [
           "Cluster 4"
          ],
          [
           "Cluster 4"
          ],
          [
           "Cluster 4"
          ],
          [
           "Cluster 4"
          ],
          [
           "Cluster 4"
          ],
          [
           "Cluster 4"
          ],
          [
           "Cluster 4"
          ],
          [
           "Cluster 4"
          ],
          [
           "Cluster 4"
          ],
          [
           "Cluster 4"
          ],
          [
           "Cluster 4"
          ],
          [
           "Cluster 4"
          ],
          [
           "Cluster 4"
          ],
          [
           "Cluster 4"
          ],
          [
           "Cluster 4"
          ],
          [
           "Cluster 4"
          ],
          [
           "Cluster 4"
          ],
          [
           "Cluster 4"
          ],
          [
           "Cluster 4"
          ],
          [
           "Cluster 4"
          ],
          [
           "Cluster 4"
          ],
          [
           "Cluster 4"
          ],
          [
           "Cluster 4"
          ],
          [
           "Cluster 4"
          ],
          [
           "Cluster 4"
          ],
          [
           "Cluster 4"
          ],
          [
           "Cluster 4"
          ],
          [
           "Cluster 4"
          ],
          [
           "Cluster 4"
          ],
          [
           "Cluster 4"
          ],
          [
           "Cluster 4"
          ],
          [
           "Cluster 4"
          ],
          [
           "Cluster 4"
          ],
          [
           "Cluster 4"
          ],
          [
           "Cluster 4"
          ],
          [
           "Cluster 4"
          ],
          [
           "Cluster 4"
          ],
          [
           "Cluster 4"
          ],
          [
           "Cluster 4"
          ],
          [
           "Cluster 4"
          ],
          [
           "Cluster 4"
          ],
          [
           "Cluster 4"
          ],
          [
           "Cluster 4"
          ],
          [
           "Cluster 4"
          ],
          [
           "Cluster 4"
          ],
          [
           "Cluster 4"
          ],
          [
           "Cluster 4"
          ],
          [
           "Cluster 4"
          ],
          [
           "Cluster 4"
          ],
          [
           "Cluster 4"
          ],
          [
           "Cluster 4"
          ],
          [
           "Cluster 4"
          ],
          [
           "Cluster 4"
          ],
          [
           "Cluster 4"
          ],
          [
           "Cluster 4"
          ],
          [
           "Cluster 4"
          ],
          [
           "Cluster 4"
          ],
          [
           "Cluster 4"
          ],
          [
           "Cluster 4"
          ],
          [
           "Cluster 4"
          ],
          [
           "Cluster 4"
          ],
          [
           "Cluster 4"
          ],
          [
           "Cluster 4"
          ],
          [
           "Cluster 4"
          ],
          [
           "Cluster 4"
          ],
          [
           "Cluster 4"
          ],
          [
           "Cluster 4"
          ],
          [
           "Cluster 4"
          ],
          [
           "Cluster 4"
          ],
          [
           "Cluster 4"
          ],
          [
           "Cluster 4"
          ],
          [
           "Cluster 4"
          ],
          [
           "Cluster 4"
          ],
          [
           "Cluster 4"
          ],
          [
           "Cluster 4"
          ],
          [
           "Cluster 4"
          ],
          [
           "Cluster 4"
          ],
          [
           "Cluster 4"
          ],
          [
           "Cluster 4"
          ],
          [
           "Cluster 4"
          ],
          [
           "Cluster 4"
          ],
          [
           "Cluster 4"
          ],
          [
           "Cluster 4"
          ],
          [
           "Cluster 4"
          ],
          [
           "Cluster 4"
          ],
          [
           "Cluster 4"
          ],
          [
           "Cluster 4"
          ],
          [
           "Cluster 4"
          ],
          [
           "Cluster 4"
          ],
          [
           "Cluster 4"
          ],
          [
           "Cluster 4"
          ],
          [
           "Cluster 4"
          ],
          [
           "Cluster 4"
          ],
          [
           "Cluster 4"
          ],
          [
           "Cluster 4"
          ],
          [
           "Cluster 4"
          ],
          [
           "Cluster 4"
          ],
          [
           "Cluster 4"
          ],
          [
           "Cluster 4"
          ],
          [
           "Cluster 4"
          ],
          [
           "Cluster 4"
          ],
          [
           "Cluster 4"
          ],
          [
           "Cluster 4"
          ],
          [
           "Cluster 4"
          ],
          [
           "Cluster 4"
          ],
          [
           "Cluster 4"
          ],
          [
           "Cluster 4"
          ],
          [
           "Cluster 4"
          ],
          [
           "Cluster 4"
          ],
          [
           "Cluster 4"
          ],
          [
           "Cluster 4"
          ],
          [
           "Cluster 4"
          ],
          [
           "Cluster 4"
          ],
          [
           "Cluster 4"
          ],
          [
           "Cluster 4"
          ],
          [
           "Cluster 4"
          ],
          [
           "Cluster 4"
          ],
          [
           "Cluster 4"
          ],
          [
           "Cluster 4"
          ],
          [
           "Cluster 4"
          ],
          [
           "Cluster 4"
          ],
          [
           "Cluster 4"
          ],
          [
           "Cluster 4"
          ],
          [
           "Cluster 4"
          ],
          [
           "Cluster 4"
          ],
          [
           "Cluster 4"
          ],
          [
           "Cluster 4"
          ],
          [
           "Cluster 4"
          ],
          [
           "Cluster 4"
          ],
          [
           "Cluster 4"
          ],
          [
           "Cluster 4"
          ],
          [
           "Cluster 4"
          ],
          [
           "Cluster 4"
          ],
          [
           "Cluster 4"
          ],
          [
           "Cluster 4"
          ],
          [
           "Cluster 4"
          ],
          [
           "Cluster 4"
          ],
          [
           "Cluster 4"
          ],
          [
           "Cluster 4"
          ],
          [
           "Cluster 4"
          ],
          [
           "Cluster 4"
          ],
          [
           "Cluster 4"
          ],
          [
           "Cluster 4"
          ],
          [
           "Cluster 4"
          ],
          [
           "Cluster 4"
          ],
          [
           "Cluster 4"
          ],
          [
           "Cluster 4"
          ],
          [
           "Cluster 4"
          ],
          [
           "Cluster 4"
          ],
          [
           "Cluster 4"
          ],
          [
           "Cluster 4"
          ],
          [
           "Cluster 4"
          ],
          [
           "Cluster 4"
          ],
          [
           "Cluster 4"
          ],
          [
           "Cluster 4"
          ],
          [
           "Cluster 4"
          ],
          [
           "Cluster 4"
          ],
          [
           "Cluster 4"
          ],
          [
           "Cluster 4"
          ],
          [
           "Cluster 4"
          ],
          [
           "Cluster 4"
          ],
          [
           "Cluster 4"
          ],
          [
           "Cluster 4"
          ],
          [
           "Cluster 4"
          ],
          [
           "Cluster 4"
          ],
          [
           "Cluster 4"
          ],
          [
           "Cluster 4"
          ],
          [
           "Cluster 4"
          ],
          [
           "Cluster 4"
          ]
         ],
         "hovertemplate": "Cluster=%{customdata[0]}<br>Income=%{x}<br>Total_Spend=%{y}<extra></extra>",
         "legendgroup": "Cluster 4",
         "marker": {
          "color": "#ab63fa",
          "symbol": "circle"
         },
         "mode": "markers",
         "name": "Cluster 4",
         "showlegend": true,
         "type": "scattergl",
         "x": [
          82800,
          48948,
          82582,
          82384,
          75777,
          88194,
          75825,
          56046,
          50388,
          68126,
          86037,
          90765,
          101970,
          69372,
          83837,
          102160,
          64497,
          83790,
          73687,
          80134,
          102692,
          69867,
          55951,
          52720.37365591398,
          75693,
          83003,
          55212,
          71952,
          80134,
          91065,
          82584,
          92910,
          75433,
          84865,
          81246,
          89572,
          75261,
          80184,
          70503,
          76982,
          84169,
          87771,
          61996,
          79800,
          92163,
          72298,
          77632,
          105471,
          81300,
          77845,
          90247,
          71952,
          87305,
          89694,
          72025,
          63564,
          80952,
          82017,
          48192,
          76412,
          57091,
          87771,
          81205,
          82347,
          46374,
          70123,
          80812,
          48948,
          86429,
          95529,
          84169,
          82025,
          94384,
          51563,
          92955,
          80763,
          75759,
          85683,
          78028,
          95169,
          77568,
          74538,
          83528,
          87171,
          75345,
          84460,
          83829,
          81698,
          71819,
          72903,
          83145,
          90638,
          54959,
          67369,
          84906,
          69969,
          77766,
          76653,
          90687,
          73450,
          83829,
          78687,
          49118,
          83151,
          78569,
          94384,
          81051,
          65169,
          71604,
          71434,
          88097,
          69109,
          92344,
          80134,
          80589,
          92533,
          78427,
          82657,
          93790,
          94871,
          87679,
          49667,
          74004,
          82800,
          90638,
          81574,
          90226,
          64509,
          64140,
          72066,
          77766,
          37929,
          80141,
          56534,
          83512,
          77520,
          92491,
          90273,
          80360,
          63342,
          84953,
          86836,
          83257,
          74290,
          69109,
          82326,
          86979,
          88420,
          77870,
          91249,
          55212,
          73356,
          72335,
          96843,
          71670,
          72643,
          85738,
          94642,
          72968,
          91712,
          94472,
          96547,
          79205,
          96876,
          68117,
          65308,
          52917.53424657534,
          79244,
          81929,
          76068,
          78128,
          72967,
          82332,
          84906,
          82333,
          72309,
          78499,
          91172,
          90000,
          65706,
          65210,
          79174,
          82347,
          73803,
          75777
         ],
         "xaxis": "x",
         "y": [
          1315,
          902,
          1617,
          1957,
          1438,
          1274,
          2209,
          692,
          372,
          1820,
          730,
          1724,
          1135,
          1381,
          1318,
          1240,
          1804,
          1615,
          1627,
          1690,
          1112,
          925,
          1374,
          1611,
          1442,
          1674,
          1182,
          1443,
          1378,
          1474,
          1435,
          1795,
          1188,
          1688,
          1379,
          2059,
          1743,
          1902,
          1727,
          1062,
          1919,
          1957,
          1230,
          1867,
          2086,
          939,
          2252,
          1724,
          1241,
          1346,
          1621,
          1443,
          1152,
          1472,
          1677,
          1215,
          1757,
          729,
          1526,
          1808,
          577,
          1957,
          2009,
          1853,
          446,
          1727,
          1677,
          902,
          1449,
          1990,
          1919,
          1187,
          2302,
          1250,
          1778,
          1415,
          2486,
          1789,
          528,
          1901,
          2194,
          1461,
          1650,
          1298,
          2087,
          523,
          1862,
          1104,
          1574,
          2013,
          1833,
          2525,
          1232,
          1461,
          1631,
          1536,
          1529,
          2279,
          1779,
          1804,
          1862,
          2130,
          1229,
          2346,
          1736,
          2302,
          1501,
          1189,
          1196,
          1400,
          844,
          1555,
          1899,
          1690,
          1428,
          1131,
          1930,
          2283,
          2349,
          1078,
          2524,
          1396,
          1658,
          1315,
          2525,
          1798,
          2352,
          1722,
          1750,
          1792,
          1529,
          265,
          2091,
          815,
          2157,
          1526,
          2034,
          1991,
          2231,
          1101,
          1024,
          557,
          1365,
          1217,
          1555,
          2257,
          1702,
          2069,
          1815,
          1676,
          1182,
          1512,
          2092,
          1544,
          1766,
          1429,
          1371,
          2211,
          1958,
          2217,
          1691,
          809,
          895,
          1941,
          930,
          1211,
          1564,
          1216,
          2053,
          1376,
          1264,
          497,
          2006,
          1631,
          1822,
          1931,
          1334,
          1092,
          1479,
          1199,
          731,
          2043,
          1853,
          1528,
          1438
         ],
         "yaxis": "y"
        }
       ],
       "layout": {
        "height": 600,
        "legend": {
         "title": {
          "text": "Cluster"
         },
         "tracegroupgap": 0
        },
        "margin": {
         "t": 60
        },
        "template": {
         "data": {
          "bar": [
           {
            "error_x": {
             "color": "#2a3f5f"
            },
            "error_y": {
             "color": "#2a3f5f"
            },
            "marker": {
             "line": {
              "color": "#E5ECF6",
              "width": 0.5
             },
             "pattern": {
              "fillmode": "overlay",
              "size": 10,
              "solidity": 0.2
             }
            },
            "type": "bar"
           }
          ],
          "barpolar": [
           {
            "marker": {
             "line": {
              "color": "#E5ECF6",
              "width": 0.5
             },
             "pattern": {
              "fillmode": "overlay",
              "size": 10,
              "solidity": 0.2
             }
            },
            "type": "barpolar"
           }
          ],
          "carpet": [
           {
            "aaxis": {
             "endlinecolor": "#2a3f5f",
             "gridcolor": "white",
             "linecolor": "white",
             "minorgridcolor": "white",
             "startlinecolor": "#2a3f5f"
            },
            "baxis": {
             "endlinecolor": "#2a3f5f",
             "gridcolor": "white",
             "linecolor": "white",
             "minorgridcolor": "white",
             "startlinecolor": "#2a3f5f"
            },
            "type": "carpet"
           }
          ],
          "choropleth": [
           {
            "colorbar": {
             "outlinewidth": 0,
             "ticks": ""
            },
            "type": "choropleth"
           }
          ],
          "contour": [
           {
            "colorbar": {
             "outlinewidth": 0,
             "ticks": ""
            },
            "colorscale": [
             [
              0,
              "#0d0887"
             ],
             [
              0.1111111111111111,
              "#46039f"
             ],
             [
              0.2222222222222222,
              "#7201a8"
             ],
             [
              0.3333333333333333,
              "#9c179e"
             ],
             [
              0.4444444444444444,
              "#bd3786"
             ],
             [
              0.5555555555555556,
              "#d8576b"
             ],
             [
              0.6666666666666666,
              "#ed7953"
             ],
             [
              0.7777777777777778,
              "#fb9f3a"
             ],
             [
              0.8888888888888888,
              "#fdca26"
             ],
             [
              1,
              "#f0f921"
             ]
            ],
            "type": "contour"
           }
          ],
          "contourcarpet": [
           {
            "colorbar": {
             "outlinewidth": 0,
             "ticks": ""
            },
            "type": "contourcarpet"
           }
          ],
          "heatmap": [
           {
            "colorbar": {
             "outlinewidth": 0,
             "ticks": ""
            },
            "colorscale": [
             [
              0,
              "#0d0887"
             ],
             [
              0.1111111111111111,
              "#46039f"
             ],
             [
              0.2222222222222222,
              "#7201a8"
             ],
             [
              0.3333333333333333,
              "#9c179e"
             ],
             [
              0.4444444444444444,
              "#bd3786"
             ],
             [
              0.5555555555555556,
              "#d8576b"
             ],
             [
              0.6666666666666666,
              "#ed7953"
             ],
             [
              0.7777777777777778,
              "#fb9f3a"
             ],
             [
              0.8888888888888888,
              "#fdca26"
             ],
             [
              1,
              "#f0f921"
             ]
            ],
            "type": "heatmap"
           }
          ],
          "heatmapgl": [
           {
            "colorbar": {
             "outlinewidth": 0,
             "ticks": ""
            },
            "colorscale": [
             [
              0,
              "#0d0887"
             ],
             [
              0.1111111111111111,
              "#46039f"
             ],
             [
              0.2222222222222222,
              "#7201a8"
             ],
             [
              0.3333333333333333,
              "#9c179e"
             ],
             [
              0.4444444444444444,
              "#bd3786"
             ],
             [
              0.5555555555555556,
              "#d8576b"
             ],
             [
              0.6666666666666666,
              "#ed7953"
             ],
             [
              0.7777777777777778,
              "#fb9f3a"
             ],
             [
              0.8888888888888888,
              "#fdca26"
             ],
             [
              1,
              "#f0f921"
             ]
            ],
            "type": "heatmapgl"
           }
          ],
          "histogram": [
           {
            "marker": {
             "pattern": {
              "fillmode": "overlay",
              "size": 10,
              "solidity": 0.2
             }
            },
            "type": "histogram"
           }
          ],
          "histogram2d": [
           {
            "colorbar": {
             "outlinewidth": 0,
             "ticks": ""
            },
            "colorscale": [
             [
              0,
              "#0d0887"
             ],
             [
              0.1111111111111111,
              "#46039f"
             ],
             [
              0.2222222222222222,
              "#7201a8"
             ],
             [
              0.3333333333333333,
              "#9c179e"
             ],
             [
              0.4444444444444444,
              "#bd3786"
             ],
             [
              0.5555555555555556,
              "#d8576b"
             ],
             [
              0.6666666666666666,
              "#ed7953"
             ],
             [
              0.7777777777777778,
              "#fb9f3a"
             ],
             [
              0.8888888888888888,
              "#fdca26"
             ],
             [
              1,
              "#f0f921"
             ]
            ],
            "type": "histogram2d"
           }
          ],
          "histogram2dcontour": [
           {
            "colorbar": {
             "outlinewidth": 0,
             "ticks": ""
            },
            "colorscale": [
             [
              0,
              "#0d0887"
             ],
             [
              0.1111111111111111,
              "#46039f"
             ],
             [
              0.2222222222222222,
              "#7201a8"
             ],
             [
              0.3333333333333333,
              "#9c179e"
             ],
             [
              0.4444444444444444,
              "#bd3786"
             ],
             [
              0.5555555555555556,
              "#d8576b"
             ],
             [
              0.6666666666666666,
              "#ed7953"
             ],
             [
              0.7777777777777778,
              "#fb9f3a"
             ],
             [
              0.8888888888888888,
              "#fdca26"
             ],
             [
              1,
              "#f0f921"
             ]
            ],
            "type": "histogram2dcontour"
           }
          ],
          "mesh3d": [
           {
            "colorbar": {
             "outlinewidth": 0,
             "ticks": ""
            },
            "type": "mesh3d"
           }
          ],
          "parcoords": [
           {
            "line": {
             "colorbar": {
              "outlinewidth": 0,
              "ticks": ""
             }
            },
            "type": "parcoords"
           }
          ],
          "pie": [
           {
            "automargin": true,
            "type": "pie"
           }
          ],
          "scatter": [
           {
            "fillpattern": {
             "fillmode": "overlay",
             "size": 10,
             "solidity": 0.2
            },
            "type": "scatter"
           }
          ],
          "scatter3d": [
           {
            "line": {
             "colorbar": {
              "outlinewidth": 0,
              "ticks": ""
             }
            },
            "marker": {
             "colorbar": {
              "outlinewidth": 0,
              "ticks": ""
             }
            },
            "type": "scatter3d"
           }
          ],
          "scattercarpet": [
           {
            "marker": {
             "colorbar": {
              "outlinewidth": 0,
              "ticks": ""
             }
            },
            "type": "scattercarpet"
           }
          ],
          "scattergeo": [
           {
            "marker": {
             "colorbar": {
              "outlinewidth": 0,
              "ticks": ""
             }
            },
            "type": "scattergeo"
           }
          ],
          "scattergl": [
           {
            "marker": {
             "colorbar": {
              "outlinewidth": 0,
              "ticks": ""
             }
            },
            "type": "scattergl"
           }
          ],
          "scattermapbox": [
           {
            "marker": {
             "colorbar": {
              "outlinewidth": 0,
              "ticks": ""
             }
            },
            "type": "scattermapbox"
           }
          ],
          "scatterpolar": [
           {
            "marker": {
             "colorbar": {
              "outlinewidth": 0,
              "ticks": ""
             }
            },
            "type": "scatterpolar"
           }
          ],
          "scatterpolargl": [
           {
            "marker": {
             "colorbar": {
              "outlinewidth": 0,
              "ticks": ""
             }
            },
            "type": "scatterpolargl"
           }
          ],
          "scatterternary": [
           {
            "marker": {
             "colorbar": {
              "outlinewidth": 0,
              "ticks": ""
             }
            },
            "type": "scatterternary"
           }
          ],
          "surface": [
           {
            "colorbar": {
             "outlinewidth": 0,
             "ticks": ""
            },
            "colorscale": [
             [
              0,
              "#0d0887"
             ],
             [
              0.1111111111111111,
              "#46039f"
             ],
             [
              0.2222222222222222,
              "#7201a8"
             ],
             [
              0.3333333333333333,
              "#9c179e"
             ],
             [
              0.4444444444444444,
              "#bd3786"
             ],
             [
              0.5555555555555556,
              "#d8576b"
             ],
             [
              0.6666666666666666,
              "#ed7953"
             ],
             [
              0.7777777777777778,
              "#fb9f3a"
             ],
             [
              0.8888888888888888,
              "#fdca26"
             ],
             [
              1,
              "#f0f921"
             ]
            ],
            "type": "surface"
           }
          ],
          "table": [
           {
            "cells": {
             "fill": {
              "color": "#EBF0F8"
             },
             "line": {
              "color": "white"
             }
            },
            "header": {
             "fill": {
              "color": "#C8D4E3"
             },
             "line": {
              "color": "white"
             }
            },
            "type": "table"
           }
          ]
         },
         "layout": {
          "annotationdefaults": {
           "arrowcolor": "#2a3f5f",
           "arrowhead": 0,
           "arrowwidth": 1
          },
          "autotypenumbers": "strict",
          "coloraxis": {
           "colorbar": {
            "outlinewidth": 0,
            "ticks": ""
           }
          },
          "colorscale": {
           "diverging": [
            [
             0,
             "#8e0152"
            ],
            [
             0.1,
             "#c51b7d"
            ],
            [
             0.2,
             "#de77ae"
            ],
            [
             0.3,
             "#f1b6da"
            ],
            [
             0.4,
             "#fde0ef"
            ],
            [
             0.5,
             "#f7f7f7"
            ],
            [
             0.6,
             "#e6f5d0"
            ],
            [
             0.7,
             "#b8e186"
            ],
            [
             0.8,
             "#7fbc41"
            ],
            [
             0.9,
             "#4d9221"
            ],
            [
             1,
             "#276419"
            ]
           ],
           "sequential": [
            [
             0,
             "#0d0887"
            ],
            [
             0.1111111111111111,
             "#46039f"
            ],
            [
             0.2222222222222222,
             "#7201a8"
            ],
            [
             0.3333333333333333,
             "#9c179e"
            ],
            [
             0.4444444444444444,
             "#bd3786"
            ],
            [
             0.5555555555555556,
             "#d8576b"
            ],
            [
             0.6666666666666666,
             "#ed7953"
            ],
            [
             0.7777777777777778,
             "#fb9f3a"
            ],
            [
             0.8888888888888888,
             "#fdca26"
            ],
            [
             1,
             "#f0f921"
            ]
           ],
           "sequentialminus": [
            [
             0,
             "#0d0887"
            ],
            [
             0.1111111111111111,
             "#46039f"
            ],
            [
             0.2222222222222222,
             "#7201a8"
            ],
            [
             0.3333333333333333,
             "#9c179e"
            ],
            [
             0.4444444444444444,
             "#bd3786"
            ],
            [
             0.5555555555555556,
             "#d8576b"
            ],
            [
             0.6666666666666666,
             "#ed7953"
            ],
            [
             0.7777777777777778,
             "#fb9f3a"
            ],
            [
             0.8888888888888888,
             "#fdca26"
            ],
            [
             1,
             "#f0f921"
            ]
           ]
          },
          "colorway": [
           "#636efa",
           "#EF553B",
           "#00cc96",
           "#ab63fa",
           "#FFA15A",
           "#19d3f3",
           "#FF6692",
           "#B6E880",
           "#FF97FF",
           "#FECB52"
          ],
          "font": {
           "color": "#2a3f5f"
          },
          "geo": {
           "bgcolor": "white",
           "lakecolor": "white",
           "landcolor": "#E5ECF6",
           "showlakes": true,
           "showland": true,
           "subunitcolor": "white"
          },
          "hoverlabel": {
           "align": "left"
          },
          "hovermode": "closest",
          "mapbox": {
           "style": "light"
          },
          "paper_bgcolor": "white",
          "plot_bgcolor": "#E5ECF6",
          "polar": {
           "angularaxis": {
            "gridcolor": "white",
            "linecolor": "white",
            "ticks": ""
           },
           "bgcolor": "#E5ECF6",
           "radialaxis": {
            "gridcolor": "white",
            "linecolor": "white",
            "ticks": ""
           }
          },
          "scene": {
           "xaxis": {
            "backgroundcolor": "#E5ECF6",
            "gridcolor": "white",
            "gridwidth": 2,
            "linecolor": "white",
            "showbackground": true,
            "ticks": "",
            "zerolinecolor": "white"
           },
           "yaxis": {
            "backgroundcolor": "#E5ECF6",
            "gridcolor": "white",
            "gridwidth": 2,
            "linecolor": "white",
            "showbackground": true,
            "ticks": "",
            "zerolinecolor": "white"
           },
           "zaxis": {
            "backgroundcolor": "#E5ECF6",
            "gridcolor": "white",
            "gridwidth": 2,
            "linecolor": "white",
            "showbackground": true,
            "ticks": "",
            "zerolinecolor": "white"
           }
          },
          "shapedefaults": {
           "line": {
            "color": "#2a3f5f"
           }
          },
          "ternary": {
           "aaxis": {
            "gridcolor": "white",
            "linecolor": "white",
            "ticks": ""
           },
           "baxis": {
            "gridcolor": "white",
            "linecolor": "white",
            "ticks": ""
           },
           "bgcolor": "#E5ECF6",
           "caxis": {
            "gridcolor": "white",
            "linecolor": "white",
            "ticks": ""
           }
          },
          "title": {
           "x": 0.05
          },
          "xaxis": {
           "automargin": true,
           "gridcolor": "white",
           "linecolor": "white",
           "ticks": "",
           "title": {
            "standoff": 15
           },
           "zerolinecolor": "white",
           "zerolinewidth": 2
          },
          "yaxis": {
           "automargin": true,
           "gridcolor": "white",
           "linecolor": "white",
           "ticks": "",
           "title": {
            "standoff": 15
           },
           "zerolinecolor": "white",
           "zerolinewidth": 2
          }
         }
        },
        "title": {
         "text": "Spend vs Income Plot"
        },
        "width": 900,
        "xaxis": {
         "anchor": "y",
         "domain": [
          0,
          1
         ],
         "title": {
          "text": "Spend"
         }
        },
        "yaxis": {
         "anchor": "x",
         "domain": [
          0,
          1
         ],
         "title": {
          "text": "Income"
         }
        }
       }
      }
     },
     "metadata": {},
     "output_type": "display_data"
    }
   ],
   "source": [
    "fig = px.scatter(df_, x=\"Income\", y=\"Total_Spend\",\n",
    "                 color=\"Cluster\",\n",
    "                 hover_data=['Total_Spend', 'Income', 'Cluster'])\n",
    "\n",
    "fig.update_layout(\n",
    "    title=\"Spend vs Income Plot\",\n",
    "    xaxis_title = \"Spend\",\n",
    "    yaxis_title = \"Income\",\n",
    "    width = 900, height=600\n",
    ")\n",
    "\n",
    "fig.show()"
   ]
  },
  {
   "cell_type": "code",
   "execution_count": 363,
   "metadata": {},
   "outputs": [
    {
     "data": {
      "text/html": [
       "<div>\n",
       "<style scoped>\n",
       "    .dataframe tbody tr th:only-of-type {\n",
       "        vertical-align: middle;\n",
       "    }\n",
       "\n",
       "    .dataframe tbody tr th {\n",
       "        vertical-align: top;\n",
       "    }\n",
       "\n",
       "    .dataframe thead th {\n",
       "        text-align: right;\n",
       "    }\n",
       "</style>\n",
       "<table border=\"1\" class=\"dataframe\">\n",
       "  <thead>\n",
       "    <tr style=\"text-align: right;\">\n",
       "      <th></th>\n",
       "      <th>ID</th>\n",
       "      <th>Education</th>\n",
       "      <th>Marital_Status</th>\n",
       "      <th>Income</th>\n",
       "      <th>NumDealsPurchases</th>\n",
       "      <th>Age</th>\n",
       "      <th>Kids</th>\n",
       "      <th>Days_Enrolled</th>\n",
       "      <th>Total_Spend</th>\n",
       "      <th>CouponsAccepted</th>\n",
       "      <th>Total_Purchases</th>\n",
       "      <th>Recency_</th>\n",
       "      <th>Cluster</th>\n",
       "    </tr>\n",
       "  </thead>\n",
       "  <tbody>\n",
       "    <tr>\n",
       "      <th>0</th>\n",
       "      <td>5524</td>\n",
       "      <td>Graduation</td>\n",
       "      <td>Single</td>\n",
       "      <td>58138.0</td>\n",
       "      <td>3</td>\n",
       "      <td>(60, 70]</td>\n",
       "      <td>0</td>\n",
       "      <td>663</td>\n",
       "      <td>1617</td>\n",
       "      <td>1</td>\n",
       "      <td>22</td>\n",
       "      <td>4.142857</td>\n",
       "      <td>Cluster 3</td>\n",
       "    </tr>\n",
       "    <tr>\n",
       "      <th>1</th>\n",
       "      <td>2174</td>\n",
       "      <td>Graduation</td>\n",
       "      <td>Single</td>\n",
       "      <td>46344.0</td>\n",
       "      <td>2</td>\n",
       "      <td>(60, 70]</td>\n",
       "      <td>2</td>\n",
       "      <td>113</td>\n",
       "      <td>27</td>\n",
       "      <td>0</td>\n",
       "      <td>4</td>\n",
       "      <td>2.714286</td>\n",
       "      <td>Cluster 1</td>\n",
       "    </tr>\n",
       "    <tr>\n",
       "      <th>2</th>\n",
       "      <td>4141</td>\n",
       "      <td>Graduation</td>\n",
       "      <td>Relationship</td>\n",
       "      <td>71613.0</td>\n",
       "      <td>1</td>\n",
       "      <td>(50, 60]</td>\n",
       "      <td>0</td>\n",
       "      <td>312</td>\n",
       "      <td>776</td>\n",
       "      <td>0</td>\n",
       "      <td>20</td>\n",
       "      <td>1.857143</td>\n",
       "      <td>Cluster 3</td>\n",
       "    </tr>\n",
       "    <tr>\n",
       "      <th>3</th>\n",
       "      <td>6182</td>\n",
       "      <td>Graduation</td>\n",
       "      <td>Relationship</td>\n",
       "      <td>26646.0</td>\n",
       "      <td>2</td>\n",
       "      <td>(30,40]</td>\n",
       "      <td>1</td>\n",
       "      <td>139</td>\n",
       "      <td>53</td>\n",
       "      <td>0</td>\n",
       "      <td>6</td>\n",
       "      <td>1.857143</td>\n",
       "      <td>Cluster 1</td>\n",
       "    </tr>\n",
       "    <tr>\n",
       "      <th>4</th>\n",
       "      <td>5324</td>\n",
       "      <td>PhD</td>\n",
       "      <td>Relationship</td>\n",
       "      <td>58293.0</td>\n",
       "      <td>5</td>\n",
       "      <td>(40,50]</td>\n",
       "      <td>1</td>\n",
       "      <td>161</td>\n",
       "      <td>422</td>\n",
       "      <td>0</td>\n",
       "      <td>14</td>\n",
       "      <td>6.714286</td>\n",
       "      <td>Cluster 2</td>\n",
       "    </tr>\n",
       "  </tbody>\n",
       "</table>\n",
       "</div>"
      ],
      "text/plain": [
       "     ID   Education Marital_Status   Income  NumDealsPurchases       Age  \\\n",
       "0  5524  Graduation         Single  58138.0                  3  (60, 70]   \n",
       "1  2174  Graduation         Single  46344.0                  2  (60, 70]   \n",
       "2  4141  Graduation   Relationship  71613.0                  1  (50, 60]   \n",
       "3  6182  Graduation   Relationship  26646.0                  2   (30,40]   \n",
       "4  5324         PhD   Relationship  58293.0                  5   (40,50]   \n",
       "\n",
       "   Kids  Days_Enrolled  Total_Spend  CouponsAccepted  Total_Purchases  \\\n",
       "0     0            663         1617                1               22   \n",
       "1     2            113           27                0                4   \n",
       "2     0            312          776                0               20   \n",
       "3     1            139           53                0                6   \n",
       "4     1            161          422                0               14   \n",
       "\n",
       "   Recency_    Cluster  \n",
       "0  4.142857  Cluster 3  \n",
       "1  2.714286  Cluster 1  \n",
       "2  1.857143  Cluster 3  \n",
       "3  1.857143  Cluster 1  \n",
       "4  6.714286  Cluster 2  "
      ]
     },
     "execution_count": 363,
     "metadata": {},
     "output_type": "execute_result"
    }
   ],
   "source": [
    "df_.head()"
   ]
  },
  {
   "cell_type": "code",
   "execution_count": 364,
   "metadata": {},
   "outputs": [
    {
     "data": {
      "application/vnd.plotly.v1+json": {
       "config": {
        "plotlyServerURL": "https://plot.ly"
       },
       "data": [
        {
         "hovertemplate": "Cluster=Cluster 3<br>Récence=%{x}<br>Fréquence=%{y}<br>Montant dépensé=%{z}<extra></extra>",
         "legendgroup": "Cluster 3",
         "marker": {
          "color": "#636efa",
          "size": 3,
          "symbol": "circle"
         },
         "mode": "markers",
         "name": "Cluster 3",
         "scene": "scene",
         "showlegend": true,
         "type": "scatter3d",
         "x": [
          4.142857142857143,
          1.8571428571428568,
          1.1428571428571428,
          5.857142857142857,
          6.5,
          0,
          1.3571428571428572,
          6.857142857142857,
          0.2857142857142857,
          0.2142857142857142,
          5.142857142857143,
          2.071428571428572,
          0.1428571428571428,
          2.142857142857143,
          4.5,
          0.5714285714285714,
          2.071428571428572,
          0.2857142857142857,
          0.0714285714285714,
          2.071428571428572,
          2.4285714285714284,
          1.2857142857142858,
          5,
          6.214285714285714,
          3.142857142857143,
          2.2857142857142856,
          4.214285714285714,
          4.857142857142857,
          2.5,
          1.2857142857142858,
          3.2857142857142856,
          1.9285714285714288,
          6.214285714285714,
          2.642857142857143,
          0.7142857142857143,
          6.857142857142857,
          1.5,
          3.2857142857142856,
          0.2857142857142857,
          5.214285714285714,
          3.357142857142857,
          4.071428571428571,
          4.571428571428571,
          1.4285714285714286,
          0.6428571428571429,
          1.9285714285714288,
          3.2857142857142856,
          4,
          3.142857142857143,
          1.5,
          2.4285714285714284,
          1,
          7,
          5.714285714285714,
          5.857142857142857,
          1.4285714285714286,
          3.571428571428572,
          4.285714285714286,
          4.5,
          1.2857142857142858,
          4.714285714285714,
          3.4285714285714284,
          4,
          0.2142857142857142,
          6,
          1.9285714285714288,
          5.142857142857143,
          0.1428571428571428,
          6.357142857142857,
          2.2857142857142856,
          7,
          6.928571428571429,
          5.285714285714286,
          6.428571428571429,
          4.071428571428571,
          3.4285714285714284,
          3.357142857142857,
          0.9285714285714286,
          2.2142857142857144,
          6.142857142857143,
          4,
          2.071428571428572,
          4.571428571428571,
          6,
          5.285714285714286,
          1.2142857142857142,
          1.3571428571428572,
          2.2857142857142856,
          3.2142857142857144,
          3.142857142857143,
          3.142857142857143,
          6.071428571428571,
          6.642857142857143,
          3,
          2.142857142857143,
          1.6428571428571428,
          3.5,
          5.857142857142857,
          2.7142857142857144,
          6.785714285714286,
          5.071428571428571,
          4.142857142857143,
          0,
          6.785714285714286,
          2.7142857142857144,
          1.2857142857142858,
          0.4285714285714285,
          4.642857142857143,
          6.214285714285714,
          2.7142857142857144,
          4.642857142857143,
          4.571428571428571,
          1.9285714285714288,
          4.5,
          1,
          0.5,
          4.714285714285714,
          5.714285714285714,
          4,
          0.1428571428571428,
          0.0714285714285714,
          5.928571428571429,
          5.214285714285714,
          5.5,
          0.0714285714285714,
          1.9285714285714288,
          0.8571428571428571,
          6.5,
          1.7142857142857142,
          1.5,
          5.571428571428571,
          4.285714285714286,
          3.357142857142857,
          5.928571428571429,
          3.357142857142857,
          1.3571428571428572,
          6.642857142857143,
          2.5,
          0.2857142857142857,
          6.571428571428571,
          0.7857142857142857,
          5.142857142857143,
          6.071428571428571,
          6.285714285714286,
          5.928571428571429,
          4.5,
          0.6428571428571429,
          4.714285714285714,
          2.071428571428572,
          5.5,
          5.5,
          0.4285714285714285,
          5.571428571428571,
          3.357142857142857,
          1.7142857142857142,
          6.785714285714286,
          1.4285714285714286,
          5.142857142857143,
          1.4285714285714286,
          4.642857142857143,
          4,
          4.857142857142857,
          5.214285714285714,
          0.2857142857142857,
          4.071428571428571,
          2.142857142857143,
          5.357142857142857,
          0.8571428571428571,
          5.285714285714286,
          6.714285714285714,
          3.357142857142857,
          5.928571428571429,
          5.642857142857143,
          6,
          5.214285714285714,
          2.2142857142857144,
          3.857142857142857,
          4,
          3.071428571428572,
          3.2857142857142856,
          0.8571428571428571,
          5.142857142857143,
          4.142857142857143,
          4.071428571428571,
          3,
          2,
          1.6428571428571428,
          5.785714285714286,
          2.571428571428572,
          6.214285714285714,
          5.785714285714286,
          2.7142857142857144,
          4.5,
          5.357142857142857,
          1.3571428571428572,
          3.642857142857143,
          5.785714285714286,
          2.2857142857142856,
          6.214285714285714,
          7.071428571428571,
          6.857142857142857,
          0.2142857142857142,
          5.214285714285714,
          3.2857142857142856,
          2.071428571428572,
          7.071428571428571,
          1.8571428571428568,
          2.142857142857143,
          6.285714285714286,
          6.857142857142857,
          3.142857142857143,
          4.571428571428571,
          0.0714285714285714,
          6.428571428571429,
          5.642857142857143,
          4.428571428571429,
          2.9285714285714284,
          1.2142857142857142,
          4.928571428571429,
          2.071428571428572,
          1.8571428571428568,
          0.5714285714285714,
          5.928571428571429,
          4.071428571428571,
          2.142857142857143,
          6.357142857142857,
          6.571428571428571,
          6.214285714285714,
          4,
          2,
          2.357142857142857,
          0.9285714285714286,
          6.571428571428571,
          0.5714285714285714,
          0.4285714285714285,
          0.2142857142857142,
          4.071428571428571,
          6.428571428571429,
          2,
          6.142857142857143,
          3.2142857142857144,
          2.357142857142857,
          7,
          1.2142857142857142,
          3.857142857142857,
          0.5714285714285714,
          3.071428571428572,
          0.0714285714285714,
          5.142857142857143,
          0.8571428571428571,
          3.857142857142857,
          3.642857142857143,
          5.928571428571429,
          6.714285714285714,
          7,
          2.142857142857143,
          0.1428571428571428,
          1.9285714285714288,
          4.285714285714286,
          0,
          0.3571428571428571,
          4.357142857142857,
          2.4285714285714284,
          0.8571428571428571,
          6.857142857142857,
          4.785714285714286,
          0.5,
          6.642857142857143,
          5.785714285714286,
          0.5714285714285714,
          6.928571428571429,
          4.357142857142857,
          5.214285714285714,
          1.3571428571428572,
          6.714285714285714,
          5.357142857142857,
          2.857142857142857,
          3.642857142857143,
          6.142857142857143,
          5.214285714285714,
          4.785714285714286,
          5.857142857142857,
          6.642857142857143,
          3.7857142857142856,
          4.714285714285714,
          0.4285714285714285,
          3,
          2.071428571428572,
          6.571428571428571,
          3.857142857142857,
          3.2142857142857144,
          4.214285714285714,
          0.5714285714285714,
          3.642857142857143,
          4,
          2.2142857142857144,
          4.642857142857143,
          4.928571428571429,
          6.214285714285714,
          1.9285714285714288,
          2.071428571428572,
          6.071428571428571,
          0.1428571428571428,
          4.714285714285714,
          4.5,
          3.071428571428572,
          0.9285714285714286,
          4.642857142857143,
          5,
          1.7857142857142858,
          0.5,
          6.857142857142857,
          4.071428571428571,
          4,
          2.9285714285714284,
          0.7857142857142857,
          4.142857142857143,
          0.2142857142857142,
          5,
          5,
          6.071428571428571,
          0.2142857142857142,
          2.9285714285714284,
          5.857142857142857,
          4.857142857142857,
          2.2857142857142856,
          6.214285714285714,
          6,
          2.4285714285714284,
          1.6428571428571428,
          1.5714285714285714,
          6.642857142857143,
          5.928571428571429,
          0.2857142857142857,
          2.2857142857142856,
          4.857142857142857,
          0.8571428571428571,
          0,
          4.428571428571429,
          1.7142857142857142,
          4,
          3.857142857142857,
          5.071428571428571,
          4.428571428571429,
          5.571428571428571,
          1.2142857142857142,
          5.642857142857143,
          1.6428571428571428,
          0.2857142857142857,
          3,
          6.357142857142857,
          6.285714285714286,
          6,
          6.5,
          4.214285714285714,
          6.857142857142857,
          3.7142857142857135,
          1.3571428571428572,
          4.357142857142857,
          5.285714285714286,
          3.928571428571429,
          3.857142857142857,
          4.928571428571429,
          0.2142857142857142,
          1.7857142857142858,
          2.5,
          4.571428571428571,
          0.7857142857142857,
          5.142857142857143,
          0.4285714285714285,
          4.714285714285714,
          4.571428571428571,
          6.857142857142857,
          4.142857142857143,
          0.8571428571428571,
          5.571428571428571,
          0.5714285714285714,
          4,
          6,
          5.285714285714286,
          5.428571428571429,
          3.357142857142857,
          4.857142857142857,
          2.571428571428572,
          3.928571428571429,
          6.571428571428571,
          3.642857142857143,
          2.7857142857142856,
          3.5,
          5.214285714285714,
          1.5714285714285714,
          2.142857142857143,
          6.785714285714286,
          1.2857142857142858,
          5.857142857142857,
          4.857142857142857,
          2.642857142857143,
          6.714285714285714,
          3.571428571428572,
          5.571428571428571,
          0.9285714285714286,
          2.571428571428572,
          4.071428571428571,
          2.071428571428572,
          2.2857142857142856,
          0.8571428571428571,
          6.285714285714286,
          6.5,
          0.8571428571428571,
          2.5,
          4.857142857142857,
          6.071428571428571,
          2.571428571428572,
          5.642857142857143,
          4,
          0.1428571428571428,
          4.571428571428571,
          3.857142857142857,
          2.857142857142857,
          1.2142857142857142,
          1.2857142857142858,
          6.285714285714286,
          6.642857142857143,
          3.857142857142857,
          2.9285714285714284,
          2,
          2.857142857142857,
          2.7142857142857144,
          0.2142857142857142,
          4.642857142857143,
          0.6428571428571429,
          4.071428571428571,
          2.071428571428572,
          0.6428571428571429,
          5.571428571428571,
          5.642857142857143,
          5.928571428571429,
          3.571428571428572,
          6,
          6.857142857142857,
          6.071428571428571,
          5.214285714285714,
          1.1428571428571428,
          3.4285714285714284,
          4.642857142857143,
          1.3571428571428572,
          1.9285714285714288,
          6.571428571428571,
          0.0714285714285714,
          5.214285714285714,
          1.5,
          3.857142857142857,
          2.9285714285714284,
          0,
          4.214285714285714,
          0.2857142857142857,
          7.071428571428571,
          5.428571428571429,
          2.357142857142857,
          3.571428571428572,
          6.071428571428571,
          0.7142857142857143,
          0.8571428571428571,
          1,
          5.785714285714286,
          3.7857142857142856,
          5.571428571428571,
          1.2857142857142858,
          2.7857142857142856,
          2.357142857142857,
          5.928571428571429,
          0.1428571428571428,
          4.928571428571429,
          4.214285714285714,
          1.5714285714285714,
          6.785714285714286,
          1.5,
          5.571428571428571,
          0.7857142857142857,
          2.571428571428572,
          1.5,
          1.6428571428571428,
          1.9285714285714288,
          5.071428571428571,
          1.2857142857142858,
          3.4285714285714284,
          0.9285714285714286,
          4.071428571428571,
          5.5,
          4.285714285714286,
          3.071428571428572,
          4.714285714285714,
          3.857142857142857,
          4.357142857142857,
          3.5,
          0.8571428571428571,
          5.5,
          3.2142857142857144,
          5.071428571428571,
          6.214285714285714,
          5.142857142857143,
          6.142857142857143,
          5.785714285714286,
          6.571428571428571,
          5.571428571428571,
          2,
          4.357142857142857,
          2.5,
          2.7142857142857144,
          3.2857142857142856,
          2.357142857142857,
          5,
          0.4285714285714285,
          5.714285714285714,
          5.285714285714286,
          1.5,
          6.785714285714286,
          5.571428571428571,
          4.857142857142857,
          2.4285714285714284,
          5.142857142857143,
          2.071428571428572,
          4.857142857142857,
          3.857142857142857,
          0.0714285714285714,
          7,
          6.5,
          3.2857142857142856,
          6.357142857142857,
          0.9285714285714286,
          6.928571428571429,
          1.9285714285714288,
          7.071428571428571,
          6.214285714285714,
          0.1428571428571428,
          5.285714285714286,
          5.142857142857143,
          4.857142857142857,
          0.2857142857142857,
          1.0714285714285714,
          5,
          7.071428571428571,
          4.071428571428571,
          6,
          0.9285714285714286,
          6.571428571428571,
          0.8571428571428571,
          2.7857142857142856,
          6.142857142857143,
          1,
          4.428571428571429,
          0.0714285714285714,
          2,
          5.214285714285714,
          3,
          1.1428571428571428,
          4,
          4.642857142857143,
          6.928571428571429,
          1.0714285714285714,
          3.7142857142857135,
          0.5714285714285714,
          6.357142857142857,
          4.714285714285714,
          5.285714285714286,
          4.785714285714286,
          6.428571428571429,
          7.071428571428571,
          6.428571428571429,
          0.6428571428571429,
          5.071428571428571,
          6.714285714285714,
          3.642857142857143,
          5.785714285714286,
          2.2857142857142856,
          2.2857142857142856,
          6.071428571428571,
          4.071428571428571,
          3.7857142857142856,
          3.4285714285714284,
          3.2142857142857144,
          3,
          6.642857142857143,
          3.571428571428572,
          4.785714285714286,
          5.857142857142857,
          0.2142857142857142,
          1.7142857142857142,
          1.3571428571428572,
          4.285714285714286,
          0.9285714285714286,
          2.642857142857143,
          2.7142857142857144,
          4.142857142857143,
          4.214285714285714,
          2.071428571428572,
          1.9285714285714288,
          2.2857142857142856,
          4.357142857142857,
          5.214285714285714,
          6.428571428571429,
          5.785714285714286,
          2.2142857142857144,
          1.6428571428571428,
          4.071428571428571,
          0.2857142857142857,
          2.2857142857142856,
          1.7857142857142858,
          6.571428571428571,
          3.142857142857143,
          0,
          3.5,
          5.714285714285714,
          0.7142857142857143,
          2.071428571428572,
          3.857142857142857,
          6.571428571428571,
          5,
          4.5,
          6.071428571428571,
          1.6428571428571428,
          6.785714285714286,
          0.7857142857142857,
          3.4285714285714284,
          1.7142857142857142,
          4.357142857142857,
          0.4285714285714285,
          3.357142857142857,
          4.5,
          2.2142857142857144,
          5.714285714285714,
          3.571428571428572,
          6.642857142857143,
          2.4285714285714284,
          0.2142857142857142,
          6.071428571428571,
          3.4285714285714284,
          0.2857142857142857,
          4.214285714285714,
          6.428571428571429,
          4.5,
          0.2857142857142857,
          1,
          2.9285714285714284,
          1.5,
          3.642857142857143,
          1.5,
          4.285714285714286,
          3.4285714285714284,
          2.571428571428572,
          4.5,
          6.285714285714286,
          3,
          3,
          3.857142857142857,
          5.785714285714286,
          1.7142857142857142,
          3.7857142857142856,
          5.071428571428571,
          3.2857142857142856,
          6.5,
          0.5714285714285714
         ],
         "y": [
          22,
          20,
          20,
          15,
          24,
          17,
          27,
          25,
          17,
          19,
          15,
          16,
          28,
          20,
          16,
          18,
          15,
          17,
          18,
          26,
          18,
          26,
          18,
          14,
          24,
          14,
          25,
          15,
          19,
          13,
          23,
          17,
          14,
          15,
          18,
          18,
          22,
          21,
          15,
          22,
          22,
          24,
          17,
          25,
          19,
          17,
          14,
          27,
          24,
          23,
          16,
          23,
          27,
          22,
          16,
          16,
          16,
          17,
          26,
          19,
          16,
          26,
          15,
          20,
          14,
          15,
          16,
          13,
          26,
          18,
          21,
          14,
          19,
          19,
          21,
          16,
          18,
          12,
          12,
          21,
          21,
          11,
          21,
          14,
          14,
          22,
          21,
          18,
          11,
          20,
          22,
          17,
          17,
          22,
          13,
          18,
          17,
          17,
          21,
          20,
          16,
          15,
          14,
          22,
          15,
          17,
          14,
          13,
          21,
          18,
          17,
          25,
          15,
          14,
          18,
          19,
          15,
          20,
          23,
          22,
          32,
          17,
          18,
          22,
          22,
          24,
          20,
          14,
          24,
          24,
          18,
          21,
          18,
          19,
          29,
          16,
          18,
          28,
          15,
          19,
          19,
          21,
          19,
          19,
          17,
          24,
          20,
          19,
          26,
          23,
          21,
          22,
          18,
          21,
          16,
          12,
          19,
          14,
          16,
          16,
          18,
          13,
          16,
          24,
          19,
          18,
          19,
          24,
          18,
          19,
          14,
          20,
          16,
          17,
          22,
          1,
          20,
          19,
          23,
          13,
          20,
          31,
          16,
          20,
          25,
          15,
          19,
          0,
          25,
          23,
          25,
          18,
          14,
          16,
          19,
          21,
          29,
          14,
          16,
          18,
          21,
          14,
          12,
          18,
          27,
          17,
          18,
          18,
          18,
          11,
          17,
          10,
          14,
          20,
          15,
          23,
          22,
          25,
          17,
          12,
          18,
          26,
          20,
          19,
          23,
          21,
          15,
          23,
          20,
          23,
          17,
          20,
          18,
          16,
          28,
          19,
          19,
          17,
          20,
          18,
          13,
          12,
          20,
          23,
          23,
          27,
          20,
          15,
          22,
          16,
          20,
          23,
          21,
          17,
          26,
          18,
          16,
          17,
          20,
          17,
          25,
          14,
          22,
          27,
          21,
          18,
          18,
          24,
          23,
          19,
          23,
          17,
          15,
          12,
          17,
          21,
          18,
          13,
          14,
          24,
          18,
          25,
          18,
          18,
          15,
          20,
          19,
          23,
          18,
          16,
          27,
          23,
          21,
          18,
          17,
          14,
          24,
          17,
          18,
          17,
          15,
          23,
          23,
          18,
          26,
          14,
          18,
          26,
          20,
          22,
          22,
          21,
          19,
          14,
          19,
          18,
          19,
          15,
          18,
          16,
          13,
          26,
          19,
          24,
          20,
          11,
          21,
          16,
          24,
          18,
          16,
          23,
          20,
          13,
          20,
          12,
          15,
          16,
          19,
          16,
          14,
          12,
          14,
          23,
          20,
          17,
          15,
          19,
          20,
          24,
          22,
          19,
          24,
          14,
          25,
          21,
          14,
          10,
          23,
          16,
          20,
          16,
          15,
          15,
          25,
          15,
          21,
          17,
          13,
          24,
          19,
          16,
          25,
          16,
          29,
          20,
          16,
          23,
          21,
          18,
          21,
          21,
          22,
          9,
          24,
          15,
          21,
          14,
          17,
          18,
          14,
          21,
          22,
          15,
          16,
          19,
          2,
          18,
          19,
          22,
          26,
          24,
          26,
          16,
          14,
          21,
          19,
          22,
          16,
          21,
          18,
          18,
          26,
          15,
          20,
          21,
          21,
          20,
          20,
          21,
          22,
          12,
          17,
          16,
          13,
          16,
          22,
          15,
          15,
          16,
          17,
          19,
          21,
          19,
          22,
          25,
          20,
          16,
          22,
          14,
          27,
          24,
          21,
          29,
          13,
          23,
          17,
          23,
          21,
          18,
          21,
          17,
          23,
          15,
          16,
          25,
          19,
          18,
          15,
          16,
          13,
          23,
          20,
          21,
          16,
          16,
          14,
          26,
          11,
          24,
          12,
          20,
          19,
          21,
          16,
          20,
          21,
          18,
          16,
          25,
          17,
          21,
          20,
          20,
          19,
          21,
          28,
          21,
          22,
          21,
          23,
          17,
          20,
          30,
          22,
          15,
          21,
          18,
          18,
          19,
          11,
          23,
          19,
          25,
          15,
          24,
          26,
          20,
          17,
          22,
          17,
          22,
          24,
          21,
          22,
          23,
          20,
          18,
          17,
          25,
          23,
          16,
          20,
          16,
          18,
          23,
          23,
          23,
          25,
          13,
          13,
          20,
          24,
          28,
          16,
          16,
          13,
          11,
          17,
          20,
          21,
          13,
          20,
          23,
          15,
          23,
          24,
          14,
          14,
          15,
          20,
          13,
          19,
          22,
          16,
          13,
          14,
          13,
          24,
          18,
          19,
          24,
          23,
          17,
          22,
          15,
          19,
          10,
          14,
          27,
          16,
          14,
          13,
          24,
          21,
          20,
          23,
          20,
          25,
          27,
          13,
          18,
          13,
          21,
          22,
          17,
          18,
          21,
          16,
          18,
          15,
          16,
          23,
          25,
          20,
          26,
          14,
          16,
          20,
          11,
          20,
          16,
          24,
          17,
          26,
          20,
          25,
          23,
          17,
          12,
          21,
          13,
          24,
          23,
          23,
          16,
          13,
          15,
          16,
          19,
          18,
          20,
          17,
          29,
          24,
          17,
          22,
          18,
          24,
          23,
          24,
          25,
          21,
          16,
          19,
          0,
          14,
          14,
          20,
          23,
          22,
          17,
          17,
          21,
          14,
          16,
          22,
          23,
          14,
          24,
          15,
          21,
          17,
          18,
          17,
          15,
          19,
          1,
          25,
          16,
          18,
          21
         ],
         "z": [
          1617,
          776,
          716,
          1102,
          1782,
          544,
          637,
          1672,
          1196,
          1395,
          984,
          507,
          1693,
          1093,
          518,
          606,
          1076,
          653,
          1253,
          863,
          1890,
          778,
          1366,
          985,
          978,
          410,
          1169,
          1120,
          1097,
          850,
          969,
          608,
          559,
          1923,
          725,
          725,
          1482,
          2077,
          1053,
          1385,
          871,
          1021,
          1231,
          1706,
          1293,
          421,
          1117,
          1835,
          978,
          1033,
          608,
          1581,
          1282,
          834,
          1600,
          1270,
          535,
          1295,
          1150,
          1101,
          1198,
          1135,
          1047,
          714,
          576,
          1103,
          1753,
          1588,
          1117,
          605,
          2088,
          1009,
          1390,
          2126,
          1531,
          1101,
          1495,
          981,
          1635,
          770,
          957,
          818,
          908,
          576,
          461,
          930,
          1478,
          1919,
          825,
          728,
          1213,
          1157,
          546,
          1508,
          401,
          680,
          1283,
          1161,
          946,
          1538,
          507,
          940,
          1190,
          835,
          1029,
          1188,
          1670,
          900,
          2153,
          636,
          693,
          1348,
          1932,
          990,
          1377,
          1738,
          1127,
          787,
          1598,
          1040,
          1485,
          1073,
          1242,
          2119,
          1008,
          1068,
          733,
          428,
          1001,
          971,
          1289,
          926,
          1495,
          1288,
          1388,
          518,
          747,
          895,
          1053,
          735,
          2092,
          1722,
          682,
          663,
          1816,
          976,
          746,
          1445,
          1210,
          945,
          1157,
          943,
          1924,
          2089,
          777,
          1651,
          1291,
          442,
          1895,
          1168,
          662,
          1600,
          526,
          1008,
          795,
          1772,
          1572,
          795,
          611,
          1478,
          382,
          819,
          1151,
          1193,
          882,
          107,
          981,
          1237,
          1586,
          963,
          1587,
          1375,
          1179,
          1348,
          1092,
          599,
          2008,
          6,
          1095,
          1064,
          1048,
          670,
          990,
          576,
          664,
          928,
          2074,
          467,
          1146,
          689,
          2114,
          1044,
          957,
          636,
          1004,
          734,
          614,
          1453,
          637,
          948,
          596,
          1511,
          965,
          869,
          1947,
          1380,
          1027,
          836,
          1335,
          334,
          1338,
          1099,
          902,
          1574,
          960,
          1497,
          449,
          1064,
          1440,
          1006,
          564,
          1427,
          833,
          1869,
          1364,
          758,
          1507,
          1158,
          1525,
          1230,
          1612,
          315,
          767,
          1071,
          1580,
          1167,
          1478,
          726,
          1497,
          495,
          769,
          1576,
          1482,
          680,
          1633,
          761,
          1066,
          1345,
          764,
          544,
          1062,
          995,
          989,
          1226,
          2114,
          2018,
          1281,
          1003,
          1139,
          797,
          1638,
          928,
          858,
          409,
          1423,
          1453,
          1253,
          976,
          1001,
          1650,
          1228,
          1761,
          1149,
          2052,
          1127,
          1416,
          1113,
          966,
          833,
          960,
          1829,
          779,
          811,
          725,
          683,
          995,
          1079,
          578,
          728,
          1198,
          491,
          1564,
          926,
          1910,
          1150,
          405,
          1908,
          1315,
          805,
          1493,
          936,
          859,
          1574,
          406,
          1363,
          702,
          1968,
          1091,
          1366,
          704,
          1033,
          1123,
          1363,
          2440,
          968,
          278,
          1250,
          938,
          1155,
          653,
          506,
          906,
          766,
          467,
          2116,
          967,
          1401,
          1192,
          1958,
          777,
          424,
          868,
          756,
          937,
          1323,
          562,
          1156,
          2008,
          757,
          1168,
          1956,
          1313,
          1103,
          411,
          1060,
          1459,
          1020,
          1370,
          1026,
          499,
          1004,
          990,
          1097,
          1711,
          1020,
          1812,
          908,
          1161,
          988,
          1072,
          758,
          1084,
          1672,
          545,
          1065,
          2047,
          530,
          1598,
          789,
          1215,
          811,
          805,
          899,
          711,
          973,
          860,
          928,
          587,
          641,
          1383,
          999,
          825,
          1192,
          485,
          496,
          794,
          59,
          1305,
          656,
          1540,
          1643,
          1121,
          1424,
          1149,
          410,
          800,
          1313,
          1483,
          1258,
          861,
          634,
          1918,
          939,
          1143,
          1440,
          789,
          908,
          769,
          794,
          797,
          817,
          310,
          1319,
          1244,
          690,
          1134,
          1507,
          529,
          1091,
          534,
          556,
          1574,
          1471,
          1115,
          1540,
          1034,
          819,
          1159,
          860,
          1631,
          1910,
          1045,
          1443,
          1366,
          928,
          943,
          1198,
          1658,
          1638,
          1923,
          1662,
          1234,
          904,
          1156,
          1086,
          1128,
          1383,
          677,
          641,
          1106,
          1033,
          1034,
          792,
          841,
          507,
          1105,
          974,
          778,
          299,
          1682,
          892,
          1410,
          1334,
          1141,
          506,
          1538,
          882,
          1289,
          601,
          1095,
          638,
          894,
          823,
          813,
          1179,
          1511,
          1730,
          825,
          902,
          772,
          1586,
          1603,
          981,
          1533,
          1572,
          1754,
          1157,
          688,
          1319,
          708,
          746,
          1695,
          745,
          1597,
          1067,
          1686,
          1327,
          1456,
          563,
          1504,
          564,
          1125,
          1376,
          792,
          1382,
          1033,
          882,
          664,
          622,
          1073,
          976,
          1149,
          968,
          1165,
          461,
          1338,
          917,
          969,
          1382,
          398,
          902,
          823,
          1179,
          1921,
          1588,
          1797,
          914,
          1502,
          1338,
          763,
          1331,
          953,
          882,
          1149,
          1428,
          1633,
          1052,
          587,
          1042,
          486,
          1401,
          1574,
          1323,
          1536,
          581,
          928,
          424,
          960,
          1049,
          835,
          1515,
          1039,
          1596,
          1828,
          946,
          450,
          2126,
          801,
          1685,
          277,
          507,
          397,
          976,
          1028,
          1263,
          1490,
          1564,
          909,
          1735,
          1191,
          1280,
          1336,
          414,
          901,
          1089,
          1272,
          1173,
          816,
          561,
          1336,
          463,
          1130,
          1012,
          1734,
          823,
          1138,
          982,
          576,
          1464,
          283,
          747,
          1870,
          1655,
          1175,
          1305,
          868,
          1260,
          1665,
          692,
          1575,
          1208,
          932,
          1615,
          1034,
          1088,
          1244,
          993,
          1680,
          519,
          715,
          653,
          1455,
          602,
          1366,
          1001,
          961,
          1518,
          1367,
          976,
          1021,
          1013,
          1038,
          1573,
          608,
          1282,
          8,
          1169,
          1782,
          731,
          1701,
          1565,
          1338,
          568,
          873,
          1213,
          1893,
          907,
          1566,
          1169,
          1644,
          546,
          849,
          1623,
          1435,
          1234,
          470,
          679,
          1679,
          1049,
          1341,
          1241,
          843
         ]
        },
        {
         "hovertemplate": "Cluster=Cluster 1<br>Récence=%{x}<br>Fréquence=%{y}<br>Montant dépensé=%{z}<extra></extra>",
         "legendgroup": "Cluster 1",
         "marker": {
          "color": "#EF553B",
          "size": 3,
          "symbol": "circle"
         },
         "mode": "markers",
         "name": "Cluster 1",
         "scene": "scene",
         "showlegend": true,
         "type": "scatter3d",
         "x": [
          2.7142857142857144,
          1.8571428571428568,
          2.2857142857142856,
          1.3571428571428572,
          4.857142857142857,
          0.7857142857142857,
          4.214285714285714,
          3.7857142857142856,
          2.7142857142857144,
          3.642857142857143,
          1.4285714285714286,
          6.142857142857143,
          2.9285714285714284,
          6.357142857142857,
          1.8571428571428568,
          2.4285714285714284,
          4,
          2.2142857142857144,
          3.928571428571429,
          5.428571428571429,
          7.071428571428571,
          6.285714285714286,
          0.2857142857142857,
          5.714285714285714,
          1.3571428571428572,
          1.7142857142857142,
          6.571428571428571,
          6.857142857142857,
          3.857142857142857,
          2.2142857142857144,
          4.071428571428571,
          5.357142857142857,
          0,
          1.7857142857142858,
          4.142857142857143,
          4.857142857142857,
          0.8571428571428571,
          6.214285714285714,
          0.3571428571428571,
          6.214285714285714,
          4,
          6.785714285714286,
          5.642857142857143,
          3.2142857142857144,
          4.928571428571429,
          6,
          2.142857142857143,
          2.642857142857143,
          0,
          3.071428571428572,
          6.714285714285714,
          1.0714285714285714,
          1.2142857142857142,
          1.9285714285714288,
          6.071428571428571,
          2.642857142857143,
          0.9285714285714286,
          4.5,
          5.928571428571429,
          3.642857142857143,
          2.2142857142857144,
          4.357142857142857,
          2.642857142857143,
          5.285714285714286,
          0.9285714285714286,
          3.357142857142857,
          3.5,
          4.642857142857143,
          4.214285714285714,
          0.8571428571428571,
          0.2857142857142857,
          3.5,
          0.2142857142857142,
          0,
          6.5,
          5.928571428571429,
          4.5,
          6,
          4.142857142857143,
          5.571428571428571,
          0.2857142857142857,
          1.2142857142857142,
          5.5,
          6.428571428571429,
          6.857142857142857,
          5.785714285714286,
          5.5,
          1.1428571428571428,
          5.714285714285714,
          3.2142857142857144,
          4.5,
          0.9285714285714286,
          3.7142857142857135,
          6.642857142857143,
          1.7142857142857142,
          5.142857142857143,
          0.3571428571428571,
          6.285714285714286,
          7.071428571428571,
          0.1428571428571428,
          1.7142857142857142,
          6.642857142857143,
          3.142857142857143,
          3.2857142857142856,
          4.714285714285714,
          4.642857142857143,
          2.642857142857143,
          3.5,
          3.2857142857142856,
          3.857142857142857,
          5.357142857142857,
          2.2142857142857144,
          4.214285714285714,
          3.7142857142857135,
          6.571428571428571,
          2.5,
          6.785714285714286,
          1.7142857142857142,
          4.285714285714286,
          6.071428571428571,
          2.2142857142857144,
          2.142857142857143,
          0.7857142857142857,
          1.0714285714285714,
          0.1428571428571428,
          3.928571428571429,
          2.7142857142857144,
          3.2857142857142856,
          1.4285714285714286,
          1.2857142857142858,
          5.357142857142857,
          4.428571428571429,
          0.7857142857142857,
          5.285714285714286,
          5.428571428571429,
          0.4285714285714285,
          1.4285714285714286,
          3.071428571428572,
          3.7857142857142856,
          6.357142857142857,
          3.071428571428572,
          4.857142857142857,
          4.571428571428571,
          0.8571428571428571,
          6.142857142857143,
          2,
          6.142857142857143,
          4.214285714285714,
          2.357142857142857,
          5.785714285714286,
          0.4285714285714285,
          2.7857142857142856,
          0.2142857142857142,
          2.642857142857143,
          1.5714285714285714,
          5.642857142857143,
          3.2857142857142856,
          0.7142857142857143,
          3.642857142857143,
          1,
          0.7857142857142857,
          0.9285714285714286,
          4.642857142857143,
          2.357142857142857,
          6.428571428571429,
          3.2142857142857144,
          4.357142857142857,
          3.7142857142857135,
          3.7857142857142856,
          2.2142857142857144,
          5.857142857142857,
          4.714285714285714,
          3.7142857142857135,
          0.1428571428571428,
          1.6428571428571428,
          0.9285714285714286,
          6.571428571428571,
          2.7142857142857144,
          5.285714285714286,
          1,
          2.357142857142857,
          2.2857142857142856,
          0.7857142857142857,
          4,
          0,
          6.142857142857143,
          3.642857142857143,
          5.071428571428571,
          5.071428571428571,
          5.714285714285714,
          2.071428571428572,
          3.928571428571429,
          1.3571428571428572,
          0.0714285714285714,
          1.3571428571428572,
          5.428571428571429,
          1.7142857142857142,
          1,
          2.142857142857143,
          5.357142857142857,
          0.5714285714285714,
          3.7142857142857135,
          2,
          3.5,
          1,
          6.357142857142857,
          6.857142857142857,
          4,
          5.142857142857143,
          1,
          0.9285714285714286,
          7.071428571428571,
          5.142857142857143,
          6.571428571428571,
          0.5,
          1.2142857142857142,
          6.214285714285714,
          3.7142857142857135,
          1.7857142857142858,
          3.2857142857142856,
          0.9285714285714286,
          1.2857142857142858,
          6.5,
          4.142857142857143,
          4.785714285714286,
          4.285714285714286,
          3.857142857142857,
          1.8571428571428568,
          2.142857142857143,
          1.7142857142857142,
          6.857142857142857,
          7.071428571428571,
          1.5714285714285714,
          6.571428571428571,
          0.1428571428571428,
          0.4285714285714285,
          3.5,
          5.071428571428571,
          6.928571428571429,
          6.642857142857143,
          0.6428571428571429,
          5.5,
          4.785714285714286,
          3.4285714285714284,
          2.5,
          5.428571428571429,
          4.642857142857143,
          4.071428571428571,
          0,
          3.571428571428572,
          4.785714285714286,
          3.2857142857142856,
          2.642857142857143,
          2.7142857142857144,
          7,
          5.142857142857143,
          3.357142857142857,
          2.357142857142857,
          6.214285714285714,
          0,
          5.285714285714286,
          1.9285714285714288,
          0.2857142857142857,
          0.6428571428571429,
          3.4285714285714284,
          4.285714285714286,
          3.071428571428572,
          1.3571428571428572,
          4.142857142857143,
          3,
          1.9285714285714288,
          4,
          0.7142857142857143,
          3.4285714285714284,
          2.7857142857142856,
          3.857142857142857,
          4.071428571428571,
          4.571428571428571,
          0.7142857142857143,
          0.2857142857142857,
          6.714285714285714,
          2.9285714285714284,
          0.6428571428571429,
          0.8571428571428571,
          5.714285714285714,
          1.4285714285714286,
          2.7857142857142856,
          4.071428571428571,
          1.9285714285714288,
          1.0714285714285714,
          7.071428571428571,
          4.357142857142857,
          1.6428571428571428,
          5.285714285714286,
          6.428571428571429,
          2.9285714285714284,
          2,
          6.714285714285714,
          2.2142857142857144,
          6.571428571428571,
          3.571428571428572,
          6.642857142857143,
          6.714285714285714,
          5.428571428571429,
          1.9285714285714288,
          0.2142857142857142,
          0.4285714285714285,
          1.4285714285714286,
          0.6428571428571429,
          2.7142857142857144,
          5.071428571428571,
          0.6428571428571429,
          6.214285714285714,
          6.571428571428571,
          5.285714285714286,
          2.071428571428572,
          6.285714285714286,
          5.5,
          1.7857142857142858,
          2.4285714285714284,
          3.071428571428572,
          5.428571428571429,
          1.8571428571428568,
          0.9285714285714286,
          6,
          6.428571428571429,
          2.071428571428572,
          0.2142857142857142,
          6.714285714285714,
          4.642857142857143,
          2.357142857142857,
          1.7142857142857142,
          2.4285714285714284,
          0.7142857142857143,
          1.8571428571428568,
          0.7857142857142857,
          5.357142857142857,
          3.2142857142857144,
          0.6428571428571429,
          3.071428571428572,
          7.071428571428571,
          1.7142857142857142,
          2.642857142857143,
          1.8571428571428568,
          5.642857142857143,
          5.071428571428571,
          2.642857142857143,
          2.4285714285714284,
          0,
          6.142857142857143,
          0.5714285714285714,
          0.8571428571428571,
          6.428571428571429,
          6.5,
          1.5714285714285714,
          5.428571428571429,
          6.142857142857143,
          4.571428571428571,
          5.642857142857143,
          3,
          2.7857142857142856,
          0.5714285714285714,
          2.857142857142857,
          0.3571428571428571,
          6.857142857142857,
          3.5,
          2.642857142857143,
          5,
          2.7857142857142856,
          5.071428571428571,
          4.428571428571429,
          5.928571428571429,
          0,
          0.0714285714285714,
          6.357142857142857,
          4.785714285714286,
          2.4285714285714284,
          3.071428571428572,
          5.285714285714286,
          5.357142857142857,
          1.6428571428571428,
          4.642857142857143,
          0.7142857142857143,
          6.714285714285714,
          3.2857142857142856,
          3,
          0.7857142857142857,
          4.357142857142857,
          0.8571428571428571,
          5.428571428571429,
          5.642857142857143,
          6.857142857142857,
          1.2142857142857142,
          3.071428571428572,
          0.1428571428571428,
          3.5,
          5.071428571428571,
          6.714285714285714,
          4.357142857142857,
          0,
          5.714285714285714,
          3.857142857142857,
          5.071428571428571,
          3.928571428571429,
          2.5,
          2.142857142857143,
          6.857142857142857,
          1.1428571428571428,
          1.1428571428571428,
          5.571428571428571,
          5.928571428571429,
          2.4285714285714284,
          5.214285714285714,
          3.7142857142857135,
          3.571428571428572,
          2.7142857142857144,
          3.2857142857142856,
          2.642857142857143,
          6.714285714285714,
          1.6428571428571428,
          0.7857142857142857,
          2.142857142857143,
          1.7857142857142858,
          4.785714285714286,
          4.142857142857143,
          7,
          5.571428571428571,
          5.857142857142857,
          5.571428571428571,
          6.142857142857143,
          5.928571428571429,
          6.571428571428571,
          5.714285714285714,
          2.7857142857142856,
          3.7857142857142856,
          6,
          3.571428571428572,
          1.7857142857142858,
          0.8571428571428571,
          6,
          3.357142857142857,
          3.4285714285714284,
          0.5714285714285714,
          3.857142857142857,
          3.928571428571429,
          1.4285714285714286,
          5.571428571428571,
          0.0714285714285714,
          2.2857142857142856,
          3.5,
          4.642857142857143,
          6,
          2.4285714285714284,
          1.7857142857142858,
          3.357142857142857,
          3.7142857142857135,
          4.5,
          1,
          1.4285714285714286,
          5.142857142857143,
          0.0714285714285714,
          1.9285714285714288,
          5.5,
          6.214285714285714,
          3.642857142857143,
          5.642857142857143,
          3.857142857142857,
          6.642857142857143,
          0,
          7.071428571428571,
          4.642857142857143,
          3.142857142857143,
          0.4285714285714285,
          0.6428571428571429,
          6.571428571428571,
          0.1428571428571428,
          0,
          6.5,
          1.1428571428571428,
          0.0714285714285714,
          4.571428571428571,
          2.642857142857143,
          1.3571428571428572,
          6.5,
          5.571428571428571,
          6.571428571428571,
          0.7142857142857143,
          0.6428571428571429,
          4.642857142857143,
          6.785714285714286,
          0.2142857142857142,
          5.5,
          6.5,
          0.1428571428571428,
          1.5714285714285714,
          2.7142857142857144,
          1.2857142857142858,
          4.714285714285714,
          2,
          0.9285714285714286,
          1.9285714285714288,
          5.571428571428571,
          5.357142857142857,
          0.7142857142857143,
          1.7142857142857142,
          3.357142857142857,
          1.0714285714285714,
          2.2857142857142856,
          2.857142857142857,
          6.714285714285714,
          3.642857142857143,
          6.214285714285714,
          2.071428571428572,
          6.928571428571429,
          4.5,
          2.4285714285714284,
          5.785714285714286,
          3.642857142857143,
          5.428571428571429,
          5.428571428571429,
          4,
          2.2142857142857144,
          2.857142857142857,
          4.357142857142857,
          1.1428571428571428,
          7,
          5.214285714285714,
          3.4285714285714284,
          0.9285714285714286,
          2.4285714285714284,
          5.785714285714286,
          7.071428571428571,
          4.642857142857143,
          6.642857142857143,
          1.7142857142857142,
          0.5714285714285714,
          5.142857142857143,
          4.857142857142857,
          5.428571428571429,
          1.2142857142857142,
          6.714285714285714,
          6.142857142857143,
          1.5714285714285714,
          1.0714285714285714,
          3.928571428571429,
          6.714285714285714,
          3.571428571428572,
          6.5,
          0,
          3,
          4.285714285714286,
          0.0714285714285714,
          3.857142857142857,
          3.7857142857142856,
          6.857142857142857,
          1.8571428571428568,
          3.928571428571429,
          1.7857142857142858,
          3.571428571428572,
          2.142857142857143,
          5.785714285714286,
          2.571428571428572,
          4.428571428571429,
          6.142857142857143,
          1.0714285714285714,
          4.785714285714286,
          3.357142857142857,
          5.785714285714286,
          4,
          3.4285714285714284,
          1.2857142857142858,
          5.285714285714286,
          4.5,
          5.857142857142857,
          4.5,
          1.5,
          2.642857142857143,
          2.857142857142857,
          0.1428571428571428,
          6.714285714285714,
          0.7142857142857143,
          6.928571428571429,
          0.2857142857142857,
          5.5,
          3.5,
          6.357142857142857,
          3.071428571428572,
          6,
          0.8571428571428571,
          5.357142857142857,
          0.7142857142857143,
          6.5,
          1.5,
          2,
          6.928571428571429,
          0.3571428571428571,
          5.928571428571429,
          5.285714285714286,
          5.5,
          2.7857142857142856,
          4.428571428571429,
          4.214285714285714,
          4.857142857142857,
          2.642857142857143,
          0.1428571428571428,
          6.142857142857143,
          3.857142857142857,
          0.1428571428571428,
          6,
          3.642857142857143,
          0.9285714285714286,
          1.6428571428571428,
          6.285714285714286,
          1.0714285714285714,
          4.142857142857143,
          0.7857142857142857,
          1.9285714285714288,
          1.5,
          1.6428571428571428,
          4.928571428571429,
          2.4285714285714284,
          0.7142857142857143,
          3.7142857142857135,
          6.928571428571429,
          1.7142857142857142,
          0,
          6.857142857142857,
          6.357142857142857,
          6.714285714285714,
          0.3571428571428571,
          1.5714285714285714,
          2.7857142857142856,
          4,
          6.214285714285714,
          3.5,
          1.7142857142857142,
          1.2142857142857142,
          0.7142857142857143,
          2.5,
          3.642857142857143,
          1.2142857142857142,
          2.142857142857143,
          1.5,
          6.071428571428571,
          4.642857142857143,
          0.7857142857142857,
          0.2857142857142857,
          6,
          4.428571428571429,
          3.357142857142857,
          3.2142857142857144,
          2.4285714285714284,
          0.2142857142857142,
          0.0714285714285714,
          5.785714285714286,
          5.5,
          1.6428571428571428,
          3.4285714285714284,
          4.357142857142857,
          4.285714285714286,
          5.357142857142857,
          4.571428571428571,
          3.857142857142857,
          5.357142857142857,
          5.642857142857143,
          1.1428571428571428,
          6.857142857142857,
          2.142857142857143,
          4.285714285714286,
          0.7857142857142857,
          5.357142857142857,
          3.2857142857142856,
          5.857142857142857,
          6.214285714285714,
          3.5,
          1.7857142857142858,
          3.071428571428572,
          0.7142857142857143,
          1.4285714285714286,
          5.857142857142857,
          4.857142857142857,
          4.642857142857143,
          1.4285714285714286,
          1.8571428571428568,
          4.857142857142857,
          2.2857142857142856,
          3.5,
          6.142857142857143,
          2.571428571428572,
          3.857142857142857,
          1,
          5.285714285714286,
          0.2857142857142857,
          3.571428571428572,
          0.1428571428571428,
          5.857142857142857,
          1,
          4,
          5.5,
          4.642857142857143,
          6.571428571428571,
          6.5,
          0.3571428571428571,
          5.785714285714286,
          3.071428571428572,
          0.3571428571428571,
          3.571428571428572,
          3.2857142857142856,
          4.857142857142857,
          6.357142857142857,
          5.5,
          3.571428571428572,
          2.142857142857143,
          1.1428571428571428,
          2.142857142857143,
          0.5714285714285714,
          6.571428571428571,
          2.9285714285714284,
          0.2857142857142857,
          5.071428571428571,
          2.2142857142857144,
          5.714285714285714,
          2.642857142857143,
          1.5714285714285714,
          3.071428571428572,
          5.285714285714286,
          3.857142857142857,
          6.857142857142857,
          4.857142857142857,
          2.857142857142857,
          4.071428571428571,
          5.571428571428571,
          5.071428571428571,
          2.7142857142857144,
          6.571428571428571,
          1.7142857142857142,
          2.5,
          0.6428571428571429,
          1.6428571428571428,
          3.928571428571429,
          1,
          0.5714285714285714,
          0.5714285714285714,
          3.7857142857142856,
          4.571428571428571,
          3.071428571428572,
          2.857142857142857,
          3.7142857142857135,
          1.2142857142857142,
          0.4285714285714285,
          4,
          6.714285714285714,
          0.0714285714285714,
          4,
          3.4285714285714284,
          6.142857142857143,
          0.1428571428571428,
          4.071428571428571,
          5.5,
          0,
          6.357142857142857,
          3.2142857142857144,
          3.2857142857142856,
          5.714285714285714,
          5.071428571428571,
          1.2857142857142858,
          3.2142857142857144,
          1.8571428571428568,
          0,
          2,
          6,
          2.7142857142857144,
          3.7857142857142856,
          6.285714285714286,
          7.071428571428571,
          2.857142857142857,
          5.857142857142857,
          5,
          6.785714285714286,
          0.3571428571428571,
          4.428571428571429,
          3.5,
          0.5,
          0.4285714285714285,
          3.928571428571429,
          7,
          7,
          2.9285714285714284,
          3.2857142857142856,
          5.857142857142857,
          0.7142857142857143,
          4.785714285714286,
          2.571428571428572,
          5.5,
          6.428571428571429,
          3.642857142857143,
          1.2857142857142858,
          6.928571428571429,
          0.6428571428571429,
          3.5,
          0.2142857142857142,
          2.357142857142857,
          3,
          5.714285714285714,
          0.6428571428571429,
          3.7142857142857135,
          3.2142857142857144,
          3.357142857142857,
          5.785714285714286,
          1.6428571428571428,
          5.714285714285714,
          2.142857142857143,
          1.0714285714285714,
          6.142857142857143,
          3.142857142857143,
          6.214285714285714,
          4.214285714285714,
          1.1428571428571428,
          4.571428571428571,
          5.142857142857143,
          3.857142857142857,
          0.7857142857142857,
          1.5,
          5.857142857142857,
          3.928571428571429,
          5.714285714285714,
          6.071428571428571,
          5.857142857142857,
          6.571428571428571,
          6.785714285714286,
          3.5,
          5.714285714285714,
          0.7142857142857143,
          1.7857142857142858,
          2.4285714285714284,
          3.642857142857143,
          6.928571428571429,
          2.142857142857143,
          2.142857142857143,
          0.7857142857142857,
          2.7857142857142856,
          0,
          1.0714285714285714,
          4,
          4.285714285714286,
          6.428571428571429,
          1.3571428571428572,
          5.142857142857143,
          6.071428571428571,
          6,
          6.357142857142857,
          1.1428571428571428,
          5.571428571428571,
          3.642857142857143,
          5.071428571428571,
          5.928571428571429,
          5.071428571428571,
          0.2142857142857142,
          1.5714285714285714,
          4,
          3.4285714285714284,
          1.7142857142857142,
          6.142857142857143,
          4.428571428571429,
          2.071428571428572,
          3.7142857142857135,
          0.9285714285714286,
          1.1428571428571428,
          5.5,
          1.4285714285714286,
          5.071428571428571,
          2.571428571428572,
          6.785714285714286,
          1.0714285714285714,
          5.857142857142857,
          1.9285714285714288,
          5.142857142857143,
          0.5,
          0.1428571428571428,
          5.928571428571429,
          2.857142857142857,
          3.357142857142857,
          2.857142857142857,
          1.7857142857142858,
          3.4285714285714284,
          4.857142857142857,
          4.571428571428571,
          6.714285714285714,
          3.857142857142857,
          1.4285714285714286,
          6.857142857142857,
          4.214285714285714,
          3.4285714285714284,
          1.3571428571428572,
          2.2857142857142856,
          1.9285714285714288,
          2,
          1.2857142857142858,
          5.428571428571429,
          0,
          0.1428571428571428,
          1.1428571428571428,
          4,
          6.928571428571429,
          1.0714285714285714,
          0.2142857142857142,
          0.2857142857142857,
          2.642857142857143,
          2.7857142857142856,
          2.7142857142857144,
          6.357142857142857,
          6.142857142857143,
          5.214285714285714,
          4.714285714285714,
          2.571428571428572,
          2.071428571428572,
          2.071428571428572,
          0.4285714285714285,
          6.928571428571429,
          0.0714285714285714,
          3.2857142857142856,
          1,
          6.357142857142857,
          2.2142857142857144,
          5.357142857142857,
          3,
          3.7857142857142856,
          3.5,
          0.4285714285714285,
          2.071428571428572,
          7,
          5,
          5.857142857142857,
          1.9285714285714288,
          6.928571428571429,
          1.3571428571428572,
          5.714285714285714,
          5.642857142857143,
          3.571428571428572,
          2,
          3.2857142857142856,
          6.928571428571429,
          3.642857142857143,
          5.285714285714286,
          5.857142857142857,
          6.642857142857143,
          2.857142857142857,
          6.857142857142857,
          5.785714285714286,
          3.642857142857143,
          3,
          5.5,
          5.857142857142857,
          5.928571428571429,
          2.857142857142857,
          6.785714285714286,
          1.1428571428571428,
          2.7857142857142856,
          3.5,
          2.2142857142857144,
          6.428571428571429,
          2.857142857142857,
          0.0714285714285714,
          2.857142857142857,
          0.3571428571428571,
          0.2142857142857142,
          1.7142857142857142,
          4.857142857142857,
          3.2857142857142856,
          1.1428571428571428,
          3.642857142857143,
          1.7142857142857142,
          5.642857142857143,
          1.8571428571428568,
          4.857142857142857,
          4.642857142857143,
          5.928571428571429,
          4.928571428571429,
          1.5,
          2.7857142857142856,
          5.428571428571429,
          1.8571428571428568,
          2.4285714285714284,
          0.9285714285714286,
          1.6428571428571428,
          2.357142857142857,
          1.0714285714285714,
          1.7857142857142858,
          5.714285714285714,
          0.4285714285714285,
          1.1428571428571428,
          4.071428571428571,
          0.6428571428571429,
          5.571428571428571,
          5.285714285714286,
          0.9285714285714286,
          7,
          4.714285714285714,
          2.2857142857142856,
          6,
          3.5,
          6.857142857142857,
          1.6428571428571428,
          1.2857142857142858,
          2.571428571428572,
          4.5,
          0.1428571428571428,
          3.7142857142857135,
          1.7857142857142858,
          4.642857142857143,
          5.071428571428571,
          1.0714285714285714,
          5.428571428571429,
          3.7142857142857135,
          2,
          1.7142857142857142,
          0.8571428571428571,
          6.285714285714286,
          4.785714285714286,
          2.857142857142857,
          0.5,
          2.357142857142857,
          0.6428571428571429,
          5.857142857142857,
          3.571428571428572,
          5.785714285714286
         ],
         "y": [
          4,
          6,
          8,
          5,
          1,
          3,
          5,
          12,
          4,
          6,
          11,
          6,
          11,
          6,
          7,
          6,
          10,
          7,
          5,
          6,
          5,
          5,
          3,
          8,
          5,
          7,
          4,
          7,
          5,
          5,
          5,
          4,
          3,
          6,
          7,
          3,
          3,
          8,
          3,
          6,
          10,
          5,
          9,
          3,
          4,
          7,
          5,
          5,
          5,
          5,
          4,
          9,
          7,
          6,
          5,
          5,
          6,
          4,
          4,
          6,
          4,
          6,
          4,
          5,
          9,
          5,
          3,
          7,
          15,
          7,
          12,
          3,
          8,
          3,
          7,
          6,
          11,
          6,
          4,
          5,
          7,
          6,
          6,
          5,
          3,
          9,
          6,
          5,
          5,
          4,
          5,
          5,
          4,
          6,
          4,
          4,
          3,
          4,
          5,
          3,
          10,
          6,
          9,
          8,
          3,
          3,
          4,
          6,
          4,
          7,
          4,
          4,
          5,
          4,
          9,
          4,
          6,
          3,
          4,
          11,
          3,
          7,
          6,
          7,
          10,
          6,
          6,
          7,
          11,
          5,
          6,
          13,
          4,
          7,
          6,
          3,
          4,
          6,
          7,
          6,
          10,
          7,
          6,
          10,
          7,
          5,
          5,
          6,
          4,
          3,
          3,
          6,
          4,
          4,
          8,
          3,
          5,
          4,
          5,
          4,
          7,
          3,
          4,
          5,
          3,
          5,
          6,
          14,
          7,
          3,
          5,
          4,
          4,
          6,
          4,
          4,
          4,
          3,
          3,
          11,
          3,
          5,
          14,
          6,
          10,
          9,
          4,
          4,
          7,
          6,
          10,
          4,
          6,
          11,
          5,
          6,
          6,
          5,
          5,
          3,
          3,
          5,
          5,
          4,
          15,
          7,
          5,
          4,
          8,
          3,
          4,
          4,
          3,
          9,
          5,
          6,
          14,
          11,
          7,
          7,
          3,
          3,
          4,
          4,
          4,
          5,
          5,
          10,
          11,
          4,
          9,
          12,
          5,
          4,
          4,
          8,
          4,
          7,
          9,
          13,
          7,
          4,
          5,
          12,
          7,
          4,
          10,
          5,
          6,
          10,
          6,
          6,
          9,
          12,
          6,
          7,
          6,
          4,
          5,
          6,
          7,
          6,
          6,
          12,
          10,
          3,
          3,
          3,
          4,
          8,
          11,
          5,
          8,
          6,
          6,
          4,
          6,
          5,
          7,
          15,
          5,
          5,
          4,
          6,
          5,
          4,
          6,
          7,
          4,
          8,
          5,
          4,
          4,
          10,
          11,
          4,
          5,
          4,
          4,
          5,
          4,
          5,
          6,
          9,
          6,
          3,
          13,
          13,
          10,
          4,
          6,
          13,
          8,
          9,
          3,
          5,
          4,
          4,
          3,
          5,
          4,
          9,
          3,
          8,
          10,
          9,
          4,
          6,
          7,
          3,
          5,
          9,
          5,
          4,
          3,
          6,
          10,
          5,
          3,
          4,
          5,
          3,
          3,
          6,
          6,
          7,
          6,
          3,
          6,
          7,
          6,
          5,
          9,
          7,
          6,
          1,
          3,
          6,
          4,
          4,
          4,
          3,
          4,
          5,
          7,
          5,
          11,
          7,
          7,
          4,
          7,
          5,
          4,
          5,
          3,
          16,
          5,
          5,
          7,
          4,
          4,
          5,
          5,
          4,
          12,
          4,
          6,
          11,
          7,
          7,
          9,
          7,
          11,
          4,
          4,
          4,
          5,
          3,
          11,
          14,
          3,
          13,
          5,
          7,
          8,
          7,
          7,
          6,
          5,
          3,
          5,
          5,
          5,
          3,
          14,
          7,
          9,
          3,
          5,
          9,
          8,
          12,
          4,
          6,
          6,
          13,
          6,
          4,
          6,
          6,
          11,
          5,
          5,
          6,
          6,
          4,
          7,
          6,
          5,
          8,
          7,
          3,
          7,
          6,
          3,
          0,
          5,
          5,
          3,
          6,
          3,
          6,
          12,
          5,
          6,
          3,
          7,
          6,
          6,
          10,
          4,
          7,
          7,
          5,
          5,
          5,
          6,
          5,
          4,
          4,
          11,
          7,
          6,
          5,
          5,
          4,
          7,
          6,
          3,
          5,
          4,
          4,
          5,
          3,
          6,
          5,
          4,
          13,
          3,
          3,
          4,
          3,
          7,
          6,
          7,
          3,
          12,
          11,
          5,
          5,
          6,
          3,
          6,
          4,
          11,
          5,
          7,
          7,
          12,
          5,
          3,
          3,
          4,
          12,
          6,
          6,
          12,
          6,
          5,
          6,
          7,
          7,
          3,
          3,
          10,
          6,
          11,
          10,
          5,
          6,
          3,
          4,
          5,
          10,
          3,
          15,
          6,
          10,
          7,
          3,
          4,
          5,
          8,
          4,
          5,
          8,
          7,
          7,
          8,
          9,
          4,
          5,
          4,
          7,
          13,
          7,
          6,
          7,
          3,
          5,
          7,
          5,
          6,
          4,
          7,
          5,
          4,
          7,
          4,
          8,
          4,
          5,
          7,
          3,
          3,
          3,
          4,
          5,
          5,
          6,
          9,
          6,
          3,
          6,
          4,
          11,
          4,
          5,
          3,
          4,
          6,
          3,
          5,
          8,
          4,
          6,
          5,
          12,
          11,
          6,
          4,
          6,
          4,
          12,
          6,
          6,
          8,
          2,
          6,
          11,
          7,
          4,
          12,
          5,
          3,
          6,
          4,
          3,
          10,
          6,
          7,
          5,
          14,
          4,
          9,
          10,
          10,
          6,
          4,
          5,
          12,
          12,
          9,
          4,
          3,
          5,
          4,
          4,
          4,
          7,
          4,
          4,
          5,
          3,
          6,
          12,
          8,
          3,
          8,
          5,
          9,
          5,
          6,
          3,
          4,
          4,
          6,
          3,
          3,
          5,
          13,
          4,
          4,
          5,
          4,
          3,
          6,
          7,
          6,
          3,
          6,
          9,
          5,
          8,
          6,
          4,
          6,
          4,
          3,
          5,
          8,
          4,
          7,
          6,
          9,
          4,
          4,
          6,
          5,
          4,
          6,
          10,
          6,
          6,
          5,
          6,
          5,
          0,
          6,
          5,
          6,
          4,
          7,
          3,
          6,
          5,
          7,
          3,
          6,
          4,
          3,
          7,
          7,
          3,
          6,
          14,
          5,
          4,
          7,
          7,
          3,
          6,
          4,
          8,
          4,
          12,
          6,
          7,
          12,
          5,
          4,
          5,
          4,
          5,
          11,
          4,
          3,
          12,
          10,
          7,
          6,
          10,
          7,
          6,
          10,
          7,
          3,
          14,
          5,
          4,
          4,
          4,
          3,
          14,
          7,
          6,
          6,
          4,
          5,
          12,
          9,
          6,
          5,
          5,
          6,
          6,
          10,
          4,
          14,
          5,
          7,
          6,
          3,
          11,
          4,
          3,
          3,
          5,
          3,
          4,
          6,
          7,
          7,
          8,
          11,
          11,
          5,
          6,
          5,
          3,
          6,
          4,
          5,
          4,
          4,
          13,
          4,
          8,
          7,
          3,
          4,
          5,
          6,
          6,
          8,
          5,
          5,
          14,
          6,
          4,
          5,
          8,
          6,
          9,
          4,
          8,
          11,
          6,
          5,
          7,
          6,
          6,
          5,
          6,
          4,
          6,
          8,
          4,
          25,
          6,
          4,
          4,
          3,
          5,
          7,
          4,
          13,
          7,
          7,
          9,
          9,
          8,
          6,
          11,
          8,
          5,
          5,
          4,
          3,
          6,
          6,
          3,
          6,
          4,
          5,
          5,
          4,
          4,
          4,
          8,
          5,
          4,
          13,
          5,
          10,
          4,
          5,
          4,
          6,
          12,
          6,
          4,
          4,
          5,
          6,
          7,
          3,
          5,
          4,
          6,
          6,
          6,
          4,
          3,
          5,
          4,
          4,
          7,
          6,
          7,
          8,
          4,
          7,
          6,
          7,
          7,
          4,
          14,
          9,
          25,
          7,
          5,
          3,
          8,
          6,
          7,
          3,
          11,
          7,
          14,
          8,
          4,
          11,
          4,
          3,
          7,
          3,
          6,
          5,
          8,
          3,
          5,
          5,
          4,
          3,
          6,
          5,
          6,
          3,
          4,
          6,
          6,
          11,
          13,
          5,
          5,
          5,
          9,
          8,
          4,
          6,
          4,
          6,
          7,
          6,
          5,
          6,
          7,
          4,
          4,
          4,
          6,
          6,
          9,
          7,
          12,
          6,
          3,
          3,
          12,
          4,
          4,
          4,
          6,
          5,
          7,
          10,
          4,
          6,
          5,
          3,
          7,
          3,
          7,
          5,
          3,
          4,
          5,
          14,
          4,
          9,
          4,
          5,
          6,
          4,
          7,
          6,
          5,
          7,
          4,
          6,
          8,
          4,
          11,
          12,
          4,
          6,
          4,
          13,
          10,
          6,
          6,
          6,
          4,
          5,
          4,
          3,
          6,
          7,
          6,
          6,
          5,
          6,
          4,
          4,
          5,
          1,
          3,
          5,
          3,
          7,
          6,
          5,
          6,
          3,
          3
         ],
         "z": [
          27,
          53,
          169,
          46,
          49,
          19,
          61,
          310,
          46,
          96,
          317,
          133,
          316,
          75,
          131,
          30,
          318,
          120,
          65,
          81,
          67,
          53,
          22,
          186,
          31,
          122,
          55,
          124,
          72,
          29,
          46,
          34,
          11,
          109,
          65,
          13,
          18,
          165,
          16,
          79,
          318,
          56,
          194,
          18,
          32,
          43,
          45,
          63,
          72,
          55,
          29,
          187,
          145,
          114,
          81,
          33,
          80,
          30,
          43,
          90,
          29,
          106,
          49,
          38,
          312,
          68,
          22,
          127,
          459,
          89,
          306,
          18,
          162,
          13,
          121,
          88,
          259,
          89,
          36,
          57,
          148,
          93,
          119,
          45,
          10,
          191,
          57,
          66,
          43,
          50,
          39,
          68,
          80,
          91,
          31,
          38,
          35,
          53,
          65,
          17,
          285,
          114,
          185,
          189,
          17,
          22,
          19,
          69,
          23,
          57,
          26,
          17,
          64,
          26,
          210,
          33,
          44,
          17,
          31,
          275,
          25,
          90,
          67,
          60,
          231,
          48,
          99,
          102,
          317,
          37,
          70,
          390,
          52,
          137,
          68,
          25,
          32,
          100,
          62,
          90,
          273,
          66,
          107,
          241,
          53,
          37,
          32,
          102,
          28,
          30,
          20,
          65,
          37,
          38,
          160,
          23,
          71,
          59,
          33,
          62,
          139,
          18,
          42,
          44,
          16,
          49,
          99,
          425,
          57,
          25,
          51,
          30,
          29,
          73,
          81,
          37,
          51,
          17,
          22,
          324,
          19,
          41,
          492,
          114,
          222,
          209,
          47,
          27,
          96,
          64,
          343,
          41,
          70,
          272,
          46,
          79,
          78,
          48,
          45,
          10,
          20,
          43,
          57,
          46,
          467,
          122,
          36,
          34,
          156,
          14,
          37,
          34,
          20,
          192,
          48,
          59,
          431,
          270,
          135,
          120,
          15,
          17,
          44,
          25,
          31,
          70,
          54,
          296,
          266,
          20,
          205,
          309,
          43,
          64,
          32,
          263,
          46,
          137,
          216,
          347,
          138,
          42,
          52,
          358,
          210,
          42,
          260,
          46,
          96,
          232,
          76,
          54,
          201,
          406,
          41,
          134,
          69,
          21,
          54,
          91,
          162,
          64,
          78,
          331,
          265,
          11,
          21,
          17,
          38,
          177,
          279,
          62,
          182,
          49,
          75,
          47,
          143,
          55,
          63,
          473,
          55,
          81,
          49,
          69,
          67,
          30,
          63,
          79,
          42,
          213,
          67,
          28,
          45,
          268,
          266,
          37,
          37,
          35,
          42,
          95,
          33,
          36,
          103,
          191,
          93,
          16,
          393,
          486,
          235,
          48,
          67,
          365,
          165,
          210,
          22,
          74,
          26,
          60,
          20,
          59,
          34,
          198,
          11,
          172,
          257,
          270,
          29,
          121,
          126,
          23,
          57,
          187,
          57,
          59,
          18,
          112,
          233,
          48,
          21,
          16,
          65,
          11,
          18,
          97,
          63,
          109,
          38,
          28,
          92,
          99,
          66,
          86,
          242,
          183,
          81,
          137,
          16,
          93,
          43,
          29,
          25,
          24,
          38,
          57,
          47,
          50,
          270,
          177,
          60,
          41,
          170,
          63,
          72,
          48,
          20,
          570,
          55,
          55,
          162,
          36,
          22,
          63,
          50,
          39,
          385,
          46,
          76,
          290,
          89,
          70,
          195,
          53,
          368,
          35,
          41,
          40,
          40,
          15,
          369,
          393,
          10,
          486,
          69,
          45,
          182,
          156,
          128,
          86,
          68,
          16,
          55,
          55,
          83,
          14,
          401,
          84,
          203,
          28,
          67,
          199,
          178,
          350,
          46,
          95,
          62,
          467,
          125,
          32,
          46,
          66,
          305,
          50,
          41,
          77,
          131,
          54,
          53,
          96,
          64,
          149,
          93,
          23,
          92,
          94,
          23,
          6,
          54,
          45,
          19,
          108,
          23,
          89,
          343,
          58,
          69,
          17,
          116,
          103,
          44,
          236,
          39,
          137,
          79,
          63,
          71,
          58,
          94,
          80,
          22,
          55,
          313,
          62,
          92,
          72,
          54,
          36,
          122,
          122,
          12,
          56,
          37,
          49,
          38,
          18,
          46,
          47,
          22,
          396,
          20,
          15,
          17,
          23,
          133,
          73,
          121,
          12,
          367,
          267,
          61,
          63,
          64,
          16,
          44,
          63,
          426,
          96,
          125,
          135,
          330,
          78,
          24,
          15,
          57,
          326,
          77,
          30,
          315,
          74,
          46,
          86,
          61,
          145,
          27,
          18,
          237,
          48,
          301,
          218,
          75,
          106,
          16,
          34,
          75,
          225,
          18,
          470,
          91,
          235,
          88,
          17,
          24,
          60,
          155,
          51,
          96,
          160,
          139,
          183,
          174,
          195,
          31,
          43,
          49,
          133,
          363,
          140,
          114,
          101,
          25,
          87,
          90,
          61,
          72,
          40,
          63,
          52,
          39,
          130,
          34,
          152,
          21,
          71,
          119,
          21,
          10,
          23,
          49,
          48,
          83,
          84,
          183,
          76,
          30,
          99,
          38,
          434,
          44,
          78,
          17,
          26,
          76,
          15,
          62,
          198,
          49,
          57,
          37,
          311,
          274,
          57,
          44,
          102,
          61,
          397,
          50,
          58,
          170,
          373,
          101,
          311,
          129,
          32,
          320,
          85,
          24,
          112,
          30,
          28,
          227,
          103,
          131,
          62,
          415,
          30,
          187,
          251,
          237,
          91,
          35,
          68,
          322,
          317,
          222,
          45,
          21,
          45,
          42,
          22,
          41,
          95,
          42,
          72,
          20,
          15,
          59,
          417,
          188,
          20,
          209,
          96,
          222,
          61,
          44,
          8,
          42,
          60,
          78,
          23,
          19,
          61,
          449,
          37,
          38,
          34,
          48,
          30,
          125,
          156,
          70,
          22,
          65,
          209,
          57,
          180,
          77,
          46,
          44,
          47,
          13,
          65,
          175,
          40,
          134,
          87,
          217,
          32,
          46,
          75,
          55,
          38,
          73,
          275,
          78,
          106,
          106,
          84,
          48,
          5,
          112,
          55,
          103,
          22,
          72,
          18,
          100,
          80,
          167,
          23,
          92,
          25,
          20,
          102,
          156,
          17,
          92,
          407,
          54,
          52,
          147,
          137,
          15,
          66,
          49,
          155,
          58,
          311,
          95,
          47,
          339,
          35,
          32,
          41,
          39,
          57,
          270,
          31,
          16,
          311,
          227,
          122,
          77,
          233,
          54,
          78,
          244,
          116,
          15,
          425,
          41,
          31,
          34,
          29,
          20,
          396,
          138,
          55,
          117,
          32,
          67,
          335,
          231,
          68,
          71,
          76,
          47,
          82,
          244,
          36,
          404,
          71,
          122,
          41,
          10,
          304,
          37,
          21,
          31,
          67,
          25,
          32,
          72,
          57,
          103,
          153,
          279,
          264,
          69,
          64,
          31,
          11,
          69,
          54,
          68,
          60,
          55,
          358,
          42,
          184,
          145,
          28,
          48,
          44,
          38,
          81,
          167,
          45,
          48,
          461,
          55,
          20,
          43,
          224,
          101,
          209,
          24,
          165,
          269,
          102,
          47,
          144,
          119,
          76,
          62,
          84,
          43,
          76,
          185,
          34,
          416,
          44,
          40,
          27,
          9,
          68,
          131,
          37,
          388,
          173,
          99,
          215,
          219,
          174,
          92,
          275,
          159,
          35,
          69,
          34,
          13,
          103,
          84,
          14,
          55,
          20,
          42,
          48,
          39,
          43,
          34,
          149,
          28,
          46,
          382,
          72,
          236,
          80,
          68,
          49,
          39,
          306,
          70,
          46,
          51,
          85,
          47,
          137,
          21,
          70,
          24,
          91,
          44,
          63,
          38,
          15,
          38,
          43,
          42,
          162,
          74,
          134,
          157,
          20,
          138,
          45,
          161,
          144,
          44,
          434,
          198,
          359,
          88,
          63,
          27,
          193,
          101,
          140,
          22,
          393,
          147,
          443,
          174,
          25,
          331,
          25,
          13,
          115,
          16,
          92,
          52,
          165,
          23,
          66,
          37,
          21,
          22,
          78,
          79,
          46,
          25,
          46,
          100,
          45,
          414,
          392,
          79,
          44,
          50,
          223,
          158,
          43,
          71,
          54,
          129,
          137,
          47,
          41,
          100,
          98,
          48,
          37,
          26,
          102,
          97,
          207,
          176,
          450,
          56,
          22,
          26,
          350,
          40,
          45,
          51,
          75,
          57,
          140,
          266,
          22,
          133,
          57,
          28,
          123,
          13,
          132,
          66,
          8,
          43,
          103,
          395,
          25,
          185,
          22,
          44,
          81,
          38,
          61,
          88,
          54,
          68,
          31,
          66,
          174,
          28,
          274,
          312,
          29,
          94,
          54,
          575,
          257,
          56,
          125,
          69,
          40,
          46,
          59,
          17,
          35,
          141,
          61,
          106,
          85,
          54,
          43,
          53,
          45,
          32,
          16,
          52,
          15,
          53,
          51,
          50,
          84,
          22,
          30
         ]
        },
        {
         "hovertemplate": "Cluster=Cluster 2<br>Récence=%{x}<br>Fréquence=%{y}<br>Montant dépensé=%{z}<extra></extra>",
         "legendgroup": "Cluster 2",
         "marker": {
          "color": "#00cc96",
          "size": 3,
          "symbol": "circle"
         },
         "mode": "markers",
         "name": "Cluster 2",
         "scene": "scene",
         "showlegend": true,
         "type": "scatter3d",
         "x": [
          6.714285714285714,
          2.4285714285714284,
          3,
          4.5,
          4.928571428571429,
          0.2857142857142857,
          0.5714285714285714,
          2.642857142857143,
          2.7857142857142856,
          4.071428571428571,
          1.2857142857142858,
          1.8571428571428568,
          6.428571428571429,
          6.285714285714286,
          3.4285714285714284,
          0.2857142857142857,
          5.142857142857143,
          4,
          1.3571428571428572,
          5.285714285714286,
          4.642857142857143,
          1.6428571428571428,
          5.142857142857143,
          0.7142857142857143,
          3,
          3.642857142857143,
          2.571428571428572,
          6.714285714285714,
          6.857142857142857,
          2,
          7,
          2.7142857142857144,
          5.785714285714286,
          3.571428571428572,
          0.7857142857142857,
          5,
          1.5,
          5.642857142857143,
          2.7142857142857144,
          2.142857142857143,
          2.642857142857143,
          5.5,
          6.928571428571429,
          3.2857142857142856,
          0.6428571428571429,
          5,
          6.285714285714286,
          2.4285714285714284,
          0.9285714285714286,
          4.785714285714286,
          2.9285714285714284,
          5.571428571428571,
          4.071428571428571,
          4.785714285714286,
          4.928571428571429,
          3.2142857142857144,
          6.142857142857143,
          6.714285714285714,
          5.571428571428571,
          4.071428571428571,
          1.2857142857142858,
          5.928571428571429,
          0.7857142857142857,
          2,
          3.571428571428572,
          6.428571428571429,
          0.2857142857142857,
          3,
          5.428571428571429,
          5.071428571428571,
          6.428571428571429,
          5.071428571428571,
          0.1428571428571428,
          6.142857142857143,
          6.571428571428571,
          5.785714285714286,
          2.857142857142857,
          6.642857142857143,
          2.9285714285714284,
          5.5,
          3.5,
          4.428571428571429,
          4.928571428571429,
          5.714285714285714,
          3.7142857142857135,
          5,
          3.571428571428572,
          0.9285714285714286,
          5.714285714285714,
          1.8571428571428568,
          6.071428571428571,
          4.571428571428571,
          4.928571428571429,
          4.928571428571429,
          5.5,
          6.285714285714286,
          0.4285714285714285,
          1.6428571428571428,
          2,
          0.9285714285714286,
          3.7857142857142856,
          5.571428571428571,
          2.642857142857143,
          4,
          4.5,
          6.142857142857143,
          5.928571428571429,
          6.214285714285714,
          2.357142857142857,
          1.5,
          7,
          3.5,
          5.5,
          1.3571428571428572,
          4.285714285714286,
          4.285714285714286,
          4.071428571428571,
          5.285714285714286,
          3.928571428571429,
          1.7857142857142858,
          3.7142857142857135,
          0.6428571428571429,
          2,
          1.5714285714285714,
          2.142857142857143,
          5.785714285714286,
          4.714285714285714,
          2,
          6.214285714285714,
          5.142857142857143,
          6.928571428571429,
          3,
          3.571428571428572,
          1.7857142857142858,
          4.714285714285714,
          2.5,
          5.714285714285714,
          2.071428571428572,
          4.571428571428571,
          6.214285714285714,
          3.2857142857142856,
          3.857142857142857,
          0.7142857142857143,
          1.7142857142857142,
          3.642857142857143,
          1.4285714285714286,
          6.857142857142857,
          6.714285714285714,
          3.4285714285714284,
          3.357142857142857,
          3.2857142857142856,
          2.642857142857143,
          4.285714285714286,
          5,
          2.4285714285714284,
          1.7857142857142858,
          3.571428571428572,
          3.2857142857142856,
          3.642857142857143,
          5.785714285714286,
          3.857142857142857,
          6.785714285714286,
          4.428571428571429,
          4.857142857142857,
          7,
          7,
          0.2142857142857142,
          3.7142857142857135,
          1.6428571428571428,
          1.1428571428571428,
          3.2857142857142856,
          6.785714285714286,
          5.071428571428571,
          7,
          4.785714285714286,
          3.857142857142857,
          5.571428571428571,
          4.785714285714286,
          4.642857142857143,
          0,
          0.7857142857142857,
          0,
          3.7857142857142856,
          4.357142857142857,
          2.357142857142857,
          6.214285714285714,
          4.571428571428571,
          3.5,
          4.571428571428571,
          3.7857142857142856,
          6.428571428571429,
          4.642857142857143,
          3.642857142857143,
          5.142857142857143,
          2.9285714285714284,
          1.5,
          3.642857142857143,
          4,
          2.571428571428572,
          3.5,
          3.4285714285714284,
          4.357142857142857,
          5,
          2.642857142857143,
          1,
          6.357142857142857,
          2,
          1.2142857142857142,
          0.5714285714285714,
          2.571428571428572,
          0.1428571428571428,
          0.2142857142857142,
          3.928571428571429,
          2.142857142857143,
          1,
          7,
          5.142857142857143,
          0.0714285714285714,
          1.8571428571428568,
          5.285714285714286,
          0.5,
          6.571428571428571,
          3.7857142857142856,
          2.7857142857142856,
          3.5,
          5,
          2.857142857142857,
          3.071428571428572,
          5.928571428571429,
          3.2142857142857144,
          1.1428571428571428,
          6.571428571428571,
          6.642857142857143,
          1.7142857142857142,
          2.071428571428572,
          3.2142857142857144,
          1.7857142857142858,
          4,
          4.5,
          1.2142857142857142,
          0.7857142857142857,
          3.4285714285714284,
          2.4285714285714284,
          4.357142857142857,
          4,
          5.285714285714286,
          3.4285714285714284,
          6.285714285714286,
          1.5,
          6.142857142857143,
          6,
          1.4285714285714286,
          2.357142857142857,
          4.642857142857143,
          6.142857142857143,
          6.928571428571429,
          3.4285714285714284,
          6.785714285714286,
          4.5,
          5.785714285714286,
          4.714285714285714,
          6.642857142857143,
          3.7857142857142856,
          1.8571428571428568,
          4,
          1.3571428571428572,
          3.7142857142857135,
          0.7857142857142857,
          0.2142857142857142,
          4.571428571428571,
          2,
          4.357142857142857,
          6.571428571428571,
          4.571428571428571,
          3.5,
          2.5,
          0.7857142857142857,
          3.642857142857143,
          1.7142857142857142,
          4.428571428571429,
          0.3571428571428571,
          5.714285714285714,
          6.071428571428571,
          1.7857142857142858,
          4.857142857142857,
          5.071428571428571,
          0.4285714285714285,
          1.4285714285714286,
          0.5,
          3.4285714285714284,
          2.2857142857142856,
          1.8571428571428568,
          2.7857142857142856,
          0.5,
          0.5714285714285714,
          1.4285714285714286,
          0.4285714285714285,
          5.142857142857143,
          4.928571428571429,
          2.142857142857143,
          1.5,
          5.071428571428571,
          6.5,
          5.142857142857143,
          3.928571428571429,
          2.642857142857143,
          2.071428571428572,
          0.9285714285714286,
          1.9285714285714288,
          0.2142857142857142,
          2.7142857142857144,
          1.6428571428571428,
          1.7142857142857142,
          3.142857142857143,
          2.071428571428572,
          0.2142857142857142,
          4.428571428571429,
          3.928571428571429,
          0.5714285714285714,
          3.5,
          3.2142857142857144,
          3.2857142857142856,
          2.7142857142857144,
          4.857142857142857,
          6.571428571428571,
          3.7857142857142856,
          0.3571428571428571,
          6.714285714285714,
          1.6428571428571428,
          7,
          5.714285714285714,
          2.5,
          3.7142857142857135,
          4.5,
          2.2857142857142856,
          0.1428571428571428,
          0.3571428571428571,
          1.7857142857142858,
          3.4285714285714284,
          6.571428571428571,
          6.142857142857143,
          2.142857142857143,
          0.7857142857142857,
          5.142857142857143,
          4.142857142857143,
          2.142857142857143,
          2.142857142857143,
          0.7142857142857143,
          0.2142857142857142,
          4.928571428571429,
          0.5714285714285714,
          0.7142857142857143,
          0,
          0.2142857142857142,
          5.714285714285714,
          1.2142857142857142,
          2.2142857142857144,
          5.214285714285714,
          3.928571428571429,
          6.214285714285714,
          2.7857142857142856,
          4,
          2.857142857142857
         ],
         "y": [
          14,
          17,
          28,
          14,
          13,
          10,
          11,
          23,
          19,
          16,
          18,
          20,
          12,
          19,
          8,
          17,
          17,
          22,
          16,
          15,
          18,
          14,
          19,
          14,
          18,
          11,
          12,
          9,
          15,
          13,
          22,
          12,
          9,
          11,
          10,
          11,
          16,
          14,
          27,
          14,
          24,
          21,
          12,
          22,
          11,
          7,
          20,
          23,
          10,
          15,
          18,
          18,
          19,
          15,
          10,
          19,
          7,
          9,
          22,
          16,
          8,
          8,
          15,
          16,
          13,
          13,
          20,
          16,
          24,
          22,
          12,
          10,
          12,
          17,
          22,
          23,
          22,
          15,
          14,
          11,
          19,
          13,
          13,
          15,
          16,
          12,
          10,
          21,
          15,
          11,
          10,
          10,
          13,
          17,
          7,
          13,
          12,
          14,
          27,
          21,
          21,
          22,
          19,
          10,
          27,
          8,
          18,
          16,
          13,
          29,
          16,
          22,
          25,
          7,
          14,
          15,
          16,
          11,
          18,
          15,
          14,
          17,
          18,
          16,
          13,
          17,
          15,
          13,
          13,
          21,
          14,
          17,
          23,
          24,
          19,
          11,
          11,
          14,
          16,
          11,
          16,
          12,
          11,
          25,
          14,
          8,
          13,
          18,
          12,
          10,
          18,
          7,
          14,
          23,
          17,
          17,
          11,
          15,
          11,
          18,
          27,
          17,
          1,
          12,
          19,
          11,
          17,
          25,
          19,
          13,
          22,
          14,
          12,
          18,
          11,
          13,
          14,
          13,
          18,
          19,
          16,
          19,
          18,
          14,
          16,
          19,
          10,
          8,
          13,
          9,
          12,
          0,
          24,
          14,
          19,
          10,
          17,
          18,
          13,
          20,
          11,
          21,
          13,
          25,
          21,
          13,
          12,
          22,
          12,
          11,
          13,
          17,
          16,
          14,
          11,
          16,
          23,
          13,
          14,
          8,
          11,
          11,
          11,
          20,
          7,
          12,
          15,
          7,
          15,
          19,
          12,
          11,
          22,
          18,
          18,
          17,
          24,
          15,
          13,
          20,
          11,
          18,
          15,
          12,
          14,
          19,
          17,
          24,
          22,
          7,
          21,
          20,
          22,
          11,
          7,
          11,
          23,
          21,
          27,
          10,
          15,
          19,
          18,
          14,
          14,
          11,
          8,
          10,
          14,
          16,
          19,
          14,
          24,
          15,
          9,
          15,
          20,
          17,
          17,
          15,
          23,
          23,
          19,
          28,
          12,
          9,
          21,
          12,
          11,
          23,
          14,
          11,
          15,
          11,
          12,
          10,
          15,
          16,
          9,
          14,
          22,
          15,
          16,
          23,
          22,
          14,
          0,
          18,
          13,
          19,
          21,
          20,
          25,
          16,
          19,
          15,
          21,
          13,
          12,
          14,
          10,
          15,
          14,
          13,
          21,
          11,
          22,
          25,
          18,
          19,
          13,
          15,
          18,
          27,
          13,
          14,
          22,
          10,
          17,
          14,
          19,
          10,
          7,
          7,
          21,
          12,
          10,
          14,
          14,
          17,
          24,
          13,
          22,
          14,
          9,
          16,
          16,
          13,
          16,
          18,
          14,
          15,
          8
         ],
         "z": [
          422,
          590,
          1730,
          972,
          444,
          257,
          302,
          913,
          1319,
          606,
          612,
          884,
          1562,
          661,
          151,
          603,
          606,
          910,
          551,
          577,
          660,
          404,
          661,
          463,
          632,
          279,
          877,
          211,
          460,
          429,
          1608,
          315,
          263,
          293,
          241,
          264,
          541,
          482,
          1245,
          433,
          1102,
          1148,
          322,
          845,
          275,
          184,
          859,
          916,
          235,
          1052,
          1307,
          630,
          1277,
          494,
          254,
          1371,
          120,
          211,
          1005,
          1173,
          186,
          163,
          446,
          490,
          915,
          369,
          751,
          684,
          1082,
          868,
          348,
          265,
          893,
          542,
          890,
          906,
          973,
          530,
          506,
          900,
          730,
          397,
          411,
          521,
          493,
          319,
          240,
          889,
          1065,
          369,
          227,
          215,
          444,
          594,
          129,
          373,
          326,
          404,
          1825,
          889,
          1477,
          1005,
          1307,
          235,
          1174,
          223,
          597,
          574,
          1029,
          1717,
          493,
          903,
          1185,
          71,
          411,
          480,
          606,
          284,
          1226,
          1171,
          450,
          654,
          813,
          629,
          377,
          573,
          458,
          405,
          1027,
          860,
          1616,
          542,
          1043,
          1180,
          727,
          292,
          341,
          401,
          595,
          263,
          564,
          353,
          282,
          1198,
          1120,
          171,
          475,
          694,
          361,
          231,
          662,
          81,
          411,
          1085,
          573,
          724,
          297,
          488,
          279,
          1314,
          1211,
          655,
          178,
          497,
          691,
          270,
          1178,
          1826,
          1477,
          357,
          981,
          443,
          312,
          635,
          332,
          384,
          1722,
          957,
          660,
          684,
          515,
          684,
          606,
          438,
          504,
          685,
          296,
          152,
          405,
          189,
          351,
          8,
          992,
          418,
          793,
          246,
          610,
          1286,
          362,
          802,
          310,
          832,
          401,
          1194,
          820,
          448,
          473,
          1678,
          316,
          299,
          441,
          1178,
          586,
          447,
          797,
          493,
          971,
          371,
          396,
          177,
          325,
          289,
          354,
          727,
          146,
          319,
          454,
          152,
          545,
          1371,
          294,
          289,
          879,
          637,
          795,
          586,
          1180,
          444,
          380,
          736,
          269,
          612,
          1064,
          436,
          436,
          747,
          642,
          1048,
          907,
          120,
          854,
          733,
          1513,
          271,
          120,
          269,
          964,
          793,
          1174,
          240,
          458,
          1269,
          633,
          1019,
          436,
          268,
          169,
          221,
          424,
          562,
          710,
          401,
          1152,
          561,
          211,
          1092,
          734,
          612,
          694,
          496,
          1001,
          1080,
          660,
          1220,
          497,
          211,
          877,
          324,
          252,
          964,
          460,
          369,
          467,
          252,
          318,
          253,
          502,
          1250,
          255,
          433,
          907,
          1143,
          525,
          929,
          1662,
          395,
          9,
          656,
          367,
          685,
          820,
          732,
          1198,
          416,
          749,
          455,
          775,
          377,
          318,
          415,
          263,
          484,
          413,
          441,
          839,
          265,
          874,
          1109,
          639,
          1392,
          467,
          527,
          721,
          1174,
          433,
          400,
          874,
          264,
          615,
          437,
          732,
          258,
          180,
          94,
          798,
          300,
          258,
          414,
          424,
          542,
          1016,
          500,
          704,
          424,
          199,
          1147,
          521,
          415,
          586,
          653,
          468,
          444,
          172
         ]
        },
        {
         "hovertemplate": "Cluster=Cluster 4<br>Récence=%{x}<br>Fréquence=%{y}<br>Montant dépensé=%{z}<extra></extra>",
         "legendgroup": "Cluster 4",
         "marker": {
          "color": "#ab63fa",
          "size": 3,
          "symbol": "circle"
         },
         "mode": "markers",
         "name": "Cluster 4",
         "scene": "scene",
         "showlegend": true,
         "type": "scatter3d",
         "x": [
          1.6428571428571428,
          3.7857142857142856,
          3.857142857142857,
          3.928571428571429,
          0.8571428571428571,
          1.3571428571428572,
          2.857142857142857,
          0.6428571428571429,
          0.2142857142857142,
          2.857142857142857,
          6.785714285714286,
          1.7857142857142858,
          4.928571428571429,
          0.7142857142857143,
          5.642857142857143,
          3.857142857142857,
          1.2142857142857142,
          5.785714285714286,
          0.5714285714285714,
          2.857142857142857,
          0.3571428571428571,
          2.142857142857143,
          4.428571428571429,
          4.928571428571429,
          0.7142857142857143,
          1.2857142857142858,
          4.642857142857143,
          6.642857142857143,
          0.7857142857142857,
          2.357142857142857,
          1.8571428571428568,
          3,
          2,
          0.0714285714285714,
          6.214285714285714,
          3.142857142857143,
          1.2142857142857142,
          1.3571428571428572,
          5.214285714285714,
          1.3571428571428572,
          0.6428571428571429,
          4.357142857142857,
          1.9285714285714288,
          4.642857142857143,
          1.7857142857142858,
          3.7142857142857135,
          5.214285714285714,
          2.571428571428572,
          1.2142857142857142,
          2.857142857142857,
          1.9285714285714288,
          6.642857142857143,
          1.3571428571428572,
          1.5714285714285714,
          3.2857142857142856,
          0,
          1.4285714285714286,
          4.142857142857143,
          5.428571428571429,
          1.0714285714285714,
          0,
          4.357142857142857,
          3.071428571428572,
          2.7142857142857144,
          0.0714285714285714,
          1.9285714285714288,
          6.785714285714286,
          3.7857142857142856,
          0.7142857142857143,
          2.071428571428572,
          0.6428571428571429,
          5.428571428571429,
          4.428571428571429,
          4.285714285714286,
          2.5,
          1.2142857142857142,
          3.2857142857142856,
          0.4285714285714285,
          2.7142857142857144,
          0.0714285714285714,
          2.142857142857143,
          1.5,
          0.5,
          1.9285714285714288,
          1.1428571428571428,
          5.714285714285714,
          5.571428571428571,
          0.0714285714285714,
          5,
          5.285714285714286,
          1,
          2.071428571428572,
          3.928571428571429,
          5.785714285714286,
          7,
          4.571428571428571,
          6.928571428571429,
          6.5,
          7,
          6.071428571428571,
          5.571428571428571,
          0.9285714285714286,
          6.428571428571429,
          5.714285714285714,
          1,
          4.428571428571429,
          3.071428571428572,
          1.6428571428571428,
          0.2142857142857142,
          0.2857142857142857,
          1.7142857142857142,
          0.7142857142857143,
          0.6428571428571429,
          2.857142857142857,
          1.7857142857142858,
          6,
          2.571428571428572,
          5.071428571428571,
          1.1428571428571428,
          7.071428571428571,
          4.428571428571429,
          2.5,
          0.3571428571428571,
          1.6428571428571428,
          2.071428571428572,
          6.357142857142857,
          1.8571428571428568,
          1.3571428571428572,
          5.071428571428571,
          3.928571428571429,
          6.928571428571429,
          3.5,
          1.4285714285714286,
          2.5,
          2.2142857142857144,
          2.142857142857143,
          5.071428571428571,
          2.2857142857142856,
          4,
          3.4285714285714284,
          5.214285714285714,
          0.5,
          4,
          5,
          0.7142857142857143,
          2.142857142857143,
          4.785714285714286,
          6.214285714285714,
          6.642857142857143,
          6,
          4.642857142857143,
          4,
          0.1428571428571428,
          4.285714285714286,
          0.5714285714285714,
          4.285714285714286,
          2.9285714285714284,
          2.5,
          0.5714285714285714,
          3.357142857142857,
          5.357142857142857,
          0.2857142857142857,
          5.214285714285714,
          5.642857142857143,
          5.714285714285714,
          4.285714285714286,
          5.357142857142857,
          4.142857142857143,
          4.285714285714286,
          4.785714285714286,
          6.357142857142857,
          0.0714285714285714,
          6.357142857142857,
          7,
          4.285714285714286,
          4.571428571428571,
          0.8571428571428571,
          6.714285714285714,
          6.5,
          5.5,
          1.7857142857142858,
          0.1428571428571428,
          2.7142857142857144,
          4.357142857142857,
          0.8571428571428571
         ],
         "y": [
          25,
          22,
          20,
          26,
          20,
          31,
          22,
          19,
          13,
          16,
          24,
          15,
          27,
          20,
          24,
          26,
          24,
          24,
          21,
          14,
          28,
          16,
          20,
          23,
          21,
          21,
          17,
          20,
          20,
          25,
          15,
          26,
          17,
          15,
          16,
          23,
          16,
          19,
          15,
          15,
          19,
          19,
          18,
          21,
          21,
          13,
          12,
          30,
          18,
          20,
          14,
          20,
          16,
          11,
          25,
          27,
          24,
          16,
          22,
          17,
          17,
          19,
          18,
          24,
          15,
          16,
          17,
          22,
          18,
          17,
          19,
          11,
          18,
          18,
          22,
          22,
          25,
          16,
          19,
          11,
          20,
          21,
          22,
          24,
          19,
          22,
          17,
          15,
          11,
          20,
          25,
          17,
          18,
          21,
          23,
          12,
          32,
          22,
          16,
          26,
          17,
          18,
          26,
          22,
          14,
          18,
          22,
          27,
          16,
          18,
          19,
          19,
          20,
          14,
          20,
          22,
          20,
          22,
          25,
          17,
          28,
          20,
          14,
          25,
          17,
          17,
          23,
          18,
          13,
          16,
          32,
          11,
          21,
          21,
          21,
          22,
          24,
          18,
          13,
          16,
          17,
          22,
          27,
          28,
          19,
          21,
          15,
          19,
          15,
          22,
          17,
          21,
          22,
          27,
          14,
          20,
          20,
          21,
          18,
          27,
          15,
          21,
          15,
          23,
          23,
          27,
          21,
          21,
          18,
          9,
          18,
          17,
          20,
          23,
          17,
          19,
          18,
          14,
          17,
          26,
          20,
          18,
          24,
          20,
          20
         ],
         "z": [
          1315,
          902,
          1617,
          1957,
          1438,
          1274,
          2209,
          692,
          372,
          1820,
          730,
          1724,
          1135,
          1381,
          1318,
          1240,
          1804,
          1615,
          1627,
          1690,
          1112,
          925,
          1374,
          1611,
          1442,
          1674,
          1182,
          1443,
          1378,
          1474,
          1435,
          1795,
          1188,
          1688,
          1379,
          2059,
          1743,
          1902,
          1727,
          1062,
          1919,
          1957,
          1230,
          1867,
          2086,
          939,
          2252,
          1724,
          1241,
          1346,
          1621,
          1443,
          1152,
          1472,
          1677,
          1215,
          1757,
          729,
          1526,
          1808,
          577,
          1957,
          2009,
          1853,
          446,
          1727,
          1677,
          902,
          1449,
          1990,
          1919,
          1187,
          2302,
          1250,
          1778,
          1415,
          2486,
          1789,
          528,
          1901,
          2194,
          1461,
          1650,
          1298,
          2087,
          523,
          1862,
          1104,
          1574,
          2013,
          1833,
          2525,
          1232,
          1461,
          1631,
          1536,
          1529,
          2279,
          1779,
          1804,
          1862,
          2130,
          1229,
          2346,
          1736,
          2302,
          1501,
          1189,
          1196,
          1400,
          844,
          1555,
          1899,
          1690,
          1428,
          1131,
          1930,
          2283,
          2349,
          1078,
          2524,
          1396,
          1658,
          1315,
          2525,
          1798,
          2352,
          1722,
          1750,
          1792,
          1529,
          265,
          2091,
          815,
          2157,
          1526,
          2034,
          1991,
          2231,
          1101,
          1024,
          557,
          1365,
          1217,
          1555,
          2257,
          1702,
          2069,
          1815,
          1676,
          1182,
          1512,
          2092,
          1544,
          1766,
          1429,
          1371,
          2211,
          1958,
          2217,
          1691,
          809,
          895,
          1941,
          930,
          1211,
          1564,
          1216,
          2053,
          1376,
          1264,
          497,
          2006,
          1631,
          1822,
          1931,
          1334,
          1092,
          1479,
          1199,
          731,
          2043,
          1853,
          1528,
          1438
         ]
        }
       ],
       "layout": {
        "legend": {
         "title": {
          "text": "Cluster"
         },
         "tracegroupgap": 0
        },
        "scene": {
         "domain": {
          "x": [
           0,
           1
          ],
          "y": [
           0,
           1
          ]
         },
         "xaxis": {
          "title": {
           "text": "Récence"
          }
         },
         "yaxis": {
          "title": {
           "text": "Fréquence"
          }
         },
         "zaxis": {
          "title": {
           "text": "Montant dépensé"
          }
         }
        },
        "template": {
         "data": {
          "bar": [
           {
            "error_x": {
             "color": "#2a3f5f"
            },
            "error_y": {
             "color": "#2a3f5f"
            },
            "marker": {
             "line": {
              "color": "#E5ECF6",
              "width": 0.5
             },
             "pattern": {
              "fillmode": "overlay",
              "size": 10,
              "solidity": 0.2
             }
            },
            "type": "bar"
           }
          ],
          "barpolar": [
           {
            "marker": {
             "line": {
              "color": "#E5ECF6",
              "width": 0.5
             },
             "pattern": {
              "fillmode": "overlay",
              "size": 10,
              "solidity": 0.2
             }
            },
            "type": "barpolar"
           }
          ],
          "carpet": [
           {
            "aaxis": {
             "endlinecolor": "#2a3f5f",
             "gridcolor": "white",
             "linecolor": "white",
             "minorgridcolor": "white",
             "startlinecolor": "#2a3f5f"
            },
            "baxis": {
             "endlinecolor": "#2a3f5f",
             "gridcolor": "white",
             "linecolor": "white",
             "minorgridcolor": "white",
             "startlinecolor": "#2a3f5f"
            },
            "type": "carpet"
           }
          ],
          "choropleth": [
           {
            "colorbar": {
             "outlinewidth": 0,
             "ticks": ""
            },
            "type": "choropleth"
           }
          ],
          "contour": [
           {
            "colorbar": {
             "outlinewidth": 0,
             "ticks": ""
            },
            "colorscale": [
             [
              0,
              "#0d0887"
             ],
             [
              0.1111111111111111,
              "#46039f"
             ],
             [
              0.2222222222222222,
              "#7201a8"
             ],
             [
              0.3333333333333333,
              "#9c179e"
             ],
             [
              0.4444444444444444,
              "#bd3786"
             ],
             [
              0.5555555555555556,
              "#d8576b"
             ],
             [
              0.6666666666666666,
              "#ed7953"
             ],
             [
              0.7777777777777778,
              "#fb9f3a"
             ],
             [
              0.8888888888888888,
              "#fdca26"
             ],
             [
              1,
              "#f0f921"
             ]
            ],
            "type": "contour"
           }
          ],
          "contourcarpet": [
           {
            "colorbar": {
             "outlinewidth": 0,
             "ticks": ""
            },
            "type": "contourcarpet"
           }
          ],
          "heatmap": [
           {
            "colorbar": {
             "outlinewidth": 0,
             "ticks": ""
            },
            "colorscale": [
             [
              0,
              "#0d0887"
             ],
             [
              0.1111111111111111,
              "#46039f"
             ],
             [
              0.2222222222222222,
              "#7201a8"
             ],
             [
              0.3333333333333333,
              "#9c179e"
             ],
             [
              0.4444444444444444,
              "#bd3786"
             ],
             [
              0.5555555555555556,
              "#d8576b"
             ],
             [
              0.6666666666666666,
              "#ed7953"
             ],
             [
              0.7777777777777778,
              "#fb9f3a"
             ],
             [
              0.8888888888888888,
              "#fdca26"
             ],
             [
              1,
              "#f0f921"
             ]
            ],
            "type": "heatmap"
           }
          ],
          "heatmapgl": [
           {
            "colorbar": {
             "outlinewidth": 0,
             "ticks": ""
            },
            "colorscale": [
             [
              0,
              "#0d0887"
             ],
             [
              0.1111111111111111,
              "#46039f"
             ],
             [
              0.2222222222222222,
              "#7201a8"
             ],
             [
              0.3333333333333333,
              "#9c179e"
             ],
             [
              0.4444444444444444,
              "#bd3786"
             ],
             [
              0.5555555555555556,
              "#d8576b"
             ],
             [
              0.6666666666666666,
              "#ed7953"
             ],
             [
              0.7777777777777778,
              "#fb9f3a"
             ],
             [
              0.8888888888888888,
              "#fdca26"
             ],
             [
              1,
              "#f0f921"
             ]
            ],
            "type": "heatmapgl"
           }
          ],
          "histogram": [
           {
            "marker": {
             "pattern": {
              "fillmode": "overlay",
              "size": 10,
              "solidity": 0.2
             }
            },
            "type": "histogram"
           }
          ],
          "histogram2d": [
           {
            "colorbar": {
             "outlinewidth": 0,
             "ticks": ""
            },
            "colorscale": [
             [
              0,
              "#0d0887"
             ],
             [
              0.1111111111111111,
              "#46039f"
             ],
             [
              0.2222222222222222,
              "#7201a8"
             ],
             [
              0.3333333333333333,
              "#9c179e"
             ],
             [
              0.4444444444444444,
              "#bd3786"
             ],
             [
              0.5555555555555556,
              "#d8576b"
             ],
             [
              0.6666666666666666,
              "#ed7953"
             ],
             [
              0.7777777777777778,
              "#fb9f3a"
             ],
             [
              0.8888888888888888,
              "#fdca26"
             ],
             [
              1,
              "#f0f921"
             ]
            ],
            "type": "histogram2d"
           }
          ],
          "histogram2dcontour": [
           {
            "colorbar": {
             "outlinewidth": 0,
             "ticks": ""
            },
            "colorscale": [
             [
              0,
              "#0d0887"
             ],
             [
              0.1111111111111111,
              "#46039f"
             ],
             [
              0.2222222222222222,
              "#7201a8"
             ],
             [
              0.3333333333333333,
              "#9c179e"
             ],
             [
              0.4444444444444444,
              "#bd3786"
             ],
             [
              0.5555555555555556,
              "#d8576b"
             ],
             [
              0.6666666666666666,
              "#ed7953"
             ],
             [
              0.7777777777777778,
              "#fb9f3a"
             ],
             [
              0.8888888888888888,
              "#fdca26"
             ],
             [
              1,
              "#f0f921"
             ]
            ],
            "type": "histogram2dcontour"
           }
          ],
          "mesh3d": [
           {
            "colorbar": {
             "outlinewidth": 0,
             "ticks": ""
            },
            "type": "mesh3d"
           }
          ],
          "parcoords": [
           {
            "line": {
             "colorbar": {
              "outlinewidth": 0,
              "ticks": ""
             }
            },
            "type": "parcoords"
           }
          ],
          "pie": [
           {
            "automargin": true,
            "type": "pie"
           }
          ],
          "scatter": [
           {
            "fillpattern": {
             "fillmode": "overlay",
             "size": 10,
             "solidity": 0.2
            },
            "type": "scatter"
           }
          ],
          "scatter3d": [
           {
            "line": {
             "colorbar": {
              "outlinewidth": 0,
              "ticks": ""
             }
            },
            "marker": {
             "colorbar": {
              "outlinewidth": 0,
              "ticks": ""
             }
            },
            "type": "scatter3d"
           }
          ],
          "scattercarpet": [
           {
            "marker": {
             "colorbar": {
              "outlinewidth": 0,
              "ticks": ""
             }
            },
            "type": "scattercarpet"
           }
          ],
          "scattergeo": [
           {
            "marker": {
             "colorbar": {
              "outlinewidth": 0,
              "ticks": ""
             }
            },
            "type": "scattergeo"
           }
          ],
          "scattergl": [
           {
            "marker": {
             "colorbar": {
              "outlinewidth": 0,
              "ticks": ""
             }
            },
            "type": "scattergl"
           }
          ],
          "scattermapbox": [
           {
            "marker": {
             "colorbar": {
              "outlinewidth": 0,
              "ticks": ""
             }
            },
            "type": "scattermapbox"
           }
          ],
          "scatterpolar": [
           {
            "marker": {
             "colorbar": {
              "outlinewidth": 0,
              "ticks": ""
             }
            },
            "type": "scatterpolar"
           }
          ],
          "scatterpolargl": [
           {
            "marker": {
             "colorbar": {
              "outlinewidth": 0,
              "ticks": ""
             }
            },
            "type": "scatterpolargl"
           }
          ],
          "scatterternary": [
           {
            "marker": {
             "colorbar": {
              "outlinewidth": 0,
              "ticks": ""
             }
            },
            "type": "scatterternary"
           }
          ],
          "surface": [
           {
            "colorbar": {
             "outlinewidth": 0,
             "ticks": ""
            },
            "colorscale": [
             [
              0,
              "#0d0887"
             ],
             [
              0.1111111111111111,
              "#46039f"
             ],
             [
              0.2222222222222222,
              "#7201a8"
             ],
             [
              0.3333333333333333,
              "#9c179e"
             ],
             [
              0.4444444444444444,
              "#bd3786"
             ],
             [
              0.5555555555555556,
              "#d8576b"
             ],
             [
              0.6666666666666666,
              "#ed7953"
             ],
             [
              0.7777777777777778,
              "#fb9f3a"
             ],
             [
              0.8888888888888888,
              "#fdca26"
             ],
             [
              1,
              "#f0f921"
             ]
            ],
            "type": "surface"
           }
          ],
          "table": [
           {
            "cells": {
             "fill": {
              "color": "#EBF0F8"
             },
             "line": {
              "color": "white"
             }
            },
            "header": {
             "fill": {
              "color": "#C8D4E3"
             },
             "line": {
              "color": "white"
             }
            },
            "type": "table"
           }
          ]
         },
         "layout": {
          "annotationdefaults": {
           "arrowcolor": "#2a3f5f",
           "arrowhead": 0,
           "arrowwidth": 1
          },
          "autotypenumbers": "strict",
          "coloraxis": {
           "colorbar": {
            "outlinewidth": 0,
            "ticks": ""
           }
          },
          "colorscale": {
           "diverging": [
            [
             0,
             "#8e0152"
            ],
            [
             0.1,
             "#c51b7d"
            ],
            [
             0.2,
             "#de77ae"
            ],
            [
             0.3,
             "#f1b6da"
            ],
            [
             0.4,
             "#fde0ef"
            ],
            [
             0.5,
             "#f7f7f7"
            ],
            [
             0.6,
             "#e6f5d0"
            ],
            [
             0.7,
             "#b8e186"
            ],
            [
             0.8,
             "#7fbc41"
            ],
            [
             0.9,
             "#4d9221"
            ],
            [
             1,
             "#276419"
            ]
           ],
           "sequential": [
            [
             0,
             "#0d0887"
            ],
            [
             0.1111111111111111,
             "#46039f"
            ],
            [
             0.2222222222222222,
             "#7201a8"
            ],
            [
             0.3333333333333333,
             "#9c179e"
            ],
            [
             0.4444444444444444,
             "#bd3786"
            ],
            [
             0.5555555555555556,
             "#d8576b"
            ],
            [
             0.6666666666666666,
             "#ed7953"
            ],
            [
             0.7777777777777778,
             "#fb9f3a"
            ],
            [
             0.8888888888888888,
             "#fdca26"
            ],
            [
             1,
             "#f0f921"
            ]
           ],
           "sequentialminus": [
            [
             0,
             "#0d0887"
            ],
            [
             0.1111111111111111,
             "#46039f"
            ],
            [
             0.2222222222222222,
             "#7201a8"
            ],
            [
             0.3333333333333333,
             "#9c179e"
            ],
            [
             0.4444444444444444,
             "#bd3786"
            ],
            [
             0.5555555555555556,
             "#d8576b"
            ],
            [
             0.6666666666666666,
             "#ed7953"
            ],
            [
             0.7777777777777778,
             "#fb9f3a"
            ],
            [
             0.8888888888888888,
             "#fdca26"
            ],
            [
             1,
             "#f0f921"
            ]
           ]
          },
          "colorway": [
           "#636efa",
           "#EF553B",
           "#00cc96",
           "#ab63fa",
           "#FFA15A",
           "#19d3f3",
           "#FF6692",
           "#B6E880",
           "#FF97FF",
           "#FECB52"
          ],
          "font": {
           "color": "#2a3f5f"
          },
          "geo": {
           "bgcolor": "white",
           "lakecolor": "white",
           "landcolor": "#E5ECF6",
           "showlakes": true,
           "showland": true,
           "subunitcolor": "white"
          },
          "hoverlabel": {
           "align": "left"
          },
          "hovermode": "closest",
          "mapbox": {
           "style": "light"
          },
          "paper_bgcolor": "white",
          "plot_bgcolor": "#E5ECF6",
          "polar": {
           "angularaxis": {
            "gridcolor": "white",
            "linecolor": "white",
            "ticks": ""
           },
           "bgcolor": "#E5ECF6",
           "radialaxis": {
            "gridcolor": "white",
            "linecolor": "white",
            "ticks": ""
           }
          },
          "scene": {
           "xaxis": {
            "backgroundcolor": "#E5ECF6",
            "gridcolor": "white",
            "gridwidth": 2,
            "linecolor": "white",
            "showbackground": true,
            "ticks": "",
            "zerolinecolor": "white"
           },
           "yaxis": {
            "backgroundcolor": "#E5ECF6",
            "gridcolor": "white",
            "gridwidth": 2,
            "linecolor": "white",
            "showbackground": true,
            "ticks": "",
            "zerolinecolor": "white"
           },
           "zaxis": {
            "backgroundcolor": "#E5ECF6",
            "gridcolor": "white",
            "gridwidth": 2,
            "linecolor": "white",
            "showbackground": true,
            "ticks": "",
            "zerolinecolor": "white"
           }
          },
          "shapedefaults": {
           "line": {
            "color": "#2a3f5f"
           }
          },
          "ternary": {
           "aaxis": {
            "gridcolor": "white",
            "linecolor": "white",
            "ticks": ""
           },
           "baxis": {
            "gridcolor": "white",
            "linecolor": "white",
            "ticks": ""
           },
           "bgcolor": "#E5ECF6",
           "caxis": {
            "gridcolor": "white",
            "linecolor": "white",
            "ticks": ""
           }
          },
          "title": {
           "x": 0.05
          },
          "xaxis": {
           "automargin": true,
           "gridcolor": "white",
           "linecolor": "white",
           "ticks": "",
           "title": {
            "standoff": 15
           },
           "zerolinecolor": "white",
           "zerolinewidth": 2
          },
          "yaxis": {
           "automargin": true,
           "gridcolor": "white",
           "linecolor": "white",
           "ticks": "",
           "title": {
            "standoff": 15
           },
           "zerolinecolor": "white",
           "zerolinewidth": 2
          }
         }
        },
        "title": {
         "text": "Segmentation des clients en 3D (RFM)"
        }
       }
      }
     },
     "metadata": {},
     "output_type": "display_data"
    }
   ],
   "source": [
    "# Importation de Plotly\n",
    "import plotly.express as px\n",
    "\n",
    "# Calcul des trois dimensions RFM\n",
    "rfm_data = pd.DataFrame()\n",
    "\n",
    "# Récence (Recency)\n",
    "rfm_data['Recency'] = df_['Recency_']\n",
    "\n",
    "# Fréquence (Frequency) : Somme des différents types d'achats\n",
    "rfm_data['Frequency'] = df_['Total_Purchases']\n",
    "\n",
    "# Monétaire (Monetary) : Total des dépenses\n",
    "rfm_data['Monetary'] = df_['Total_Spend']\n",
    "\n",
    "# Ajout de la colonne Cluster pour la couleur dans le graphique\n",
    "rfm_data['Cluster'] = df_['Cluster']\n",
    "\n",
    "# Création du graphique interactif en 3D avec Plotly\n",
    "fig = px.scatter_3d(\n",
    "    rfm_data, \n",
    "    x='Recency', \n",
    "    y='Frequency', \n",
    "    z='Monetary', \n",
    "    color='Cluster',\n",
    "    title='Segmentation des clients en 3D (RFM)',\n",
    "    labels={'Recency': 'Récence', 'Frequency': 'Fréquence', 'Monetary': 'Montant dépensé'},\n",
    "    color_continuous_scale=px.colors.sequential.Viridis\n",
    ")\n",
    "\n",
    "# Ajustement de la taille des points dans le graphique\n",
    "fig.update_traces(marker=dict(size=3))\n",
    "\n",
    "# Affichage du graphique interactif\n",
    "fig.show()\n"
   ]
  },
  {
   "cell_type": "code",
   "execution_count": 365,
   "metadata": {},
   "outputs": [
    {
     "data": {
      "application/vnd.plotly.v1+json": {
       "config": {
        "plotlyServerURL": "https://plot.ly"
       },
       "data": [
        {
         "alignmentgroup": "True",
         "hovertemplate": "Cluster=Cluster 1<br>Marital_Status=%{x}<br>Count of Customers=%{y}<extra></extra>",
         "legendgroup": "Cluster 1",
         "marker": {
          "color": "#636efa",
          "pattern": {
           "shape": ""
          }
         },
         "name": "Cluster 1",
         "offsetgroup": "Cluster 1",
         "orientation": "v",
         "showlegend": true,
         "textposition": "auto",
         "type": "bar",
         "x": [
          "Relationship",
          "Single"
         ],
         "xaxis": "x",
         "y": [
          668,
          358
         ],
         "yaxis": "y"
        },
        {
         "alignmentgroup": "True",
         "hovertemplate": "Cluster=Cluster 2<br>Marital_Status=%{x}<br>Count of Customers=%{y}<extra></extra>",
         "legendgroup": "Cluster 2",
         "marker": {
          "color": "#EF553B",
          "pattern": {
           "shape": ""
          }
         },
         "name": "Cluster 2",
         "offsetgroup": "Cluster 2",
         "orientation": "v",
         "showlegend": true,
         "textposition": "auto",
         "type": "bar",
         "x": [
          "Relationship",
          "Single"
         ],
         "xaxis": "x",
         "y": [
          245,
          118
         ],
         "yaxis": "y"
        },
        {
         "alignmentgroup": "True",
         "hovertemplate": "Cluster=Cluster 3<br>Marital_Status=%{x}<br>Count of Customers=%{y}<extra></extra>",
         "legendgroup": "Cluster 3",
         "marker": {
          "color": "#00cc96",
          "pattern": {
           "shape": ""
          }
         },
         "name": "Cluster 3",
         "offsetgroup": "Cluster 3",
         "orientation": "v",
         "showlegend": true,
         "textposition": "auto",
         "type": "bar",
         "x": [
          "Relationship",
          "Single"
         ],
         "xaxis": "x",
         "y": [
          420,
          242
         ],
         "yaxis": "y"
        },
        {
         "alignmentgroup": "True",
         "hovertemplate": "Cluster=Cluster 4<br>Marital_Status=%{x}<br>Count of Customers=%{y}<extra></extra>",
         "legendgroup": "Cluster 4",
         "marker": {
          "color": "#ab63fa",
          "pattern": {
           "shape": ""
          }
         },
         "name": "Cluster 4",
         "offsetgroup": "Cluster 4",
         "orientation": "v",
         "showlegend": true,
         "textposition": "auto",
         "type": "bar",
         "x": [
          "Relationship",
          "Single"
         ],
         "xaxis": "x",
         "y": [
          109,
          76
         ],
         "yaxis": "y"
        }
       ],
       "layout": {
        "barmode": "group",
        "height": 400,
        "legend": {
         "title": {
          "text": "Cluster"
         },
         "tracegroupgap": 0
        },
        "margin": {
         "t": 60
        },
        "template": {
         "data": {
          "bar": [
           {
            "error_x": {
             "color": "#2a3f5f"
            },
            "error_y": {
             "color": "#2a3f5f"
            },
            "marker": {
             "line": {
              "color": "#E5ECF6",
              "width": 0.5
             },
             "pattern": {
              "fillmode": "overlay",
              "size": 10,
              "solidity": 0.2
             }
            },
            "type": "bar"
           }
          ],
          "barpolar": [
           {
            "marker": {
             "line": {
              "color": "#E5ECF6",
              "width": 0.5
             },
             "pattern": {
              "fillmode": "overlay",
              "size": 10,
              "solidity": 0.2
             }
            },
            "type": "barpolar"
           }
          ],
          "carpet": [
           {
            "aaxis": {
             "endlinecolor": "#2a3f5f",
             "gridcolor": "white",
             "linecolor": "white",
             "minorgridcolor": "white",
             "startlinecolor": "#2a3f5f"
            },
            "baxis": {
             "endlinecolor": "#2a3f5f",
             "gridcolor": "white",
             "linecolor": "white",
             "minorgridcolor": "white",
             "startlinecolor": "#2a3f5f"
            },
            "type": "carpet"
           }
          ],
          "choropleth": [
           {
            "colorbar": {
             "outlinewidth": 0,
             "ticks": ""
            },
            "type": "choropleth"
           }
          ],
          "contour": [
           {
            "colorbar": {
             "outlinewidth": 0,
             "ticks": ""
            },
            "colorscale": [
             [
              0,
              "#0d0887"
             ],
             [
              0.1111111111111111,
              "#46039f"
             ],
             [
              0.2222222222222222,
              "#7201a8"
             ],
             [
              0.3333333333333333,
              "#9c179e"
             ],
             [
              0.4444444444444444,
              "#bd3786"
             ],
             [
              0.5555555555555556,
              "#d8576b"
             ],
             [
              0.6666666666666666,
              "#ed7953"
             ],
             [
              0.7777777777777778,
              "#fb9f3a"
             ],
             [
              0.8888888888888888,
              "#fdca26"
             ],
             [
              1,
              "#f0f921"
             ]
            ],
            "type": "contour"
           }
          ],
          "contourcarpet": [
           {
            "colorbar": {
             "outlinewidth": 0,
             "ticks": ""
            },
            "type": "contourcarpet"
           }
          ],
          "heatmap": [
           {
            "colorbar": {
             "outlinewidth": 0,
             "ticks": ""
            },
            "colorscale": [
             [
              0,
              "#0d0887"
             ],
             [
              0.1111111111111111,
              "#46039f"
             ],
             [
              0.2222222222222222,
              "#7201a8"
             ],
             [
              0.3333333333333333,
              "#9c179e"
             ],
             [
              0.4444444444444444,
              "#bd3786"
             ],
             [
              0.5555555555555556,
              "#d8576b"
             ],
             [
              0.6666666666666666,
              "#ed7953"
             ],
             [
              0.7777777777777778,
              "#fb9f3a"
             ],
             [
              0.8888888888888888,
              "#fdca26"
             ],
             [
              1,
              "#f0f921"
             ]
            ],
            "type": "heatmap"
           }
          ],
          "heatmapgl": [
           {
            "colorbar": {
             "outlinewidth": 0,
             "ticks": ""
            },
            "colorscale": [
             [
              0,
              "#0d0887"
             ],
             [
              0.1111111111111111,
              "#46039f"
             ],
             [
              0.2222222222222222,
              "#7201a8"
             ],
             [
              0.3333333333333333,
              "#9c179e"
             ],
             [
              0.4444444444444444,
              "#bd3786"
             ],
             [
              0.5555555555555556,
              "#d8576b"
             ],
             [
              0.6666666666666666,
              "#ed7953"
             ],
             [
              0.7777777777777778,
              "#fb9f3a"
             ],
             [
              0.8888888888888888,
              "#fdca26"
             ],
             [
              1,
              "#f0f921"
             ]
            ],
            "type": "heatmapgl"
           }
          ],
          "histogram": [
           {
            "marker": {
             "pattern": {
              "fillmode": "overlay",
              "size": 10,
              "solidity": 0.2
             }
            },
            "type": "histogram"
           }
          ],
          "histogram2d": [
           {
            "colorbar": {
             "outlinewidth": 0,
             "ticks": ""
            },
            "colorscale": [
             [
              0,
              "#0d0887"
             ],
             [
              0.1111111111111111,
              "#46039f"
             ],
             [
              0.2222222222222222,
              "#7201a8"
             ],
             [
              0.3333333333333333,
              "#9c179e"
             ],
             [
              0.4444444444444444,
              "#bd3786"
             ],
             [
              0.5555555555555556,
              "#d8576b"
             ],
             [
              0.6666666666666666,
              "#ed7953"
             ],
             [
              0.7777777777777778,
              "#fb9f3a"
             ],
             [
              0.8888888888888888,
              "#fdca26"
             ],
             [
              1,
              "#f0f921"
             ]
            ],
            "type": "histogram2d"
           }
          ],
          "histogram2dcontour": [
           {
            "colorbar": {
             "outlinewidth": 0,
             "ticks": ""
            },
            "colorscale": [
             [
              0,
              "#0d0887"
             ],
             [
              0.1111111111111111,
              "#46039f"
             ],
             [
              0.2222222222222222,
              "#7201a8"
             ],
             [
              0.3333333333333333,
              "#9c179e"
             ],
             [
              0.4444444444444444,
              "#bd3786"
             ],
             [
              0.5555555555555556,
              "#d8576b"
             ],
             [
              0.6666666666666666,
              "#ed7953"
             ],
             [
              0.7777777777777778,
              "#fb9f3a"
             ],
             [
              0.8888888888888888,
              "#fdca26"
             ],
             [
              1,
              "#f0f921"
             ]
            ],
            "type": "histogram2dcontour"
           }
          ],
          "mesh3d": [
           {
            "colorbar": {
             "outlinewidth": 0,
             "ticks": ""
            },
            "type": "mesh3d"
           }
          ],
          "parcoords": [
           {
            "line": {
             "colorbar": {
              "outlinewidth": 0,
              "ticks": ""
             }
            },
            "type": "parcoords"
           }
          ],
          "pie": [
           {
            "automargin": true,
            "type": "pie"
           }
          ],
          "scatter": [
           {
            "fillpattern": {
             "fillmode": "overlay",
             "size": 10,
             "solidity": 0.2
            },
            "type": "scatter"
           }
          ],
          "scatter3d": [
           {
            "line": {
             "colorbar": {
              "outlinewidth": 0,
              "ticks": ""
             }
            },
            "marker": {
             "colorbar": {
              "outlinewidth": 0,
              "ticks": ""
             }
            },
            "type": "scatter3d"
           }
          ],
          "scattercarpet": [
           {
            "marker": {
             "colorbar": {
              "outlinewidth": 0,
              "ticks": ""
             }
            },
            "type": "scattercarpet"
           }
          ],
          "scattergeo": [
           {
            "marker": {
             "colorbar": {
              "outlinewidth": 0,
              "ticks": ""
             }
            },
            "type": "scattergeo"
           }
          ],
          "scattergl": [
           {
            "marker": {
             "colorbar": {
              "outlinewidth": 0,
              "ticks": ""
             }
            },
            "type": "scattergl"
           }
          ],
          "scattermapbox": [
           {
            "marker": {
             "colorbar": {
              "outlinewidth": 0,
              "ticks": ""
             }
            },
            "type": "scattermapbox"
           }
          ],
          "scatterpolar": [
           {
            "marker": {
             "colorbar": {
              "outlinewidth": 0,
              "ticks": ""
             }
            },
            "type": "scatterpolar"
           }
          ],
          "scatterpolargl": [
           {
            "marker": {
             "colorbar": {
              "outlinewidth": 0,
              "ticks": ""
             }
            },
            "type": "scatterpolargl"
           }
          ],
          "scatterternary": [
           {
            "marker": {
             "colorbar": {
              "outlinewidth": 0,
              "ticks": ""
             }
            },
            "type": "scatterternary"
           }
          ],
          "surface": [
           {
            "colorbar": {
             "outlinewidth": 0,
             "ticks": ""
            },
            "colorscale": [
             [
              0,
              "#0d0887"
             ],
             [
              0.1111111111111111,
              "#46039f"
             ],
             [
              0.2222222222222222,
              "#7201a8"
             ],
             [
              0.3333333333333333,
              "#9c179e"
             ],
             [
              0.4444444444444444,
              "#bd3786"
             ],
             [
              0.5555555555555556,
              "#d8576b"
             ],
             [
              0.6666666666666666,
              "#ed7953"
             ],
             [
              0.7777777777777778,
              "#fb9f3a"
             ],
             [
              0.8888888888888888,
              "#fdca26"
             ],
             [
              1,
              "#f0f921"
             ]
            ],
            "type": "surface"
           }
          ],
          "table": [
           {
            "cells": {
             "fill": {
              "color": "#EBF0F8"
             },
             "line": {
              "color": "white"
             }
            },
            "header": {
             "fill": {
              "color": "#C8D4E3"
             },
             "line": {
              "color": "white"
             }
            },
            "type": "table"
           }
          ]
         },
         "layout": {
          "annotationdefaults": {
           "arrowcolor": "#2a3f5f",
           "arrowhead": 0,
           "arrowwidth": 1
          },
          "autotypenumbers": "strict",
          "coloraxis": {
           "colorbar": {
            "outlinewidth": 0,
            "ticks": ""
           }
          },
          "colorscale": {
           "diverging": [
            [
             0,
             "#8e0152"
            ],
            [
             0.1,
             "#c51b7d"
            ],
            [
             0.2,
             "#de77ae"
            ],
            [
             0.3,
             "#f1b6da"
            ],
            [
             0.4,
             "#fde0ef"
            ],
            [
             0.5,
             "#f7f7f7"
            ],
            [
             0.6,
             "#e6f5d0"
            ],
            [
             0.7,
             "#b8e186"
            ],
            [
             0.8,
             "#7fbc41"
            ],
            [
             0.9,
             "#4d9221"
            ],
            [
             1,
             "#276419"
            ]
           ],
           "sequential": [
            [
             0,
             "#0d0887"
            ],
            [
             0.1111111111111111,
             "#46039f"
            ],
            [
             0.2222222222222222,
             "#7201a8"
            ],
            [
             0.3333333333333333,
             "#9c179e"
            ],
            [
             0.4444444444444444,
             "#bd3786"
            ],
            [
             0.5555555555555556,
             "#d8576b"
            ],
            [
             0.6666666666666666,
             "#ed7953"
            ],
            [
             0.7777777777777778,
             "#fb9f3a"
            ],
            [
             0.8888888888888888,
             "#fdca26"
            ],
            [
             1,
             "#f0f921"
            ]
           ],
           "sequentialminus": [
            [
             0,
             "#0d0887"
            ],
            [
             0.1111111111111111,
             "#46039f"
            ],
            [
             0.2222222222222222,
             "#7201a8"
            ],
            [
             0.3333333333333333,
             "#9c179e"
            ],
            [
             0.4444444444444444,
             "#bd3786"
            ],
            [
             0.5555555555555556,
             "#d8576b"
            ],
            [
             0.6666666666666666,
             "#ed7953"
            ],
            [
             0.7777777777777778,
             "#fb9f3a"
            ],
            [
             0.8888888888888888,
             "#fdca26"
            ],
            [
             1,
             "#f0f921"
            ]
           ]
          },
          "colorway": [
           "#636efa",
           "#EF553B",
           "#00cc96",
           "#ab63fa",
           "#FFA15A",
           "#19d3f3",
           "#FF6692",
           "#B6E880",
           "#FF97FF",
           "#FECB52"
          ],
          "font": {
           "color": "#2a3f5f"
          },
          "geo": {
           "bgcolor": "white",
           "lakecolor": "white",
           "landcolor": "#E5ECF6",
           "showlakes": true,
           "showland": true,
           "subunitcolor": "white"
          },
          "hoverlabel": {
           "align": "left"
          },
          "hovermode": "closest",
          "mapbox": {
           "style": "light"
          },
          "paper_bgcolor": "white",
          "plot_bgcolor": "#E5ECF6",
          "polar": {
           "angularaxis": {
            "gridcolor": "white",
            "linecolor": "white",
            "ticks": ""
           },
           "bgcolor": "#E5ECF6",
           "radialaxis": {
            "gridcolor": "white",
            "linecolor": "white",
            "ticks": ""
           }
          },
          "scene": {
           "xaxis": {
            "backgroundcolor": "#E5ECF6",
            "gridcolor": "white",
            "gridwidth": 2,
            "linecolor": "white",
            "showbackground": true,
            "ticks": "",
            "zerolinecolor": "white"
           },
           "yaxis": {
            "backgroundcolor": "#E5ECF6",
            "gridcolor": "white",
            "gridwidth": 2,
            "linecolor": "white",
            "showbackground": true,
            "ticks": "",
            "zerolinecolor": "white"
           },
           "zaxis": {
            "backgroundcolor": "#E5ECF6",
            "gridcolor": "white",
            "gridwidth": 2,
            "linecolor": "white",
            "showbackground": true,
            "ticks": "",
            "zerolinecolor": "white"
           }
          },
          "shapedefaults": {
           "line": {
            "color": "#2a3f5f"
           }
          },
          "ternary": {
           "aaxis": {
            "gridcolor": "white",
            "linecolor": "white",
            "ticks": ""
           },
           "baxis": {
            "gridcolor": "white",
            "linecolor": "white",
            "ticks": ""
           },
           "bgcolor": "#E5ECF6",
           "caxis": {
            "gridcolor": "white",
            "linecolor": "white",
            "ticks": ""
           }
          },
          "title": {
           "x": 0.05
          },
          "xaxis": {
           "automargin": true,
           "gridcolor": "white",
           "linecolor": "white",
           "ticks": "",
           "title": {
            "standoff": 15
           },
           "zerolinecolor": "white",
           "zerolinewidth": 2
          },
          "yaxis": {
           "automargin": true,
           "gridcolor": "white",
           "linecolor": "white",
           "ticks": "",
           "title": {
            "standoff": 15
           },
           "zerolinecolor": "white",
           "zerolinewidth": 2
          }
         }
        },
        "xaxis": {
         "anchor": "y",
         "domain": [
          0,
          1
         ],
         "title": {
          "text": "Marital_Status"
         }
        },
        "yaxis": {
         "anchor": "x",
         "domain": [
          0,
          1
         ],
         "title": {
          "text": "Count of Customers"
         }
        }
       }
      }
     },
     "metadata": {},
     "output_type": "display_data"
    }
   ],
   "source": [
    "df_plot = df_[['Marital_Status', 'Cluster', 'ID']].groupby(['Marital_Status', 'Cluster']).count()\n",
    "df_plot.reset_index(inplace=True)\n",
    "df_plot.rename(columns={\"ID\":\"Count of Customers\"}, inplace=True)\n",
    "\n",
    "\n",
    "fig = px.bar(df_plot, x=\"Marital_Status\", y=\"Count of Customers\",\n",
    "             color='Cluster', barmode='group',\n",
    "             height=400)\n",
    "fig.show()"
   ]
  },
  {
   "cell_type": "markdown",
   "metadata": {},
   "source": [
    "Les clients appartenant aux clusters 1 et 3 ont des revenus nettement plus élevés que ceux appartenant aux clusters 2 et 4. Les dépenses du groupe 1 sont les plus élevées, tandis que celles du groupe 4 sont les plus faibles."
   ]
  },
  {
   "cell_type": "code",
   "execution_count": 366,
   "metadata": {},
   "outputs": [
    {
     "data": {
      "application/vnd.plotly.v1+json": {
       "config": {
        "plotlyServerURL": "https://plot.ly"
       },
       "data": [
        {
         "alignmentgroup": "True",
         "hovertemplate": "Cluster=Cluster 1<br>Education=%{x}<br>Count of Customers=%{y}<extra></extra>",
         "legendgroup": "Cluster 1",
         "marker": {
          "color": "#636efa",
          "pattern": {
           "shape": ""
          }
         },
         "name": "Cluster 1",
         "offsetgroup": "Cluster 1",
         "orientation": "v",
         "showlegend": true,
         "textposition": "auto",
         "type": "bar",
         "x": [
          "Basic",
          "Graduation",
          "Master",
          "PhD"
         ],
         "xaxis": "x",
         "y": [
          53,
          510,
          280,
          183
         ],
         "yaxis": "y"
        },
        {
         "alignmentgroup": "True",
         "hovertemplate": "Cluster=Cluster 2<br>Education=%{x}<br>Count of Customers=%{y}<extra></extra>",
         "legendgroup": "Cluster 2",
         "marker": {
          "color": "#EF553B",
          "pattern": {
           "shape": ""
          }
         },
         "name": "Cluster 2",
         "offsetgroup": "Cluster 2",
         "orientation": "v",
         "showlegend": true,
         "textposition": "auto",
         "type": "bar",
         "x": [
          "Basic",
          "Graduation",
          "Master",
          "PhD"
         ],
         "xaxis": "x",
         "y": [
          1,
          179,
          98,
          85
         ],
         "yaxis": "y"
        },
        {
         "alignmentgroup": "True",
         "hovertemplate": "Cluster=Cluster 3<br>Education=%{x}<br>Count of Customers=%{y}<extra></extra>",
         "legendgroup": "Cluster 3",
         "marker": {
          "color": "#00cc96",
          "pattern": {
           "shape": ""
          }
         },
         "name": "Cluster 3",
         "offsetgroup": "Cluster 3",
         "orientation": "v",
         "showlegend": true,
         "textposition": "auto",
         "type": "bar",
         "x": [
          "Graduation",
          "Master",
          "PhD"
         ],
         "xaxis": "x",
         "y": [
          346,
          151,
          165
         ],
         "yaxis": "y"
        },
        {
         "alignmentgroup": "True",
         "hovertemplate": "Cluster=Cluster 4<br>Education=%{x}<br>Count of Customers=%{y}<extra></extra>",
         "legendgroup": "Cluster 4",
         "marker": {
          "color": "#ab63fa",
          "pattern": {
           "shape": ""
          }
         },
         "name": "Cluster 4",
         "offsetgroup": "Cluster 4",
         "orientation": "v",
         "showlegend": true,
         "textposition": "auto",
         "type": "bar",
         "x": [
          "Graduation",
          "Master",
          "PhD"
         ],
         "xaxis": "x",
         "y": [
          91,
          42,
          52
         ],
         "yaxis": "y"
        }
       ],
       "layout": {
        "barmode": "group",
        "height": 400,
        "legend": {
         "title": {
          "text": "Cluster"
         },
         "tracegroupgap": 0
        },
        "margin": {
         "t": 60
        },
        "template": {
         "data": {
          "bar": [
           {
            "error_x": {
             "color": "#2a3f5f"
            },
            "error_y": {
             "color": "#2a3f5f"
            },
            "marker": {
             "line": {
              "color": "#E5ECF6",
              "width": 0.5
             },
             "pattern": {
              "fillmode": "overlay",
              "size": 10,
              "solidity": 0.2
             }
            },
            "type": "bar"
           }
          ],
          "barpolar": [
           {
            "marker": {
             "line": {
              "color": "#E5ECF6",
              "width": 0.5
             },
             "pattern": {
              "fillmode": "overlay",
              "size": 10,
              "solidity": 0.2
             }
            },
            "type": "barpolar"
           }
          ],
          "carpet": [
           {
            "aaxis": {
             "endlinecolor": "#2a3f5f",
             "gridcolor": "white",
             "linecolor": "white",
             "minorgridcolor": "white",
             "startlinecolor": "#2a3f5f"
            },
            "baxis": {
             "endlinecolor": "#2a3f5f",
             "gridcolor": "white",
             "linecolor": "white",
             "minorgridcolor": "white",
             "startlinecolor": "#2a3f5f"
            },
            "type": "carpet"
           }
          ],
          "choropleth": [
           {
            "colorbar": {
             "outlinewidth": 0,
             "ticks": ""
            },
            "type": "choropleth"
           }
          ],
          "contour": [
           {
            "colorbar": {
             "outlinewidth": 0,
             "ticks": ""
            },
            "colorscale": [
             [
              0,
              "#0d0887"
             ],
             [
              0.1111111111111111,
              "#46039f"
             ],
             [
              0.2222222222222222,
              "#7201a8"
             ],
             [
              0.3333333333333333,
              "#9c179e"
             ],
             [
              0.4444444444444444,
              "#bd3786"
             ],
             [
              0.5555555555555556,
              "#d8576b"
             ],
             [
              0.6666666666666666,
              "#ed7953"
             ],
             [
              0.7777777777777778,
              "#fb9f3a"
             ],
             [
              0.8888888888888888,
              "#fdca26"
             ],
             [
              1,
              "#f0f921"
             ]
            ],
            "type": "contour"
           }
          ],
          "contourcarpet": [
           {
            "colorbar": {
             "outlinewidth": 0,
             "ticks": ""
            },
            "type": "contourcarpet"
           }
          ],
          "heatmap": [
           {
            "colorbar": {
             "outlinewidth": 0,
             "ticks": ""
            },
            "colorscale": [
             [
              0,
              "#0d0887"
             ],
             [
              0.1111111111111111,
              "#46039f"
             ],
             [
              0.2222222222222222,
              "#7201a8"
             ],
             [
              0.3333333333333333,
              "#9c179e"
             ],
             [
              0.4444444444444444,
              "#bd3786"
             ],
             [
              0.5555555555555556,
              "#d8576b"
             ],
             [
              0.6666666666666666,
              "#ed7953"
             ],
             [
              0.7777777777777778,
              "#fb9f3a"
             ],
             [
              0.8888888888888888,
              "#fdca26"
             ],
             [
              1,
              "#f0f921"
             ]
            ],
            "type": "heatmap"
           }
          ],
          "heatmapgl": [
           {
            "colorbar": {
             "outlinewidth": 0,
             "ticks": ""
            },
            "colorscale": [
             [
              0,
              "#0d0887"
             ],
             [
              0.1111111111111111,
              "#46039f"
             ],
             [
              0.2222222222222222,
              "#7201a8"
             ],
             [
              0.3333333333333333,
              "#9c179e"
             ],
             [
              0.4444444444444444,
              "#bd3786"
             ],
             [
              0.5555555555555556,
              "#d8576b"
             ],
             [
              0.6666666666666666,
              "#ed7953"
             ],
             [
              0.7777777777777778,
              "#fb9f3a"
             ],
             [
              0.8888888888888888,
              "#fdca26"
             ],
             [
              1,
              "#f0f921"
             ]
            ],
            "type": "heatmapgl"
           }
          ],
          "histogram": [
           {
            "marker": {
             "pattern": {
              "fillmode": "overlay",
              "size": 10,
              "solidity": 0.2
             }
            },
            "type": "histogram"
           }
          ],
          "histogram2d": [
           {
            "colorbar": {
             "outlinewidth": 0,
             "ticks": ""
            },
            "colorscale": [
             [
              0,
              "#0d0887"
             ],
             [
              0.1111111111111111,
              "#46039f"
             ],
             [
              0.2222222222222222,
              "#7201a8"
             ],
             [
              0.3333333333333333,
              "#9c179e"
             ],
             [
              0.4444444444444444,
              "#bd3786"
             ],
             [
              0.5555555555555556,
              "#d8576b"
             ],
             [
              0.6666666666666666,
              "#ed7953"
             ],
             [
              0.7777777777777778,
              "#fb9f3a"
             ],
             [
              0.8888888888888888,
              "#fdca26"
             ],
             [
              1,
              "#f0f921"
             ]
            ],
            "type": "histogram2d"
           }
          ],
          "histogram2dcontour": [
           {
            "colorbar": {
             "outlinewidth": 0,
             "ticks": ""
            },
            "colorscale": [
             [
              0,
              "#0d0887"
             ],
             [
              0.1111111111111111,
              "#46039f"
             ],
             [
              0.2222222222222222,
              "#7201a8"
             ],
             [
              0.3333333333333333,
              "#9c179e"
             ],
             [
              0.4444444444444444,
              "#bd3786"
             ],
             [
              0.5555555555555556,
              "#d8576b"
             ],
             [
              0.6666666666666666,
              "#ed7953"
             ],
             [
              0.7777777777777778,
              "#fb9f3a"
             ],
             [
              0.8888888888888888,
              "#fdca26"
             ],
             [
              1,
              "#f0f921"
             ]
            ],
            "type": "histogram2dcontour"
           }
          ],
          "mesh3d": [
           {
            "colorbar": {
             "outlinewidth": 0,
             "ticks": ""
            },
            "type": "mesh3d"
           }
          ],
          "parcoords": [
           {
            "line": {
             "colorbar": {
              "outlinewidth": 0,
              "ticks": ""
             }
            },
            "type": "parcoords"
           }
          ],
          "pie": [
           {
            "automargin": true,
            "type": "pie"
           }
          ],
          "scatter": [
           {
            "fillpattern": {
             "fillmode": "overlay",
             "size": 10,
             "solidity": 0.2
            },
            "type": "scatter"
           }
          ],
          "scatter3d": [
           {
            "line": {
             "colorbar": {
              "outlinewidth": 0,
              "ticks": ""
             }
            },
            "marker": {
             "colorbar": {
              "outlinewidth": 0,
              "ticks": ""
             }
            },
            "type": "scatter3d"
           }
          ],
          "scattercarpet": [
           {
            "marker": {
             "colorbar": {
              "outlinewidth": 0,
              "ticks": ""
             }
            },
            "type": "scattercarpet"
           }
          ],
          "scattergeo": [
           {
            "marker": {
             "colorbar": {
              "outlinewidth": 0,
              "ticks": ""
             }
            },
            "type": "scattergeo"
           }
          ],
          "scattergl": [
           {
            "marker": {
             "colorbar": {
              "outlinewidth": 0,
              "ticks": ""
             }
            },
            "type": "scattergl"
           }
          ],
          "scattermapbox": [
           {
            "marker": {
             "colorbar": {
              "outlinewidth": 0,
              "ticks": ""
             }
            },
            "type": "scattermapbox"
           }
          ],
          "scatterpolar": [
           {
            "marker": {
             "colorbar": {
              "outlinewidth": 0,
              "ticks": ""
             }
            },
            "type": "scatterpolar"
           }
          ],
          "scatterpolargl": [
           {
            "marker": {
             "colorbar": {
              "outlinewidth": 0,
              "ticks": ""
             }
            },
            "type": "scatterpolargl"
           }
          ],
          "scatterternary": [
           {
            "marker": {
             "colorbar": {
              "outlinewidth": 0,
              "ticks": ""
             }
            },
            "type": "scatterternary"
           }
          ],
          "surface": [
           {
            "colorbar": {
             "outlinewidth": 0,
             "ticks": ""
            },
            "colorscale": [
             [
              0,
              "#0d0887"
             ],
             [
              0.1111111111111111,
              "#46039f"
             ],
             [
              0.2222222222222222,
              "#7201a8"
             ],
             [
              0.3333333333333333,
              "#9c179e"
             ],
             [
              0.4444444444444444,
              "#bd3786"
             ],
             [
              0.5555555555555556,
              "#d8576b"
             ],
             [
              0.6666666666666666,
              "#ed7953"
             ],
             [
              0.7777777777777778,
              "#fb9f3a"
             ],
             [
              0.8888888888888888,
              "#fdca26"
             ],
             [
              1,
              "#f0f921"
             ]
            ],
            "type": "surface"
           }
          ],
          "table": [
           {
            "cells": {
             "fill": {
              "color": "#EBF0F8"
             },
             "line": {
              "color": "white"
             }
            },
            "header": {
             "fill": {
              "color": "#C8D4E3"
             },
             "line": {
              "color": "white"
             }
            },
            "type": "table"
           }
          ]
         },
         "layout": {
          "annotationdefaults": {
           "arrowcolor": "#2a3f5f",
           "arrowhead": 0,
           "arrowwidth": 1
          },
          "autotypenumbers": "strict",
          "coloraxis": {
           "colorbar": {
            "outlinewidth": 0,
            "ticks": ""
           }
          },
          "colorscale": {
           "diverging": [
            [
             0,
             "#8e0152"
            ],
            [
             0.1,
             "#c51b7d"
            ],
            [
             0.2,
             "#de77ae"
            ],
            [
             0.3,
             "#f1b6da"
            ],
            [
             0.4,
             "#fde0ef"
            ],
            [
             0.5,
             "#f7f7f7"
            ],
            [
             0.6,
             "#e6f5d0"
            ],
            [
             0.7,
             "#b8e186"
            ],
            [
             0.8,
             "#7fbc41"
            ],
            [
             0.9,
             "#4d9221"
            ],
            [
             1,
             "#276419"
            ]
           ],
           "sequential": [
            [
             0,
             "#0d0887"
            ],
            [
             0.1111111111111111,
             "#46039f"
            ],
            [
             0.2222222222222222,
             "#7201a8"
            ],
            [
             0.3333333333333333,
             "#9c179e"
            ],
            [
             0.4444444444444444,
             "#bd3786"
            ],
            [
             0.5555555555555556,
             "#d8576b"
            ],
            [
             0.6666666666666666,
             "#ed7953"
            ],
            [
             0.7777777777777778,
             "#fb9f3a"
            ],
            [
             0.8888888888888888,
             "#fdca26"
            ],
            [
             1,
             "#f0f921"
            ]
           ],
           "sequentialminus": [
            [
             0,
             "#0d0887"
            ],
            [
             0.1111111111111111,
             "#46039f"
            ],
            [
             0.2222222222222222,
             "#7201a8"
            ],
            [
             0.3333333333333333,
             "#9c179e"
            ],
            [
             0.4444444444444444,
             "#bd3786"
            ],
            [
             0.5555555555555556,
             "#d8576b"
            ],
            [
             0.6666666666666666,
             "#ed7953"
            ],
            [
             0.7777777777777778,
             "#fb9f3a"
            ],
            [
             0.8888888888888888,
             "#fdca26"
            ],
            [
             1,
             "#f0f921"
            ]
           ]
          },
          "colorway": [
           "#636efa",
           "#EF553B",
           "#00cc96",
           "#ab63fa",
           "#FFA15A",
           "#19d3f3",
           "#FF6692",
           "#B6E880",
           "#FF97FF",
           "#FECB52"
          ],
          "font": {
           "color": "#2a3f5f"
          },
          "geo": {
           "bgcolor": "white",
           "lakecolor": "white",
           "landcolor": "#E5ECF6",
           "showlakes": true,
           "showland": true,
           "subunitcolor": "white"
          },
          "hoverlabel": {
           "align": "left"
          },
          "hovermode": "closest",
          "mapbox": {
           "style": "light"
          },
          "paper_bgcolor": "white",
          "plot_bgcolor": "#E5ECF6",
          "polar": {
           "angularaxis": {
            "gridcolor": "white",
            "linecolor": "white",
            "ticks": ""
           },
           "bgcolor": "#E5ECF6",
           "radialaxis": {
            "gridcolor": "white",
            "linecolor": "white",
            "ticks": ""
           }
          },
          "scene": {
           "xaxis": {
            "backgroundcolor": "#E5ECF6",
            "gridcolor": "white",
            "gridwidth": 2,
            "linecolor": "white",
            "showbackground": true,
            "ticks": "",
            "zerolinecolor": "white"
           },
           "yaxis": {
            "backgroundcolor": "#E5ECF6",
            "gridcolor": "white",
            "gridwidth": 2,
            "linecolor": "white",
            "showbackground": true,
            "ticks": "",
            "zerolinecolor": "white"
           },
           "zaxis": {
            "backgroundcolor": "#E5ECF6",
            "gridcolor": "white",
            "gridwidth": 2,
            "linecolor": "white",
            "showbackground": true,
            "ticks": "",
            "zerolinecolor": "white"
           }
          },
          "shapedefaults": {
           "line": {
            "color": "#2a3f5f"
           }
          },
          "ternary": {
           "aaxis": {
            "gridcolor": "white",
            "linecolor": "white",
            "ticks": ""
           },
           "baxis": {
            "gridcolor": "white",
            "linecolor": "white",
            "ticks": ""
           },
           "bgcolor": "#E5ECF6",
           "caxis": {
            "gridcolor": "white",
            "linecolor": "white",
            "ticks": ""
           }
          },
          "title": {
           "x": 0.05
          },
          "xaxis": {
           "automargin": true,
           "gridcolor": "white",
           "linecolor": "white",
           "ticks": "",
           "title": {
            "standoff": 15
           },
           "zerolinecolor": "white",
           "zerolinewidth": 2
          },
          "yaxis": {
           "automargin": true,
           "gridcolor": "white",
           "linecolor": "white",
           "ticks": "",
           "title": {
            "standoff": 15
           },
           "zerolinecolor": "white",
           "zerolinewidth": 2
          }
         }
        },
        "title": {
         "text": "Education"
        },
        "xaxis": {
         "anchor": "y",
         "domain": [
          0,
          1
         ],
         "title": {
          "text": "Education"
         }
        },
        "yaxis": {
         "anchor": "x",
         "domain": [
          0,
          1
         ],
         "title": {
          "text": "Count of Customers"
         }
        }
       }
      }
     },
     "metadata": {},
     "output_type": "display_data"
    }
   ],
   "source": [
    "df_plot = df_[['Education', 'Cluster', 'ID']].groupby(['Education', 'Cluster']).count()\n",
    "df_plot.reset_index(inplace=True)\n",
    "df_plot.rename(columns={\"ID\":\"Count of Customers\"}, inplace=True)\n",
    "\n",
    "\n",
    "fig = px.bar(df_plot, x=\"Education\", y=\"Count of Customers\",\n",
    "             color='Cluster', barmode='group',\n",
    "             height=400)\n",
    "fig.update_layout(title=\"Education\")\n",
    "fig.show()"
   ]
  },
  {
   "cell_type": "markdown",
   "metadata": {},
   "source": [
    "Aucun client des clusters 2, 3 et 4 ont plus que l'Éducation basique. C'est logique puisque ce sont les clients qui dépensent beaucoup plus, ils appartiennent à des classes sociales plus élevés."
   ]
  }
 ],
 "metadata": {
  "kernelspec": {
   "display_name": "Python 3",
   "language": "python",
   "name": "python3"
  },
  "language_info": {
   "codemirror_mode": {
    "name": "ipython",
    "version": 3
   },
   "file_extension": ".py",
   "mimetype": "text/x-python",
   "name": "python",
   "nbconvert_exporter": "python",
   "pygments_lexer": "ipython3",
   "version": "3.9.6"
  }
 },
 "nbformat": 4,
 "nbformat_minor": 2
}
