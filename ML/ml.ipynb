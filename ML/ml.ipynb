{
 "cells": [
  {
   "cell_type": "code",
   "execution_count": 520,
   "metadata": {},
   "outputs": [
    {
     "data": {
      "text/html": [
       "<div>\n",
       "<style scoped>\n",
       "    .dataframe tbody tr th:only-of-type {\n",
       "        vertical-align: middle;\n",
       "    }\n",
       "\n",
       "    .dataframe tbody tr th {\n",
       "        vertical-align: top;\n",
       "    }\n",
       "\n",
       "    .dataframe thead th {\n",
       "        text-align: right;\n",
       "    }\n",
       "</style>\n",
       "<table border=\"1\" class=\"dataframe\">\n",
       "  <thead>\n",
       "    <tr style=\"text-align: right;\">\n",
       "      <th></th>\n",
       "      <th>Unnamed: 0</th>\n",
       "      <th>ID</th>\n",
       "      <th>Education</th>\n",
       "      <th>Marital_Status</th>\n",
       "      <th>Income</th>\n",
       "      <th>Kidhome</th>\n",
       "      <th>Teenhome</th>\n",
       "      <th>Dt_Customer</th>\n",
       "      <th>Recency</th>\n",
       "      <th>MntWines</th>\n",
       "      <th>MntFruits</th>\n",
       "      <th>MntMeatProducts</th>\n",
       "      <th>MntFishProducts</th>\n",
       "      <th>MntSweetProducts</th>\n",
       "      <th>MntGoldProds</th>\n",
       "      <th>NumDealsPurchases</th>\n",
       "      <th>NumWebPurchases</th>\n",
       "      <th>NumCatalogPurchases</th>\n",
       "      <th>NumStorePurchases</th>\n",
       "      <th>NumWebVisitsMonth</th>\n",
       "      <th>AcceptedCmp3</th>\n",
       "      <th>AcceptedCmp4</th>\n",
       "      <th>AcceptedCmp5</th>\n",
       "      <th>AcceptedCmp1</th>\n",
       "      <th>AcceptedCmp2</th>\n",
       "      <th>Complain</th>\n",
       "      <th>Response</th>\n",
       "      <th>Age</th>\n",
       "    </tr>\n",
       "  </thead>\n",
       "  <tbody>\n",
       "    <tr>\n",
       "      <th>0</th>\n",
       "      <td>0</td>\n",
       "      <td>5524</td>\n",
       "      <td>Graduation</td>\n",
       "      <td>Single</td>\n",
       "      <td>58138.0</td>\n",
       "      <td>0</td>\n",
       "      <td>0</td>\n",
       "      <td>2012-09-04</td>\n",
       "      <td>58</td>\n",
       "      <td>635</td>\n",
       "      <td>88</td>\n",
       "      <td>546</td>\n",
       "      <td>172</td>\n",
       "      <td>88</td>\n",
       "      <td>88</td>\n",
       "      <td>3</td>\n",
       "      <td>8</td>\n",
       "      <td>10</td>\n",
       "      <td>4</td>\n",
       "      <td>7</td>\n",
       "      <td>0</td>\n",
       "      <td>0</td>\n",
       "      <td>0</td>\n",
       "      <td>0</td>\n",
       "      <td>0</td>\n",
       "      <td>0</td>\n",
       "      <td>1</td>\n",
       "      <td>67</td>\n",
       "    </tr>\n",
       "    <tr>\n",
       "      <th>1</th>\n",
       "      <td>1</td>\n",
       "      <td>2174</td>\n",
       "      <td>Graduation</td>\n",
       "      <td>Single</td>\n",
       "      <td>46344.0</td>\n",
       "      <td>1</td>\n",
       "      <td>1</td>\n",
       "      <td>2014-03-08</td>\n",
       "      <td>38</td>\n",
       "      <td>11</td>\n",
       "      <td>1</td>\n",
       "      <td>6</td>\n",
       "      <td>2</td>\n",
       "      <td>1</td>\n",
       "      <td>6</td>\n",
       "      <td>2</td>\n",
       "      <td>1</td>\n",
       "      <td>1</td>\n",
       "      <td>2</td>\n",
       "      <td>5</td>\n",
       "      <td>0</td>\n",
       "      <td>0</td>\n",
       "      <td>0</td>\n",
       "      <td>0</td>\n",
       "      <td>0</td>\n",
       "      <td>0</td>\n",
       "      <td>0</td>\n",
       "      <td>70</td>\n",
       "    </tr>\n",
       "    <tr>\n",
       "      <th>2</th>\n",
       "      <td>2</td>\n",
       "      <td>4141</td>\n",
       "      <td>Graduation</td>\n",
       "      <td>Together</td>\n",
       "      <td>71613.0</td>\n",
       "      <td>0</td>\n",
       "      <td>0</td>\n",
       "      <td>2013-08-21</td>\n",
       "      <td>26</td>\n",
       "      <td>426</td>\n",
       "      <td>49</td>\n",
       "      <td>127</td>\n",
       "      <td>111</td>\n",
       "      <td>21</td>\n",
       "      <td>42</td>\n",
       "      <td>1</td>\n",
       "      <td>8</td>\n",
       "      <td>2</td>\n",
       "      <td>10</td>\n",
       "      <td>4</td>\n",
       "      <td>0</td>\n",
       "      <td>0</td>\n",
       "      <td>0</td>\n",
       "      <td>0</td>\n",
       "      <td>0</td>\n",
       "      <td>0</td>\n",
       "      <td>0</td>\n",
       "      <td>59</td>\n",
       "    </tr>\n",
       "    <tr>\n",
       "      <th>3</th>\n",
       "      <td>3</td>\n",
       "      <td>6182</td>\n",
       "      <td>Graduation</td>\n",
       "      <td>Together</td>\n",
       "      <td>26646.0</td>\n",
       "      <td>1</td>\n",
       "      <td>0</td>\n",
       "      <td>2014-02-10</td>\n",
       "      <td>26</td>\n",
       "      <td>11</td>\n",
       "      <td>4</td>\n",
       "      <td>20</td>\n",
       "      <td>10</td>\n",
       "      <td>3</td>\n",
       "      <td>5</td>\n",
       "      <td>2</td>\n",
       "      <td>2</td>\n",
       "      <td>0</td>\n",
       "      <td>4</td>\n",
       "      <td>6</td>\n",
       "      <td>0</td>\n",
       "      <td>0</td>\n",
       "      <td>0</td>\n",
       "      <td>0</td>\n",
       "      <td>0</td>\n",
       "      <td>0</td>\n",
       "      <td>0</td>\n",
       "      <td>40</td>\n",
       "    </tr>\n",
       "    <tr>\n",
       "      <th>4</th>\n",
       "      <td>4</td>\n",
       "      <td>5324</td>\n",
       "      <td>PhD</td>\n",
       "      <td>Married</td>\n",
       "      <td>58293.0</td>\n",
       "      <td>1</td>\n",
       "      <td>0</td>\n",
       "      <td>2014-01-19</td>\n",
       "      <td>94</td>\n",
       "      <td>173</td>\n",
       "      <td>43</td>\n",
       "      <td>118</td>\n",
       "      <td>46</td>\n",
       "      <td>27</td>\n",
       "      <td>15</td>\n",
       "      <td>5</td>\n",
       "      <td>5</td>\n",
       "      <td>3</td>\n",
       "      <td>6</td>\n",
       "      <td>5</td>\n",
       "      <td>0</td>\n",
       "      <td>0</td>\n",
       "      <td>0</td>\n",
       "      <td>0</td>\n",
       "      <td>0</td>\n",
       "      <td>0</td>\n",
       "      <td>0</td>\n",
       "      <td>43</td>\n",
       "    </tr>\n",
       "  </tbody>\n",
       "</table>\n",
       "</div>"
      ],
      "text/plain": [
       "   Unnamed: 0    ID   Education Marital_Status   Income  Kidhome  Teenhome  \\\n",
       "0           0  5524  Graduation         Single  58138.0        0         0   \n",
       "1           1  2174  Graduation         Single  46344.0        1         1   \n",
       "2           2  4141  Graduation       Together  71613.0        0         0   \n",
       "3           3  6182  Graduation       Together  26646.0        1         0   \n",
       "4           4  5324         PhD        Married  58293.0        1         0   \n",
       "\n",
       "  Dt_Customer  Recency  MntWines  MntFruits  MntMeatProducts  MntFishProducts  \\\n",
       "0  2012-09-04       58       635         88              546              172   \n",
       "1  2014-03-08       38        11          1                6                2   \n",
       "2  2013-08-21       26       426         49              127              111   \n",
       "3  2014-02-10       26        11          4               20               10   \n",
       "4  2014-01-19       94       173         43              118               46   \n",
       "\n",
       "   MntSweetProducts  MntGoldProds  NumDealsPurchases  NumWebPurchases  \\\n",
       "0                88            88                  3                8   \n",
       "1                 1             6                  2                1   \n",
       "2                21            42                  1                8   \n",
       "3                 3             5                  2                2   \n",
       "4                27            15                  5                5   \n",
       "\n",
       "   NumCatalogPurchases  NumStorePurchases  NumWebVisitsMonth  AcceptedCmp3  \\\n",
       "0                   10                  4                  7             0   \n",
       "1                    1                  2                  5             0   \n",
       "2                    2                 10                  4             0   \n",
       "3                    0                  4                  6             0   \n",
       "4                    3                  6                  5             0   \n",
       "\n",
       "   AcceptedCmp4  AcceptedCmp5  AcceptedCmp1  AcceptedCmp2  Complain  Response  \\\n",
       "0             0             0             0             0         0         1   \n",
       "1             0             0             0             0         0         0   \n",
       "2             0             0             0             0         0         0   \n",
       "3             0             0             0             0         0         0   \n",
       "4             0             0             0             0         0         0   \n",
       "\n",
       "   Age  \n",
       "0   67  \n",
       "1   70  \n",
       "2   59  \n",
       "3   40  \n",
       "4   43  "
      ]
     },
     "execution_count": 520,
     "metadata": {},
     "output_type": "execute_result"
    }
   ],
   "source": [
    "import pandas as pd\n",
    "import numpy as np\n",
    "import datetime as dt\n",
    "from math import floor\n",
    "\n",
    "import warnings\n",
    "warnings.filterwarnings('ignore')\n",
    "pd.set_option('display.max_columns', None)\n",
    "\n",
    "import plotly.express as px\n",
    "import matplotlib.pyplot as plt\n",
    "from plotly.subplots import make_subplots\n",
    "import plotly.graph_objects as go\n",
    "import seaborn as sns\n",
    "\n",
    "from sklearn.preprocessing import LabelEncoder\n",
    "from sklearn.preprocessing import StandardScaler\n",
    "from sklearn.preprocessing import OneHotEncoder\n",
    "\n",
    "from yellowbrick.cluster import KElbowVisualizer\n",
    "from sklearn.cluster import KMeans\n",
    "from sklearn.metrics import silhouette_score\n",
    "\n",
    "df = pd.read_csv('/Users/yoannabriel/Documents/GitHub/Rush5PDG4/DataOut.csv', sep=\",\")\n",
    "df_copy = df.copy()\n",
    "df.head()"
   ]
  },
  {
   "cell_type": "code",
   "execution_count": 521,
   "metadata": {},
   "outputs": [],
   "source": [
    "#feature engineering \n",
    "df = df.set_index('ID')"
   ]
  },
  {
   "cell_type": "code",
   "execution_count": 522,
   "metadata": {},
   "outputs": [],
   "source": [
    "df_copy['Age'] = df['Age']"
   ]
  },
  {
   "cell_type": "code",
   "execution_count": 523,
   "metadata": {},
   "outputs": [
    {
     "name": "stdout",
     "output_type": "stream",
     "text": [
      "Columns with string datatype are:\n",
      "Education\n",
      "Marital_Status\n",
      "Dt_Customer\n"
     ]
    }
   ],
   "source": [
    "print(\"Columns with string datatype are:\")\n",
    "for col in df.columns:\n",
    "    if df[col].dtypes == object:\n",
    "        print(col)"
   ]
  },
  {
   "cell_type": "code",
   "execution_count": 524,
   "metadata": {},
   "outputs": [],
   "source": [
    "df_Edu = pd.DataFrame(df['Education'].value_counts()).reset_index()\n",
    "df_Edu.columns = ['Education', 'Count']"
   ]
  },
  {
   "cell_type": "code",
   "execution_count": 525,
   "metadata": {},
   "outputs": [],
   "source": [
    "df['Education'] = np.where(df['Education'] == '2n Cycle', 'Master', df['Education'])"
   ]
  },
  {
   "cell_type": "code",
   "execution_count": 526,
   "metadata": {},
   "outputs": [
    {
     "data": {
      "application/vnd.plotly.v1+json": {
       "config": {
        "plotlyServerURL": "https://plot.ly"
       },
       "data": [
        {
         "alignmentgroup": "True",
         "hovertemplate": "Education=%{x}<br>Count=%{y}<extra></extra>",
         "legendgroup": "Graduation",
         "marker": {
          "color": "#636efa",
          "pattern": {
           "shape": ""
          }
         },
         "name": "Graduation",
         "offsetgroup": "Graduation",
         "orientation": "v",
         "showlegend": true,
         "textposition": "auto",
         "type": "bar",
         "x": [
          "Graduation"
         ],
         "xaxis": "x",
         "y": [
          1126
         ],
         "yaxis": "y"
        },
        {
         "alignmentgroup": "True",
         "hovertemplate": "Education=%{x}<br>Count=%{y}<extra></extra>",
         "legendgroup": "Master",
         "marker": {
          "color": "#EF553B",
          "pattern": {
           "shape": ""
          }
         },
         "name": "Master",
         "offsetgroup": "Master",
         "orientation": "v",
         "showlegend": true,
         "textposition": "auto",
         "type": "bar",
         "x": [
          "Master"
         ],
         "xaxis": "x",
         "y": [
          571
         ],
         "yaxis": "y"
        },
        {
         "alignmentgroup": "True",
         "hovertemplate": "Education=%{x}<br>Count=%{y}<extra></extra>",
         "legendgroup": "PhD",
         "marker": {
          "color": "#00cc96",
          "pattern": {
           "shape": ""
          }
         },
         "name": "PhD",
         "offsetgroup": "PhD",
         "orientation": "v",
         "showlegend": true,
         "textposition": "auto",
         "type": "bar",
         "x": [
          "PhD"
         ],
         "xaxis": "x",
         "y": [
          485
         ],
         "yaxis": "y"
        },
        {
         "alignmentgroup": "True",
         "hovertemplate": "Education=%{x}<br>Count=%{y}<extra></extra>",
         "legendgroup": "Basic",
         "marker": {
          "color": "#ab63fa",
          "pattern": {
           "shape": ""
          }
         },
         "name": "Basic",
         "offsetgroup": "Basic",
         "orientation": "v",
         "showlegend": true,
         "textposition": "auto",
         "type": "bar",
         "x": [
          "Basic"
         ],
         "xaxis": "x",
         "y": [
          54
         ],
         "yaxis": "y"
        }
       ],
       "layout": {
        "barmode": "relative",
        "height": 400,
        "legend": {
         "title": {
          "text": "Education"
         },
         "tracegroupgap": 0
        },
        "margin": {
         "t": 60
        },
        "template": {
         "data": {
          "bar": [
           {
            "error_x": {
             "color": "#2a3f5f"
            },
            "error_y": {
             "color": "#2a3f5f"
            },
            "marker": {
             "line": {
              "color": "#E5ECF6",
              "width": 0.5
             },
             "pattern": {
              "fillmode": "overlay",
              "size": 10,
              "solidity": 0.2
             }
            },
            "type": "bar"
           }
          ],
          "barpolar": [
           {
            "marker": {
             "line": {
              "color": "#E5ECF6",
              "width": 0.5
             },
             "pattern": {
              "fillmode": "overlay",
              "size": 10,
              "solidity": 0.2
             }
            },
            "type": "barpolar"
           }
          ],
          "carpet": [
           {
            "aaxis": {
             "endlinecolor": "#2a3f5f",
             "gridcolor": "white",
             "linecolor": "white",
             "minorgridcolor": "white",
             "startlinecolor": "#2a3f5f"
            },
            "baxis": {
             "endlinecolor": "#2a3f5f",
             "gridcolor": "white",
             "linecolor": "white",
             "minorgridcolor": "white",
             "startlinecolor": "#2a3f5f"
            },
            "type": "carpet"
           }
          ],
          "choropleth": [
           {
            "colorbar": {
             "outlinewidth": 0,
             "ticks": ""
            },
            "type": "choropleth"
           }
          ],
          "contour": [
           {
            "colorbar": {
             "outlinewidth": 0,
             "ticks": ""
            },
            "colorscale": [
             [
              0,
              "#0d0887"
             ],
             [
              0.1111111111111111,
              "#46039f"
             ],
             [
              0.2222222222222222,
              "#7201a8"
             ],
             [
              0.3333333333333333,
              "#9c179e"
             ],
             [
              0.4444444444444444,
              "#bd3786"
             ],
             [
              0.5555555555555556,
              "#d8576b"
             ],
             [
              0.6666666666666666,
              "#ed7953"
             ],
             [
              0.7777777777777778,
              "#fb9f3a"
             ],
             [
              0.8888888888888888,
              "#fdca26"
             ],
             [
              1,
              "#f0f921"
             ]
            ],
            "type": "contour"
           }
          ],
          "contourcarpet": [
           {
            "colorbar": {
             "outlinewidth": 0,
             "ticks": ""
            },
            "type": "contourcarpet"
           }
          ],
          "heatmap": [
           {
            "colorbar": {
             "outlinewidth": 0,
             "ticks": ""
            },
            "colorscale": [
             [
              0,
              "#0d0887"
             ],
             [
              0.1111111111111111,
              "#46039f"
             ],
             [
              0.2222222222222222,
              "#7201a8"
             ],
             [
              0.3333333333333333,
              "#9c179e"
             ],
             [
              0.4444444444444444,
              "#bd3786"
             ],
             [
              0.5555555555555556,
              "#d8576b"
             ],
             [
              0.6666666666666666,
              "#ed7953"
             ],
             [
              0.7777777777777778,
              "#fb9f3a"
             ],
             [
              0.8888888888888888,
              "#fdca26"
             ],
             [
              1,
              "#f0f921"
             ]
            ],
            "type": "heatmap"
           }
          ],
          "heatmapgl": [
           {
            "colorbar": {
             "outlinewidth": 0,
             "ticks": ""
            },
            "colorscale": [
             [
              0,
              "#0d0887"
             ],
             [
              0.1111111111111111,
              "#46039f"
             ],
             [
              0.2222222222222222,
              "#7201a8"
             ],
             [
              0.3333333333333333,
              "#9c179e"
             ],
             [
              0.4444444444444444,
              "#bd3786"
             ],
             [
              0.5555555555555556,
              "#d8576b"
             ],
             [
              0.6666666666666666,
              "#ed7953"
             ],
             [
              0.7777777777777778,
              "#fb9f3a"
             ],
             [
              0.8888888888888888,
              "#fdca26"
             ],
             [
              1,
              "#f0f921"
             ]
            ],
            "type": "heatmapgl"
           }
          ],
          "histogram": [
           {
            "marker": {
             "pattern": {
              "fillmode": "overlay",
              "size": 10,
              "solidity": 0.2
             }
            },
            "type": "histogram"
           }
          ],
          "histogram2d": [
           {
            "colorbar": {
             "outlinewidth": 0,
             "ticks": ""
            },
            "colorscale": [
             [
              0,
              "#0d0887"
             ],
             [
              0.1111111111111111,
              "#46039f"
             ],
             [
              0.2222222222222222,
              "#7201a8"
             ],
             [
              0.3333333333333333,
              "#9c179e"
             ],
             [
              0.4444444444444444,
              "#bd3786"
             ],
             [
              0.5555555555555556,
              "#d8576b"
             ],
             [
              0.6666666666666666,
              "#ed7953"
             ],
             [
              0.7777777777777778,
              "#fb9f3a"
             ],
             [
              0.8888888888888888,
              "#fdca26"
             ],
             [
              1,
              "#f0f921"
             ]
            ],
            "type": "histogram2d"
           }
          ],
          "histogram2dcontour": [
           {
            "colorbar": {
             "outlinewidth": 0,
             "ticks": ""
            },
            "colorscale": [
             [
              0,
              "#0d0887"
             ],
             [
              0.1111111111111111,
              "#46039f"
             ],
             [
              0.2222222222222222,
              "#7201a8"
             ],
             [
              0.3333333333333333,
              "#9c179e"
             ],
             [
              0.4444444444444444,
              "#bd3786"
             ],
             [
              0.5555555555555556,
              "#d8576b"
             ],
             [
              0.6666666666666666,
              "#ed7953"
             ],
             [
              0.7777777777777778,
              "#fb9f3a"
             ],
             [
              0.8888888888888888,
              "#fdca26"
             ],
             [
              1,
              "#f0f921"
             ]
            ],
            "type": "histogram2dcontour"
           }
          ],
          "mesh3d": [
           {
            "colorbar": {
             "outlinewidth": 0,
             "ticks": ""
            },
            "type": "mesh3d"
           }
          ],
          "parcoords": [
           {
            "line": {
             "colorbar": {
              "outlinewidth": 0,
              "ticks": ""
             }
            },
            "type": "parcoords"
           }
          ],
          "pie": [
           {
            "automargin": true,
            "type": "pie"
           }
          ],
          "scatter": [
           {
            "fillpattern": {
             "fillmode": "overlay",
             "size": 10,
             "solidity": 0.2
            },
            "type": "scatter"
           }
          ],
          "scatter3d": [
           {
            "line": {
             "colorbar": {
              "outlinewidth": 0,
              "ticks": ""
             }
            },
            "marker": {
             "colorbar": {
              "outlinewidth": 0,
              "ticks": ""
             }
            },
            "type": "scatter3d"
           }
          ],
          "scattercarpet": [
           {
            "marker": {
             "colorbar": {
              "outlinewidth": 0,
              "ticks": ""
             }
            },
            "type": "scattercarpet"
           }
          ],
          "scattergeo": [
           {
            "marker": {
             "colorbar": {
              "outlinewidth": 0,
              "ticks": ""
             }
            },
            "type": "scattergeo"
           }
          ],
          "scattergl": [
           {
            "marker": {
             "colorbar": {
              "outlinewidth": 0,
              "ticks": ""
             }
            },
            "type": "scattergl"
           }
          ],
          "scattermapbox": [
           {
            "marker": {
             "colorbar": {
              "outlinewidth": 0,
              "ticks": ""
             }
            },
            "type": "scattermapbox"
           }
          ],
          "scatterpolar": [
           {
            "marker": {
             "colorbar": {
              "outlinewidth": 0,
              "ticks": ""
             }
            },
            "type": "scatterpolar"
           }
          ],
          "scatterpolargl": [
           {
            "marker": {
             "colorbar": {
              "outlinewidth": 0,
              "ticks": ""
             }
            },
            "type": "scatterpolargl"
           }
          ],
          "scatterternary": [
           {
            "marker": {
             "colorbar": {
              "outlinewidth": 0,
              "ticks": ""
             }
            },
            "type": "scatterternary"
           }
          ],
          "surface": [
           {
            "colorbar": {
             "outlinewidth": 0,
             "ticks": ""
            },
            "colorscale": [
             [
              0,
              "#0d0887"
             ],
             [
              0.1111111111111111,
              "#46039f"
             ],
             [
              0.2222222222222222,
              "#7201a8"
             ],
             [
              0.3333333333333333,
              "#9c179e"
             ],
             [
              0.4444444444444444,
              "#bd3786"
             ],
             [
              0.5555555555555556,
              "#d8576b"
             ],
             [
              0.6666666666666666,
              "#ed7953"
             ],
             [
              0.7777777777777778,
              "#fb9f3a"
             ],
             [
              0.8888888888888888,
              "#fdca26"
             ],
             [
              1,
              "#f0f921"
             ]
            ],
            "type": "surface"
           }
          ],
          "table": [
           {
            "cells": {
             "fill": {
              "color": "#EBF0F8"
             },
             "line": {
              "color": "white"
             }
            },
            "header": {
             "fill": {
              "color": "#C8D4E3"
             },
             "line": {
              "color": "white"
             }
            },
            "type": "table"
           }
          ]
         },
         "layout": {
          "annotationdefaults": {
           "arrowcolor": "#2a3f5f",
           "arrowhead": 0,
           "arrowwidth": 1
          },
          "autotypenumbers": "strict",
          "coloraxis": {
           "colorbar": {
            "outlinewidth": 0,
            "ticks": ""
           }
          },
          "colorscale": {
           "diverging": [
            [
             0,
             "#8e0152"
            ],
            [
             0.1,
             "#c51b7d"
            ],
            [
             0.2,
             "#de77ae"
            ],
            [
             0.3,
             "#f1b6da"
            ],
            [
             0.4,
             "#fde0ef"
            ],
            [
             0.5,
             "#f7f7f7"
            ],
            [
             0.6,
             "#e6f5d0"
            ],
            [
             0.7,
             "#b8e186"
            ],
            [
             0.8,
             "#7fbc41"
            ],
            [
             0.9,
             "#4d9221"
            ],
            [
             1,
             "#276419"
            ]
           ],
           "sequential": [
            [
             0,
             "#0d0887"
            ],
            [
             0.1111111111111111,
             "#46039f"
            ],
            [
             0.2222222222222222,
             "#7201a8"
            ],
            [
             0.3333333333333333,
             "#9c179e"
            ],
            [
             0.4444444444444444,
             "#bd3786"
            ],
            [
             0.5555555555555556,
             "#d8576b"
            ],
            [
             0.6666666666666666,
             "#ed7953"
            ],
            [
             0.7777777777777778,
             "#fb9f3a"
            ],
            [
             0.8888888888888888,
             "#fdca26"
            ],
            [
             1,
             "#f0f921"
            ]
           ],
           "sequentialminus": [
            [
             0,
             "#0d0887"
            ],
            [
             0.1111111111111111,
             "#46039f"
            ],
            [
             0.2222222222222222,
             "#7201a8"
            ],
            [
             0.3333333333333333,
             "#9c179e"
            ],
            [
             0.4444444444444444,
             "#bd3786"
            ],
            [
             0.5555555555555556,
             "#d8576b"
            ],
            [
             0.6666666666666666,
             "#ed7953"
            ],
            [
             0.7777777777777778,
             "#fb9f3a"
            ],
            [
             0.8888888888888888,
             "#fdca26"
            ],
            [
             1,
             "#f0f921"
            ]
           ]
          },
          "colorway": [
           "#636efa",
           "#EF553B",
           "#00cc96",
           "#ab63fa",
           "#FFA15A",
           "#19d3f3",
           "#FF6692",
           "#B6E880",
           "#FF97FF",
           "#FECB52"
          ],
          "font": {
           "color": "#2a3f5f"
          },
          "geo": {
           "bgcolor": "white",
           "lakecolor": "white",
           "landcolor": "#E5ECF6",
           "showlakes": true,
           "showland": true,
           "subunitcolor": "white"
          },
          "hoverlabel": {
           "align": "left"
          },
          "hovermode": "closest",
          "mapbox": {
           "style": "light"
          },
          "paper_bgcolor": "white",
          "plot_bgcolor": "#E5ECF6",
          "polar": {
           "angularaxis": {
            "gridcolor": "white",
            "linecolor": "white",
            "ticks": ""
           },
           "bgcolor": "#E5ECF6",
           "radialaxis": {
            "gridcolor": "white",
            "linecolor": "white",
            "ticks": ""
           }
          },
          "scene": {
           "xaxis": {
            "backgroundcolor": "#E5ECF6",
            "gridcolor": "white",
            "gridwidth": 2,
            "linecolor": "white",
            "showbackground": true,
            "ticks": "",
            "zerolinecolor": "white"
           },
           "yaxis": {
            "backgroundcolor": "#E5ECF6",
            "gridcolor": "white",
            "gridwidth": 2,
            "linecolor": "white",
            "showbackground": true,
            "ticks": "",
            "zerolinecolor": "white"
           },
           "zaxis": {
            "backgroundcolor": "#E5ECF6",
            "gridcolor": "white",
            "gridwidth": 2,
            "linecolor": "white",
            "showbackground": true,
            "ticks": "",
            "zerolinecolor": "white"
           }
          },
          "shapedefaults": {
           "line": {
            "color": "#2a3f5f"
           }
          },
          "ternary": {
           "aaxis": {
            "gridcolor": "white",
            "linecolor": "white",
            "ticks": ""
           },
           "baxis": {
            "gridcolor": "white",
            "linecolor": "white",
            "ticks": ""
           },
           "bgcolor": "#E5ECF6",
           "caxis": {
            "gridcolor": "white",
            "linecolor": "white",
            "ticks": ""
           }
          },
          "title": {
           "x": 0.05
          },
          "xaxis": {
           "automargin": true,
           "gridcolor": "white",
           "linecolor": "white",
           "ticks": "",
           "title": {
            "standoff": 15
           },
           "zerolinecolor": "white",
           "zerolinewidth": 2
          },
          "yaxis": {
           "automargin": true,
           "gridcolor": "white",
           "linecolor": "white",
           "ticks": "",
           "title": {
            "standoff": 15
           },
           "zerolinecolor": "white",
           "zerolinewidth": 2
          }
         }
        },
        "title": {
         "text": "Education "
        },
        "width": 800,
        "xaxis": {
         "anchor": "y",
         "categoryarray": [
          "Graduation",
          "Master",
          "PhD",
          "Basic"
         ],
         "categoryorder": "array",
         "domain": [
          0,
          1
         ],
         "title": {
          "text": "Education"
         }
        },
        "yaxis": {
         "anchor": "x",
         "domain": [
          0,
          1
         ],
         "title": {
          "text": "Count"
         }
        }
       }
      }
     },
     "metadata": {},
     "output_type": "display_data"
    }
   ],
   "source": [
    "df_Edu = pd.DataFrame(df['Education'].value_counts()).reset_index()\n",
    "df_Edu.columns = ['Education', 'Count']\n",
    "\n",
    "fig = px.bar(df_Edu,\n",
    "            x='Education',\n",
    "            y='Count',\n",
    "            color='Education')\n",
    "fig.update_layout(width=800, height=400, title='Education ')\n",
    "fig.show()"
   ]
  },
  {
   "cell_type": "code",
   "execution_count": 527,
   "metadata": {},
   "outputs": [
    {
     "data": {
      "text/plain": [
       "count    2236.000000\n",
       "mean        0.950805\n",
       "std         0.752204\n",
       "min         0.000000\n",
       "25%         0.000000\n",
       "50%         1.000000\n",
       "75%         1.000000\n",
       "max         3.000000\n",
       "Name: Kids, dtype: float64"
      ]
     },
     "execution_count": 527,
     "metadata": {},
     "output_type": "execute_result"
    }
   ],
   "source": [
    "# df['h# df['hasKid'] = np.where((df['Kidhome'] + df['Teenhome'] > 0), 1, 0)\n",
    "df['Kids'] = df['Kidhome'] + df['Teenhome']\n",
    "\n",
    "df['Kids'].describe()"
   ]
  },
  {
   "cell_type": "code",
   "execution_count": 528,
   "metadata": {},
   "outputs": [
    {
     "data": {
      "text/html": [
       "<div>\n",
       "<style scoped>\n",
       "    .dataframe tbody tr th:only-of-type {\n",
       "        vertical-align: middle;\n",
       "    }\n",
       "\n",
       "    .dataframe tbody tr th {\n",
       "        vertical-align: top;\n",
       "    }\n",
       "\n",
       "    .dataframe thead th {\n",
       "        text-align: right;\n",
       "    }\n",
       "</style>\n",
       "<table border=\"1\" class=\"dataframe\">\n",
       "  <thead>\n",
       "    <tr style=\"text-align: right;\">\n",
       "      <th></th>\n",
       "      <th>Marital_Status</th>\n",
       "      <th>Count</th>\n",
       "    </tr>\n",
       "  </thead>\n",
       "  <tbody>\n",
       "    <tr>\n",
       "      <th>0</th>\n",
       "      <td>Married</td>\n",
       "      <td>864</td>\n",
       "    </tr>\n",
       "    <tr>\n",
       "      <th>1</th>\n",
       "      <td>Together</td>\n",
       "      <td>578</td>\n",
       "    </tr>\n",
       "    <tr>\n",
       "      <th>2</th>\n",
       "      <td>Single</td>\n",
       "      <td>479</td>\n",
       "    </tr>\n",
       "    <tr>\n",
       "      <th>3</th>\n",
       "      <td>Divorced</td>\n",
       "      <td>231</td>\n",
       "    </tr>\n",
       "    <tr>\n",
       "      <th>4</th>\n",
       "      <td>Widow</td>\n",
       "      <td>77</td>\n",
       "    </tr>\n",
       "    <tr>\n",
       "      <th>5</th>\n",
       "      <td>Alone</td>\n",
       "      <td>3</td>\n",
       "    </tr>\n",
       "    <tr>\n",
       "      <th>6</th>\n",
       "      <td>Absurd</td>\n",
       "      <td>2</td>\n",
       "    </tr>\n",
       "    <tr>\n",
       "      <th>7</th>\n",
       "      <td>YOLO</td>\n",
       "      <td>2</td>\n",
       "    </tr>\n",
       "  </tbody>\n",
       "</table>\n",
       "</div>"
      ],
      "text/plain": [
       "  Marital_Status  Count\n",
       "0        Married    864\n",
       "1       Together    578\n",
       "2         Single    479\n",
       "3       Divorced    231\n",
       "4          Widow     77\n",
       "5          Alone      3\n",
       "6         Absurd      2\n",
       "7           YOLO      2"
      ]
     },
     "execution_count": 528,
     "metadata": {},
     "output_type": "execute_result"
    }
   ],
   "source": [
    "df_Mar = pd.DataFrame(df['Marital_Status'].value_counts()).reset_index()\n",
    "df_Mar.columns = ['Marital_Status', 'Count']\n",
    "df_Mar"
   ]
  },
  {
   "cell_type": "code",
   "execution_count": 529,
   "metadata": {},
   "outputs": [
    {
     "data": {
      "application/vnd.plotly.v1+json": {
       "config": {
        "plotlyServerURL": "https://plot.ly"
       },
       "data": [
        {
         "alignmentgroup": "True",
         "hovertemplate": "Marital_Status=%{x}<br>Count=%{y}<extra></extra>",
         "legendgroup": "Married",
         "marker": {
          "color": "#636efa",
          "pattern": {
           "shape": ""
          }
         },
         "name": "Married",
         "offsetgroup": "Married",
         "orientation": "v",
         "showlegend": true,
         "textposition": "auto",
         "type": "bar",
         "x": [
          "Married"
         ],
         "xaxis": "x",
         "y": [
          864
         ],
         "yaxis": "y"
        },
        {
         "alignmentgroup": "True",
         "hovertemplate": "Marital_Status=%{x}<br>Count=%{y}<extra></extra>",
         "legendgroup": "Together",
         "marker": {
          "color": "#EF553B",
          "pattern": {
           "shape": ""
          }
         },
         "name": "Together",
         "offsetgroup": "Together",
         "orientation": "v",
         "showlegend": true,
         "textposition": "auto",
         "type": "bar",
         "x": [
          "Together"
         ],
         "xaxis": "x",
         "y": [
          578
         ],
         "yaxis": "y"
        },
        {
         "alignmentgroup": "True",
         "hovertemplate": "Marital_Status=%{x}<br>Count=%{y}<extra></extra>",
         "legendgroup": "Single",
         "marker": {
          "color": "#00cc96",
          "pattern": {
           "shape": ""
          }
         },
         "name": "Single",
         "offsetgroup": "Single",
         "orientation": "v",
         "showlegend": true,
         "textposition": "auto",
         "type": "bar",
         "x": [
          "Single"
         ],
         "xaxis": "x",
         "y": [
          479
         ],
         "yaxis": "y"
        },
        {
         "alignmentgroup": "True",
         "hovertemplate": "Marital_Status=%{x}<br>Count=%{y}<extra></extra>",
         "legendgroup": "Divorced",
         "marker": {
          "color": "#ab63fa",
          "pattern": {
           "shape": ""
          }
         },
         "name": "Divorced",
         "offsetgroup": "Divorced",
         "orientation": "v",
         "showlegend": true,
         "textposition": "auto",
         "type": "bar",
         "x": [
          "Divorced"
         ],
         "xaxis": "x",
         "y": [
          231
         ],
         "yaxis": "y"
        },
        {
         "alignmentgroup": "True",
         "hovertemplate": "Marital_Status=%{x}<br>Count=%{y}<extra></extra>",
         "legendgroup": "Widow",
         "marker": {
          "color": "#FFA15A",
          "pattern": {
           "shape": ""
          }
         },
         "name": "Widow",
         "offsetgroup": "Widow",
         "orientation": "v",
         "showlegend": true,
         "textposition": "auto",
         "type": "bar",
         "x": [
          "Widow"
         ],
         "xaxis": "x",
         "y": [
          77
         ],
         "yaxis": "y"
        },
        {
         "alignmentgroup": "True",
         "hovertemplate": "Marital_Status=%{x}<br>Count=%{y}<extra></extra>",
         "legendgroup": "Alone",
         "marker": {
          "color": "#19d3f3",
          "pattern": {
           "shape": ""
          }
         },
         "name": "Alone",
         "offsetgroup": "Alone",
         "orientation": "v",
         "showlegend": true,
         "textposition": "auto",
         "type": "bar",
         "x": [
          "Alone"
         ],
         "xaxis": "x",
         "y": [
          3
         ],
         "yaxis": "y"
        },
        {
         "alignmentgroup": "True",
         "hovertemplate": "Marital_Status=%{x}<br>Count=%{y}<extra></extra>",
         "legendgroup": "Absurd",
         "marker": {
          "color": "#FF6692",
          "pattern": {
           "shape": ""
          }
         },
         "name": "Absurd",
         "offsetgroup": "Absurd",
         "orientation": "v",
         "showlegend": true,
         "textposition": "auto",
         "type": "bar",
         "x": [
          "Absurd"
         ],
         "xaxis": "x",
         "y": [
          2
         ],
         "yaxis": "y"
        },
        {
         "alignmentgroup": "True",
         "hovertemplate": "Marital_Status=%{x}<br>Count=%{y}<extra></extra>",
         "legendgroup": "YOLO",
         "marker": {
          "color": "#B6E880",
          "pattern": {
           "shape": ""
          }
         },
         "name": "YOLO",
         "offsetgroup": "YOLO",
         "orientation": "v",
         "showlegend": true,
         "textposition": "auto",
         "type": "bar",
         "x": [
          "YOLO"
         ],
         "xaxis": "x",
         "y": [
          2
         ],
         "yaxis": "y"
        }
       ],
       "layout": {
        "barmode": "relative",
        "height": 400,
        "legend": {
         "title": {
          "text": "Marital_Status"
         },
         "tracegroupgap": 0
        },
        "margin": {
         "t": 60
        },
        "template": {
         "data": {
          "bar": [
           {
            "error_x": {
             "color": "#2a3f5f"
            },
            "error_y": {
             "color": "#2a3f5f"
            },
            "marker": {
             "line": {
              "color": "#E5ECF6",
              "width": 0.5
             },
             "pattern": {
              "fillmode": "overlay",
              "size": 10,
              "solidity": 0.2
             }
            },
            "type": "bar"
           }
          ],
          "barpolar": [
           {
            "marker": {
             "line": {
              "color": "#E5ECF6",
              "width": 0.5
             },
             "pattern": {
              "fillmode": "overlay",
              "size": 10,
              "solidity": 0.2
             }
            },
            "type": "barpolar"
           }
          ],
          "carpet": [
           {
            "aaxis": {
             "endlinecolor": "#2a3f5f",
             "gridcolor": "white",
             "linecolor": "white",
             "minorgridcolor": "white",
             "startlinecolor": "#2a3f5f"
            },
            "baxis": {
             "endlinecolor": "#2a3f5f",
             "gridcolor": "white",
             "linecolor": "white",
             "minorgridcolor": "white",
             "startlinecolor": "#2a3f5f"
            },
            "type": "carpet"
           }
          ],
          "choropleth": [
           {
            "colorbar": {
             "outlinewidth": 0,
             "ticks": ""
            },
            "type": "choropleth"
           }
          ],
          "contour": [
           {
            "colorbar": {
             "outlinewidth": 0,
             "ticks": ""
            },
            "colorscale": [
             [
              0,
              "#0d0887"
             ],
             [
              0.1111111111111111,
              "#46039f"
             ],
             [
              0.2222222222222222,
              "#7201a8"
             ],
             [
              0.3333333333333333,
              "#9c179e"
             ],
             [
              0.4444444444444444,
              "#bd3786"
             ],
             [
              0.5555555555555556,
              "#d8576b"
             ],
             [
              0.6666666666666666,
              "#ed7953"
             ],
             [
              0.7777777777777778,
              "#fb9f3a"
             ],
             [
              0.8888888888888888,
              "#fdca26"
             ],
             [
              1,
              "#f0f921"
             ]
            ],
            "type": "contour"
           }
          ],
          "contourcarpet": [
           {
            "colorbar": {
             "outlinewidth": 0,
             "ticks": ""
            },
            "type": "contourcarpet"
           }
          ],
          "heatmap": [
           {
            "colorbar": {
             "outlinewidth": 0,
             "ticks": ""
            },
            "colorscale": [
             [
              0,
              "#0d0887"
             ],
             [
              0.1111111111111111,
              "#46039f"
             ],
             [
              0.2222222222222222,
              "#7201a8"
             ],
             [
              0.3333333333333333,
              "#9c179e"
             ],
             [
              0.4444444444444444,
              "#bd3786"
             ],
             [
              0.5555555555555556,
              "#d8576b"
             ],
             [
              0.6666666666666666,
              "#ed7953"
             ],
             [
              0.7777777777777778,
              "#fb9f3a"
             ],
             [
              0.8888888888888888,
              "#fdca26"
             ],
             [
              1,
              "#f0f921"
             ]
            ],
            "type": "heatmap"
           }
          ],
          "heatmapgl": [
           {
            "colorbar": {
             "outlinewidth": 0,
             "ticks": ""
            },
            "colorscale": [
             [
              0,
              "#0d0887"
             ],
             [
              0.1111111111111111,
              "#46039f"
             ],
             [
              0.2222222222222222,
              "#7201a8"
             ],
             [
              0.3333333333333333,
              "#9c179e"
             ],
             [
              0.4444444444444444,
              "#bd3786"
             ],
             [
              0.5555555555555556,
              "#d8576b"
             ],
             [
              0.6666666666666666,
              "#ed7953"
             ],
             [
              0.7777777777777778,
              "#fb9f3a"
             ],
             [
              0.8888888888888888,
              "#fdca26"
             ],
             [
              1,
              "#f0f921"
             ]
            ],
            "type": "heatmapgl"
           }
          ],
          "histogram": [
           {
            "marker": {
             "pattern": {
              "fillmode": "overlay",
              "size": 10,
              "solidity": 0.2
             }
            },
            "type": "histogram"
           }
          ],
          "histogram2d": [
           {
            "colorbar": {
             "outlinewidth": 0,
             "ticks": ""
            },
            "colorscale": [
             [
              0,
              "#0d0887"
             ],
             [
              0.1111111111111111,
              "#46039f"
             ],
             [
              0.2222222222222222,
              "#7201a8"
             ],
             [
              0.3333333333333333,
              "#9c179e"
             ],
             [
              0.4444444444444444,
              "#bd3786"
             ],
             [
              0.5555555555555556,
              "#d8576b"
             ],
             [
              0.6666666666666666,
              "#ed7953"
             ],
             [
              0.7777777777777778,
              "#fb9f3a"
             ],
             [
              0.8888888888888888,
              "#fdca26"
             ],
             [
              1,
              "#f0f921"
             ]
            ],
            "type": "histogram2d"
           }
          ],
          "histogram2dcontour": [
           {
            "colorbar": {
             "outlinewidth": 0,
             "ticks": ""
            },
            "colorscale": [
             [
              0,
              "#0d0887"
             ],
             [
              0.1111111111111111,
              "#46039f"
             ],
             [
              0.2222222222222222,
              "#7201a8"
             ],
             [
              0.3333333333333333,
              "#9c179e"
             ],
             [
              0.4444444444444444,
              "#bd3786"
             ],
             [
              0.5555555555555556,
              "#d8576b"
             ],
             [
              0.6666666666666666,
              "#ed7953"
             ],
             [
              0.7777777777777778,
              "#fb9f3a"
             ],
             [
              0.8888888888888888,
              "#fdca26"
             ],
             [
              1,
              "#f0f921"
             ]
            ],
            "type": "histogram2dcontour"
           }
          ],
          "mesh3d": [
           {
            "colorbar": {
             "outlinewidth": 0,
             "ticks": ""
            },
            "type": "mesh3d"
           }
          ],
          "parcoords": [
           {
            "line": {
             "colorbar": {
              "outlinewidth": 0,
              "ticks": ""
             }
            },
            "type": "parcoords"
           }
          ],
          "pie": [
           {
            "automargin": true,
            "type": "pie"
           }
          ],
          "scatter": [
           {
            "fillpattern": {
             "fillmode": "overlay",
             "size": 10,
             "solidity": 0.2
            },
            "type": "scatter"
           }
          ],
          "scatter3d": [
           {
            "line": {
             "colorbar": {
              "outlinewidth": 0,
              "ticks": ""
             }
            },
            "marker": {
             "colorbar": {
              "outlinewidth": 0,
              "ticks": ""
             }
            },
            "type": "scatter3d"
           }
          ],
          "scattercarpet": [
           {
            "marker": {
             "colorbar": {
              "outlinewidth": 0,
              "ticks": ""
             }
            },
            "type": "scattercarpet"
           }
          ],
          "scattergeo": [
           {
            "marker": {
             "colorbar": {
              "outlinewidth": 0,
              "ticks": ""
             }
            },
            "type": "scattergeo"
           }
          ],
          "scattergl": [
           {
            "marker": {
             "colorbar": {
              "outlinewidth": 0,
              "ticks": ""
             }
            },
            "type": "scattergl"
           }
          ],
          "scattermapbox": [
           {
            "marker": {
             "colorbar": {
              "outlinewidth": 0,
              "ticks": ""
             }
            },
            "type": "scattermapbox"
           }
          ],
          "scatterpolar": [
           {
            "marker": {
             "colorbar": {
              "outlinewidth": 0,
              "ticks": ""
             }
            },
            "type": "scatterpolar"
           }
          ],
          "scatterpolargl": [
           {
            "marker": {
             "colorbar": {
              "outlinewidth": 0,
              "ticks": ""
             }
            },
            "type": "scatterpolargl"
           }
          ],
          "scatterternary": [
           {
            "marker": {
             "colorbar": {
              "outlinewidth": 0,
              "ticks": ""
             }
            },
            "type": "scatterternary"
           }
          ],
          "surface": [
           {
            "colorbar": {
             "outlinewidth": 0,
             "ticks": ""
            },
            "colorscale": [
             [
              0,
              "#0d0887"
             ],
             [
              0.1111111111111111,
              "#46039f"
             ],
             [
              0.2222222222222222,
              "#7201a8"
             ],
             [
              0.3333333333333333,
              "#9c179e"
             ],
             [
              0.4444444444444444,
              "#bd3786"
             ],
             [
              0.5555555555555556,
              "#d8576b"
             ],
             [
              0.6666666666666666,
              "#ed7953"
             ],
             [
              0.7777777777777778,
              "#fb9f3a"
             ],
             [
              0.8888888888888888,
              "#fdca26"
             ],
             [
              1,
              "#f0f921"
             ]
            ],
            "type": "surface"
           }
          ],
          "table": [
           {
            "cells": {
             "fill": {
              "color": "#EBF0F8"
             },
             "line": {
              "color": "white"
             }
            },
            "header": {
             "fill": {
              "color": "#C8D4E3"
             },
             "line": {
              "color": "white"
             }
            },
            "type": "table"
           }
          ]
         },
         "layout": {
          "annotationdefaults": {
           "arrowcolor": "#2a3f5f",
           "arrowhead": 0,
           "arrowwidth": 1
          },
          "autotypenumbers": "strict",
          "coloraxis": {
           "colorbar": {
            "outlinewidth": 0,
            "ticks": ""
           }
          },
          "colorscale": {
           "diverging": [
            [
             0,
             "#8e0152"
            ],
            [
             0.1,
             "#c51b7d"
            ],
            [
             0.2,
             "#de77ae"
            ],
            [
             0.3,
             "#f1b6da"
            ],
            [
             0.4,
             "#fde0ef"
            ],
            [
             0.5,
             "#f7f7f7"
            ],
            [
             0.6,
             "#e6f5d0"
            ],
            [
             0.7,
             "#b8e186"
            ],
            [
             0.8,
             "#7fbc41"
            ],
            [
             0.9,
             "#4d9221"
            ],
            [
             1,
             "#276419"
            ]
           ],
           "sequential": [
            [
             0,
             "#0d0887"
            ],
            [
             0.1111111111111111,
             "#46039f"
            ],
            [
             0.2222222222222222,
             "#7201a8"
            ],
            [
             0.3333333333333333,
             "#9c179e"
            ],
            [
             0.4444444444444444,
             "#bd3786"
            ],
            [
             0.5555555555555556,
             "#d8576b"
            ],
            [
             0.6666666666666666,
             "#ed7953"
            ],
            [
             0.7777777777777778,
             "#fb9f3a"
            ],
            [
             0.8888888888888888,
             "#fdca26"
            ],
            [
             1,
             "#f0f921"
            ]
           ],
           "sequentialminus": [
            [
             0,
             "#0d0887"
            ],
            [
             0.1111111111111111,
             "#46039f"
            ],
            [
             0.2222222222222222,
             "#7201a8"
            ],
            [
             0.3333333333333333,
             "#9c179e"
            ],
            [
             0.4444444444444444,
             "#bd3786"
            ],
            [
             0.5555555555555556,
             "#d8576b"
            ],
            [
             0.6666666666666666,
             "#ed7953"
            ],
            [
             0.7777777777777778,
             "#fb9f3a"
            ],
            [
             0.8888888888888888,
             "#fdca26"
            ],
            [
             1,
             "#f0f921"
            ]
           ]
          },
          "colorway": [
           "#636efa",
           "#EF553B",
           "#00cc96",
           "#ab63fa",
           "#FFA15A",
           "#19d3f3",
           "#FF6692",
           "#B6E880",
           "#FF97FF",
           "#FECB52"
          ],
          "font": {
           "color": "#2a3f5f"
          },
          "geo": {
           "bgcolor": "white",
           "lakecolor": "white",
           "landcolor": "#E5ECF6",
           "showlakes": true,
           "showland": true,
           "subunitcolor": "white"
          },
          "hoverlabel": {
           "align": "left"
          },
          "hovermode": "closest",
          "mapbox": {
           "style": "light"
          },
          "paper_bgcolor": "white",
          "plot_bgcolor": "#E5ECF6",
          "polar": {
           "angularaxis": {
            "gridcolor": "white",
            "linecolor": "white",
            "ticks": ""
           },
           "bgcolor": "#E5ECF6",
           "radialaxis": {
            "gridcolor": "white",
            "linecolor": "white",
            "ticks": ""
           }
          },
          "scene": {
           "xaxis": {
            "backgroundcolor": "#E5ECF6",
            "gridcolor": "white",
            "gridwidth": 2,
            "linecolor": "white",
            "showbackground": true,
            "ticks": "",
            "zerolinecolor": "white"
           },
           "yaxis": {
            "backgroundcolor": "#E5ECF6",
            "gridcolor": "white",
            "gridwidth": 2,
            "linecolor": "white",
            "showbackground": true,
            "ticks": "",
            "zerolinecolor": "white"
           },
           "zaxis": {
            "backgroundcolor": "#E5ECF6",
            "gridcolor": "white",
            "gridwidth": 2,
            "linecolor": "white",
            "showbackground": true,
            "ticks": "",
            "zerolinecolor": "white"
           }
          },
          "shapedefaults": {
           "line": {
            "color": "#2a3f5f"
           }
          },
          "ternary": {
           "aaxis": {
            "gridcolor": "white",
            "linecolor": "white",
            "ticks": ""
           },
           "baxis": {
            "gridcolor": "white",
            "linecolor": "white",
            "ticks": ""
           },
           "bgcolor": "#E5ECF6",
           "caxis": {
            "gridcolor": "white",
            "linecolor": "white",
            "ticks": ""
           }
          },
          "title": {
           "x": 0.05
          },
          "xaxis": {
           "automargin": true,
           "gridcolor": "white",
           "linecolor": "white",
           "ticks": "",
           "title": {
            "standoff": 15
           },
           "zerolinecolor": "white",
           "zerolinewidth": 2
          },
          "yaxis": {
           "automargin": true,
           "gridcolor": "white",
           "linecolor": "white",
           "ticks": "",
           "title": {
            "standoff": 15
           },
           "zerolinecolor": "white",
           "zerolinewidth": 2
          }
         }
        },
        "title": {
         "text": "Education "
        },
        "width": 800,
        "xaxis": {
         "anchor": "y",
         "categoryarray": [
          "Married",
          "Together",
          "Single",
          "Divorced",
          "Widow",
          "Alone",
          "Absurd",
          "YOLO"
         ],
         "categoryorder": "array",
         "domain": [
          0,
          1
         ],
         "title": {
          "text": "Marital_Status"
         }
        },
        "yaxis": {
         "anchor": "x",
         "domain": [
          0,
          1
         ],
         "title": {
          "text": "Count"
         }
        }
       }
      }
     },
     "metadata": {},
     "output_type": "display_data"
    }
   ],
   "source": [
    "df_Edu = pd.DataFrame(df['Marital_Status'].value_counts()).reset_index()\n",
    "df_Edu.columns = ['Marital_Status', 'Count']\n",
    "\n",
    "fig = px.bar(df_Edu,\n",
    "            x='Marital_Status',\n",
    "            y='Count',\n",
    "            color='Marital_Status')\n",
    "fig.update_layout(width=800, height=400, title='Education ')\n",
    "fig.show()"
   ]
  },
  {
   "cell_type": "code",
   "execution_count": 530,
   "metadata": {},
   "outputs": [
    {
     "data": {
      "text/html": [
       "<div>\n",
       "<style scoped>\n",
       "    .dataframe tbody tr th:only-of-type {\n",
       "        vertical-align: middle;\n",
       "    }\n",
       "\n",
       "    .dataframe tbody tr th {\n",
       "        vertical-align: top;\n",
       "    }\n",
       "\n",
       "    .dataframe thead th {\n",
       "        text-align: right;\n",
       "    }\n",
       "</style>\n",
       "<table border=\"1\" class=\"dataframe\">\n",
       "  <thead>\n",
       "    <tr style=\"text-align: right;\">\n",
       "      <th></th>\n",
       "      <th>Unnamed: 0</th>\n",
       "      <th>Education</th>\n",
       "      <th>Marital_Status</th>\n",
       "      <th>Income</th>\n",
       "      <th>Kidhome</th>\n",
       "      <th>Teenhome</th>\n",
       "      <th>Dt_Customer</th>\n",
       "      <th>Recency</th>\n",
       "      <th>MntWines</th>\n",
       "      <th>MntFruits</th>\n",
       "      <th>MntMeatProducts</th>\n",
       "      <th>MntFishProducts</th>\n",
       "      <th>MntSweetProducts</th>\n",
       "      <th>MntGoldProds</th>\n",
       "      <th>NumDealsPurchases</th>\n",
       "      <th>NumWebPurchases</th>\n",
       "      <th>NumCatalogPurchases</th>\n",
       "      <th>NumStorePurchases</th>\n",
       "      <th>NumWebVisitsMonth</th>\n",
       "      <th>AcceptedCmp3</th>\n",
       "      <th>AcceptedCmp4</th>\n",
       "      <th>AcceptedCmp5</th>\n",
       "      <th>AcceptedCmp1</th>\n",
       "      <th>AcceptedCmp2</th>\n",
       "      <th>Complain</th>\n",
       "      <th>Response</th>\n",
       "      <th>Age</th>\n",
       "      <th>Kids</th>\n",
       "    </tr>\n",
       "    <tr>\n",
       "      <th>ID</th>\n",
       "      <th></th>\n",
       "      <th></th>\n",
       "      <th></th>\n",
       "      <th></th>\n",
       "      <th></th>\n",
       "      <th></th>\n",
       "      <th></th>\n",
       "      <th></th>\n",
       "      <th></th>\n",
       "      <th></th>\n",
       "      <th></th>\n",
       "      <th></th>\n",
       "      <th></th>\n",
       "      <th></th>\n",
       "      <th></th>\n",
       "      <th></th>\n",
       "      <th></th>\n",
       "      <th></th>\n",
       "      <th></th>\n",
       "      <th></th>\n",
       "      <th></th>\n",
       "      <th></th>\n",
       "      <th></th>\n",
       "      <th></th>\n",
       "      <th></th>\n",
       "      <th></th>\n",
       "      <th></th>\n",
       "      <th></th>\n",
       "    </tr>\n",
       "  </thead>\n",
       "  <tbody>\n",
       "    <tr>\n",
       "      <th>5524</th>\n",
       "      <td>0</td>\n",
       "      <td>Graduation</td>\n",
       "      <td>Single</td>\n",
       "      <td>58138.0</td>\n",
       "      <td>0</td>\n",
       "      <td>0</td>\n",
       "      <td>2012-09-04</td>\n",
       "      <td>58</td>\n",
       "      <td>635</td>\n",
       "      <td>88</td>\n",
       "      <td>546</td>\n",
       "      <td>172</td>\n",
       "      <td>88</td>\n",
       "      <td>88</td>\n",
       "      <td>3</td>\n",
       "      <td>8</td>\n",
       "      <td>10</td>\n",
       "      <td>4</td>\n",
       "      <td>7</td>\n",
       "      <td>0</td>\n",
       "      <td>0</td>\n",
       "      <td>0</td>\n",
       "      <td>0</td>\n",
       "      <td>0</td>\n",
       "      <td>0</td>\n",
       "      <td>1</td>\n",
       "      <td>67</td>\n",
       "      <td>0</td>\n",
       "    </tr>\n",
       "    <tr>\n",
       "      <th>2174</th>\n",
       "      <td>1</td>\n",
       "      <td>Graduation</td>\n",
       "      <td>Single</td>\n",
       "      <td>46344.0</td>\n",
       "      <td>1</td>\n",
       "      <td>1</td>\n",
       "      <td>2014-03-08</td>\n",
       "      <td>38</td>\n",
       "      <td>11</td>\n",
       "      <td>1</td>\n",
       "      <td>6</td>\n",
       "      <td>2</td>\n",
       "      <td>1</td>\n",
       "      <td>6</td>\n",
       "      <td>2</td>\n",
       "      <td>1</td>\n",
       "      <td>1</td>\n",
       "      <td>2</td>\n",
       "      <td>5</td>\n",
       "      <td>0</td>\n",
       "      <td>0</td>\n",
       "      <td>0</td>\n",
       "      <td>0</td>\n",
       "      <td>0</td>\n",
       "      <td>0</td>\n",
       "      <td>0</td>\n",
       "      <td>70</td>\n",
       "      <td>2</td>\n",
       "    </tr>\n",
       "    <tr>\n",
       "      <th>4141</th>\n",
       "      <td>2</td>\n",
       "      <td>Graduation</td>\n",
       "      <td>Together</td>\n",
       "      <td>71613.0</td>\n",
       "      <td>0</td>\n",
       "      <td>0</td>\n",
       "      <td>2013-08-21</td>\n",
       "      <td>26</td>\n",
       "      <td>426</td>\n",
       "      <td>49</td>\n",
       "      <td>127</td>\n",
       "      <td>111</td>\n",
       "      <td>21</td>\n",
       "      <td>42</td>\n",
       "      <td>1</td>\n",
       "      <td>8</td>\n",
       "      <td>2</td>\n",
       "      <td>10</td>\n",
       "      <td>4</td>\n",
       "      <td>0</td>\n",
       "      <td>0</td>\n",
       "      <td>0</td>\n",
       "      <td>0</td>\n",
       "      <td>0</td>\n",
       "      <td>0</td>\n",
       "      <td>0</td>\n",
       "      <td>59</td>\n",
       "      <td>0</td>\n",
       "    </tr>\n",
       "    <tr>\n",
       "      <th>6182</th>\n",
       "      <td>3</td>\n",
       "      <td>Graduation</td>\n",
       "      <td>Together</td>\n",
       "      <td>26646.0</td>\n",
       "      <td>1</td>\n",
       "      <td>0</td>\n",
       "      <td>2014-02-10</td>\n",
       "      <td>26</td>\n",
       "      <td>11</td>\n",
       "      <td>4</td>\n",
       "      <td>20</td>\n",
       "      <td>10</td>\n",
       "      <td>3</td>\n",
       "      <td>5</td>\n",
       "      <td>2</td>\n",
       "      <td>2</td>\n",
       "      <td>0</td>\n",
       "      <td>4</td>\n",
       "      <td>6</td>\n",
       "      <td>0</td>\n",
       "      <td>0</td>\n",
       "      <td>0</td>\n",
       "      <td>0</td>\n",
       "      <td>0</td>\n",
       "      <td>0</td>\n",
       "      <td>0</td>\n",
       "      <td>40</td>\n",
       "      <td>1</td>\n",
       "    </tr>\n",
       "    <tr>\n",
       "      <th>5324</th>\n",
       "      <td>4</td>\n",
       "      <td>PhD</td>\n",
       "      <td>Married</td>\n",
       "      <td>58293.0</td>\n",
       "      <td>1</td>\n",
       "      <td>0</td>\n",
       "      <td>2014-01-19</td>\n",
       "      <td>94</td>\n",
       "      <td>173</td>\n",
       "      <td>43</td>\n",
       "      <td>118</td>\n",
       "      <td>46</td>\n",
       "      <td>27</td>\n",
       "      <td>15</td>\n",
       "      <td>5</td>\n",
       "      <td>5</td>\n",
       "      <td>3</td>\n",
       "      <td>6</td>\n",
       "      <td>5</td>\n",
       "      <td>0</td>\n",
       "      <td>0</td>\n",
       "      <td>0</td>\n",
       "      <td>0</td>\n",
       "      <td>0</td>\n",
       "      <td>0</td>\n",
       "      <td>0</td>\n",
       "      <td>43</td>\n",
       "      <td>1</td>\n",
       "    </tr>\n",
       "  </tbody>\n",
       "</table>\n",
       "</div>"
      ],
      "text/plain": [
       "      Unnamed: 0   Education Marital_Status   Income  Kidhome  Teenhome  \\\n",
       "ID                                                                        \n",
       "5524           0  Graduation         Single  58138.0        0         0   \n",
       "2174           1  Graduation         Single  46344.0        1         1   \n",
       "4141           2  Graduation       Together  71613.0        0         0   \n",
       "6182           3  Graduation       Together  26646.0        1         0   \n",
       "5324           4         PhD        Married  58293.0        1         0   \n",
       "\n",
       "     Dt_Customer  Recency  MntWines  MntFruits  MntMeatProducts  \\\n",
       "ID                                                                \n",
       "5524  2012-09-04       58       635         88              546   \n",
       "2174  2014-03-08       38        11          1                6   \n",
       "4141  2013-08-21       26       426         49              127   \n",
       "6182  2014-02-10       26        11          4               20   \n",
       "5324  2014-01-19       94       173         43              118   \n",
       "\n",
       "      MntFishProducts  MntSweetProducts  MntGoldProds  NumDealsPurchases  \\\n",
       "ID                                                                         \n",
       "5524              172                88            88                  3   \n",
       "2174                2                 1             6                  2   \n",
       "4141              111                21            42                  1   \n",
       "6182               10                 3             5                  2   \n",
       "5324               46                27            15                  5   \n",
       "\n",
       "      NumWebPurchases  NumCatalogPurchases  NumStorePurchases  \\\n",
       "ID                                                              \n",
       "5524                8                   10                  4   \n",
       "2174                1                    1                  2   \n",
       "4141                8                    2                 10   \n",
       "6182                2                    0                  4   \n",
       "5324                5                    3                  6   \n",
       "\n",
       "      NumWebVisitsMonth  AcceptedCmp3  AcceptedCmp4  AcceptedCmp5  \\\n",
       "ID                                                                  \n",
       "5524                  7             0             0             0   \n",
       "2174                  5             0             0             0   \n",
       "4141                  4             0             0             0   \n",
       "6182                  6             0             0             0   \n",
       "5324                  5             0             0             0   \n",
       "\n",
       "      AcceptedCmp1  AcceptedCmp2  Complain  Response  Age  Kids  \n",
       "ID                                                               \n",
       "5524             0             0         0         1   67     0  \n",
       "2174             0             0         0         0   70     2  \n",
       "4141             0             0         0         0   59     0  \n",
       "6182             0             0         0         0   40     1  \n",
       "5324             0             0         0         0   43     1  "
      ]
     },
     "execution_count": 530,
     "metadata": {},
     "output_type": "execute_result"
    }
   ],
   "source": [
    "df.head()"
   ]
  },
  {
   "cell_type": "code",
   "execution_count": 531,
   "metadata": {},
   "outputs": [],
   "source": [
    "df['Dt_Customer'] = pd.to_datetime(df['Dt_Customer'], utc=False)"
   ]
  },
  {
   "cell_type": "code",
   "execution_count": 532,
   "metadata": {},
   "outputs": [],
   "source": [
    "last_enrollment = pd.to_datetime(df['Dt_Customer'].max(), utc=False)\n",
    "df['Days_Enrolled'] = (last_enrollment-df['Dt_Customer']).dt.days"
   ]
  },
  {
   "cell_type": "code",
   "execution_count": 533,
   "metadata": {},
   "outputs": [
    {
     "data": {
      "text/html": [
       "<div>\n",
       "<style scoped>\n",
       "    .dataframe tbody tr th:only-of-type {\n",
       "        vertical-align: middle;\n",
       "    }\n",
       "\n",
       "    .dataframe tbody tr th {\n",
       "        vertical-align: top;\n",
       "    }\n",
       "\n",
       "    .dataframe thead th {\n",
       "        text-align: right;\n",
       "    }\n",
       "</style>\n",
       "<table border=\"1\" class=\"dataframe\">\n",
       "  <thead>\n",
       "    <tr style=\"text-align: right;\">\n",
       "      <th></th>\n",
       "      <th>Unnamed: 0</th>\n",
       "      <th>Education</th>\n",
       "      <th>Marital_Status</th>\n",
       "      <th>Income</th>\n",
       "      <th>Dt_Customer</th>\n",
       "      <th>Recency</th>\n",
       "      <th>MntWines</th>\n",
       "      <th>MntFruits</th>\n",
       "      <th>MntMeatProducts</th>\n",
       "      <th>MntFishProducts</th>\n",
       "      <th>MntSweetProducts</th>\n",
       "      <th>MntGoldProds</th>\n",
       "      <th>NumDealsPurchases</th>\n",
       "      <th>NumWebPurchases</th>\n",
       "      <th>NumCatalogPurchases</th>\n",
       "      <th>NumStorePurchases</th>\n",
       "      <th>NumWebVisitsMonth</th>\n",
       "      <th>AcceptedCmp3</th>\n",
       "      <th>AcceptedCmp4</th>\n",
       "      <th>AcceptedCmp5</th>\n",
       "      <th>AcceptedCmp1</th>\n",
       "      <th>AcceptedCmp2</th>\n",
       "      <th>Complain</th>\n",
       "      <th>Response</th>\n",
       "      <th>Age</th>\n",
       "      <th>Kids</th>\n",
       "      <th>Days_Enrolled</th>\n",
       "    </tr>\n",
       "    <tr>\n",
       "      <th>ID</th>\n",
       "      <th></th>\n",
       "      <th></th>\n",
       "      <th></th>\n",
       "      <th></th>\n",
       "      <th></th>\n",
       "      <th></th>\n",
       "      <th></th>\n",
       "      <th></th>\n",
       "      <th></th>\n",
       "      <th></th>\n",
       "      <th></th>\n",
       "      <th></th>\n",
       "      <th></th>\n",
       "      <th></th>\n",
       "      <th></th>\n",
       "      <th></th>\n",
       "      <th></th>\n",
       "      <th></th>\n",
       "      <th></th>\n",
       "      <th></th>\n",
       "      <th></th>\n",
       "      <th></th>\n",
       "      <th></th>\n",
       "      <th></th>\n",
       "      <th></th>\n",
       "      <th></th>\n",
       "      <th></th>\n",
       "    </tr>\n",
       "  </thead>\n",
       "  <tbody>\n",
       "    <tr>\n",
       "      <th>5524</th>\n",
       "      <td>0</td>\n",
       "      <td>Graduation</td>\n",
       "      <td>Single</td>\n",
       "      <td>58138.0</td>\n",
       "      <td>2012-09-04</td>\n",
       "      <td>58</td>\n",
       "      <td>635</td>\n",
       "      <td>88</td>\n",
       "      <td>546</td>\n",
       "      <td>172</td>\n",
       "      <td>88</td>\n",
       "      <td>88</td>\n",
       "      <td>3</td>\n",
       "      <td>8</td>\n",
       "      <td>10</td>\n",
       "      <td>4</td>\n",
       "      <td>7</td>\n",
       "      <td>0</td>\n",
       "      <td>0</td>\n",
       "      <td>0</td>\n",
       "      <td>0</td>\n",
       "      <td>0</td>\n",
       "      <td>0</td>\n",
       "      <td>1</td>\n",
       "      <td>67</td>\n",
       "      <td>0</td>\n",
       "      <td>663</td>\n",
       "    </tr>\n",
       "    <tr>\n",
       "      <th>2174</th>\n",
       "      <td>1</td>\n",
       "      <td>Graduation</td>\n",
       "      <td>Single</td>\n",
       "      <td>46344.0</td>\n",
       "      <td>2014-03-08</td>\n",
       "      <td>38</td>\n",
       "      <td>11</td>\n",
       "      <td>1</td>\n",
       "      <td>6</td>\n",
       "      <td>2</td>\n",
       "      <td>1</td>\n",
       "      <td>6</td>\n",
       "      <td>2</td>\n",
       "      <td>1</td>\n",
       "      <td>1</td>\n",
       "      <td>2</td>\n",
       "      <td>5</td>\n",
       "      <td>0</td>\n",
       "      <td>0</td>\n",
       "      <td>0</td>\n",
       "      <td>0</td>\n",
       "      <td>0</td>\n",
       "      <td>0</td>\n",
       "      <td>0</td>\n",
       "      <td>70</td>\n",
       "      <td>2</td>\n",
       "      <td>113</td>\n",
       "    </tr>\n",
       "    <tr>\n",
       "      <th>4141</th>\n",
       "      <td>2</td>\n",
       "      <td>Graduation</td>\n",
       "      <td>Together</td>\n",
       "      <td>71613.0</td>\n",
       "      <td>2013-08-21</td>\n",
       "      <td>26</td>\n",
       "      <td>426</td>\n",
       "      <td>49</td>\n",
       "      <td>127</td>\n",
       "      <td>111</td>\n",
       "      <td>21</td>\n",
       "      <td>42</td>\n",
       "      <td>1</td>\n",
       "      <td>8</td>\n",
       "      <td>2</td>\n",
       "      <td>10</td>\n",
       "      <td>4</td>\n",
       "      <td>0</td>\n",
       "      <td>0</td>\n",
       "      <td>0</td>\n",
       "      <td>0</td>\n",
       "      <td>0</td>\n",
       "      <td>0</td>\n",
       "      <td>0</td>\n",
       "      <td>59</td>\n",
       "      <td>0</td>\n",
       "      <td>312</td>\n",
       "    </tr>\n",
       "    <tr>\n",
       "      <th>6182</th>\n",
       "      <td>3</td>\n",
       "      <td>Graduation</td>\n",
       "      <td>Together</td>\n",
       "      <td>26646.0</td>\n",
       "      <td>2014-02-10</td>\n",
       "      <td>26</td>\n",
       "      <td>11</td>\n",
       "      <td>4</td>\n",
       "      <td>20</td>\n",
       "      <td>10</td>\n",
       "      <td>3</td>\n",
       "      <td>5</td>\n",
       "      <td>2</td>\n",
       "      <td>2</td>\n",
       "      <td>0</td>\n",
       "      <td>4</td>\n",
       "      <td>6</td>\n",
       "      <td>0</td>\n",
       "      <td>0</td>\n",
       "      <td>0</td>\n",
       "      <td>0</td>\n",
       "      <td>0</td>\n",
       "      <td>0</td>\n",
       "      <td>0</td>\n",
       "      <td>40</td>\n",
       "      <td>1</td>\n",
       "      <td>139</td>\n",
       "    </tr>\n",
       "    <tr>\n",
       "      <th>5324</th>\n",
       "      <td>4</td>\n",
       "      <td>PhD</td>\n",
       "      <td>Married</td>\n",
       "      <td>58293.0</td>\n",
       "      <td>2014-01-19</td>\n",
       "      <td>94</td>\n",
       "      <td>173</td>\n",
       "      <td>43</td>\n",
       "      <td>118</td>\n",
       "      <td>46</td>\n",
       "      <td>27</td>\n",
       "      <td>15</td>\n",
       "      <td>5</td>\n",
       "      <td>5</td>\n",
       "      <td>3</td>\n",
       "      <td>6</td>\n",
       "      <td>5</td>\n",
       "      <td>0</td>\n",
       "      <td>0</td>\n",
       "      <td>0</td>\n",
       "      <td>0</td>\n",
       "      <td>0</td>\n",
       "      <td>0</td>\n",
       "      <td>0</td>\n",
       "      <td>43</td>\n",
       "      <td>1</td>\n",
       "      <td>161</td>\n",
       "    </tr>\n",
       "  </tbody>\n",
       "</table>\n",
       "</div>"
      ],
      "text/plain": [
       "      Unnamed: 0   Education Marital_Status   Income Dt_Customer  Recency  \\\n",
       "ID                                                                          \n",
       "5524           0  Graduation         Single  58138.0  2012-09-04       58   \n",
       "2174           1  Graduation         Single  46344.0  2014-03-08       38   \n",
       "4141           2  Graduation       Together  71613.0  2013-08-21       26   \n",
       "6182           3  Graduation       Together  26646.0  2014-02-10       26   \n",
       "5324           4         PhD        Married  58293.0  2014-01-19       94   \n",
       "\n",
       "      MntWines  MntFruits  MntMeatProducts  MntFishProducts  MntSweetProducts  \\\n",
       "ID                                                                              \n",
       "5524       635         88              546              172                88   \n",
       "2174        11          1                6                2                 1   \n",
       "4141       426         49              127              111                21   \n",
       "6182        11          4               20               10                 3   \n",
       "5324       173         43              118               46                27   \n",
       "\n",
       "      MntGoldProds  NumDealsPurchases  NumWebPurchases  NumCatalogPurchases  \\\n",
       "ID                                                                            \n",
       "5524            88                  3                8                   10   \n",
       "2174             6                  2                1                    1   \n",
       "4141            42                  1                8                    2   \n",
       "6182             5                  2                2                    0   \n",
       "5324            15                  5                5                    3   \n",
       "\n",
       "      NumStorePurchases  NumWebVisitsMonth  AcceptedCmp3  AcceptedCmp4  \\\n",
       "ID                                                                       \n",
       "5524                  4                  7             0             0   \n",
       "2174                  2                  5             0             0   \n",
       "4141                 10                  4             0             0   \n",
       "6182                  4                  6             0             0   \n",
       "5324                  6                  5             0             0   \n",
       "\n",
       "      AcceptedCmp5  AcceptedCmp1  AcceptedCmp2  Complain  Response  Age  Kids  \\\n",
       "ID                                                                              \n",
       "5524             0             0             0         0         1   67     0   \n",
       "2174             0             0             0         0         0   70     2   \n",
       "4141             0             0             0         0         0   59     0   \n",
       "6182             0             0             0         0         0   40     1   \n",
       "5324             0             0             0         0         0   43     1   \n",
       "\n",
       "      Days_Enrolled  \n",
       "ID                   \n",
       "5524            663  \n",
       "2174            113  \n",
       "4141            312  \n",
       "6182            139  \n",
       "5324            161  "
      ]
     },
     "execution_count": 533,
     "metadata": {},
     "output_type": "execute_result"
    }
   ],
   "source": [
    "df.drop(columns = ['Kidhome', 'Teenhome'], inplace=True)\n",
    "df.head()"
   ]
  },
  {
   "cell_type": "code",
   "execution_count": 534,
   "metadata": {},
   "outputs": [
    {
     "name": "stdout",
     "output_type": "stream",
     "text": [
      "Customer with most recent non transaction streak is 0 days while customer with longest non transaction streak is 99 days\n"
     ]
    }
   ],
   "source": [
    "df['Total_Spend'] = df['MntWines']+df['MntFruits']+df['MntMeatProducts']+df['MntFishProducts']+df['MntSweetProducts']+df['MntGoldProds']\n",
    "\n",
    "df.drop(columns=['MntWines', 'MntFruits', 'MntMeatProducts', 'MntFishProducts', 'MntSweetProducts', 'MntGoldProds'], inplace=True)\n",
    "\n",
    "print(f\"Customer with most recent non transaction streak is {df['Recency'].min()} days while customer with longest non transaction streak is {df['Recency'].max()} days\")\n"
   ]
  },
  {
   "cell_type": "code",
   "execution_count": 535,
   "metadata": {},
   "outputs": [
    {
     "data": {
      "text/plain": [
       "(184, 22)"
      ]
     },
     "execution_count": 535,
     "metadata": {},
     "output_type": "execute_result"
    }
   ],
   "source": [
    "df[df['Recency'] <= 7].shape"
   ]
  },
  {
   "cell_type": "code",
   "execution_count": 536,
   "metadata": {},
   "outputs": [
    {
     "data": {
      "text/plain": [
       "(171, 22)"
      ]
     },
     "execution_count": 536,
     "metadata": {},
     "output_type": "execute_result"
    }
   ],
   "source": [
    "df[(df['Recency']>7) & (df['Recency'] <= 14 )].shape"
   ]
  },
  {
   "cell_type": "code",
   "execution_count": 537,
   "metadata": {},
   "outputs": [
    {
     "data": {
      "text/plain": [
       "(143, 22)"
      ]
     },
     "execution_count": 537,
     "metadata": {},
     "output_type": "execute_result"
    }
   ],
   "source": [
    "df[(df['Recency']>14) & (df['Recency'] <= 21 )].shape\n"
   ]
  },
  {
   "cell_type": "code",
   "execution_count": 538,
   "metadata": {},
   "outputs": [],
   "source": [
    "df['Recency_'] = df['Recency']/14\n",
    "df['Recency_'] = df['Recency_'].apply(lambda x: floor(x))"
   ]
  },
  {
   "cell_type": "code",
   "execution_count": 539,
   "metadata": {},
   "outputs": [
    {
     "data": {
      "application/vnd.plotly.v1+json": {
       "config": {
        "plotlyServerURL": "https://plot.ly"
       },
       "data": [
        {
         "alignmentgroup": "True",
         "hovertemplate": "Recency=%{marker.color}<br>Count=%{y}<extra></extra>",
         "legendgroup": "",
         "marker": {
          "color": [
           0,
           5,
           3,
           6,
           2,
           4,
           1,
           7
          ],
          "coloraxis": "coloraxis",
          "pattern": {
           "shape": ""
          }
         },
         "name": "",
         "offsetgroup": "",
         "orientation": "v",
         "showlegend": false,
         "textposition": "auto",
         "type": "bar",
         "x": [
          0,
          5,
          3,
          6,
          2,
          4,
          1,
          7
         ],
         "xaxis": "x",
         "y": [
          336,
          323,
          320,
          309,
          305,
          303,
          302,
          38
         ],
         "yaxis": "y"
        }
       ],
       "layout": {
        "barmode": "relative",
        "coloraxis": {
         "colorbar": {
          "title": {
           "text": "Recency"
          }
         },
         "colorscale": [
          [
           0,
           "#0d0887"
          ],
          [
           0.1111111111111111,
           "#46039f"
          ],
          [
           0.2222222222222222,
           "#7201a8"
          ],
          [
           0.3333333333333333,
           "#9c179e"
          ],
          [
           0.4444444444444444,
           "#bd3786"
          ],
          [
           0.5555555555555556,
           "#d8576b"
          ],
          [
           0.6666666666666666,
           "#ed7953"
          ],
          [
           0.7777777777777778,
           "#fb9f3a"
          ],
          [
           0.8888888888888888,
           "#fdca26"
          ],
          [
           1,
           "#f0f921"
          ]
         ]
        },
        "height": 400,
        "legend": {
         "tracegroupgap": 0
        },
        "margin": {
         "t": 60
        },
        "template": {
         "data": {
          "bar": [
           {
            "error_x": {
             "color": "#2a3f5f"
            },
            "error_y": {
             "color": "#2a3f5f"
            },
            "marker": {
             "line": {
              "color": "#E5ECF6",
              "width": 0.5
             },
             "pattern": {
              "fillmode": "overlay",
              "size": 10,
              "solidity": 0.2
             }
            },
            "type": "bar"
           }
          ],
          "barpolar": [
           {
            "marker": {
             "line": {
              "color": "#E5ECF6",
              "width": 0.5
             },
             "pattern": {
              "fillmode": "overlay",
              "size": 10,
              "solidity": 0.2
             }
            },
            "type": "barpolar"
           }
          ],
          "carpet": [
           {
            "aaxis": {
             "endlinecolor": "#2a3f5f",
             "gridcolor": "white",
             "linecolor": "white",
             "minorgridcolor": "white",
             "startlinecolor": "#2a3f5f"
            },
            "baxis": {
             "endlinecolor": "#2a3f5f",
             "gridcolor": "white",
             "linecolor": "white",
             "minorgridcolor": "white",
             "startlinecolor": "#2a3f5f"
            },
            "type": "carpet"
           }
          ],
          "choropleth": [
           {
            "colorbar": {
             "outlinewidth": 0,
             "ticks": ""
            },
            "type": "choropleth"
           }
          ],
          "contour": [
           {
            "colorbar": {
             "outlinewidth": 0,
             "ticks": ""
            },
            "colorscale": [
             [
              0,
              "#0d0887"
             ],
             [
              0.1111111111111111,
              "#46039f"
             ],
             [
              0.2222222222222222,
              "#7201a8"
             ],
             [
              0.3333333333333333,
              "#9c179e"
             ],
             [
              0.4444444444444444,
              "#bd3786"
             ],
             [
              0.5555555555555556,
              "#d8576b"
             ],
             [
              0.6666666666666666,
              "#ed7953"
             ],
             [
              0.7777777777777778,
              "#fb9f3a"
             ],
             [
              0.8888888888888888,
              "#fdca26"
             ],
             [
              1,
              "#f0f921"
             ]
            ],
            "type": "contour"
           }
          ],
          "contourcarpet": [
           {
            "colorbar": {
             "outlinewidth": 0,
             "ticks": ""
            },
            "type": "contourcarpet"
           }
          ],
          "heatmap": [
           {
            "colorbar": {
             "outlinewidth": 0,
             "ticks": ""
            },
            "colorscale": [
             [
              0,
              "#0d0887"
             ],
             [
              0.1111111111111111,
              "#46039f"
             ],
             [
              0.2222222222222222,
              "#7201a8"
             ],
             [
              0.3333333333333333,
              "#9c179e"
             ],
             [
              0.4444444444444444,
              "#bd3786"
             ],
             [
              0.5555555555555556,
              "#d8576b"
             ],
             [
              0.6666666666666666,
              "#ed7953"
             ],
             [
              0.7777777777777778,
              "#fb9f3a"
             ],
             [
              0.8888888888888888,
              "#fdca26"
             ],
             [
              1,
              "#f0f921"
             ]
            ],
            "type": "heatmap"
           }
          ],
          "heatmapgl": [
           {
            "colorbar": {
             "outlinewidth": 0,
             "ticks": ""
            },
            "colorscale": [
             [
              0,
              "#0d0887"
             ],
             [
              0.1111111111111111,
              "#46039f"
             ],
             [
              0.2222222222222222,
              "#7201a8"
             ],
             [
              0.3333333333333333,
              "#9c179e"
             ],
             [
              0.4444444444444444,
              "#bd3786"
             ],
             [
              0.5555555555555556,
              "#d8576b"
             ],
             [
              0.6666666666666666,
              "#ed7953"
             ],
             [
              0.7777777777777778,
              "#fb9f3a"
             ],
             [
              0.8888888888888888,
              "#fdca26"
             ],
             [
              1,
              "#f0f921"
             ]
            ],
            "type": "heatmapgl"
           }
          ],
          "histogram": [
           {
            "marker": {
             "pattern": {
              "fillmode": "overlay",
              "size": 10,
              "solidity": 0.2
             }
            },
            "type": "histogram"
           }
          ],
          "histogram2d": [
           {
            "colorbar": {
             "outlinewidth": 0,
             "ticks": ""
            },
            "colorscale": [
             [
              0,
              "#0d0887"
             ],
             [
              0.1111111111111111,
              "#46039f"
             ],
             [
              0.2222222222222222,
              "#7201a8"
             ],
             [
              0.3333333333333333,
              "#9c179e"
             ],
             [
              0.4444444444444444,
              "#bd3786"
             ],
             [
              0.5555555555555556,
              "#d8576b"
             ],
             [
              0.6666666666666666,
              "#ed7953"
             ],
             [
              0.7777777777777778,
              "#fb9f3a"
             ],
             [
              0.8888888888888888,
              "#fdca26"
             ],
             [
              1,
              "#f0f921"
             ]
            ],
            "type": "histogram2d"
           }
          ],
          "histogram2dcontour": [
           {
            "colorbar": {
             "outlinewidth": 0,
             "ticks": ""
            },
            "colorscale": [
             [
              0,
              "#0d0887"
             ],
             [
              0.1111111111111111,
              "#46039f"
             ],
             [
              0.2222222222222222,
              "#7201a8"
             ],
             [
              0.3333333333333333,
              "#9c179e"
             ],
             [
              0.4444444444444444,
              "#bd3786"
             ],
             [
              0.5555555555555556,
              "#d8576b"
             ],
             [
              0.6666666666666666,
              "#ed7953"
             ],
             [
              0.7777777777777778,
              "#fb9f3a"
             ],
             [
              0.8888888888888888,
              "#fdca26"
             ],
             [
              1,
              "#f0f921"
             ]
            ],
            "type": "histogram2dcontour"
           }
          ],
          "mesh3d": [
           {
            "colorbar": {
             "outlinewidth": 0,
             "ticks": ""
            },
            "type": "mesh3d"
           }
          ],
          "parcoords": [
           {
            "line": {
             "colorbar": {
              "outlinewidth": 0,
              "ticks": ""
             }
            },
            "type": "parcoords"
           }
          ],
          "pie": [
           {
            "automargin": true,
            "type": "pie"
           }
          ],
          "scatter": [
           {
            "fillpattern": {
             "fillmode": "overlay",
             "size": 10,
             "solidity": 0.2
            },
            "type": "scatter"
           }
          ],
          "scatter3d": [
           {
            "line": {
             "colorbar": {
              "outlinewidth": 0,
              "ticks": ""
             }
            },
            "marker": {
             "colorbar": {
              "outlinewidth": 0,
              "ticks": ""
             }
            },
            "type": "scatter3d"
           }
          ],
          "scattercarpet": [
           {
            "marker": {
             "colorbar": {
              "outlinewidth": 0,
              "ticks": ""
             }
            },
            "type": "scattercarpet"
           }
          ],
          "scattergeo": [
           {
            "marker": {
             "colorbar": {
              "outlinewidth": 0,
              "ticks": ""
             }
            },
            "type": "scattergeo"
           }
          ],
          "scattergl": [
           {
            "marker": {
             "colorbar": {
              "outlinewidth": 0,
              "ticks": ""
             }
            },
            "type": "scattergl"
           }
          ],
          "scattermapbox": [
           {
            "marker": {
             "colorbar": {
              "outlinewidth": 0,
              "ticks": ""
             }
            },
            "type": "scattermapbox"
           }
          ],
          "scatterpolar": [
           {
            "marker": {
             "colorbar": {
              "outlinewidth": 0,
              "ticks": ""
             }
            },
            "type": "scatterpolar"
           }
          ],
          "scatterpolargl": [
           {
            "marker": {
             "colorbar": {
              "outlinewidth": 0,
              "ticks": ""
             }
            },
            "type": "scatterpolargl"
           }
          ],
          "scatterternary": [
           {
            "marker": {
             "colorbar": {
              "outlinewidth": 0,
              "ticks": ""
             }
            },
            "type": "scatterternary"
           }
          ],
          "surface": [
           {
            "colorbar": {
             "outlinewidth": 0,
             "ticks": ""
            },
            "colorscale": [
             [
              0,
              "#0d0887"
             ],
             [
              0.1111111111111111,
              "#46039f"
             ],
             [
              0.2222222222222222,
              "#7201a8"
             ],
             [
              0.3333333333333333,
              "#9c179e"
             ],
             [
              0.4444444444444444,
              "#bd3786"
             ],
             [
              0.5555555555555556,
              "#d8576b"
             ],
             [
              0.6666666666666666,
              "#ed7953"
             ],
             [
              0.7777777777777778,
              "#fb9f3a"
             ],
             [
              0.8888888888888888,
              "#fdca26"
             ],
             [
              1,
              "#f0f921"
             ]
            ],
            "type": "surface"
           }
          ],
          "table": [
           {
            "cells": {
             "fill": {
              "color": "#EBF0F8"
             },
             "line": {
              "color": "white"
             }
            },
            "header": {
             "fill": {
              "color": "#C8D4E3"
             },
             "line": {
              "color": "white"
             }
            },
            "type": "table"
           }
          ]
         },
         "layout": {
          "annotationdefaults": {
           "arrowcolor": "#2a3f5f",
           "arrowhead": 0,
           "arrowwidth": 1
          },
          "autotypenumbers": "strict",
          "coloraxis": {
           "colorbar": {
            "outlinewidth": 0,
            "ticks": ""
           }
          },
          "colorscale": {
           "diverging": [
            [
             0,
             "#8e0152"
            ],
            [
             0.1,
             "#c51b7d"
            ],
            [
             0.2,
             "#de77ae"
            ],
            [
             0.3,
             "#f1b6da"
            ],
            [
             0.4,
             "#fde0ef"
            ],
            [
             0.5,
             "#f7f7f7"
            ],
            [
             0.6,
             "#e6f5d0"
            ],
            [
             0.7,
             "#b8e186"
            ],
            [
             0.8,
             "#7fbc41"
            ],
            [
             0.9,
             "#4d9221"
            ],
            [
             1,
             "#276419"
            ]
           ],
           "sequential": [
            [
             0,
             "#0d0887"
            ],
            [
             0.1111111111111111,
             "#46039f"
            ],
            [
             0.2222222222222222,
             "#7201a8"
            ],
            [
             0.3333333333333333,
             "#9c179e"
            ],
            [
             0.4444444444444444,
             "#bd3786"
            ],
            [
             0.5555555555555556,
             "#d8576b"
            ],
            [
             0.6666666666666666,
             "#ed7953"
            ],
            [
             0.7777777777777778,
             "#fb9f3a"
            ],
            [
             0.8888888888888888,
             "#fdca26"
            ],
            [
             1,
             "#f0f921"
            ]
           ],
           "sequentialminus": [
            [
             0,
             "#0d0887"
            ],
            [
             0.1111111111111111,
             "#46039f"
            ],
            [
             0.2222222222222222,
             "#7201a8"
            ],
            [
             0.3333333333333333,
             "#9c179e"
            ],
            [
             0.4444444444444444,
             "#bd3786"
            ],
            [
             0.5555555555555556,
             "#d8576b"
            ],
            [
             0.6666666666666666,
             "#ed7953"
            ],
            [
             0.7777777777777778,
             "#fb9f3a"
            ],
            [
             0.8888888888888888,
             "#fdca26"
            ],
            [
             1,
             "#f0f921"
            ]
           ]
          },
          "colorway": [
           "#636efa",
           "#EF553B",
           "#00cc96",
           "#ab63fa",
           "#FFA15A",
           "#19d3f3",
           "#FF6692",
           "#B6E880",
           "#FF97FF",
           "#FECB52"
          ],
          "font": {
           "color": "#2a3f5f"
          },
          "geo": {
           "bgcolor": "white",
           "lakecolor": "white",
           "landcolor": "#E5ECF6",
           "showlakes": true,
           "showland": true,
           "subunitcolor": "white"
          },
          "hoverlabel": {
           "align": "left"
          },
          "hovermode": "closest",
          "mapbox": {
           "style": "light"
          },
          "paper_bgcolor": "white",
          "plot_bgcolor": "#E5ECF6",
          "polar": {
           "angularaxis": {
            "gridcolor": "white",
            "linecolor": "white",
            "ticks": ""
           },
           "bgcolor": "#E5ECF6",
           "radialaxis": {
            "gridcolor": "white",
            "linecolor": "white",
            "ticks": ""
           }
          },
          "scene": {
           "xaxis": {
            "backgroundcolor": "#E5ECF6",
            "gridcolor": "white",
            "gridwidth": 2,
            "linecolor": "white",
            "showbackground": true,
            "ticks": "",
            "zerolinecolor": "white"
           },
           "yaxis": {
            "backgroundcolor": "#E5ECF6",
            "gridcolor": "white",
            "gridwidth": 2,
            "linecolor": "white",
            "showbackground": true,
            "ticks": "",
            "zerolinecolor": "white"
           },
           "zaxis": {
            "backgroundcolor": "#E5ECF6",
            "gridcolor": "white",
            "gridwidth": 2,
            "linecolor": "white",
            "showbackground": true,
            "ticks": "",
            "zerolinecolor": "white"
           }
          },
          "shapedefaults": {
           "line": {
            "color": "#2a3f5f"
           }
          },
          "ternary": {
           "aaxis": {
            "gridcolor": "white",
            "linecolor": "white",
            "ticks": ""
           },
           "baxis": {
            "gridcolor": "white",
            "linecolor": "white",
            "ticks": ""
           },
           "bgcolor": "#E5ECF6",
           "caxis": {
            "gridcolor": "white",
            "linecolor": "white",
            "ticks": ""
           }
          },
          "title": {
           "x": 0.05
          },
          "xaxis": {
           "automargin": true,
           "gridcolor": "white",
           "linecolor": "white",
           "ticks": "",
           "title": {
            "standoff": 15
           },
           "zerolinecolor": "white",
           "zerolinewidth": 2
          },
          "yaxis": {
           "automargin": true,
           "gridcolor": "white",
           "linecolor": "white",
           "ticks": "",
           "title": {
            "standoff": 15
           },
           "zerolinecolor": "white",
           "zerolinewidth": 2
          }
         }
        },
        "title": {
         "text": "Recency (x14 days) "
        },
        "width": 800,
        "xaxis": {
         "anchor": "y",
         "domain": [
          0,
          1
         ],
         "title": {
          "text": "Recency"
         }
        },
        "yaxis": {
         "anchor": "x",
         "domain": [
          0,
          1
         ],
         "title": {
          "text": "Count"
         }
        }
       }
      }
     },
     "metadata": {},
     "output_type": "display_data"
    }
   ],
   "source": [
    "df_Recency_ = pd.DataFrame(df['Recency_'].value_counts()).reset_index()\n",
    "df_Recency_.columns = ['Recency', 'Count']\n",
    "\n",
    "fig = px.bar(df_Recency_,\n",
    "            x='Recency',\n",
    "            y='Count',\n",
    "            color='Recency')\n",
    "fig.update_layout(width=800, height=400, title='Recency (x14 days) ')\n",
    "fig.show()\n"
   ]
  },
  {
   "cell_type": "code",
   "execution_count": 540,
   "metadata": {},
   "outputs": [
    {
     "data": {
      "text/html": [
       "<div>\n",
       "<style scoped>\n",
       "    .dataframe tbody tr th:only-of-type {\n",
       "        vertical-align: middle;\n",
       "    }\n",
       "\n",
       "    .dataframe tbody tr th {\n",
       "        vertical-align: top;\n",
       "    }\n",
       "\n",
       "    .dataframe thead th {\n",
       "        text-align: right;\n",
       "    }\n",
       "</style>\n",
       "<table border=\"1\" class=\"dataframe\">\n",
       "  <thead>\n",
       "    <tr style=\"text-align: right;\">\n",
       "      <th></th>\n",
       "      <th>Unnamed: 0</th>\n",
       "      <th>Education</th>\n",
       "      <th>Marital_Status</th>\n",
       "      <th>Income</th>\n",
       "      <th>Dt_Customer</th>\n",
       "      <th>NumDealsPurchases</th>\n",
       "      <th>NumWebPurchases</th>\n",
       "      <th>NumCatalogPurchases</th>\n",
       "      <th>NumStorePurchases</th>\n",
       "      <th>NumWebVisitsMonth</th>\n",
       "      <th>AcceptedCmp3</th>\n",
       "      <th>AcceptedCmp4</th>\n",
       "      <th>AcceptedCmp5</th>\n",
       "      <th>AcceptedCmp1</th>\n",
       "      <th>AcceptedCmp2</th>\n",
       "      <th>Complain</th>\n",
       "      <th>Response</th>\n",
       "      <th>Age</th>\n",
       "      <th>Kids</th>\n",
       "      <th>Days_Enrolled</th>\n",
       "      <th>Total_Spend</th>\n",
       "      <th>Recency_</th>\n",
       "    </tr>\n",
       "    <tr>\n",
       "      <th>ID</th>\n",
       "      <th></th>\n",
       "      <th></th>\n",
       "      <th></th>\n",
       "      <th></th>\n",
       "      <th></th>\n",
       "      <th></th>\n",
       "      <th></th>\n",
       "      <th></th>\n",
       "      <th></th>\n",
       "      <th></th>\n",
       "      <th></th>\n",
       "      <th></th>\n",
       "      <th></th>\n",
       "      <th></th>\n",
       "      <th></th>\n",
       "      <th></th>\n",
       "      <th></th>\n",
       "      <th></th>\n",
       "      <th></th>\n",
       "      <th></th>\n",
       "      <th></th>\n",
       "      <th></th>\n",
       "    </tr>\n",
       "  </thead>\n",
       "  <tbody>\n",
       "    <tr>\n",
       "      <th>5524</th>\n",
       "      <td>0</td>\n",
       "      <td>Graduation</td>\n",
       "      <td>Single</td>\n",
       "      <td>58138.0</td>\n",
       "      <td>2012-09-04</td>\n",
       "      <td>3</td>\n",
       "      <td>8</td>\n",
       "      <td>10</td>\n",
       "      <td>4</td>\n",
       "      <td>7</td>\n",
       "      <td>0</td>\n",
       "      <td>0</td>\n",
       "      <td>0</td>\n",
       "      <td>0</td>\n",
       "      <td>0</td>\n",
       "      <td>0</td>\n",
       "      <td>1</td>\n",
       "      <td>67</td>\n",
       "      <td>0</td>\n",
       "      <td>663</td>\n",
       "      <td>1617</td>\n",
       "      <td>4</td>\n",
       "    </tr>\n",
       "    <tr>\n",
       "      <th>2174</th>\n",
       "      <td>1</td>\n",
       "      <td>Graduation</td>\n",
       "      <td>Single</td>\n",
       "      <td>46344.0</td>\n",
       "      <td>2014-03-08</td>\n",
       "      <td>2</td>\n",
       "      <td>1</td>\n",
       "      <td>1</td>\n",
       "      <td>2</td>\n",
       "      <td>5</td>\n",
       "      <td>0</td>\n",
       "      <td>0</td>\n",
       "      <td>0</td>\n",
       "      <td>0</td>\n",
       "      <td>0</td>\n",
       "      <td>0</td>\n",
       "      <td>0</td>\n",
       "      <td>70</td>\n",
       "      <td>2</td>\n",
       "      <td>113</td>\n",
       "      <td>27</td>\n",
       "      <td>2</td>\n",
       "    </tr>\n",
       "    <tr>\n",
       "      <th>4141</th>\n",
       "      <td>2</td>\n",
       "      <td>Graduation</td>\n",
       "      <td>Together</td>\n",
       "      <td>71613.0</td>\n",
       "      <td>2013-08-21</td>\n",
       "      <td>1</td>\n",
       "      <td>8</td>\n",
       "      <td>2</td>\n",
       "      <td>10</td>\n",
       "      <td>4</td>\n",
       "      <td>0</td>\n",
       "      <td>0</td>\n",
       "      <td>0</td>\n",
       "      <td>0</td>\n",
       "      <td>0</td>\n",
       "      <td>0</td>\n",
       "      <td>0</td>\n",
       "      <td>59</td>\n",
       "      <td>0</td>\n",
       "      <td>312</td>\n",
       "      <td>776</td>\n",
       "      <td>1</td>\n",
       "    </tr>\n",
       "    <tr>\n",
       "      <th>6182</th>\n",
       "      <td>3</td>\n",
       "      <td>Graduation</td>\n",
       "      <td>Together</td>\n",
       "      <td>26646.0</td>\n",
       "      <td>2014-02-10</td>\n",
       "      <td>2</td>\n",
       "      <td>2</td>\n",
       "      <td>0</td>\n",
       "      <td>4</td>\n",
       "      <td>6</td>\n",
       "      <td>0</td>\n",
       "      <td>0</td>\n",
       "      <td>0</td>\n",
       "      <td>0</td>\n",
       "      <td>0</td>\n",
       "      <td>0</td>\n",
       "      <td>0</td>\n",
       "      <td>40</td>\n",
       "      <td>1</td>\n",
       "      <td>139</td>\n",
       "      <td>53</td>\n",
       "      <td>1</td>\n",
       "    </tr>\n",
       "    <tr>\n",
       "      <th>5324</th>\n",
       "      <td>4</td>\n",
       "      <td>PhD</td>\n",
       "      <td>Married</td>\n",
       "      <td>58293.0</td>\n",
       "      <td>2014-01-19</td>\n",
       "      <td>5</td>\n",
       "      <td>5</td>\n",
       "      <td>3</td>\n",
       "      <td>6</td>\n",
       "      <td>5</td>\n",
       "      <td>0</td>\n",
       "      <td>0</td>\n",
       "      <td>0</td>\n",
       "      <td>0</td>\n",
       "      <td>0</td>\n",
       "      <td>0</td>\n",
       "      <td>0</td>\n",
       "      <td>43</td>\n",
       "      <td>1</td>\n",
       "      <td>161</td>\n",
       "      <td>422</td>\n",
       "      <td>6</td>\n",
       "    </tr>\n",
       "  </tbody>\n",
       "</table>\n",
       "</div>"
      ],
      "text/plain": [
       "      Unnamed: 0   Education Marital_Status   Income Dt_Customer  \\\n",
       "ID                                                                 \n",
       "5524           0  Graduation         Single  58138.0  2012-09-04   \n",
       "2174           1  Graduation         Single  46344.0  2014-03-08   \n",
       "4141           2  Graduation       Together  71613.0  2013-08-21   \n",
       "6182           3  Graduation       Together  26646.0  2014-02-10   \n",
       "5324           4         PhD        Married  58293.0  2014-01-19   \n",
       "\n",
       "      NumDealsPurchases  NumWebPurchases  NumCatalogPurchases  \\\n",
       "ID                                                              \n",
       "5524                  3                8                   10   \n",
       "2174                  2                1                    1   \n",
       "4141                  1                8                    2   \n",
       "6182                  2                2                    0   \n",
       "5324                  5                5                    3   \n",
       "\n",
       "      NumStorePurchases  NumWebVisitsMonth  AcceptedCmp3  AcceptedCmp4  \\\n",
       "ID                                                                       \n",
       "5524                  4                  7             0             0   \n",
       "2174                  2                  5             0             0   \n",
       "4141                 10                  4             0             0   \n",
       "6182                  4                  6             0             0   \n",
       "5324                  6                  5             0             0   \n",
       "\n",
       "      AcceptedCmp5  AcceptedCmp1  AcceptedCmp2  Complain  Response  Age  Kids  \\\n",
       "ID                                                                              \n",
       "5524             0             0             0         0         1   67     0   \n",
       "2174             0             0             0         0         0   70     2   \n",
       "4141             0             0             0         0         0   59     0   \n",
       "6182             0             0             0         0         0   40     1   \n",
       "5324             0             0             0         0         0   43     1   \n",
       "\n",
       "      Days_Enrolled  Total_Spend Recency_  \n",
       "ID                                         \n",
       "5524            663         1617        4  \n",
       "2174            113           27        2  \n",
       "4141            312          776        1  \n",
       "6182            139           53        1  \n",
       "5324            161          422        6  "
      ]
     },
     "execution_count": 540,
     "metadata": {},
     "output_type": "execute_result"
    }
   ],
   "source": [
    "df['Recency_'] = df['Recency_'].apply(lambda x : str(x))\n",
    "df.drop(columns = ['Recency'], inplace=True)\n",
    "df.head()\n"
   ]
  },
  {
   "cell_type": "code",
   "execution_count": 541,
   "metadata": {},
   "outputs": [],
   "source": [
    "df['CouponsAccepted'] = df['AcceptedCmp1']+df['AcceptedCmp2']+df['AcceptedCmp3']+df['AcceptedCmp4']+df['AcceptedCmp5']+df['Response']\n",
    "df.drop(columns=['AcceptedCmp1', 'AcceptedCmp2', 'AcceptedCmp3', 'AcceptedCmp4', 'AcceptedCmp5', 'Response', 'NumWebVisitsMonth'], inplace=True)"
   ]
  },
  {
   "cell_type": "code",
   "execution_count": 542,
   "metadata": {},
   "outputs": [],
   "source": [
    "df.rename(columns={'NumStorePurchases':'Store_Purchases'}, inplace=True)\n",
    "df['Non_Store_Purchases'] = df['NumWebPurchases']+df['NumCatalogPurchases']"
   ]
  },
  {
   "cell_type": "code",
   "execution_count": 543,
   "metadata": {},
   "outputs": [
    {
     "data": {
      "text/html": [
       "<div>\n",
       "<style scoped>\n",
       "    .dataframe tbody tr th:only-of-type {\n",
       "        vertical-align: middle;\n",
       "    }\n",
       "\n",
       "    .dataframe tbody tr th {\n",
       "        vertical-align: top;\n",
       "    }\n",
       "\n",
       "    .dataframe thead th {\n",
       "        text-align: right;\n",
       "    }\n",
       "</style>\n",
       "<table border=\"1\" class=\"dataframe\">\n",
       "  <thead>\n",
       "    <tr style=\"text-align: right;\">\n",
       "      <th></th>\n",
       "      <th>Unnamed: 0</th>\n",
       "      <th>Education</th>\n",
       "      <th>Marital_Status</th>\n",
       "      <th>Income</th>\n",
       "      <th>Dt_Customer</th>\n",
       "      <th>NumDealsPurchases</th>\n",
       "      <th>NumWebPurchases</th>\n",
       "      <th>NumCatalogPurchases</th>\n",
       "      <th>Store_Purchases</th>\n",
       "      <th>Complain</th>\n",
       "      <th>Age</th>\n",
       "      <th>Kids</th>\n",
       "      <th>Days_Enrolled</th>\n",
       "      <th>Total_Spend</th>\n",
       "      <th>Recency_</th>\n",
       "      <th>CouponsAccepted</th>\n",
       "      <th>Non_Store_Purchases</th>\n",
       "      <th>Total_Purchases</th>\n",
       "      <th>Store_Purchases_Pct</th>\n",
       "      <th>Non_Store_Purchases_Pct</th>\n",
       "      <th>Customer_Type</th>\n",
       "    </tr>\n",
       "    <tr>\n",
       "      <th>ID</th>\n",
       "      <th></th>\n",
       "      <th></th>\n",
       "      <th></th>\n",
       "      <th></th>\n",
       "      <th></th>\n",
       "      <th></th>\n",
       "      <th></th>\n",
       "      <th></th>\n",
       "      <th></th>\n",
       "      <th></th>\n",
       "      <th></th>\n",
       "      <th></th>\n",
       "      <th></th>\n",
       "      <th></th>\n",
       "      <th></th>\n",
       "      <th></th>\n",
       "      <th></th>\n",
       "      <th></th>\n",
       "      <th></th>\n",
       "      <th></th>\n",
       "      <th></th>\n",
       "    </tr>\n",
       "  </thead>\n",
       "  <tbody>\n",
       "    <tr>\n",
       "      <th>5524</th>\n",
       "      <td>0</td>\n",
       "      <td>Graduation</td>\n",
       "      <td>Single</td>\n",
       "      <td>58138.0</td>\n",
       "      <td>2012-09-04</td>\n",
       "      <td>3</td>\n",
       "      <td>8</td>\n",
       "      <td>10</td>\n",
       "      <td>4</td>\n",
       "      <td>0</td>\n",
       "      <td>67</td>\n",
       "      <td>0</td>\n",
       "      <td>663</td>\n",
       "      <td>1617</td>\n",
       "      <td>4</td>\n",
       "      <td>1</td>\n",
       "      <td>18</td>\n",
       "      <td>22</td>\n",
       "      <td>0.181818</td>\n",
       "      <td>0.818182</td>\n",
       "      <td>Online</td>\n",
       "    </tr>\n",
       "    <tr>\n",
       "      <th>2174</th>\n",
       "      <td>1</td>\n",
       "      <td>Graduation</td>\n",
       "      <td>Single</td>\n",
       "      <td>46344.0</td>\n",
       "      <td>2014-03-08</td>\n",
       "      <td>2</td>\n",
       "      <td>1</td>\n",
       "      <td>1</td>\n",
       "      <td>2</td>\n",
       "      <td>0</td>\n",
       "      <td>70</td>\n",
       "      <td>2</td>\n",
       "      <td>113</td>\n",
       "      <td>27</td>\n",
       "      <td>2</td>\n",
       "      <td>0</td>\n",
       "      <td>2</td>\n",
       "      <td>4</td>\n",
       "      <td>0.500000</td>\n",
       "      <td>0.500000</td>\n",
       "      <td>Offline</td>\n",
       "    </tr>\n",
       "    <tr>\n",
       "      <th>4141</th>\n",
       "      <td>2</td>\n",
       "      <td>Graduation</td>\n",
       "      <td>Together</td>\n",
       "      <td>71613.0</td>\n",
       "      <td>2013-08-21</td>\n",
       "      <td>1</td>\n",
       "      <td>8</td>\n",
       "      <td>2</td>\n",
       "      <td>10</td>\n",
       "      <td>0</td>\n",
       "      <td>59</td>\n",
       "      <td>0</td>\n",
       "      <td>312</td>\n",
       "      <td>776</td>\n",
       "      <td>1</td>\n",
       "      <td>0</td>\n",
       "      <td>10</td>\n",
       "      <td>20</td>\n",
       "      <td>0.500000</td>\n",
       "      <td>0.500000</td>\n",
       "      <td>Offline</td>\n",
       "    </tr>\n",
       "    <tr>\n",
       "      <th>6182</th>\n",
       "      <td>3</td>\n",
       "      <td>Graduation</td>\n",
       "      <td>Together</td>\n",
       "      <td>26646.0</td>\n",
       "      <td>2014-02-10</td>\n",
       "      <td>2</td>\n",
       "      <td>2</td>\n",
       "      <td>0</td>\n",
       "      <td>4</td>\n",
       "      <td>0</td>\n",
       "      <td>40</td>\n",
       "      <td>1</td>\n",
       "      <td>139</td>\n",
       "      <td>53</td>\n",
       "      <td>1</td>\n",
       "      <td>0</td>\n",
       "      <td>2</td>\n",
       "      <td>6</td>\n",
       "      <td>0.666667</td>\n",
       "      <td>0.333333</td>\n",
       "      <td>Offline</td>\n",
       "    </tr>\n",
       "    <tr>\n",
       "      <th>5324</th>\n",
       "      <td>4</td>\n",
       "      <td>PhD</td>\n",
       "      <td>Married</td>\n",
       "      <td>58293.0</td>\n",
       "      <td>2014-01-19</td>\n",
       "      <td>5</td>\n",
       "      <td>5</td>\n",
       "      <td>3</td>\n",
       "      <td>6</td>\n",
       "      <td>0</td>\n",
       "      <td>43</td>\n",
       "      <td>1</td>\n",
       "      <td>161</td>\n",
       "      <td>422</td>\n",
       "      <td>6</td>\n",
       "      <td>0</td>\n",
       "      <td>8</td>\n",
       "      <td>14</td>\n",
       "      <td>0.428571</td>\n",
       "      <td>0.571429</td>\n",
       "      <td>Online</td>\n",
       "    </tr>\n",
       "  </tbody>\n",
       "</table>\n",
       "</div>"
      ],
      "text/plain": [
       "      Unnamed: 0   Education Marital_Status   Income Dt_Customer  \\\n",
       "ID                                                                 \n",
       "5524           0  Graduation         Single  58138.0  2012-09-04   \n",
       "2174           1  Graduation         Single  46344.0  2014-03-08   \n",
       "4141           2  Graduation       Together  71613.0  2013-08-21   \n",
       "6182           3  Graduation       Together  26646.0  2014-02-10   \n",
       "5324           4         PhD        Married  58293.0  2014-01-19   \n",
       "\n",
       "      NumDealsPurchases  NumWebPurchases  NumCatalogPurchases  \\\n",
       "ID                                                              \n",
       "5524                  3                8                   10   \n",
       "2174                  2                1                    1   \n",
       "4141                  1                8                    2   \n",
       "6182                  2                2                    0   \n",
       "5324                  5                5                    3   \n",
       "\n",
       "      Store_Purchases  Complain  Age  Kids  Days_Enrolled  Total_Spend  \\\n",
       "ID                                                                       \n",
       "5524                4         0   67     0            663         1617   \n",
       "2174                2         0   70     2            113           27   \n",
       "4141               10         0   59     0            312          776   \n",
       "6182                4         0   40     1            139           53   \n",
       "5324                6         0   43     1            161          422   \n",
       "\n",
       "     Recency_  CouponsAccepted  Non_Store_Purchases  Total_Purchases  \\\n",
       "ID                                                                     \n",
       "5524        4                1                   18               22   \n",
       "2174        2                0                    2                4   \n",
       "4141        1                0                   10               20   \n",
       "6182        1                0                    2                6   \n",
       "5324        6                0                    8               14   \n",
       "\n",
       "      Store_Purchases_Pct  Non_Store_Purchases_Pct Customer_Type  \n",
       "ID                                                                \n",
       "5524             0.181818                 0.818182        Online  \n",
       "2174             0.500000                 0.500000       Offline  \n",
       "4141             0.500000                 0.500000       Offline  \n",
       "6182             0.666667                 0.333333       Offline  \n",
       "5324             0.428571                 0.571429        Online  "
      ]
     },
     "execution_count": 543,
     "metadata": {},
     "output_type": "execute_result"
    }
   ],
   "source": [
    "df['Total_Purchases'] = df['Store_Purchases']+df['Non_Store_Purchases']\n",
    "df['Store_Purchases_Pct'] = df['Store_Purchases']/df['Total_Purchases']\n",
    "df['Non_Store_Purchases_Pct'] = 1-df['Store_Purchases_Pct']\n",
    "df['Customer_Type'] = np.where(df['Store_Purchases_Pct'] >= 0.5, \"Offline\", \"Online\")\n",
    "df.head()\n"
   ]
  },
  {
   "cell_type": "code",
   "execution_count": 544,
   "metadata": {},
   "outputs": [],
   "source": [
    "df.drop(columns=['Store_Purchases_Pct', 'Non_Store_Purchases_Pct', 'Non_Store_Purchases', 'NumWebPurchases', 'NumWebPurchases', 'NumCatalogPurchases', 'Store_Purchases'], inplace=True)\n"
   ]
  },
  {
   "cell_type": "code",
   "execution_count": 545,
   "metadata": {},
   "outputs": [
    {
     "name": "stdout",
     "output_type": "stream",
     "text": [
      "The youngest customer is 28 years old and oldest customer is 84 years old\n"
     ]
    }
   ],
   "source": [
    "print(f\"The youngest customer is {df['Age'].min()} years old and oldest customer is {df['Age'].max()} years old\")"
   ]
  },
  {
   "cell_type": "code",
   "execution_count": 546,
   "metadata": {},
   "outputs": [
    {
     "data": {
      "application/vnd.plotly.v1+json": {
       "config": {
        "plotlyServerURL": "https://plot.ly"
       },
       "data": [
        {
         "name": "Income",
         "type": "box",
         "xaxis": "x",
         "y": [
          58138,
          46344,
          71613,
          26646,
          58293,
          62513,
          55635,
          33454,
          30351,
          5648,
          52247.25135379061,
          7500,
          63033,
          59354,
          17323,
          82800,
          41850,
          37760,
          76995,
          33812,
          37040,
          2447,
          58607,
          65324,
          40689,
          18589,
          53359,
          52247.25135379061,
          38360,
          84618,
          10979,
          38620,
          40548,
          46610,
          68657,
          49389,
          67353,
          23718,
          42429,
          48948,
          80011,
          20559,
          21994,
          52247.25135379061,
          7500,
          79941,
          7500,
          41728,
          52247.25135379061,
          72550,
          65486,
          79143,
          35790,
          82582,
          66373,
          82384,
          70287,
          27938,
          52247.25135379061,
          55954,
          75777,
          66653,
          61823,
          67680,
          70666,
          25721,
          32474,
          88194,
          69096,
          74854,
          66991,
          52247.25135379061,
          65031,
          60631,
          28332,
          40246,
          75251,
          75825,
          26326,
          56046,
          29760,
          26304,
          23559,
          38620,
          81361,
          29440,
          36138,
          50388,
          79593,
          54178,
          52247.25135379061,
          52247.25135379061,
          52247.25135379061,
          42394,
          23626,
          30096,
          47916,
          51813,
          78497,
          50150,
          47823,
          34554,
          85693,
          65846,
          87195,
          24594,
          49096,
          52413,
          38557,
          89058,
          77298,
          68126,
          57288,
          86037,
          43974,
          50785,
          90765,
          36550,
          30753,
          21918,
          56129,
          32557,
          19510,
          30992,
          101970,
          71488,
          79607,
          54348,
          52247.25135379061,
          77376,
          62998,
          61331,
          73448,
          52247.25135379061,
          41551,
          62981,
          9548,
          33762,
          35860,
          36921,
          92859,
          65104,
          86111,
          68352,
          41883,
          59809,
          23957,
          38547,
          35688,
          49605,
          59354,
          65747,
          46344,
          34176,
          61010,
          69372,
          49967,
          60199,
          55375,
          80317,
          30523,
          70356,
          23228,
          74165,
          157243,
          43482,
          62551,
          52332,
          66951,
          26091,
          33456,
          28718,
          50447,
          53537,
          52074,
          80427,
          83837,
          38853,
          38285,
          78497,
          51650,
          16248,
          66835,
          30477,
          28249,
          25271,
          32303,
          61286,
          74068,
          45759,
          24882,
          66973,
          38872,
          51148,
          31353,
          69661,
          80067,
          86718,
          46854,
          69142,
          75922,
          63693,
          102160,
          40637,
          18890,
          29604,
          48721,
          44794,
          64497,
          46097,
          77972,
          44377,
          46014,
          70951,
          41443,
          52195,
          83790,
          44551,
          69508,
          45204,
          72460,
          77622,
          30732,
          63887,
          42011,
          51369,
          51537,
          79930,
          34320,
          37070,
          81975,
          38590,
          15033,
          62745,
          22212,
          23661,
          79761,
          7500,
          73455,
          64961,
          22804,
          73687,
          61074,
          31686,
          80134,
          75027,
          67546,
          65176,
          31160,
          29938,
          102692,
          26490,
          75702,
          30899,
          63342,
          45989,
          18701,
          40737,
          15287,
          69674,
          44159,
          37717,
          43776,
          38179,
          80124,
          38097,
          72940,
          22070,
          69267,
          31788,
          61905,
          29315,
          33378,
          66313,
          60714,
          77882,
          69867,
          63841,
          24480,
          51369,
          37760,
          65640,
          44319,
          30631,
          75278,
          50898,
          79946,
          35416,
          32414,
          38361,
          82497,
          16626,
          29672,
          55951,
          35388,
          42386,
          68627,
          57912,
          35246,
          58821,
          46377,
          39747,
          23976,
          80950,
          27038,
          77457,
          64100,
          42670,
          12571,
          22574,
          52247.25135379061,
          70893,
          54198,
          28839,
          40321,
          66503,
          30833,
          52247.25135379061,
          64795,
          34421,
          47025,
          64325,
          40464,
          62187,
          14849,
          27255,
          54432,
          29999,
          24072,
          33996,
          66334,
          35178,
          22010,
          62204,
          75693,
          30675,
          83003,
          68655,
          41411,
          55212,
          59292,
          27190,
          82623,
          44300,
          84835,
          30372,
          33181,
          71113,
          71952,
          69759,
          72099,
          60000,
          38643,
          50737,
          68462,
          65073,
          46681,
          78618,
          62187,
          28442,
          37717,
          51479,
          54803,
          79530,
          31615,
          72025,
          52614,
          35684,
          48178,
          29548,
          63810,
          38578,
          46098,
          22585,
          30279,
          66426,
          30822,
          33581,
          19986,
          27421,
          35688,
          36143,
          10245,
          43795,
          63381,
          38823,
          83664,
          90300,
          62499,
          74293,
          51012,
          70777,
          68682,
          43824,
          15345,
          23442,
          14515,
          31395,
          75276,
          42373,
          30507,
          55521,
          48006,
          27213,
          65808,
          30351,
          50437,
          23616,
          53858,
          66465,
          46923,
          75072,
          75865,
          19789,
          80134,
          91065,
          49505,
          37401,
          30096,
          18492,
          82584,
          93027,
          48686,
          92910,
          75433,
          10404,
          61314,
          84865,
          42387,
          67309,
          75236,
          30015,
          50943,
          67272,
          51529,
          32011,
          7500,
          28691,
          56223,
          18100,
          30279,
          20130,
          23295,
          42618,
          81246,
          24027,
          55707,
          57959,
          56796,
          36230,
          70829,
          65991,
          38988,
          89572,
          42207,
          50300,
          66664,
          60597,
          70165,
          50520,
          80124,
          33183,
          66582,
          75261,
          31880,
          53790,
          49269,
          61456,
          37406,
          56937,
          38415,
          20518,
          62503,
          41644,
          55842,
          62010,
          41124,
          38961,
          37760,
          32233,
          43057,
          83151,
          78825,
          65104,
          60093,
          14045,
          28457,
          78952,
          46310,
          76005,
          58308,
          55614,
          59432,
          55563,
          78642,
          67911,
          65275,
          27203,
          48330,
          24279,
          64355,
          50943,
          53653,
          65665,
          81217,
          34935,
          61250,
          39665,
          60152,
          48920,
          89120,
          44124,
          81169,
          36443,
          26095,
          71367,
          80184,
          30630,
          73454,
          42691,
          70503,
          25545,
          32880,
          77863,
          50353,
          61839,
          49154,
          47682,
          72679,
          57954,
          65316,
          28567,
          47352,
          44931,
          76982,
          57247,
          22944,
          25315,
          43638,
          42710,
          84169,
          54058,
          24683,
          85620,
          47850,
          19514,
          27159,
          39548,
          21474,
          60504,
          22419,
          81698,
          43462,
          54880,
          79908,
          15315,
          87771,
          33039,
          81741,
          71499,
          62466,
          48799,
          52157,
          66565,
          29298,
          47691,
          38200,
          44989,
          38443,
          38593,
          64413,
          36959,
          61996,
          51287,
          13260,
          47472,
          54603,
          45207,
          40689,
          47821,
          27450,
          39453,
          26850,
          79800,
          61794,
          53863,
          24221,
          39684,
          92163,
          69882,
          33178,
          59973,
          17459,
          23910,
          42169,
          26224,
          31089,
          30081,
          62807,
          72906,
          61467,
          49618,
          21888,
          42429,
          26150,
          30801,
          81168,
          26877,
          45006,
          18978,
          22574,
          48240,
          45837,
          35791,
          162397,
          54162,
          30522,
          54456,
          31632,
          72298,
          36975,
          72635,
          13624,
          84196,
          70971,
          34487,
          28769,
          69084,
          65488,
          62466,
          32218,
          83917,
          46102,
          84574,
          56181,
          63120,
          73691,
          63381,
          76140,
          62859,
          45906,
          77632,
          46463,
          105471,
          55282,
          78710,
          66886,
          98777,
          29103,
          67445,
          50616,
          49431,
          153924,
          61278,
          26490,
          73059,
          46734,
          56253,
          19986,
          58330,
          25965,
          14661,
          18690,
          45068,
          21063,
          29187,
          54690,
          59304,
          59247,
          66731,
          77353,
          52614,
          26751,
          81300,
          70337,
          36145,
          65295,
          68118,
          68743,
          41039,
          38946,
          65777,
          66476,
          86857,
          160803,
          77845,
          69476,
          50611,
          61209,
          42315,
          13084,
          47570,
          61923,
          34824,
          26518,
          45938,
          78468,
          78901,
          71427,
          71022,
          90247,
          41335,
          71952,
          35682,
          43185,
          66375,
          35178,
          25252,
          55250,
          33249,
          58398,
          50272,
          76618,
          87305,
          25851,
          58710,
          45160,
          74806,
          59111,
          18988,
          72190,
          7500,
          44794,
          80395,
          75012,
          56962,
          89891,
          35946,
          53593,
          66373,
          45072,
          89694,
          72025,
          67432,
          70545,
          17487,
          62882,
          64108,
          34941,
          48767,
          38702,
          82224,
          83844,
          17003,
          71163,
          33697,
          63564,
          83443,
          51518,
          58330,
          80952,
          75507,
          63855,
          62220,
          58512,
          40662,
          38829,
          35523,
          79146,
          78285,
          31626,
          75127,
          48726,
          74985,
          67430,
          46891,
          62058,
          72063,
          78939,
          42720,
          33622,
          6835,
          41452,
          40760,
          74250,
          51124,
          72258,
          71466,
          36283,
          20587,
          30467,
          31590,
          20425,
          17144,
          42564,
          43783,
          40780,
          62847,
          82017,
          16813,
          51267,
          46524,
          45183,
          70421,
          60161,
          73926,
          19329,
          61872,
          46984,
          34838,
          82716,
          48192,
          49681,
          56850,
          55267,
          59666,
          72504,
          26872,
          21359,
          73170,
          52750,
          91820,
          65968,
          30772,
          22507,
          65685,
          25804,
          76412,
          22063,
          57091,
          22419,
          87771,
          78353,
          93404,
          37859,
          80995,
          16529,
          55412,
          48789,
          56575,
          25130,
          35441,
          71391,
          49494,
          81702,
          45889,
          56628,
          34026,
          40049,
          34176,
          19419,
          82504,
          81205,
          61618,
          55284,
          49980,
          15072,
          49166,
          65324,
          82347,
          30843,
          46374,
          60474,
          38576,
          55357,
          37758,
          85710,
          23228,
          44602,
          7500,
          38683,
          49514,
          57906,
          43456,
          19485,
          53172,
          30545,
          70123,
          62450,
          21675,
          42395,
          61346,
          80812,
          42835,
          39922,
          86424,
          17117,
          24762,
          35797,
          36627,
          51111,
          86857,
          82072,
          46231,
          42243,
          51195,
          68092,
          31814,
          51390,
          76630,
          26868,
          48948,
          55260,
          64090,
          78331,
          37087,
          21846,
          81320,
          54137,
          66825,
          57100,
          58917,
          85072,
          86429,
          45684,
          47889,
          45921,
          78420,
          75114,
          52278,
          35641,
          95529,
          62820,
          73113,
          84169,
          42607,
          74637,
          46015,
          72354,
          39858,
          34469,
          83033,
          24401,
          77583,
          74116,
          74293,
          68397,
          79632,
          46107,
          64950,
          25443,
          75127,
          32892,
          71796,
          67536,
          55239,
          60554,
          64831,
          56067,
          82025,
          94384,
          14906,
          51563,
          57937,
          68274,
          39771,
          67893,
          27922,
          52190,
          44051,
          42767,
          46106,
          16927,
          59754,
          53700,
          59041,
          54237,
          70647,
          52597,
          41021,
          40233,
          50183,
          54753,
          92955,
          33471,
          34596,
          44010,
          84219,
          40706,
          15716,
          59052,
          80573,
          83715,
          82576,
          56962,
          35704,
          53103,
          46779,
          4861,
          33462,
          63693,
          80763,
          65352,
          82170,
          75759,
          79689,
          35340,
          85683,
          24884,
          42021,
          64449,
          64587,
          34824,
          75437,
          26091,
          52845,
          46086,
          78028,
          95169,
          56337,
          22434,
          36930,
          36130,
          65569,
          83844,
          19514,
          36736,
          77568,
          49187,
          30168,
          34053,
          38196,
          59412,
          70924,
          54165,
          32300,
          20180,
          34961,
          28440,
          64504,
          33564,
          17345,
          56320,
          28647,
          15038,
          32173,
          68316,
          74538,
          91700,
          68695,
          31056,
          79593,
          28071,
          37334,
          46423,
          37126,
          47703,
          61180,
          38998,
          8028,
          76081,
          34728,
          33168,
          33585,
          77037,
          35196,
          44529,
          70924,
          28764,
          69098,
          25959,
          27100,
          70596,
          42557,
          53312,
          72228,
          67605,
          62845,
          65196,
          42000,
          35860,
          65526,
          16860,
          83528,
          64176,
          22304,
          67023,
          32892,
          70713,
          59925,
          39722,
          46610,
          88347,
          87171,
          26907,
          50014,
          41014,
          66294,
          36715,
          79456,
          40479,
          75345,
          54233,
          24163,
          84460,
          43776,
          71691,
          85844,
          39190,
          71367,
          38578,
          57236,
          61825,
          79803,
          80910,
          27590,
          56775,
          83829,
          54210,
          38508,
          53187,
          30023,
          76045,
          50870,
          15315,
          65463,
          66480,
          76773,
          81698,
          54466,
          98777,
          16269,
          71819,
          33569,
          36262,
          22634,
          47025,
          70566,
          31605,
          52034,
          48526,
          46734,
          39552,
          86358,
          46931,
          16581,
          63998,
          67381,
          25930,
          42693,
          85606,
          72903,
          49669,
          36778,
          85696,
          10979,
          49678,
          56129,
          37155,
          21282,
          33419,
          63285,
          21255,
          42162,
          54450,
          57744,
          26576,
          57513,
          68142,
          7500,
          83145,
          54197,
          23091,
          46049,
          56715,
          79410,
          57304,
          44375,
          54450,
          59594,
          80685,
          40344,
          62710,
          48985,
          35322,
          77142,
          81657,
          14421,
          20130,
          74214,
          66726,
          23724,
          47353,
          33444,
          54386,
          28510,
          90638,
          48070,
          43140,
          54959,
          15056,
          26954,
          22327,
          44393,
          62000,
          31497,
          45894,
          78579,
          67369,
          58401,
          62307,
          43641,
          63841,
          46891,
          70091,
          78075,
          59184,
          54809,
          58113,
          51412,
          15287,
          66636,
          50965,
          84618,
          18351,
          40451,
          36317,
          42213,
          65748,
          77044,
          74918,
          56721,
          42160,
          61559,
          33629,
          68682,
          34377,
          8940,
          26228,
          77297,
          40211,
          33438,
          75032,
          61284,
          22518,
          54730,
          38452,
          44421,
          38197,
          41986,
          28427,
          37395,
          64722,
          55249,
          84906,
          28691,
          44213,
          25707,
          59062,
          76624,
          66000,
          27683,
          1730,
          7500,
          40521,
          20427,
          65106,
          69969,
          67433,
          77766,
          74716,
          68118,
          55158,
          62972,
          74190,
          39356,
          76653,
          35860,
          90687,
          73450,
          31454,
          47139,
          83829,
          53378,
          19656,
          45579,
          85485,
          55956,
          64191,
          38808,
          57183,
          23748,
          66303,
          37368,
          40800,
          71847,
          46149,
          78687,
          49118,
          37633,
          39767,
          26997,
          33986,
          57091,
          46831,
          83151,
          52531,
          15759,
          22804,
          43050,
          42997,
          48918,
          60033,
          34043,
          57811,
          78569,
          7500,
          157733,
          94384,
          23148,
          44267,
          71626,
          60894,
          50200,
          81051,
          65169,
          59868,
          65695,
          64857,
          45143,
          74805,
          59060,
          27238,
          47009,
          46094,
          40321,
          37235,
          81843,
          46692,
          77382,
          37774,
          18393,
          72828,
          24711,
          45503,
          6560,
          71604,
          27244,
          48752,
          71434,
          90842,
          88097,
          51948,
          71853,
          35876,
          40049,
          39660,
          50127,
          43263,
          62845,
          18929,
          24367,
          33249,
          26887,
          50150,
          62061,
          85696,
          76542,
          70515,
          18227,
          69139,
          69109,
          69627,
          38136,
          62159,
          80695,
          33316,
          58554,
          17256,
          53034,
          52203,
          59601,
          75154,
          47025,
          37971,
          41335,
          67267,
          57338,
          50523,
          35791,
          50611,
          56242,
          48904,
          56243,
          21355,
          57420,
          52247.25135379061,
          46390,
          54342,
          52247.25135379061,
          52247.25135379061,
          20895,
          92344,
          52247.25135379061,
          26907,
          44964,
          75507,
          53761,
          22682,
          38887,
          41658,
          29791,
          63915,
          39996,
          26759,
          63841,
          51039,
          60544,
          65685,
          37716,
          36864,
          44511,
          36947,
          47352,
          67087,
          57045,
          36957,
          69389,
          80134,
          43142,
          80589,
          34412,
          57537,
          22634,
          51315,
          36026,
          24639,
          34578,
          65704,
          63810,
          54132,
          18690,
          28164,
          34596,
          43269,
          38741,
          31907,
          27100,
          31163,
          92533,
          34853,
          70844,
          31086,
          60544,
          20491,
          42523,
          39922,
          33402,
          36408,
          21645,
          78427,
          82657,
          51876,
          78041,
          52852,
          70038,
          69401,
          46053,
          77343,
          73892,
          40304,
          32727,
          68695,
          43300,
          26290,
          93790,
          38410,
          64866,
          57957,
          46015,
          16531,
          28072,
          49476,
          50725,
          83844,
          41145,
          67419,
          23162,
          34380,
          34704,
          94871,
          65148,
          39898,
          64857,
          59892,
          41020,
          57072,
          60474,
          62807,
          19414,
          19107,
          75484,
          70379,
          79419,
          64014,
          76998,
          49854,
          60585,
          42873,
          87679,
          57867,
          35765,
          65492,
          32952,
          53374,
          71706,
          68487,
          53253,
          31163,
          42014,
          54108,
          49667,
          63206,
          57136,
          46772,
          78931,
          53977,
          84219,
          46098,
          73538,
          79529,
          20981,
          51766,
          55759,
          33039,
          37787,
          27242,
          87188,
          69930,
          37697,
          37401,
          3502,
          58597,
          82032,
          28087,
          74004,
          19740,
          57036,
          53083,
          69283,
          46098,
          23331,
          23331,
          9255,
          67786,
          71969,
          59235,
          31928,
          74881,
          65819,
          51411,
          51983,
          42386,
          30390,
          30983,
          66033,
          37284,
          57530,
          76800,
          63943,
          76081,
          67445,
          37054,
          47175,
          31859,
          27215,
          70179,
          39922,
          49681,
          24645,
          79865,
          44322,
          47958,
          63972,
          75315,
          55517,
          75283,
          82800,
          38998,
          90638,
          27161,
          42014,
          38201,
          45203,
          81574,
          34935,
          60482,
          34633,
          78093,
          82460,
          45903,
          81361,
          35860,
          40442,
          61482,
          34968,
          75794,
          31497,
          74268,
          13724,
          45143,
          52569,
          48432,
          17144,
          36108,
          76445,
          36663,
          53843,
          90226,
          70638,
          44512,
          27116,
          54072,
          71855,
          51250,
          60432,
          65526,
          68655,
          12393,
          64509,
          33955,
          31353,
          55434,
          28359,
          57100,
          69139,
          52973,
          51717,
          18793,
          66664,
          50664,
          54414,
          54549,
          47111,
          41003,
          19444,
          36301,
          73059,
          42731,
          52854,
          22775,
          46681,
          59821,
          50002,
          69755,
          44078,
          30560,
          35924,
          64140,
          56386,
          24594,
          75774,
          39228,
          58494,
          58684,
          57136,
          56551,
          22448,
          82014,
          34213,
          157146,
          25358,
          35544,
          36634,
          62670,
          50334,
          72066,
          50729,
          34916,
          64892,
          43602,
          33996,
          41473,
          63246,
          36732,
          69084,
          77766,
          37929,
          86610,
          80141,
          72635,
          69016,
          20193,
          27573,
          15862,
          49544,
          33228,
          70440,
          38232,
          22554,
          23536,
          49413,
          42231,
          78789,
          56534,
          58350,
          81217,
          49090,
          61787,
          18169,
          24336,
          18222,
          62335,
          42033,
          86580,
          41437,
          73705,
          61064,
          38452,
          18358,
          55012,
          9722,
          38175,
          58656,
          52117,
          64813,
          54222,
          83512,
          77520,
          41154,
          80398,
          18746,
          35196,
          60230,
          22108,
          44392,
          55424,
          17688,
          92491,
          90273,
          82571,
          38513,
          16653,
          42586,
          23529,
          74881,
          71107,
          46910,
          18690,
          37244,
          82427,
          75342,
          70044,
          79146,
          77437,
          54984,
          42403,
          55761,
          37292,
          45576,
          70321,
          58086,
          81795,
          28389,
          66835,
          69901,
          80360,
          63342,
          44989,
          31859,
          51569,
          30372,
          16014,
          41120,
          39763,
          38725,
          77981,
          62905,
          13533,
          59481,
          72117,
          21955,
          67131,
          36802,
          71853,
          28249,
          47808,
          25509,
          51012,
          70596,
          85431,
          42664,
          42586,
          29760,
          28973,
          39435,
          65370,
          20194,
          42473,
          64590,
          71232,
          34600,
          46904,
          49094,
          36075,
          60839,
          77298,
          34026,
          48918,
          82122,
          37697,
          34074,
          28520,
          62535,
          36273,
          63404,
          75774,
          78416,
          75702,
          59385,
          37070,
          44689,
          53977,
          7144,
          18701,
          90369,
          63159,
          37758,
          46757,
          79734,
          63207,
          72071,
          21840,
          58582,
          72282,
          50387,
          32583,
          62568,
          44635,
          33316,
          63967,
          52513,
          25293,
          54111,
          78394,
          80739,
          22669,
          29236,
          44911,
          54693,
          48186,
          54809,
          41580,
          80336,
          47743,
          62972,
          57333,
          32313,
          84953,
          27071,
          68148,
          65735,
          86836,
          4023,
          30093,
          57705,
          25008,
          83257,
          22280,
          72159,
          64260,
          82733,
          74290,
          58217,
          21024,
          70116,
          54006,
          69063,
          11448,
          61825,
          70886,
          69109,
          60208,
          32889,
          34738,
          30538,
          82326,
          26642,
          69932,
          44503,
          60200,
          49638,
          23830,
          33051,
          72905,
          69702,
          70300,
          70643,
          30396,
          50616,
          62772,
          30298,
          52413,
          44155,
          86979,
          76532,
          42081,
          67546,
          88420,
          31158,
          61671,
          69719,
          49160,
          24882,
          90933,
          113734,
          59292,
          45759,
          22148,
          73395,
          29819,
          45688,
          62820,
          60491,
          33235,
          35701,
          31535,
          92556,
          67384,
          80573,
          77870,
          52278,
          57107,
          18929,
          36038,
          20180,
          34230,
          31878,
          70932,
          91249,
          77598,
          80982,
          22701,
          55212,
          70617,
          64849,
          62694,
          61917,
          67472,
          21059,
          29543,
          75903,
          34984,
          54998,
          54356,
          34242,
          25410,
          73356,
          28320,
          23763,
          72570,
          34529,
          70792,
          63211,
          83891,
          36065,
          39898,
          51141,
          56939,
          80872,
          72335,
          61798,
          76842,
          29478,
          46998,
          96843,
          56551,
          70053,
          71670,
          44359,
          40887,
          48877,
          74485,
          64474,
          77226,
          72643,
          85738,
          55686,
          39062,
          34600,
          40794,
          54690,
          4428,
          32632,
          38236,
          36781,
          31385,
          24570,
          25509,
          94642,
          58646,
          53201,
          21994,
          57113,
          51373,
          23477,
          58116,
          72968,
          39791,
          91712,
          94472,
          13672,
          96547,
          79205,
          56559,
          32644,
          67506,
          24206,
          28420,
          22979,
          33279,
          46423,
          30368,
          63684,
          41638,
          68805,
          65814,
          71964,
          39146,
          96876,
          34445,
          68281,
          37284,
          36790,
          27943,
          22263,
          30261,
          28587,
          43815,
          48195,
          77027,
          71322,
          32765,
          29672,
          23272,
          49912,
          7500,
          68117,
          67225,
          17649,
          55914,
          40059,
          60905,
          75330,
          60689,
          38680,
          61416,
          49767,
          83273,
          29009,
          45057,
          37150,
          43020,
          53154,
          65308,
          76467,
          81044,
          32871,
          55801,
          76320,
          36927,
          48794,
          23478,
          71128,
          70179,
          59462,
          52247.25135379061,
          38361,
          52247.25135379061,
          70038,
          42554,
          67445,
          67046,
          42192,
          77610,
          31761,
          34350,
          54591,
          71866,
          25293,
          42000,
          69520,
          64713,
          27889,
          22123,
          52247.25135379061,
          52247.25135379061,
          27803,
          52247.25135379061,
          51651,
          68487,
          52247.25135379061,
          56796,
          87000,
          79823,
          30828,
          34109,
          53367,
          22390,
          71322,
          79244,
          49912,
          48699,
          80144,
          54252,
          81929,
          76068,
          53204,
          67911,
          14796,
          78128,
          14188,
          20425,
          58646,
          72967,
          48150,
          82332,
          58275,
          44953,
          34587,
          43018,
          45736,
          66476,
          27733,
          69805,
          72217,
          25818,
          37509,
          25176,
          43586,
          53230,
          50116,
          84906,
          61286,
          82333,
          65220,
          33590,
          30992,
          72309,
          156924,
          16005,
          65487,
          58692,
          40590,
          20587,
          62637,
          29435,
          19346,
          35788,
          36997,
          23539,
          65333,
          78499,
          29732,
          41275,
          63516,
          42769,
          49572,
          69209,
          17148,
          40590,
          30560,
          32146,
          41713,
          34176,
          58482,
          59686,
          60896,
          62994,
          47320,
          74859,
          15253,
          31560,
          72071,
          91172,
          90000,
          41967,
          69263,
          65706,
          60934,
          71965,
          65210,
          79174,
          81380,
          48432,
          52914,
          38946,
          26067,
          44325,
          42523,
          26487,
          53233,
          67716,
          76234,
          84117,
          65487,
          25224,
          89616,
          40851,
          27469,
          82347,
          73803,
          8820,
          43322,
          55593,
          50501,
          37085,
          16185,
          57731,
          48432,
          73807,
          18929,
          35893,
          61014,
          32144,
          14918,
          45146,
          41769,
          88325,
          38054,
          80617,
          5305,
          36807,
          28427,
          82032,
          22775,
          40101,
          58025,
          75777,
          7500,
          33562,
          57642,
          58554,
          63777,
          57967,
          52247.25135379061,
          24434,
          11012,
          44802,
          26816,
          34421,
          61223,
          64014,
          56981,
          69245,
          52869
         ],
         "yaxis": "y"
        },
        {
         "name": "Age",
         "type": "box",
         "xaxis": "x2",
         "y": [
          67,
          70,
          59,
          40,
          43,
          57,
          53,
          39,
          50,
          74,
          41,
          48,
          65,
          72,
          37,
          78,
          44,
          78,
          75,
          39,
          42,
          45,
          75,
          70,
          73,
          55,
          48,
          38,
          35,
          59,
          35,
          61,
          54,
          72,
          78,
          73,
          54,
          48,
          51,
          81,
          44,
          39,
          67,
          65,
          49,
          48,
          28,
          56,
          73,
          70,
          67,
          60,
          47,
          47,
          46,
          69,
          58,
          36,
          42,
          56,
          42,
          49,
          72,
          73,
          76,
          53,
          57,
          45,
          66,
          54,
          70,
          51,
          65,
          49,
          72,
          47,
          52,
          48,
          48,
          59,
          39,
          55,
          51,
          61,
          37,
          64,
          54,
          67,
          51,
          57,
          67,
          67,
          51,
          52,
          54,
          41,
          64,
          52,
          73,
          41,
          64,
          65,
          45,
          79,
          65,
          45,
          60,
          55,
          46,
          64,
          45,
          33,
          61,
          33,
          44,
          62,
          54,
          46,
          57,
          55,
          71,
          57,
          39,
          48,
          41,
          59,
          40,
          71,
          63,
          68,
          72,
          66,
          55,
          61,
          60,
          57,
          48,
          65,
          51,
          59,
          32,
          48,
          62,
          50,
          36,
          48,
          49,
          43,
          51,
          58,
          71,
          55,
          52,
          36,
          72,
          75,
          66,
          46,
          47,
          69,
          66,
          79,
          40,
          49,
          51,
          58,
          71,
          65,
          36,
          67,
          59,
          42,
          54,
          65,
          57,
          49,
          76,
          54,
          65,
          73,
          48,
          36,
          78,
          40,
          63,
          41,
          54,
          58,
          48,
          60,
          46,
          35,
          36,
          51,
          47,
          44,
          70,
          70,
          51,
          72,
          56,
          46,
          47,
          59,
          40,
          36,
          61,
          58,
          70,
          68,
          70,
          56,
          50,
          39,
          47,
          46,
          76,
          70,
          44,
          36,
          55,
          54,
          44,
          62,
          46,
          48,
          72,
          52,
          38,
          58,
          62,
          53,
          73,
          59,
          49,
          42,
          66,
          51,
          56,
          66,
          53,
          34,
          66,
          60,
          52,
          71,
          36,
          55,
          49,
          39,
          50,
          66,
          57,
          50,
          63,
          60,
          60,
          67,
          45,
          56,
          54,
          46,
          72,
          58,
          61,
          54,
          54,
          54,
          71,
          41,
          49,
          64,
          61,
          61,
          68,
          43,
          38,
          56,
          43,
          48,
          78,
          50,
          49,
          50,
          72,
          68,
          58,
          75,
          40,
          55,
          44,
          53,
          59,
          72,
          36,
          38,
          42,
          59,
          66,
          68,
          46,
          36,
          40,
          63,
          58,
          77,
          60,
          32,
          48,
          57,
          35,
          48,
          58,
          68,
          52,
          39,
          73,
          54,
          53,
          50,
          59,
          63,
          71,
          67,
          48,
          40,
          74,
          38,
          41,
          35,
          68,
          53,
          41,
          64,
          56,
          52,
          59,
          36,
          38,
          55,
          74,
          51,
          72,
          59,
          54,
          53,
          48,
          67,
          38,
          58,
          50,
          48,
          46,
          69,
          55,
          81,
          76,
          67,
          55,
          46,
          46,
          57,
          55,
          64,
          48,
          62,
          49,
          40,
          49,
          54,
          58,
          52,
          49,
          54,
          35,
          63,
          55,
          55,
          39,
          70,
          51,
          43,
          53,
          56,
          64,
          75,
          56,
          45,
          45,
          31,
          78,
          56,
          33,
          53,
          40,
          37,
          44,
          68,
          59,
          50,
          64,
          69,
          59,
          52,
          53,
          50,
          61,
          42,
          48,
          69,
          37,
          62,
          81,
          49,
          30,
          43,
          53,
          51,
          41,
          42,
          50,
          83,
          71,
          38,
          35,
          35,
          56,
          63,
          35,
          57,
          60,
          54,
          68,
          58,
          75,
          53,
          38,
          35,
          76,
          78,
          35,
          50,
          65,
          52,
          60,
          48,
          71,
          69,
          55,
          53,
          44,
          48,
          52,
          58,
          40,
          72,
          42,
          60,
          75,
          66,
          61,
          49,
          55,
          69,
          54,
          73,
          53,
          49,
          44,
          43,
          46,
          36,
          68,
          52,
          47,
          52,
          47,
          51,
          52,
          50,
          49,
          64,
          60,
          48,
          50,
          55,
          72,
          66,
          48,
          69,
          60,
          80,
          62,
          46,
          53,
          75,
          80,
          74,
          63,
          34,
          39,
          68,
          71,
          48,
          35,
          32,
          65,
          43,
          45,
          60,
          65,
          78,
          49,
          63,
          34,
          65,
          80,
          59,
          37,
          33,
          71,
          37,
          38,
          66,
          47,
          60,
          64,
          49,
          55,
          47,
          62,
          42,
          73,
          57,
          57,
          72,
          43,
          47,
          55,
          40,
          42,
          48,
          34,
          60,
          44,
          56,
          51,
          61,
          35,
          53,
          61,
          75,
          72,
          46,
          42,
          54,
          65,
          46,
          44,
          53,
          54,
          61,
          74,
          62,
          73,
          45,
          54,
          50,
          56,
          46,
          54,
          43,
          47,
          56,
          54,
          58,
          68,
          50,
          73,
          57,
          73,
          41,
          53,
          69,
          63,
          69,
          65,
          40,
          49,
          59,
          47,
          52,
          49,
          55,
          55,
          46,
          43,
          63,
          64,
          69,
          76,
          58,
          38,
          51,
          68,
          49,
          59,
          55,
          80,
          51,
          57,
          55,
          50,
          59,
          48,
          46,
          64,
          63,
          53,
          75,
          46,
          69,
          48,
          49,
          64,
          47,
          47,
          54,
          66,
          54,
          64,
          51,
          62,
          72,
          62,
          74,
          53,
          64,
          76,
          65,
          60,
          77,
          53,
          54,
          54,
          47,
          66,
          64,
          39,
          50,
          74,
          69,
          49,
          71,
          66,
          77,
          58,
          61,
          39,
          49,
          44,
          68,
          65,
          50,
          37,
          56,
          53,
          60,
          62,
          54,
          44,
          49,
          50,
          61,
          45,
          39,
          44,
          61,
          57,
          42,
          69,
          57,
          48,
          52,
          42,
          35,
          55,
          64,
          54,
          66,
          72,
          75,
          63,
          29,
          75,
          63,
          64,
          51,
          46,
          46,
          36,
          56,
          38,
          54,
          73,
          76,
          53,
          38,
          59,
          49,
          71,
          42,
          49,
          64,
          46,
          54,
          66,
          59,
          70,
          40,
          59,
          48,
          58,
          69,
          48,
          59,
          33,
          75,
          71,
          46,
          76,
          51,
          75,
          51,
          72,
          35,
          55,
          71,
          68,
          74,
          46,
          60,
          72,
          49,
          29,
          54,
          70,
          52,
          66,
          49,
          55,
          45,
          46,
          52,
          60,
          45,
          65,
          43,
          57,
          36,
          46,
          72,
          69,
          47,
          37,
          59,
          68,
          45,
          73,
          59,
          52,
          67,
          71,
          59,
          66,
          69,
          53,
          50,
          48,
          54,
          52,
          52,
          38,
          64,
          56,
          46,
          48,
          79,
          67,
          74,
          46,
          63,
          62,
          70,
          59,
          51,
          56,
          54,
          68,
          73,
          80,
          66,
          48,
          53,
          67,
          52,
          52,
          43,
          52,
          49,
          69,
          38,
          54,
          48,
          70,
          52,
          46,
          44,
          52,
          63,
          61,
          65,
          65,
          70,
          62,
          66,
          40,
          48,
          32,
          57,
          44,
          57,
          68,
          52,
          44,
          44,
          47,
          74,
          50,
          36,
          43,
          64,
          54,
          33,
          68,
          61,
          44,
          50,
          70,
          67,
          58,
          50,
          45,
          51,
          39,
          58,
          35,
          55,
          55,
          37,
          35,
          49,
          51,
          58,
          38,
          46,
          45,
          41,
          65,
          48,
          43,
          46,
          71,
          53,
          41,
          68,
          46,
          52,
          49,
          49,
          43,
          52,
          54,
          71,
          65,
          62,
          46,
          51,
          59,
          41,
          33,
          81,
          52,
          68,
          66,
          50,
          38,
          66,
          54,
          57,
          51,
          55,
          47,
          63,
          53,
          50,
          38,
          58,
          32,
          61,
          52,
          30,
          70,
          64,
          42,
          70,
          70,
          69,
          31,
          55,
          76,
          38,
          45,
          46,
          42,
          31,
          48,
          50,
          35,
          73,
          35,
          72,
          53,
          53,
          54,
          53,
          49,
          72,
          62,
          41,
          71,
          38,
          37,
          42,
          45,
          47,
          49,
          45,
          48,
          51,
          53,
          48,
          48,
          59,
          72,
          51,
          67,
          57,
          62,
          55,
          49,
          44,
          65,
          51,
          51,
          50,
          44,
          36,
          56,
          36,
          65,
          53,
          62,
          65,
          59,
          72,
          70,
          64,
          59,
          45,
          46,
          74,
          50,
          46,
          55,
          48,
          68,
          70,
          52,
          43,
          35,
          70,
          29,
          46,
          67,
          51,
          68,
          68,
          37,
          43,
          37,
          70,
          70,
          71,
          72,
          56,
          61,
          45,
          48,
          46,
          56,
          53,
          73,
          59,
          55,
          51,
          48,
          51,
          50,
          71,
          58,
          46,
          57,
          46,
          37,
          66,
          60,
          53,
          53,
          55,
          47,
          51,
          44,
          66,
          52,
          53,
          71,
          65,
          70,
          33,
          62,
          38,
          59,
          58,
          64,
          40,
          58,
          59,
          58,
          75,
          54,
          41,
          39,
          50,
          73,
          72,
          37,
          75,
          66,
          37,
          51,
          60,
          63,
          32,
          59,
          68,
          46,
          53,
          58,
          69,
          71,
          66,
          63,
          43,
          48,
          56,
          46,
          59,
          53,
          68,
          42,
          54,
          47,
          54,
          66,
          41,
          66,
          51,
          50,
          65,
          52,
          59,
          45,
          66,
          38,
          42,
          45,
          49,
          45,
          38,
          54,
          52,
          64,
          72,
          54,
          50,
          59,
          70,
          41,
          51,
          64,
          40,
          53,
          41,
          41,
          58,
          46,
          56,
          45,
          51,
          45,
          70,
          62,
          58,
          47,
          39,
          72,
          73,
          57,
          46,
          48,
          39,
          50,
          56,
          62,
          35,
          63,
          71,
          35,
          46,
          62,
          79,
          50,
          43,
          68,
          70,
          38,
          81,
          60,
          45,
          50,
          64,
          61,
          48,
          50,
          63,
          73,
          59,
          68,
          59,
          30,
          50,
          52,
          56,
          56,
          76,
          55,
          28,
          50,
          34,
          67,
          45,
          64,
          72,
          43,
          43,
          33,
          74,
          67,
          63,
          66,
          53,
          39,
          59,
          72,
          62,
          50,
          54,
          55,
          64,
          72,
          55,
          56,
          59,
          55,
          52,
          63,
          47,
          65,
          66,
          45,
          67,
          68,
          59,
          34,
          67,
          59,
          67,
          69,
          52,
          55,
          52,
          49,
          59,
          61,
          33,
          61,
          38,
          51,
          67,
          43,
          66,
          65,
          69,
          38,
          49,
          69,
          53,
          38,
          46,
          41,
          48,
          53,
          68,
          52,
          35,
          72,
          40,
          57,
          62,
          77,
          46,
          53,
          32,
          56,
          51,
          49,
          59,
          72,
          57,
          52,
          61,
          54,
          69,
          49,
          48,
          55,
          51,
          41,
          42,
          64,
          72,
          49,
          61,
          54,
          76,
          66,
          80,
          61,
          52,
          58,
          56,
          53,
          49,
          60,
          46,
          49,
          41,
          53,
          67,
          73,
          73,
          54,
          52,
          55,
          52,
          53,
          68,
          53,
          51,
          47,
          61,
          70,
          46,
          58,
          78,
          46,
          53,
          71,
          39,
          54,
          45,
          58,
          48,
          59,
          42,
          52,
          64,
          68,
          59,
          69,
          35,
          62,
          59,
          51,
          52,
          40,
          64,
          66,
          56,
          47,
          50,
          62,
          42,
          49,
          42,
          79,
          45,
          55,
          62,
          76,
          46,
          49,
          42,
          41,
          72,
          42,
          62,
          47,
          75,
          34,
          42,
          49,
          65,
          41,
          48,
          62,
          68,
          31,
          37,
          59,
          42,
          62,
          46,
          78,
          61,
          53,
          56,
          32,
          50,
          74,
          47,
          66,
          48,
          51,
          56,
          66,
          49,
          64,
          59,
          64,
          55,
          64,
          49,
          39,
          53,
          54,
          69,
          68,
          66,
          60,
          51,
          76,
          52,
          48,
          44,
          45,
          52,
          51,
          52,
          49,
          52,
          68,
          50,
          52,
          56,
          55,
          63,
          52,
          71,
          67,
          54,
          57,
          73,
          71,
          74,
          71,
          47,
          52,
          55,
          80,
          34,
          45,
          58,
          76,
          52,
          51,
          52,
          52,
          58,
          55,
          65,
          54,
          50,
          52,
          66,
          52,
          41,
          51,
          39,
          51,
          57,
          45,
          63,
          38,
          60,
          41,
          72,
          75,
          45,
          76,
          78,
          66,
          53,
          67,
          42,
          51,
          52,
          59,
          71,
          57,
          59,
          55,
          53,
          52,
          54,
          50,
          74,
          65,
          69,
          46,
          38,
          61,
          71,
          72,
          74,
          54,
          54,
          47,
          58,
          55,
          66,
          70,
          68,
          54,
          37,
          63,
          45,
          64,
          43,
          44,
          48,
          48,
          54,
          78,
          69,
          52,
          53,
          74,
          36,
          46,
          34,
          65,
          47,
          55,
          65,
          36,
          49,
          51,
          47,
          51,
          69,
          50,
          52,
          49,
          53,
          66,
          36,
          49,
          59,
          38,
          47,
          44,
          62,
          46,
          52,
          54,
          41,
          53,
          48,
          51,
          51,
          48,
          76,
          66,
          37,
          64,
          49,
          66,
          49,
          49,
          36,
          36,
          35,
          65,
          53,
          57,
          35,
          63,
          46,
          71,
          60,
          38,
          37,
          61,
          67,
          49,
          73,
          59,
          68,
          62,
          50,
          57,
          62,
          48,
          63,
          48,
          41,
          48,
          36,
          70,
          39,
          72,
          60,
          70,
          74,
          67,
          78,
          70,
          33,
          38,
          47,
          64,
          42,
          77,
          32,
          48,
          68,
          77,
          74,
          58,
          37,
          51,
          72,
          59,
          44,
          37,
          62,
          69,
          36,
          59,
          57,
          51,
          64,
          40,
          53,
          49,
          59,
          68,
          69,
          64,
          63,
          61,
          47,
          34,
          51,
          60,
          36,
          46,
          34,
          49,
          47,
          40,
          41,
          37,
          59,
          68,
          59,
          53,
          42,
          65,
          61,
          72,
          53,
          61,
          42,
          48,
          77,
          55,
          65,
          46,
          76,
          69,
          70,
          79,
          55,
          48,
          55,
          60,
          43,
          45,
          43,
          64,
          50,
          43,
          57,
          74,
          42,
          63,
          61,
          47,
          77,
          46,
          70,
          70,
          52,
          43,
          66,
          56,
          48,
          58,
          35,
          39,
          57,
          65,
          54,
          57,
          39,
          73,
          38,
          69,
          54,
          33,
          49,
          45,
          48,
          44,
          46,
          53,
          69,
          41,
          72,
          55,
          44,
          56,
          53,
          35,
          73,
          37,
          39,
          43,
          34,
          72,
          53,
          41,
          67,
          73,
          48,
          69,
          35,
          51,
          51,
          40,
          68,
          59,
          46,
          51,
          38,
          65,
          46,
          58,
          32,
          40,
          68,
          47,
          50,
          48,
          45,
          41,
          33,
          62,
          42,
          45,
          69,
          59,
          63,
          73,
          60,
          65,
          69,
          58,
          66,
          70,
          57,
          61,
          65,
          53,
          60,
          41,
          79,
          77,
          55,
          72,
          77,
          78,
          55,
          75,
          63,
          50,
          44,
          75,
          53,
          45,
          56,
          53,
          69,
          52,
          60,
          45,
          49,
          47,
          38,
          68,
          44,
          42,
          63,
          49,
          50,
          78,
          39,
          72,
          57,
          69,
          39,
          47,
          51,
          40,
          45,
          48,
          56,
          65,
          53,
          57,
          51,
          41,
          45,
          45,
          74,
          61,
          62,
          48,
          72,
          64,
          69,
          47,
          60,
          43,
          48,
          50,
          73,
          58,
          73,
          66,
          58,
          60,
          68,
          50,
          58,
          61,
          55,
          32,
          70,
          41,
          42,
          73,
          68,
          63,
          62,
          53,
          53,
          56,
          46,
          55,
          59,
          38,
          66,
          49,
          37,
          65,
          62,
          50,
          47,
          46,
          54,
          67,
          69,
          70,
          42,
          71,
          56,
          67,
          59,
          49,
          61,
          34,
          58,
          36,
          29,
          49,
          46,
          63,
          40,
          53,
          73,
          48,
          52,
          39,
          58,
          49,
          45,
          53,
          42,
          51,
          56,
          40,
          53,
          47,
          57,
          60,
          52,
          76,
          72,
          37,
          65,
          66,
          73,
          49,
          40,
          55,
          56,
          55,
          39,
          40,
          67,
          53,
          49,
          42,
          36,
          35,
          39,
          56,
          50,
          75,
          46,
          70,
          79,
          74,
          60,
          41,
          37,
          53,
          56,
          70,
          53,
          38,
          65,
          44,
          64,
          54,
          53,
          57,
          61,
          56,
          34,
          43,
          48,
          59,
          47,
          52,
          68,
          81,
          65,
          47,
          55,
          54,
          67,
          59,
          50,
          77,
          42,
          56,
          73,
          49,
          68,
          75,
          65,
          51,
          40,
          74,
          47,
          40,
          48,
          73,
          42,
          50,
          56,
          70,
          84,
          48,
          73,
          48,
          60,
          74,
          48,
          68,
          34,
          74,
          59,
          62,
          46,
          72,
          58,
          77,
          52,
          61,
          75,
          46,
          58,
          41,
          53,
          49,
          53,
          55,
          61,
          56,
          45,
          40,
          40,
          50,
          73,
          62,
          49,
          67,
          46,
          33,
          38,
          68,
          61,
          53,
          77,
          66,
          64,
          44,
          49,
          49,
          51,
          44,
          54,
          57,
          54,
          58,
          52,
          47,
          54,
          60,
          65,
          58,
          66,
          38,
          47,
          43,
          66,
          49,
          41,
          57,
          73,
          52,
          46,
          42,
          68,
          72,
          59,
          45,
          59,
          71,
          75,
          39,
          77,
          69,
          48,
          49,
          40,
          74,
          47,
          73,
          40,
          42,
          33,
          54,
          43,
          45,
          53,
          54,
          65,
          51,
          54,
          77,
          73,
          49,
          65,
          69,
          71,
          59,
          51,
          48,
          74,
          55,
          55,
          43,
          42,
          46,
          50,
          73,
          76,
          72,
          40,
          45,
          75,
          68,
          55,
          37,
          41,
          54,
          47,
          64,
          53,
          70,
          51,
          69,
          64,
          36,
          81,
          55,
          32,
          65,
          44,
          53,
          50,
          55,
          48,
          31,
          75,
          74,
          49,
          68,
          48,
          49,
          48,
          75,
          40,
          50,
          52,
          38,
          62,
          54,
          75,
          63,
          69,
          43,
          71,
          50,
          70,
          55,
          43,
          72,
          62,
          53,
          48,
          48,
          44,
          68,
          67,
          52,
          58,
          38,
          59,
          50,
          48,
          48,
          75,
          44,
          67,
          59,
          55,
          54,
          70,
          58,
          50,
          53,
          56,
          67,
          51,
          67,
          53,
          64,
          51,
          62,
          66,
          52,
          48,
          55,
          48,
          41,
          60,
          49,
          69,
          59,
          60,
          44,
          67,
          75,
          32,
          50,
          70,
          34,
          40,
          43,
          59,
          54,
          49,
          73,
          69,
          49,
          57,
          51,
          53,
          69,
          50,
          52,
          60,
          46,
          67,
          64,
          52,
          68,
          67,
          52,
          41,
          53,
          77,
          67,
          67,
          72,
          50,
          51,
          70,
          49,
          34,
          55,
          51,
          46,
          34,
          56,
          44,
          70,
          61,
          61,
          69,
          43,
          74,
          29,
          48,
          70,
          41,
          76,
          46,
          39,
          45,
          42,
          45,
          61,
          54,
          56,
          45,
          62,
          46,
          52,
          40,
          54,
          38,
          50,
          57,
          78,
          43,
          68,
          70
         ],
         "yaxis": "y2"
        },
        {
         "name": "Deals Purchases",
         "type": "box",
         "xaxis": "x3",
         "y": [
          3,
          2,
          1,
          2,
          5,
          2,
          4,
          2,
          1,
          1,
          1,
          1,
          1,
          3,
          1,
          1,
          3,
          2,
          2,
          2,
          1,
          15,
          3,
          3,
          7,
          2,
          4,
          0,
          2,
          1,
          2,
          1,
          2,
          6,
          1,
          1,
          5,
          3,
          2,
          2,
          2,
          2,
          1,
          1,
          3,
          1,
          3,
          1,
          3,
          9,
          1,
          1,
          2,
          1,
          7,
          1,
          1,
          1,
          2,
          3,
          1,
          4,
          4,
          1,
          1,
          1,
          1,
          1,
          1,
          7,
          3,
          3,
          4,
          5,
          1,
          1,
          1,
          0,
          1,
          2,
          4,
          1,
          3,
          1,
          1,
          2,
          5,
          4,
          1,
          1,
          12,
          1,
          1,
          1,
          3,
          1,
          5,
          2,
          1,
          2,
          2,
          2,
          2,
          1,
          1,
          1,
          4,
          4,
          2,
          1,
          1,
          1,
          3,
          1,
          5,
          2,
          0,
          5,
          2,
          2,
          4,
          3,
          2,
          1,
          0,
          2,
          1,
          2,
          3,
          4,
          5,
          5,
          1,
          1,
          5,
          1,
          2,
          3,
          2,
          2,
          1,
          2,
          1,
          3,
          3,
          3,
          1,
          1,
          7,
          1,
          1,
          4,
          4,
          4,
          2,
          1,
          3,
          1,
          1,
          1,
          1,
          2,
          4,
          1,
          15,
          3,
          1,
          1,
          1,
          3,
          2,
          2,
          1,
          2,
          1,
          1,
          1,
          2,
          1,
          1,
          1,
          3,
          1,
          1,
          1,
          1,
          2,
          2,
          1,
          2,
          1,
          1,
          2,
          4,
          2,
          1,
          1,
          1,
          6,
          3,
          1,
          3,
          0,
          2,
          1,
          1,
          6,
          1,
          5,
          5,
          1,
          8,
          10,
          1,
          6,
          1,
          1,
          2,
          2,
          1,
          1,
          2,
          4,
          5,
          4,
          2,
          3,
          1,
          1,
          9,
          1,
          1,
          1,
          3,
          2,
          1,
          1,
          4,
          1,
          2,
          1,
          1,
          7,
          2,
          2,
          2,
          1,
          4,
          2,
          2,
          1,
          2,
          5,
          2,
          3,
          4,
          4,
          1,
          2,
          3,
          4,
          1,
          6,
          4,
          1,
          4,
          1,
          2,
          2,
          3,
          2,
          4,
          3,
          2,
          2,
          1,
          1,
          1,
          3,
          2,
          2,
          1,
          2,
          1,
          1,
          13,
          1,
          3,
          1,
          3,
          1,
          3,
          1,
          3,
          1,
          1,
          1,
          5,
          4,
          1,
          1,
          3,
          3,
          1,
          1,
          1,
          1,
          1,
          4,
          2,
          1,
          1,
          6,
          2,
          2,
          2,
          2,
          6,
          3,
          1,
          1,
          5,
          6,
          1,
          3,
          1,
          1,
          4,
          1,
          1,
          2,
          1,
          2,
          1,
          1,
          1,
          1,
          1,
          1,
          3,
          2,
          1,
          1,
          2,
          1,
          3,
          1,
          4,
          2,
          3,
          1,
          5,
          2,
          1,
          1,
          1,
          2,
          1,
          3,
          3,
          1,
          7,
          2,
          1,
          2,
          1,
          2,
          1,
          6,
          1,
          4,
          3,
          4,
          1,
          1,
          2,
          1,
          1,
          1,
          3,
          7,
          1,
          3,
          3,
          4,
          1,
          3,
          0,
          2,
          1,
          1,
          3,
          1,
          4,
          2,
          1,
          4,
          4,
          1,
          5,
          1,
          9,
          1,
          3,
          3,
          1,
          3,
          2,
          4,
          3,
          3,
          2,
          1,
          3,
          1,
          1,
          9,
          2,
          1,
          1,
          1,
          0,
          1,
          1,
          2,
          2,
          2,
          1,
          5,
          15,
          1,
          2,
          1,
          3,
          2,
          3,
          2,
          1,
          2,
          1,
          1,
          1,
          1,
          2,
          1,
          2,
          2,
          5,
          3,
          1,
          2,
          3,
          7,
          1,
          4,
          2,
          1,
          4,
          1,
          2,
          1,
          2,
          1,
          1,
          1,
          3,
          3,
          4,
          1,
          7,
          2,
          1,
          4,
          2,
          1,
          4,
          7,
          1,
          1,
          2,
          4,
          1,
          1,
          2,
          2,
          1,
          1,
          2,
          2,
          1,
          4,
          1,
          3,
          1,
          1,
          3,
          1,
          2,
          1,
          1,
          2,
          1,
          2,
          1,
          1,
          1,
          6,
          3,
          1,
          3,
          1,
          4,
          1,
          4,
          1,
          1,
          1,
          2,
          1,
          1,
          1,
          3,
          1,
          1,
          1,
          1,
          6,
          4,
          1,
          7,
          2,
          2,
          4,
          1,
          1,
          2,
          3,
          3,
          2,
          2,
          1,
          2,
          2,
          1,
          1,
          4,
          2,
          2,
          2,
          2,
          1,
          1,
          6,
          2,
          1,
          2,
          1,
          1,
          0,
          2,
          5,
          3,
          2,
          4,
          1,
          1,
          1,
          5,
          2,
          3,
          1,
          2,
          3,
          3,
          4,
          2,
          6,
          5,
          7,
          1,
          1,
          2,
          4,
          1,
          2,
          3,
          1,
          2,
          0,
          1,
          1,
          1,
          3,
          1,
          2,
          3,
          3,
          1,
          3,
          1,
          3,
          4,
          4,
          2,
          1,
          2,
          1,
          2,
          1,
          1,
          2,
          3,
          5,
          2,
          0,
          1,
          5,
          3,
          1,
          1,
          1,
          1,
          2,
          1,
          7,
          3,
          3,
          2,
          1,
          5,
          1,
          1,
          1,
          1,
          1,
          5,
          2,
          4,
          1,
          4,
          2,
          1,
          7,
          0,
          1,
          3,
          2,
          0,
          2,
          5,
          1,
          2,
          0,
          2,
          2,
          1,
          4,
          4,
          1,
          1,
          1,
          1,
          1,
          1,
          2,
          1,
          3,
          3,
          5,
          4,
          2,
          2,
          1,
          3,
          1,
          4,
          1,
          2,
          1,
          1,
          2,
          1,
          2,
          1,
          15,
          1,
          1,
          6,
          1,
          3,
          1,
          3,
          1,
          1,
          3,
          2,
          1,
          3,
          2,
          3,
          1,
          3,
          2,
          1,
          2,
          3,
          1,
          1,
          4,
          2,
          3,
          3,
          1,
          1,
          2,
          6,
          1,
          2,
          1,
          2,
          1,
          5,
          1,
          1,
          1,
          7,
          1,
          1,
          8,
          7,
          5,
          3,
          1,
          2,
          1,
          1,
          2,
          4,
          2,
          3,
          2,
          1,
          1,
          3,
          1,
          1,
          1,
          1,
          2,
          1,
          1,
          1,
          1,
          5,
          5,
          2,
          1,
          2,
          2,
          1,
          1,
          1,
          3,
          1,
          1,
          1,
          4,
          2,
          1,
          8,
          3,
          0,
          1,
          2,
          1,
          2,
          2,
          1,
          2,
          1,
          1,
          1,
          2,
          5,
          6,
          6,
          4,
          1,
          1,
          1,
          4,
          2,
          1,
          3,
          3,
          1,
          3,
          4,
          1,
          3,
          1,
          3,
          6,
          1,
          4,
          7,
          2,
          1,
          2,
          1,
          6,
          0,
          2,
          1,
          3,
          1,
          2,
          1,
          2,
          1,
          1,
          1,
          1,
          3,
          2,
          1,
          1,
          1,
          1,
          3,
          2,
          2,
          5,
          2,
          1,
          1,
          2,
          3,
          3,
          4,
          4,
          1,
          1,
          2,
          3,
          2,
          4,
          2,
          3,
          1,
          2,
          3,
          7,
          1,
          3,
          2,
          1,
          2,
          6,
          1,
          6,
          2,
          3,
          3,
          1,
          3,
          2,
          1,
          2,
          3,
          4,
          1,
          1,
          7,
          2,
          1,
          4,
          3,
          2,
          1,
          2,
          1,
          1,
          4,
          2,
          8,
          2,
          2,
          6,
          1,
          1,
          2,
          2,
          1,
          2,
          3,
          4,
          1,
          2,
          1,
          1,
          5,
          1,
          0,
          1,
          1,
          1,
          1,
          1,
          6,
          2,
          1,
          1,
          1,
          1,
          2,
          1,
          1,
          1,
          1,
          3,
          1,
          3,
          1,
          1,
          1,
          1,
          1,
          1,
          2,
          1,
          1,
          2,
          1,
          3,
          3,
          2,
          8,
          2,
          1,
          0,
          3,
          1,
          3,
          2,
          1,
          2,
          1,
          3,
          4,
          1,
          1,
          5,
          3,
          4,
          2,
          4,
          2,
          3,
          2,
          5,
          7,
          3,
          1,
          3,
          1,
          6,
          1,
          4,
          3,
          3,
          1,
          1,
          1,
          7,
          3,
          5,
          1,
          0,
          1,
          3,
          1,
          2,
          1,
          1,
          1,
          2,
          1,
          1,
          5,
          4,
          2,
          1,
          1,
          3,
          3,
          4,
          1,
          1,
          5,
          2,
          5,
          6,
          2,
          1,
          4,
          1,
          1,
          1,
          7,
          1,
          3,
          1,
          1,
          1,
          1,
          1,
          3,
          1,
          7,
          1,
          2,
          3,
          1,
          2,
          1,
          5,
          1,
          1,
          1,
          1,
          1,
          2,
          4,
          3,
          1,
          4,
          2,
          3,
          15,
          1,
          1,
          3,
          1,
          1,
          6,
          6,
          1,
          1,
          1,
          2,
          1,
          1,
          4,
          1,
          1,
          1,
          11,
          2,
          2,
          2,
          1,
          3,
          1,
          8,
          1,
          1,
          2,
          6,
          3,
          2,
          1,
          1,
          1,
          2,
          2,
          1,
          1,
          6,
          1,
          1,
          1,
          4,
          2,
          0,
          1,
          1,
          1,
          2,
          1,
          3,
          3,
          1,
          1,
          1,
          1,
          2,
          0,
          2,
          6,
          2,
          1,
          1,
          1,
          2,
          2,
          7,
          1,
          1,
          1,
          0,
          3,
          3,
          1,
          1,
          1,
          5,
          2,
          2,
          5,
          1,
          2,
          7,
          4,
          2,
          1,
          1,
          4,
          1,
          1,
          2,
          1,
          2,
          3,
          1,
          2,
          2,
          4,
          1,
          2,
          2,
          1,
          4,
          2,
          12,
          2,
          1,
          2,
          3,
          1,
          1,
          2,
          4,
          10,
          1,
          1,
          2,
          1,
          12,
          1,
          1,
          2,
          4,
          1,
          3,
          1,
          1,
          1,
          1,
          1,
          3,
          2,
          3,
          1,
          2,
          3,
          1,
          3,
          1,
          3,
          5,
          1,
          1,
          2,
          1,
          2,
          1,
          1,
          4,
          1,
          1,
          3,
          1,
          1,
          2,
          1,
          3,
          4,
          3,
          2,
          2,
          1,
          3,
          1,
          1,
          1,
          2,
          2,
          2,
          2,
          1,
          5,
          4,
          1,
          5,
          1,
          2,
          3,
          1,
          1,
          2,
          4,
          2,
          1,
          2,
          5,
          3,
          5,
          1,
          3,
          2,
          1,
          4,
          1,
          1,
          1,
          4,
          1,
          2,
          1,
          1,
          4,
          15,
          4,
          1,
          1,
          3,
          1,
          4,
          2,
          2,
          2,
          4,
          2,
          2,
          1,
          1,
          2,
          1,
          1,
          3,
          2,
          0,
          10,
          3,
          1,
          1,
          2,
          3,
          4,
          8,
          3,
          4,
          1,
          2,
          0,
          5,
          1,
          2,
          2,
          2,
          2,
          1,
          2,
          2,
          1,
          2,
          1,
          1,
          2,
          1,
          2,
          2,
          1,
          5,
          1,
          4,
          0,
          0,
          1,
          5,
          1,
          5,
          6,
          1,
          1,
          7,
          2,
          1,
          3,
          5,
          3,
          3,
          4,
          1,
          2,
          1,
          1,
          3,
          2,
          4,
          2,
          6,
          1,
          1,
          0,
          1,
          2,
          5,
          3,
          1,
          1,
          2,
          1,
          1,
          1,
          3,
          1,
          3,
          11,
          1,
          1,
          2,
          1,
          2,
          3,
          1,
          1,
          1,
          1,
          1,
          1,
          2,
          2,
          1,
          1,
          3,
          6,
          2,
          8,
          1,
          4,
          1,
          3,
          1,
          3,
          1,
          2,
          2,
          2,
          6,
          5,
          4,
          6,
          2,
          3,
          2,
          1,
          4,
          1,
          1,
          1,
          0,
          1,
          2,
          1,
          1,
          6,
          3,
          1,
          2,
          2,
          2,
          1,
          2,
          1,
          2,
          4,
          1,
          2,
          3,
          6,
          4,
          4,
          2,
          3,
          4,
          1,
          2,
          1,
          1,
          3,
          4,
          1,
          1,
          2,
          3,
          1,
          1,
          4,
          1,
          1,
          3,
          1,
          1,
          2,
          1,
          1,
          1,
          1,
          2,
          5,
          2,
          4,
          1,
          1,
          2,
          3,
          1,
          3,
          3,
          1,
          1,
          1,
          4,
          1,
          4,
          3,
          1,
          1,
          1,
          2,
          1,
          3,
          4,
          0,
          2,
          4,
          7,
          1,
          3,
          1,
          4,
          4,
          1,
          1,
          4,
          3,
          4,
          1,
          1,
          2,
          2,
          1,
          1,
          1,
          2,
          7,
          3,
          1,
          2,
          2,
          3,
          1,
          7,
          2,
          5,
          10,
          4,
          1,
          7,
          2,
          2,
          1,
          6,
          4,
          1,
          7,
          1,
          6,
          13,
          2,
          1,
          9,
          6,
          1,
          5,
          1,
          4,
          3,
          1,
          1,
          2,
          5,
          1,
          1,
          2,
          1,
          1,
          1,
          2,
          0,
          12,
          0,
          3,
          1,
          2,
          4,
          6,
          4,
          4,
          2,
          6,
          1,
          1,
          3,
          3,
          2,
          4,
          1,
          1,
          3,
          1,
          1,
          1,
          2,
          1,
          1,
          1,
          1,
          1,
          5,
          2,
          7,
          1,
          4,
          3,
          2,
          6,
          1,
          1,
          2,
          2,
          4,
          2,
          5,
          11,
          1,
          3,
          1,
          1,
          6,
          4,
          1,
          1,
          1,
          1,
          1,
          1,
          1,
          2,
          1,
          2,
          4,
          1,
          7,
          1,
          2,
          1,
          1,
          3,
          1,
          5,
          5,
          3,
          1,
          1,
          4,
          1,
          1,
          2,
          2,
          1,
          4,
          5,
          5,
          1,
          1,
          1,
          1,
          4,
          2,
          3,
          1,
          2,
          1,
          7,
          1,
          3,
          1,
          9,
          4,
          2,
          6,
          1,
          3,
          1,
          1,
          3,
          2,
          1,
          2,
          6,
          2,
          1,
          2,
          1,
          1,
          5,
          8,
          1,
          1,
          1,
          2,
          1,
          1,
          3,
          3,
          1,
          3,
          0,
          2,
          1,
          3,
          1,
          6,
          1,
          9,
          4,
          2,
          3,
          1,
          1,
          1,
          3,
          2,
          2,
          2,
          1,
          1,
          1,
          4,
          1,
          4,
          1,
          2,
          1,
          1,
          4,
          4,
          1,
          2,
          1,
          1,
          4,
          4,
          1,
          3,
          1,
          1,
          1,
          1,
          2,
          1,
          0,
          1,
          2,
          5,
          3,
          3,
          6,
          4,
          3,
          4,
          2,
          1,
          1,
          1,
          1,
          1,
          1,
          2,
          6,
          2,
          2,
          5,
          4,
          1,
          1,
          1,
          0,
          5,
          3,
          5,
          1,
          4,
          2,
          2,
          1,
          1,
          1,
          1,
          4,
          2,
          1,
          4,
          1,
          2,
          5,
          1,
          1,
          2,
          1,
          1,
          1,
          3,
          2,
          3,
          5,
          1,
          4,
          3,
          4,
          3,
          2,
          2,
          3,
          3,
          2,
          2,
          1,
          2,
          3,
          1,
          1,
          1,
          2,
          3,
          1,
          1,
          1,
          1,
          5,
          4,
          2,
          1,
          1,
          2,
          3,
          1,
          2,
          5,
          4,
          5,
          1,
          13,
          1,
          3,
          2,
          1,
          1,
          5,
          1,
          1,
          2,
          2,
          1,
          2,
          1,
          2,
          9,
          2,
          5,
          0,
          4,
          1,
          1,
          2,
          6,
          1,
          1,
          3,
          1,
          2,
          1,
          3,
          1,
          3,
          2,
          3,
          3,
          2,
          1,
          2,
          1,
          1,
          3,
          2,
          3,
          8,
          3,
          4,
          3,
          1,
          3,
          2,
          11,
          3,
          1,
          2,
          1,
          5,
          1,
          15,
          1,
          3,
          2,
          1,
          1,
          1,
          1,
          1,
          4,
          1,
          1,
          1,
          2,
          1,
          1,
          1,
          1,
          1,
          11,
          3,
          1,
          4,
          1,
          2,
          2,
          2,
          6,
          1,
          1,
          3,
          1,
          2,
          3,
          1,
          2,
          2,
          1,
          1,
          2,
          1,
          1,
          4,
          2,
          1,
          1,
          2,
          8,
          1,
          2,
          1,
          1,
          0,
          2,
          2,
          1,
          1,
          3,
          2,
          1,
          4,
          1,
          1,
          1,
          0,
          2,
          1,
          3,
          6,
          7,
          1,
          2,
          1,
          1,
          1,
          2,
          0,
          1,
          3,
          1,
          3,
          1,
          1,
          5,
          1,
          2,
          3,
          2,
          2,
          2,
          5,
          3,
          1,
          1,
          1,
          1,
          1,
          1,
          2,
          2,
          2,
          1,
          3,
          2,
          1,
          2,
          1,
          1,
          1,
          1,
          1,
          5,
          1,
          3,
          3,
          1,
          3,
          3,
          1,
          1,
          2,
          2,
          1,
          1,
          2,
          1,
          5,
          2,
          3,
          0,
          2,
          4,
          1,
          1,
          3,
          3,
          0,
          1,
          8,
          1,
          6,
          1,
          3,
          2,
          1,
          2,
          0,
          1,
          2,
          0,
          1,
          3,
          4,
          1,
          1,
          1,
          3,
          1,
          3,
          2,
          3,
          4,
          1,
          3,
          1,
          3,
          1,
          6,
          1,
          1,
          1,
          3,
          2,
          1,
          3,
          1,
          6,
          2,
          2,
          2,
          1,
          1,
          4,
          4,
          2,
          3,
          3,
          4,
          1,
          2,
          4,
          4,
          1,
          1,
          1,
          10,
          2,
          1,
          8,
          3,
          1,
          1,
          2,
          1,
          1,
          6,
          2,
          2,
          1,
          1,
          3,
          3,
          2,
          7,
          3,
          2,
          1,
          2,
          5,
          2,
          1,
          2,
          2,
          1,
          3,
          1,
          1,
          2,
          1,
          2,
          1,
          1,
          4,
          2,
          2,
          3,
          4,
          1,
          1,
          3,
          1,
          1,
          2,
          1,
          7,
          1,
          1,
          1,
          4,
          1,
          1,
          5,
          2,
          1,
          1,
          3,
          2,
          2,
          1,
          2,
          1,
          2,
          3,
          1,
          6,
          1,
          2,
          1,
          5,
          2,
          2,
          2,
          1,
          1,
          2,
          1,
          3,
          4,
          2,
          1,
          2,
          1,
          4,
          1,
          1,
          1,
          0,
          3,
          3,
          1,
          5,
          1,
          1,
          4,
          1,
          2,
          5,
          1,
          7,
          1,
          1,
          4,
          4,
          2,
          2,
          2,
          4,
          5,
          1,
          2,
          5,
          1,
          2,
          1,
          3,
          1,
          6,
          1,
          2,
          2,
          3,
          0,
          1,
          1,
          1,
          1,
          2,
          3,
          2,
          1,
          1,
          5,
          2,
          2,
          3,
          4,
          1,
          3,
          1,
          4,
          1,
          1,
          3,
          2,
          1,
          1,
          1,
          1,
          2,
          4,
          1,
          2,
          7,
          4,
          2,
          4,
          5,
          2,
          1,
          6,
          4,
          4,
          1,
          2,
          6,
          1,
          2,
          1,
          0,
          1,
          2,
          0,
          1,
          4,
          3,
          1,
          4,
          3,
          3,
          6,
          8,
          5,
          0,
          2,
          3,
          2,
          1,
          1,
          2,
          7,
          1,
          2,
          3
         ],
         "yaxis": "y3"
        },
        {
         "name": "Total Spend",
         "type": "box",
         "xaxis": "x4",
         "y": [
          1617,
          27,
          776,
          53,
          422,
          716,
          590,
          169,
          46,
          49,
          19,
          61,
          1102,
          310,
          46,
          1315,
          96,
          317,
          1782,
          133,
          316,
          1730,
          972,
          544,
          444,
          75,
          257,
          637,
          131,
          1672,
          30,
          318,
          120,
          302,
          1196,
          65,
          913,
          81,
          67,
          902,
          1395,
          53,
          22,
          186,
          31,
          984,
          122,
          55,
          124,
          1319,
          507,
          1693,
          72,
          1617,
          606,
          1957,
          1093,
          29,
          46,
          518,
          1438,
          612,
          884,
          606,
          1076,
          34,
          11,
          1274,
          653,
          1562,
          1253,
          109,
          863,
          661,
          65,
          13,
          1890,
          2209,
          18,
          692,
          165,
          16,
          79,
          318,
          778,
          56,
          151,
          372,
          1366,
          194,
          603,
          18,
          985,
          32,
          43,
          45,
          606,
          63,
          978,
          410,
          72,
          55,
          1169,
          1120,
          1097,
          29,
          187,
          910,
          145,
          850,
          969,
          1820,
          608,
          730,
          551,
          114,
          1724,
          577,
          81,
          33,
          660,
          80,
          30,
          43,
          1135,
          559,
          1923,
          90,
          404,
          661,
          463,
          632,
          725,
          725,
          279,
          1482,
          29,
          106,
          49,
          38,
          2077,
          1053,
          1385,
          871,
          312,
          877,
          68,
          22,
          211,
          127,
          459,
          460,
          429,
          89,
          1021,
          1381,
          306,
          18,
          162,
          1231,
          13,
          1706,
          121,
          1293,
          1608,
          88,
          421,
          259,
          1117,
          89,
          36,
          57,
          148,
          93,
          119,
          1835,
          1318,
          45,
          10,
          978,
          191,
          57,
          1033,
          66,
          43,
          50,
          39,
          608,
          1581,
          68,
          80,
          1282,
          91,
          315,
          31,
          834,
          1600,
          1270,
          263,
          535,
          1295,
          1150,
          1240,
          38,
          35,
          53,
          293,
          65,
          1804,
          241,
          1101,
          264,
          541,
          1198,
          482,
          17,
          1615,
          285,
          1135,
          114,
          1047,
          714,
          185,
          1245,
          189,
          576,
          1103,
          1753,
          17,
          433,
          1588,
          22,
          19,
          1117,
          69,
          23,
          605,
          57,
          2088,
          1009,
          26,
          1627,
          1102,
          17,
          1690,
          1390,
          2126,
          1531,
          64,
          26,
          1112,
          210,
          1148,
          33,
          1101,
          322,
          44,
          17,
          31,
          845,
          275,
          25,
          275,
          90,
          1495,
          184,
          981,
          67,
          1635,
          60,
          231,
          48,
          99,
          770,
          957,
          818,
          925,
          908,
          102,
          576,
          317,
          461,
          37,
          70,
          930,
          859,
          1478,
          390,
          52,
          137,
          1919,
          68,
          25,
          1374,
          32,
          100,
          825,
          916,
          62,
          728,
          90,
          273,
          66,
          1213,
          107,
          1157,
          546,
          241,
          53,
          37,
          1611,
          1508,
          235,
          32,
          102,
          401,
          28,
          1052,
          680,
          30,
          20,
          1307,
          630,
          1283,
          65,
          37,
          38,
          160,
          23,
          71,
          1161,
          59,
          33,
          946,
          1442,
          62,
          1674,
          1538,
          139,
          1182,
          507,
          18,
          940,
          42,
          1190,
          44,
          16,
          835,
          1443,
          1029,
          1188,
          1277,
          49,
          99,
          1670,
          900,
          425,
          2153,
          636,
          57,
          25,
          494,
          693,
          1348,
          51,
          1932,
          990,
          30,
          254,
          29,
          1371,
          73,
          120,
          81,
          37,
          1377,
          51,
          17,
          22,
          324,
          211,
          19,
          41,
          492,
          1005,
          114,
          1173,
          1738,
          222,
          1127,
          209,
          787,
          1598,
          186,
          47,
          27,
          96,
          64,
          1040,
          163,
          343,
          446,
          41,
          70,
          272,
          46,
          490,
          79,
          915,
          1485,
          369,
          1073,
          1242,
          78,
          1378,
          1474,
          751,
          48,
          45,
          10,
          1435,
          2119,
          20,
          1795,
          1188,
          43,
          1008,
          1688,
          684,
          1082,
          1068,
          57,
          46,
          733,
          467,
          122,
          36,
          34,
          156,
          14,
          37,
          34,
          20,
          192,
          1379,
          48,
          428,
          868,
          1001,
          59,
          431,
          971,
          348,
          2059,
          265,
          270,
          1289,
          893,
          926,
          135,
          1495,
          120,
          1288,
          1743,
          15,
          542,
          890,
          1388,
          17,
          906,
          44,
          25,
          973,
          31,
          518,
          530,
          506,
          70,
          54,
          296,
          266,
          747,
          895,
          1053,
          735,
          20,
          205,
          2092,
          309,
          1722,
          900,
          682,
          663,
          43,
          1816,
          976,
          746,
          64,
          32,
          263,
          1445,
          46,
          1210,
          945,
          1157,
          137,
          730,
          216,
          943,
          347,
          1924,
          397,
          2089,
          138,
          42,
          777,
          1902,
          52,
          1651,
          358,
          1727,
          210,
          42,
          1291,
          442,
          1895,
          411,
          521,
          1168,
          493,
          260,
          46,
          319,
          96,
          1062,
          232,
          76,
          54,
          201,
          406,
          1919,
          662,
          41,
          1600,
          134,
          69,
          21,
          54,
          91,
          526,
          162,
          1008,
          240,
          795,
          1772,
          64,
          1957,
          78,
          1572,
          795,
          889,
          331,
          265,
          1065,
          11,
          21,
          17,
          369,
          38,
          177,
          279,
          62,
          1230,
          182,
          49,
          75,
          227,
          215,
          444,
          47,
          143,
          55,
          63,
          1867,
          611,
          473,
          55,
          81,
          2086,
          1478,
          49,
          382,
          69,
          67,
          30,
          63,
          79,
          42,
          819,
          1151,
          594,
          129,
          213,
          67,
          28,
          45,
          1193,
          268,
          266,
          37,
          37,
          882,
          373,
          35,
          107,
          42,
          326,
          404,
          95,
          939,
          33,
          981,
          36,
          1237,
          1825,
          103,
          191,
          1586,
          963,
          889,
          93,
          1587,
          16,
          1375,
          393,
          1477,
          1179,
          1005,
          1348,
          1307,
          486,
          2252,
          235,
          1724,
          235,
          1092,
          599,
          2008,
          48,
          1174,
          67,
          365,
          6,
          165,
          210,
          1095,
          223,
          597,
          22,
          1064,
          74,
          26,
          60,
          20,
          59,
          34,
          198,
          1048,
          574,
          1029,
          670,
          990,
          11,
          1241,
          576,
          172,
          664,
          928,
          2074,
          467,
          257,
          1146,
          689,
          2114,
          1717,
          1346,
          1044,
          493,
          957,
          270,
          29,
          121,
          126,
          23,
          57,
          636,
          1004,
          734,
          614,
          1453,
          1621,
          187,
          1443,
          57,
          637,
          948,
          59,
          18,
          903,
          112,
          596,
          233,
          1511,
          1152,
          48,
          1185,
          21,
          965,
          869,
          16,
          1947,
          71,
          65,
          1380,
          1027,
          411,
          836,
          11,
          480,
          606,
          284,
          1472,
          1677,
          1335,
          334,
          18,
          1338,
          1099,
          97,
          63,
          109,
          902,
          1574,
          38,
          960,
          28,
          1215,
          1497,
          449,
          1064,
          1757,
          1440,
          1006,
          1226,
          1171,
          92,
          99,
          66,
          564,
          1427,
          86,
          833,
          242,
          1869,
          1364,
          183,
          450,
          758,
          1507,
          654,
          81,
          137,
          16,
          93,
          1158,
          43,
          1525,
          1230,
          29,
          25,
          24,
          38,
          57,
          47,
          813,
          629,
          377,
          1612,
          729,
          50,
          270,
          177,
          315,
          767,
          1071,
          1580,
          60,
          573,
          41,
          170,
          1167,
          1526,
          458,
          63,
          405,
          1027,
          1478,
          72,
          48,
          726,
          860,
          1497,
          495,
          20,
          570,
          769,
          55,
          1808,
          55,
          577,
          162,
          1957,
          1576,
          1616,
          36,
          1482,
          22,
          63,
          680,
          542,
          50,
          39,
          1043,
          385,
          1633,
          46,
          761,
          76,
          290,
          89,
          70,
          1066,
          2009,
          1345,
          764,
          195,
          53,
          368,
          544,
          1853,
          35,
          446,
          1180,
          41,
          727,
          40,
          1062,
          40,
          292,
          15,
          341,
          369,
          401,
          393,
          10,
          486,
          69,
          1727,
          995,
          45,
          182,
          989,
          1677,
          595,
          156,
          1226,
          128,
          86,
          68,
          16,
          55,
          2114,
          2018,
          263,
          55,
          564,
          1281,
          83,
          353,
          1003,
          14,
          902,
          1139,
          797,
          1638,
          401,
          84,
          928,
          203,
          858,
          409,
          282,
          1423,
          1449,
          28,
          67,
          199,
          1453,
          1253,
          1198,
          178,
          1990,
          976,
          1001,
          1919,
          350,
          1650,
          46,
          1228,
          95,
          62,
          1761,
          467,
          1149,
          2052,
          1127,
          1416,
          1113,
          125,
          966,
          32,
          833,
          46,
          960,
          1829,
          779,
          811,
          1120,
          725,
          1187,
          2302,
          66,
          1250,
          683,
          305,
          50,
          995,
          41,
          77,
          171,
          131,
          54,
          53,
          475,
          694,
          96,
          361,
          1079,
          578,
          64,
          149,
          231,
          728,
          1778,
          93,
          23,
          662,
          1198,
          81,
          92,
          491,
          1564,
          926,
          1910,
          411,
          94,
          1085,
          23,
          6,
          54,
          1150,
          1415,
          405,
          1908,
          2486,
          1315,
          45,
          1789,
          19,
          573,
          805,
          108,
          23,
          1493,
          89,
          936,
          343,
          528,
          1901,
          724,
          58,
          297,
          488,
          859,
          1574,
          69,
          17,
          2194,
          116,
          279,
          103,
          44,
          406,
          1363,
          236,
          39,
          137,
          79,
          63,
          1314,
          71,
          58,
          702,
          94,
          80,
          22,
          1211,
          1461,
          1968,
          1091,
          55,
          1366,
          313,
          62,
          92,
          72,
          655,
          704,
          54,
          178,
          1033,
          36,
          122,
          122,
          1123,
          497,
          691,
          1363,
          12,
          2440,
          56,
          37,
          968,
          270,
          278,
          1250,
          938,
          1178,
          1155,
          653,
          49,
          506,
          38,
          1650,
          1826,
          18,
          906,
          46,
          1477,
          766,
          47,
          467,
          2116,
          1298,
          22,
          396,
          20,
          967,
          357,
          1401,
          15,
          2087,
          981,
          17,
          523,
          23,
          1192,
          1958,
          133,
          777,
          73,
          121,
          424,
          868,
          756,
          12,
          937,
          1862,
          367,
          443,
          267,
          61,
          1323,
          63,
          64,
          562,
          312,
          1156,
          1104,
          16,
          2008,
          44,
          1574,
          63,
          426,
          96,
          635,
          757,
          125,
          332,
          135,
          330,
          384,
          1722,
          78,
          24,
          1168,
          957,
          15,
          57,
          1956,
          2013,
          326,
          77,
          1313,
          30,
          315,
          660,
          74,
          46,
          86,
          1103,
          61,
          145,
          684,
          411,
          27,
          1060,
          1459,
          18,
          1833,
          237,
          48,
          515,
          1020,
          1370,
          1026,
          301,
          684,
          499,
          1004,
          218,
          606,
          75,
          106,
          990,
          1097,
          16,
          34,
          1711,
          438,
          75,
          225,
          18,
          470,
          91,
          2525,
          504,
          235,
          1232,
          88,
          17,
          24,
          60,
          1020,
          155,
          51,
          1812,
          1461,
          96,
          160,
          139,
          908,
          183,
          1161,
          988,
          1072,
          174,
          758,
          195,
          31,
          1084,
          685,
          1672,
          43,
          49,
          133,
          363,
          545,
          1065,
          2047,
          296,
          140,
          530,
          152,
          1598,
          114,
          101,
          25,
          789,
          87,
          90,
          1215,
          811,
          61,
          405,
          72,
          189,
          40,
          63,
          52,
          39,
          805,
          130,
          1631,
          34,
          152,
          21,
          71,
          899,
          711,
          351,
          8,
          119,
          21,
          10,
          973,
          1536,
          992,
          1529,
          860,
          928,
          418,
          587,
          641,
          23,
          2279,
          49,
          1779,
          1804,
          48,
          83,
          1862,
          793,
          84,
          183,
          1383,
          999,
          825,
          246,
          610,
          76,
          1286,
          30,
          99,
          1192,
          362,
          2130,
          1229,
          38,
          485,
          434,
          44,
          496,
          78,
          2346,
          794,
          17,
          26,
          76,
          15,
          62,
          198,
          49,
          802,
          1736,
          57,
          59,
          2302,
          37,
          310,
          1305,
          832,
          401,
          1501,
          1189,
          1194,
          656,
          1540,
          311,
          820,
          274,
          57,
          448,
          44,
          102,
          61,
          1643,
          397,
          1121,
          473,
          50,
          1678,
          58,
          170,
          373,
          1196,
          101,
          316,
          1400,
          1424,
          844,
          311,
          1149,
          129,
          32,
          299,
          320,
          441,
          1178,
          85,
          24,
          112,
          30,
          410,
          800,
          1313,
          1483,
          1258,
          28,
          227,
          1555,
          861,
          103,
          634,
          1918,
          131,
          586,
          62,
          447,
          939,
          797,
          1143,
          415,
          30,
          187,
          251,
          237,
          91,
          35,
          493,
          971,
          371,
          396,
          68,
          322,
          317,
          222,
          177,
          45,
          21,
          45,
          1899,
          42,
          22,
          41,
          1440,
          325,
          95,
          42,
          72,
          20,
          789,
          15,
          59,
          908,
          417,
          289,
          769,
          188,
          354,
          727,
          146,
          319,
          794,
          454,
          152,
          797,
          1690,
          20,
          1428,
          209,
          545,
          96,
          222,
          61,
          44,
          8,
          817,
          1371,
          42,
          60,
          78,
          23,
          19,
          61,
          449,
          37,
          38,
          1131,
          34,
          294,
          48,
          289,
          30,
          125,
          156,
          70,
          22,
          65,
          1930,
          2283,
          310,
          1319,
          879,
          1244,
          690,
          209,
          1134,
          1507,
          57,
          529,
          1091,
          180,
          77,
          2349,
          534,
          556,
          637,
          46,
          44,
          47,
          795,
          586,
          1574,
          13,
          1471,
          65,
          175,
          40,
          1078,
          1115,
          134,
          1540,
          87,
          217,
          1034,
          1180,
          819,
          32,
          46,
          1159,
          860,
          1631,
          444,
          1910,
          380,
          736,
          269,
          2524,
          612,
          75,
          1045,
          55,
          1064,
          1443,
          1366,
          436,
          38,
          436,
          747,
          1396,
          928,
          642,
          1048,
          943,
          907,
          1198,
          120,
          1658,
          1638,
          73,
          275,
          854,
          78,
          106,
          106,
          1923,
          1662,
          84,
          48,
          5,
          733,
          1234,
          112,
          1658,
          55,
          1513,
          271,
          904,
          120,
          103,
          269,
          22,
          1156,
          1086,
          1128,
          72,
          964,
          1383,
          18,
          793,
          100,
          80,
          167,
          677,
          23,
          92,
          641,
          1106,
          1033,
          1174,
          25,
          240,
          20,
          102,
          1034,
          156,
          458,
          17,
          792,
          92,
          407,
          1269,
          841,
          633,
          1019,
          1315,
          54,
          2525,
          52,
          436,
          268,
          147,
          1798,
          137,
          507,
          15,
          1105,
          974,
          66,
          778,
          49,
          169,
          299,
          221,
          1682,
          155,
          892,
          58,
          311,
          95,
          424,
          47,
          339,
          1410,
          35,
          562,
          2352,
          1334,
          32,
          41,
          39,
          1141,
          710,
          401,
          506,
          1538,
          57,
          1722,
          270,
          31,
          882,
          16,
          311,
          227,
          1152,
          122,
          77,
          1289,
          561,
          211,
          233,
          1092,
          601,
          54,
          78,
          1095,
          244,
          116,
          15,
          425,
          734,
          638,
          894,
          41,
          31,
          34,
          1750,
          612,
          29,
          823,
          20,
          396,
          813,
          1179,
          138,
          55,
          1511,
          117,
          1730,
          32,
          67,
          335,
          825,
          694,
          1792,
          496,
          231,
          902,
          68,
          71,
          76,
          772,
          47,
          1586,
          1529,
          265,
          1603,
          2091,
          981,
          1533,
          82,
          244,
          36,
          404,
          71,
          1572,
          122,
          41,
          10,
          304,
          37,
          1754,
          815,
          1001,
          1157,
          688,
          1319,
          21,
          31,
          67,
          708,
          25,
          746,
          32,
          1695,
          1080,
          72,
          57,
          660,
          103,
          153,
          1220,
          279,
          745,
          264,
          2157,
          1526,
          69,
          1597,
          64,
          497,
          1067,
          31,
          211,
          877,
          11,
          2034,
          1991,
          1686,
          324,
          69,
          252,
          54,
          964,
          1327,
          68,
          60,
          55,
          1456,
          563,
          1504,
          564,
          1125,
          358,
          42,
          184,
          460,
          145,
          1376,
          792,
          1382,
          28,
          1033,
          882,
          2231,
          1101,
          369,
          48,
          467,
          44,
          38,
          81,
          167,
          45,
          664,
          622,
          48,
          461,
          1073,
          55,
          976,
          20,
          1149,
          43,
          224,
          101,
          209,
          968,
          1165,
          24,
          252,
          165,
          269,
          102,
          461,
          47,
          144,
          1338,
          917,
          318,
          253,
          502,
          119,
          1250,
          969,
          76,
          62,
          1382,
          84,
          255,
          43,
          398,
          76,
          902,
          823,
          1179,
          1921,
          185,
          433,
          34,
          907,
          416,
          44,
          1588,
          1797,
          40,
          1143,
          914,
          1502,
          1338,
          27,
          763,
          1331,
          525,
          9,
          953,
          68,
          131,
          882,
          1149,
          37,
          388,
          1428,
          1633,
          173,
          99,
          215,
          929,
          219,
          174,
          92,
          1052,
          275,
          587,
          1662,
          159,
          1024,
          35,
          1042,
          395,
          557,
          9,
          69,
          486,
          34,
          1365,
          13,
          1401,
          1574,
          1323,
          1217,
          103,
          84,
          1536,
          581,
          928,
          14,
          424,
          960,
          1555,
          656,
          55,
          20,
          367,
          2257,
          42,
          1049,
          48,
          685,
          39,
          43,
          835,
          1515,
          1039,
          1596,
          1828,
          34,
          149,
          946,
          28,
          450,
          46,
          1702,
          820,
          382,
          2126,
          2069,
          72,
          732,
          801,
          236,
          80,
          1685,
          277,
          507,
          68,
          49,
          397,
          39,
          306,
          976,
          1028,
          70,
          46,
          51,
          1263,
          1490,
          1564,
          1815,
          1198,
          416,
          85,
          47,
          137,
          21,
          70,
          909,
          1676,
          1735,
          1191,
          24,
          1182,
          1280,
          1336,
          749,
          91,
          414,
          44,
          63,
          901,
          38,
          455,
          775,
          15,
          38,
          1512,
          43,
          42,
          1089,
          162,
          1272,
          1173,
          816,
          74,
          134,
          157,
          561,
          1336,
          2092,
          463,
          1130,
          20,
          377,
          1544,
          138,
          1012,
          1766,
          45,
          161,
          144,
          1734,
          823,
          1138,
          1429,
          1371,
          982,
          44,
          318,
          434,
          198,
          359,
          576,
          88,
          63,
          27,
          193,
          101,
          2211,
          140,
          415,
          22,
          263,
          393,
          147,
          443,
          1958,
          174,
          2217,
          1691,
          25,
          809,
          895,
          484,
          413,
          331,
          25,
          13,
          115,
          16,
          92,
          52,
          1464,
          441,
          283,
          747,
          1870,
          165,
          1941,
          839,
          1655,
          23,
          66,
          37,
          21,
          22,
          78,
          79,
          265,
          1175,
          1305,
          46,
          25,
          46,
          874,
          100,
          930,
          868,
          45,
          1260,
          414,
          392,
          1109,
          639,
          79,
          1665,
          692,
          1392,
          44,
          50,
          467,
          223,
          158,
          1211,
          1575,
          1208,
          43,
          527,
          932,
          71,
          54,
          129,
          1615,
          1034,
          1088,
          721,
          137,
          47,
          1244,
          41,
          1174,
          993,
          100,
          1680,
          98,
          48,
          519,
          715,
          37,
          653,
          1455,
          602,
          26,
          102,
          97,
          207,
          176,
          450,
          433,
          1366,
          1564,
          1001,
          961,
          1518,
          56,
          22,
          400,
          26,
          350,
          1216,
          874,
          40,
          1367,
          264,
          2053,
          1376,
          45,
          976,
          51,
          1264,
          75,
          57,
          140,
          497,
          266,
          2006,
          615,
          1021,
          22,
          133,
          437,
          1013,
          57,
          1038,
          1573,
          28,
          123,
          13,
          132,
          732,
          66,
          1631,
          608,
          1822,
          1282,
          8,
          43,
          1931,
          8,
          103,
          1169,
          395,
          258,
          25,
          185,
          180,
          22,
          44,
          94,
          81,
          798,
          1334,
          38,
          61,
          300,
          88,
          54,
          1782,
          68,
          258,
          31,
          66,
          174,
          28,
          731,
          274,
          1701,
          312,
          414,
          1565,
          29,
          94,
          1338,
          1092,
          1479,
          54,
          568,
          1199,
          873,
          1213,
          731,
          2043,
          1893,
          424,
          575,
          257,
          56,
          542,
          125,
          69,
          40,
          1016,
          907,
          1566,
          1169,
          46,
          1644,
          59,
          17,
          1853,
          1528,
          35,
          141,
          546,
          500,
          61,
          106,
          704,
          424,
          849,
          85,
          199,
          1147,
          54,
          43,
          53,
          521,
          1623,
          45,
          1435,
          32,
          16,
          52,
          1234,
          15,
          415,
          470,
          1438,
          53,
          51,
          679,
          586,
          653,
          468,
          1679,
          50,
          84,
          1049,
          22,
          30,
          1341,
          444,
          1241,
          843,
          172
         ],
         "yaxis": "y4"
        },
        {
         "name": "Coupons Accepted",
         "type": "box",
         "xaxis": "x5",
         "y": [
          1,
          0,
          0,
          0,
          0,
          0,
          0,
          0,
          1,
          1,
          0,
          0,
          0,
          0,
          0,
          3,
          0,
          0,
          1,
          0,
          0,
          0,
          1,
          0,
          0,
          0,
          0,
          0,
          0,
          1,
          0,
          0,
          1,
          1,
          0,
          0,
          0,
          0,
          0,
          2,
          0,
          0,
          0,
          0,
          0,
          0,
          1,
          0,
          0,
          0,
          0,
          0,
          0,
          3,
          0,
          2,
          1,
          0,
          0,
          0,
          3,
          0,
          0,
          0,
          0,
          1,
          0,
          3,
          0,
          0,
          0,
          0,
          0,
          1,
          0,
          0,
          1,
          2,
          0,
          2,
          0,
          0,
          0,
          0,
          0,
          0,
          1,
          3,
          1,
          0,
          0,
          0,
          0,
          0,
          0,
          0,
          1,
          0,
          1,
          0,
          0,
          0,
          0,
          0,
          1,
          0,
          0,
          0,
          0,
          0,
          0,
          2,
          1,
          3,
          0,
          0,
          2,
          0,
          0,
          0,
          0,
          1,
          0,
          0,
          4,
          0,
          1,
          0,
          0,
          0,
          0,
          0,
          0,
          0,
          0,
          1,
          0,
          0,
          2,
          0,
          0,
          1,
          0,
          0,
          0,
          0,
          1,
          0,
          0,
          0,
          0,
          1,
          0,
          0,
          0,
          3,
          0,
          0,
          0,
          0,
          0,
          0,
          0,
          0,
          0,
          0,
          1,
          1,
          0,
          0,
          0,
          0,
          0,
          0,
          1,
          0,
          3,
          0,
          0,
          1,
          0,
          0,
          0,
          0,
          0,
          0,
          0,
          0,
          0,
          0,
          1,
          0,
          0,
          0,
          0,
          0,
          1,
          0,
          2,
          1,
          0,
          0,
          4,
          0,
          2,
          1,
          0,
          0,
          2,
          0,
          0,
          0,
          0,
          0,
          0,
          0,
          2,
          0,
          0,
          0,
          0,
          0,
          0,
          0,
          0,
          0,
          0,
          0,
          0,
          1,
          1,
          0,
          0,
          0,
          0,
          0,
          0,
          0,
          1,
          0,
          0,
          2,
          0,
          0,
          4,
          0,
          0,
          0,
          0,
          0,
          5,
          0,
          0,
          0,
          1,
          0,
          0,
          0,
          2,
          0,
          0,
          0,
          1,
          0,
          1,
          2,
          0,
          0,
          1,
          0,
          0,
          0,
          0,
          0,
          1,
          0,
          2,
          0,
          0,
          0,
          0,
          0,
          0,
          0,
          0,
          0,
          0,
          0,
          1,
          0,
          1,
          0,
          0,
          2,
          0,
          0,
          0,
          1,
          0,
          0,
          0,
          0,
          0,
          1,
          1,
          1,
          1,
          0,
          0,
          0,
          2,
          0,
          0,
          0,
          0,
          0,
          0,
          2,
          0,
          0,
          0,
          0,
          0,
          0,
          0,
          0,
          0,
          0,
          0,
          0,
          1,
          2,
          0,
          0,
          4,
          0,
          2,
          0,
          0,
          2,
          0,
          2,
          0,
          0,
          1,
          0,
          1,
          0,
          2,
          1,
          0,
          0,
          0,
          1,
          0,
          0,
          0,
          1,
          0,
          0,
          0,
          0,
          0,
          0,
          0,
          0,
          0,
          0,
          0,
          1,
          1,
          1,
          0,
          2,
          0,
          0,
          0,
          0,
          0,
          0,
          0,
          0,
          0,
          2,
          0,
          0,
          0,
          1,
          0,
          0,
          0,
          0,
          0,
          0,
          1,
          0,
          1,
          0,
          0,
          0,
          0,
          2,
          0,
          1,
          0,
          0,
          0,
          1,
          0,
          1,
          0,
          0,
          0,
          1,
          4,
          3,
          0,
          0,
          0,
          0,
          3,
          1,
          0,
          3,
          2,
          0,
          0,
          5,
          0,
          0,
          0,
          0,
          0,
          0,
          0,
          0,
          0,
          0,
          0,
          0,
          0,
          0,
          0,
          0,
          2,
          0,
          0,
          0,
          0,
          0,
          0,
          0,
          0,
          3,
          2,
          0,
          0,
          2,
          0,
          0,
          1,
          0,
          0,
          3,
          0,
          0,
          0,
          0,
          1,
          2,
          0,
          0,
          0,
          0,
          0,
          0,
          0,
          0,
          0,
          2,
          0,
          0,
          1,
          0,
          0,
          0,
          0,
          0,
          0,
          1,
          0,
          1,
          0,
          0,
          0,
          0,
          0,
          0,
          0,
          0,
          0,
          0,
          0,
          0,
          0,
          0,
          0,
          1,
          0,
          1,
          1,
          0,
          0,
          0,
          0,
          0,
          2,
          0,
          1,
          0,
          2,
          1,
          0,
          0,
          0,
          0,
          0,
          0,
          0,
          1,
          0,
          0,
          0,
          0,
          2,
          0,
          0,
          0,
          0,
          0,
          3,
          0,
          0,
          1,
          0,
          2,
          0,
          0,
          2,
          0,
          0,
          1,
          0,
          0,
          1,
          0,
          5,
          0,
          0,
          0,
          0,
          0,
          0,
          0,
          0,
          0,
          0,
          0,
          0,
          0,
          0,
          0,
          4,
          0,
          0,
          0,
          0,
          1,
          0,
          0,
          0,
          0,
          0,
          4,
          0,
          1,
          0,
          1,
          3,
          0,
          0,
          0,
          1,
          0,
          0,
          0,
          0,
          0,
          0,
          0,
          0,
          0,
          1,
          0,
          0,
          0,
          1,
          0,
          0,
          0,
          0,
          1,
          0,
          0,
          0,
          0,
          0,
          0,
          0,
          2,
          0,
          1,
          0,
          0,
          1,
          0,
          0,
          0,
          0,
          0,
          2,
          1,
          0,
          0,
          0,
          1,
          1,
          0,
          0,
          0,
          1,
          3,
          0,
          3,
          0,
          0,
          0,
          1,
          0,
          0,
          0,
          0,
          0,
          0,
          0,
          0,
          1,
          0,
          0,
          0,
          0,
          0,
          0,
          0,
          0,
          0,
          0,
          0,
          0,
          0,
          0,
          0,
          0,
          2,
          0,
          2,
          0,
          0,
          0,
          0,
          0,
          0,
          0,
          1,
          0,
          2,
          0,
          2,
          0,
          0,
          0,
          1,
          0,
          0,
          1,
          0,
          1,
          0,
          0,
          1,
          4,
          0,
          2,
          0,
          0,
          1,
          2,
          0,
          0,
          0,
          0,
          0,
          0,
          2,
          0,
          0,
          0,
          0,
          0,
          0,
          0,
          2,
          0,
          1,
          0,
          0,
          1,
          0,
          0,
          0,
          0,
          3,
          4,
          0,
          0,
          0,
          0,
          0,
          0,
          0,
          0,
          1,
          1,
          0,
          0,
          1,
          2,
          0,
          0,
          0,
          4,
          0,
          0,
          1,
          0,
          0,
          0,
          0,
          0,
          0,
          2,
          0,
          0,
          0,
          0,
          0,
          0,
          0,
          0,
          1,
          0,
          0,
          0,
          0,
          0,
          0,
          0,
          0,
          0,
          0,
          0,
          0,
          0,
          0,
          2,
          1,
          0,
          0,
          4,
          1,
          0,
          0,
          1,
          0,
          0,
          0,
          0,
          0,
          0,
          0,
          0,
          4,
          0,
          0,
          0,
          1,
          0,
          0,
          1,
          0,
          0,
          0,
          0,
          0,
          0,
          0,
          0,
          3,
          0,
          2,
          0,
          5,
          0,
          2,
          0,
          0,
          0,
          0,
          0,
          0,
          0,
          0,
          0,
          0,
          0,
          0,
          1,
          0,
          0,
          0,
          0,
          0,
          4,
          0,
          0,
          0,
          0,
          0,
          0,
          2,
          1,
          3,
          0,
          0,
          0,
          0,
          1,
          0,
          0,
          0,
          0,
          0,
          0,
          0,
          0,
          0,
          0,
          2,
          1,
          0,
          0,
          0,
          3,
          0,
          0,
          0,
          0,
          2,
          0,
          0,
          0,
          1,
          0,
          0,
          0,
          0,
          0,
          1,
          0,
          0,
          0,
          2,
          0,
          1,
          0,
          0,
          0,
          0,
          0,
          0,
          0,
          0,
          0,
          2,
          0,
          0,
          0,
          0,
          0,
          1,
          1,
          2,
          0,
          0,
          3,
          0,
          1,
          2,
          0,
          1,
          0,
          1,
          0,
          1,
          1,
          0,
          0,
          0,
          0,
          1,
          0,
          0,
          0,
          0,
          1,
          0,
          0,
          0,
          0,
          2,
          4,
          0,
          2,
          0,
          0,
          0,
          0,
          0,
          1,
          1,
          0,
          0,
          0,
          1,
          0,
          0,
          0,
          0,
          0,
          1,
          0,
          0,
          0,
          3,
          0,
          1,
          0,
          0,
          0,
          0,
          0,
          0,
          0,
          1,
          0,
          0,
          1,
          0,
          0,
          0,
          0,
          3,
          0,
          0,
          4,
          0,
          0,
          5,
          0,
          1,
          0,
          0,
          0,
          1,
          0,
          1,
          0,
          3,
          3,
          3,
          0,
          0,
          2,
          0,
          1,
          1,
          0,
          3,
          0,
          0,
          0,
          0,
          0,
          1,
          0,
          0,
          0,
          0,
          0,
          1,
          0,
          0,
          0,
          2,
          0,
          0,
          0,
          2,
          1,
          0,
          0,
          1,
          0,
          0,
          0,
          2,
          0,
          1,
          0,
          0,
          1,
          1,
          0,
          0,
          0,
          1,
          1,
          1,
          1,
          0,
          1,
          0,
          0,
          0,
          0,
          0,
          0,
          1,
          1,
          1,
          1,
          0,
          0,
          3,
          0,
          0,
          0,
          0,
          0,
          0,
          0,
          0,
          1,
          2,
          0,
          0,
          0,
          0,
          1,
          1,
          0,
          2,
          0,
          0,
          5,
          0,
          1,
          1,
          0,
          0,
          0,
          0,
          0,
          0,
          0,
          0,
          0,
          4,
          0,
          0,
          0,
          0,
          1,
          0,
          0,
          1,
          0,
          0,
          2,
          0,
          1,
          0,
          2,
          2,
          2,
          0,
          0,
          0,
          0,
          0,
          0,
          0,
          1,
          0,
          0,
          0,
          1,
          1,
          0,
          0,
          1,
          4,
          0,
          0,
          1,
          0,
          0,
          0,
          0,
          0,
          0,
          0,
          0,
          2,
          0,
          0,
          2,
          0,
          0,
          0,
          2,
          0,
          0,
          1,
          0,
          0,
          0,
          0,
          0,
          1,
          0,
          0,
          0,
          0,
          0,
          0,
          0,
          1,
          0,
          0,
          1,
          0,
          0,
          0,
          0,
          0,
          1,
          0,
          0,
          2,
          0,
          0,
          0,
          0,
          1,
          0,
          0,
          1,
          3,
          0,
          0,
          0,
          0,
          0,
          1,
          0,
          0,
          0,
          0,
          0,
          2,
          0,
          1,
          1,
          0,
          1,
          0,
          1,
          0,
          1,
          1,
          0,
          1,
          0,
          0,
          0,
          0,
          0,
          0,
          1,
          1,
          0,
          0,
          1,
          2,
          0,
          0,
          0,
          0,
          0,
          0,
          0,
          0,
          0,
          3,
          0,
          0,
          0,
          0,
          1,
          0,
          0,
          0,
          0,
          0,
          0,
          1,
          3,
          1,
          2,
          0,
          0,
          1,
          1,
          0,
          1,
          2,
          1,
          2,
          2,
          0,
          1,
          4,
          1,
          0,
          0,
          0,
          1,
          0,
          2,
          0,
          0,
          1,
          1,
          0,
          1,
          0,
          2,
          3,
          0,
          0,
          0,
          0,
          2,
          0,
          4,
          0,
          0,
          0,
          0,
          0,
          0,
          0,
          0,
          1,
          2,
          0,
          0,
          4,
          0,
          0,
          1,
          0,
          0,
          2,
          5,
          0,
          0,
          0,
          0,
          0,
          0,
          0,
          0,
          0,
          0,
          0,
          0,
          0,
          1,
          2,
          0,
          0,
          0,
          0,
          0,
          2,
          0,
          1,
          2,
          0,
          4,
          0,
          0,
          0,
          0,
          1,
          1,
          0,
          2,
          0,
          0,
          0,
          0,
          0,
          1,
          1,
          0,
          1,
          0,
          0,
          2,
          0,
          1,
          0,
          0,
          0,
          0,
          1,
          0,
          0,
          1,
          1,
          0,
          0,
          0,
          0,
          0,
          0,
          0,
          1,
          0,
          0,
          0,
          2,
          1,
          0,
          0,
          0,
          0,
          0,
          0,
          2,
          0,
          0,
          0,
          0,
          0,
          0,
          0,
          0,
          0,
          0,
          0,
          0,
          0,
          0,
          0,
          0,
          0,
          1,
          0,
          0,
          0,
          0,
          0,
          1,
          0,
          4,
          0,
          2,
          0,
          0,
          0,
          0,
          0,
          0,
          0,
          0,
          1,
          0,
          0,
          0,
          0,
          0,
          0,
          0,
          0,
          0,
          2,
          0,
          0,
          1,
          0,
          0,
          0,
          0,
          0,
          0,
          1,
          2,
          2,
          0,
          0,
          1,
          0,
          0,
          0,
          0,
          1,
          0,
          0,
          0,
          1,
          0,
          4,
          1,
          1,
          0,
          2,
          0,
          0,
          0,
          0,
          1,
          0,
          0,
          0,
          0,
          0,
          3,
          0,
          0,
          0,
          0,
          0,
          1,
          0,
          0,
          0,
          0,
          0,
          0,
          0,
          1,
          1,
          0,
          1,
          0,
          4,
          0,
          0,
          0,
          0,
          2,
          0,
          0,
          0,
          0,
          1,
          0,
          2,
          1,
          0,
          1,
          0,
          0,
          0,
          0,
          0,
          0,
          1,
          0,
          0,
          0,
          0,
          1,
          1,
          0,
          0,
          0,
          0,
          0,
          0,
          0,
          3,
          0,
          1,
          1,
          0,
          1,
          0,
          0,
          0,
          1,
          1,
          0,
          0,
          0,
          0,
          0,
          0,
          0,
          0,
          1,
          0,
          0,
          0,
          0,
          0,
          1,
          0,
          0,
          2,
          0,
          0,
          0,
          0,
          0,
          0,
          0,
          0,
          0,
          1,
          0,
          1,
          0,
          3,
          0,
          2,
          0,
          1,
          0,
          1,
          2,
          0,
          0,
          0,
          0,
          0,
          0,
          1,
          2,
          1,
          0,
          0,
          1,
          0,
          0,
          1,
          0,
          0,
          1,
          0,
          1,
          0,
          0,
          0,
          1,
          1,
          0,
          0,
          0,
          0,
          1,
          0,
          0,
          0,
          0,
          2,
          0,
          1,
          0,
          0,
          0,
          0,
          0,
          1,
          0,
          0,
          0,
          0,
          0,
          0,
          0,
          1,
          0,
          0,
          0,
          0,
          0,
          0,
          0,
          0,
          0,
          0,
          0,
          0,
          4,
          0,
          0,
          0,
          0,
          0,
          1,
          1,
          0,
          0,
          1,
          1,
          0,
          0,
          0,
          0,
          0,
          0,
          3,
          0,
          0,
          0,
          0,
          0,
          0,
          0,
          0,
          0,
          2,
          3,
          0,
          2,
          1,
          0,
          0,
          0,
          0,
          0,
          0,
          1,
          0,
          0,
          0,
          0,
          0,
          1,
          3,
          0,
          0,
          0,
          0,
          0,
          0,
          0,
          0,
          0,
          1,
          0,
          0,
          0,
          0,
          0,
          0,
          1,
          0,
          1,
          0,
          0,
          0,
          5,
          4,
          0,
          1,
          0,
          0,
          0,
          0,
          0,
          2,
          0,
          4,
          4,
          1,
          1,
          1,
          1,
          0,
          0,
          0,
          0,
          0,
          1,
          1,
          0,
          0,
          0,
          1,
          1,
          0,
          1,
          0,
          1,
          1,
          0,
          0,
          0,
          0,
          0,
          3,
          2,
          0,
          0,
          2,
          0,
          0,
          0,
          1,
          0,
          0,
          0,
          0,
          0,
          0,
          0,
          0,
          0,
          0,
          0,
          1,
          1,
          0,
          0,
          0,
          0,
          1,
          0,
          0,
          0,
          0,
          0,
          0,
          0,
          0,
          1,
          0,
          0,
          0,
          0,
          0,
          0,
          0,
          1,
          0,
          1,
          0,
          0,
          0,
          1,
          0,
          0,
          1,
          0,
          1,
          1,
          0,
          0,
          0,
          1,
          1,
          0,
          0,
          1,
          1,
          0,
          0,
          1,
          1,
          0,
          0,
          1,
          0,
          0,
          0,
          0,
          0,
          0,
          1,
          0,
          1,
          0,
          0,
          0,
          0,
          1,
          0,
          0,
          1,
          0,
          1,
          0,
          4,
          0,
          0,
          0,
          4,
          0,
          0,
          0,
          0,
          3,
          0,
          0,
          1,
          1,
          2,
          0,
          0,
          0,
          0,
          0,
          0,
          0,
          0,
          2,
          2,
          0,
          0,
          0,
          4,
          0,
          0,
          0,
          0,
          0,
          0,
          1,
          1,
          0,
          0,
          1,
          2,
          0,
          1,
          0,
          0,
          0,
          2,
          0,
          1,
          0,
          3,
          0,
          2,
          0,
          0,
          1,
          1,
          0,
          0,
          0,
          0,
          0,
          0,
          1,
          0,
          0,
          0,
          0,
          1,
          0,
          1,
          0,
          3,
          0,
          3,
          0,
          0,
          0,
          0,
          0,
          0,
          5,
          1,
          0,
          0,
          2,
          0,
          1,
          0,
          0,
          0,
          0,
          0,
          0,
          0,
          1,
          1,
          0,
          0,
          4,
          0,
          0,
          0,
          0,
          0,
          1,
          0,
          0,
          0,
          0,
          0,
          0,
          1,
          0,
          0,
          0,
          1,
          2,
          0,
          0,
          4,
          0,
          1,
          0,
          0,
          0,
          0,
          2,
          2,
          1,
          1,
          1,
          0,
          0,
          0,
          0,
          0,
          1,
          2,
          0,
          1,
          2,
          0,
          0,
          0,
          0,
          0,
          0,
          0,
          2,
          0,
          2,
          2,
          0,
          4,
          2,
          0,
          1,
          0,
          0,
          0,
          1,
          0,
          0,
          0,
          0,
          1,
          0,
          0,
          0,
          0,
          4,
          0,
          1,
          0,
          1,
          0,
          0,
          0,
          0,
          0,
          0,
          0,
          0,
          0,
          0,
          0,
          2,
          0,
          2,
          0,
          0,
          0,
          1,
          0,
          0,
          0,
          0,
          1,
          0,
          0,
          0,
          0,
          0,
          0,
          0,
          2,
          1,
          0,
          0,
          1,
          0,
          0,
          0,
          0,
          0,
          0,
          0,
          0,
          0,
          0,
          0,
          0,
          0,
          0,
          0,
          0,
          0,
          0,
          0,
          0,
          0,
          1,
          0,
          1,
          0,
          0,
          0,
          0,
          0,
          0,
          0,
          0,
          2,
          0,
          0,
          1,
          0,
          0,
          1,
          0,
          0,
          3,
          2,
          0,
          0,
          0,
          3,
          2,
          0,
          0,
          1,
          2,
          0,
          0,
          0,
          2,
          0,
          2,
          0,
          1,
          0,
          0,
          0,
          0,
          0,
          0,
          0,
          0,
          0,
          0,
          0,
          0,
          1,
          3,
          0,
          2,
          1,
          0,
          0,
          2,
          0,
          0,
          0,
          0,
          1,
          0,
          0,
          1,
          0,
          0,
          0,
          0,
          2,
          2,
          0,
          0,
          0,
          0,
          0,
          1,
          0,
          1,
          0,
          0,
          0,
          0,
          1,
          0,
          1,
          0,
          0,
          1,
          0,
          0,
          0,
          5,
          3,
          0,
          1,
          4,
          0,
          0,
          2,
          3,
          0,
          0,
          1,
          0,
          0,
          1,
          0,
          0,
          0,
          1,
          1,
          1,
          0,
          0,
          1,
          0,
          0,
          3,
          2,
          0,
          0,
          1,
          2,
          0,
          0,
          0,
          1,
          0,
          0,
          0,
          0,
          1,
          0,
          0,
          0,
          0,
          0,
          0,
          0,
          0,
          0,
          0,
          0,
          0,
          0,
          3,
          0,
          0,
          1,
          0,
          0,
          0,
          1,
          0,
          1,
          0,
          0,
          0,
          0,
          1,
          1,
          0,
          1
         ],
         "yaxis": "y5"
        },
        {
         "name": "Total Purchases",
         "type": "box",
         "xaxis": "x6",
         "y": [
          22,
          4,
          20,
          6,
          14,
          20,
          17,
          8,
          5,
          1,
          3,
          5,
          15,
          12,
          4,
          25,
          6,
          11,
          24,
          6,
          11,
          28,
          14,
          17,
          13,
          6,
          10,
          27,
          7,
          25,
          6,
          10,
          7,
          11,
          17,
          5,
          23,
          6,
          5,
          22,
          19,
          5,
          3,
          8,
          5,
          15,
          7,
          4,
          7,
          19,
          16,
          28,
          5,
          20,
          16,
          26,
          20,
          5,
          5,
          16,
          20,
          18,
          20,
          18,
          15,
          4,
          3,
          31,
          17,
          12,
          18,
          6,
          26,
          19,
          7,
          3,
          18,
          22,
          3,
          19,
          8,
          3,
          6,
          10,
          26,
          5,
          8,
          13,
          18,
          9,
          17,
          3,
          14,
          4,
          7,
          5,
          17,
          5,
          24,
          14,
          5,
          5,
          25,
          15,
          19,
          4,
          9,
          22,
          7,
          13,
          23,
          16,
          17,
          24,
          16,
          6,
          15,
          15,
          5,
          5,
          18,
          6,
          4,
          4,
          27,
          14,
          15,
          6,
          14,
          19,
          14,
          18,
          18,
          18,
          11,
          22,
          4,
          6,
          4,
          5,
          21,
          15,
          22,
          22,
          9,
          12,
          5,
          3,
          9,
          7,
          15,
          15,
          13,
          7,
          24,
          20,
          12,
          3,
          8,
          17,
          3,
          25,
          7,
          19,
          22,
          6,
          17,
          11,
          14,
          6,
          4,
          5,
          7,
          6,
          6,
          27,
          24,
          5,
          3,
          24,
          9,
          6,
          23,
          5,
          5,
          4,
          5,
          16,
          23,
          5,
          4,
          27,
          6,
          12,
          4,
          22,
          16,
          16,
          9,
          16,
          17,
          26,
          26,
          4,
          3,
          4,
          11,
          5,
          24,
          10,
          19,
          11,
          16,
          16,
          14,
          3,
          24,
          10,
          26,
          6,
          15,
          20,
          9,
          27,
          8,
          14,
          15,
          16,
          3,
          14,
          13,
          3,
          4,
          26,
          6,
          4,
          18,
          7,
          21,
          14,
          4,
          21,
          24,
          4,
          14,
          19,
          19,
          21,
          5,
          4,
          28,
          9,
          21,
          4,
          16,
          12,
          6,
          3,
          4,
          22,
          11,
          3,
          11,
          7,
          18,
          7,
          12,
          6,
          12,
          7,
          10,
          6,
          6,
          21,
          21,
          11,
          16,
          21,
          7,
          14,
          11,
          14,
          5,
          6,
          22,
          20,
          21,
          13,
          4,
          7,
          18,
          6,
          3,
          20,
          4,
          6,
          11,
          23,
          7,
          20,
          6,
          10,
          7,
          22,
          6,
          17,
          17,
          10,
          7,
          5,
          23,
          22,
          10,
          5,
          6,
          13,
          4,
          15,
          18,
          3,
          3,
          18,
          18,
          17,
          6,
          4,
          4,
          8,
          3,
          5,
          17,
          4,
          5,
          21,
          21,
          4,
          21,
          20,
          7,
          17,
          16,
          3,
          15,
          4,
          14,
          5,
          3,
          22,
          20,
          15,
          17,
          19,
          5,
          6,
          14,
          13,
          14,
          21,
          18,
          7,
          3,
          15,
          17,
          25,
          5,
          15,
          14,
          4,
          10,
          4,
          19,
          6,
          7,
          4,
          4,
          18,
          4,
          3,
          3,
          11,
          9,
          3,
          5,
          14,
          22,
          6,
          16,
          19,
          10,
          15,
          9,
          20,
          23,
          8,
          4,
          4,
          7,
          6,
          22,
          8,
          10,
          15,
          4,
          6,
          11,
          5,
          16,
          6,
          13,
          32,
          13,
          17,
          18,
          6,
          20,
          25,
          20,
          5,
          5,
          3,
          15,
          22,
          3,
          26,
          17,
          5,
          22,
          15,
          16,
          24,
          24,
          5,
          4,
          20,
          15,
          7,
          5,
          4,
          8,
          3,
          4,
          4,
          3,
          9,
          16,
          5,
          14,
          22,
          24,
          6,
          14,
          24,
          12,
          23,
          10,
          11,
          18,
          12,
          21,
          7,
          18,
          7,
          19,
          16,
          3,
          17,
          22,
          29,
          3,
          23,
          4,
          4,
          22,
          4,
          16,
          15,
          14,
          5,
          5,
          10,
          11,
          18,
          28,
          15,
          19,
          4,
          9,
          19,
          12,
          21,
          11,
          19,
          19,
          5,
          17,
          24,
          20,
          4,
          4,
          8,
          19,
          4,
          26,
          23,
          21,
          7,
          19,
          9,
          22,
          13,
          18,
          13,
          21,
          7,
          4,
          16,
          19,
          5,
          12,
          12,
          15,
          7,
          4,
          19,
          14,
          16,
          13,
          15,
          16,
          16,
          10,
          5,
          12,
          6,
          15,
          10,
          6,
          6,
          9,
          12,
          19,
          18,
          6,
          13,
          7,
          6,
          4,
          5,
          6,
          16,
          7,
          24,
          10,
          19,
          18,
          6,
          19,
          6,
          19,
          24,
          21,
          12,
          10,
          15,
          3,
          3,
          3,
          11,
          4,
          8,
          11,
          5,
          18,
          8,
          6,
          6,
          10,
          10,
          13,
          4,
          6,
          5,
          7,
          21,
          18,
          15,
          5,
          5,
          21,
          19,
          4,
          14,
          6,
          5,
          4,
          6,
          7,
          4,
          20,
          16,
          17,
          7,
          8,
          5,
          4,
          4,
          17,
          10,
          11,
          4,
          5,
          22,
          13,
          4,
          1,
          4,
          12,
          14,
          5,
          13,
          4,
          20,
          5,
          19,
          27,
          6,
          9,
          23,
          13,
          21,
          6,
          20,
          3,
          31,
          13,
          21,
          16,
          22,
          20,
          19,
          13,
          12,
          10,
          30,
          10,
          25,
          15,
          19,
          4,
          27,
          6,
          13,
          0,
          8,
          9,
          25,
          8,
          18,
          3,
          23,
          5,
          4,
          4,
          3,
          5,
          4,
          9,
          25,
          16,
          13,
          18,
          14,
          3,
          18,
          16,
          8,
          19,
          21,
          29,
          14,
          10,
          16,
          18,
          21,
          29,
          20,
          14,
          16,
          12,
          9,
          4,
          6,
          7,
          3,
          5,
          18,
          27,
          17,
          18,
          18,
          14,
          9,
          20,
          5,
          18,
          11,
          4,
          3,
          22,
          6,
          17,
          10,
          10,
          16,
          5,
          25,
          3,
          14,
          20,
          4,
          15,
          7,
          5,
          23,
          22,
          14,
          25,
          3,
          15,
          16,
          11,
          11,
          25,
          17,
          12,
          3,
          18,
          26,
          6,
          6,
          7,
          20,
          19,
          6,
          23,
          3,
          27,
          21,
          15,
          23,
          24,
          20,
          23,
          18,
          15,
          6,
          7,
          6,
          17,
          20,
          5,
          18,
          9,
          16,
          28,
          7,
          14,
          19,
          19,
          17,
          6,
          1,
          3,
          6,
          17,
          4,
          20,
          18,
          4,
          4,
          3,
          4,
          5,
          7,
          18,
          16,
          13,
          13,
          16,
          5,
          11,
          7,
          12,
          20,
          23,
          23,
          7,
          17,
          4,
          7,
          27,
          22,
          15,
          5,
          13,
          13,
          20,
          4,
          5,
          15,
          21,
          22,
          16,
          3,
          16,
          20,
          5,
          17,
          5,
          17,
          7,
          19,
          23,
          14,
          4,
          21,
          4,
          5,
          17,
          17,
          5,
          4,
          23,
          12,
          26,
          4,
          18,
          6,
          11,
          7,
          7,
          16,
          18,
          17,
          20,
          9,
          7,
          11,
          17,
          24,
          4,
          15,
          24,
          4,
          19,
          4,
          25,
          5,
          11,
          3,
          11,
          11,
          14,
          14,
          3,
          13,
          5,
          16,
          14,
          7,
          8,
          22,
          17,
          16,
          7,
          27,
          7,
          6,
          5,
          3,
          5,
          21,
          18,
          11,
          5,
          16,
          18,
          5,
          12,
          24,
          3,
          22,
          23,
          19,
          23,
          14,
          7,
          17,
          9,
          15,
          12,
          11,
          17,
          18,
          3,
          5,
          9,
          21,
          18,
          25,
          8,
          17,
          13,
          14,
          19,
          12,
          24,
          4,
          18,
          6,
          6,
          25,
          13,
          18,
          18,
          15,
          20,
          19,
          6,
          23,
          4,
          18,
          6,
          16,
          27,
          23,
          21,
          14,
          18,
          11,
          18,
          6,
          18,
          17,
          11,
          5,
          14,
          5,
          6,
          8,
          6,
          4,
          7,
          13,
          18,
          6,
          12,
          24,
          17,
          5,
          8,
          10,
          18,
          22,
          7,
          3,
          18,
          17,
          7,
          7,
          15,
          23,
          23,
          18,
          14,
          6,
          23,
          3,
          0,
          5,
          26,
          22,
          14,
          18,
          25,
          26,
          5,
          16,
          3,
          17,
          20,
          6,
          3,
          22,
          6,
          22,
          12,
          19,
          11,
          17,
          5,
          11,
          15,
          21,
          19,
          6,
          3,
          20,
          7,
          11,
          6,
          6,
          14,
          19,
          10,
          4,
          7,
          7,
          5,
          18,
          5,
          5,
          18,
          6,
          5,
          4,
          27,
          21,
          19,
          15,
          4,
          18,
          11,
          7,
          6,
          5,
          17,
          16,
          5,
          1,
          13,
          4,
          7,
          6,
          26,
          12,
          19,
          19,
          3,
          24,
          5,
          4,
          20,
          11,
          11,
          21,
          16,
          17,
          24,
          18,
          4,
          16,
          5,
          22,
          25,
          3,
          23,
          6,
          19,
          20,
          5,
          13,
          20,
          24,
          4,
          13,
          3,
          12,
          13,
          15,
          3,
          19,
          22,
          4,
          22,
          3,
          16,
          19,
          7,
          16,
          6,
          7,
          14,
          12,
          14,
          3,
          23,
          17,
          12,
          14,
          11,
          5,
          20,
          5,
          6,
          17,
          12,
          15,
          15,
          3,
          19,
          6,
          11,
          4,
          11,
          5,
          18,
          20,
          7,
          11,
          7,
          12,
          13,
          14,
          5,
          3,
          24,
          13,
          3,
          4,
          22,
          20,
          12,
          6,
          19,
          6,
          12,
          18,
          6,
          5,
          6,
          24,
          7,
          7,
          19,
          14,
          3,
          25,
          21,
          3,
          25,
          10,
          6,
          16,
          14,
          10,
          23,
          11,
          19,
          16,
          20,
          10,
          18,
          5,
          6,
          16,
          15,
          3,
          4,
          15,
          14,
          5,
          10,
          3,
          15,
          6,
          17,
          16,
          10,
          18,
          7,
          3,
          4,
          5,
          25,
          8,
          4,
          15,
          21,
          5,
          8,
          7,
          21,
          7,
          17,
          13,
          24,
          8,
          19,
          9,
          4,
          16,
          19,
          25,
          5,
          4,
          7,
          13,
          16,
          29,
          20,
          10,
          7,
          16,
          8,
          23,
          6,
          7,
          3,
          21,
          5,
          7,
          18,
          21,
          5,
          13,
          6,
          9,
          4,
          7,
          5,
          4,
          21,
          7,
          23,
          4,
          8,
          4,
          5,
          22,
          9,
          12,
          0,
          7,
          3,
          3,
          24,
          12,
          24,
          32,
          15,
          21,
          14,
          14,
          17,
          3,
          22,
          4,
          16,
          26,
          5,
          5,
          17,
          19,
          6,
          9,
          18,
          14,
          21,
          10,
          17,
          6,
          18,
          3,
          6,
          22,
          13,
          18,
          26,
          4,
          15,
          11,
          4,
          16,
          5,
          22,
          19,
          3,
          4,
          6,
          3,
          5,
          8,
          4,
          20,
          14,
          6,
          2,
          18,
          5,
          11,
          18,
          21,
          13,
          22,
          27,
          25,
          19,
          22,
          12,
          21,
          11,
          6,
          13,
          4,
          6,
          4,
          26,
          12,
          24,
          12,
          6,
          22,
          6,
          8,
          2,
          16,
          6,
          12,
          18,
          26,
          19,
          11,
          16,
          7,
          4,
          11,
          12,
          13,
          17,
          5,
          3,
          6,
          4,
          14,
          21,
          19,
          22,
          16,
          3,
          10,
          19,
          21,
          6,
          18,
          18,
          7,
          16,
          5,
          14,
          26,
          11,
          15,
          14,
          4,
          9,
          10,
          10,
          6,
          4,
          16,
          23,
          13,
          14,
          5,
          12,
          12,
          9,
          8,
          4,
          3,
          5,
          20,
          4,
          4,
          4,
          20,
          11,
          7,
          4,
          4,
          5,
          21,
          3,
          6,
          21,
          12,
          11,
          20,
          8,
          11,
          20,
          7,
          12,
          20,
          15,
          7,
          21,
          14,
          3,
          20,
          8,
          15,
          5,
          9,
          5,
          6,
          3,
          22,
          19,
          4,
          4,
          6,
          3,
          3,
          5,
          13,
          4,
          4,
          22,
          5,
          12,
          4,
          11,
          3,
          6,
          7,
          6,
          3,
          6,
          20,
          22,
          12,
          17,
          22,
          16,
          13,
          9,
          16,
          22,
          5,
          15,
          15,
          8,
          6,
          25,
          16,
          17,
          18,
          4,
          6,
          4,
          18,
          17,
          19,
          3,
          21,
          5,
          8,
          4,
          17,
          19,
          7,
          22,
          6,
          9,
          25,
          24,
          20,
          4,
          4,
          16,
          22,
          14,
          15,
          27,
          13,
          20,
          11,
          28,
          18,
          6,
          24,
          5,
          15,
          21,
          29,
          12,
          4,
          14,
          19,
          20,
          13,
          17,
          24,
          23,
          22,
          17,
          7,
          23,
          21,
          6,
          10,
          21,
          6,
          6,
          5,
          18,
          21,
          6,
          5,
          0,
          20,
          17,
          6,
          14,
          5,
          22,
          11,
          23,
          7,
          6,
          11,
          4,
          15,
          16,
          25,
          7,
          23,
          19,
          3,
          21,
          6,
          5,
          7,
          18,
          3,
          6,
          15,
          16,
          13,
          27,
          4,
          10,
          3,
          7,
          23,
          7,
          15,
          3,
          20,
          6,
          14,
          19,
          21,
          18,
          14,
          25,
          5,
          17,
          4,
          14,
          11,
          7,
          17,
          7,
          16,
          3,
          16,
          14,
          6,
          26,
          4,
          8,
          11,
          10,
          24,
          8,
          12,
          4,
          12,
          6,
          14,
          7,
          12,
          20,
          5,
          16,
          23,
          19,
          4,
          5,
          4,
          21,
          19,
          14,
          16,
          20,
          5,
          18,
          11,
          4,
          21,
          3,
          12,
          10,
          24,
          7,
          6,
          18,
          15,
          9,
          10,
          15,
          16,
          7,
          6,
          25,
          10,
          7,
          3,
          14,
          20,
          17,
          21,
          5,
          4,
          4,
          13,
          17,
          4,
          20,
          3,
          14,
          20,
          19,
          7,
          6,
          21,
          6,
          28,
          4,
          5,
          12,
          21,
          17,
          16,
          15,
          9,
          22,
          6,
          5,
          5,
          21,
          6,
          23,
          32,
          11,
          17,
          21,
          20,
          30,
          6,
          10,
          4,
          14,
          5,
          22,
          7,
          6,
          3,
          11,
          4,
          15,
          21,
          23,
          21,
          18,
          18,
          3,
          3,
          5,
          19,
          3,
          11,
          4,
          23,
          23,
          6,
          7,
          19,
          7,
          8,
          28,
          11,
          19,
          11,
          21,
          22,
          5,
          25,
          6,
          12,
          15,
          5,
          9,
          21,
          3,
          24,
          18,
          24,
          12,
          6,
          11,
          4,
          23,
          26,
          5,
          4,
          4,
          20,
          17,
          22,
          17,
          22,
          13,
          4,
          8,
          14,
          7,
          24,
          21,
          22,
          3,
          23,
          20,
          13,
          16,
          11,
          4,
          15,
          5,
          6,
          6,
          8,
          5,
          18,
          17,
          5,
          14,
          25,
          6,
          23,
          4,
          16,
          5,
          8,
          6,
          9,
          20,
          16,
          4,
          11,
          8,
          11,
          6,
          18,
          5,
          7,
          23,
          23,
          12,
          10,
          15,
          6,
          16,
          23,
          6,
          5,
          25,
          6,
          9,
          4,
          13,
          6,
          13,
          20,
          24,
          28,
          8,
          14,
          4,
          22,
          25,
          6,
          16,
          16,
          4,
          15,
          13,
          11,
          17,
          4,
          20,
          21,
          16,
          3,
          13,
          5,
          7,
          20,
          23,
          4,
          13,
          15,
          23,
          7,
          7,
          9,
          23,
          9,
          8,
          6,
          24,
          11,
          14,
          22,
          8,
          17,
          5,
          14,
          14,
          22,
          0,
          5,
          15,
          4,
          27,
          3,
          20,
          13,
          19,
          28,
          6,
          6,
          22,
          16,
          13,
          3,
          14,
          13,
          19,
          18,
          6,
          4,
          13,
          21,
          5,
          24,
          5,
          19,
          4,
          4,
          18,
          19,
          24,
          23,
          17,
          4,
          8,
          22,
          5,
          15,
          4,
          15,
          21,
          13,
          19,
          19,
          5,
          20,
          10,
          10,
          4,
          14,
          27,
          16,
          5,
          4,
          14,
          6,
          12,
          13,
          24,
          6,
          4,
          4,
          21,
          20,
          23,
          15,
          25,
          16,
          5,
          6,
          7,
          3,
          5,
          20,
          22,
          25,
          27,
          4,
          17,
          13,
          18,
          19,
          6,
          13,
          6,
          6,
          21,
          4,
          15,
          21,
          3,
          5,
          21,
          4,
          4,
          22,
          7,
          17,
          18,
          21,
          6,
          7,
          8,
          16,
          18,
          22,
          15,
          16,
          4,
          13,
          27,
          7,
          23,
          14,
          6,
          7,
          7,
          25,
          20,
          26,
          20,
          20,
          14,
          4,
          12,
          14,
          9,
          25,
          16,
          7,
          5,
          3,
          8,
          6,
          21,
          7,
          14,
          3,
          10,
          11,
          7,
          14,
          18,
          8,
          27,
          15,
          4,
          21,
          15,
          15,
          14,
          11,
          4,
          3,
          7,
          3,
          6,
          5,
          20,
          13,
          11,
          20,
          16,
          8,
          23,
          21,
          24,
          3,
          5,
          5,
          4,
          3,
          6,
          5,
          11,
          17,
          26,
          6,
          3,
          4,
          22,
          6,
          23,
          20,
          6,
          25,
          11,
          13,
          25,
          18,
          5,
          23,
          17,
          19,
          5,
          5,
          13,
          9,
          8,
          27,
          12,
          21,
          4,
          15,
          13,
          6,
          4,
          6,
          24,
          23,
          23,
          18,
          7,
          6,
          16,
          5,
          27,
          13,
          6,
          15,
          7,
          4,
          16,
          19,
          4,
          18,
          20,
          17,
          4,
          6,
          6,
          9,
          7,
          12,
          13,
          29,
          21,
          24,
          17,
          22,
          6,
          3,
          14,
          3,
          12,
          21,
          22,
          4,
          18,
          10,
          18,
          9,
          4,
          24,
          4,
          18,
          6,
          5,
          7,
          17,
          10,
          20,
          17,
          23,
          4,
          6,
          14,
          24,
          5,
          25,
          21,
          3,
          7,
          3,
          7,
          19,
          5,
          23,
          16,
          17,
          19,
          3,
          4,
          19,
          0,
          5,
          14,
          14,
          10,
          4,
          9,
          7,
          4,
          5,
          7,
          6,
          21,
          18,
          4,
          7,
          12,
          6,
          5,
          14,
          7,
          10,
          4,
          6,
          8,
          4,
          20,
          11,
          23,
          12,
          14,
          22,
          4,
          6,
          17,
          14,
          17,
          4,
          17,
          26,
          21,
          14,
          20,
          18,
          16,
          14,
          13,
          10,
          6,
          17,
          6,
          6,
          4,
          24,
          22,
          23,
          14,
          5,
          24,
          4,
          3,
          24,
          20,
          6,
          7,
          15,
          13,
          6,
          6,
          22,
          14,
          21,
          5,
          9,
          16,
          6,
          4,
          4,
          16,
          17,
          5,
          18,
          1,
          3,
          5,
          17,
          3,
          13,
          15,
          20,
          7,
          6,
          19,
          16,
          18,
          14,
          1,
          5,
          6,
          25,
          3,
          3,
          16,
          15,
          18,
          21,
          8
         ],
         "yaxis": "y6"
        }
       ],
       "layout": {
        "height": 400,
        "template": {
         "data": {
          "bar": [
           {
            "error_x": {
             "color": "#2a3f5f"
            },
            "error_y": {
             "color": "#2a3f5f"
            },
            "marker": {
             "line": {
              "color": "#E5ECF6",
              "width": 0.5
             },
             "pattern": {
              "fillmode": "overlay",
              "size": 10,
              "solidity": 0.2
             }
            },
            "type": "bar"
           }
          ],
          "barpolar": [
           {
            "marker": {
             "line": {
              "color": "#E5ECF6",
              "width": 0.5
             },
             "pattern": {
              "fillmode": "overlay",
              "size": 10,
              "solidity": 0.2
             }
            },
            "type": "barpolar"
           }
          ],
          "carpet": [
           {
            "aaxis": {
             "endlinecolor": "#2a3f5f",
             "gridcolor": "white",
             "linecolor": "white",
             "minorgridcolor": "white",
             "startlinecolor": "#2a3f5f"
            },
            "baxis": {
             "endlinecolor": "#2a3f5f",
             "gridcolor": "white",
             "linecolor": "white",
             "minorgridcolor": "white",
             "startlinecolor": "#2a3f5f"
            },
            "type": "carpet"
           }
          ],
          "choropleth": [
           {
            "colorbar": {
             "outlinewidth": 0,
             "ticks": ""
            },
            "type": "choropleth"
           }
          ],
          "contour": [
           {
            "colorbar": {
             "outlinewidth": 0,
             "ticks": ""
            },
            "colorscale": [
             [
              0,
              "#0d0887"
             ],
             [
              0.1111111111111111,
              "#46039f"
             ],
             [
              0.2222222222222222,
              "#7201a8"
             ],
             [
              0.3333333333333333,
              "#9c179e"
             ],
             [
              0.4444444444444444,
              "#bd3786"
             ],
             [
              0.5555555555555556,
              "#d8576b"
             ],
             [
              0.6666666666666666,
              "#ed7953"
             ],
             [
              0.7777777777777778,
              "#fb9f3a"
             ],
             [
              0.8888888888888888,
              "#fdca26"
             ],
             [
              1,
              "#f0f921"
             ]
            ],
            "type": "contour"
           }
          ],
          "contourcarpet": [
           {
            "colorbar": {
             "outlinewidth": 0,
             "ticks": ""
            },
            "type": "contourcarpet"
           }
          ],
          "heatmap": [
           {
            "colorbar": {
             "outlinewidth": 0,
             "ticks": ""
            },
            "colorscale": [
             [
              0,
              "#0d0887"
             ],
             [
              0.1111111111111111,
              "#46039f"
             ],
             [
              0.2222222222222222,
              "#7201a8"
             ],
             [
              0.3333333333333333,
              "#9c179e"
             ],
             [
              0.4444444444444444,
              "#bd3786"
             ],
             [
              0.5555555555555556,
              "#d8576b"
             ],
             [
              0.6666666666666666,
              "#ed7953"
             ],
             [
              0.7777777777777778,
              "#fb9f3a"
             ],
             [
              0.8888888888888888,
              "#fdca26"
             ],
             [
              1,
              "#f0f921"
             ]
            ],
            "type": "heatmap"
           }
          ],
          "heatmapgl": [
           {
            "colorbar": {
             "outlinewidth": 0,
             "ticks": ""
            },
            "colorscale": [
             [
              0,
              "#0d0887"
             ],
             [
              0.1111111111111111,
              "#46039f"
             ],
             [
              0.2222222222222222,
              "#7201a8"
             ],
             [
              0.3333333333333333,
              "#9c179e"
             ],
             [
              0.4444444444444444,
              "#bd3786"
             ],
             [
              0.5555555555555556,
              "#d8576b"
             ],
             [
              0.6666666666666666,
              "#ed7953"
             ],
             [
              0.7777777777777778,
              "#fb9f3a"
             ],
             [
              0.8888888888888888,
              "#fdca26"
             ],
             [
              1,
              "#f0f921"
             ]
            ],
            "type": "heatmapgl"
           }
          ],
          "histogram": [
           {
            "marker": {
             "pattern": {
              "fillmode": "overlay",
              "size": 10,
              "solidity": 0.2
             }
            },
            "type": "histogram"
           }
          ],
          "histogram2d": [
           {
            "colorbar": {
             "outlinewidth": 0,
             "ticks": ""
            },
            "colorscale": [
             [
              0,
              "#0d0887"
             ],
             [
              0.1111111111111111,
              "#46039f"
             ],
             [
              0.2222222222222222,
              "#7201a8"
             ],
             [
              0.3333333333333333,
              "#9c179e"
             ],
             [
              0.4444444444444444,
              "#bd3786"
             ],
             [
              0.5555555555555556,
              "#d8576b"
             ],
             [
              0.6666666666666666,
              "#ed7953"
             ],
             [
              0.7777777777777778,
              "#fb9f3a"
             ],
             [
              0.8888888888888888,
              "#fdca26"
             ],
             [
              1,
              "#f0f921"
             ]
            ],
            "type": "histogram2d"
           }
          ],
          "histogram2dcontour": [
           {
            "colorbar": {
             "outlinewidth": 0,
             "ticks": ""
            },
            "colorscale": [
             [
              0,
              "#0d0887"
             ],
             [
              0.1111111111111111,
              "#46039f"
             ],
             [
              0.2222222222222222,
              "#7201a8"
             ],
             [
              0.3333333333333333,
              "#9c179e"
             ],
             [
              0.4444444444444444,
              "#bd3786"
             ],
             [
              0.5555555555555556,
              "#d8576b"
             ],
             [
              0.6666666666666666,
              "#ed7953"
             ],
             [
              0.7777777777777778,
              "#fb9f3a"
             ],
             [
              0.8888888888888888,
              "#fdca26"
             ],
             [
              1,
              "#f0f921"
             ]
            ],
            "type": "histogram2dcontour"
           }
          ],
          "mesh3d": [
           {
            "colorbar": {
             "outlinewidth": 0,
             "ticks": ""
            },
            "type": "mesh3d"
           }
          ],
          "parcoords": [
           {
            "line": {
             "colorbar": {
              "outlinewidth": 0,
              "ticks": ""
             }
            },
            "type": "parcoords"
           }
          ],
          "pie": [
           {
            "automargin": true,
            "type": "pie"
           }
          ],
          "scatter": [
           {
            "fillpattern": {
             "fillmode": "overlay",
             "size": 10,
             "solidity": 0.2
            },
            "type": "scatter"
           }
          ],
          "scatter3d": [
           {
            "line": {
             "colorbar": {
              "outlinewidth": 0,
              "ticks": ""
             }
            },
            "marker": {
             "colorbar": {
              "outlinewidth": 0,
              "ticks": ""
             }
            },
            "type": "scatter3d"
           }
          ],
          "scattercarpet": [
           {
            "marker": {
             "colorbar": {
              "outlinewidth": 0,
              "ticks": ""
             }
            },
            "type": "scattercarpet"
           }
          ],
          "scattergeo": [
           {
            "marker": {
             "colorbar": {
              "outlinewidth": 0,
              "ticks": ""
             }
            },
            "type": "scattergeo"
           }
          ],
          "scattergl": [
           {
            "marker": {
             "colorbar": {
              "outlinewidth": 0,
              "ticks": ""
             }
            },
            "type": "scattergl"
           }
          ],
          "scattermapbox": [
           {
            "marker": {
             "colorbar": {
              "outlinewidth": 0,
              "ticks": ""
             }
            },
            "type": "scattermapbox"
           }
          ],
          "scatterpolar": [
           {
            "marker": {
             "colorbar": {
              "outlinewidth": 0,
              "ticks": ""
             }
            },
            "type": "scatterpolar"
           }
          ],
          "scatterpolargl": [
           {
            "marker": {
             "colorbar": {
              "outlinewidth": 0,
              "ticks": ""
             }
            },
            "type": "scatterpolargl"
           }
          ],
          "scatterternary": [
           {
            "marker": {
             "colorbar": {
              "outlinewidth": 0,
              "ticks": ""
             }
            },
            "type": "scatterternary"
           }
          ],
          "surface": [
           {
            "colorbar": {
             "outlinewidth": 0,
             "ticks": ""
            },
            "colorscale": [
             [
              0,
              "#0d0887"
             ],
             [
              0.1111111111111111,
              "#46039f"
             ],
             [
              0.2222222222222222,
              "#7201a8"
             ],
             [
              0.3333333333333333,
              "#9c179e"
             ],
             [
              0.4444444444444444,
              "#bd3786"
             ],
             [
              0.5555555555555556,
              "#d8576b"
             ],
             [
              0.6666666666666666,
              "#ed7953"
             ],
             [
              0.7777777777777778,
              "#fb9f3a"
             ],
             [
              0.8888888888888888,
              "#fdca26"
             ],
             [
              1,
              "#f0f921"
             ]
            ],
            "type": "surface"
           }
          ],
          "table": [
           {
            "cells": {
             "fill": {
              "color": "#EBF0F8"
             },
             "line": {
              "color": "white"
             }
            },
            "header": {
             "fill": {
              "color": "#C8D4E3"
             },
             "line": {
              "color": "white"
             }
            },
            "type": "table"
           }
          ]
         },
         "layout": {
          "annotationdefaults": {
           "arrowcolor": "#2a3f5f",
           "arrowhead": 0,
           "arrowwidth": 1
          },
          "autotypenumbers": "strict",
          "coloraxis": {
           "colorbar": {
            "outlinewidth": 0,
            "ticks": ""
           }
          },
          "colorscale": {
           "diverging": [
            [
             0,
             "#8e0152"
            ],
            [
             0.1,
             "#c51b7d"
            ],
            [
             0.2,
             "#de77ae"
            ],
            [
             0.3,
             "#f1b6da"
            ],
            [
             0.4,
             "#fde0ef"
            ],
            [
             0.5,
             "#f7f7f7"
            ],
            [
             0.6,
             "#e6f5d0"
            ],
            [
             0.7,
             "#b8e186"
            ],
            [
             0.8,
             "#7fbc41"
            ],
            [
             0.9,
             "#4d9221"
            ],
            [
             1,
             "#276419"
            ]
           ],
           "sequential": [
            [
             0,
             "#0d0887"
            ],
            [
             0.1111111111111111,
             "#46039f"
            ],
            [
             0.2222222222222222,
             "#7201a8"
            ],
            [
             0.3333333333333333,
             "#9c179e"
            ],
            [
             0.4444444444444444,
             "#bd3786"
            ],
            [
             0.5555555555555556,
             "#d8576b"
            ],
            [
             0.6666666666666666,
             "#ed7953"
            ],
            [
             0.7777777777777778,
             "#fb9f3a"
            ],
            [
             0.8888888888888888,
             "#fdca26"
            ],
            [
             1,
             "#f0f921"
            ]
           ],
           "sequentialminus": [
            [
             0,
             "#0d0887"
            ],
            [
             0.1111111111111111,
             "#46039f"
            ],
            [
             0.2222222222222222,
             "#7201a8"
            ],
            [
             0.3333333333333333,
             "#9c179e"
            ],
            [
             0.4444444444444444,
             "#bd3786"
            ],
            [
             0.5555555555555556,
             "#d8576b"
            ],
            [
             0.6666666666666666,
             "#ed7953"
            ],
            [
             0.7777777777777778,
             "#fb9f3a"
            ],
            [
             0.8888888888888888,
             "#fdca26"
            ],
            [
             1,
             "#f0f921"
            ]
           ]
          },
          "colorway": [
           "#636efa",
           "#EF553B",
           "#00cc96",
           "#ab63fa",
           "#FFA15A",
           "#19d3f3",
           "#FF6692",
           "#B6E880",
           "#FF97FF",
           "#FECB52"
          ],
          "font": {
           "color": "#2a3f5f"
          },
          "geo": {
           "bgcolor": "white",
           "lakecolor": "white",
           "landcolor": "#E5ECF6",
           "showlakes": true,
           "showland": true,
           "subunitcolor": "white"
          },
          "hoverlabel": {
           "align": "left"
          },
          "hovermode": "closest",
          "mapbox": {
           "style": "light"
          },
          "paper_bgcolor": "white",
          "plot_bgcolor": "#E5ECF6",
          "polar": {
           "angularaxis": {
            "gridcolor": "white",
            "linecolor": "white",
            "ticks": ""
           },
           "bgcolor": "#E5ECF6",
           "radialaxis": {
            "gridcolor": "white",
            "linecolor": "white",
            "ticks": ""
           }
          },
          "scene": {
           "xaxis": {
            "backgroundcolor": "#E5ECF6",
            "gridcolor": "white",
            "gridwidth": 2,
            "linecolor": "white",
            "showbackground": true,
            "ticks": "",
            "zerolinecolor": "white"
           },
           "yaxis": {
            "backgroundcolor": "#E5ECF6",
            "gridcolor": "white",
            "gridwidth": 2,
            "linecolor": "white",
            "showbackground": true,
            "ticks": "",
            "zerolinecolor": "white"
           },
           "zaxis": {
            "backgroundcolor": "#E5ECF6",
            "gridcolor": "white",
            "gridwidth": 2,
            "linecolor": "white",
            "showbackground": true,
            "ticks": "",
            "zerolinecolor": "white"
           }
          },
          "shapedefaults": {
           "line": {
            "color": "#2a3f5f"
           }
          },
          "ternary": {
           "aaxis": {
            "gridcolor": "white",
            "linecolor": "white",
            "ticks": ""
           },
           "baxis": {
            "gridcolor": "white",
            "linecolor": "white",
            "ticks": ""
           },
           "bgcolor": "#E5ECF6",
           "caxis": {
            "gridcolor": "white",
            "linecolor": "white",
            "ticks": ""
           }
          },
          "title": {
           "x": 0.05
          },
          "xaxis": {
           "automargin": true,
           "gridcolor": "white",
           "linecolor": "white",
           "ticks": "",
           "title": {
            "standoff": 15
           },
           "zerolinecolor": "white",
           "zerolinewidth": 2
          },
          "yaxis": {
           "automargin": true,
           "gridcolor": "white",
           "linecolor": "white",
           "ticks": "",
           "title": {
            "standoff": 15
           },
           "zerolinecolor": "white",
           "zerolinewidth": 2
          }
         }
        },
        "title": {
         "text": "Box Plot to check for outliers"
        },
        "width": 800,
        "xaxis": {
         "anchor": "y",
         "domain": [
          0,
          0.2888888888888889
         ]
        },
        "xaxis2": {
         "anchor": "y2",
         "domain": [
          0.35555555555555557,
          0.6444444444444445
         ]
        },
        "xaxis3": {
         "anchor": "y3",
         "domain": [
          0.7111111111111111,
          1
         ]
        },
        "xaxis4": {
         "anchor": "y4",
         "domain": [
          0,
          0.2888888888888889
         ]
        },
        "xaxis5": {
         "anchor": "y5",
         "domain": [
          0.35555555555555557,
          0.6444444444444445
         ]
        },
        "xaxis6": {
         "anchor": "y6",
         "domain": [
          0.7111111111111111,
          1
         ]
        },
        "yaxis": {
         "anchor": "x",
         "domain": [
          0.575,
          1
         ]
        },
        "yaxis2": {
         "anchor": "x2",
         "domain": [
          0.575,
          1
         ]
        },
        "yaxis3": {
         "anchor": "x3",
         "domain": [
          0.575,
          1
         ]
        },
        "yaxis4": {
         "anchor": "x4",
         "domain": [
          0,
          0.425
         ]
        },
        "yaxis5": {
         "anchor": "x5",
         "domain": [
          0,
          0.425
         ]
        },
        "yaxis6": {
         "anchor": "x6",
         "domain": [
          0,
          0.425
         ]
        }
       }
      }
     },
     "metadata": {},
     "output_type": "display_data"
    }
   ],
   "source": [
    "trace0 = go.Box(\n",
    "    y=df['Income'],\n",
    "    name='Income'\n",
    ")\n",
    "\n",
    "trace1 = go.Box(\n",
    "    y=df['Age'],\n",
    "    name='Age'\n",
    ")\n",
    "\n",
    "trace2 = go.Box(\n",
    "    y=df['NumDealsPurchases'],\n",
    "    name='Deals Purchases'\n",
    ")\n",
    "\n",
    "trace3 = go.Box(\n",
    "    y=df['Total_Spend'],\n",
    "    name='Total Spend'\n",
    ")\n",
    "\n",
    "trace4 = go.Box(\n",
    "    y=df['CouponsAccepted'],\n",
    "    name='Coupons Accepted'\n",
    ")\n",
    "\n",
    "trace5 = go.Box(\n",
    "    y=df['Total_Purchases'],\n",
    "    name='Total Purchases'\n",
    ")\n",
    "\n",
    "\n",
    "\n",
    "fig = make_subplots(rows=2, cols=3)\n",
    "\n",
    "fig.append_trace(trace0, row = 1, col = 1)\n",
    "fig.append_trace(trace1, row = 1, col = 2)\n",
    "fig.append_trace(trace2, row = 1, col = 3)\n",
    "fig.append_trace(trace3, row = 2, col = 1)\n",
    "fig.append_trace(trace4, row = 2, col = 2)\n",
    "fig.append_trace(trace5, row = 2, col = 3)\n",
    "\n",
    "fig.update_layout(width=800, height=400, title='Box Plot to check for outliers')\n",
    "\n",
    "fig.show()"
   ]
  },
  {
   "cell_type": "code",
   "execution_count": 547,
   "metadata": {},
   "outputs": [],
   "source": [
    "# df['Age'] = np.where(df['Age'] <= 30, \"(0,30]\", np.where(df['Age'] <= 45, \"(30,45]\", np.where(df['Age'] <= 60, \"(45,60]\",\"[60, ]\")))\n",
    "df['Age'] = np.where(df['Age'] <= 30, \"(0,30]\", np.where(df['Age'] <= 40, \"(30,40]\", np.where(df['Age'] <= 50, \"(40,50]\", np.where(df['Age'] <= 60, \"(50, 60]\", np.where(df['Age'] <=70, \"(60, 70]\", (70, ))))))"
   ]
  },
  {
   "cell_type": "code",
   "execution_count": 548,
   "metadata": {},
   "outputs": [],
   "source": [
    "del df['Customer_Type']\n",
    "del df['Complain']\n",
    "del df['Unnamed: 0']"
   ]
  },
  {
   "cell_type": "code",
   "execution_count": 549,
   "metadata": {},
   "outputs": [],
   "source": [
    "df_ = df.copy()\n",
    "df_.reset_index(inplace=True)"
   ]
  },
  {
   "cell_type": "code",
   "execution_count": 550,
   "metadata": {},
   "outputs": [
    {
     "name": "stdout",
     "output_type": "stream",
     "text": [
      "['Income', 'NumDealsPurchases', 'Kids', 'Days_Enrolled', 'Total_Spend', 'CouponsAccepted', 'Total_Purchases']\n"
     ]
    }
   ],
   "source": [
    "#scaling\n",
    "\n",
    "\n",
    "int_list = []\n",
    "for col in df.columns:\n",
    "    if df[col].dtypes == int or df[col].dtypes == float:\n",
    "        int_list.append(col)\n",
    "print(int_list)"
   ]
  },
  {
   "cell_type": "code",
   "execution_count": 551,
   "metadata": {},
   "outputs": [],
   "source": [
    "autoscaler = StandardScaler()\n",
    "df[int_list] = autoscaler.fit_transform(df[int_list])"
   ]
  },
  {
   "cell_type": "code",
   "execution_count": 552,
   "metadata": {},
   "outputs": [
    {
     "data": {
      "text/plain": [
       "Education                    object\n",
       "Marital_Status               object\n",
       "Income                      float64\n",
       "Dt_Customer          datetime64[ns]\n",
       "NumDealsPurchases           float64\n",
       "Age                          object\n",
       "Kids                        float64\n",
       "Days_Enrolled               float64\n",
       "Total_Spend                 float64\n",
       "Recency_                     object\n",
       "CouponsAccepted             float64\n",
       "Total_Purchases             float64\n",
       "dtype: object"
      ]
     },
     "execution_count": 552,
     "metadata": {},
     "output_type": "execute_result"
    }
   ],
   "source": [
    "df.dtypes"
   ]
  },
  {
   "cell_type": "code",
   "execution_count": 553,
   "metadata": {},
   "outputs": [],
   "source": [
    "df.reset_index('ID', inplace=True)"
   ]
  },
  {
   "cell_type": "code",
   "execution_count": 554,
   "metadata": {},
   "outputs": [],
   "source": [
    "df.reset_index(inplace=True)"
   ]
  },
  {
   "cell_type": "code",
   "execution_count": 555,
   "metadata": {},
   "outputs": [
    {
     "data": {
      "text/plain": [
       "['Education', 'Marital_Status', 'Age', 'Recency_']"
      ]
     },
     "execution_count": 555,
     "metadata": {},
     "output_type": "execute_result"
    }
   ],
   "source": [
    "obj_col = []\n",
    "for col in df.columns:\n",
    "    if df[col].dtypes == object:\n",
    "        obj_col.append(col)\n",
    "obj_col"
   ]
  },
  {
   "cell_type": "code",
   "execution_count": 556,
   "metadata": {},
   "outputs": [
    {
     "data": {
      "text/plain": [
       "['Education', 'Marital_Status', 'Recency_']"
      ]
     },
     "execution_count": 556,
     "metadata": {},
     "output_type": "execute_result"
    }
   ],
   "source": [
    "#Normalisation\n",
    "\n",
    "onehotencoder = OneHotEncoder() \n",
    "data = pd.DataFrame(onehotencoder.fit_transform(df[['Age', 'Recency_']]).toarray())\n",
    "data = data.reset_index()\n",
    "df = pd.merge(left = df, right = data, on = 'index')\n",
    "df = df.drop(columns = ['Age'])\n",
    "\n",
    "\n",
    "obj_col = []\n",
    "for col in df.columns:\n",
    "    if df[col].dtypes == object:\n",
    "        obj_col.append(col)\n",
    "obj_col"
   ]
  },
  {
   "cell_type": "code",
   "execution_count": 557,
   "metadata": {},
   "outputs": [
    {
     "data": {
      "text/html": [
       "<div>\n",
       "<style scoped>\n",
       "    .dataframe tbody tr th:only-of-type {\n",
       "        vertical-align: middle;\n",
       "    }\n",
       "\n",
       "    .dataframe tbody tr th {\n",
       "        vertical-align: top;\n",
       "    }\n",
       "\n",
       "    .dataframe thead th {\n",
       "        text-align: right;\n",
       "    }\n",
       "</style>\n",
       "<table border=\"1\" class=\"dataframe\">\n",
       "  <thead>\n",
       "    <tr style=\"text-align: right;\">\n",
       "      <th></th>\n",
       "      <th>index</th>\n",
       "      <th>ID</th>\n",
       "      <th>Education</th>\n",
       "      <th>Marital_Status</th>\n",
       "      <th>Income</th>\n",
       "      <th>Dt_Customer</th>\n",
       "      <th>NumDealsPurchases</th>\n",
       "      <th>Kids</th>\n",
       "      <th>Days_Enrolled</th>\n",
       "      <th>Total_Spend</th>\n",
       "      <th>Recency_</th>\n",
       "      <th>CouponsAccepted</th>\n",
       "      <th>Total_Purchases</th>\n",
       "      <th>0</th>\n",
       "      <th>1</th>\n",
       "      <th>2</th>\n",
       "      <th>3</th>\n",
       "      <th>4</th>\n",
       "      <th>5</th>\n",
       "      <th>6</th>\n",
       "      <th>7</th>\n",
       "      <th>8</th>\n",
       "      <th>9</th>\n",
       "      <th>10</th>\n",
       "      <th>11</th>\n",
       "      <th>12</th>\n",
       "      <th>13</th>\n",
       "    </tr>\n",
       "  </thead>\n",
       "  <tbody>\n",
       "    <tr>\n",
       "      <th>0</th>\n",
       "      <td>0</td>\n",
       "      <td>5524</td>\n",
       "      <td>1</td>\n",
       "      <td>4</td>\n",
       "      <td>0.288513</td>\n",
       "      <td>2012-09-04</td>\n",
       "      <td>0.348738</td>\n",
       "      <td>-1.264308</td>\n",
       "      <td>1.529793</td>\n",
       "      <td>1.680176</td>\n",
       "      <td>4</td>\n",
       "      <td>0.620456</td>\n",
       "      <td>1.312080</td>\n",
       "      <td>0.0</td>\n",
       "      <td>0.0</td>\n",
       "      <td>0.0</td>\n",
       "      <td>0.0</td>\n",
       "      <td>1.0</td>\n",
       "      <td>0.0</td>\n",
       "      <td>0.0</td>\n",
       "      <td>0.0</td>\n",
       "      <td>0.0</td>\n",
       "      <td>0.0</td>\n",
       "      <td>1.0</td>\n",
       "      <td>0.0</td>\n",
       "      <td>0.0</td>\n",
       "      <td>0.0</td>\n",
       "    </tr>\n",
       "    <tr>\n",
       "      <th>1</th>\n",
       "      <td>1</td>\n",
       "      <td>2174</td>\n",
       "      <td>1</td>\n",
       "      <td>4</td>\n",
       "      <td>-0.262438</td>\n",
       "      <td>2014-03-08</td>\n",
       "      <td>-0.168700</td>\n",
       "      <td>1.395139</td>\n",
       "      <td>-1.191143</td>\n",
       "      <td>-0.962202</td>\n",
       "      <td>2</td>\n",
       "      <td>-0.501987</td>\n",
       "      <td>-1.186198</td>\n",
       "      <td>0.0</td>\n",
       "      <td>0.0</td>\n",
       "      <td>0.0</td>\n",
       "      <td>0.0</td>\n",
       "      <td>1.0</td>\n",
       "      <td>0.0</td>\n",
       "      <td>0.0</td>\n",
       "      <td>0.0</td>\n",
       "      <td>1.0</td>\n",
       "      <td>0.0</td>\n",
       "      <td>0.0</td>\n",
       "      <td>0.0</td>\n",
       "      <td>0.0</td>\n",
       "      <td>0.0</td>\n",
       "    </tr>\n",
       "    <tr>\n",
       "      <th>2</th>\n",
       "      <td>2</td>\n",
       "      <td>4141</td>\n",
       "      <td>1</td>\n",
       "      <td>5</td>\n",
       "      <td>0.917992</td>\n",
       "      <td>2013-08-21</td>\n",
       "      <td>-0.686137</td>\n",
       "      <td>-1.264308</td>\n",
       "      <td>-0.206659</td>\n",
       "      <td>0.282541</td>\n",
       "      <td>1</td>\n",
       "      <td>-0.501987</td>\n",
       "      <td>1.034493</td>\n",
       "      <td>0.0</td>\n",
       "      <td>0.0</td>\n",
       "      <td>0.0</td>\n",
       "      <td>1.0</td>\n",
       "      <td>0.0</td>\n",
       "      <td>0.0</td>\n",
       "      <td>0.0</td>\n",
       "      <td>1.0</td>\n",
       "      <td>0.0</td>\n",
       "      <td>0.0</td>\n",
       "      <td>0.0</td>\n",
       "      <td>0.0</td>\n",
       "      <td>0.0</td>\n",
       "      <td>0.0</td>\n",
       "    </tr>\n",
       "    <tr>\n",
       "      <th>3</th>\n",
       "      <td>3</td>\n",
       "      <td>6182</td>\n",
       "      <td>1</td>\n",
       "      <td>5</td>\n",
       "      <td>-1.182621</td>\n",
       "      <td>2014-02-10</td>\n",
       "      <td>-0.168700</td>\n",
       "      <td>0.065416</td>\n",
       "      <td>-1.062517</td>\n",
       "      <td>-0.918994</td>\n",
       "      <td>1</td>\n",
       "      <td>-0.501987</td>\n",
       "      <td>-0.908611</td>\n",
       "      <td>0.0</td>\n",
       "      <td>1.0</td>\n",
       "      <td>0.0</td>\n",
       "      <td>0.0</td>\n",
       "      <td>0.0</td>\n",
       "      <td>0.0</td>\n",
       "      <td>0.0</td>\n",
       "      <td>1.0</td>\n",
       "      <td>0.0</td>\n",
       "      <td>0.0</td>\n",
       "      <td>0.0</td>\n",
       "      <td>0.0</td>\n",
       "      <td>0.0</td>\n",
       "      <td>0.0</td>\n",
       "    </tr>\n",
       "    <tr>\n",
       "      <th>4</th>\n",
       "      <td>4</td>\n",
       "      <td>5324</td>\n",
       "      <td>3</td>\n",
       "      <td>3</td>\n",
       "      <td>0.295754</td>\n",
       "      <td>2014-01-19</td>\n",
       "      <td>1.383614</td>\n",
       "      <td>0.065416</td>\n",
       "      <td>-0.953679</td>\n",
       "      <td>-0.305762</td>\n",
       "      <td>6</td>\n",
       "      <td>-0.501987</td>\n",
       "      <td>0.201734</td>\n",
       "      <td>0.0</td>\n",
       "      <td>0.0</td>\n",
       "      <td>1.0</td>\n",
       "      <td>0.0</td>\n",
       "      <td>0.0</td>\n",
       "      <td>0.0</td>\n",
       "      <td>0.0</td>\n",
       "      <td>0.0</td>\n",
       "      <td>0.0</td>\n",
       "      <td>0.0</td>\n",
       "      <td>0.0</td>\n",
       "      <td>0.0</td>\n",
       "      <td>1.0</td>\n",
       "      <td>0.0</td>\n",
       "    </tr>\n",
       "  </tbody>\n",
       "</table>\n",
       "</div>"
      ],
      "text/plain": [
       "   index    ID  Education  Marital_Status    Income Dt_Customer  \\\n",
       "0      0  5524          1               4  0.288513  2012-09-04   \n",
       "1      1  2174          1               4 -0.262438  2014-03-08   \n",
       "2      2  4141          1               5  0.917992  2013-08-21   \n",
       "3      3  6182          1               5 -1.182621  2014-02-10   \n",
       "4      4  5324          3               3  0.295754  2014-01-19   \n",
       "\n",
       "   NumDealsPurchases      Kids  Days_Enrolled  Total_Spend  Recency_  \\\n",
       "0           0.348738 -1.264308       1.529793     1.680176         4   \n",
       "1          -0.168700  1.395139      -1.191143    -0.962202         2   \n",
       "2          -0.686137 -1.264308      -0.206659     0.282541         1   \n",
       "3          -0.168700  0.065416      -1.062517    -0.918994         1   \n",
       "4           1.383614  0.065416      -0.953679    -0.305762         6   \n",
       "\n",
       "   CouponsAccepted  Total_Purchases    0    1    2    3    4    5    6    7  \\\n",
       "0         0.620456         1.312080  0.0  0.0  0.0  0.0  1.0  0.0  0.0  0.0   \n",
       "1        -0.501987        -1.186198  0.0  0.0  0.0  0.0  1.0  0.0  0.0  0.0   \n",
       "2        -0.501987         1.034493  0.0  0.0  0.0  1.0  0.0  0.0  0.0  1.0   \n",
       "3        -0.501987        -0.908611  0.0  1.0  0.0  0.0  0.0  0.0  0.0  1.0   \n",
       "4        -0.501987         0.201734  0.0  0.0  1.0  0.0  0.0  0.0  0.0  0.0   \n",
       "\n",
       "     8    9   10   11   12   13  \n",
       "0  0.0  0.0  1.0  0.0  0.0  0.0  \n",
       "1  1.0  0.0  0.0  0.0  0.0  0.0  \n",
       "2  0.0  0.0  0.0  0.0  0.0  0.0  \n",
       "3  0.0  0.0  0.0  0.0  0.0  0.0  \n",
       "4  0.0  0.0  0.0  0.0  1.0  0.0  "
      ]
     },
     "execution_count": 557,
     "metadata": {},
     "output_type": "execute_result"
    }
   ],
   "source": [
    "label_encoder = LabelEncoder()\n",
    "for col in obj_col:\n",
    "    df[col] = label_encoder.fit_transform(df[col])\n",
    "\n",
    "df.head()\n"
   ]
  },
  {
   "cell_type": "code",
   "execution_count": 558,
   "metadata": {},
   "outputs": [],
   "source": [
    "df.drop(columns=[df.columns[0]], inplace=True)\n",
    "df.set_index('ID', inplace=True)"
   ]
  },
  {
   "cell_type": "code",
   "execution_count": 559,
   "metadata": {},
   "outputs": [
    {
     "data": {
      "image/png": "[encoded data removed]",
      "text/plain": [
       "<Figure size 800x550 with 2 Axes>"
      ]
     },
     "metadata": {},
     "output_type": "display_data"
    },
    {
     "data": {
      "text/plain": [
       "<AxesSubplot: title={'center': 'Distortion Score Elbow for KMeans Clustering'}, xlabel='k', ylabel='distortion score'>"
      ]
     },
     "execution_count": 559,
     "metadata": {},
     "output_type": "execute_result"
    }
   ],
   "source": [
    "# Exclure les colonnes de type DateTime avant de passer au modèle\n",
    "df_numeric = df.select_dtypes(exclude=['datetime64'])\n",
    "\n",
    "# Convertir tous les noms de colonnes en chaînes de caractères\n",
    "df_numeric.columns = df_numeric.columns.astype(str)\n",
    "\n",
    "# Appliquer KMeans avec l'Elbow visualizer\n",
    "model = KMeans(init='k-means++')\n",
    "visualizer = KElbowVisualizer(model, k=10, random_state=42)\n",
    "\n",
    "visualizer.fit(df_numeric)\n",
    "visualizer.show()\n"
   ]
  },
  {
   "cell_type": "code",
   "execution_count": 560,
   "metadata": {},
   "outputs": [],
   "source": [
    "# Convertir les noms de colonnes en chaînes de caractères\n",
    "df.columns = df.columns.astype(str)\n",
    "\n",
    "# Sélectionner uniquement les colonnes numériques\n",
    "df_numeric = df.select_dtypes(include=[np.number])\n",
    "\n",
    "# Appliquer KMeans\n",
    "kmeans = KMeans(n_clusters=4, random_state=42).fit(df_numeric)\n",
    "pred = kmeans.predict(df_numeric)\n",
    "\n",
    "# Ajouter les prédictions au DataFrame original\n",
    "df['Cluster'] = pred + 1\n"
   ]
  },
  {
   "cell_type": "code",
   "execution_count": 561,
   "metadata": {},
   "outputs": [],
   "source": [
    "df = df.reset_index('ID')\n"
   ]
  },
  {
   "cell_type": "code",
   "execution_count": 562,
   "metadata": {},
   "outputs": [],
   "source": [
    "df_ = pd.merge(df_, df[['ID', 'Cluster']], how='left')\n",
    "df_['Cluster'] = df_['Cluster'].astype('str')\n",
    "df_['Cluster'] = np.where(df_['Cluster'] == '1', \"Cluster 1\", np.where(df_['Cluster'] == '2', \"Cluster 2\", np.where(df_['Cluster'] == '3', \"Cluster 3\", \"Cluster 4\")))"
   ]
  },
  {
   "cell_type": "code",
   "execution_count": 563,
   "metadata": {},
   "outputs": [
    {
     "data": {
      "application/vnd.plotly.v1+json": {
       "config": {
        "plotlyServerURL": "https://plot.ly"
       },
       "data": [
        {
         "hole": 0.3,
         "labels": [
          "Cluster 2",
          "Cluster 1",
          "Cluster 4",
          "Cluster 3"
         ],
         "type": "pie",
         "values": [
          744,
          558,
          502,
          432
         ]
        }
       ],
       "layout": {
        "height": 400,
        "template": {
         "data": {
          "bar": [
           {
            "error_x": {
             "color": "#2a3f5f"
            },
            "error_y": {
             "color": "#2a3f5f"
            },
            "marker": {
             "line": {
              "color": "#E5ECF6",
              "width": 0.5
             },
             "pattern": {
              "fillmode": "overlay",
              "size": 10,
              "solidity": 0.2
             }
            },
            "type": "bar"
           }
          ],
          "barpolar": [
           {
            "marker": {
             "line": {
              "color": "#E5ECF6",
              "width": 0.5
             },
             "pattern": {
              "fillmode": "overlay",
              "size": 10,
              "solidity": 0.2
             }
            },
            "type": "barpolar"
           }
          ],
          "carpet": [
           {
            "aaxis": {
             "endlinecolor": "#2a3f5f",
             "gridcolor": "white",
             "linecolor": "white",
             "minorgridcolor": "white",
             "startlinecolor": "#2a3f5f"
            },
            "baxis": {
             "endlinecolor": "#2a3f5f",
             "gridcolor": "white",
             "linecolor": "white",
             "minorgridcolor": "white",
             "startlinecolor": "#2a3f5f"
            },
            "type": "carpet"
           }
          ],
          "choropleth": [
           {
            "colorbar": {
             "outlinewidth": 0,
             "ticks": ""
            },
            "type": "choropleth"
           }
          ],
          "contour": [
           {
            "colorbar": {
             "outlinewidth": 0,
             "ticks": ""
            },
            "colorscale": [
             [
              0,
              "#0d0887"
             ],
             [
              0.1111111111111111,
              "#46039f"
             ],
             [
              0.2222222222222222,
              "#7201a8"
             ],
             [
              0.3333333333333333,
              "#9c179e"
             ],
             [
              0.4444444444444444,
              "#bd3786"
             ],
             [
              0.5555555555555556,
              "#d8576b"
             ],
             [
              0.6666666666666666,
              "#ed7953"
             ],
             [
              0.7777777777777778,
              "#fb9f3a"
             ],
             [
              0.8888888888888888,
              "#fdca26"
             ],
             [
              1,
              "#f0f921"
             ]
            ],
            "type": "contour"
           }
          ],
          "contourcarpet": [
           {
            "colorbar": {
             "outlinewidth": 0,
             "ticks": ""
            },
            "type": "contourcarpet"
           }
          ],
          "heatmap": [
           {
            "colorbar": {
             "outlinewidth": 0,
             "ticks": ""
            },
            "colorscale": [
             [
              0,
              "#0d0887"
             ],
             [
              0.1111111111111111,
              "#46039f"
             ],
             [
              0.2222222222222222,
              "#7201a8"
             ],
             [
              0.3333333333333333,
              "#9c179e"
             ],
             [
              0.4444444444444444,
              "#bd3786"
             ],
             [
              0.5555555555555556,
              "#d8576b"
             ],
             [
              0.6666666666666666,
              "#ed7953"
             ],
             [
              0.7777777777777778,
              "#fb9f3a"
             ],
             [
              0.8888888888888888,
              "#fdca26"
             ],
             [
              1,
              "#f0f921"
             ]
            ],
            "type": "heatmap"
           }
          ],
          "heatmapgl": [
           {
            "colorbar": {
             "outlinewidth": 0,
             "ticks": ""
            },
            "colorscale": [
             [
              0,
              "#0d0887"
             ],
             [
              0.1111111111111111,
              "#46039f"
             ],
             [
              0.2222222222222222,
              "#7201a8"
             ],
             [
              0.3333333333333333,
              "#9c179e"
             ],
             [
              0.4444444444444444,
              "#bd3786"
             ],
             [
              0.5555555555555556,
              "#d8576b"
             ],
             [
              0.6666666666666666,
              "#ed7953"
             ],
             [
              0.7777777777777778,
              "#fb9f3a"
             ],
             [
              0.8888888888888888,
              "#fdca26"
             ],
             [
              1,
              "#f0f921"
             ]
            ],
            "type": "heatmapgl"
           }
          ],
          "histogram": [
           {
            "marker": {
             "pattern": {
              "fillmode": "overlay",
              "size": 10,
              "solidity": 0.2
             }
            },
            "type": "histogram"
           }
          ],
          "histogram2d": [
           {
            "colorbar": {
             "outlinewidth": 0,
             "ticks": ""
            },
            "colorscale": [
             [
              0,
              "#0d0887"
             ],
             [
              0.1111111111111111,
              "#46039f"
             ],
             [
              0.2222222222222222,
              "#7201a8"
             ],
             [
              0.3333333333333333,
              "#9c179e"
             ],
             [
              0.4444444444444444,
              "#bd3786"
             ],
             [
              0.5555555555555556,
              "#d8576b"
             ],
             [
              0.6666666666666666,
              "#ed7953"
             ],
             [
              0.7777777777777778,
              "#fb9f3a"
             ],
             [
              0.8888888888888888,
              "#fdca26"
             ],
             [
              1,
              "#f0f921"
             ]
            ],
            "type": "histogram2d"
           }
          ],
          "histogram2dcontour": [
           {
            "colorbar": {
             "outlinewidth": 0,
             "ticks": ""
            },
            "colorscale": [
             [
              0,
              "#0d0887"
             ],
             [
              0.1111111111111111,
              "#46039f"
             ],
             [
              0.2222222222222222,
              "#7201a8"
             ],
             [
              0.3333333333333333,
              "#9c179e"
             ],
             [
              0.4444444444444444,
              "#bd3786"
             ],
             [
              0.5555555555555556,
              "#d8576b"
             ],
             [
              0.6666666666666666,
              "#ed7953"
             ],
             [
              0.7777777777777778,
              "#fb9f3a"
             ],
             [
              0.8888888888888888,
              "#fdca26"
             ],
             [
              1,
              "#f0f921"
             ]
            ],
            "type": "histogram2dcontour"
           }
          ],
          "mesh3d": [
           {
            "colorbar": {
             "outlinewidth": 0,
             "ticks": ""
            },
            "type": "mesh3d"
           }
          ],
          "parcoords": [
           {
            "line": {
             "colorbar": {
              "outlinewidth": 0,
              "ticks": ""
             }
            },
            "type": "parcoords"
           }
          ],
          "pie": [
           {
            "automargin": true,
            "type": "pie"
           }
          ],
          "scatter": [
           {
            "fillpattern": {
             "fillmode": "overlay",
             "size": 10,
             "solidity": 0.2
            },
            "type": "scatter"
           }
          ],
          "scatter3d": [
           {
            "line": {
             "colorbar": {
              "outlinewidth": 0,
              "ticks": ""
             }
            },
            "marker": {
             "colorbar": {
              "outlinewidth": 0,
              "ticks": ""
             }
            },
            "type": "scatter3d"
           }
          ],
          "scattercarpet": [
           {
            "marker": {
             "colorbar": {
              "outlinewidth": 0,
              "ticks": ""
             }
            },
            "type": "scattercarpet"
           }
          ],
          "scattergeo": [
           {
            "marker": {
             "colorbar": {
              "outlinewidth": 0,
              "ticks": ""
             }
            },
            "type": "scattergeo"
           }
          ],
          "scattergl": [
           {
            "marker": {
             "colorbar": {
              "outlinewidth": 0,
              "ticks": ""
             }
            },
            "type": "scattergl"
           }
          ],
          "scattermapbox": [
           {
            "marker": {
             "colorbar": {
              "outlinewidth": 0,
              "ticks": ""
             }
            },
            "type": "scattermapbox"
           }
          ],
          "scatterpolar": [
           {
            "marker": {
             "colorbar": {
              "outlinewidth": 0,
              "ticks": ""
             }
            },
            "type": "scatterpolar"
           }
          ],
          "scatterpolargl": [
           {
            "marker": {
             "colorbar": {
              "outlinewidth": 0,
              "ticks": ""
             }
            },
            "type": "scatterpolargl"
           }
          ],
          "scatterternary": [
           {
            "marker": {
             "colorbar": {
              "outlinewidth": 0,
              "ticks": ""
             }
            },
            "type": "scatterternary"
           }
          ],
          "surface": [
           {
            "colorbar": {
             "outlinewidth": 0,
             "ticks": ""
            },
            "colorscale": [
             [
              0,
              "#0d0887"
             ],
             [
              0.1111111111111111,
              "#46039f"
             ],
             [
              0.2222222222222222,
              "#7201a8"
             ],
             [
              0.3333333333333333,
              "#9c179e"
             ],
             [
              0.4444444444444444,
              "#bd3786"
             ],
             [
              0.5555555555555556,
              "#d8576b"
             ],
             [
              0.6666666666666666,
              "#ed7953"
             ],
             [
              0.7777777777777778,
              "#fb9f3a"
             ],
             [
              0.8888888888888888,
              "#fdca26"
             ],
             [
              1,
              "#f0f921"
             ]
            ],
            "type": "surface"
           }
          ],
          "table": [
           {
            "cells": {
             "fill": {
              "color": "#EBF0F8"
             },
             "line": {
              "color": "white"
             }
            },
            "header": {
             "fill": {
              "color": "#C8D4E3"
             },
             "line": {
              "color": "white"
             }
            },
            "type": "table"
           }
          ]
         },
         "layout": {
          "annotationdefaults": {
           "arrowcolor": "#2a3f5f",
           "arrowhead": 0,
           "arrowwidth": 1
          },
          "autotypenumbers": "strict",
          "coloraxis": {
           "colorbar": {
            "outlinewidth": 0,
            "ticks": ""
           }
          },
          "colorscale": {
           "diverging": [
            [
             0,
             "#8e0152"
            ],
            [
             0.1,
             "#c51b7d"
            ],
            [
             0.2,
             "#de77ae"
            ],
            [
             0.3,
             "#f1b6da"
            ],
            [
             0.4,
             "#fde0ef"
            ],
            [
             0.5,
             "#f7f7f7"
            ],
            [
             0.6,
             "#e6f5d0"
            ],
            [
             0.7,
             "#b8e186"
            ],
            [
             0.8,
             "#7fbc41"
            ],
            [
             0.9,
             "#4d9221"
            ],
            [
             1,
             "#276419"
            ]
           ],
           "sequential": [
            [
             0,
             "#0d0887"
            ],
            [
             0.1111111111111111,
             "#46039f"
            ],
            [
             0.2222222222222222,
             "#7201a8"
            ],
            [
             0.3333333333333333,
             "#9c179e"
            ],
            [
             0.4444444444444444,
             "#bd3786"
            ],
            [
             0.5555555555555556,
             "#d8576b"
            ],
            [
             0.6666666666666666,
             "#ed7953"
            ],
            [
             0.7777777777777778,
             "#fb9f3a"
            ],
            [
             0.8888888888888888,
             "#fdca26"
            ],
            [
             1,
             "#f0f921"
            ]
           ],
           "sequentialminus": [
            [
             0,
             "#0d0887"
            ],
            [
             0.1111111111111111,
             "#46039f"
            ],
            [
             0.2222222222222222,
             "#7201a8"
            ],
            [
             0.3333333333333333,
             "#9c179e"
            ],
            [
             0.4444444444444444,
             "#bd3786"
            ],
            [
             0.5555555555555556,
             "#d8576b"
            ],
            [
             0.6666666666666666,
             "#ed7953"
            ],
            [
             0.7777777777777778,
             "#fb9f3a"
            ],
            [
             0.8888888888888888,
             "#fdca26"
            ],
            [
             1,
             "#f0f921"
            ]
           ]
          },
          "colorway": [
           "#636efa",
           "#EF553B",
           "#00cc96",
           "#ab63fa",
           "#FFA15A",
           "#19d3f3",
           "#FF6692",
           "#B6E880",
           "#FF97FF",
           "#FECB52"
          ],
          "font": {
           "color": "#2a3f5f"
          },
          "geo": {
           "bgcolor": "white",
           "lakecolor": "white",
           "landcolor": "#E5ECF6",
           "showlakes": true,
           "showland": true,
           "subunitcolor": "white"
          },
          "hoverlabel": {
           "align": "left"
          },
          "hovermode": "closest",
          "mapbox": {
           "style": "light"
          },
          "paper_bgcolor": "white",
          "plot_bgcolor": "#E5ECF6",
          "polar": {
           "angularaxis": {
            "gridcolor": "white",
            "linecolor": "white",
            "ticks": ""
           },
           "bgcolor": "#E5ECF6",
           "radialaxis": {
            "gridcolor": "white",
            "linecolor": "white",
            "ticks": ""
           }
          },
          "scene": {
           "xaxis": {
            "backgroundcolor": "#E5ECF6",
            "gridcolor": "white",
            "gridwidth": 2,
            "linecolor": "white",
            "showbackground": true,
            "ticks": "",
            "zerolinecolor": "white"
           },
           "yaxis": {
            "backgroundcolor": "#E5ECF6",
            "gridcolor": "white",
            "gridwidth": 2,
            "linecolor": "white",
            "showbackground": true,
            "ticks": "",
            "zerolinecolor": "white"
           },
           "zaxis": {
            "backgroundcolor": "#E5ECF6",
            "gridcolor": "white",
            "gridwidth": 2,
            "linecolor": "white",
            "showbackground": true,
            "ticks": "",
            "zerolinecolor": "white"
           }
          },
          "shapedefaults": {
           "line": {
            "color": "#2a3f5f"
           }
          },
          "ternary": {
           "aaxis": {
            "gridcolor": "white",
            "linecolor": "white",
            "ticks": ""
           },
           "baxis": {
            "gridcolor": "white",
            "linecolor": "white",
            "ticks": ""
           },
           "bgcolor": "#E5ECF6",
           "caxis": {
            "gridcolor": "white",
            "linecolor": "white",
            "ticks": ""
           }
          },
          "title": {
           "x": 0.05
          },
          "xaxis": {
           "automargin": true,
           "gridcolor": "white",
           "linecolor": "white",
           "ticks": "",
           "title": {
            "standoff": 15
           },
           "zerolinecolor": "white",
           "zerolinewidth": 2
          },
          "yaxis": {
           "automargin": true,
           "gridcolor": "white",
           "linecolor": "white",
           "ticks": "",
           "title": {
            "standoff": 15
           },
           "zerolinecolor": "white",
           "zerolinewidth": 2
          }
         }
        },
        "title": {
         "text": "Cluster"
        },
        "width": 800
       }
      }
     },
     "metadata": {},
     "output_type": "display_data"
    }
   ],
   "source": [
    "df_Edu = pd.DataFrame(df_['Cluster'].value_counts()).reset_index()\n",
    "df_Edu.columns = ['Cluster', 'Count']\n",
    "\n",
    "fig = go.Figure(data=[go.Pie(labels=df_Edu['Cluster'], values=df_Edu['Count'], hole=.3)])\n",
    "fig.update_layout(width=800, height=400, title='Cluster')\n",
    "fig.show()"
   ]
  },
  {
   "cell_type": "code",
   "execution_count": 564,
   "metadata": {},
   "outputs": [
    {
     "data": {
      "application/vnd.plotly.v1+json": {
       "config": {
        "plotlyServerURL": "https://plot.ly"
       },
       "data": [
        {
         "customdata": [
          [
           "Cluster 3"
          ],
          [
           "Cluster 3"
          ],
          [
           "Cluster 3"
          ],
          [
           "Cluster 3"
          ],
          [
           "Cluster 3"
          ],
          [
           "Cluster 3"
          ],
          [
           "Cluster 3"
          ],
          [
           "Cluster 3"
          ],
          [
           "Cluster 3"
          ],
          [
           "Cluster 3"
          ],
          [
           "Cluster 3"
          ],
          [
           "Cluster 3"
          ],
          [
           "Cluster 3"
          ],
          [
           "Cluster 3"
          ],
          [
           "Cluster 3"
          ],
          [
           "Cluster 3"
          ],
          [
           "Cluster 3"
          ],
          [
           "Cluster 3"
          ],
          [
           "Cluster 3"
          ],
          [
           "Cluster 3"
          ],
          [
           "Cluster 3"
          ],
          [
           "Cluster 3"
          ],
          [
           "Cluster 3"
          ],
          [
           "Cluster 3"
          ],
          [
           "Cluster 3"
          ],
          [
           "Cluster 3"
          ],
          [
           "Cluster 3"
          ],
          [
           "Cluster 3"
          ],
          [
           "Cluster 3"
          ],
          [
           "Cluster 3"
          ],
          [
           "Cluster 3"
          ],
          [
           "Cluster 3"
          ],
          [
           "Cluster 3"
          ],
          [
           "Cluster 3"
          ],
          [
           "Cluster 3"
          ],
          [
           "Cluster 3"
          ],
          [
           "Cluster 3"
          ],
          [
           "Cluster 3"
          ],
          [
           "Cluster 3"
          ],
          [
           "Cluster 3"
          ],
          [
           "Cluster 3"
          ],
          [
           "Cluster 3"
          ],
          [
           "Cluster 3"
          ],
          [
           "Cluster 3"
          ],
          [
           "Cluster 3"
          ],
          [
           "Cluster 3"
          ],
          [
           "Cluster 3"
          ],
          [
           "Cluster 3"
          ],
          [
           "Cluster 3"
          ],
          [
           "Cluster 3"
          ],
          [
           "Cluster 3"
          ],
          [
           "Cluster 3"
          ],
          [
           "Cluster 3"
          ],
          [
           "Cluster 3"
          ],
          [
           "Cluster 3"
          ],
          [
           "Cluster 3"
          ],
          [
           "Cluster 3"
          ],
          [
           "Cluster 3"
          ],
          [
           "Cluster 3"
          ],
          [
           "Cluster 3"
          ],
          [
           "Cluster 3"
          ],
          [
           "Cluster 3"
          ],
          [
           "Cluster 3"
          ],
          [
           "Cluster 3"
          ],
          [
           "Cluster 3"
          ],
          [
           "Cluster 3"
          ],
          [
           "Cluster 3"
          ],
          [
           "Cluster 3"
          ],
          [
           "Cluster 3"
          ],
          [
           "Cluster 3"
          ],
          [
           "Cluster 3"
          ],
          [
           "Cluster 3"
          ],
          [
           "Cluster 3"
          ],
          [
           "Cluster 3"
          ],
          [
           "Cluster 3"
          ],
          [
           "Cluster 3"
          ],
          [
           "Cluster 3"
          ],
          [
           "Cluster 3"
          ],
          [
           "Cluster 3"
          ],
          [
           "Cluster 3"
          ],
          [
           "Cluster 3"
          ],
          [
           "Cluster 3"
          ],
          [
           "Cluster 3"
          ],
          [
           "Cluster 3"
          ],
          [
           "Cluster 3"
          ],
          [
           "Cluster 3"
          ],
          [
           "Cluster 3"
          ],
          [
           "Cluster 3"
          ],
          [
           "Cluster 3"
          ],
          [
           "Cluster 3"
          ],
          [
           "Cluster 3"
          ],
          [
           "Cluster 3"
          ],
          [
           "Cluster 3"
          ],
          [
           "Cluster 3"
          ],
          [
           "Cluster 3"
          ],
          [
           "Cluster 3"
          ],
          [
           "Cluster 3"
          ],
          [
           "Cluster 3"
          ],
          [
           "Cluster 3"
          ],
          [
           "Cluster 3"
          ],
          [
           "Cluster 3"
          ],
          [
           "Cluster 3"
          ],
          [
           "Cluster 3"
          ],
          [
           "Cluster 3"
          ],
          [
           "Cluster 3"
          ],
          [
           "Cluster 3"
          ],
          [
           "Cluster 3"
          ],
          [
           "Cluster 3"
          ],
          [
           "Cluster 3"
          ],
          [
           "Cluster 3"
          ],
          [
           "Cluster 3"
          ],
          [
           "Cluster 3"
          ],
          [
           "Cluster 3"
          ],
          [
           "Cluster 3"
          ],
          [
           "Cluster 3"
          ],
          [
           "Cluster 3"
          ],
          [
           "Cluster 3"
          ],
          [
           "Cluster 3"
          ],
          [
           "Cluster 3"
          ],
          [
           "Cluster 3"
          ],
          [
           "Cluster 3"
          ],
          [
           "Cluster 3"
          ],
          [
           "Cluster 3"
          ],
          [
           "Cluster 3"
          ],
          [
           "Cluster 3"
          ],
          [
           "Cluster 3"
          ],
          [
           "Cluster 3"
          ],
          [
           "Cluster 3"
          ],
          [
           "Cluster 3"
          ],
          [
           "Cluster 3"
          ],
          [
           "Cluster 3"
          ],
          [
           "Cluster 3"
          ],
          [
           "Cluster 3"
          ],
          [
           "Cluster 3"
          ],
          [
           "Cluster 3"
          ],
          [
           "Cluster 3"
          ],
          [
           "Cluster 3"
          ],
          [
           "Cluster 3"
          ],
          [
           "Cluster 3"
          ],
          [
           "Cluster 3"
          ],
          [
           "Cluster 3"
          ],
          [
           "Cluster 3"
          ],
          [
           "Cluster 3"
          ],
          [
           "Cluster 3"
          ],
          [
           "Cluster 3"
          ],
          [
           "Cluster 3"
          ],
          [
           "Cluster 3"
          ],
          [
           "Cluster 3"
          ],
          [
           "Cluster 3"
          ],
          [
           "Cluster 3"
          ],
          [
           "Cluster 3"
          ],
          [
           "Cluster 3"
          ],
          [
           "Cluster 3"
          ],
          [
           "Cluster 3"
          ],
          [
           "Cluster 3"
          ],
          [
           "Cluster 3"
          ],
          [
           "Cluster 3"
          ],
          [
           "Cluster 3"
          ],
          [
           "Cluster 3"
          ],
          [
           "Cluster 3"
          ],
          [
           "Cluster 3"
          ],
          [
           "Cluster 3"
          ],
          [
           "Cluster 3"
          ],
          [
           "Cluster 3"
          ],
          [
           "Cluster 3"
          ],
          [
           "Cluster 3"
          ],
          [
           "Cluster 3"
          ],
          [
           "Cluster 3"
          ],
          [
           "Cluster 3"
          ],
          [
           "Cluster 3"
          ],
          [
           "Cluster 3"
          ],
          [
           "Cluster 3"
          ],
          [
           "Cluster 3"
          ],
          [
           "Cluster 3"
          ],
          [
           "Cluster 3"
          ],
          [
           "Cluster 3"
          ],
          [
           "Cluster 3"
          ],
          [
           "Cluster 3"
          ],
          [
           "Cluster 3"
          ],
          [
           "Cluster 3"
          ],
          [
           "Cluster 3"
          ],
          [
           "Cluster 3"
          ],
          [
           "Cluster 3"
          ],
          [
           "Cluster 3"
          ],
          [
           "Cluster 3"
          ],
          [
           "Cluster 3"
          ],
          [
           "Cluster 3"
          ],
          [
           "Cluster 3"
          ],
          [
           "Cluster 3"
          ],
          [
           "Cluster 3"
          ],
          [
           "Cluster 3"
          ],
          [
           "Cluster 3"
          ],
          [
           "Cluster 3"
          ],
          [
           "Cluster 3"
          ],
          [
           "Cluster 3"
          ],
          [
           "Cluster 3"
          ],
          [
           "Cluster 3"
          ],
          [
           "Cluster 3"
          ],
          [
           "Cluster 3"
          ],
          [
           "Cluster 3"
          ],
          [
           "Cluster 3"
          ],
          [
           "Cluster 3"
          ],
          [
           "Cluster 3"
          ],
          [
           "Cluster 3"
          ],
          [
           "Cluster 3"
          ],
          [
           "Cluster 3"
          ],
          [
           "Cluster 3"
          ],
          [
           "Cluster 3"
          ],
          [
           "Cluster 3"
          ],
          [
           "Cluster 3"
          ],
          [
           "Cluster 3"
          ],
          [
           "Cluster 3"
          ],
          [
           "Cluster 3"
          ],
          [
           "Cluster 3"
          ],
          [
           "Cluster 3"
          ],
          [
           "Cluster 3"
          ],
          [
           "Cluster 3"
          ],
          [
           "Cluster 3"
          ],
          [
           "Cluster 3"
          ],
          [
           "Cluster 3"
          ],
          [
           "Cluster 3"
          ],
          [
           "Cluster 3"
          ],
          [
           "Cluster 3"
          ],
          [
           "Cluster 3"
          ],
          [
           "Cluster 3"
          ],
          [
           "Cluster 3"
          ],
          [
           "Cluster 3"
          ],
          [
           "Cluster 3"
          ],
          [
           "Cluster 3"
          ],
          [
           "Cluster 3"
          ],
          [
           "Cluster 3"
          ],
          [
           "Cluster 3"
          ],
          [
           "Cluster 3"
          ],
          [
           "Cluster 3"
          ],
          [
           "Cluster 3"
          ],
          [
           "Cluster 3"
          ],
          [
           "Cluster 3"
          ],
          [
           "Cluster 3"
          ],
          [
           "Cluster 3"
          ],
          [
           "Cluster 3"
          ],
          [
           "Cluster 3"
          ],
          [
           "Cluster 3"
          ],
          [
           "Cluster 3"
          ],
          [
           "Cluster 3"
          ],
          [
           "Cluster 3"
          ],
          [
           "Cluster 3"
          ],
          [
           "Cluster 3"
          ],
          [
           "Cluster 3"
          ],
          [
           "Cluster 3"
          ],
          [
           "Cluster 3"
          ],
          [
           "Cluster 3"
          ],
          [
           "Cluster 3"
          ],
          [
           "Cluster 3"
          ],
          [
           "Cluster 3"
          ],
          [
           "Cluster 3"
          ],
          [
           "Cluster 3"
          ],
          [
           "Cluster 3"
          ],
          [
           "Cluster 3"
          ],
          [
           "Cluster 3"
          ],
          [
           "Cluster 3"
          ],
          [
           "Cluster 3"
          ],
          [
           "Cluster 3"
          ],
          [
           "Cluster 3"
          ],
          [
           "Cluster 3"
          ],
          [
           "Cluster 3"
          ],
          [
           "Cluster 3"
          ],
          [
           "Cluster 3"
          ],
          [
           "Cluster 3"
          ],
          [
           "Cluster 3"
          ],
          [
           "Cluster 3"
          ],
          [
           "Cluster 3"
          ],
          [
           "Cluster 3"
          ],
          [
           "Cluster 3"
          ],
          [
           "Cluster 3"
          ],
          [
           "Cluster 3"
          ],
          [
           "Cluster 3"
          ],
          [
           "Cluster 3"
          ],
          [
           "Cluster 3"
          ],
          [
           "Cluster 3"
          ],
          [
           "Cluster 3"
          ],
          [
           "Cluster 3"
          ],
          [
           "Cluster 3"
          ],
          [
           "Cluster 3"
          ],
          [
           "Cluster 3"
          ],
          [
           "Cluster 3"
          ],
          [
           "Cluster 3"
          ],
          [
           "Cluster 3"
          ],
          [
           "Cluster 3"
          ],
          [
           "Cluster 3"
          ],
          [
           "Cluster 3"
          ],
          [
           "Cluster 3"
          ],
          [
           "Cluster 3"
          ],
          [
           "Cluster 3"
          ],
          [
           "Cluster 3"
          ],
          [
           "Cluster 3"
          ],
          [
           "Cluster 3"
          ],
          [
           "Cluster 3"
          ],
          [
           "Cluster 3"
          ],
          [
           "Cluster 3"
          ],
          [
           "Cluster 3"
          ],
          [
           "Cluster 3"
          ],
          [
           "Cluster 3"
          ],
          [
           "Cluster 3"
          ],
          [
           "Cluster 3"
          ],
          [
           "Cluster 3"
          ],
          [
           "Cluster 3"
          ],
          [
           "Cluster 3"
          ],
          [
           "Cluster 3"
          ],
          [
           "Cluster 3"
          ],
          [
           "Cluster 3"
          ],
          [
           "Cluster 3"
          ],
          [
           "Cluster 3"
          ],
          [
           "Cluster 3"
          ],
          [
           "Cluster 3"
          ],
          [
           "Cluster 3"
          ],
          [
           "Cluster 3"
          ],
          [
           "Cluster 3"
          ],
          [
           "Cluster 3"
          ],
          [
           "Cluster 3"
          ],
          [
           "Cluster 3"
          ],
          [
           "Cluster 3"
          ],
          [
           "Cluster 3"
          ],
          [
           "Cluster 3"
          ],
          [
           "Cluster 3"
          ],
          [
           "Cluster 3"
          ],
          [
           "Cluster 3"
          ],
          [
           "Cluster 3"
          ],
          [
           "Cluster 3"
          ],
          [
           "Cluster 3"
          ],
          [
           "Cluster 3"
          ],
          [
           "Cluster 3"
          ],
          [
           "Cluster 3"
          ],
          [
           "Cluster 3"
          ],
          [
           "Cluster 3"
          ],
          [
           "Cluster 3"
          ],
          [
           "Cluster 3"
          ],
          [
           "Cluster 3"
          ],
          [
           "Cluster 3"
          ],
          [
           "Cluster 3"
          ],
          [
           "Cluster 3"
          ],
          [
           "Cluster 3"
          ],
          [
           "Cluster 3"
          ],
          [
           "Cluster 3"
          ],
          [
           "Cluster 3"
          ],
          [
           "Cluster 3"
          ],
          [
           "Cluster 3"
          ],
          [
           "Cluster 3"
          ],
          [
           "Cluster 3"
          ],
          [
           "Cluster 3"
          ],
          [
           "Cluster 3"
          ],
          [
           "Cluster 3"
          ],
          [
           "Cluster 3"
          ],
          [
           "Cluster 3"
          ],
          [
           "Cluster 3"
          ],
          [
           "Cluster 3"
          ],
          [
           "Cluster 3"
          ],
          [
           "Cluster 3"
          ],
          [
           "Cluster 3"
          ],
          [
           "Cluster 3"
          ],
          [
           "Cluster 3"
          ],
          [
           "Cluster 3"
          ],
          [
           "Cluster 3"
          ],
          [
           "Cluster 3"
          ],
          [
           "Cluster 3"
          ],
          [
           "Cluster 3"
          ],
          [
           "Cluster 3"
          ],
          [
           "Cluster 3"
          ],
          [
           "Cluster 3"
          ],
          [
           "Cluster 3"
          ],
          [
           "Cluster 3"
          ],
          [
           "Cluster 3"
          ],
          [
           "Cluster 3"
          ],
          [
           "Cluster 3"
          ],
          [
           "Cluster 3"
          ],
          [
           "Cluster 3"
          ],
          [
           "Cluster 3"
          ],
          [
           "Cluster 3"
          ],
          [
           "Cluster 3"
          ],
          [
           "Cluster 3"
          ],
          [
           "Cluster 3"
          ],
          [
           "Cluster 3"
          ],
          [
           "Cluster 3"
          ],
          [
           "Cluster 3"
          ],
          [
           "Cluster 3"
          ],
          [
           "Cluster 3"
          ],
          [
           "Cluster 3"
          ],
          [
           "Cluster 3"
          ],
          [
           "Cluster 3"
          ],
          [
           "Cluster 3"
          ],
          [
           "Cluster 3"
          ],
          [
           "Cluster 3"
          ],
          [
           "Cluster 3"
          ],
          [
           "Cluster 3"
          ],
          [
           "Cluster 3"
          ],
          [
           "Cluster 3"
          ],
          [
           "Cluster 3"
          ],
          [
           "Cluster 3"
          ],
          [
           "Cluster 3"
          ],
          [
           "Cluster 3"
          ],
          [
           "Cluster 3"
          ],
          [
           "Cluster 3"
          ],
          [
           "Cluster 3"
          ],
          [
           "Cluster 3"
          ],
          [
           "Cluster 3"
          ],
          [
           "Cluster 3"
          ],
          [
           "Cluster 3"
          ],
          [
           "Cluster 3"
          ],
          [
           "Cluster 3"
          ],
          [
           "Cluster 3"
          ],
          [
           "Cluster 3"
          ],
          [
           "Cluster 3"
          ],
          [
           "Cluster 3"
          ],
          [
           "Cluster 3"
          ],
          [
           "Cluster 3"
          ],
          [
           "Cluster 3"
          ],
          [
           "Cluster 3"
          ],
          [
           "Cluster 3"
          ],
          [
           "Cluster 3"
          ],
          [
           "Cluster 3"
          ],
          [
           "Cluster 3"
          ],
          [
           "Cluster 3"
          ],
          [
           "Cluster 3"
          ],
          [
           "Cluster 3"
          ],
          [
           "Cluster 3"
          ],
          [
           "Cluster 3"
          ],
          [
           "Cluster 3"
          ],
          [
           "Cluster 3"
          ],
          [
           "Cluster 3"
          ],
          [
           "Cluster 3"
          ],
          [
           "Cluster 3"
          ],
          [
           "Cluster 3"
          ],
          [
           "Cluster 3"
          ]
         ],
         "hovertemplate": "Cluster=%{customdata[0]}<br>Income=%{x}<br>Total_Spend=%{y}<extra></extra>",
         "legendgroup": "Cluster 3",
         "marker": {
          "color": "#636efa",
          "symbol": "circle"
         },
         "mode": "markers",
         "name": "Cluster 3",
         "showlegend": true,
         "type": "scattergl",
         "x": [
          58138,
          63033,
          76995,
          58607,
          84618,
          79941,
          74854,
          60631,
          79593,
          52247.25135379061,
          47916,
          85693,
          65846,
          52413,
          86037,
          101970,
          71488,
          77376,
          52247.25135379061,
          86111,
          65747,
          61010,
          80317,
          157243,
          80427,
          83837,
          66973,
          69661,
          80067,
          75922,
          63693,
          70951,
          83790,
          72460,
          79930,
          62745,
          73455,
          64961,
          75027,
          67546,
          65176,
          75702,
          66313,
          60714,
          63841,
          55951,
          77457,
          64100,
          52247.25135379061,
          66334,
          68655,
          55212,
          59292,
          82623,
          71113,
          71952,
          60000,
          65073,
          78618,
          54803,
          79530,
          52614,
          63381,
          83664,
          74293,
          70777,
          68682,
          75072,
          75865,
          93027,
          67309,
          81246,
          57959,
          66664,
          70165,
          66582,
          49269,
          56937,
          62010,
          83151,
          60093,
          76005,
          55614,
          59432,
          78642,
          67911,
          64355,
          65665,
          81217,
          89120,
          73454,
          70503,
          72679,
          85620,
          60504,
          54880,
          87771,
          81741,
          66565,
          79800,
          61794,
          69882,
          62807,
          72906,
          81168,
          48240,
          84196,
          84574,
          73691,
          63381,
          76140,
          77632,
          67445,
          153924,
          56253,
          58330,
          59304,
          52614,
          70337,
          68743,
          65777,
          66476,
          86857,
          50611,
          61209,
          78901,
          71952,
          43185,
          66375,
          76618,
          58710,
          59111,
          72190,
          80395,
          67432,
          82224,
          83844,
          83443,
          58330,
          75507,
          75127,
          78939,
          74250,
          71466,
          82017,
          70421,
          61872,
          48192,
          59666,
          52750,
          91820,
          87771,
          93404,
          80995,
          48789,
          81702,
          55284,
          62450,
          80812,
          86857,
          82072,
          76630,
          55260,
          78331,
          81320,
          66825,
          85072,
          78420,
          73113,
          74637,
          72354,
          83033,
          77583,
          74293,
          75127,
          55239,
          82025,
          94384,
          51563,
          59754,
          53700,
          70647,
          54753,
          80573,
          82576,
          53103,
          63693,
          79689,
          64449,
          65569,
          83844,
          59412,
          64504,
          91700,
          79593,
          47703,
          61180,
          76081,
          44529,
          69098,
          70596,
          72228,
          67605,
          67023,
          59925,
          66294,
          84460,
          85844,
          80910,
          56775,
          83829,
          76045,
          76773,
          71819,
          47025,
          86358,
          67381,
          85606,
          72903,
          85696,
          63285,
          57744,
          57513,
          68142,
          57304,
          59594,
          81657,
          67369,
          63841,
          78075,
          58113,
          66636,
          50965,
          84618,
          65748,
          74918,
          68682,
          77297,
          75032,
          61284,
          84906,
          76624,
          69969,
          77766,
          74716,
          76653,
          90687,
          73450,
          83829,
          85485,
          66303,
          71847,
          49118,
          57091,
          83151,
          52531,
          94384,
          71626,
          60894,
          64857,
          90842,
          85696,
          76542,
          62159,
          80695,
          75154,
          50611,
          56242,
          75507,
          63841,
          92533,
          82657,
          51876,
          78041,
          52852,
          38410,
          83844,
          94871,
          64857,
          57072,
          62807,
          70379,
          79419,
          76998,
          87679,
          65492,
          63206,
          46772,
          73538,
          55759,
          87188,
          71969,
          65819,
          51983,
          66033,
          76081,
          67445,
          63972,
          81574,
          60482,
          82460,
          74268,
          70638,
          71855,
          68655,
          52973,
          66664,
          64140,
          58684,
          62670,
          64892,
          63246,
          77766,
          86610,
          69016,
          81217,
          61787,
          62335,
          86580,
          73705,
          61064,
          55012,
          64813,
          80398,
          60230,
          92491,
          71107,
          77437,
          58086,
          81795,
          69901,
          80360,
          77981,
          62905,
          67131,
          70596,
          64590,
          71232,
          82122,
          63404,
          78416,
          75702,
          63159,
          46757,
          79734,
          63207,
          72282,
          62568,
          63967,
          52513,
          80739,
          54693,
          84953,
          68148,
          83257,
          72159,
          74290,
          70116,
          70886,
          69932,
          70300,
          70643,
          62772,
          86979,
          67546,
          88420,
          69719,
          90933,
          59292,
          73395,
          60491,
          80573,
          77870,
          70932,
          91249,
          55212,
          67472,
          54356,
          73356,
          72570,
          70792,
          80872,
          96843,
          74485,
          64474,
          72643,
          94472,
          79205,
          63684,
          65814,
          71964,
          96876,
          34445,
          71322,
          68117,
          75330,
          49767,
          83273,
          65308,
          71128,
          67445,
          67046,
          77610,
          71866,
          69520,
          52247.25135379061,
          87000,
          79244,
          81929,
          76068,
          67911,
          78128,
          82332,
          66476,
          72217,
          53230,
          84906,
          82333,
          72309,
          156924,
          65333,
          58482,
          60896,
          74859,
          91172,
          90000,
          65706,
          84117,
          73803,
          73807,
          44802,
          56981
         ],
         "xaxis": "x",
         "y": [
          1617,
          1102,
          1782,
          972,
          1672,
          984,
          1562,
          661,
          1366,
          985,
          606,
          1169,
          1120,
          910,
          730,
          1135,
          559,
          661,
          725,
          1385,
          460,
          1021,
          1231,
          1608,
          1835,
          1318,
          1282,
          834,
          1600,
          1295,
          1150,
          1198,
          1615,
          1047,
          1753,
          1117,
          2088,
          1009,
          1390,
          2126,
          1531,
          1148,
          770,
          957,
          908,
          1374,
          1157,
          546,
          1611,
          1161,
          1538,
          1182,
          507,
          940,
          835,
          1443,
          1277,
          900,
          2153,
          693,
          1348,
          990,
          1005,
          1173,
          1127,
          787,
          1598,
          1073,
          1242,
          2119,
          1082,
          1379,
          868,
          1289,
          926,
          1288,
          890,
          906,
          530,
          747,
          735,
          1722,
          682,
          663,
          1816,
          976,
          1445,
          945,
          1157,
          1924,
          1651,
          1727,
          1168,
          1600,
          526,
          795,
          1957,
          1572,
          1065,
          1867,
          611,
          1478,
          819,
          1151,
          1193,
          882,
          1237,
          1375,
          1179,
          1005,
          1348,
          2252,
          1174,
          6,
          597,
          1064,
          1048,
          990,
          576,
          2074,
          1146,
          689,
          2114,
          493,
          957,
          734,
          1443,
          637,
          948,
          1511,
          1185,
          869,
          1947,
          1380,
          1335,
          902,
          1574,
          1497,
          1064,
          1440,
          833,
          1507,
          1158,
          1230,
          729,
          767,
          573,
          1526,
          1027,
          860,
          1497,
          1957,
          1616,
          1482,
          680,
          1633,
          764,
          995,
          1677,
          2114,
          2018,
          1003,
          1139,
          1638,
          928,
          858,
          1423,
          1453,
          1001,
          1650,
          1228,
          1761,
          1149,
          1127,
          833,
          779,
          1187,
          2302,
          1250,
          475,
          694,
          1079,
          728,
          1564,
          1910,
          1085,
          1150,
          1315,
          805,
          859,
          1574,
          406,
          1314,
          1968,
          1366,
          655,
          704,
          1033,
          691,
          2440,
          968,
          1250,
          938,
          906,
          766,
          967,
          523,
          1958,
          756,
          937,
          1862,
          1323,
          1156,
          1574,
          635,
          1722,
          957,
          1956,
          2013,
          1313,
          1103,
          411,
          1060,
          1459,
          1026,
          499,
          1097,
          1461,
          908,
          988,
          758,
          1084,
          685,
          1672,
          545,
          2047,
          1598,
          789,
          1215,
          811,
          1631,
          899,
          1536,
          1529,
          860,
          2279,
          1779,
          1804,
          1862,
          1383,
          1286,
          1192,
          1229,
          496,
          2346,
          794,
          2302,
          1305,
          832,
          1540,
          1424,
          1313,
          1483,
          634,
          1918,
          1143,
          493,
          971,
          1440,
          908,
          1131,
          2283,
          310,
          1319,
          879,
          534,
          1574,
          1078,
          1540,
          1034,
          819,
          860,
          1631,
          1910,
          2524,
          1045,
          928,
          1048,
          1658,
          854,
          1923,
          1086,
          1383,
          793,
          677,
          1033,
          1174,
          1269,
          1798,
          507,
          974,
          892,
          1334,
          1141,
          1538,
          1152,
          1289,
          1750,
          813,
          825,
          902,
          772,
          1529,
          1603,
          1533,
          1157,
          1319,
          708,
          746,
          1695,
          1080,
          660,
          745,
          1597,
          1067,
          2034,
          1327,
          1125,
          792,
          1382,
          882,
          2231,
          664,
          622,
          976,
          968,
          1338,
          917,
          1382,
          902,
          1179,
          1921,
          1797,
          1143,
          914,
          1502,
          1331,
          953,
          882,
          1149,
          1633,
          929,
          1024,
          1042,
          1365,
          1401,
          1217,
          1536,
          960,
          1049,
          1596,
          1828,
          946,
          1702,
          2126,
          2069,
          801,
          1685,
          507,
          397,
          1028,
          1564,
          1815,
          909,
          1676,
          1182,
          414,
          775,
          1512,
          1089,
          1272,
          1336,
          1544,
          1734,
          823,
          1429,
          1691,
          895,
          1464,
          747,
          1870,
          1941,
          839,
          1305,
          930,
          1109,
          692,
          1392,
          1211,
          1615,
          1174,
          993,
          1680,
          715,
          1455,
          1564,
          961,
          1216,
          2053,
          1376,
          976,
          1264,
          2006,
          1013,
          1573,
          732,
          1631,
          1822,
          1931,
          8,
          798,
          731,
          1701,
          1565,
          1092,
          1479,
          1199,
          1566,
          1528,
          849,
          1049,
          1241
         ],
         "yaxis": "y"
        },
        {
         "customdata": [
          [
           "Cluster 1"
          ],
          [
           "Cluster 1"
          ],
          [
           "Cluster 1"
          ],
          [
           "Cluster 1"
          ],
          [
           "Cluster 1"
          ],
          [
           "Cluster 1"
          ],
          [
           "Cluster 1"
          ],
          [
           "Cluster 1"
          ],
          [
           "Cluster 1"
          ],
          [
           "Cluster 1"
          ],
          [
           "Cluster 1"
          ],
          [
           "Cluster 1"
          ],
          [
           "Cluster 1"
          ],
          [
           "Cluster 1"
          ],
          [
           "Cluster 1"
          ],
          [
           "Cluster 1"
          ],
          [
           "Cluster 1"
          ],
          [
           "Cluster 1"
          ],
          [
           "Cluster 1"
          ],
          [
           "Cluster 1"
          ],
          [
           "Cluster 1"
          ],
          [
           "Cluster 1"
          ],
          [
           "Cluster 1"
          ],
          [
           "Cluster 1"
          ],
          [
           "Cluster 1"
          ],
          [
           "Cluster 1"
          ],
          [
           "Cluster 1"
          ],
          [
           "Cluster 1"
          ],
          [
           "Cluster 1"
          ],
          [
           "Cluster 1"
          ],
          [
           "Cluster 1"
          ],
          [
           "Cluster 1"
          ],
          [
           "Cluster 1"
          ],
          [
           "Cluster 1"
          ],
          [
           "Cluster 1"
          ],
          [
           "Cluster 1"
          ],
          [
           "Cluster 1"
          ],
          [
           "Cluster 1"
          ],
          [
           "Cluster 1"
          ],
          [
           "Cluster 1"
          ],
          [
           "Cluster 1"
          ],
          [
           "Cluster 1"
          ],
          [
           "Cluster 1"
          ],
          [
           "Cluster 1"
          ],
          [
           "Cluster 1"
          ],
          [
           "Cluster 1"
          ],
          [
           "Cluster 1"
          ],
          [
           "Cluster 1"
          ],
          [
           "Cluster 1"
          ],
          [
           "Cluster 1"
          ],
          [
           "Cluster 1"
          ],
          [
           "Cluster 1"
          ],
          [
           "Cluster 1"
          ],
          [
           "Cluster 1"
          ],
          [
           "Cluster 1"
          ],
          [
           "Cluster 1"
          ],
          [
           "Cluster 1"
          ],
          [
           "Cluster 1"
          ],
          [
           "Cluster 1"
          ],
          [
           "Cluster 1"
          ],
          [
           "Cluster 1"
          ],
          [
           "Cluster 1"
          ],
          [
           "Cluster 1"
          ],
          [
           "Cluster 1"
          ],
          [
           "Cluster 1"
          ],
          [
           "Cluster 1"
          ],
          [
           "Cluster 1"
          ],
          [
           "Cluster 1"
          ],
          [
           "Cluster 1"
          ],
          [
           "Cluster 1"
          ],
          [
           "Cluster 1"
          ],
          [
           "Cluster 1"
          ],
          [
           "Cluster 1"
          ],
          [
           "Cluster 1"
          ],
          [
           "Cluster 1"
          ],
          [
           "Cluster 1"
          ],
          [
           "Cluster 1"
          ],
          [
           "Cluster 1"
          ],
          [
           "Cluster 1"
          ],
          [
           "Cluster 1"
          ],
          [
           "Cluster 1"
          ],
          [
           "Cluster 1"
          ],
          [
           "Cluster 1"
          ],
          [
           "Cluster 1"
          ],
          [
           "Cluster 1"
          ],
          [
           "Cluster 1"
          ],
          [
           "Cluster 1"
          ],
          [
           "Cluster 1"
          ],
          [
           "Cluster 1"
          ],
          [
           "Cluster 1"
          ],
          [
           "Cluster 1"
          ],
          [
           "Cluster 1"
          ],
          [
           "Cluster 1"
          ],
          [
           "Cluster 1"
          ],
          [
           "Cluster 1"
          ],
          [
           "Cluster 1"
          ],
          [
           "Cluster 1"
          ],
          [
           "Cluster 1"
          ],
          [
           "Cluster 1"
          ],
          [
           "Cluster 1"
          ],
          [
           "Cluster 1"
          ],
          [
           "Cluster 1"
          ],
          [
           "Cluster 1"
          ],
          [
           "Cluster 1"
          ],
          [
           "Cluster 1"
          ],
          [
           "Cluster 1"
          ],
          [
           "Cluster 1"
          ],
          [
           "Cluster 1"
          ],
          [
           "Cluster 1"
          ],
          [
           "Cluster 1"
          ],
          [
           "Cluster 1"
          ],
          [
           "Cluster 1"
          ],
          [
           "Cluster 1"
          ],
          [
           "Cluster 1"
          ],
          [
           "Cluster 1"
          ],
          [
           "Cluster 1"
          ],
          [
           "Cluster 1"
          ],
          [
           "Cluster 1"
          ],
          [
           "Cluster 1"
          ],
          [
           "Cluster 1"
          ],
          [
           "Cluster 1"
          ],
          [
           "Cluster 1"
          ],
          [
           "Cluster 1"
          ],
          [
           "Cluster 1"
          ],
          [
           "Cluster 1"
          ],
          [
           "Cluster 1"
          ],
          [
           "Cluster 1"
          ],
          [
           "Cluster 1"
          ],
          [
           "Cluster 1"
          ],
          [
           "Cluster 1"
          ],
          [
           "Cluster 1"
          ],
          [
           "Cluster 1"
          ],
          [
           "Cluster 1"
          ],
          [
           "Cluster 1"
          ],
          [
           "Cluster 1"
          ],
          [
           "Cluster 1"
          ],
          [
           "Cluster 1"
          ],
          [
           "Cluster 1"
          ],
          [
           "Cluster 1"
          ],
          [
           "Cluster 1"
          ],
          [
           "Cluster 1"
          ],
          [
           "Cluster 1"
          ],
          [
           "Cluster 1"
          ],
          [
           "Cluster 1"
          ],
          [
           "Cluster 1"
          ],
          [
           "Cluster 1"
          ],
          [
           "Cluster 1"
          ],
          [
           "Cluster 1"
          ],
          [
           "Cluster 1"
          ],
          [
           "Cluster 1"
          ],
          [
           "Cluster 1"
          ],
          [
           "Cluster 1"
          ],
          [
           "Cluster 1"
          ],
          [
           "Cluster 1"
          ],
          [
           "Cluster 1"
          ],
          [
           "Cluster 1"
          ],
          [
           "Cluster 1"
          ],
          [
           "Cluster 1"
          ],
          [
           "Cluster 1"
          ],
          [
           "Cluster 1"
          ],
          [
           "Cluster 1"
          ],
          [
           "Cluster 1"
          ],
          [
           "Cluster 1"
          ],
          [
           "Cluster 1"
          ],
          [
           "Cluster 1"
          ],
          [
           "Cluster 1"
          ],
          [
           "Cluster 1"
          ],
          [
           "Cluster 1"
          ],
          [
           "Cluster 1"
          ],
          [
           "Cluster 1"
          ],
          [
           "Cluster 1"
          ],
          [
           "Cluster 1"
          ],
          [
           "Cluster 1"
          ],
          [
           "Cluster 1"
          ],
          [
           "Cluster 1"
          ],
          [
           "Cluster 1"
          ],
          [
           "Cluster 1"
          ],
          [
           "Cluster 1"
          ],
          [
           "Cluster 1"
          ],
          [
           "Cluster 1"
          ],
          [
           "Cluster 1"
          ],
          [
           "Cluster 1"
          ],
          [
           "Cluster 1"
          ],
          [
           "Cluster 1"
          ],
          [
           "Cluster 1"
          ],
          [
           "Cluster 1"
          ],
          [
           "Cluster 1"
          ],
          [
           "Cluster 1"
          ],
          [
           "Cluster 1"
          ],
          [
           "Cluster 1"
          ],
          [
           "Cluster 1"
          ],
          [
           "Cluster 1"
          ],
          [
           "Cluster 1"
          ],
          [
           "Cluster 1"
          ],
          [
           "Cluster 1"
          ],
          [
           "Cluster 1"
          ],
          [
           "Cluster 1"
          ],
          [
           "Cluster 1"
          ],
          [
           "Cluster 1"
          ],
          [
           "Cluster 1"
          ],
          [
           "Cluster 1"
          ],
          [
           "Cluster 1"
          ],
          [
           "Cluster 1"
          ],
          [
           "Cluster 1"
          ],
          [
           "Cluster 1"
          ],
          [
           "Cluster 1"
          ],
          [
           "Cluster 1"
          ],
          [
           "Cluster 1"
          ],
          [
           "Cluster 1"
          ],
          [
           "Cluster 1"
          ],
          [
           "Cluster 1"
          ],
          [
           "Cluster 1"
          ],
          [
           "Cluster 1"
          ],
          [
           "Cluster 1"
          ],
          [
           "Cluster 1"
          ],
          [
           "Cluster 1"
          ],
          [
           "Cluster 1"
          ],
          [
           "Cluster 1"
          ],
          [
           "Cluster 1"
          ],
          [
           "Cluster 1"
          ],
          [
           "Cluster 1"
          ],
          [
           "Cluster 1"
          ],
          [
           "Cluster 1"
          ],
          [
           "Cluster 1"
          ],
          [
           "Cluster 1"
          ],
          [
           "Cluster 1"
          ],
          [
           "Cluster 1"
          ],
          [
           "Cluster 1"
          ],
          [
           "Cluster 1"
          ],
          [
           "Cluster 1"
          ],
          [
           "Cluster 1"
          ],
          [
           "Cluster 1"
          ],
          [
           "Cluster 1"
          ],
          [
           "Cluster 1"
          ],
          [
           "Cluster 1"
          ],
          [
           "Cluster 1"
          ],
          [
           "Cluster 1"
          ],
          [
           "Cluster 1"
          ],
          [
           "Cluster 1"
          ],
          [
           "Cluster 1"
          ],
          [
           "Cluster 1"
          ],
          [
           "Cluster 1"
          ],
          [
           "Cluster 1"
          ],
          [
           "Cluster 1"
          ],
          [
           "Cluster 1"
          ],
          [
           "Cluster 1"
          ],
          [
           "Cluster 1"
          ],
          [
           "Cluster 1"
          ],
          [
           "Cluster 1"
          ],
          [
           "Cluster 1"
          ],
          [
           "Cluster 1"
          ],
          [
           "Cluster 1"
          ],
          [
           "Cluster 1"
          ],
          [
           "Cluster 1"
          ],
          [
           "Cluster 1"
          ],
          [
           "Cluster 1"
          ],
          [
           "Cluster 1"
          ],
          [
           "Cluster 1"
          ],
          [
           "Cluster 1"
          ],
          [
           "Cluster 1"
          ],
          [
           "Cluster 1"
          ],
          [
           "Cluster 1"
          ],
          [
           "Cluster 1"
          ],
          [
           "Cluster 1"
          ],
          [
           "Cluster 1"
          ],
          [
           "Cluster 1"
          ],
          [
           "Cluster 1"
          ],
          [
           "Cluster 1"
          ],
          [
           "Cluster 1"
          ],
          [
           "Cluster 1"
          ],
          [
           "Cluster 1"
          ],
          [
           "Cluster 1"
          ],
          [
           "Cluster 1"
          ],
          [
           "Cluster 1"
          ],
          [
           "Cluster 1"
          ],
          [
           "Cluster 1"
          ],
          [
           "Cluster 1"
          ],
          [
           "Cluster 1"
          ],
          [
           "Cluster 1"
          ],
          [
           "Cluster 1"
          ],
          [
           "Cluster 1"
          ],
          [
           "Cluster 1"
          ],
          [
           "Cluster 1"
          ],
          [
           "Cluster 1"
          ],
          [
           "Cluster 1"
          ],
          [
           "Cluster 1"
          ],
          [
           "Cluster 1"
          ],
          [
           "Cluster 1"
          ],
          [
           "Cluster 1"
          ],
          [
           "Cluster 1"
          ],
          [
           "Cluster 1"
          ],
          [
           "Cluster 1"
          ],
          [
           "Cluster 1"
          ],
          [
           "Cluster 1"
          ],
          [
           "Cluster 1"
          ],
          [
           "Cluster 1"
          ],
          [
           "Cluster 1"
          ],
          [
           "Cluster 1"
          ],
          [
           "Cluster 1"
          ],
          [
           "Cluster 1"
          ],
          [
           "Cluster 1"
          ],
          [
           "Cluster 1"
          ],
          [
           "Cluster 1"
          ],
          [
           "Cluster 1"
          ],
          [
           "Cluster 1"
          ],
          [
           "Cluster 1"
          ],
          [
           "Cluster 1"
          ],
          [
           "Cluster 1"
          ],
          [
           "Cluster 1"
          ],
          [
           "Cluster 1"
          ],
          [
           "Cluster 1"
          ],
          [
           "Cluster 1"
          ],
          [
           "Cluster 1"
          ],
          [
           "Cluster 1"
          ],
          [
           "Cluster 1"
          ],
          [
           "Cluster 1"
          ],
          [
           "Cluster 1"
          ],
          [
           "Cluster 1"
          ],
          [
           "Cluster 1"
          ],
          [
           "Cluster 1"
          ],
          [
           "Cluster 1"
          ],
          [
           "Cluster 1"
          ],
          [
           "Cluster 1"
          ],
          [
           "Cluster 1"
          ],
          [
           "Cluster 1"
          ],
          [
           "Cluster 1"
          ],
          [
           "Cluster 1"
          ],
          [
           "Cluster 1"
          ],
          [
           "Cluster 1"
          ],
          [
           "Cluster 1"
          ],
          [
           "Cluster 1"
          ],
          [
           "Cluster 1"
          ],
          [
           "Cluster 1"
          ],
          [
           "Cluster 1"
          ],
          [
           "Cluster 1"
          ],
          [
           "Cluster 1"
          ],
          [
           "Cluster 1"
          ],
          [
           "Cluster 1"
          ],
          [
           "Cluster 1"
          ],
          [
           "Cluster 1"
          ],
          [
           "Cluster 1"
          ],
          [
           "Cluster 1"
          ],
          [
           "Cluster 1"
          ],
          [
           "Cluster 1"
          ],
          [
           "Cluster 1"
          ],
          [
           "Cluster 1"
          ],
          [
           "Cluster 1"
          ],
          [
           "Cluster 1"
          ],
          [
           "Cluster 1"
          ],
          [
           "Cluster 1"
          ],
          [
           "Cluster 1"
          ],
          [
           "Cluster 1"
          ],
          [
           "Cluster 1"
          ],
          [
           "Cluster 1"
          ],
          [
           "Cluster 1"
          ],
          [
           "Cluster 1"
          ],
          [
           "Cluster 1"
          ],
          [
           "Cluster 1"
          ],
          [
           "Cluster 1"
          ],
          [
           "Cluster 1"
          ],
          [
           "Cluster 1"
          ],
          [
           "Cluster 1"
          ],
          [
           "Cluster 1"
          ],
          [
           "Cluster 1"
          ],
          [
           "Cluster 1"
          ],
          [
           "Cluster 1"
          ],
          [
           "Cluster 1"
          ],
          [
           "Cluster 1"
          ],
          [
           "Cluster 1"
          ],
          [
           "Cluster 1"
          ],
          [
           "Cluster 1"
          ],
          [
           "Cluster 1"
          ],
          [
           "Cluster 1"
          ],
          [
           "Cluster 1"
          ],
          [
           "Cluster 1"
          ],
          [
           "Cluster 1"
          ],
          [
           "Cluster 1"
          ],
          [
           "Cluster 1"
          ],
          [
           "Cluster 1"
          ],
          [
           "Cluster 1"
          ],
          [
           "Cluster 1"
          ],
          [
           "Cluster 1"
          ],
          [
           "Cluster 1"
          ],
          [
           "Cluster 1"
          ],
          [
           "Cluster 1"
          ],
          [
           "Cluster 1"
          ],
          [
           "Cluster 1"
          ],
          [
           "Cluster 1"
          ],
          [
           "Cluster 1"
          ],
          [
           "Cluster 1"
          ],
          [
           "Cluster 1"
          ],
          [
           "Cluster 1"
          ],
          [
           "Cluster 1"
          ],
          [
           "Cluster 1"
          ],
          [
           "Cluster 1"
          ],
          [
           "Cluster 1"
          ],
          [
           "Cluster 1"
          ],
          [
           "Cluster 1"
          ],
          [
           "Cluster 1"
          ],
          [
           "Cluster 1"
          ],
          [
           "Cluster 1"
          ],
          [
           "Cluster 1"
          ],
          [
           "Cluster 1"
          ],
          [
           "Cluster 1"
          ],
          [
           "Cluster 1"
          ],
          [
           "Cluster 1"
          ],
          [
           "Cluster 1"
          ],
          [
           "Cluster 1"
          ],
          [
           "Cluster 1"
          ],
          [
           "Cluster 1"
          ],
          [
           "Cluster 1"
          ],
          [
           "Cluster 1"
          ],
          [
           "Cluster 1"
          ],
          [
           "Cluster 1"
          ],
          [
           "Cluster 1"
          ],
          [
           "Cluster 1"
          ],
          [
           "Cluster 1"
          ],
          [
           "Cluster 1"
          ],
          [
           "Cluster 1"
          ],
          [
           "Cluster 1"
          ],
          [
           "Cluster 1"
          ],
          [
           "Cluster 1"
          ],
          [
           "Cluster 1"
          ],
          [
           "Cluster 1"
          ],
          [
           "Cluster 1"
          ],
          [
           "Cluster 1"
          ],
          [
           "Cluster 1"
          ],
          [
           "Cluster 1"
          ],
          [
           "Cluster 1"
          ],
          [
           "Cluster 1"
          ],
          [
           "Cluster 1"
          ],
          [
           "Cluster 1"
          ],
          [
           "Cluster 1"
          ],
          [
           "Cluster 1"
          ],
          [
           "Cluster 1"
          ],
          [
           "Cluster 1"
          ],
          [
           "Cluster 1"
          ],
          [
           "Cluster 1"
          ],
          [
           "Cluster 1"
          ],
          [
           "Cluster 1"
          ],
          [
           "Cluster 1"
          ],
          [
           "Cluster 1"
          ],
          [
           "Cluster 1"
          ],
          [
           "Cluster 1"
          ],
          [
           "Cluster 1"
          ],
          [
           "Cluster 1"
          ],
          [
           "Cluster 1"
          ],
          [
           "Cluster 1"
          ],
          [
           "Cluster 1"
          ],
          [
           "Cluster 1"
          ],
          [
           "Cluster 1"
          ],
          [
           "Cluster 1"
          ],
          [
           "Cluster 1"
          ],
          [
           "Cluster 1"
          ],
          [
           "Cluster 1"
          ],
          [
           "Cluster 1"
          ],
          [
           "Cluster 1"
          ],
          [
           "Cluster 1"
          ],
          [
           "Cluster 1"
          ],
          [
           "Cluster 1"
          ],
          [
           "Cluster 1"
          ],
          [
           "Cluster 1"
          ],
          [
           "Cluster 1"
          ],
          [
           "Cluster 1"
          ],
          [
           "Cluster 1"
          ],
          [
           "Cluster 1"
          ],
          [
           "Cluster 1"
          ],
          [
           "Cluster 1"
          ],
          [
           "Cluster 1"
          ],
          [
           "Cluster 1"
          ],
          [
           "Cluster 1"
          ],
          [
           "Cluster 1"
          ],
          [
           "Cluster 1"
          ],
          [
           "Cluster 1"
          ],
          [
           "Cluster 1"
          ],
          [
           "Cluster 1"
          ],
          [
           "Cluster 1"
          ],
          [
           "Cluster 1"
          ],
          [
           "Cluster 1"
          ],
          [
           "Cluster 1"
          ],
          [
           "Cluster 1"
          ],
          [
           "Cluster 1"
          ],
          [
           "Cluster 1"
          ],
          [
           "Cluster 1"
          ],
          [
           "Cluster 1"
          ],
          [
           "Cluster 1"
          ],
          [
           "Cluster 1"
          ],
          [
           "Cluster 1"
          ],
          [
           "Cluster 1"
          ],
          [
           "Cluster 1"
          ],
          [
           "Cluster 1"
          ],
          [
           "Cluster 1"
          ],
          [
           "Cluster 1"
          ],
          [
           "Cluster 1"
          ],
          [
           "Cluster 1"
          ],
          [
           "Cluster 1"
          ],
          [
           "Cluster 1"
          ],
          [
           "Cluster 1"
          ],
          [
           "Cluster 1"
          ],
          [
           "Cluster 1"
          ],
          [
           "Cluster 1"
          ],
          [
           "Cluster 1"
          ],
          [
           "Cluster 1"
          ],
          [
           "Cluster 1"
          ],
          [
           "Cluster 1"
          ],
          [
           "Cluster 1"
          ],
          [
           "Cluster 1"
          ],
          [
           "Cluster 1"
          ],
          [
           "Cluster 1"
          ],
          [
           "Cluster 1"
          ],
          [
           "Cluster 1"
          ],
          [
           "Cluster 1"
          ],
          [
           "Cluster 1"
          ],
          [
           "Cluster 1"
          ],
          [
           "Cluster 1"
          ],
          [
           "Cluster 1"
          ],
          [
           "Cluster 1"
          ],
          [
           "Cluster 1"
          ],
          [
           "Cluster 1"
          ],
          [
           "Cluster 1"
          ],
          [
           "Cluster 1"
          ],
          [
           "Cluster 1"
          ],
          [
           "Cluster 1"
          ],
          [
           "Cluster 1"
          ],
          [
           "Cluster 1"
          ],
          [
           "Cluster 1"
          ],
          [
           "Cluster 1"
          ],
          [
           "Cluster 1"
          ],
          [
           "Cluster 1"
          ],
          [
           "Cluster 1"
          ],
          [
           "Cluster 1"
          ],
          [
           "Cluster 1"
          ],
          [
           "Cluster 1"
          ],
          [
           "Cluster 1"
          ],
          [
           "Cluster 1"
          ],
          [
           "Cluster 1"
          ],
          [
           "Cluster 1"
          ],
          [
           "Cluster 1"
          ],
          [
           "Cluster 1"
          ],
          [
           "Cluster 1"
          ],
          [
           "Cluster 1"
          ],
          [
           "Cluster 1"
          ],
          [
           "Cluster 1"
          ],
          [
           "Cluster 1"
          ],
          [
           "Cluster 1"
          ],
          [
           "Cluster 1"
          ],
          [
           "Cluster 1"
          ],
          [
           "Cluster 1"
          ],
          [
           "Cluster 1"
          ],
          [
           "Cluster 1"
          ],
          [
           "Cluster 1"
          ],
          [
           "Cluster 1"
          ],
          [
           "Cluster 1"
          ],
          [
           "Cluster 1"
          ],
          [
           "Cluster 1"
          ],
          [
           "Cluster 1"
          ],
          [
           "Cluster 1"
          ],
          [
           "Cluster 1"
          ]
         ],
         "hovertemplate": "Cluster=%{customdata[0]}<br>Income=%{x}<br>Total_Spend=%{y}<extra></extra>",
         "legendgroup": "Cluster 1",
         "marker": {
          "color": "#EF553B",
          "symbol": "circle"
         },
         "mode": "markers",
         "name": "Cluster 1",
         "showlegend": true,
         "type": "scattergl",
         "x": [
          46344,
          26646,
          33454,
          30351,
          52247.25135379061,
          17323,
          37760,
          37040,
          65324,
          53359,
          38360,
          10979,
          40548,
          46610,
          21994,
          7500,
          7500,
          27938,
          66653,
          32474,
          52247.25135379061,
          26326,
          26304,
          50388,
          52247.25135379061,
          30096,
          51813,
          47823,
          49096,
          38557,
          43974,
          50785,
          21918,
          32557,
          52247.25135379061,
          62998,
          9548,
          35860,
          41883,
          59809,
          46344,
          34176,
          49967,
          55375,
          30523,
          50447,
          53537,
          30477,
          45759,
          51148,
          31353,
          18890,
          46097,
          46014,
          52195,
          44551,
          37070,
          15033,
          31686,
          30899,
          40737,
          37717,
          43776,
          38179,
          22070,
          31788,
          61905,
          33378,
          37760,
          44319,
          32414,
          29672,
          35388,
          42670,
          22574,
          54198,
          66503,
          30833,
          47025,
          14849,
          27255,
          54432,
          29999,
          35178,
          30675,
          41411,
          27190,
          30372,
          37717,
          38578,
          22585,
          30279,
          33581,
          27421,
          36143,
          10245,
          43795,
          62499,
          43824,
          30507,
          55521,
          27213,
          65808,
          30351,
          50437,
          19789,
          49505,
          37401,
          30096,
          48686,
          30015,
          51529,
          18100,
          30279,
          24027,
          36230,
          50520,
          31880,
          37406,
          55842,
          41124,
          32233,
          43057,
          14045,
          55563,
          48330,
          24279,
          36443,
          25545,
          44931,
          43638,
          42710,
          27159,
          21474,
          15315,
          33039,
          48799,
          38200,
          44989,
          64413,
          51287,
          47472,
          26850,
          53863,
          39684,
          33178,
          17459,
          42169,
          26224,
          30081,
          21888,
          30801,
          18978,
          22574,
          54162,
          30522,
          54456,
          32218,
          46102,
          56181,
          45906,
          55282,
          29103,
          49431,
          25965,
          45068,
          21063,
          26751,
          36145,
          41039,
          13084,
          47570,
          26518,
          71427,
          41335,
          35682,
          35178,
          25252,
          33249,
          45160,
          7500,
          35946,
          70545,
          17487,
          34941,
          17003,
          33697,
          40662,
          35523,
          31626,
          42720,
          33622,
          20587,
          30467,
          31590,
          20425,
          43783,
          40780,
          51267,
          19329,
          55267,
          26872,
          21359,
          65968,
          25804,
          16529,
          25130,
          34026,
          34176,
          49166,
          65324,
          46374,
          38576,
          44602,
          57906,
          43456,
          42395,
          39922,
          24762,
          35797,
          42243,
          21846,
          57100,
          58917,
          45684,
          45921,
          35641,
          42607,
          46015,
          52190,
          44051,
          59041,
          41021,
          40706,
          15716,
          59052,
          4861,
          35340,
          24884,
          46086,
          22434,
          34053,
          38196,
          32300,
          20180,
          56320,
          32173,
          46423,
          37126,
          34728,
          33168,
          28764,
          25959,
          53312,
          35860,
          16860,
          46610,
          26907,
          50014,
          36715,
          24163,
          38578,
          57236,
          27590,
          54210,
          30023,
          50870,
          15315,
          33569,
          36262,
          31605,
          48526,
          46734,
          42693,
          10979,
          42162,
          54450,
          26576,
          54197,
          46049,
          54450,
          48985,
          35322,
          33444,
          54386,
          48070,
          26954,
          31497,
          45894,
          54809,
          18351,
          42160,
          61559,
          8940,
          40211,
          22518,
          41986,
          25707,
          39356,
          35860,
          31454,
          47139,
          45579,
          38808,
          37368,
          46149,
          39767,
          15759,
          43050,
          48918,
          60033,
          7500,
          27238,
          46692,
          37774,
          18393,
          6560,
          48752,
          35876,
          40049,
          39660,
          43263,
          18929,
          33249,
          26887,
          18227,
          69139,
          33316,
          17256,
          53034,
          59601,
          41335,
          67267,
          48904,
          56243,
          21355,
          57420,
          52247.25135379061,
          20895,
          52247.25135379061,
          26907,
          44964,
          53761,
          38887,
          41658,
          29791,
          51039,
          37716,
          57045,
          36026,
          24639,
          34578,
          28164,
          70844,
          20491,
          39922,
          36408,
          32727,
          57957,
          46015,
          28072,
          41145,
          39898,
          59892,
          19414,
          60585,
          42873,
          32952,
          20981,
          33039,
          27242,
          37401,
          58597,
          31928,
          30390,
          39922,
          24645,
          44322,
          47958,
          75283,
          27161,
          38201,
          45203,
          34633,
          35860,
          61482,
          34968,
          31497,
          48432,
          36663,
          12393,
          31353,
          28359,
          57100,
          69139,
          18793,
          54549,
          41003,
          19444,
          22775,
          50002,
          44078,
          30560,
          39228,
          34213,
          36634,
          50334,
          20193,
          15862,
          49544,
          33228,
          22554,
          18169,
          41437,
          9722,
          38175,
          18746,
          38513,
          16653,
          42586,
          46910,
          42403,
          37292,
          45576,
          44989,
          31859,
          30372,
          39763,
          36802,
          47808,
          25509,
          42586,
          39435,
          34600,
          46904,
          49094,
          34026,
          48918,
          62535,
          37070,
          32583,
          44635,
          33316,
          22669,
          29236,
          44911,
          48186,
          54809,
          41580,
          65735,
          4023,
          30093,
          57705,
          11448,
          60208,
          30538,
          23830,
          30396,
          44155,
          49160,
          45759,
          22148,
          45688,
          35701,
          18929,
          20180,
          31878,
          22701,
          21059,
          34984,
          54998,
          34242,
          39898,
          56939,
          44359,
          40887,
          48877,
          39062,
          34600,
          40794,
          4428,
          38236,
          36781,
          25509,
          58646,
          21994,
          51373,
          23477,
          58116,
          32644,
          28420,
          22979,
          33279,
          46423,
          39146,
          36790,
          22263,
          29672,
          23272,
          60905,
          29009,
          32871,
          55801,
          42192,
          27803,
          51651,
          30828,
          34109,
          53367,
          71322,
          54252,
          53204,
          14796,
          14188,
          20425,
          58646,
          48150,
          27733,
          37509,
          43586,
          58692,
          40590,
          20587,
          29435,
          19346,
          35788,
          23539,
          29732,
          41275,
          63516,
          42769,
          49572,
          40590,
          30560,
          32146,
          34176,
          47320,
          15253,
          48432,
          52914,
          26487,
          53233,
          25224,
          27469,
          43322,
          50501,
          48432,
          18929,
          45146,
          41769,
          38054,
          5305,
          22775,
          7500,
          33562,
          57967,
          24434,
          52869
         ],
         "xaxis": "x",
         "y": [
          27,
          53,
          169,
          46,
          19,
          46,
          317,
          316,
          544,
          257,
          131,
          30,
          120,
          302,
          22,
          31,
          122,
          29,
          612,
          11,
          109,
          18,
          16,
          372,
          603,
          45,
          63,
          72,
          187,
          145,
          551,
          114,
          33,
          80,
          404,
          463,
          29,
          49,
          312,
          877,
          429,
          89,
          306,
          162,
          13,
          148,
          93,
          66,
          68,
          315,
          31,
          35,
          241,
          541,
          17,
          285,
          433,
          19,
          17,
          33,
          17,
          25,
          275,
          90,
          67,
          60,
          231,
          99,
          317,
          37,
          52,
          25,
          32,
          241,
          37,
          235,
          401,
          28,
          20,
          65,
          37,
          38,
          160,
          59,
          62,
          139,
          18,
          44,
          25,
          73,
          81,
          37,
          17,
          324,
          19,
          41,
          492,
          222,
          186,
          343,
          446,
          70,
          272,
          46,
          490,
          78,
          751,
          48,
          45,
          20,
          57,
          467,
          14,
          37,
          48,
          59,
          135,
          15,
          17,
          518,
          506,
          296,
          266,
          20,
          43,
          32,
          263,
          138,
          210,
          96,
          201,
          406,
          21,
          91,
          64,
          78,
          331,
          17,
          369,
          279,
          182,
          75,
          63,
          473,
          81,
          49,
          69,
          30,
          63,
          42,
          213,
          45,
          37,
          37,
          42,
          326,
          404,
          93,
          16,
          393,
          486,
          235,
          48,
          365,
          74,
          20,
          59,
          11,
          172,
          467,
          29,
          121,
          57,
          614,
          187,
          57,
          59,
          18,
          112,
          21,
          71,
          11,
          334,
          18,
          97,
          38,
          28,
          92,
          66,
          86,
          654,
          81,
          25,
          24,
          38,
          57,
          629,
          377,
          270,
          60,
          405,
          72,
          48,
          495,
          55,
          22,
          50,
          76,
          89,
          368,
          544,
          446,
          41,
          292,
          401,
          393,
          182,
          156,
          86,
          68,
          55,
          84,
          409,
          282,
          28,
          199,
          178,
          350,
          46,
          77,
          171,
          96,
          64,
          81,
          92,
          491,
          6,
          45,
          19,
          343,
          58,
          103,
          44,
          39,
          137,
          702,
          22,
          92,
          72,
          36,
          122,
          12,
          56,
          278,
          49,
          38,
          467,
          22,
          396,
          357,
          17,
          73,
          121,
          12,
          367,
          61,
          63,
          64,
          63,
          426,
          125,
          135,
          330,
          57,
          30,
          145,
          684,
          27,
          237,
          515,
          684,
          75,
          106,
          18,
          470,
          504,
          17,
          155,
          51,
          174,
          43,
          140,
          530,
          101,
          87,
          61,
          63,
          21,
          23,
          49,
          48,
          83,
          183,
          246,
          30,
          362,
          485,
          17,
          76,
          62,
          198,
          57,
          57,
          397,
          473,
          50,
          373,
          316,
          129,
          32,
          299,
          441,
          85,
          112,
          30,
          28,
          227,
          131,
          62,
          447,
          797,
          187,
          251,
          371,
          396,
          68,
          322,
          317,
          45,
          42,
          22,
          41,
          325,
          42,
          72,
          20,
          417,
          188,
          454,
          61,
          44,
          8,
          78,
          294,
          30,
          156,
          22,
          529,
          637,
          46,
          47,
          13,
          134,
          87,
          32,
          736,
          269,
          55,
          73,
          78,
          106,
          48,
          733,
          72,
          80,
          156,
          17,
          92,
          407,
          1019,
          52,
          268,
          147,
          15,
          49,
          299,
          221,
          155,
          424,
          35,
          57,
          31,
          16,
          311,
          227,
          77,
          233,
          601,
          54,
          15,
          638,
          41,
          31,
          20,
          117,
          335,
          694,
          82,
          36,
          404,
          71,
          41,
          21,
          32,
          103,
          153,
          64,
          324,
          69,
          252,
          68,
          42,
          460,
          145,
          369,
          48,
          44,
          167,
          20,
          224,
          101,
          252,
          102,
          318,
          253,
          502,
          76,
          62,
          398,
          433,
          9,
          68,
          131,
          173,
          99,
          215,
          219,
          174,
          92,
          395,
          9,
          69,
          486,
          14,
          656,
          367,
          43,
          34,
          46,
          236,
          68,
          49,
          306,
          46,
          85,
          137,
          70,
          24,
          44,
          38,
          455,
          15,
          134,
          561,
          45,
          161,
          144,
          44,
          318,
          434,
          359,
          88,
          63,
          101,
          140,
          22,
          393,
          147,
          443,
          413,
          13,
          115,
          16,
          92,
          165,
          66,
          21,
          25,
          46,
          392,
          44,
          43,
          527,
          100,
          176,
          433,
          56,
          22,
          400,
          350,
          264,
          45,
          51,
          75,
          57,
          140,
          266,
          57,
          123,
          132,
          395,
          258,
          25,
          180,
          22,
          44,
          81,
          38,
          61,
          300,
          88,
          54,
          258,
          31,
          66,
          28,
          414,
          29,
          424,
          575,
          69,
          40,
          46,
          17,
          141,
          500,
          424,
          85,
          53,
          521,
          45,
          32,
          15,
          53,
          51,
          468,
          50,
          172
         ],
         "yaxis": "y"
        },
        {
         "customdata": [
          [
           "Cluster 4"
          ],
          [
           "Cluster 4"
          ],
          [
           "Cluster 4"
          ],
          [
           "Cluster 4"
          ],
          [
           "Cluster 4"
          ],
          [
           "Cluster 4"
          ],
          [
           "Cluster 4"
          ],
          [
           "Cluster 4"
          ],
          [
           "Cluster 4"
          ],
          [
           "Cluster 4"
          ],
          [
           "Cluster 4"
          ],
          [
           "Cluster 4"
          ],
          [
           "Cluster 4"
          ],
          [
           "Cluster 4"
          ],
          [
           "Cluster 4"
          ],
          [
           "Cluster 4"
          ],
          [
           "Cluster 4"
          ],
          [
           "Cluster 4"
          ],
          [
           "Cluster 4"
          ],
          [
           "Cluster 4"
          ],
          [
           "Cluster 4"
          ],
          [
           "Cluster 4"
          ],
          [
           "Cluster 4"
          ],
          [
           "Cluster 4"
          ],
          [
           "Cluster 4"
          ],
          [
           "Cluster 4"
          ],
          [
           "Cluster 4"
          ],
          [
           "Cluster 4"
          ],
          [
           "Cluster 4"
          ],
          [
           "Cluster 4"
          ],
          [
           "Cluster 4"
          ],
          [
           "Cluster 4"
          ],
          [
           "Cluster 4"
          ],
          [
           "Cluster 4"
          ],
          [
           "Cluster 4"
          ],
          [
           "Cluster 4"
          ],
          [
           "Cluster 4"
          ],
          [
           "Cluster 4"
          ],
          [
           "Cluster 4"
          ],
          [
           "Cluster 4"
          ],
          [
           "Cluster 4"
          ],
          [
           "Cluster 4"
          ],
          [
           "Cluster 4"
          ],
          [
           "Cluster 4"
          ],
          [
           "Cluster 4"
          ],
          [
           "Cluster 4"
          ],
          [
           "Cluster 4"
          ],
          [
           "Cluster 4"
          ],
          [
           "Cluster 4"
          ],
          [
           "Cluster 4"
          ],
          [
           "Cluster 4"
          ],
          [
           "Cluster 4"
          ],
          [
           "Cluster 4"
          ],
          [
           "Cluster 4"
          ],
          [
           "Cluster 4"
          ],
          [
           "Cluster 4"
          ],
          [
           "Cluster 4"
          ],
          [
           "Cluster 4"
          ],
          [
           "Cluster 4"
          ],
          [
           "Cluster 4"
          ],
          [
           "Cluster 4"
          ],
          [
           "Cluster 4"
          ],
          [
           "Cluster 4"
          ],
          [
           "Cluster 4"
          ],
          [
           "Cluster 4"
          ],
          [
           "Cluster 4"
          ],
          [
           "Cluster 4"
          ],
          [
           "Cluster 4"
          ],
          [
           "Cluster 4"
          ],
          [
           "Cluster 4"
          ],
          [
           "Cluster 4"
          ],
          [
           "Cluster 4"
          ],
          [
           "Cluster 4"
          ],
          [
           "Cluster 4"
          ],
          [
           "Cluster 4"
          ],
          [
           "Cluster 4"
          ],
          [
           "Cluster 4"
          ],
          [
           "Cluster 4"
          ],
          [
           "Cluster 4"
          ],
          [
           "Cluster 4"
          ],
          [
           "Cluster 4"
          ],
          [
           "Cluster 4"
          ],
          [
           "Cluster 4"
          ],
          [
           "Cluster 4"
          ],
          [
           "Cluster 4"
          ],
          [
           "Cluster 4"
          ],
          [
           "Cluster 4"
          ],
          [
           "Cluster 4"
          ],
          [
           "Cluster 4"
          ],
          [
           "Cluster 4"
          ],
          [
           "Cluster 4"
          ],
          [
           "Cluster 4"
          ],
          [
           "Cluster 4"
          ],
          [
           "Cluster 4"
          ],
          [
           "Cluster 4"
          ],
          [
           "Cluster 4"
          ],
          [
           "Cluster 4"
          ],
          [
           "Cluster 4"
          ],
          [
           "Cluster 4"
          ],
          [
           "Cluster 4"
          ],
          [
           "Cluster 4"
          ],
          [
           "Cluster 4"
          ],
          [
           "Cluster 4"
          ],
          [
           "Cluster 4"
          ],
          [
           "Cluster 4"
          ],
          [
           "Cluster 4"
          ],
          [
           "Cluster 4"
          ],
          [
           "Cluster 4"
          ],
          [
           "Cluster 4"
          ],
          [
           "Cluster 4"
          ],
          [
           "Cluster 4"
          ],
          [
           "Cluster 4"
          ],
          [
           "Cluster 4"
          ],
          [
           "Cluster 4"
          ],
          [
           "Cluster 4"
          ],
          [
           "Cluster 4"
          ],
          [
           "Cluster 4"
          ],
          [
           "Cluster 4"
          ],
          [
           "Cluster 4"
          ],
          [
           "Cluster 4"
          ],
          [
           "Cluster 4"
          ],
          [
           "Cluster 4"
          ],
          [
           "Cluster 4"
          ],
          [
           "Cluster 4"
          ],
          [
           "Cluster 4"
          ],
          [
           "Cluster 4"
          ],
          [
           "Cluster 4"
          ],
          [
           "Cluster 4"
          ],
          [
           "Cluster 4"
          ],
          [
           "Cluster 4"
          ],
          [
           "Cluster 4"
          ],
          [
           "Cluster 4"
          ],
          [
           "Cluster 4"
          ],
          [
           "Cluster 4"
          ],
          [
           "Cluster 4"
          ],
          [
           "Cluster 4"
          ],
          [
           "Cluster 4"
          ],
          [
           "Cluster 4"
          ],
          [
           "Cluster 4"
          ],
          [
           "Cluster 4"
          ],
          [
           "Cluster 4"
          ],
          [
           "Cluster 4"
          ],
          [
           "Cluster 4"
          ],
          [
           "Cluster 4"
          ],
          [
           "Cluster 4"
          ],
          [
           "Cluster 4"
          ],
          [
           "Cluster 4"
          ],
          [
           "Cluster 4"
          ],
          [
           "Cluster 4"
          ],
          [
           "Cluster 4"
          ],
          [
           "Cluster 4"
          ],
          [
           "Cluster 4"
          ],
          [
           "Cluster 4"
          ],
          [
           "Cluster 4"
          ],
          [
           "Cluster 4"
          ],
          [
           "Cluster 4"
          ],
          [
           "Cluster 4"
          ],
          [
           "Cluster 4"
          ],
          [
           "Cluster 4"
          ],
          [
           "Cluster 4"
          ],
          [
           "Cluster 4"
          ],
          [
           "Cluster 4"
          ],
          [
           "Cluster 4"
          ],
          [
           "Cluster 4"
          ],
          [
           "Cluster 4"
          ],
          [
           "Cluster 4"
          ],
          [
           "Cluster 4"
          ],
          [
           "Cluster 4"
          ],
          [
           "Cluster 4"
          ],
          [
           "Cluster 4"
          ],
          [
           "Cluster 4"
          ],
          [
           "Cluster 4"
          ],
          [
           "Cluster 4"
          ],
          [
           "Cluster 4"
          ],
          [
           "Cluster 4"
          ],
          [
           "Cluster 4"
          ],
          [
           "Cluster 4"
          ],
          [
           "Cluster 4"
          ],
          [
           "Cluster 4"
          ],
          [
           "Cluster 4"
          ],
          [
           "Cluster 4"
          ],
          [
           "Cluster 4"
          ],
          [
           "Cluster 4"
          ],
          [
           "Cluster 4"
          ],
          [
           "Cluster 4"
          ],
          [
           "Cluster 4"
          ],
          [
           "Cluster 4"
          ],
          [
           "Cluster 4"
          ],
          [
           "Cluster 4"
          ],
          [
           "Cluster 4"
          ],
          [
           "Cluster 4"
          ],
          [
           "Cluster 4"
          ],
          [
           "Cluster 4"
          ],
          [
           "Cluster 4"
          ],
          [
           "Cluster 4"
          ],
          [
           "Cluster 4"
          ],
          [
           "Cluster 4"
          ],
          [
           "Cluster 4"
          ],
          [
           "Cluster 4"
          ],
          [
           "Cluster 4"
          ],
          [
           "Cluster 4"
          ],
          [
           "Cluster 4"
          ],
          [
           "Cluster 4"
          ],
          [
           "Cluster 4"
          ],
          [
           "Cluster 4"
          ],
          [
           "Cluster 4"
          ],
          [
           "Cluster 4"
          ],
          [
           "Cluster 4"
          ],
          [
           "Cluster 4"
          ],
          [
           "Cluster 4"
          ],
          [
           "Cluster 4"
          ],
          [
           "Cluster 4"
          ],
          [
           "Cluster 4"
          ],
          [
           "Cluster 4"
          ],
          [
           "Cluster 4"
          ],
          [
           "Cluster 4"
          ],
          [
           "Cluster 4"
          ],
          [
           "Cluster 4"
          ],
          [
           "Cluster 4"
          ],
          [
           "Cluster 4"
          ],
          [
           "Cluster 4"
          ],
          [
           "Cluster 4"
          ],
          [
           "Cluster 4"
          ],
          [
           "Cluster 4"
          ],
          [
           "Cluster 4"
          ],
          [
           "Cluster 4"
          ],
          [
           "Cluster 4"
          ],
          [
           "Cluster 4"
          ],
          [
           "Cluster 4"
          ],
          [
           "Cluster 4"
          ],
          [
           "Cluster 4"
          ],
          [
           "Cluster 4"
          ],
          [
           "Cluster 4"
          ],
          [
           "Cluster 4"
          ],
          [
           "Cluster 4"
          ],
          [
           "Cluster 4"
          ],
          [
           "Cluster 4"
          ],
          [
           "Cluster 4"
          ],
          [
           "Cluster 4"
          ],
          [
           "Cluster 4"
          ],
          [
           "Cluster 4"
          ],
          [
           "Cluster 4"
          ],
          [
           "Cluster 4"
          ],
          [
           "Cluster 4"
          ],
          [
           "Cluster 4"
          ],
          [
           "Cluster 4"
          ],
          [
           "Cluster 4"
          ],
          [
           "Cluster 4"
          ],
          [
           "Cluster 4"
          ],
          [
           "Cluster 4"
          ],
          [
           "Cluster 4"
          ],
          [
           "Cluster 4"
          ],
          [
           "Cluster 4"
          ],
          [
           "Cluster 4"
          ],
          [
           "Cluster 4"
          ],
          [
           "Cluster 4"
          ],
          [
           "Cluster 4"
          ],
          [
           "Cluster 4"
          ],
          [
           "Cluster 4"
          ],
          [
           "Cluster 4"
          ],
          [
           "Cluster 4"
          ],
          [
           "Cluster 4"
          ],
          [
           "Cluster 4"
          ],
          [
           "Cluster 4"
          ],
          [
           "Cluster 4"
          ],
          [
           "Cluster 4"
          ],
          [
           "Cluster 4"
          ],
          [
           "Cluster 4"
          ],
          [
           "Cluster 4"
          ],
          [
           "Cluster 4"
          ],
          [
           "Cluster 4"
          ],
          [
           "Cluster 4"
          ],
          [
           "Cluster 4"
          ],
          [
           "Cluster 4"
          ],
          [
           "Cluster 4"
          ],
          [
           "Cluster 4"
          ],
          [
           "Cluster 4"
          ],
          [
           "Cluster 4"
          ],
          [
           "Cluster 4"
          ],
          [
           "Cluster 4"
          ],
          [
           "Cluster 4"
          ],
          [
           "Cluster 4"
          ],
          [
           "Cluster 4"
          ],
          [
           "Cluster 4"
          ],
          [
           "Cluster 4"
          ],
          [
           "Cluster 4"
          ],
          [
           "Cluster 4"
          ],
          [
           "Cluster 4"
          ],
          [
           "Cluster 4"
          ],
          [
           "Cluster 4"
          ],
          [
           "Cluster 4"
          ],
          [
           "Cluster 4"
          ],
          [
           "Cluster 4"
          ],
          [
           "Cluster 4"
          ],
          [
           "Cluster 4"
          ],
          [
           "Cluster 4"
          ],
          [
           "Cluster 4"
          ],
          [
           "Cluster 4"
          ],
          [
           "Cluster 4"
          ],
          [
           "Cluster 4"
          ],
          [
           "Cluster 4"
          ],
          [
           "Cluster 4"
          ],
          [
           "Cluster 4"
          ],
          [
           "Cluster 4"
          ],
          [
           "Cluster 4"
          ],
          [
           "Cluster 4"
          ],
          [
           "Cluster 4"
          ],
          [
           "Cluster 4"
          ],
          [
           "Cluster 4"
          ],
          [
           "Cluster 4"
          ],
          [
           "Cluster 4"
          ],
          [
           "Cluster 4"
          ],
          [
           "Cluster 4"
          ],
          [
           "Cluster 4"
          ],
          [
           "Cluster 4"
          ],
          [
           "Cluster 4"
          ],
          [
           "Cluster 4"
          ],
          [
           "Cluster 4"
          ],
          [
           "Cluster 4"
          ],
          [
           "Cluster 4"
          ],
          [
           "Cluster 4"
          ],
          [
           "Cluster 4"
          ],
          [
           "Cluster 4"
          ],
          [
           "Cluster 4"
          ],
          [
           "Cluster 4"
          ],
          [
           "Cluster 4"
          ],
          [
           "Cluster 4"
          ],
          [
           "Cluster 4"
          ],
          [
           "Cluster 4"
          ],
          [
           "Cluster 4"
          ],
          [
           "Cluster 4"
          ],
          [
           "Cluster 4"
          ],
          [
           "Cluster 4"
          ],
          [
           "Cluster 4"
          ],
          [
           "Cluster 4"
          ],
          [
           "Cluster 4"
          ],
          [
           "Cluster 4"
          ],
          [
           "Cluster 4"
          ],
          [
           "Cluster 4"
          ],
          [
           "Cluster 4"
          ],
          [
           "Cluster 4"
          ],
          [
           "Cluster 4"
          ],
          [
           "Cluster 4"
          ],
          [
           "Cluster 4"
          ],
          [
           "Cluster 4"
          ],
          [
           "Cluster 4"
          ],
          [
           "Cluster 4"
          ],
          [
           "Cluster 4"
          ],
          [
           "Cluster 4"
          ],
          [
           "Cluster 4"
          ],
          [
           "Cluster 4"
          ],
          [
           "Cluster 4"
          ],
          [
           "Cluster 4"
          ],
          [
           "Cluster 4"
          ],
          [
           "Cluster 4"
          ],
          [
           "Cluster 4"
          ],
          [
           "Cluster 4"
          ],
          [
           "Cluster 4"
          ],
          [
           "Cluster 4"
          ],
          [
           "Cluster 4"
          ],
          [
           "Cluster 4"
          ],
          [
           "Cluster 4"
          ],
          [
           "Cluster 4"
          ],
          [
           "Cluster 4"
          ],
          [
           "Cluster 4"
          ],
          [
           "Cluster 4"
          ],
          [
           "Cluster 4"
          ],
          [
           "Cluster 4"
          ],
          [
           "Cluster 4"
          ],
          [
           "Cluster 4"
          ],
          [
           "Cluster 4"
          ],
          [
           "Cluster 4"
          ],
          [
           "Cluster 4"
          ],
          [
           "Cluster 4"
          ],
          [
           "Cluster 4"
          ],
          [
           "Cluster 4"
          ],
          [
           "Cluster 4"
          ],
          [
           "Cluster 4"
          ],
          [
           "Cluster 4"
          ],
          [
           "Cluster 4"
          ],
          [
           "Cluster 4"
          ],
          [
           "Cluster 4"
          ],
          [
           "Cluster 4"
          ],
          [
           "Cluster 4"
          ],
          [
           "Cluster 4"
          ],
          [
           "Cluster 4"
          ],
          [
           "Cluster 4"
          ],
          [
           "Cluster 4"
          ],
          [
           "Cluster 4"
          ],
          [
           "Cluster 4"
          ],
          [
           "Cluster 4"
          ],
          [
           "Cluster 4"
          ],
          [
           "Cluster 4"
          ],
          [
           "Cluster 4"
          ],
          [
           "Cluster 4"
          ],
          [
           "Cluster 4"
          ],
          [
           "Cluster 4"
          ],
          [
           "Cluster 4"
          ],
          [
           "Cluster 4"
          ],
          [
           "Cluster 4"
          ],
          [
           "Cluster 4"
          ],
          [
           "Cluster 4"
          ],
          [
           "Cluster 4"
          ],
          [
           "Cluster 4"
          ],
          [
           "Cluster 4"
          ],
          [
           "Cluster 4"
          ],
          [
           "Cluster 4"
          ],
          [
           "Cluster 4"
          ],
          [
           "Cluster 4"
          ],
          [
           "Cluster 4"
          ],
          [
           "Cluster 4"
          ],
          [
           "Cluster 4"
          ],
          [
           "Cluster 4"
          ],
          [
           "Cluster 4"
          ],
          [
           "Cluster 4"
          ],
          [
           "Cluster 4"
          ],
          [
           "Cluster 4"
          ],
          [
           "Cluster 4"
          ],
          [
           "Cluster 4"
          ],
          [
           "Cluster 4"
          ],
          [
           "Cluster 4"
          ],
          [
           "Cluster 4"
          ],
          [
           "Cluster 4"
          ],
          [
           "Cluster 4"
          ],
          [
           "Cluster 4"
          ],
          [
           "Cluster 4"
          ],
          [
           "Cluster 4"
          ],
          [
           "Cluster 4"
          ],
          [
           "Cluster 4"
          ],
          [
           "Cluster 4"
          ],
          [
           "Cluster 4"
          ],
          [
           "Cluster 4"
          ],
          [
           "Cluster 4"
          ],
          [
           "Cluster 4"
          ],
          [
           "Cluster 4"
          ],
          [
           "Cluster 4"
          ],
          [
           "Cluster 4"
          ],
          [
           "Cluster 4"
          ],
          [
           "Cluster 4"
          ],
          [
           "Cluster 4"
          ],
          [
           "Cluster 4"
          ],
          [
           "Cluster 4"
          ],
          [
           "Cluster 4"
          ],
          [
           "Cluster 4"
          ],
          [
           "Cluster 4"
          ],
          [
           "Cluster 4"
          ],
          [
           "Cluster 4"
          ],
          [
           "Cluster 4"
          ],
          [
           "Cluster 4"
          ],
          [
           "Cluster 4"
          ],
          [
           "Cluster 4"
          ],
          [
           "Cluster 4"
          ],
          [
           "Cluster 4"
          ],
          [
           "Cluster 4"
          ],
          [
           "Cluster 4"
          ],
          [
           "Cluster 4"
          ],
          [
           "Cluster 4"
          ],
          [
           "Cluster 4"
          ],
          [
           "Cluster 4"
          ],
          [
           "Cluster 4"
          ],
          [
           "Cluster 4"
          ],
          [
           "Cluster 4"
          ],
          [
           "Cluster 4"
          ],
          [
           "Cluster 4"
          ],
          [
           "Cluster 4"
          ],
          [
           "Cluster 4"
          ],
          [
           "Cluster 4"
          ],
          [
           "Cluster 4"
          ],
          [
           "Cluster 4"
          ],
          [
           "Cluster 4"
          ],
          [
           "Cluster 4"
          ],
          [
           "Cluster 4"
          ],
          [
           "Cluster 4"
          ],
          [
           "Cluster 4"
          ],
          [
           "Cluster 4"
          ],
          [
           "Cluster 4"
          ],
          [
           "Cluster 4"
          ],
          [
           "Cluster 4"
          ],
          [
           "Cluster 4"
          ],
          [
           "Cluster 4"
          ],
          [
           "Cluster 4"
          ],
          [
           "Cluster 4"
          ],
          [
           "Cluster 4"
          ],
          [
           "Cluster 4"
          ],
          [
           "Cluster 4"
          ],
          [
           "Cluster 4"
          ],
          [
           "Cluster 4"
          ],
          [
           "Cluster 4"
          ],
          [
           "Cluster 4"
          ],
          [
           "Cluster 4"
          ],
          [
           "Cluster 4"
          ],
          [
           "Cluster 4"
          ],
          [
           "Cluster 4"
          ],
          [
           "Cluster 4"
          ],
          [
           "Cluster 4"
          ],
          [
           "Cluster 4"
          ],
          [
           "Cluster 4"
          ],
          [
           "Cluster 4"
          ],
          [
           "Cluster 4"
          ],
          [
           "Cluster 4"
          ],
          [
           "Cluster 4"
          ],
          [
           "Cluster 4"
          ]
         ],
         "hovertemplate": "Cluster=%{customdata[0]}<br>Income=%{x}<br>Total_Spend=%{y}<extra></extra>",
         "legendgroup": "Cluster 4",
         "marker": {
          "color": "#00cc96",
          "symbol": "circle"
         },
         "mode": "markers",
         "name": "Cluster 4",
         "showlegend": true,
         "type": "scattergl",
         "x": [
          71613,
          62513,
          55635,
          82800,
          52247.25135379061,
          68657,
          67353,
          48948,
          80011,
          72550,
          65486,
          79143,
          82582,
          82384,
          70287,
          75777,
          61823,
          67680,
          70666,
          88194,
          69096,
          66991,
          65031,
          75251,
          75825,
          56046,
          81361,
          78497,
          50150,
          87195,
          89058,
          77298,
          68126,
          57288,
          90765,
          79607,
          73448,
          62981,
          92859,
          65104,
          68352,
          69372,
          70356,
          74165,
          62551,
          66951,
          78497,
          66835,
          61286,
          74068,
          86718,
          69142,
          102160,
          64497,
          77972,
          69508,
          77622,
          63887,
          51537,
          81975,
          79761,
          73687,
          61074,
          80134,
          102692,
          63342,
          69674,
          80124,
          72940,
          69267,
          77882,
          69867,
          75278,
          79946,
          82497,
          68627,
          57912,
          58821,
          80950,
          70893,
          64795,
          64325,
          62187,
          62204,
          75693,
          83003,
          84835,
          69759,
          72099,
          68462,
          62187,
          72025,
          63810,
          66426,
          90300,
          75276,
          66465,
          80134,
          91065,
          82584,
          92910,
          75433,
          61314,
          84865,
          75236,
          67272,
          56796,
          65991,
          89572,
          60597,
          80124,
          75261,
          61456,
          62503,
          78825,
          65104,
          78952,
          65275,
          53653,
          61250,
          60152,
          81169,
          71367,
          80184,
          77863,
          61839,
          76982,
          84169,
          81698,
          79908,
          71499,
          62466,
          61996,
          92163,
          59973,
          162397,
          72298,
          72635,
          70971,
          69084,
          65488,
          62466,
          83917,
          63120,
          62859,
          105471,
          78710,
          66886,
          98777,
          73059,
          66731,
          77353,
          81300,
          65295,
          68118,
          160803,
          77845,
          69476,
          45938,
          78468,
          71022,
          90247,
          55250,
          58398,
          87305,
          74806,
          75012,
          89891,
          89694,
          72025,
          62882,
          64108,
          71163,
          63564,
          80952,
          63855,
          62220,
          58512,
          79146,
          78285,
          74985,
          67430,
          72063,
          72258,
          42564,
          62847,
          45183,
          60161,
          73926,
          82716,
          72504,
          73170,
          65685,
          76412,
          57091,
          78353,
          71391,
          56628,
          82504,
          81205,
          61618,
          82347,
          60474,
          85710,
          70123,
          61346,
          86424,
          68092,
          48948,
          64090,
          86429,
          75114,
          52278,
          95529,
          62820,
          84169,
          74116,
          68397,
          79632,
          64950,
          71796,
          67536,
          60554,
          56067,
          67893,
          92955,
          84219,
          83715,
          80763,
          82170,
          75759,
          85683,
          42021,
          75437,
          52845,
          78028,
          95169,
          56337,
          77568,
          70924,
          68316,
          74538,
          68695,
          77037,
          70924,
          62845,
          65196,
          42000,
          65526,
          83528,
          64176,
          70713,
          88347,
          87171,
          79456,
          75345,
          54233,
          71691,
          71367,
          79803,
          65463,
          81698,
          98777,
          70566,
          63998,
          83145,
          56715,
          79410,
          80685,
          62710,
          77142,
          74214,
          90638,
          54959,
          62000,
          78579,
          70091,
          59184,
          77044,
          64722,
          66000,
          65106,
          67433,
          68118,
          62972,
          74190,
          53378,
          55956,
          64191,
          78687,
          57811,
          78569,
          157733,
          81051,
          65169,
          59868,
          65695,
          74805,
          81843,
          77382,
          72828,
          71604,
          71434,
          88097,
          71853,
          62845,
          50150,
          62061,
          70515,
          69109,
          69627,
          52203,
          92344,
          63915,
          65685,
          44511,
          67087,
          69389,
          80134,
          80589,
          65704,
          63810,
          78427,
          70038,
          69401,
          77343,
          73892,
          68695,
          93790,
          64866,
          49476,
          67419,
          65148,
          60474,
          75484,
          53374,
          71706,
          68487,
          49667,
          78931,
          53977,
          84219,
          79529,
          69930,
          82032,
          74004,
          57036,
          69283,
          67786,
          59235,
          74881,
          76800,
          63943,
          70179,
          79865,
          75315,
          82800,
          90638,
          78093,
          81361,
          75794,
          76445,
          90226,
          51250,
          65526,
          64509,
          55434,
          47111,
          73059,
          59821,
          69755,
          75774,
          57136,
          82014,
          157146,
          72066,
          69084,
          37929,
          80141,
          72635,
          70440,
          78789,
          56534,
          58350,
          58656,
          83512,
          77520,
          55424,
          90273,
          82571,
          74881,
          82427,
          75342,
          70044,
          79146,
          70321,
          66835,
          63342,
          51569,
          72117,
          71853,
          85431,
          65370,
          77298,
          75774,
          53977,
          90369,
          72071,
          58582,
          78394,
          80336,
          62972,
          57333,
          86836,
          64260,
          82733,
          69063,
          69109,
          82326,
          60200,
          33051,
          72905,
          69702,
          76532,
          61671,
          113734,
          62820,
          92556,
          67384,
          52278,
          57107,
          77598,
          80982,
          70617,
          64849,
          62694,
          75903,
          63211,
          83891,
          72335,
          61798,
          76842,
          70053,
          71670,
          77226,
          85738,
          55686,
          32632,
          94642,
          72968,
          91712,
          96547,
          68281,
          77027,
          49912,
          67225,
          55914,
          60689,
          61416,
          76467,
          81044,
          76320,
          70179,
          59462,
          70038,
          42000,
          64713,
          68487,
          56796,
          79823,
          49912,
          80144,
          72967,
          44953,
          69805,
          61286,
          65220,
          65487,
          78499,
          69209,
          72071,
          69263,
          60934,
          71965,
          65210,
          79174,
          81380,
          67716,
          76234,
          65487,
          89616,
          82347,
          57731,
          61014,
          88325,
          80617,
          82032,
          75777,
          57642,
          52247.25135379061,
          61223,
          69245
         ],
         "xaxis": "x",
         "y": [
          776,
          716,
          590,
          1315,
          637,
          1196,
          913,
          902,
          1395,
          1319,
          507,
          1693,
          1617,
          1957,
          1093,
          1438,
          884,
          606,
          1076,
          1274,
          653,
          1253,
          863,
          1890,
          2209,
          692,
          778,
          978,
          410,
          1097,
          850,
          969,
          1820,
          608,
          1724,
          1923,
          725,
          1482,
          2077,
          1053,
          871,
          1381,
          1706,
          1293,
          421,
          1117,
          978,
          1033,
          608,
          1581,
          1270,
          535,
          1240,
          1804,
          1101,
          1135,
          714,
          1245,
          1103,
          1588,
          605,
          1627,
          1102,
          1690,
          1112,
          1101,
          845,
          1495,
          981,
          1635,
          818,
          925,
          930,
          1478,
          1919,
          825,
          916,
          728,
          1213,
          1508,
          680,
          1307,
          1283,
          946,
          1442,
          1674,
          1190,
          1029,
          1188,
          1670,
          636,
          1932,
          1371,
          1377,
          1738,
          1040,
          1485,
          1378,
          1474,
          1435,
          1795,
          1188,
          1008,
          1688,
          1068,
          733,
          1001,
          971,
          2059,
          893,
          1495,
          1743,
          1388,
          973,
          895,
          1053,
          2092,
          746,
          1210,
          730,
          943,
          2089,
          777,
          1902,
          1291,
          1895,
          1062,
          1919,
          1008,
          1772,
          795,
          889,
          1230,
          2086,
          382,
          107,
          939,
          981,
          1825,
          1586,
          963,
          889,
          1587,
          1477,
          1307,
          1724,
          1092,
          599,
          2008,
          1095,
          1029,
          670,
          1241,
          664,
          928,
          1717,
          1346,
          1044,
          636,
          1004,
          1453,
          1621,
          903,
          596,
          1152,
          965,
          1027,
          836,
          1472,
          1677,
          1338,
          1099,
          960,
          1215,
          1757,
          1006,
          1226,
          1171,
          564,
          1427,
          1869,
          1364,
          758,
          1525,
          813,
          1612,
          315,
          1071,
          1580,
          1167,
          1478,
          726,
          769,
          1808,
          577,
          1576,
          1043,
          761,
          1066,
          2009,
          1345,
          1853,
          1180,
          1062,
          1727,
          989,
          1226,
          1281,
          902,
          797,
          1449,
          1253,
          1198,
          1990,
          976,
          1919,
          2052,
          1416,
          1113,
          966,
          960,
          1829,
          811,
          725,
          995,
          1778,
          1198,
          926,
          1415,
          1908,
          2486,
          1789,
          573,
          1493,
          936,
          528,
          1901,
          724,
          2194,
          1363,
          1211,
          1461,
          1091,
          1123,
          1363,
          1178,
          1155,
          653,
          506,
          1650,
          1826,
          1477,
          2116,
          1298,
          1401,
          2087,
          981,
          1192,
          777,
          868,
          562,
          1104,
          2008,
          757,
          1168,
          1833,
          1020,
          1370,
          1004,
          606,
          990,
          1711,
          2525,
          1232,
          1020,
          1812,
          1161,
          1072,
          1065,
          805,
          711,
          973,
          992,
          928,
          587,
          641,
          793,
          999,
          825,
          2130,
          802,
          1736,
          59,
          1501,
          1189,
          1194,
          656,
          820,
          1643,
          1121,
          1678,
          1196,
          1400,
          844,
          1149,
          1178,
          410,
          800,
          1258,
          1555,
          861,
          939,
          1899,
          789,
          769,
          727,
          794,
          797,
          1690,
          1428,
          817,
          1371,
          1930,
          1244,
          690,
          1134,
          1507,
          1091,
          2349,
          556,
          795,
          1471,
          1115,
          1180,
          1159,
          1064,
          1443,
          1366,
          1396,
          943,
          907,
          1198,
          1638,
          1662,
          1234,
          1658,
          1513,
          904,
          1156,
          1128,
          964,
          641,
          1106,
          1034,
          792,
          841,
          1315,
          2525,
          1105,
          778,
          1682,
          1410,
          2352,
          710,
          506,
          1722,
          882,
          1092,
          1095,
          734,
          894,
          823,
          1179,
          1511,
          1730,
          1792,
          1586,
          265,
          2091,
          981,
          1572,
          1754,
          815,
          1001,
          1220,
          2157,
          1526,
          877,
          1991,
          1686,
          964,
          1456,
          563,
          1504,
          564,
          1376,
          1033,
          1101,
          467,
          1073,
          1149,
          1165,
          461,
          969,
          823,
          907,
          1588,
          1338,
          763,
          1428,
          1052,
          587,
          1662,
          557,
          1574,
          1323,
          928,
          1555,
          2257,
          685,
          835,
          1515,
          1039,
          820,
          732,
          277,
          976,
          1263,
          1490,
          1198,
          416,
          1735,
          1191,
          1280,
          1336,
          749,
          901,
          1173,
          816,
          2092,
          463,
          1130,
          1012,
          1766,
          1138,
          1371,
          982,
          576,
          2211,
          1958,
          2217,
          809,
          1655,
          1175,
          874,
          868,
          1260,
          639,
          1665,
          1575,
          1208,
          932,
          1034,
          1088,
          1244,
          653,
          602,
          1366,
          1001,
          1518,
          874,
          1367,
          497,
          1021,
          1038,
          608,
          1282,
          1169,
          1334,
          1782,
          1338,
          568,
          873,
          1213,
          731,
          2043,
          1893,
          1016,
          907,
          1169,
          1644,
          1853,
          704,
          1147,
          1623,
          1435,
          1234,
          1438,
          679,
          1679,
          1341,
          843
         ],
         "yaxis": "y"
        },
        {
         "customdata": [
          [
           "Cluster 2"
          ],
          [
           "Cluster 2"
          ],
          [
           "Cluster 2"
          ],
          [
           "Cluster 2"
          ],
          [
           "Cluster 2"
          ],
          [
           "Cluster 2"
          ],
          [
           "Cluster 2"
          ],
          [
           "Cluster 2"
          ],
          [
           "Cluster 2"
          ],
          [
           "Cluster 2"
          ],
          [
           "Cluster 2"
          ],
          [
           "Cluster 2"
          ],
          [
           "Cluster 2"
          ],
          [
           "Cluster 2"
          ],
          [
           "Cluster 2"
          ],
          [
           "Cluster 2"
          ],
          [
           "Cluster 2"
          ],
          [
           "Cluster 2"
          ],
          [
           "Cluster 2"
          ],
          [
           "Cluster 2"
          ],
          [
           "Cluster 2"
          ],
          [
           "Cluster 2"
          ],
          [
           "Cluster 2"
          ],
          [
           "Cluster 2"
          ],
          [
           "Cluster 2"
          ],
          [
           "Cluster 2"
          ],
          [
           "Cluster 2"
          ],
          [
           "Cluster 2"
          ],
          [
           "Cluster 2"
          ],
          [
           "Cluster 2"
          ],
          [
           "Cluster 2"
          ],
          [
           "Cluster 2"
          ],
          [
           "Cluster 2"
          ],
          [
           "Cluster 2"
          ],
          [
           "Cluster 2"
          ],
          [
           "Cluster 2"
          ],
          [
           "Cluster 2"
          ],
          [
           "Cluster 2"
          ],
          [
           "Cluster 2"
          ],
          [
           "Cluster 2"
          ],
          [
           "Cluster 2"
          ],
          [
           "Cluster 2"
          ],
          [
           "Cluster 2"
          ],
          [
           "Cluster 2"
          ],
          [
           "Cluster 2"
          ],
          [
           "Cluster 2"
          ],
          [
           "Cluster 2"
          ],
          [
           "Cluster 2"
          ],
          [
           "Cluster 2"
          ],
          [
           "Cluster 2"
          ],
          [
           "Cluster 2"
          ],
          [
           "Cluster 2"
          ],
          [
           "Cluster 2"
          ],
          [
           "Cluster 2"
          ],
          [
           "Cluster 2"
          ],
          [
           "Cluster 2"
          ],
          [
           "Cluster 2"
          ],
          [
           "Cluster 2"
          ],
          [
           "Cluster 2"
          ],
          [
           "Cluster 2"
          ],
          [
           "Cluster 2"
          ],
          [
           "Cluster 2"
          ],
          [
           "Cluster 2"
          ],
          [
           "Cluster 2"
          ],
          [
           "Cluster 2"
          ],
          [
           "Cluster 2"
          ],
          [
           "Cluster 2"
          ],
          [
           "Cluster 2"
          ],
          [
           "Cluster 2"
          ],
          [
           "Cluster 2"
          ],
          [
           "Cluster 2"
          ],
          [
           "Cluster 2"
          ],
          [
           "Cluster 2"
          ],
          [
           "Cluster 2"
          ],
          [
           "Cluster 2"
          ],
          [
           "Cluster 2"
          ],
          [
           "Cluster 2"
          ],
          [
           "Cluster 2"
          ],
          [
           "Cluster 2"
          ],
          [
           "Cluster 2"
          ],
          [
           "Cluster 2"
          ],
          [
           "Cluster 2"
          ],
          [
           "Cluster 2"
          ],
          [
           "Cluster 2"
          ],
          [
           "Cluster 2"
          ],
          [
           "Cluster 2"
          ],
          [
           "Cluster 2"
          ],
          [
           "Cluster 2"
          ],
          [
           "Cluster 2"
          ],
          [
           "Cluster 2"
          ],
          [
           "Cluster 2"
          ],
          [
           "Cluster 2"
          ],
          [
           "Cluster 2"
          ],
          [
           "Cluster 2"
          ],
          [
           "Cluster 2"
          ],
          [
           "Cluster 2"
          ],
          [
           "Cluster 2"
          ],
          [
           "Cluster 2"
          ],
          [
           "Cluster 2"
          ],
          [
           "Cluster 2"
          ],
          [
           "Cluster 2"
          ],
          [
           "Cluster 2"
          ],
          [
           "Cluster 2"
          ],
          [
           "Cluster 2"
          ],
          [
           "Cluster 2"
          ],
          [
           "Cluster 2"
          ],
          [
           "Cluster 2"
          ],
          [
           "Cluster 2"
          ],
          [
           "Cluster 2"
          ],
          [
           "Cluster 2"
          ],
          [
           "Cluster 2"
          ],
          [
           "Cluster 2"
          ],
          [
           "Cluster 2"
          ],
          [
           "Cluster 2"
          ],
          [
           "Cluster 2"
          ],
          [
           "Cluster 2"
          ],
          [
           "Cluster 2"
          ],
          [
           "Cluster 2"
          ],
          [
           "Cluster 2"
          ],
          [
           "Cluster 2"
          ],
          [
           "Cluster 2"
          ],
          [
           "Cluster 2"
          ],
          [
           "Cluster 2"
          ],
          [
           "Cluster 2"
          ],
          [
           "Cluster 2"
          ],
          [
           "Cluster 2"
          ],
          [
           "Cluster 2"
          ],
          [
           "Cluster 2"
          ],
          [
           "Cluster 2"
          ],
          [
           "Cluster 2"
          ],
          [
           "Cluster 2"
          ],
          [
           "Cluster 2"
          ],
          [
           "Cluster 2"
          ],
          [
           "Cluster 2"
          ],
          [
           "Cluster 2"
          ],
          [
           "Cluster 2"
          ],
          [
           "Cluster 2"
          ],
          [
           "Cluster 2"
          ],
          [
           "Cluster 2"
          ],
          [
           "Cluster 2"
          ],
          [
           "Cluster 2"
          ],
          [
           "Cluster 2"
          ],
          [
           "Cluster 2"
          ],
          [
           "Cluster 2"
          ],
          [
           "Cluster 2"
          ],
          [
           "Cluster 2"
          ],
          [
           "Cluster 2"
          ],
          [
           "Cluster 2"
          ],
          [
           "Cluster 2"
          ],
          [
           "Cluster 2"
          ],
          [
           "Cluster 2"
          ],
          [
           "Cluster 2"
          ],
          [
           "Cluster 2"
          ],
          [
           "Cluster 2"
          ],
          [
           "Cluster 2"
          ],
          [
           "Cluster 2"
          ],
          [
           "Cluster 2"
          ],
          [
           "Cluster 2"
          ],
          [
           "Cluster 2"
          ],
          [
           "Cluster 2"
          ],
          [
           "Cluster 2"
          ],
          [
           "Cluster 2"
          ],
          [
           "Cluster 2"
          ],
          [
           "Cluster 2"
          ],
          [
           "Cluster 2"
          ],
          [
           "Cluster 2"
          ],
          [
           "Cluster 2"
          ],
          [
           "Cluster 2"
          ],
          [
           "Cluster 2"
          ],
          [
           "Cluster 2"
          ],
          [
           "Cluster 2"
          ],
          [
           "Cluster 2"
          ],
          [
           "Cluster 2"
          ],
          [
           "Cluster 2"
          ],
          [
           "Cluster 2"
          ],
          [
           "Cluster 2"
          ],
          [
           "Cluster 2"
          ],
          [
           "Cluster 2"
          ],
          [
           "Cluster 2"
          ],
          [
           "Cluster 2"
          ],
          [
           "Cluster 2"
          ],
          [
           "Cluster 2"
          ],
          [
           "Cluster 2"
          ],
          [
           "Cluster 2"
          ],
          [
           "Cluster 2"
          ],
          [
           "Cluster 2"
          ],
          [
           "Cluster 2"
          ],
          [
           "Cluster 2"
          ],
          [
           "Cluster 2"
          ],
          [
           "Cluster 2"
          ],
          [
           "Cluster 2"
          ],
          [
           "Cluster 2"
          ],
          [
           "Cluster 2"
          ],
          [
           "Cluster 2"
          ],
          [
           "Cluster 2"
          ],
          [
           "Cluster 2"
          ],
          [
           "Cluster 2"
          ],
          [
           "Cluster 2"
          ],
          [
           "Cluster 2"
          ],
          [
           "Cluster 2"
          ],
          [
           "Cluster 2"
          ],
          [
           "Cluster 2"
          ],
          [
           "Cluster 2"
          ],
          [
           "Cluster 2"
          ],
          [
           "Cluster 2"
          ],
          [
           "Cluster 2"
          ],
          [
           "Cluster 2"
          ],
          [
           "Cluster 2"
          ],
          [
           "Cluster 2"
          ],
          [
           "Cluster 2"
          ],
          [
           "Cluster 2"
          ],
          [
           "Cluster 2"
          ],
          [
           "Cluster 2"
          ],
          [
           "Cluster 2"
          ],
          [
           "Cluster 2"
          ],
          [
           "Cluster 2"
          ],
          [
           "Cluster 2"
          ],
          [
           "Cluster 2"
          ],
          [
           "Cluster 2"
          ],
          [
           "Cluster 2"
          ],
          [
           "Cluster 2"
          ],
          [
           "Cluster 2"
          ],
          [
           "Cluster 2"
          ],
          [
           "Cluster 2"
          ],
          [
           "Cluster 2"
          ],
          [
           "Cluster 2"
          ],
          [
           "Cluster 2"
          ],
          [
           "Cluster 2"
          ],
          [
           "Cluster 2"
          ],
          [
           "Cluster 2"
          ],
          [
           "Cluster 2"
          ],
          [
           "Cluster 2"
          ],
          [
           "Cluster 2"
          ],
          [
           "Cluster 2"
          ],
          [
           "Cluster 2"
          ],
          [
           "Cluster 2"
          ],
          [
           "Cluster 2"
          ],
          [
           "Cluster 2"
          ],
          [
           "Cluster 2"
          ],
          [
           "Cluster 2"
          ],
          [
           "Cluster 2"
          ],
          [
           "Cluster 2"
          ],
          [
           "Cluster 2"
          ],
          [
           "Cluster 2"
          ],
          [
           "Cluster 2"
          ],
          [
           "Cluster 2"
          ],
          [
           "Cluster 2"
          ],
          [
           "Cluster 2"
          ],
          [
           "Cluster 2"
          ],
          [
           "Cluster 2"
          ],
          [
           "Cluster 2"
          ],
          [
           "Cluster 2"
          ],
          [
           "Cluster 2"
          ],
          [
           "Cluster 2"
          ],
          [
           "Cluster 2"
          ],
          [
           "Cluster 2"
          ],
          [
           "Cluster 2"
          ],
          [
           "Cluster 2"
          ],
          [
           "Cluster 2"
          ],
          [
           "Cluster 2"
          ],
          [
           "Cluster 2"
          ],
          [
           "Cluster 2"
          ],
          [
           "Cluster 2"
          ],
          [
           "Cluster 2"
          ],
          [
           "Cluster 2"
          ],
          [
           "Cluster 2"
          ],
          [
           "Cluster 2"
          ],
          [
           "Cluster 2"
          ],
          [
           "Cluster 2"
          ],
          [
           "Cluster 2"
          ],
          [
           "Cluster 2"
          ],
          [
           "Cluster 2"
          ],
          [
           "Cluster 2"
          ],
          [
           "Cluster 2"
          ],
          [
           "Cluster 2"
          ],
          [
           "Cluster 2"
          ],
          [
           "Cluster 2"
          ],
          [
           "Cluster 2"
          ],
          [
           "Cluster 2"
          ],
          [
           "Cluster 2"
          ],
          [
           "Cluster 2"
          ],
          [
           "Cluster 2"
          ],
          [
           "Cluster 2"
          ],
          [
           "Cluster 2"
          ],
          [
           "Cluster 2"
          ],
          [
           "Cluster 2"
          ],
          [
           "Cluster 2"
          ],
          [
           "Cluster 2"
          ],
          [
           "Cluster 2"
          ],
          [
           "Cluster 2"
          ],
          [
           "Cluster 2"
          ],
          [
           "Cluster 2"
          ],
          [
           "Cluster 2"
          ],
          [
           "Cluster 2"
          ],
          [
           "Cluster 2"
          ],
          [
           "Cluster 2"
          ],
          [
           "Cluster 2"
          ],
          [
           "Cluster 2"
          ],
          [
           "Cluster 2"
          ],
          [
           "Cluster 2"
          ],
          [
           "Cluster 2"
          ],
          [
           "Cluster 2"
          ],
          [
           "Cluster 2"
          ],
          [
           "Cluster 2"
          ],
          [
           "Cluster 2"
          ],
          [
           "Cluster 2"
          ],
          [
           "Cluster 2"
          ],
          [
           "Cluster 2"
          ],
          [
           "Cluster 2"
          ],
          [
           "Cluster 2"
          ],
          [
           "Cluster 2"
          ],
          [
           "Cluster 2"
          ],
          [
           "Cluster 2"
          ],
          [
           "Cluster 2"
          ],
          [
           "Cluster 2"
          ],
          [
           "Cluster 2"
          ],
          [
           "Cluster 2"
          ],
          [
           "Cluster 2"
          ],
          [
           "Cluster 2"
          ],
          [
           "Cluster 2"
          ],
          [
           "Cluster 2"
          ],
          [
           "Cluster 2"
          ],
          [
           "Cluster 2"
          ],
          [
           "Cluster 2"
          ],
          [
           "Cluster 2"
          ],
          [
           "Cluster 2"
          ],
          [
           "Cluster 2"
          ],
          [
           "Cluster 2"
          ],
          [
           "Cluster 2"
          ],
          [
           "Cluster 2"
          ],
          [
           "Cluster 2"
          ],
          [
           "Cluster 2"
          ],
          [
           "Cluster 2"
          ],
          [
           "Cluster 2"
          ],
          [
           "Cluster 2"
          ],
          [
           "Cluster 2"
          ],
          [
           "Cluster 2"
          ],
          [
           "Cluster 2"
          ],
          [
           "Cluster 2"
          ],
          [
           "Cluster 2"
          ],
          [
           "Cluster 2"
          ],
          [
           "Cluster 2"
          ],
          [
           "Cluster 2"
          ],
          [
           "Cluster 2"
          ],
          [
           "Cluster 2"
          ],
          [
           "Cluster 2"
          ],
          [
           "Cluster 2"
          ],
          [
           "Cluster 2"
          ],
          [
           "Cluster 2"
          ],
          [
           "Cluster 2"
          ],
          [
           "Cluster 2"
          ],
          [
           "Cluster 2"
          ],
          [
           "Cluster 2"
          ],
          [
           "Cluster 2"
          ],
          [
           "Cluster 2"
          ],
          [
           "Cluster 2"
          ],
          [
           "Cluster 2"
          ],
          [
           "Cluster 2"
          ],
          [
           "Cluster 2"
          ],
          [
           "Cluster 2"
          ],
          [
           "Cluster 2"
          ],
          [
           "Cluster 2"
          ],
          [
           "Cluster 2"
          ],
          [
           "Cluster 2"
          ],
          [
           "Cluster 2"
          ],
          [
           "Cluster 2"
          ],
          [
           "Cluster 2"
          ],
          [
           "Cluster 2"
          ],
          [
           "Cluster 2"
          ],
          [
           "Cluster 2"
          ],
          [
           "Cluster 2"
          ],
          [
           "Cluster 2"
          ],
          [
           "Cluster 2"
          ],
          [
           "Cluster 2"
          ],
          [
           "Cluster 2"
          ],
          [
           "Cluster 2"
          ],
          [
           "Cluster 2"
          ],
          [
           "Cluster 2"
          ],
          [
           "Cluster 2"
          ],
          [
           "Cluster 2"
          ],
          [
           "Cluster 2"
          ],
          [
           "Cluster 2"
          ],
          [
           "Cluster 2"
          ],
          [
           "Cluster 2"
          ],
          [
           "Cluster 2"
          ],
          [
           "Cluster 2"
          ],
          [
           "Cluster 2"
          ],
          [
           "Cluster 2"
          ],
          [
           "Cluster 2"
          ],
          [
           "Cluster 2"
          ],
          [
           "Cluster 2"
          ],
          [
           "Cluster 2"
          ],
          [
           "Cluster 2"
          ],
          [
           "Cluster 2"
          ],
          [
           "Cluster 2"
          ],
          [
           "Cluster 2"
          ],
          [
           "Cluster 2"
          ],
          [
           "Cluster 2"
          ],
          [
           "Cluster 2"
          ],
          [
           "Cluster 2"
          ],
          [
           "Cluster 2"
          ],
          [
           "Cluster 2"
          ],
          [
           "Cluster 2"
          ],
          [
           "Cluster 2"
          ],
          [
           "Cluster 2"
          ],
          [
           "Cluster 2"
          ],
          [
           "Cluster 2"
          ],
          [
           "Cluster 2"
          ],
          [
           "Cluster 2"
          ],
          [
           "Cluster 2"
          ],
          [
           "Cluster 2"
          ],
          [
           "Cluster 2"
          ],
          [
           "Cluster 2"
          ],
          [
           "Cluster 2"
          ],
          [
           "Cluster 2"
          ],
          [
           "Cluster 2"
          ],
          [
           "Cluster 2"
          ],
          [
           "Cluster 2"
          ],
          [
           "Cluster 2"
          ],
          [
           "Cluster 2"
          ],
          [
           "Cluster 2"
          ],
          [
           "Cluster 2"
          ],
          [
           "Cluster 2"
          ],
          [
           "Cluster 2"
          ],
          [
           "Cluster 2"
          ],
          [
           "Cluster 2"
          ],
          [
           "Cluster 2"
          ],
          [
           "Cluster 2"
          ],
          [
           "Cluster 2"
          ],
          [
           "Cluster 2"
          ],
          [
           "Cluster 2"
          ],
          [
           "Cluster 2"
          ],
          [
           "Cluster 2"
          ],
          [
           "Cluster 2"
          ],
          [
           "Cluster 2"
          ],
          [
           "Cluster 2"
          ],
          [
           "Cluster 2"
          ],
          [
           "Cluster 2"
          ],
          [
           "Cluster 2"
          ],
          [
           "Cluster 2"
          ],
          [
           "Cluster 2"
          ],
          [
           "Cluster 2"
          ],
          [
           "Cluster 2"
          ],
          [
           "Cluster 2"
          ],
          [
           "Cluster 2"
          ],
          [
           "Cluster 2"
          ],
          [
           "Cluster 2"
          ],
          [
           "Cluster 2"
          ],
          [
           "Cluster 2"
          ],
          [
           "Cluster 2"
          ],
          [
           "Cluster 2"
          ],
          [
           "Cluster 2"
          ],
          [
           "Cluster 2"
          ],
          [
           "Cluster 2"
          ],
          [
           "Cluster 2"
          ],
          [
           "Cluster 2"
          ],
          [
           "Cluster 2"
          ],
          [
           "Cluster 2"
          ],
          [
           "Cluster 2"
          ],
          [
           "Cluster 2"
          ],
          [
           "Cluster 2"
          ],
          [
           "Cluster 2"
          ],
          [
           "Cluster 2"
          ],
          [
           "Cluster 2"
          ],
          [
           "Cluster 2"
          ],
          [
           "Cluster 2"
          ],
          [
           "Cluster 2"
          ],
          [
           "Cluster 2"
          ],
          [
           "Cluster 2"
          ],
          [
           "Cluster 2"
          ],
          [
           "Cluster 2"
          ],
          [
           "Cluster 2"
          ],
          [
           "Cluster 2"
          ],
          [
           "Cluster 2"
          ],
          [
           "Cluster 2"
          ],
          [
           "Cluster 2"
          ],
          [
           "Cluster 2"
          ],
          [
           "Cluster 2"
          ],
          [
           "Cluster 2"
          ],
          [
           "Cluster 2"
          ],
          [
           "Cluster 2"
          ],
          [
           "Cluster 2"
          ],
          [
           "Cluster 2"
          ],
          [
           "Cluster 2"
          ],
          [
           "Cluster 2"
          ],
          [
           "Cluster 2"
          ],
          [
           "Cluster 2"
          ],
          [
           "Cluster 2"
          ],
          [
           "Cluster 2"
          ],
          [
           "Cluster 2"
          ],
          [
           "Cluster 2"
          ],
          [
           "Cluster 2"
          ],
          [
           "Cluster 2"
          ],
          [
           "Cluster 2"
          ],
          [
           "Cluster 2"
          ],
          [
           "Cluster 2"
          ],
          [
           "Cluster 2"
          ],
          [
           "Cluster 2"
          ],
          [
           "Cluster 2"
          ],
          [
           "Cluster 2"
          ],
          [
           "Cluster 2"
          ],
          [
           "Cluster 2"
          ],
          [
           "Cluster 2"
          ],
          [
           "Cluster 2"
          ],
          [
           "Cluster 2"
          ],
          [
           "Cluster 2"
          ],
          [
           "Cluster 2"
          ],
          [
           "Cluster 2"
          ],
          [
           "Cluster 2"
          ],
          [
           "Cluster 2"
          ],
          [
           "Cluster 2"
          ],
          [
           "Cluster 2"
          ],
          [
           "Cluster 2"
          ],
          [
           "Cluster 2"
          ],
          [
           "Cluster 2"
          ],
          [
           "Cluster 2"
          ],
          [
           "Cluster 2"
          ],
          [
           "Cluster 2"
          ],
          [
           "Cluster 2"
          ],
          [
           "Cluster 2"
          ],
          [
           "Cluster 2"
          ],
          [
           "Cluster 2"
          ],
          [
           "Cluster 2"
          ],
          [
           "Cluster 2"
          ],
          [
           "Cluster 2"
          ],
          [
           "Cluster 2"
          ],
          [
           "Cluster 2"
          ],
          [
           "Cluster 2"
          ],
          [
           "Cluster 2"
          ],
          [
           "Cluster 2"
          ],
          [
           "Cluster 2"
          ],
          [
           "Cluster 2"
          ],
          [
           "Cluster 2"
          ],
          [
           "Cluster 2"
          ],
          [
           "Cluster 2"
          ],
          [
           "Cluster 2"
          ],
          [
           "Cluster 2"
          ],
          [
           "Cluster 2"
          ],
          [
           "Cluster 2"
          ],
          [
           "Cluster 2"
          ],
          [
           "Cluster 2"
          ],
          [
           "Cluster 2"
          ],
          [
           "Cluster 2"
          ],
          [
           "Cluster 2"
          ],
          [
           "Cluster 2"
          ],
          [
           "Cluster 2"
          ],
          [
           "Cluster 2"
          ],
          [
           "Cluster 2"
          ],
          [
           "Cluster 2"
          ],
          [
           "Cluster 2"
          ],
          [
           "Cluster 2"
          ],
          [
           "Cluster 2"
          ],
          [
           "Cluster 2"
          ],
          [
           "Cluster 2"
          ],
          [
           "Cluster 2"
          ],
          [
           "Cluster 2"
          ],
          [
           "Cluster 2"
          ],
          [
           "Cluster 2"
          ],
          [
           "Cluster 2"
          ],
          [
           "Cluster 2"
          ],
          [
           "Cluster 2"
          ],
          [
           "Cluster 2"
          ],
          [
           "Cluster 2"
          ],
          [
           "Cluster 2"
          ],
          [
           "Cluster 2"
          ],
          [
           "Cluster 2"
          ],
          [
           "Cluster 2"
          ],
          [
           "Cluster 2"
          ],
          [
           "Cluster 2"
          ],
          [
           "Cluster 2"
          ],
          [
           "Cluster 2"
          ],
          [
           "Cluster 2"
          ],
          [
           "Cluster 2"
          ],
          [
           "Cluster 2"
          ],
          [
           "Cluster 2"
          ],
          [
           "Cluster 2"
          ],
          [
           "Cluster 2"
          ],
          [
           "Cluster 2"
          ],
          [
           "Cluster 2"
          ],
          [
           "Cluster 2"
          ],
          [
           "Cluster 2"
          ],
          [
           "Cluster 2"
          ],
          [
           "Cluster 2"
          ],
          [
           "Cluster 2"
          ],
          [
           "Cluster 2"
          ],
          [
           "Cluster 2"
          ],
          [
           "Cluster 2"
          ],
          [
           "Cluster 2"
          ],
          [
           "Cluster 2"
          ],
          [
           "Cluster 2"
          ],
          [
           "Cluster 2"
          ],
          [
           "Cluster 2"
          ],
          [
           "Cluster 2"
          ],
          [
           "Cluster 2"
          ],
          [
           "Cluster 2"
          ],
          [
           "Cluster 2"
          ],
          [
           "Cluster 2"
          ],
          [
           "Cluster 2"
          ],
          [
           "Cluster 2"
          ],
          [
           "Cluster 2"
          ],
          [
           "Cluster 2"
          ],
          [
           "Cluster 2"
          ],
          [
           "Cluster 2"
          ],
          [
           "Cluster 2"
          ],
          [
           "Cluster 2"
          ],
          [
           "Cluster 2"
          ],
          [
           "Cluster 2"
          ],
          [
           "Cluster 2"
          ],
          [
           "Cluster 2"
          ],
          [
           "Cluster 2"
          ],
          [
           "Cluster 2"
          ],
          [
           "Cluster 2"
          ],
          [
           "Cluster 2"
          ],
          [
           "Cluster 2"
          ],
          [
           "Cluster 2"
          ],
          [
           "Cluster 2"
          ],
          [
           "Cluster 2"
          ],
          [
           "Cluster 2"
          ],
          [
           "Cluster 2"
          ],
          [
           "Cluster 2"
          ],
          [
           "Cluster 2"
          ],
          [
           "Cluster 2"
          ],
          [
           "Cluster 2"
          ],
          [
           "Cluster 2"
          ],
          [
           "Cluster 2"
          ],
          [
           "Cluster 2"
          ],
          [
           "Cluster 2"
          ],
          [
           "Cluster 2"
          ],
          [
           "Cluster 2"
          ],
          [
           "Cluster 2"
          ],
          [
           "Cluster 2"
          ],
          [
           "Cluster 2"
          ],
          [
           "Cluster 2"
          ],
          [
           "Cluster 2"
          ],
          [
           "Cluster 2"
          ],
          [
           "Cluster 2"
          ],
          [
           "Cluster 2"
          ],
          [
           "Cluster 2"
          ],
          [
           "Cluster 2"
          ],
          [
           "Cluster 2"
          ],
          [
           "Cluster 2"
          ],
          [
           "Cluster 2"
          ],
          [
           "Cluster 2"
          ],
          [
           "Cluster 2"
          ],
          [
           "Cluster 2"
          ],
          [
           "Cluster 2"
          ],
          [
           "Cluster 2"
          ],
          [
           "Cluster 2"
          ],
          [
           "Cluster 2"
          ],
          [
           "Cluster 2"
          ],
          [
           "Cluster 2"
          ],
          [
           "Cluster 2"
          ],
          [
           "Cluster 2"
          ],
          [
           "Cluster 2"
          ],
          [
           "Cluster 2"
          ],
          [
           "Cluster 2"
          ],
          [
           "Cluster 2"
          ],
          [
           "Cluster 2"
          ],
          [
           "Cluster 2"
          ],
          [
           "Cluster 2"
          ],
          [
           "Cluster 2"
          ],
          [
           "Cluster 2"
          ],
          [
           "Cluster 2"
          ],
          [
           "Cluster 2"
          ],
          [
           "Cluster 2"
          ],
          [
           "Cluster 2"
          ],
          [
           "Cluster 2"
          ],
          [
           "Cluster 2"
          ],
          [
           "Cluster 2"
          ],
          [
           "Cluster 2"
          ],
          [
           "Cluster 2"
          ],
          [
           "Cluster 2"
          ],
          [
           "Cluster 2"
          ],
          [
           "Cluster 2"
          ],
          [
           "Cluster 2"
          ],
          [
           "Cluster 2"
          ],
          [
           "Cluster 2"
          ],
          [
           "Cluster 2"
          ],
          [
           "Cluster 2"
          ],
          [
           "Cluster 2"
          ],
          [
           "Cluster 2"
          ],
          [
           "Cluster 2"
          ],
          [
           "Cluster 2"
          ],
          [
           "Cluster 2"
          ],
          [
           "Cluster 2"
          ],
          [
           "Cluster 2"
          ],
          [
           "Cluster 2"
          ],
          [
           "Cluster 2"
          ],
          [
           "Cluster 2"
          ],
          [
           "Cluster 2"
          ],
          [
           "Cluster 2"
          ],
          [
           "Cluster 2"
          ],
          [
           "Cluster 2"
          ],
          [
           "Cluster 2"
          ],
          [
           "Cluster 2"
          ],
          [
           "Cluster 2"
          ],
          [
           "Cluster 2"
          ],
          [
           "Cluster 2"
          ],
          [
           "Cluster 2"
          ],
          [
           "Cluster 2"
          ],
          [
           "Cluster 2"
          ],
          [
           "Cluster 2"
          ],
          [
           "Cluster 2"
          ],
          [
           "Cluster 2"
          ],
          [
           "Cluster 2"
          ],
          [
           "Cluster 2"
          ],
          [
           "Cluster 2"
          ],
          [
           "Cluster 2"
          ],
          [
           "Cluster 2"
          ],
          [
           "Cluster 2"
          ],
          [
           "Cluster 2"
          ],
          [
           "Cluster 2"
          ],
          [
           "Cluster 2"
          ],
          [
           "Cluster 2"
          ],
          [
           "Cluster 2"
          ],
          [
           "Cluster 2"
          ],
          [
           "Cluster 2"
          ],
          [
           "Cluster 2"
          ],
          [
           "Cluster 2"
          ],
          [
           "Cluster 2"
          ],
          [
           "Cluster 2"
          ],
          [
           "Cluster 2"
          ],
          [
           "Cluster 2"
          ],
          [
           "Cluster 2"
          ],
          [
           "Cluster 2"
          ],
          [
           "Cluster 2"
          ],
          [
           "Cluster 2"
          ],
          [
           "Cluster 2"
          ],
          [
           "Cluster 2"
          ],
          [
           "Cluster 2"
          ],
          [
           "Cluster 2"
          ],
          [
           "Cluster 2"
          ],
          [
           "Cluster 2"
          ],
          [
           "Cluster 2"
          ],
          [
           "Cluster 2"
          ],
          [
           "Cluster 2"
          ],
          [
           "Cluster 2"
          ],
          [
           "Cluster 2"
          ],
          [
           "Cluster 2"
          ],
          [
           "Cluster 2"
          ],
          [
           "Cluster 2"
          ],
          [
           "Cluster 2"
          ],
          [
           "Cluster 2"
          ],
          [
           "Cluster 2"
          ]
         ],
         "hovertemplate": "Cluster=%{customdata[0]}<br>Income=%{x}<br>Total_Spend=%{y}<extra></extra>",
         "legendgroup": "Cluster 2",
         "marker": {
          "color": "#ab63fa",
          "symbol": "circle"
         },
         "mode": "markers",
         "name": "Cluster 2",
         "showlegend": true,
         "type": "scattergl",
         "x": [
          58293,
          5648,
          7500,
          59354,
          41850,
          33812,
          2447,
          40689,
          18589,
          38620,
          49389,
          23718,
          42429,
          20559,
          52247.25135379061,
          41728,
          52247.25135379061,
          35790,
          66373,
          52247.25135379061,
          55954,
          25721,
          28332,
          40246,
          29760,
          23559,
          38620,
          29440,
          36138,
          54178,
          52247.25135379061,
          42394,
          23626,
          34554,
          24594,
          36550,
          30753,
          56129,
          19510,
          30992,
          54348,
          61331,
          41551,
          33762,
          36921,
          23957,
          38547,
          35688,
          49605,
          59354,
          60199,
          23228,
          43482,
          52332,
          26091,
          33456,
          28718,
          52074,
          38853,
          38285,
          51650,
          16248,
          28249,
          25271,
          32303,
          24882,
          38872,
          46854,
          40637,
          29604,
          48721,
          44794,
          44377,
          41443,
          45204,
          30732,
          42011,
          51369,
          34320,
          38590,
          22212,
          23661,
          7500,
          22804,
          31160,
          29938,
          26490,
          45989,
          18701,
          15287,
          44159,
          38097,
          29315,
          24480,
          51369,
          65640,
          30631,
          50898,
          35416,
          38361,
          16626,
          42386,
          35246,
          46377,
          39747,
          23976,
          27038,
          12571,
          28839,
          40321,
          52247.25135379061,
          34421,
          40464,
          24072,
          33996,
          22010,
          44300,
          33181,
          38643,
          50737,
          46681,
          28442,
          51479,
          31615,
          35684,
          48178,
          29548,
          46098,
          30822,
          19986,
          35688,
          38823,
          51012,
          15345,
          23442,
          14515,
          31395,
          42373,
          48006,
          23616,
          53858,
          46923,
          18492,
          10404,
          42387,
          50943,
          32011,
          7500,
          28691,
          56223,
          20130,
          23295,
          42618,
          55707,
          70829,
          38988,
          42207,
          50300,
          33183,
          53790,
          38415,
          20518,
          41644,
          38961,
          37760,
          28457,
          46310,
          58308,
          27203,
          50943,
          34935,
          39665,
          48920,
          44124,
          26095,
          30630,
          42691,
          32880,
          50353,
          49154,
          47682,
          57954,
          65316,
          28567,
          47352,
          57247,
          22944,
          25315,
          54058,
          24683,
          47850,
          19514,
          39548,
          22419,
          43462,
          52157,
          29298,
          47691,
          38443,
          38593,
          36959,
          13260,
          54603,
          45207,
          40689,
          47821,
          27450,
          39453,
          24221,
          23910,
          31089,
          61467,
          49618,
          42429,
          26150,
          26877,
          45006,
          45837,
          35791,
          31632,
          36975,
          13624,
          34487,
          28769,
          46463,
          50616,
          61278,
          26490,
          46734,
          19986,
          14661,
          18690,
          29187,
          54690,
          59247,
          38946,
          42315,
          61923,
          34824,
          50272,
          25851,
          18988,
          44794,
          56962,
          53593,
          66373,
          45072,
          48767,
          38702,
          51518,
          38829,
          48726,
          46891,
          62058,
          6835,
          41452,
          40760,
          51124,
          36283,
          17144,
          16813,
          46524,
          46984,
          34838,
          49681,
          56850,
          30772,
          22507,
          22063,
          22419,
          37859,
          55412,
          56575,
          35441,
          49494,
          45889,
          40049,
          19419,
          49980,
          15072,
          30843,
          55357,
          37758,
          23228,
          7500,
          38683,
          49514,
          19485,
          53172,
          30545,
          21675,
          42835,
          17117,
          36627,
          51111,
          46231,
          51195,
          31814,
          51390,
          26868,
          37087,
          54137,
          47889,
          39858,
          34469,
          24401,
          46107,
          25443,
          32892,
          64831,
          14906,
          57937,
          68274,
          39771,
          27922,
          42767,
          46106,
          16927,
          54237,
          52597,
          40233,
          50183,
          33471,
          34596,
          44010,
          56962,
          35704,
          46779,
          33462,
          65352,
          64587,
          34824,
          26091,
          36930,
          36130,
          19514,
          36736,
          49187,
          30168,
          54165,
          34961,
          28440,
          33564,
          17345,
          28647,
          15038,
          31056,
          28071,
          37334,
          38998,
          8028,
          33585,
          35196,
          27100,
          42557,
          22304,
          32892,
          39722,
          41014,
          40479,
          43776,
          39190,
          61825,
          38508,
          53187,
          66480,
          54466,
          16269,
          22634,
          52034,
          39552,
          46931,
          16581,
          25930,
          49669,
          36778,
          49678,
          56129,
          37155,
          21282,
          33419,
          21255,
          7500,
          23091,
          44375,
          40344,
          14421,
          20130,
          66726,
          23724,
          47353,
          28510,
          43140,
          15056,
          22327,
          44393,
          58401,
          62307,
          43641,
          46891,
          51412,
          15287,
          40451,
          36317,
          42213,
          56721,
          33629,
          34377,
          26228,
          33438,
          54730,
          38452,
          44421,
          38197,
          28427,
          37395,
          55249,
          28691,
          44213,
          59062,
          27683,
          1730,
          7500,
          40521,
          20427,
          55158,
          19656,
          57183,
          23748,
          40800,
          37633,
          26997,
          33986,
          46831,
          22804,
          42997,
          34043,
          23148,
          44267,
          50200,
          45143,
          59060,
          47009,
          46094,
          40321,
          37235,
          24711,
          45503,
          27244,
          51948,
          50127,
          24367,
          38136,
          58554,
          47025,
          37971,
          57338,
          50523,
          35791,
          46390,
          54342,
          52247.25135379061,
          52247.25135379061,
          22682,
          39996,
          26759,
          60544,
          36864,
          36947,
          47352,
          36957,
          43142,
          34412,
          57537,
          22634,
          51315,
          54132,
          18690,
          34596,
          43269,
          38741,
          31907,
          27100,
          31163,
          34853,
          31086,
          60544,
          42523,
          33402,
          21645,
          46053,
          40304,
          43300,
          26290,
          16531,
          50725,
          23162,
          34380,
          34704,
          41020,
          19107,
          64014,
          49854,
          57867,
          35765,
          53253,
          31163,
          42014,
          54108,
          57136,
          46098,
          51766,
          37787,
          37697,
          3502,
          28087,
          19740,
          53083,
          46098,
          23331,
          23331,
          9255,
          51411,
          42386,
          30983,
          37284,
          57530,
          37054,
          47175,
          31859,
          27215,
          49681,
          55517,
          38998,
          42014,
          34935,
          45903,
          40442,
          13724,
          45143,
          52569,
          17144,
          36108,
          53843,
          44512,
          27116,
          54072,
          60432,
          33955,
          51717,
          50664,
          54414,
          36301,
          42731,
          52854,
          46681,
          35924,
          56386,
          24594,
          58494,
          56551,
          22448,
          25358,
          35544,
          50729,
          34916,
          43602,
          33996,
          41473,
          36732,
          27573,
          38232,
          23536,
          49413,
          42231,
          49090,
          24336,
          18222,
          42033,
          38452,
          18358,
          52117,
          54222,
          41154,
          35196,
          22108,
          44392,
          17688,
          23529,
          18690,
          37244,
          54984,
          55761,
          28389,
          16014,
          41120,
          38725,
          13533,
          59481,
          21955,
          28249,
          51012,
          42664,
          29760,
          28973,
          20194,
          42473,
          36075,
          60839,
          37697,
          34074,
          28520,
          36273,
          59385,
          44689,
          7144,
          18701,
          37758,
          21840,
          50387,
          25293,
          54111,
          47743,
          32313,
          27071,
          25008,
          22280,
          58217,
          21024,
          54006,
          61825,
          32889,
          34738,
          26642,
          44503,
          49638,
          50616,
          30298,
          52413,
          42081,
          31158,
          24882,
          29819,
          33235,
          31535,
          36038,
          34230,
          61917,
          29543,
          25410,
          28320,
          23763,
          34529,
          36065,
          51141,
          29478,
          46998,
          56551,
          54690,
          31385,
          24570,
          53201,
          57113,
          39791,
          13672,
          56559,
          67506,
          24206,
          30368,
          41638,
          68805,
          37284,
          27943,
          30261,
          28587,
          43815,
          48195,
          32765,
          7500,
          17649,
          40059,
          38680,
          45057,
          37150,
          43020,
          53154,
          36927,
          48794,
          23478,
          52247.25135379061,
          38361,
          52247.25135379061,
          42554,
          31761,
          34350,
          54591,
          25293,
          27889,
          22123,
          52247.25135379061,
          52247.25135379061,
          52247.25135379061,
          22390,
          48699,
          58275,
          34587,
          43018,
          45736,
          25818,
          25176,
          50116,
          33590,
          30992,
          16005,
          62637,
          36997,
          17148,
          41713,
          59686,
          62994,
          31560,
          41967,
          38946,
          26067,
          44325,
          42523,
          40851,
          8820,
          55593,
          37085,
          16185,
          35893,
          32144,
          14918,
          36807,
          28427,
          40101,
          58025,
          58554,
          63777,
          11012,
          26816,
          34421,
          64014
         ],
         "xaxis": "x",
         "y": [
          422,
          49,
          61,
          310,
          96,
          133,
          1730,
          444,
          75,
          318,
          65,
          81,
          67,
          53,
          186,
          55,
          124,
          72,
          606,
          46,
          518,
          34,
          65,
          13,
          165,
          79,
          318,
          56,
          151,
          194,
          18,
          32,
          43,
          55,
          29,
          577,
          81,
          660,
          30,
          43,
          90,
          632,
          279,
          106,
          38,
          68,
          22,
          211,
          127,
          459,
          18,
          121,
          88,
          259,
          89,
          36,
          57,
          119,
          45,
          10,
          191,
          57,
          43,
          50,
          39,
          80,
          91,
          263,
          38,
          53,
          293,
          65,
          264,
          482,
          114,
          185,
          189,
          576,
          17,
          22,
          69,
          23,
          57,
          26,
          64,
          26,
          210,
          322,
          44,
          31,
          275,
          184,
          48,
          102,
          576,
          461,
          70,
          859,
          390,
          137,
          68,
          100,
          62,
          90,
          273,
          66,
          107,
          53,
          32,
          102,
          1052,
          30,
          630,
          23,
          71,
          33,
          42,
          16,
          49,
          99,
          425,
          57,
          494,
          51,
          30,
          254,
          29,
          120,
          51,
          22,
          211,
          114,
          209,
          47,
          27,
          96,
          64,
          163,
          41,
          79,
          915,
          369,
          10,
          43,
          684,
          46,
          122,
          36,
          34,
          156,
          34,
          20,
          192,
          428,
          431,
          348,
          265,
          270,
          120,
          542,
          44,
          25,
          31,
          70,
          54,
          205,
          309,
          900,
          64,
          46,
          137,
          216,
          347,
          397,
          42,
          52,
          358,
          42,
          442,
          411,
          521,
          493,
          260,
          46,
          319,
          232,
          76,
          54,
          662,
          41,
          134,
          69,
          54,
          162,
          240,
          265,
          11,
          21,
          38,
          177,
          62,
          49,
          227,
          215,
          444,
          47,
          143,
          55,
          55,
          67,
          79,
          594,
          129,
          67,
          28,
          268,
          266,
          373,
          35,
          95,
          33,
          36,
          103,
          191,
          235,
          67,
          165,
          210,
          223,
          22,
          26,
          60,
          34,
          198,
          574,
          257,
          270,
          126,
          23,
          233,
          48,
          16,
          65,
          411,
          480,
          606,
          284,
          63,
          109,
          449,
          99,
          242,
          183,
          450,
          137,
          16,
          93,
          43,
          29,
          47,
          50,
          177,
          41,
          170,
          458,
          63,
          20,
          570,
          55,
          162,
          36,
          63,
          542,
          39,
          385,
          46,
          290,
          70,
          195,
          53,
          35,
          727,
          40,
          40,
          15,
          341,
          369,
          10,
          486,
          69,
          45,
          595,
          128,
          16,
          55,
          263,
          564,
          83,
          353,
          14,
          401,
          203,
          67,
          95,
          62,
          467,
          125,
          32,
          46,
          1120,
          66,
          683,
          305,
          50,
          41,
          131,
          54,
          53,
          361,
          578,
          149,
          231,
          93,
          23,
          662,
          411,
          94,
          23,
          54,
          405,
          108,
          23,
          89,
          297,
          488,
          69,
          17,
          116,
          279,
          236,
          79,
          63,
          71,
          58,
          94,
          80,
          55,
          313,
          62,
          54,
          178,
          122,
          497,
          37,
          270,
          18,
          46,
          47,
          20,
          15,
          23,
          133,
          424,
          443,
          267,
          312,
          16,
          44,
          96,
          332,
          384,
          78,
          24,
          15,
          326,
          77,
          315,
          660,
          74,
          46,
          86,
          61,
          18,
          48,
          301,
          218,
          16,
          34,
          438,
          75,
          225,
          91,
          235,
          88,
          24,
          60,
          96,
          160,
          139,
          183,
          195,
          31,
          49,
          133,
          363,
          296,
          152,
          114,
          25,
          90,
          405,
          72,
          189,
          40,
          52,
          39,
          130,
          34,
          152,
          71,
          351,
          8,
          119,
          21,
          10,
          418,
          84,
          610,
          76,
          99,
          38,
          434,
          44,
          78,
          26,
          15,
          49,
          37,
          310,
          401,
          311,
          274,
          448,
          44,
          102,
          61,
          58,
          170,
          101,
          311,
          320,
          24,
          103,
          586,
          415,
          30,
          237,
          91,
          35,
          222,
          177,
          45,
          21,
          95,
          15,
          59,
          289,
          354,
          146,
          319,
          152,
          20,
          209,
          545,
          96,
          222,
          42,
          60,
          23,
          19,
          61,
          449,
          37,
          38,
          34,
          48,
          289,
          125,
          70,
          65,
          209,
          57,
          180,
          77,
          44,
          586,
          65,
          175,
          40,
          217,
          46,
          444,
          380,
          612,
          75,
          436,
          38,
          436,
          747,
          642,
          120,
          275,
          106,
          84,
          5,
          112,
          55,
          271,
          120,
          103,
          269,
          22,
          18,
          100,
          167,
          23,
          92,
          25,
          240,
          20,
          102,
          458,
          633,
          54,
          436,
          137,
          66,
          169,
          58,
          311,
          95,
          47,
          339,
          562,
          32,
          41,
          39,
          401,
          270,
          122,
          561,
          211,
          78,
          244,
          116,
          425,
          34,
          612,
          29,
          396,
          138,
          55,
          32,
          67,
          496,
          231,
          68,
          71,
          76,
          47,
          244,
          122,
          10,
          304,
          37,
          688,
          31,
          67,
          25,
          72,
          57,
          279,
          264,
          69,
          497,
          31,
          211,
          11,
          54,
          60,
          55,
          358,
          184,
          28,
          38,
          81,
          45,
          48,
          461,
          55,
          43,
          209,
          24,
          165,
          269,
          47,
          144,
          119,
          1250,
          84,
          255,
          43,
          76,
          185,
          34,
          416,
          44,
          40,
          27,
          525,
          37,
          388,
          275,
          159,
          35,
          34,
          13,
          103,
          84,
          581,
          424,
          55,
          20,
          42,
          48,
          39,
          149,
          28,
          450,
          382,
          72,
          80,
          39,
          70,
          51,
          47,
          21,
          91,
          63,
          38,
          43,
          42,
          162,
          74,
          157,
          20,
          377,
          138,
          198,
          27,
          193,
          415,
          263,
          174,
          25,
          484,
          331,
          25,
          52,
          441,
          283,
          23,
          37,
          22,
          78,
          79,
          265,
          46,
          100,
          45,
          414,
          79,
          50,
          467,
          223,
          158,
          71,
          54,
          129,
          721,
          137,
          47,
          41,
          98,
          48,
          519,
          37,
          26,
          102,
          97,
          207,
          450,
          26,
          40,
          615,
          22,
          133,
          437,
          28,
          13,
          66,
          8,
          43,
          103,
          185,
          94,
          68,
          174,
          274,
          312,
          94,
          54,
          257,
          56,
          542,
          125,
          59,
          35,
          546,
          61,
          106,
          199,
          54,
          43,
          16,
          52,
          415,
          470,
          586,
          653,
          84,
          22,
          30,
          444
         ],
         "yaxis": "y"
        }
       ],
       "layout": {
        "height": 600,
        "legend": {
         "title": {
          "text": "Cluster"
         },
         "tracegroupgap": 0
        },
        "margin": {
         "t": 60
        },
        "template": {
         "data": {
          "bar": [
           {
            "error_x": {
             "color": "#2a3f5f"
            },
            "error_y": {
             "color": "#2a3f5f"
            },
            "marker": {
             "line": {
              "color": "#E5ECF6",
              "width": 0.5
             },
             "pattern": {
              "fillmode": "overlay",
              "size": 10,
              "solidity": 0.2
             }
            },
            "type": "bar"
           }
          ],
          "barpolar": [
           {
            "marker": {
             "line": {
              "color": "#E5ECF6",
              "width": 0.5
             },
             "pattern": {
              "fillmode": "overlay",
              "size": 10,
              "solidity": 0.2
             }
            },
            "type": "barpolar"
           }
          ],
          "carpet": [
           {
            "aaxis": {
             "endlinecolor": "#2a3f5f",
             "gridcolor": "white",
             "linecolor": "white",
             "minorgridcolor": "white",
             "startlinecolor": "#2a3f5f"
            },
            "baxis": {
             "endlinecolor": "#2a3f5f",
             "gridcolor": "white",
             "linecolor": "white",
             "minorgridcolor": "white",
             "startlinecolor": "#2a3f5f"
            },
            "type": "carpet"
           }
          ],
          "choropleth": [
           {
            "colorbar": {
             "outlinewidth": 0,
             "ticks": ""
            },
            "type": "choropleth"
           }
          ],
          "contour": [
           {
            "colorbar": {
             "outlinewidth": 0,
             "ticks": ""
            },
            "colorscale": [
             [
              0,
              "#0d0887"
             ],
             [
              0.1111111111111111,
              "#46039f"
             ],
             [
              0.2222222222222222,
              "#7201a8"
             ],
             [
              0.3333333333333333,
              "#9c179e"
             ],
             [
              0.4444444444444444,
              "#bd3786"
             ],
             [
              0.5555555555555556,
              "#d8576b"
             ],
             [
              0.6666666666666666,
              "#ed7953"
             ],
             [
              0.7777777777777778,
              "#fb9f3a"
             ],
             [
              0.8888888888888888,
              "#fdca26"
             ],
             [
              1,
              "#f0f921"
             ]
            ],
            "type": "contour"
           }
          ],
          "contourcarpet": [
           {
            "colorbar": {
             "outlinewidth": 0,
             "ticks": ""
            },
            "type": "contourcarpet"
           }
          ],
          "heatmap": [
           {
            "colorbar": {
             "outlinewidth": 0,
             "ticks": ""
            },
            "colorscale": [
             [
              0,
              "#0d0887"
             ],
             [
              0.1111111111111111,
              "#46039f"
             ],
             [
              0.2222222222222222,
              "#7201a8"
             ],
             [
              0.3333333333333333,
              "#9c179e"
             ],
             [
              0.4444444444444444,
              "#bd3786"
             ],
             [
              0.5555555555555556,
              "#d8576b"
             ],
             [
              0.6666666666666666,
              "#ed7953"
             ],
             [
              0.7777777777777778,
              "#fb9f3a"
             ],
             [
              0.8888888888888888,
              "#fdca26"
             ],
             [
              1,
              "#f0f921"
             ]
            ],
            "type": "heatmap"
           }
          ],
          "heatmapgl": [
           {
            "colorbar": {
             "outlinewidth": 0,
             "ticks": ""
            },
            "colorscale": [
             [
              0,
              "#0d0887"
             ],
             [
              0.1111111111111111,
              "#46039f"
             ],
             [
              0.2222222222222222,
              "#7201a8"
             ],
             [
              0.3333333333333333,
              "#9c179e"
             ],
             [
              0.4444444444444444,
              "#bd3786"
             ],
             [
              0.5555555555555556,
              "#d8576b"
             ],
             [
              0.6666666666666666,
              "#ed7953"
             ],
             [
              0.7777777777777778,
              "#fb9f3a"
             ],
             [
              0.8888888888888888,
              "#fdca26"
             ],
             [
              1,
              "#f0f921"
             ]
            ],
            "type": "heatmapgl"
           }
          ],
          "histogram": [
           {
            "marker": {
             "pattern": {
              "fillmode": "overlay",
              "size": 10,
              "solidity": 0.2
             }
            },
            "type": "histogram"
           }
          ],
          "histogram2d": [
           {
            "colorbar": {
             "outlinewidth": 0,
             "ticks": ""
            },
            "colorscale": [
             [
              0,
              "#0d0887"
             ],
             [
              0.1111111111111111,
              "#46039f"
             ],
             [
              0.2222222222222222,
              "#7201a8"
             ],
             [
              0.3333333333333333,
              "#9c179e"
             ],
             [
              0.4444444444444444,
              "#bd3786"
             ],
             [
              0.5555555555555556,
              "#d8576b"
             ],
             [
              0.6666666666666666,
              "#ed7953"
             ],
             [
              0.7777777777777778,
              "#fb9f3a"
             ],
             [
              0.8888888888888888,
              "#fdca26"
             ],
             [
              1,
              "#f0f921"
             ]
            ],
            "type": "histogram2d"
           }
          ],
          "histogram2dcontour": [
           {
            "colorbar": {
             "outlinewidth": 0,
             "ticks": ""
            },
            "colorscale": [
             [
              0,
              "#0d0887"
             ],
             [
              0.1111111111111111,
              "#46039f"
             ],
             [
              0.2222222222222222,
              "#7201a8"
             ],
             [
              0.3333333333333333,
              "#9c179e"
             ],
             [
              0.4444444444444444,
              "#bd3786"
             ],
             [
              0.5555555555555556,
              "#d8576b"
             ],
             [
              0.6666666666666666,
              "#ed7953"
             ],
             [
              0.7777777777777778,
              "#fb9f3a"
             ],
             [
              0.8888888888888888,
              "#fdca26"
             ],
             [
              1,
              "#f0f921"
             ]
            ],
            "type": "histogram2dcontour"
           }
          ],
          "mesh3d": [
           {
            "colorbar": {
             "outlinewidth": 0,
             "ticks": ""
            },
            "type": "mesh3d"
           }
          ],
          "parcoords": [
           {
            "line": {
             "colorbar": {
              "outlinewidth": 0,
              "ticks": ""
             }
            },
            "type": "parcoords"
           }
          ],
          "pie": [
           {
            "automargin": true,
            "type": "pie"
           }
          ],
          "scatter": [
           {
            "fillpattern": {
             "fillmode": "overlay",
             "size": 10,
             "solidity": 0.2
            },
            "type": "scatter"
           }
          ],
          "scatter3d": [
           {
            "line": {
             "colorbar": {
              "outlinewidth": 0,
              "ticks": ""
             }
            },
            "marker": {
             "colorbar": {
              "outlinewidth": 0,
              "ticks": ""
             }
            },
            "type": "scatter3d"
           }
          ],
          "scattercarpet": [
           {
            "marker": {
             "colorbar": {
              "outlinewidth": 0,
              "ticks": ""
             }
            },
            "type": "scattercarpet"
           }
          ],
          "scattergeo": [
           {
            "marker": {
             "colorbar": {
              "outlinewidth": 0,
              "ticks": ""
             }
            },
            "type": "scattergeo"
           }
          ],
          "scattergl": [
           {
            "marker": {
             "colorbar": {
              "outlinewidth": 0,
              "ticks": ""
             }
            },
            "type": "scattergl"
           }
          ],
          "scattermapbox": [
           {
            "marker": {
             "colorbar": {
              "outlinewidth": 0,
              "ticks": ""
             }
            },
            "type": "scattermapbox"
           }
          ],
          "scatterpolar": [
           {
            "marker": {
             "colorbar": {
              "outlinewidth": 0,
              "ticks": ""
             }
            },
            "type": "scatterpolar"
           }
          ],
          "scatterpolargl": [
           {
            "marker": {
             "colorbar": {
              "outlinewidth": 0,
              "ticks": ""
             }
            },
            "type": "scatterpolargl"
           }
          ],
          "scatterternary": [
           {
            "marker": {
             "colorbar": {
              "outlinewidth": 0,
              "ticks": ""
             }
            },
            "type": "scatterternary"
           }
          ],
          "surface": [
           {
            "colorbar": {
             "outlinewidth": 0,
             "ticks": ""
            },
            "colorscale": [
             [
              0,
              "#0d0887"
             ],
             [
              0.1111111111111111,
              "#46039f"
             ],
             [
              0.2222222222222222,
              "#7201a8"
             ],
             [
              0.3333333333333333,
              "#9c179e"
             ],
             [
              0.4444444444444444,
              "#bd3786"
             ],
             [
              0.5555555555555556,
              "#d8576b"
             ],
             [
              0.6666666666666666,
              "#ed7953"
             ],
             [
              0.7777777777777778,
              "#fb9f3a"
             ],
             [
              0.8888888888888888,
              "#fdca26"
             ],
             [
              1,
              "#f0f921"
             ]
            ],
            "type": "surface"
           }
          ],
          "table": [
           {
            "cells": {
             "fill": {
              "color": "#EBF0F8"
             },
             "line": {
              "color": "white"
             }
            },
            "header": {
             "fill": {
              "color": "#C8D4E3"
             },
             "line": {
              "color": "white"
             }
            },
            "type": "table"
           }
          ]
         },
         "layout": {
          "annotationdefaults": {
           "arrowcolor": "#2a3f5f",
           "arrowhead": 0,
           "arrowwidth": 1
          },
          "autotypenumbers": "strict",
          "coloraxis": {
           "colorbar": {
            "outlinewidth": 0,
            "ticks": ""
           }
          },
          "colorscale": {
           "diverging": [
            [
             0,
             "#8e0152"
            ],
            [
             0.1,
             "#c51b7d"
            ],
            [
             0.2,
             "#de77ae"
            ],
            [
             0.3,
             "#f1b6da"
            ],
            [
             0.4,
             "#fde0ef"
            ],
            [
             0.5,
             "#f7f7f7"
            ],
            [
             0.6,
             "#e6f5d0"
            ],
            [
             0.7,
             "#b8e186"
            ],
            [
             0.8,
             "#7fbc41"
            ],
            [
             0.9,
             "#4d9221"
            ],
            [
             1,
             "#276419"
            ]
           ],
           "sequential": [
            [
             0,
             "#0d0887"
            ],
            [
             0.1111111111111111,
             "#46039f"
            ],
            [
             0.2222222222222222,
             "#7201a8"
            ],
            [
             0.3333333333333333,
             "#9c179e"
            ],
            [
             0.4444444444444444,
             "#bd3786"
            ],
            [
             0.5555555555555556,
             "#d8576b"
            ],
            [
             0.6666666666666666,
             "#ed7953"
            ],
            [
             0.7777777777777778,
             "#fb9f3a"
            ],
            [
             0.8888888888888888,
             "#fdca26"
            ],
            [
             1,
             "#f0f921"
            ]
           ],
           "sequentialminus": [
            [
             0,
             "#0d0887"
            ],
            [
             0.1111111111111111,
             "#46039f"
            ],
            [
             0.2222222222222222,
             "#7201a8"
            ],
            [
             0.3333333333333333,
             "#9c179e"
            ],
            [
             0.4444444444444444,
             "#bd3786"
            ],
            [
             0.5555555555555556,
             "#d8576b"
            ],
            [
             0.6666666666666666,
             "#ed7953"
            ],
            [
             0.7777777777777778,
             "#fb9f3a"
            ],
            [
             0.8888888888888888,
             "#fdca26"
            ],
            [
             1,
             "#f0f921"
            ]
           ]
          },
          "colorway": [
           "#636efa",
           "#EF553B",
           "#00cc96",
           "#ab63fa",
           "#FFA15A",
           "#19d3f3",
           "#FF6692",
           "#B6E880",
           "#FF97FF",
           "#FECB52"
          ],
          "font": {
           "color": "#2a3f5f"
          },
          "geo": {
           "bgcolor": "white",
           "lakecolor": "white",
           "landcolor": "#E5ECF6",
           "showlakes": true,
           "showland": true,
           "subunitcolor": "white"
          },
          "hoverlabel": {
           "align": "left"
          },
          "hovermode": "closest",
          "mapbox": {
           "style": "light"
          },
          "paper_bgcolor": "white",
          "plot_bgcolor": "#E5ECF6",
          "polar": {
           "angularaxis": {
            "gridcolor": "white",
            "linecolor": "white",
            "ticks": ""
           },
           "bgcolor": "#E5ECF6",
           "radialaxis": {
            "gridcolor": "white",
            "linecolor": "white",
            "ticks": ""
           }
          },
          "scene": {
           "xaxis": {
            "backgroundcolor": "#E5ECF6",
            "gridcolor": "white",
            "gridwidth": 2,
            "linecolor": "white",
            "showbackground": true,
            "ticks": "",
            "zerolinecolor": "white"
           },
           "yaxis": {
            "backgroundcolor": "#E5ECF6",
            "gridcolor": "white",
            "gridwidth": 2,
            "linecolor": "white",
            "showbackground": true,
            "ticks": "",
            "zerolinecolor": "white"
           },
           "zaxis": {
            "backgroundcolor": "#E5ECF6",
            "gridcolor": "white",
            "gridwidth": 2,
            "linecolor": "white",
            "showbackground": true,
            "ticks": "",
            "zerolinecolor": "white"
           }
          },
          "shapedefaults": {
           "line": {
            "color": "#2a3f5f"
           }
          },
          "ternary": {
           "aaxis": {
            "gridcolor": "white",
            "linecolor": "white",
            "ticks": ""
           },
           "baxis": {
            "gridcolor": "white",
            "linecolor": "white",
            "ticks": ""
           },
           "bgcolor": "#E5ECF6",
           "caxis": {
            "gridcolor": "white",
            "linecolor": "white",
            "ticks": ""
           }
          },
          "title": {
           "x": 0.05
          },
          "xaxis": {
           "automargin": true,
           "gridcolor": "white",
           "linecolor": "white",
           "ticks": "",
           "title": {
            "standoff": 15
           },
           "zerolinecolor": "white",
           "zerolinewidth": 2
          },
          "yaxis": {
           "automargin": true,
           "gridcolor": "white",
           "linecolor": "white",
           "ticks": "",
           "title": {
            "standoff": 15
           },
           "zerolinecolor": "white",
           "zerolinewidth": 2
          }
         }
        },
        "title": {
         "text": "Spend vs Income Plot"
        },
        "width": 900,
        "xaxis": {
         "anchor": "y",
         "domain": [
          0,
          1
         ],
         "title": {
          "text": "Spend"
         }
        },
        "yaxis": {
         "anchor": "x",
         "domain": [
          0,
          1
         ],
         "title": {
          "text": "Income"
         }
        }
       }
      }
     },
     "metadata": {},
     "output_type": "display_data"
    }
   ],
   "source": [
    "fig = px.scatter(df_, x=\"Income\", y=\"Total_Spend\",\n",
    "                 color=\"Cluster\",\n",
    "                 hover_data=['Total_Spend', 'Income', 'Cluster'])\n",
    "\n",
    "fig.update_layout(\n",
    "    title=\"Spend vs Income Plot\",\n",
    "    xaxis_title = \"Spend\",\n",
    "    yaxis_title = \"Income\",\n",
    "    width = 900, height=600\n",
    ")\n",
    "\n",
    "fig.show()"
   ]
  },
  {
   "cell_type": "code",
   "execution_count": 565,
   "metadata": {},
   "outputs": [
    {
     "data": {
      "application/vnd.plotly.v1+json": {
       "config": {
        "plotlyServerURL": "https://plot.ly"
       },
       "data": [
        {
         "alignmentgroup": "True",
         "hovertemplate": "Cluster=Cluster 1<br>Age=%{x}<br>Number of Customers=%{y}<extra></extra>",
         "legendgroup": "Cluster 1",
         "marker": {
          "color": "#636efa",
          "pattern": {
           "shape": ""
          }
         },
         "name": "Cluster 1",
         "offsetgroup": "Cluster 1",
         "orientation": "v",
         "showlegend": true,
         "textposition": "auto",
         "type": "bar",
         "x": [
          "(0,30]",
          "(30,40]",
          "(40,50]",
          "(50, 60]",
          "(60, 70]",
          "70"
         ],
         "xaxis": "x",
         "y": [
          1,
          71,
          162,
          178,
          102,
          44
         ],
         "yaxis": "y"
        },
        {
         "alignmentgroup": "True",
         "hovertemplate": "Cluster=Cluster 2<br>Age=%{x}<br>Number of Customers=%{y}<extra></extra>",
         "legendgroup": "Cluster 2",
         "marker": {
          "color": "#EF553B",
          "pattern": {
           "shape": ""
          }
         },
         "name": "Cluster 2",
         "offsetgroup": "Cluster 2",
         "orientation": "v",
         "showlegend": true,
         "textposition": "auto",
         "type": "bar",
         "x": [
          "(0,30]",
          "(30,40]",
          "(40,50]",
          "(50, 60]",
          "(60, 70]",
          "70"
         ],
         "xaxis": "x",
         "y": [
          3,
          89,
          232,
          210,
          132,
          78
         ],
         "yaxis": "y"
        },
        {
         "alignmentgroup": "True",
         "hovertemplate": "Cluster=Cluster 3<br>Age=%{x}<br>Number of Customers=%{y}<extra></extra>",
         "legendgroup": "Cluster 3",
         "marker": {
          "color": "#00cc96",
          "pattern": {
           "shape": ""
          }
         },
         "name": "Cluster 3",
         "offsetgroup": "Cluster 3",
         "orientation": "v",
         "showlegend": true,
         "textposition": "auto",
         "type": "bar",
         "x": [
          "(0,30]",
          "(30,40]",
          "(40,50]",
          "(50, 60]",
          "(60, 70]",
          "70"
         ],
         "xaxis": "x",
         "y": [
          1,
          45,
          79,
          129,
          108,
          70
         ],
         "yaxis": "y"
        },
        {
         "alignmentgroup": "True",
         "hovertemplate": "Cluster=Cluster 4<br>Age=%{x}<br>Number of Customers=%{y}<extra></extra>",
         "legendgroup": "Cluster 4",
         "marker": {
          "color": "#ab63fa",
          "pattern": {
           "shape": ""
          }
         },
         "name": "Cluster 4",
         "offsetgroup": "Cluster 4",
         "orientation": "v",
         "showlegend": true,
         "textposition": "auto",
         "type": "bar",
         "x": [
          "(0,30]",
          "(30,40]",
          "(40,50]",
          "(50, 60]",
          "(60, 70]",
          "70"
         ],
         "xaxis": "x",
         "y": [
          5,
          44,
          114,
          132,
          133,
          74
         ],
         "yaxis": "y"
        }
       ],
       "layout": {
        "barmode": "group",
        "height": 400,
        "legend": {
         "title": {
          "text": "Cluster"
         },
         "tracegroupgap": 0
        },
        "margin": {
         "t": 60
        },
        "template": {
         "data": {
          "bar": [
           {
            "error_x": {
             "color": "#2a3f5f"
            },
            "error_y": {
             "color": "#2a3f5f"
            },
            "marker": {
             "line": {
              "color": "#E5ECF6",
              "width": 0.5
             },
             "pattern": {
              "fillmode": "overlay",
              "size": 10,
              "solidity": 0.2
             }
            },
            "type": "bar"
           }
          ],
          "barpolar": [
           {
            "marker": {
             "line": {
              "color": "#E5ECF6",
              "width": 0.5
             },
             "pattern": {
              "fillmode": "overlay",
              "size": 10,
              "solidity": 0.2
             }
            },
            "type": "barpolar"
           }
          ],
          "carpet": [
           {
            "aaxis": {
             "endlinecolor": "#2a3f5f",
             "gridcolor": "white",
             "linecolor": "white",
             "minorgridcolor": "white",
             "startlinecolor": "#2a3f5f"
            },
            "baxis": {
             "endlinecolor": "#2a3f5f",
             "gridcolor": "white",
             "linecolor": "white",
             "minorgridcolor": "white",
             "startlinecolor": "#2a3f5f"
            },
            "type": "carpet"
           }
          ],
          "choropleth": [
           {
            "colorbar": {
             "outlinewidth": 0,
             "ticks": ""
            },
            "type": "choropleth"
           }
          ],
          "contour": [
           {
            "colorbar": {
             "outlinewidth": 0,
             "ticks": ""
            },
            "colorscale": [
             [
              0,
              "#0d0887"
             ],
             [
              0.1111111111111111,
              "#46039f"
             ],
             [
              0.2222222222222222,
              "#7201a8"
             ],
             [
              0.3333333333333333,
              "#9c179e"
             ],
             [
              0.4444444444444444,
              "#bd3786"
             ],
             [
              0.5555555555555556,
              "#d8576b"
             ],
             [
              0.6666666666666666,
              "#ed7953"
             ],
             [
              0.7777777777777778,
              "#fb9f3a"
             ],
             [
              0.8888888888888888,
              "#fdca26"
             ],
             [
              1,
              "#f0f921"
             ]
            ],
            "type": "contour"
           }
          ],
          "contourcarpet": [
           {
            "colorbar": {
             "outlinewidth": 0,
             "ticks": ""
            },
            "type": "contourcarpet"
           }
          ],
          "heatmap": [
           {
            "colorbar": {
             "outlinewidth": 0,
             "ticks": ""
            },
            "colorscale": [
             [
              0,
              "#0d0887"
             ],
             [
              0.1111111111111111,
              "#46039f"
             ],
             [
              0.2222222222222222,
              "#7201a8"
             ],
             [
              0.3333333333333333,
              "#9c179e"
             ],
             [
              0.4444444444444444,
              "#bd3786"
             ],
             [
              0.5555555555555556,
              "#d8576b"
             ],
             [
              0.6666666666666666,
              "#ed7953"
             ],
             [
              0.7777777777777778,
              "#fb9f3a"
             ],
             [
              0.8888888888888888,
              "#fdca26"
             ],
             [
              1,
              "#f0f921"
             ]
            ],
            "type": "heatmap"
           }
          ],
          "heatmapgl": [
           {
            "colorbar": {
             "outlinewidth": 0,
             "ticks": ""
            },
            "colorscale": [
             [
              0,
              "#0d0887"
             ],
             [
              0.1111111111111111,
              "#46039f"
             ],
             [
              0.2222222222222222,
              "#7201a8"
             ],
             [
              0.3333333333333333,
              "#9c179e"
             ],
             [
              0.4444444444444444,
              "#bd3786"
             ],
             [
              0.5555555555555556,
              "#d8576b"
             ],
             [
              0.6666666666666666,
              "#ed7953"
             ],
             [
              0.7777777777777778,
              "#fb9f3a"
             ],
             [
              0.8888888888888888,
              "#fdca26"
             ],
             [
              1,
              "#f0f921"
             ]
            ],
            "type": "heatmapgl"
           }
          ],
          "histogram": [
           {
            "marker": {
             "pattern": {
              "fillmode": "overlay",
              "size": 10,
              "solidity": 0.2
             }
            },
            "type": "histogram"
           }
          ],
          "histogram2d": [
           {
            "colorbar": {
             "outlinewidth": 0,
             "ticks": ""
            },
            "colorscale": [
             [
              0,
              "#0d0887"
             ],
             [
              0.1111111111111111,
              "#46039f"
             ],
             [
              0.2222222222222222,
              "#7201a8"
             ],
             [
              0.3333333333333333,
              "#9c179e"
             ],
             [
              0.4444444444444444,
              "#bd3786"
             ],
             [
              0.5555555555555556,
              "#d8576b"
             ],
             [
              0.6666666666666666,
              "#ed7953"
             ],
             [
              0.7777777777777778,
              "#fb9f3a"
             ],
             [
              0.8888888888888888,
              "#fdca26"
             ],
             [
              1,
              "#f0f921"
             ]
            ],
            "type": "histogram2d"
           }
          ],
          "histogram2dcontour": [
           {
            "colorbar": {
             "outlinewidth": 0,
             "ticks": ""
            },
            "colorscale": [
             [
              0,
              "#0d0887"
             ],
             [
              0.1111111111111111,
              "#46039f"
             ],
             [
              0.2222222222222222,
              "#7201a8"
             ],
             [
              0.3333333333333333,
              "#9c179e"
             ],
             [
              0.4444444444444444,
              "#bd3786"
             ],
             [
              0.5555555555555556,
              "#d8576b"
             ],
             [
              0.6666666666666666,
              "#ed7953"
             ],
             [
              0.7777777777777778,
              "#fb9f3a"
             ],
             [
              0.8888888888888888,
              "#fdca26"
             ],
             [
              1,
              "#f0f921"
             ]
            ],
            "type": "histogram2dcontour"
           }
          ],
          "mesh3d": [
           {
            "colorbar": {
             "outlinewidth": 0,
             "ticks": ""
            },
            "type": "mesh3d"
           }
          ],
          "parcoords": [
           {
            "line": {
             "colorbar": {
              "outlinewidth": 0,
              "ticks": ""
             }
            },
            "type": "parcoords"
           }
          ],
          "pie": [
           {
            "automargin": true,
            "type": "pie"
           }
          ],
          "scatter": [
           {
            "fillpattern": {
             "fillmode": "overlay",
             "size": 10,
             "solidity": 0.2
            },
            "type": "scatter"
           }
          ],
          "scatter3d": [
           {
            "line": {
             "colorbar": {
              "outlinewidth": 0,
              "ticks": ""
             }
            },
            "marker": {
             "colorbar": {
              "outlinewidth": 0,
              "ticks": ""
             }
            },
            "type": "scatter3d"
           }
          ],
          "scattercarpet": [
           {
            "marker": {
             "colorbar": {
              "outlinewidth": 0,
              "ticks": ""
             }
            },
            "type": "scattercarpet"
           }
          ],
          "scattergeo": [
           {
            "marker": {
             "colorbar": {
              "outlinewidth": 0,
              "ticks": ""
             }
            },
            "type": "scattergeo"
           }
          ],
          "scattergl": [
           {
            "marker": {
             "colorbar": {
              "outlinewidth": 0,
              "ticks": ""
             }
            },
            "type": "scattergl"
           }
          ],
          "scattermapbox": [
           {
            "marker": {
             "colorbar": {
              "outlinewidth": 0,
              "ticks": ""
             }
            },
            "type": "scattermapbox"
           }
          ],
          "scatterpolar": [
           {
            "marker": {
             "colorbar": {
              "outlinewidth": 0,
              "ticks": ""
             }
            },
            "type": "scatterpolar"
           }
          ],
          "scatterpolargl": [
           {
            "marker": {
             "colorbar": {
              "outlinewidth": 0,
              "ticks": ""
             }
            },
            "type": "scatterpolargl"
           }
          ],
          "scatterternary": [
           {
            "marker": {
             "colorbar": {
              "outlinewidth": 0,
              "ticks": ""
             }
            },
            "type": "scatterternary"
           }
          ],
          "surface": [
           {
            "colorbar": {
             "outlinewidth": 0,
             "ticks": ""
            },
            "colorscale": [
             [
              0,
              "#0d0887"
             ],
             [
              0.1111111111111111,
              "#46039f"
             ],
             [
              0.2222222222222222,
              "#7201a8"
             ],
             [
              0.3333333333333333,
              "#9c179e"
             ],
             [
              0.4444444444444444,
              "#bd3786"
             ],
             [
              0.5555555555555556,
              "#d8576b"
             ],
             [
              0.6666666666666666,
              "#ed7953"
             ],
             [
              0.7777777777777778,
              "#fb9f3a"
             ],
             [
              0.8888888888888888,
              "#fdca26"
             ],
             [
              1,
              "#f0f921"
             ]
            ],
            "type": "surface"
           }
          ],
          "table": [
           {
            "cells": {
             "fill": {
              "color": "#EBF0F8"
             },
             "line": {
              "color": "white"
             }
            },
            "header": {
             "fill": {
              "color": "#C8D4E3"
             },
             "line": {
              "color": "white"
             }
            },
            "type": "table"
           }
          ]
         },
         "layout": {
          "annotationdefaults": {
           "arrowcolor": "#2a3f5f",
           "arrowhead": 0,
           "arrowwidth": 1
          },
          "autotypenumbers": "strict",
          "coloraxis": {
           "colorbar": {
            "outlinewidth": 0,
            "ticks": ""
           }
          },
          "colorscale": {
           "diverging": [
            [
             0,
             "#8e0152"
            ],
            [
             0.1,
             "#c51b7d"
            ],
            [
             0.2,
             "#de77ae"
            ],
            [
             0.3,
             "#f1b6da"
            ],
            [
             0.4,
             "#fde0ef"
            ],
            [
             0.5,
             "#f7f7f7"
            ],
            [
             0.6,
             "#e6f5d0"
            ],
            [
             0.7,
             "#b8e186"
            ],
            [
             0.8,
             "#7fbc41"
            ],
            [
             0.9,
             "#4d9221"
            ],
            [
             1,
             "#276419"
            ]
           ],
           "sequential": [
            [
             0,
             "#0d0887"
            ],
            [
             0.1111111111111111,
             "#46039f"
            ],
            [
             0.2222222222222222,
             "#7201a8"
            ],
            [
             0.3333333333333333,
             "#9c179e"
            ],
            [
             0.4444444444444444,
             "#bd3786"
            ],
            [
             0.5555555555555556,
             "#d8576b"
            ],
            [
             0.6666666666666666,
             "#ed7953"
            ],
            [
             0.7777777777777778,
             "#fb9f3a"
            ],
            [
             0.8888888888888888,
             "#fdca26"
            ],
            [
             1,
             "#f0f921"
            ]
           ],
           "sequentialminus": [
            [
             0,
             "#0d0887"
            ],
            [
             0.1111111111111111,
             "#46039f"
            ],
            [
             0.2222222222222222,
             "#7201a8"
            ],
            [
             0.3333333333333333,
             "#9c179e"
            ],
            [
             0.4444444444444444,
             "#bd3786"
            ],
            [
             0.5555555555555556,
             "#d8576b"
            ],
            [
             0.6666666666666666,
             "#ed7953"
            ],
            [
             0.7777777777777778,
             "#fb9f3a"
            ],
            [
             0.8888888888888888,
             "#fdca26"
            ],
            [
             1,
             "#f0f921"
            ]
           ]
          },
          "colorway": [
           "#636efa",
           "#EF553B",
           "#00cc96",
           "#ab63fa",
           "#FFA15A",
           "#19d3f3",
           "#FF6692",
           "#B6E880",
           "#FF97FF",
           "#FECB52"
          ],
          "font": {
           "color": "#2a3f5f"
          },
          "geo": {
           "bgcolor": "white",
           "lakecolor": "white",
           "landcolor": "#E5ECF6",
           "showlakes": true,
           "showland": true,
           "subunitcolor": "white"
          },
          "hoverlabel": {
           "align": "left"
          },
          "hovermode": "closest",
          "mapbox": {
           "style": "light"
          },
          "paper_bgcolor": "white",
          "plot_bgcolor": "#E5ECF6",
          "polar": {
           "angularaxis": {
            "gridcolor": "white",
            "linecolor": "white",
            "ticks": ""
           },
           "bgcolor": "#E5ECF6",
           "radialaxis": {
            "gridcolor": "white",
            "linecolor": "white",
            "ticks": ""
           }
          },
          "scene": {
           "xaxis": {
            "backgroundcolor": "#E5ECF6",
            "gridcolor": "white",
            "gridwidth": 2,
            "linecolor": "white",
            "showbackground": true,
            "ticks": "",
            "zerolinecolor": "white"
           },
           "yaxis": {
            "backgroundcolor": "#E5ECF6",
            "gridcolor": "white",
            "gridwidth": 2,
            "linecolor": "white",
            "showbackground": true,
            "ticks": "",
            "zerolinecolor": "white"
           },
           "zaxis": {
            "backgroundcolor": "#E5ECF6",
            "gridcolor": "white",
            "gridwidth": 2,
            "linecolor": "white",
            "showbackground": true,
            "ticks": "",
            "zerolinecolor": "white"
           }
          },
          "shapedefaults": {
           "line": {
            "color": "#2a3f5f"
           }
          },
          "ternary": {
           "aaxis": {
            "gridcolor": "white",
            "linecolor": "white",
            "ticks": ""
           },
           "baxis": {
            "gridcolor": "white",
            "linecolor": "white",
            "ticks": ""
           },
           "bgcolor": "#E5ECF6",
           "caxis": {
            "gridcolor": "white",
            "linecolor": "white",
            "ticks": ""
           }
          },
          "title": {
           "x": 0.05
          },
          "xaxis": {
           "automargin": true,
           "gridcolor": "white",
           "linecolor": "white",
           "ticks": "",
           "title": {
            "standoff": 15
           },
           "zerolinecolor": "white",
           "zerolinewidth": 2
          },
          "yaxis": {
           "automargin": true,
           "gridcolor": "white",
           "linecolor": "white",
           "ticks": "",
           "title": {
            "standoff": 15
           },
           "zerolinecolor": "white",
           "zerolinewidth": 2
          }
         }
        },
        "xaxis": {
         "anchor": "y",
         "domain": [
          0,
          1
         ],
         "title": {
          "text": "Age"
         }
        },
        "yaxis": {
         "anchor": "x",
         "domain": [
          0,
          1
         ],
         "title": {
          "text": "Number of Customers"
         }
        }
       }
      }
     },
     "metadata": {},
     "output_type": "display_data"
    }
   ],
   "source": [
    "df_plot = df_[['Age', 'Cluster', 'ID']].groupby(['Age', 'Cluster']).count()\n",
    "df_plot.reset_index(inplace=True)\n",
    "df_plot.rename(columns={\"ID\":\"Number of Customers\"}, inplace=True)\n",
    "\n",
    "\n",
    "fig = px.bar(df_plot, x=\"Age\", y=\"Number of Customers\",\n",
    "             color='Cluster', barmode='group',\n",
    "             height=400)\n",
    "fig.show()"
   ]
  },
  {
   "cell_type": "code",
   "execution_count": 566,
   "metadata": {},
   "outputs": [
    {
     "data": {
      "application/vnd.plotly.v1+json": {
       "config": {
        "plotlyServerURL": "https://plot.ly"
       },
       "data": [
        {
         "alignmentgroup": "True",
         "hovertemplate": "Cluster=Cluster 3<br>Marital_Status=%{x}<br>Count of Customers=%{y}<extra></extra>",
         "legendgroup": "Cluster 3",
         "marker": {
          "color": "#636efa",
          "pattern": {
           "shape": ""
          }
         },
         "name": "Cluster 3",
         "offsetgroup": "Cluster 3",
         "orientation": "v",
         "showlegend": true,
         "textposition": "auto",
         "type": "bar",
         "x": [
          "Absurd",
          "Divorced",
          "Married",
          "Single",
          "Together",
          "Widow"
         ],
         "xaxis": "x",
         "y": [
          1,
          48,
          168,
          95,
          99,
          21
         ],
         "yaxis": "y"
        },
        {
         "alignmentgroup": "True",
         "hovertemplate": "Cluster=Cluster 4<br>Marital_Status=%{x}<br>Count of Customers=%{y}<extra></extra>",
         "legendgroup": "Cluster 4",
         "marker": {
          "color": "#EF553B",
          "pattern": {
           "shape": ""
          }
         },
         "name": "Cluster 4",
         "offsetgroup": "Cluster 4",
         "orientation": "v",
         "showlegend": true,
         "textposition": "auto",
         "type": "bar",
         "x": [
          "Absurd",
          "Divorced",
          "Married",
          "Single",
          "Together",
          "Widow"
         ],
         "xaxis": "x",
         "y": [
          1,
          60,
          184,
          102,
          132,
          23
         ],
         "yaxis": "y"
        },
        {
         "alignmentgroup": "True",
         "hovertemplate": "Cluster=Cluster 1<br>Marital_Status=%{x}<br>Count of Customers=%{y}<extra></extra>",
         "legendgroup": "Cluster 1",
         "marker": {
          "color": "#00cc96",
          "pattern": {
           "shape": ""
          }
         },
         "name": "Cluster 1",
         "offsetgroup": "Cluster 1",
         "orientation": "v",
         "showlegend": true,
         "textposition": "auto",
         "type": "bar",
         "x": [
          "Alone",
          "Divorced",
          "Married",
          "Single",
          "Together",
          "Widow",
          "YOLO"
         ],
         "xaxis": "x",
         "y": [
          2,
          56,
          237,
          114,
          130,
          17,
          2
         ],
         "yaxis": "y"
        },
        {
         "alignmentgroup": "True",
         "hovertemplate": "Cluster=Cluster 2<br>Marital_Status=%{x}<br>Count of Customers=%{y}<extra></extra>",
         "legendgroup": "Cluster 2",
         "marker": {
          "color": "#ab63fa",
          "pattern": {
           "shape": ""
          }
         },
         "name": "Cluster 2",
         "offsetgroup": "Cluster 2",
         "orientation": "v",
         "showlegend": true,
         "textposition": "auto",
         "type": "bar",
         "x": [
          "Alone",
          "Divorced",
          "Married",
          "Single",
          "Together",
          "Widow"
         ],
         "xaxis": "x",
         "y": [
          1,
          67,
          275,
          168,
          217,
          16
         ],
         "yaxis": "y"
        }
       ],
       "layout": {
        "barmode": "group",
        "height": 400,
        "legend": {
         "title": {
          "text": "Cluster"
         },
         "tracegroupgap": 0
        },
        "margin": {
         "t": 60
        },
        "template": {
         "data": {
          "bar": [
           {
            "error_x": {
             "color": "#2a3f5f"
            },
            "error_y": {
             "color": "#2a3f5f"
            },
            "marker": {
             "line": {
              "color": "#E5ECF6",
              "width": 0.5
             },
             "pattern": {
              "fillmode": "overlay",
              "size": 10,
              "solidity": 0.2
             }
            },
            "type": "bar"
           }
          ],
          "barpolar": [
           {
            "marker": {
             "line": {
              "color": "#E5ECF6",
              "width": 0.5
             },
             "pattern": {
              "fillmode": "overlay",
              "size": 10,
              "solidity": 0.2
             }
            },
            "type": "barpolar"
           }
          ],
          "carpet": [
           {
            "aaxis": {
             "endlinecolor": "#2a3f5f",
             "gridcolor": "white",
             "linecolor": "white",
             "minorgridcolor": "white",
             "startlinecolor": "#2a3f5f"
            },
            "baxis": {
             "endlinecolor": "#2a3f5f",
             "gridcolor": "white",
             "linecolor": "white",
             "minorgridcolor": "white",
             "startlinecolor": "#2a3f5f"
            },
            "type": "carpet"
           }
          ],
          "choropleth": [
           {
            "colorbar": {
             "outlinewidth": 0,
             "ticks": ""
            },
            "type": "choropleth"
           }
          ],
          "contour": [
           {
            "colorbar": {
             "outlinewidth": 0,
             "ticks": ""
            },
            "colorscale": [
             [
              0,
              "#0d0887"
             ],
             [
              0.1111111111111111,
              "#46039f"
             ],
             [
              0.2222222222222222,
              "#7201a8"
             ],
             [
              0.3333333333333333,
              "#9c179e"
             ],
             [
              0.4444444444444444,
              "#bd3786"
             ],
             [
              0.5555555555555556,
              "#d8576b"
             ],
             [
              0.6666666666666666,
              "#ed7953"
             ],
             [
              0.7777777777777778,
              "#fb9f3a"
             ],
             [
              0.8888888888888888,
              "#fdca26"
             ],
             [
              1,
              "#f0f921"
             ]
            ],
            "type": "contour"
           }
          ],
          "contourcarpet": [
           {
            "colorbar": {
             "outlinewidth": 0,
             "ticks": ""
            },
            "type": "contourcarpet"
           }
          ],
          "heatmap": [
           {
            "colorbar": {
             "outlinewidth": 0,
             "ticks": ""
            },
            "colorscale": [
             [
              0,
              "#0d0887"
             ],
             [
              0.1111111111111111,
              "#46039f"
             ],
             [
              0.2222222222222222,
              "#7201a8"
             ],
             [
              0.3333333333333333,
              "#9c179e"
             ],
             [
              0.4444444444444444,
              "#bd3786"
             ],
             [
              0.5555555555555556,
              "#d8576b"
             ],
             [
              0.6666666666666666,
              "#ed7953"
             ],
             [
              0.7777777777777778,
              "#fb9f3a"
             ],
             [
              0.8888888888888888,
              "#fdca26"
             ],
             [
              1,
              "#f0f921"
             ]
            ],
            "type": "heatmap"
           }
          ],
          "heatmapgl": [
           {
            "colorbar": {
             "outlinewidth": 0,
             "ticks": ""
            },
            "colorscale": [
             [
              0,
              "#0d0887"
             ],
             [
              0.1111111111111111,
              "#46039f"
             ],
             [
              0.2222222222222222,
              "#7201a8"
             ],
             [
              0.3333333333333333,
              "#9c179e"
             ],
             [
              0.4444444444444444,
              "#bd3786"
             ],
             [
              0.5555555555555556,
              "#d8576b"
             ],
             [
              0.6666666666666666,
              "#ed7953"
             ],
             [
              0.7777777777777778,
              "#fb9f3a"
             ],
             [
              0.8888888888888888,
              "#fdca26"
             ],
             [
              1,
              "#f0f921"
             ]
            ],
            "type": "heatmapgl"
           }
          ],
          "histogram": [
           {
            "marker": {
             "pattern": {
              "fillmode": "overlay",
              "size": 10,
              "solidity": 0.2
             }
            },
            "type": "histogram"
           }
          ],
          "histogram2d": [
           {
            "colorbar": {
             "outlinewidth": 0,
             "ticks": ""
            },
            "colorscale": [
             [
              0,
              "#0d0887"
             ],
             [
              0.1111111111111111,
              "#46039f"
             ],
             [
              0.2222222222222222,
              "#7201a8"
             ],
             [
              0.3333333333333333,
              "#9c179e"
             ],
             [
              0.4444444444444444,
              "#bd3786"
             ],
             [
              0.5555555555555556,
              "#d8576b"
             ],
             [
              0.6666666666666666,
              "#ed7953"
             ],
             [
              0.7777777777777778,
              "#fb9f3a"
             ],
             [
              0.8888888888888888,
              "#fdca26"
             ],
             [
              1,
              "#f0f921"
             ]
            ],
            "type": "histogram2d"
           }
          ],
          "histogram2dcontour": [
           {
            "colorbar": {
             "outlinewidth": 0,
             "ticks": ""
            },
            "colorscale": [
             [
              0,
              "#0d0887"
             ],
             [
              0.1111111111111111,
              "#46039f"
             ],
             [
              0.2222222222222222,
              "#7201a8"
             ],
             [
              0.3333333333333333,
              "#9c179e"
             ],
             [
              0.4444444444444444,
              "#bd3786"
             ],
             [
              0.5555555555555556,
              "#d8576b"
             ],
             [
              0.6666666666666666,
              "#ed7953"
             ],
             [
              0.7777777777777778,
              "#fb9f3a"
             ],
             [
              0.8888888888888888,
              "#fdca26"
             ],
             [
              1,
              "#f0f921"
             ]
            ],
            "type": "histogram2dcontour"
           }
          ],
          "mesh3d": [
           {
            "colorbar": {
             "outlinewidth": 0,
             "ticks": ""
            },
            "type": "mesh3d"
           }
          ],
          "parcoords": [
           {
            "line": {
             "colorbar": {
              "outlinewidth": 0,
              "ticks": ""
             }
            },
            "type": "parcoords"
           }
          ],
          "pie": [
           {
            "automargin": true,
            "type": "pie"
           }
          ],
          "scatter": [
           {
            "fillpattern": {
             "fillmode": "overlay",
             "size": 10,
             "solidity": 0.2
            },
            "type": "scatter"
           }
          ],
          "scatter3d": [
           {
            "line": {
             "colorbar": {
              "outlinewidth": 0,
              "ticks": ""
             }
            },
            "marker": {
             "colorbar": {
              "outlinewidth": 0,
              "ticks": ""
             }
            },
            "type": "scatter3d"
           }
          ],
          "scattercarpet": [
           {
            "marker": {
             "colorbar": {
              "outlinewidth": 0,
              "ticks": ""
             }
            },
            "type": "scattercarpet"
           }
          ],
          "scattergeo": [
           {
            "marker": {
             "colorbar": {
              "outlinewidth": 0,
              "ticks": ""
             }
            },
            "type": "scattergeo"
           }
          ],
          "scattergl": [
           {
            "marker": {
             "colorbar": {
              "outlinewidth": 0,
              "ticks": ""
             }
            },
            "type": "scattergl"
           }
          ],
          "scattermapbox": [
           {
            "marker": {
             "colorbar": {
              "outlinewidth": 0,
              "ticks": ""
             }
            },
            "type": "scattermapbox"
           }
          ],
          "scatterpolar": [
           {
            "marker": {
             "colorbar": {
              "outlinewidth": 0,
              "ticks": ""
             }
            },
            "type": "scatterpolar"
           }
          ],
          "scatterpolargl": [
           {
            "marker": {
             "colorbar": {
              "outlinewidth": 0,
              "ticks": ""
             }
            },
            "type": "scatterpolargl"
           }
          ],
          "scatterternary": [
           {
            "marker": {
             "colorbar": {
              "outlinewidth": 0,
              "ticks": ""
             }
            },
            "type": "scatterternary"
           }
          ],
          "surface": [
           {
            "colorbar": {
             "outlinewidth": 0,
             "ticks": ""
            },
            "colorscale": [
             [
              0,
              "#0d0887"
             ],
             [
              0.1111111111111111,
              "#46039f"
             ],
             [
              0.2222222222222222,
              "#7201a8"
             ],
             [
              0.3333333333333333,
              "#9c179e"
             ],
             [
              0.4444444444444444,
              "#bd3786"
             ],
             [
              0.5555555555555556,
              "#d8576b"
             ],
             [
              0.6666666666666666,
              "#ed7953"
             ],
             [
              0.7777777777777778,
              "#fb9f3a"
             ],
             [
              0.8888888888888888,
              "#fdca26"
             ],
             [
              1,
              "#f0f921"
             ]
            ],
            "type": "surface"
           }
          ],
          "table": [
           {
            "cells": {
             "fill": {
              "color": "#EBF0F8"
             },
             "line": {
              "color": "white"
             }
            },
            "header": {
             "fill": {
              "color": "#C8D4E3"
             },
             "line": {
              "color": "white"
             }
            },
            "type": "table"
           }
          ]
         },
         "layout": {
          "annotationdefaults": {
           "arrowcolor": "#2a3f5f",
           "arrowhead": 0,
           "arrowwidth": 1
          },
          "autotypenumbers": "strict",
          "coloraxis": {
           "colorbar": {
            "outlinewidth": 0,
            "ticks": ""
           }
          },
          "colorscale": {
           "diverging": [
            [
             0,
             "#8e0152"
            ],
            [
             0.1,
             "#c51b7d"
            ],
            [
             0.2,
             "#de77ae"
            ],
            [
             0.3,
             "#f1b6da"
            ],
            [
             0.4,
             "#fde0ef"
            ],
            [
             0.5,
             "#f7f7f7"
            ],
            [
             0.6,
             "#e6f5d0"
            ],
            [
             0.7,
             "#b8e186"
            ],
            [
             0.8,
             "#7fbc41"
            ],
            [
             0.9,
             "#4d9221"
            ],
            [
             1,
             "#276419"
            ]
           ],
           "sequential": [
            [
             0,
             "#0d0887"
            ],
            [
             0.1111111111111111,
             "#46039f"
            ],
            [
             0.2222222222222222,
             "#7201a8"
            ],
            [
             0.3333333333333333,
             "#9c179e"
            ],
            [
             0.4444444444444444,
             "#bd3786"
            ],
            [
             0.5555555555555556,
             "#d8576b"
            ],
            [
             0.6666666666666666,
             "#ed7953"
            ],
            [
             0.7777777777777778,
             "#fb9f3a"
            ],
            [
             0.8888888888888888,
             "#fdca26"
            ],
            [
             1,
             "#f0f921"
            ]
           ],
           "sequentialminus": [
            [
             0,
             "#0d0887"
            ],
            [
             0.1111111111111111,
             "#46039f"
            ],
            [
             0.2222222222222222,
             "#7201a8"
            ],
            [
             0.3333333333333333,
             "#9c179e"
            ],
            [
             0.4444444444444444,
             "#bd3786"
            ],
            [
             0.5555555555555556,
             "#d8576b"
            ],
            [
             0.6666666666666666,
             "#ed7953"
            ],
            [
             0.7777777777777778,
             "#fb9f3a"
            ],
            [
             0.8888888888888888,
             "#fdca26"
            ],
            [
             1,
             "#f0f921"
            ]
           ]
          },
          "colorway": [
           "#636efa",
           "#EF553B",
           "#00cc96",
           "#ab63fa",
           "#FFA15A",
           "#19d3f3",
           "#FF6692",
           "#B6E880",
           "#FF97FF",
           "#FECB52"
          ],
          "font": {
           "color": "#2a3f5f"
          },
          "geo": {
           "bgcolor": "white",
           "lakecolor": "white",
           "landcolor": "#E5ECF6",
           "showlakes": true,
           "showland": true,
           "subunitcolor": "white"
          },
          "hoverlabel": {
           "align": "left"
          },
          "hovermode": "closest",
          "mapbox": {
           "style": "light"
          },
          "paper_bgcolor": "white",
          "plot_bgcolor": "#E5ECF6",
          "polar": {
           "angularaxis": {
            "gridcolor": "white",
            "linecolor": "white",
            "ticks": ""
           },
           "bgcolor": "#E5ECF6",
           "radialaxis": {
            "gridcolor": "white",
            "linecolor": "white",
            "ticks": ""
           }
          },
          "scene": {
           "xaxis": {
            "backgroundcolor": "#E5ECF6",
            "gridcolor": "white",
            "gridwidth": 2,
            "linecolor": "white",
            "showbackground": true,
            "ticks": "",
            "zerolinecolor": "white"
           },
           "yaxis": {
            "backgroundcolor": "#E5ECF6",
            "gridcolor": "white",
            "gridwidth": 2,
            "linecolor": "white",
            "showbackground": true,
            "ticks": "",
            "zerolinecolor": "white"
           },
           "zaxis": {
            "backgroundcolor": "#E5ECF6",
            "gridcolor": "white",
            "gridwidth": 2,
            "linecolor": "white",
            "showbackground": true,
            "ticks": "",
            "zerolinecolor": "white"
           }
          },
          "shapedefaults": {
           "line": {
            "color": "#2a3f5f"
           }
          },
          "ternary": {
           "aaxis": {
            "gridcolor": "white",
            "linecolor": "white",
            "ticks": ""
           },
           "baxis": {
            "gridcolor": "white",
            "linecolor": "white",
            "ticks": ""
           },
           "bgcolor": "#E5ECF6",
           "caxis": {
            "gridcolor": "white",
            "linecolor": "white",
            "ticks": ""
           }
          },
          "title": {
           "x": 0.05
          },
          "xaxis": {
           "automargin": true,
           "gridcolor": "white",
           "linecolor": "white",
           "ticks": "",
           "title": {
            "standoff": 15
           },
           "zerolinecolor": "white",
           "zerolinewidth": 2
          },
          "yaxis": {
           "automargin": true,
           "gridcolor": "white",
           "linecolor": "white",
           "ticks": "",
           "title": {
            "standoff": 15
           },
           "zerolinecolor": "white",
           "zerolinewidth": 2
          }
         }
        },
        "xaxis": {
         "anchor": "y",
         "domain": [
          0,
          1
         ],
         "title": {
          "text": "Marital_Status"
         }
        },
        "yaxis": {
         "anchor": "x",
         "domain": [
          0,
          1
         ],
         "title": {
          "text": "Count of Customers"
         }
        }
       }
      }
     },
     "metadata": {},
     "output_type": "display_data"
    }
   ],
   "source": [
    "df_plot = df_[['Marital_Status', 'Cluster', 'ID']].groupby(['Marital_Status', 'Cluster']).count()\n",
    "df_plot.reset_index(inplace=True)\n",
    "df_plot.rename(columns={\"ID\":\"Count of Customers\"}, inplace=True)\n",
    "\n",
    "\n",
    "fig = px.bar(df_plot, x=\"Marital_Status\", y=\"Count of Customers\",\n",
    "             color='Cluster', barmode='group',\n",
    "             height=400)\n",
    "fig.show()"
   ]
  },
  {
   "cell_type": "code",
   "execution_count": 567,
   "metadata": {},
   "outputs": [
    {
     "data": {
      "application/vnd.plotly.v1+json": {
       "config": {
        "plotlyServerURL": "https://plot.ly"
       },
       "data": [
        {
         "name": "Mean Income of Clusters",
         "type": "bar",
         "x": [
          "Cluster 1",
          "Cluster 2",
          "Cluster 3",
          "Cluster 4"
         ],
         "xaxis": "x",
         "y": [
          37787.68191419846,
          38113.56722613641,
          71149.46066068325,
          71729.5527942382
         ],
         "yaxis": "y"
        },
        {
         "name": "Mean Spend of Cluster",
         "type": "bar",
         "x": [
          "Cluster 1",
          "Cluster 2",
          "Cluster 3",
          "Cluster 4"
         ],
         "xaxis": "x2",
         "y": [
          171.98566308243727,
          176.54032258064515,
          1216.1157407407406,
          1199.820717131474
         ],
         "yaxis": "y2"
        }
       ],
       "layout": {
        "height": 500,
        "template": {
         "data": {
          "bar": [
           {
            "error_x": {
             "color": "#2a3f5f"
            },
            "error_y": {
             "color": "#2a3f5f"
            },
            "marker": {
             "line": {
              "color": "#E5ECF6",
              "width": 0.5
             },
             "pattern": {
              "fillmode": "overlay",
              "size": 10,
              "solidity": 0.2
             }
            },
            "type": "bar"
           }
          ],
          "barpolar": [
           {
            "marker": {
             "line": {
              "color": "#E5ECF6",
              "width": 0.5
             },
             "pattern": {
              "fillmode": "overlay",
              "size": 10,
              "solidity": 0.2
             }
            },
            "type": "barpolar"
           }
          ],
          "carpet": [
           {
            "aaxis": {
             "endlinecolor": "#2a3f5f",
             "gridcolor": "white",
             "linecolor": "white",
             "minorgridcolor": "white",
             "startlinecolor": "#2a3f5f"
            },
            "baxis": {
             "endlinecolor": "#2a3f5f",
             "gridcolor": "white",
             "linecolor": "white",
             "minorgridcolor": "white",
             "startlinecolor": "#2a3f5f"
            },
            "type": "carpet"
           }
          ],
          "choropleth": [
           {
            "colorbar": {
             "outlinewidth": 0,
             "ticks": ""
            },
            "type": "choropleth"
           }
          ],
          "contour": [
           {
            "colorbar": {
             "outlinewidth": 0,
             "ticks": ""
            },
            "colorscale": [
             [
              0,
              "#0d0887"
             ],
             [
              0.1111111111111111,
              "#46039f"
             ],
             [
              0.2222222222222222,
              "#7201a8"
             ],
             [
              0.3333333333333333,
              "#9c179e"
             ],
             [
              0.4444444444444444,
              "#bd3786"
             ],
             [
              0.5555555555555556,
              "#d8576b"
             ],
             [
              0.6666666666666666,
              "#ed7953"
             ],
             [
              0.7777777777777778,
              "#fb9f3a"
             ],
             [
              0.8888888888888888,
              "#fdca26"
             ],
             [
              1,
              "#f0f921"
             ]
            ],
            "type": "contour"
           }
          ],
          "contourcarpet": [
           {
            "colorbar": {
             "outlinewidth": 0,
             "ticks": ""
            },
            "type": "contourcarpet"
           }
          ],
          "heatmap": [
           {
            "colorbar": {
             "outlinewidth": 0,
             "ticks": ""
            },
            "colorscale": [
             [
              0,
              "#0d0887"
             ],
             [
              0.1111111111111111,
              "#46039f"
             ],
             [
              0.2222222222222222,
              "#7201a8"
             ],
             [
              0.3333333333333333,
              "#9c179e"
             ],
             [
              0.4444444444444444,
              "#bd3786"
             ],
             [
              0.5555555555555556,
              "#d8576b"
             ],
             [
              0.6666666666666666,
              "#ed7953"
             ],
             [
              0.7777777777777778,
              "#fb9f3a"
             ],
             [
              0.8888888888888888,
              "#fdca26"
             ],
             [
              1,
              "#f0f921"
             ]
            ],
            "type": "heatmap"
           }
          ],
          "heatmapgl": [
           {
            "colorbar": {
             "outlinewidth": 0,
             "ticks": ""
            },
            "colorscale": [
             [
              0,
              "#0d0887"
             ],
             [
              0.1111111111111111,
              "#46039f"
             ],
             [
              0.2222222222222222,
              "#7201a8"
             ],
             [
              0.3333333333333333,
              "#9c179e"
             ],
             [
              0.4444444444444444,
              "#bd3786"
             ],
             [
              0.5555555555555556,
              "#d8576b"
             ],
             [
              0.6666666666666666,
              "#ed7953"
             ],
             [
              0.7777777777777778,
              "#fb9f3a"
             ],
             [
              0.8888888888888888,
              "#fdca26"
             ],
             [
              1,
              "#f0f921"
             ]
            ],
            "type": "heatmapgl"
           }
          ],
          "histogram": [
           {
            "marker": {
             "pattern": {
              "fillmode": "overlay",
              "size": 10,
              "solidity": 0.2
             }
            },
            "type": "histogram"
           }
          ],
          "histogram2d": [
           {
            "colorbar": {
             "outlinewidth": 0,
             "ticks": ""
            },
            "colorscale": [
             [
              0,
              "#0d0887"
             ],
             [
              0.1111111111111111,
              "#46039f"
             ],
             [
              0.2222222222222222,
              "#7201a8"
             ],
             [
              0.3333333333333333,
              "#9c179e"
             ],
             [
              0.4444444444444444,
              "#bd3786"
             ],
             [
              0.5555555555555556,
              "#d8576b"
             ],
             [
              0.6666666666666666,
              "#ed7953"
             ],
             [
              0.7777777777777778,
              "#fb9f3a"
             ],
             [
              0.8888888888888888,
              "#fdca26"
             ],
             [
              1,
              "#f0f921"
             ]
            ],
            "type": "histogram2d"
           }
          ],
          "histogram2dcontour": [
           {
            "colorbar": {
             "outlinewidth": 0,
             "ticks": ""
            },
            "colorscale": [
             [
              0,
              "#0d0887"
             ],
             [
              0.1111111111111111,
              "#46039f"
             ],
             [
              0.2222222222222222,
              "#7201a8"
             ],
             [
              0.3333333333333333,
              "#9c179e"
             ],
             [
              0.4444444444444444,
              "#bd3786"
             ],
             [
              0.5555555555555556,
              "#d8576b"
             ],
             [
              0.6666666666666666,
              "#ed7953"
             ],
             [
              0.7777777777777778,
              "#fb9f3a"
             ],
             [
              0.8888888888888888,
              "#fdca26"
             ],
             [
              1,
              "#f0f921"
             ]
            ],
            "type": "histogram2dcontour"
           }
          ],
          "mesh3d": [
           {
            "colorbar": {
             "outlinewidth": 0,
             "ticks": ""
            },
            "type": "mesh3d"
           }
          ],
          "parcoords": [
           {
            "line": {
             "colorbar": {
              "outlinewidth": 0,
              "ticks": ""
             }
            },
            "type": "parcoords"
           }
          ],
          "pie": [
           {
            "automargin": true,
            "type": "pie"
           }
          ],
          "scatter": [
           {
            "fillpattern": {
             "fillmode": "overlay",
             "size": 10,
             "solidity": 0.2
            },
            "type": "scatter"
           }
          ],
          "scatter3d": [
           {
            "line": {
             "colorbar": {
              "outlinewidth": 0,
              "ticks": ""
             }
            },
            "marker": {
             "colorbar": {
              "outlinewidth": 0,
              "ticks": ""
             }
            },
            "type": "scatter3d"
           }
          ],
          "scattercarpet": [
           {
            "marker": {
             "colorbar": {
              "outlinewidth": 0,
              "ticks": ""
             }
            },
            "type": "scattercarpet"
           }
          ],
          "scattergeo": [
           {
            "marker": {
             "colorbar": {
              "outlinewidth": 0,
              "ticks": ""
             }
            },
            "type": "scattergeo"
           }
          ],
          "scattergl": [
           {
            "marker": {
             "colorbar": {
              "outlinewidth": 0,
              "ticks": ""
             }
            },
            "type": "scattergl"
           }
          ],
          "scattermapbox": [
           {
            "marker": {
             "colorbar": {
              "outlinewidth": 0,
              "ticks": ""
             }
            },
            "type": "scattermapbox"
           }
          ],
          "scatterpolar": [
           {
            "marker": {
             "colorbar": {
              "outlinewidth": 0,
              "ticks": ""
             }
            },
            "type": "scatterpolar"
           }
          ],
          "scatterpolargl": [
           {
            "marker": {
             "colorbar": {
              "outlinewidth": 0,
              "ticks": ""
             }
            },
            "type": "scatterpolargl"
           }
          ],
          "scatterternary": [
           {
            "marker": {
             "colorbar": {
              "outlinewidth": 0,
              "ticks": ""
             }
            },
            "type": "scatterternary"
           }
          ],
          "surface": [
           {
            "colorbar": {
             "outlinewidth": 0,
             "ticks": ""
            },
            "colorscale": [
             [
              0,
              "#0d0887"
             ],
             [
              0.1111111111111111,
              "#46039f"
             ],
             [
              0.2222222222222222,
              "#7201a8"
             ],
             [
              0.3333333333333333,
              "#9c179e"
             ],
             [
              0.4444444444444444,
              "#bd3786"
             ],
             [
              0.5555555555555556,
              "#d8576b"
             ],
             [
              0.6666666666666666,
              "#ed7953"
             ],
             [
              0.7777777777777778,
              "#fb9f3a"
             ],
             [
              0.8888888888888888,
              "#fdca26"
             ],
             [
              1,
              "#f0f921"
             ]
            ],
            "type": "surface"
           }
          ],
          "table": [
           {
            "cells": {
             "fill": {
              "color": "#EBF0F8"
             },
             "line": {
              "color": "white"
             }
            },
            "header": {
             "fill": {
              "color": "#C8D4E3"
             },
             "line": {
              "color": "white"
             }
            },
            "type": "table"
           }
          ]
         },
         "layout": {
          "annotationdefaults": {
           "arrowcolor": "#2a3f5f",
           "arrowhead": 0,
           "arrowwidth": 1
          },
          "autotypenumbers": "strict",
          "coloraxis": {
           "colorbar": {
            "outlinewidth": 0,
            "ticks": ""
           }
          },
          "colorscale": {
           "diverging": [
            [
             0,
             "#8e0152"
            ],
            [
             0.1,
             "#c51b7d"
            ],
            [
             0.2,
             "#de77ae"
            ],
            [
             0.3,
             "#f1b6da"
            ],
            [
             0.4,
             "#fde0ef"
            ],
            [
             0.5,
             "#f7f7f7"
            ],
            [
             0.6,
             "#e6f5d0"
            ],
            [
             0.7,
             "#b8e186"
            ],
            [
             0.8,
             "#7fbc41"
            ],
            [
             0.9,
             "#4d9221"
            ],
            [
             1,
             "#276419"
            ]
           ],
           "sequential": [
            [
             0,
             "#0d0887"
            ],
            [
             0.1111111111111111,
             "#46039f"
            ],
            [
             0.2222222222222222,
             "#7201a8"
            ],
            [
             0.3333333333333333,
             "#9c179e"
            ],
            [
             0.4444444444444444,
             "#bd3786"
            ],
            [
             0.5555555555555556,
             "#d8576b"
            ],
            [
             0.6666666666666666,
             "#ed7953"
            ],
            [
             0.7777777777777778,
             "#fb9f3a"
            ],
            [
             0.8888888888888888,
             "#fdca26"
            ],
            [
             1,
             "#f0f921"
            ]
           ],
           "sequentialminus": [
            [
             0,
             "#0d0887"
            ],
            [
             0.1111111111111111,
             "#46039f"
            ],
            [
             0.2222222222222222,
             "#7201a8"
            ],
            [
             0.3333333333333333,
             "#9c179e"
            ],
            [
             0.4444444444444444,
             "#bd3786"
            ],
            [
             0.5555555555555556,
             "#d8576b"
            ],
            [
             0.6666666666666666,
             "#ed7953"
            ],
            [
             0.7777777777777778,
             "#fb9f3a"
            ],
            [
             0.8888888888888888,
             "#fdca26"
            ],
            [
             1,
             "#f0f921"
            ]
           ]
          },
          "colorway": [
           "#636efa",
           "#EF553B",
           "#00cc96",
           "#ab63fa",
           "#FFA15A",
           "#19d3f3",
           "#FF6692",
           "#B6E880",
           "#FF97FF",
           "#FECB52"
          ],
          "font": {
           "color": "#2a3f5f"
          },
          "geo": {
           "bgcolor": "white",
           "lakecolor": "white",
           "landcolor": "#E5ECF6",
           "showlakes": true,
           "showland": true,
           "subunitcolor": "white"
          },
          "hoverlabel": {
           "align": "left"
          },
          "hovermode": "closest",
          "mapbox": {
           "style": "light"
          },
          "paper_bgcolor": "white",
          "plot_bgcolor": "#E5ECF6",
          "polar": {
           "angularaxis": {
            "gridcolor": "white",
            "linecolor": "white",
            "ticks": ""
           },
           "bgcolor": "#E5ECF6",
           "radialaxis": {
            "gridcolor": "white",
            "linecolor": "white",
            "ticks": ""
           }
          },
          "scene": {
           "xaxis": {
            "backgroundcolor": "#E5ECF6",
            "gridcolor": "white",
            "gridwidth": 2,
            "linecolor": "white",
            "showbackground": true,
            "ticks": "",
            "zerolinecolor": "white"
           },
           "yaxis": {
            "backgroundcolor": "#E5ECF6",
            "gridcolor": "white",
            "gridwidth": 2,
            "linecolor": "white",
            "showbackground": true,
            "ticks": "",
            "zerolinecolor": "white"
           },
           "zaxis": {
            "backgroundcolor": "#E5ECF6",
            "gridcolor": "white",
            "gridwidth": 2,
            "linecolor": "white",
            "showbackground": true,
            "ticks": "",
            "zerolinecolor": "white"
           }
          },
          "shapedefaults": {
           "line": {
            "color": "#2a3f5f"
           }
          },
          "ternary": {
           "aaxis": {
            "gridcolor": "white",
            "linecolor": "white",
            "ticks": ""
           },
           "baxis": {
            "gridcolor": "white",
            "linecolor": "white",
            "ticks": ""
           },
           "bgcolor": "#E5ECF6",
           "caxis": {
            "gridcolor": "white",
            "linecolor": "white",
            "ticks": ""
           }
          },
          "title": {
           "x": 0.05
          },
          "xaxis": {
           "automargin": true,
           "gridcolor": "white",
           "linecolor": "white",
           "ticks": "",
           "title": {
            "standoff": 15
           },
           "zerolinecolor": "white",
           "zerolinewidth": 2
          },
          "yaxis": {
           "automargin": true,
           "gridcolor": "white",
           "linecolor": "white",
           "ticks": "",
           "title": {
            "standoff": 15
           },
           "zerolinecolor": "white",
           "zerolinewidth": 2
          }
         }
        },
        "title": {
         "text": "Mean Income & Spend"
        },
        "width": 900,
        "xaxis": {
         "anchor": "y",
         "domain": [
          0,
          0.45
         ]
        },
        "xaxis2": {
         "anchor": "y2",
         "domain": [
          0.55,
          1
         ]
        },
        "yaxis": {
         "anchor": "x",
         "domain": [
          0,
          1
         ]
        },
        "yaxis2": {
         "anchor": "x2",
         "domain": [
          0,
          1
         ]
        }
       }
      }
     },
     "metadata": {},
     "output_type": "display_data"
    }
   ],
   "source": [
    "df_plot = df_[['Cluster', 'Income']].groupby(['Cluster']).agg({'Income': 'mean'})\n",
    "df_plot.reset_index(inplace=True)\n",
    "df_plot.rename(columns={\"Income\":\"Mean Income\"}, inplace=True)\n",
    "\n",
    "df_plot_ = df_[['Cluster', 'Total_Spend']].groupby(['Cluster']).agg({'Total_Spend': 'mean'})\n",
    "df_plot_.reset_index(inplace=True)\n",
    "df_plot_.rename(columns={\"Total_Spend\":\"Mean Spend\"}, inplace=True)\n",
    "\n",
    "\n",
    "trace1 = go.Bar(\n",
    "    x=df_plot['Cluster'],\n",
    "    y=df_plot['Mean Income'],\n",
    "    name='Mean Income of Clusters'\n",
    ")\n",
    "trace2 = go.Bar(\n",
    "    x=df_plot_['Cluster'],\n",
    "    y=df_plot_['Mean Spend'],\n",
    "    name='Mean Spend of Cluster'\n",
    ")\n",
    "\n",
    "fig = make_subplots(rows=1, cols=2, shared_xaxes=True)\n",
    "\n",
    "fig.append_trace(trace1, row = 1, col = 1)\n",
    "fig.append_trace(trace2, row = 1, col = 2)\n",
    "\n",
    "fig.update_layout(width=900, height=500, title='Mean Income & Spend')\n",
    "\n",
    "fig.show()"
   ]
  },
  {
   "cell_type": "code",
   "execution_count": 568,
   "metadata": {},
   "outputs": [
    {
     "data": {
      "application/vnd.plotly.v1+json": {
       "config": {
        "plotlyServerURL": "https://plot.ly"
       },
       "data": [
        {
         "alignmentgroup": "True",
         "hovertemplate": "Cluster=Cluster 1<br>Education=%{x}<br>Count of Customers=%{y}<extra></extra>",
         "legendgroup": "Cluster 1",
         "marker": {
          "color": "#636efa",
          "pattern": {
           "shape": ""
          }
         },
         "name": "Cluster 1",
         "offsetgroup": "Cluster 1",
         "orientation": "v",
         "showlegend": true,
         "textposition": "auto",
         "type": "bar",
         "x": [
          "Basic",
          "Graduation",
          "Master",
          "PhD"
         ],
         "xaxis": "x",
         "y": [
          22,
          274,
          148,
          114
         ],
         "yaxis": "y"
        },
        {
         "alignmentgroup": "True",
         "hovertemplate": "Cluster=Cluster 2<br>Education=%{x}<br>Count of Customers=%{y}<extra></extra>",
         "legendgroup": "Cluster 2",
         "marker": {
          "color": "#EF553B",
          "pattern": {
           "shape": ""
          }
         },
         "name": "Cluster 2",
         "offsetgroup": "Cluster 2",
         "orientation": "v",
         "showlegend": true,
         "textposition": "auto",
         "type": "bar",
         "x": [
          "Basic",
          "Graduation",
          "Master",
          "PhD"
         ],
         "xaxis": "x",
         "y": [
          31,
          374,
          205,
          134
         ],
         "yaxis": "y"
        },
        {
         "alignmentgroup": "True",
         "hovertemplate": "Cluster=Cluster 3<br>Education=%{x}<br>Count of Customers=%{y}<extra></extra>",
         "legendgroup": "Cluster 3",
         "marker": {
          "color": "#00cc96",
          "pattern": {
           "shape": ""
          }
         },
         "name": "Cluster 3",
         "offsetgroup": "Cluster 3",
         "orientation": "v",
         "showlegend": true,
         "textposition": "auto",
         "type": "bar",
         "x": [
          "Basic",
          "Graduation",
          "Master",
          "PhD"
         ],
         "xaxis": "x",
         "y": [
          1,
          230,
          82,
          119
         ],
         "yaxis": "y"
        },
        {
         "alignmentgroup": "True",
         "hovertemplate": "Cluster=Cluster 4<br>Education=%{x}<br>Count of Customers=%{y}<extra></extra>",
         "legendgroup": "Cluster 4",
         "marker": {
          "color": "#ab63fa",
          "pattern": {
           "shape": ""
          }
         },
         "name": "Cluster 4",
         "offsetgroup": "Cluster 4",
         "orientation": "v",
         "showlegend": true,
         "textposition": "auto",
         "type": "bar",
         "x": [
          "Graduation",
          "Master",
          "PhD"
         ],
         "xaxis": "x",
         "y": [
          248,
          136,
          118
         ],
         "yaxis": "y"
        }
       ],
       "layout": {
        "barmode": "group",
        "height": 400,
        "legend": {
         "title": {
          "text": "Cluster"
         },
         "tracegroupgap": 0
        },
        "margin": {
         "t": 60
        },
        "template": {
         "data": {
          "bar": [
           {
            "error_x": {
             "color": "#2a3f5f"
            },
            "error_y": {
             "color": "#2a3f5f"
            },
            "marker": {
             "line": {
              "color": "#E5ECF6",
              "width": 0.5
             },
             "pattern": {
              "fillmode": "overlay",
              "size": 10,
              "solidity": 0.2
             }
            },
            "type": "bar"
           }
          ],
          "barpolar": [
           {
            "marker": {
             "line": {
              "color": "#E5ECF6",
              "width": 0.5
             },
             "pattern": {
              "fillmode": "overlay",
              "size": 10,
              "solidity": 0.2
             }
            },
            "type": "barpolar"
           }
          ],
          "carpet": [
           {
            "aaxis": {
             "endlinecolor": "#2a3f5f",
             "gridcolor": "white",
             "linecolor": "white",
             "minorgridcolor": "white",
             "startlinecolor": "#2a3f5f"
            },
            "baxis": {
             "endlinecolor": "#2a3f5f",
             "gridcolor": "white",
             "linecolor": "white",
             "minorgridcolor": "white",
             "startlinecolor": "#2a3f5f"
            },
            "type": "carpet"
           }
          ],
          "choropleth": [
           {
            "colorbar": {
             "outlinewidth": 0,
             "ticks": ""
            },
            "type": "choropleth"
           }
          ],
          "contour": [
           {
            "colorbar": {
             "outlinewidth": 0,
             "ticks": ""
            },
            "colorscale": [
             [
              0,
              "#0d0887"
             ],
             [
              0.1111111111111111,
              "#46039f"
             ],
             [
              0.2222222222222222,
              "#7201a8"
             ],
             [
              0.3333333333333333,
              "#9c179e"
             ],
             [
              0.4444444444444444,
              "#bd3786"
             ],
             [
              0.5555555555555556,
              "#d8576b"
             ],
             [
              0.6666666666666666,
              "#ed7953"
             ],
             [
              0.7777777777777778,
              "#fb9f3a"
             ],
             [
              0.8888888888888888,
              "#fdca26"
             ],
             [
              1,
              "#f0f921"
             ]
            ],
            "type": "contour"
           }
          ],
          "contourcarpet": [
           {
            "colorbar": {
             "outlinewidth": 0,
             "ticks": ""
            },
            "type": "contourcarpet"
           }
          ],
          "heatmap": [
           {
            "colorbar": {
             "outlinewidth": 0,
             "ticks": ""
            },
            "colorscale": [
             [
              0,
              "#0d0887"
             ],
             [
              0.1111111111111111,
              "#46039f"
             ],
             [
              0.2222222222222222,
              "#7201a8"
             ],
             [
              0.3333333333333333,
              "#9c179e"
             ],
             [
              0.4444444444444444,
              "#bd3786"
             ],
             [
              0.5555555555555556,
              "#d8576b"
             ],
             [
              0.6666666666666666,
              "#ed7953"
             ],
             [
              0.7777777777777778,
              "#fb9f3a"
             ],
             [
              0.8888888888888888,
              "#fdca26"
             ],
             [
              1,
              "#f0f921"
             ]
            ],
            "type": "heatmap"
           }
          ],
          "heatmapgl": [
           {
            "colorbar": {
             "outlinewidth": 0,
             "ticks": ""
            },
            "colorscale": [
             [
              0,
              "#0d0887"
             ],
             [
              0.1111111111111111,
              "#46039f"
             ],
             [
              0.2222222222222222,
              "#7201a8"
             ],
             [
              0.3333333333333333,
              "#9c179e"
             ],
             [
              0.4444444444444444,
              "#bd3786"
             ],
             [
              0.5555555555555556,
              "#d8576b"
             ],
             [
              0.6666666666666666,
              "#ed7953"
             ],
             [
              0.7777777777777778,
              "#fb9f3a"
             ],
             [
              0.8888888888888888,
              "#fdca26"
             ],
             [
              1,
              "#f0f921"
             ]
            ],
            "type": "heatmapgl"
           }
          ],
          "histogram": [
           {
            "marker": {
             "pattern": {
              "fillmode": "overlay",
              "size": 10,
              "solidity": 0.2
             }
            },
            "type": "histogram"
           }
          ],
          "histogram2d": [
           {
            "colorbar": {
             "outlinewidth": 0,
             "ticks": ""
            },
            "colorscale": [
             [
              0,
              "#0d0887"
             ],
             [
              0.1111111111111111,
              "#46039f"
             ],
             [
              0.2222222222222222,
              "#7201a8"
             ],
             [
              0.3333333333333333,
              "#9c179e"
             ],
             [
              0.4444444444444444,
              "#bd3786"
             ],
             [
              0.5555555555555556,
              "#d8576b"
             ],
             [
              0.6666666666666666,
              "#ed7953"
             ],
             [
              0.7777777777777778,
              "#fb9f3a"
             ],
             [
              0.8888888888888888,
              "#fdca26"
             ],
             [
              1,
              "#f0f921"
             ]
            ],
            "type": "histogram2d"
           }
          ],
          "histogram2dcontour": [
           {
            "colorbar": {
             "outlinewidth": 0,
             "ticks": ""
            },
            "colorscale": [
             [
              0,
              "#0d0887"
             ],
             [
              0.1111111111111111,
              "#46039f"
             ],
             [
              0.2222222222222222,
              "#7201a8"
             ],
             [
              0.3333333333333333,
              "#9c179e"
             ],
             [
              0.4444444444444444,
              "#bd3786"
             ],
             [
              0.5555555555555556,
              "#d8576b"
             ],
             [
              0.6666666666666666,
              "#ed7953"
             ],
             [
              0.7777777777777778,
              "#fb9f3a"
             ],
             [
              0.8888888888888888,
              "#fdca26"
             ],
             [
              1,
              "#f0f921"
             ]
            ],
            "type": "histogram2dcontour"
           }
          ],
          "mesh3d": [
           {
            "colorbar": {
             "outlinewidth": 0,
             "ticks": ""
            },
            "type": "mesh3d"
           }
          ],
          "parcoords": [
           {
            "line": {
             "colorbar": {
              "outlinewidth": 0,
              "ticks": ""
             }
            },
            "type": "parcoords"
           }
          ],
          "pie": [
           {
            "automargin": true,
            "type": "pie"
           }
          ],
          "scatter": [
           {
            "fillpattern": {
             "fillmode": "overlay",
             "size": 10,
             "solidity": 0.2
            },
            "type": "scatter"
           }
          ],
          "scatter3d": [
           {
            "line": {
             "colorbar": {
              "outlinewidth": 0,
              "ticks": ""
             }
            },
            "marker": {
             "colorbar": {
              "outlinewidth": 0,
              "ticks": ""
             }
            },
            "type": "scatter3d"
           }
          ],
          "scattercarpet": [
           {
            "marker": {
             "colorbar": {
              "outlinewidth": 0,
              "ticks": ""
             }
            },
            "type": "scattercarpet"
           }
          ],
          "scattergeo": [
           {
            "marker": {
             "colorbar": {
              "outlinewidth": 0,
              "ticks": ""
             }
            },
            "type": "scattergeo"
           }
          ],
          "scattergl": [
           {
            "marker": {
             "colorbar": {
              "outlinewidth": 0,
              "ticks": ""
             }
            },
            "type": "scattergl"
           }
          ],
          "scattermapbox": [
           {
            "marker": {
             "colorbar": {
              "outlinewidth": 0,
              "ticks": ""
             }
            },
            "type": "scattermapbox"
           }
          ],
          "scatterpolar": [
           {
            "marker": {
             "colorbar": {
              "outlinewidth": 0,
              "ticks": ""
             }
            },
            "type": "scatterpolar"
           }
          ],
          "scatterpolargl": [
           {
            "marker": {
             "colorbar": {
              "outlinewidth": 0,
              "ticks": ""
             }
            },
            "type": "scatterpolargl"
           }
          ],
          "scatterternary": [
           {
            "marker": {
             "colorbar": {
              "outlinewidth": 0,
              "ticks": ""
             }
            },
            "type": "scatterternary"
           }
          ],
          "surface": [
           {
            "colorbar": {
             "outlinewidth": 0,
             "ticks": ""
            },
            "colorscale": [
             [
              0,
              "#0d0887"
             ],
             [
              0.1111111111111111,
              "#46039f"
             ],
             [
              0.2222222222222222,
              "#7201a8"
             ],
             [
              0.3333333333333333,
              "#9c179e"
             ],
             [
              0.4444444444444444,
              "#bd3786"
             ],
             [
              0.5555555555555556,
              "#d8576b"
             ],
             [
              0.6666666666666666,
              "#ed7953"
             ],
             [
              0.7777777777777778,
              "#fb9f3a"
             ],
             [
              0.8888888888888888,
              "#fdca26"
             ],
             [
              1,
              "#f0f921"
             ]
            ],
            "type": "surface"
           }
          ],
          "table": [
           {
            "cells": {
             "fill": {
              "color": "#EBF0F8"
             },
             "line": {
              "color": "white"
             }
            },
            "header": {
             "fill": {
              "color": "#C8D4E3"
             },
             "line": {
              "color": "white"
             }
            },
            "type": "table"
           }
          ]
         },
         "layout": {
          "annotationdefaults": {
           "arrowcolor": "#2a3f5f",
           "arrowhead": 0,
           "arrowwidth": 1
          },
          "autotypenumbers": "strict",
          "coloraxis": {
           "colorbar": {
            "outlinewidth": 0,
            "ticks": ""
           }
          },
          "colorscale": {
           "diverging": [
            [
             0,
             "#8e0152"
            ],
            [
             0.1,
             "#c51b7d"
            ],
            [
             0.2,
             "#de77ae"
            ],
            [
             0.3,
             "#f1b6da"
            ],
            [
             0.4,
             "#fde0ef"
            ],
            [
             0.5,
             "#f7f7f7"
            ],
            [
             0.6,
             "#e6f5d0"
            ],
            [
             0.7,
             "#b8e186"
            ],
            [
             0.8,
             "#7fbc41"
            ],
            [
             0.9,
             "#4d9221"
            ],
            [
             1,
             "#276419"
            ]
           ],
           "sequential": [
            [
             0,
             "#0d0887"
            ],
            [
             0.1111111111111111,
             "#46039f"
            ],
            [
             0.2222222222222222,
             "#7201a8"
            ],
            [
             0.3333333333333333,
             "#9c179e"
            ],
            [
             0.4444444444444444,
             "#bd3786"
            ],
            [
             0.5555555555555556,
             "#d8576b"
            ],
            [
             0.6666666666666666,
             "#ed7953"
            ],
            [
             0.7777777777777778,
             "#fb9f3a"
            ],
            [
             0.8888888888888888,
             "#fdca26"
            ],
            [
             1,
             "#f0f921"
            ]
           ],
           "sequentialminus": [
            [
             0,
             "#0d0887"
            ],
            [
             0.1111111111111111,
             "#46039f"
            ],
            [
             0.2222222222222222,
             "#7201a8"
            ],
            [
             0.3333333333333333,
             "#9c179e"
            ],
            [
             0.4444444444444444,
             "#bd3786"
            ],
            [
             0.5555555555555556,
             "#d8576b"
            ],
            [
             0.6666666666666666,
             "#ed7953"
            ],
            [
             0.7777777777777778,
             "#fb9f3a"
            ],
            [
             0.8888888888888888,
             "#fdca26"
            ],
            [
             1,
             "#f0f921"
            ]
           ]
          },
          "colorway": [
           "#636efa",
           "#EF553B",
           "#00cc96",
           "#ab63fa",
           "#FFA15A",
           "#19d3f3",
           "#FF6692",
           "#B6E880",
           "#FF97FF",
           "#FECB52"
          ],
          "font": {
           "color": "#2a3f5f"
          },
          "geo": {
           "bgcolor": "white",
           "lakecolor": "white",
           "landcolor": "#E5ECF6",
           "showlakes": true,
           "showland": true,
           "subunitcolor": "white"
          },
          "hoverlabel": {
           "align": "left"
          },
          "hovermode": "closest",
          "mapbox": {
           "style": "light"
          },
          "paper_bgcolor": "white",
          "plot_bgcolor": "#E5ECF6",
          "polar": {
           "angularaxis": {
            "gridcolor": "white",
            "linecolor": "white",
            "ticks": ""
           },
           "bgcolor": "#E5ECF6",
           "radialaxis": {
            "gridcolor": "white",
            "linecolor": "white",
            "ticks": ""
           }
          },
          "scene": {
           "xaxis": {
            "backgroundcolor": "#E5ECF6",
            "gridcolor": "white",
            "gridwidth": 2,
            "linecolor": "white",
            "showbackground": true,
            "ticks": "",
            "zerolinecolor": "white"
           },
           "yaxis": {
            "backgroundcolor": "#E5ECF6",
            "gridcolor": "white",
            "gridwidth": 2,
            "linecolor": "white",
            "showbackground": true,
            "ticks": "",
            "zerolinecolor": "white"
           },
           "zaxis": {
            "backgroundcolor": "#E5ECF6",
            "gridcolor": "white",
            "gridwidth": 2,
            "linecolor": "white",
            "showbackground": true,
            "ticks": "",
            "zerolinecolor": "white"
           }
          },
          "shapedefaults": {
           "line": {
            "color": "#2a3f5f"
           }
          },
          "ternary": {
           "aaxis": {
            "gridcolor": "white",
            "linecolor": "white",
            "ticks": ""
           },
           "baxis": {
            "gridcolor": "white",
            "linecolor": "white",
            "ticks": ""
           },
           "bgcolor": "#E5ECF6",
           "caxis": {
            "gridcolor": "white",
            "linecolor": "white",
            "ticks": ""
           }
          },
          "title": {
           "x": 0.05
          },
          "xaxis": {
           "automargin": true,
           "gridcolor": "white",
           "linecolor": "white",
           "ticks": "",
           "title": {
            "standoff": 15
           },
           "zerolinecolor": "white",
           "zerolinewidth": 2
          },
          "yaxis": {
           "automargin": true,
           "gridcolor": "white",
           "linecolor": "white",
           "ticks": "",
           "title": {
            "standoff": 15
           },
           "zerolinecolor": "white",
           "zerolinewidth": 2
          }
         }
        },
        "title": {
         "text": "Education"
        },
        "xaxis": {
         "anchor": "y",
         "domain": [
          0,
          1
         ],
         "title": {
          "text": "Education"
         }
        },
        "yaxis": {
         "anchor": "x",
         "domain": [
          0,
          1
         ],
         "title": {
          "text": "Count of Customers"
         }
        }
       }
      }
     },
     "metadata": {},
     "output_type": "display_data"
    }
   ],
   "source": [
    "df_plot = df_[['Education', 'Cluster', 'ID']].groupby(['Education', 'Cluster']).count()\n",
    "df_plot.reset_index(inplace=True)\n",
    "df_plot.rename(columns={\"ID\":\"Count of Customers\"}, inplace=True)\n",
    "\n",
    "\n",
    "fig = px.bar(df_plot, x=\"Education\", y=\"Count of Customers\",\n",
    "             color='Cluster', barmode='group',\n",
    "             height=400)\n",
    "fig.update_layout(title=\"Education\")\n",
    "fig.show()"
   ]
  },
  {
   "cell_type": "code",
   "execution_count": 569,
   "metadata": {},
   "outputs": [
    {
     "data": {
      "application/vnd.plotly.v1+json": {
       "config": {
        "plotlyServerURL": "https://plot.ly"
       },
       "data": [
        {
         "alignmentgroup": "True",
         "hovertemplate": "Cluster=%{x}<br>Purchase/Customer=%{y}<extra></extra>",
         "legendgroup": "Cluster 1",
         "marker": {
          "color": "#636efa",
          "pattern": {
           "shape": ""
          }
         },
         "name": "Cluster 1",
         "offsetgroup": "Cluster 1",
         "orientation": "v",
         "showlegend": true,
         "textposition": "auto",
         "type": "bar",
         "x": [
          "Cluster 1"
         ],
         "xaxis": "x",
         "y": [
          7.543010752688172
         ],
         "yaxis": "y"
        },
        {
         "alignmentgroup": "True",
         "hovertemplate": "Cluster=%{x}<br>Purchase/Customer=%{y}<extra></extra>",
         "legendgroup": "Cluster 2",
         "marker": {
          "color": "#EF553B",
          "pattern": {
           "shape": ""
          }
         },
         "name": "Cluster 2",
         "offsetgroup": "Cluster 2",
         "orientation": "v",
         "showlegend": true,
         "textposition": "auto",
         "type": "bar",
         "x": [
          "Cluster 2"
         ],
         "xaxis": "x",
         "y": [
          7.615591397849462
         ],
         "yaxis": "y"
        },
        {
         "alignmentgroup": "True",
         "hovertemplate": "Cluster=%{x}<br>Purchase/Customer=%{y}<extra></extra>",
         "legendgroup": "Cluster 3",
         "marker": {
          "color": "#00cc96",
          "pattern": {
           "shape": ""
          }
         },
         "name": "Cluster 3",
         "offsetgroup": "Cluster 3",
         "orientation": "v",
         "showlegend": true,
         "textposition": "auto",
         "type": "bar",
         "x": [
          "Cluster 3"
         ],
         "xaxis": "x",
         "y": [
          19.34259259259259
         ],
         "yaxis": "y"
        },
        {
         "alignmentgroup": "True",
         "hovertemplate": "Cluster=%{x}<br>Purchase/Customer=%{y}<extra></extra>",
         "legendgroup": "Cluster 4",
         "marker": {
          "color": "#ab63fa",
          "pattern": {
           "shape": ""
          }
         },
         "name": "Cluster 4",
         "offsetgroup": "Cluster 4",
         "orientation": "v",
         "showlegend": true,
         "textposition": "auto",
         "type": "bar",
         "x": [
          "Cluster 4"
         ],
         "xaxis": "x",
         "y": [
          19.567729083665338
         ],
         "yaxis": "y"
        }
       ],
       "layout": {
        "barmode": "relative",
        "height": 400,
        "legend": {
         "title": {
          "text": "Cluster"
         },
         "tracegroupgap": 0
        },
        "margin": {
         "t": 60
        },
        "template": {
         "data": {
          "bar": [
           {
            "error_x": {
             "color": "#2a3f5f"
            },
            "error_y": {
             "color": "#2a3f5f"
            },
            "marker": {
             "line": {
              "color": "#E5ECF6",
              "width": 0.5
             },
             "pattern": {
              "fillmode": "overlay",
              "size": 10,
              "solidity": 0.2
             }
            },
            "type": "bar"
           }
          ],
          "barpolar": [
           {
            "marker": {
             "line": {
              "color": "#E5ECF6",
              "width": 0.5
             },
             "pattern": {
              "fillmode": "overlay",
              "size": 10,
              "solidity": 0.2
             }
            },
            "type": "barpolar"
           }
          ],
          "carpet": [
           {
            "aaxis": {
             "endlinecolor": "#2a3f5f",
             "gridcolor": "white",
             "linecolor": "white",
             "minorgridcolor": "white",
             "startlinecolor": "#2a3f5f"
            },
            "baxis": {
             "endlinecolor": "#2a3f5f",
             "gridcolor": "white",
             "linecolor": "white",
             "minorgridcolor": "white",
             "startlinecolor": "#2a3f5f"
            },
            "type": "carpet"
           }
          ],
          "choropleth": [
           {
            "colorbar": {
             "outlinewidth": 0,
             "ticks": ""
            },
            "type": "choropleth"
           }
          ],
          "contour": [
           {
            "colorbar": {
             "outlinewidth": 0,
             "ticks": ""
            },
            "colorscale": [
             [
              0,
              "#0d0887"
             ],
             [
              0.1111111111111111,
              "#46039f"
             ],
             [
              0.2222222222222222,
              "#7201a8"
             ],
             [
              0.3333333333333333,
              "#9c179e"
             ],
             [
              0.4444444444444444,
              "#bd3786"
             ],
             [
              0.5555555555555556,
              "#d8576b"
             ],
             [
              0.6666666666666666,
              "#ed7953"
             ],
             [
              0.7777777777777778,
              "#fb9f3a"
             ],
             [
              0.8888888888888888,
              "#fdca26"
             ],
             [
              1,
              "#f0f921"
             ]
            ],
            "type": "contour"
           }
          ],
          "contourcarpet": [
           {
            "colorbar": {
             "outlinewidth": 0,
             "ticks": ""
            },
            "type": "contourcarpet"
           }
          ],
          "heatmap": [
           {
            "colorbar": {
             "outlinewidth": 0,
             "ticks": ""
            },
            "colorscale": [
             [
              0,
              "#0d0887"
             ],
             [
              0.1111111111111111,
              "#46039f"
             ],
             [
              0.2222222222222222,
              "#7201a8"
             ],
             [
              0.3333333333333333,
              "#9c179e"
             ],
             [
              0.4444444444444444,
              "#bd3786"
             ],
             [
              0.5555555555555556,
              "#d8576b"
             ],
             [
              0.6666666666666666,
              "#ed7953"
             ],
             [
              0.7777777777777778,
              "#fb9f3a"
             ],
             [
              0.8888888888888888,
              "#fdca26"
             ],
             [
              1,
              "#f0f921"
             ]
            ],
            "type": "heatmap"
           }
          ],
          "heatmapgl": [
           {
            "colorbar": {
             "outlinewidth": 0,
             "ticks": ""
            },
            "colorscale": [
             [
              0,
              "#0d0887"
             ],
             [
              0.1111111111111111,
              "#46039f"
             ],
             [
              0.2222222222222222,
              "#7201a8"
             ],
             [
              0.3333333333333333,
              "#9c179e"
             ],
             [
              0.4444444444444444,
              "#bd3786"
             ],
             [
              0.5555555555555556,
              "#d8576b"
             ],
             [
              0.6666666666666666,
              "#ed7953"
             ],
             [
              0.7777777777777778,
              "#fb9f3a"
             ],
             [
              0.8888888888888888,
              "#fdca26"
             ],
             [
              1,
              "#f0f921"
             ]
            ],
            "type": "heatmapgl"
           }
          ],
          "histogram": [
           {
            "marker": {
             "pattern": {
              "fillmode": "overlay",
              "size": 10,
              "solidity": 0.2
             }
            },
            "type": "histogram"
           }
          ],
          "histogram2d": [
           {
            "colorbar": {
             "outlinewidth": 0,
             "ticks": ""
            },
            "colorscale": [
             [
              0,
              "#0d0887"
             ],
             [
              0.1111111111111111,
              "#46039f"
             ],
             [
              0.2222222222222222,
              "#7201a8"
             ],
             [
              0.3333333333333333,
              "#9c179e"
             ],
             [
              0.4444444444444444,
              "#bd3786"
             ],
             [
              0.5555555555555556,
              "#d8576b"
             ],
             [
              0.6666666666666666,
              "#ed7953"
             ],
             [
              0.7777777777777778,
              "#fb9f3a"
             ],
             [
              0.8888888888888888,
              "#fdca26"
             ],
             [
              1,
              "#f0f921"
             ]
            ],
            "type": "histogram2d"
           }
          ],
          "histogram2dcontour": [
           {
            "colorbar": {
             "outlinewidth": 0,
             "ticks": ""
            },
            "colorscale": [
             [
              0,
              "#0d0887"
             ],
             [
              0.1111111111111111,
              "#46039f"
             ],
             [
              0.2222222222222222,
              "#7201a8"
             ],
             [
              0.3333333333333333,
              "#9c179e"
             ],
             [
              0.4444444444444444,
              "#bd3786"
             ],
             [
              0.5555555555555556,
              "#d8576b"
             ],
             [
              0.6666666666666666,
              "#ed7953"
             ],
             [
              0.7777777777777778,
              "#fb9f3a"
             ],
             [
              0.8888888888888888,
              "#fdca26"
             ],
             [
              1,
              "#f0f921"
             ]
            ],
            "type": "histogram2dcontour"
           }
          ],
          "mesh3d": [
           {
            "colorbar": {
             "outlinewidth": 0,
             "ticks": ""
            },
            "type": "mesh3d"
           }
          ],
          "parcoords": [
           {
            "line": {
             "colorbar": {
              "outlinewidth": 0,
              "ticks": ""
             }
            },
            "type": "parcoords"
           }
          ],
          "pie": [
           {
            "automargin": true,
            "type": "pie"
           }
          ],
          "scatter": [
           {
            "fillpattern": {
             "fillmode": "overlay",
             "size": 10,
             "solidity": 0.2
            },
            "type": "scatter"
           }
          ],
          "scatter3d": [
           {
            "line": {
             "colorbar": {
              "outlinewidth": 0,
              "ticks": ""
             }
            },
            "marker": {
             "colorbar": {
              "outlinewidth": 0,
              "ticks": ""
             }
            },
            "type": "scatter3d"
           }
          ],
          "scattercarpet": [
           {
            "marker": {
             "colorbar": {
              "outlinewidth": 0,
              "ticks": ""
             }
            },
            "type": "scattercarpet"
           }
          ],
          "scattergeo": [
           {
            "marker": {
             "colorbar": {
              "outlinewidth": 0,
              "ticks": ""
             }
            },
            "type": "scattergeo"
           }
          ],
          "scattergl": [
           {
            "marker": {
             "colorbar": {
              "outlinewidth": 0,
              "ticks": ""
             }
            },
            "type": "scattergl"
           }
          ],
          "scattermapbox": [
           {
            "marker": {
             "colorbar": {
              "outlinewidth": 0,
              "ticks": ""
             }
            },
            "type": "scattermapbox"
           }
          ],
          "scatterpolar": [
           {
            "marker": {
             "colorbar": {
              "outlinewidth": 0,
              "ticks": ""
             }
            },
            "type": "scatterpolar"
           }
          ],
          "scatterpolargl": [
           {
            "marker": {
             "colorbar": {
              "outlinewidth": 0,
              "ticks": ""
             }
            },
            "type": "scatterpolargl"
           }
          ],
          "scatterternary": [
           {
            "marker": {
             "colorbar": {
              "outlinewidth": 0,
              "ticks": ""
             }
            },
            "type": "scatterternary"
           }
          ],
          "surface": [
           {
            "colorbar": {
             "outlinewidth": 0,
             "ticks": ""
            },
            "colorscale": [
             [
              0,
              "#0d0887"
             ],
             [
              0.1111111111111111,
              "#46039f"
             ],
             [
              0.2222222222222222,
              "#7201a8"
             ],
             [
              0.3333333333333333,
              "#9c179e"
             ],
             [
              0.4444444444444444,
              "#bd3786"
             ],
             [
              0.5555555555555556,
              "#d8576b"
             ],
             [
              0.6666666666666666,
              "#ed7953"
             ],
             [
              0.7777777777777778,
              "#fb9f3a"
             ],
             [
              0.8888888888888888,
              "#fdca26"
             ],
             [
              1,
              "#f0f921"
             ]
            ],
            "type": "surface"
           }
          ],
          "table": [
           {
            "cells": {
             "fill": {
              "color": "#EBF0F8"
             },
             "line": {
              "color": "white"
             }
            },
            "header": {
             "fill": {
              "color": "#C8D4E3"
             },
             "line": {
              "color": "white"
             }
            },
            "type": "table"
           }
          ]
         },
         "layout": {
          "annotationdefaults": {
           "arrowcolor": "#2a3f5f",
           "arrowhead": 0,
           "arrowwidth": 1
          },
          "autotypenumbers": "strict",
          "coloraxis": {
           "colorbar": {
            "outlinewidth": 0,
            "ticks": ""
           }
          },
          "colorscale": {
           "diverging": [
            [
             0,
             "#8e0152"
            ],
            [
             0.1,
             "#c51b7d"
            ],
            [
             0.2,
             "#de77ae"
            ],
            [
             0.3,
             "#f1b6da"
            ],
            [
             0.4,
             "#fde0ef"
            ],
            [
             0.5,
             "#f7f7f7"
            ],
            [
             0.6,
             "#e6f5d0"
            ],
            [
             0.7,
             "#b8e186"
            ],
            [
             0.8,
             "#7fbc41"
            ],
            [
             0.9,
             "#4d9221"
            ],
            [
             1,
             "#276419"
            ]
           ],
           "sequential": [
            [
             0,
             "#0d0887"
            ],
            [
             0.1111111111111111,
             "#46039f"
            ],
            [
             0.2222222222222222,
             "#7201a8"
            ],
            [
             0.3333333333333333,
             "#9c179e"
            ],
            [
             0.4444444444444444,
             "#bd3786"
            ],
            [
             0.5555555555555556,
             "#d8576b"
            ],
            [
             0.6666666666666666,
             "#ed7953"
            ],
            [
             0.7777777777777778,
             "#fb9f3a"
            ],
            [
             0.8888888888888888,
             "#fdca26"
            ],
            [
             1,
             "#f0f921"
            ]
           ],
           "sequentialminus": [
            [
             0,
             "#0d0887"
            ],
            [
             0.1111111111111111,
             "#46039f"
            ],
            [
             0.2222222222222222,
             "#7201a8"
            ],
            [
             0.3333333333333333,
             "#9c179e"
            ],
            [
             0.4444444444444444,
             "#bd3786"
            ],
            [
             0.5555555555555556,
             "#d8576b"
            ],
            [
             0.6666666666666666,
             "#ed7953"
            ],
            [
             0.7777777777777778,
             "#fb9f3a"
            ],
            [
             0.8888888888888888,
             "#fdca26"
            ],
            [
             1,
             "#f0f921"
            ]
           ]
          },
          "colorway": [
           "#636efa",
           "#EF553B",
           "#00cc96",
           "#ab63fa",
           "#FFA15A",
           "#19d3f3",
           "#FF6692",
           "#B6E880",
           "#FF97FF",
           "#FECB52"
          ],
          "font": {
           "color": "#2a3f5f"
          },
          "geo": {
           "bgcolor": "white",
           "lakecolor": "white",
           "landcolor": "#E5ECF6",
           "showlakes": true,
           "showland": true,
           "subunitcolor": "white"
          },
          "hoverlabel": {
           "align": "left"
          },
          "hovermode": "closest",
          "mapbox": {
           "style": "light"
          },
          "paper_bgcolor": "white",
          "plot_bgcolor": "#E5ECF6",
          "polar": {
           "angularaxis": {
            "gridcolor": "white",
            "linecolor": "white",
            "ticks": ""
           },
           "bgcolor": "#E5ECF6",
           "radialaxis": {
            "gridcolor": "white",
            "linecolor": "white",
            "ticks": ""
           }
          },
          "scene": {
           "xaxis": {
            "backgroundcolor": "#E5ECF6",
            "gridcolor": "white",
            "gridwidth": 2,
            "linecolor": "white",
            "showbackground": true,
            "ticks": "",
            "zerolinecolor": "white"
           },
           "yaxis": {
            "backgroundcolor": "#E5ECF6",
            "gridcolor": "white",
            "gridwidth": 2,
            "linecolor": "white",
            "showbackground": true,
            "ticks": "",
            "zerolinecolor": "white"
           },
           "zaxis": {
            "backgroundcolor": "#E5ECF6",
            "gridcolor": "white",
            "gridwidth": 2,
            "linecolor": "white",
            "showbackground": true,
            "ticks": "",
            "zerolinecolor": "white"
           }
          },
          "shapedefaults": {
           "line": {
            "color": "#2a3f5f"
           }
          },
          "ternary": {
           "aaxis": {
            "gridcolor": "white",
            "linecolor": "white",
            "ticks": ""
           },
           "baxis": {
            "gridcolor": "white",
            "linecolor": "white",
            "ticks": ""
           },
           "bgcolor": "#E5ECF6",
           "caxis": {
            "gridcolor": "white",
            "linecolor": "white",
            "ticks": ""
           }
          },
          "title": {
           "x": 0.05
          },
          "xaxis": {
           "automargin": true,
           "gridcolor": "white",
           "linecolor": "white",
           "ticks": "",
           "title": {
            "standoff": 15
           },
           "zerolinecolor": "white",
           "zerolinewidth": 2
          },
          "yaxis": {
           "automargin": true,
           "gridcolor": "white",
           "linecolor": "white",
           "ticks": "",
           "title": {
            "standoff": 15
           },
           "zerolinecolor": "white",
           "zerolinewidth": 2
          }
         }
        },
        "title": {
         "text": "Purchase/Customer"
        },
        "xaxis": {
         "anchor": "y",
         "categoryarray": [
          "Cluster 1",
          "Cluster 2",
          "Cluster 3",
          "Cluster 4"
         ],
         "categoryorder": "array",
         "domain": [
          0,
          1
         ],
         "title": {
          "text": "Cluster"
         }
        },
        "yaxis": {
         "anchor": "x",
         "domain": [
          0,
          1
         ],
         "title": {
          "text": "Purchase/Customer"
         }
        }
       }
      }
     },
     "metadata": {},
     "output_type": "display_data"
    }
   ],
   "source": [
    "df_plot = df_[['Total_Purchases', 'Cluster', 'ID']].groupby(['Cluster']).agg({\"ID\":\"count\", \"Total_Purchases\":\"sum\"})\n",
    "df_plot.reset_index(inplace=True)\n",
    "df_plot.rename(columns={\"Total_Purchases\":\"Number of Purchases\", \"ID\":\"Customers\"}, inplace=True)\n",
    "df_plot['Purchase/Customer'] = df_plot['Number of Purchases']/df_plot['Customers']\n",
    "\n",
    "fig = px.bar(df_plot, x=\"Cluster\", y=\"Purchase/Customer\",\n",
    "             color='Cluster',\n",
    "             height=400)\n",
    "fig.update_layout(title=\"Purchase/Customer\")\n",
    "fig.show()"
   ]
  },
  {
   "cell_type": "code",
   "execution_count": 570,
   "metadata": {},
   "outputs": [
    {
     "data": {
      "application/vnd.plotly.v1+json": {
       "config": {
        "plotlyServerURL": "https://plot.ly"
       },
       "data": [
        {
         "alignmentgroup": "True",
         "hovertemplate": "Cluster=%{x}<br>Purchase/Customer=%{y}<extra></extra>",
         "legendgroup": "Cluster 1",
         "marker": {
          "color": "#636efa",
          "pattern": {
           "shape": ""
          }
         },
         "name": "Cluster 1",
         "offsetgroup": "Cluster 1",
         "orientation": "v",
         "showlegend": true,
         "textposition": "auto",
         "type": "bar",
         "x": [
          "Cluster 1"
         ],
         "xaxis": "x",
         "y": [
          7.543010752688172
         ],
         "yaxis": "y"
        },
        {
         "alignmentgroup": "True",
         "hovertemplate": "Cluster=%{x}<br>Purchase/Customer=%{y}<extra></extra>",
         "legendgroup": "Cluster 2",
         "marker": {
          "color": "#EF553B",
          "pattern": {
           "shape": ""
          }
         },
         "name": "Cluster 2",
         "offsetgroup": "Cluster 2",
         "orientation": "v",
         "showlegend": true,
         "textposition": "auto",
         "type": "bar",
         "x": [
          "Cluster 2"
         ],
         "xaxis": "x",
         "y": [
          7.615591397849462
         ],
         "yaxis": "y"
        },
        {
         "alignmentgroup": "True",
         "hovertemplate": "Cluster=%{x}<br>Purchase/Customer=%{y}<extra></extra>",
         "legendgroup": "Cluster 3",
         "marker": {
          "color": "#00cc96",
          "pattern": {
           "shape": ""
          }
         },
         "name": "Cluster 3",
         "offsetgroup": "Cluster 3",
         "orientation": "v",
         "showlegend": true,
         "textposition": "auto",
         "type": "bar",
         "x": [
          "Cluster 3"
         ],
         "xaxis": "x",
         "y": [
          19.34259259259259
         ],
         "yaxis": "y"
        },
        {
         "alignmentgroup": "True",
         "hovertemplate": "Cluster=%{x}<br>Purchase/Customer=%{y}<extra></extra>",
         "legendgroup": "Cluster 4",
         "marker": {
          "color": "#ab63fa",
          "pattern": {
           "shape": ""
          }
         },
         "name": "Cluster 4",
         "offsetgroup": "Cluster 4",
         "orientation": "v",
         "showlegend": true,
         "textposition": "auto",
         "type": "bar",
         "x": [
          "Cluster 4"
         ],
         "xaxis": "x",
         "y": [
          19.567729083665338
         ],
         "yaxis": "y"
        }
       ],
       "layout": {
        "barmode": "relative",
        "height": 400,
        "legend": {
         "title": {
          "text": "Cluster"
         },
         "tracegroupgap": 0
        },
        "margin": {
         "t": 60
        },
        "template": {
         "data": {
          "bar": [
           {
            "error_x": {
             "color": "#2a3f5f"
            },
            "error_y": {
             "color": "#2a3f5f"
            },
            "marker": {
             "line": {
              "color": "#E5ECF6",
              "width": 0.5
             },
             "pattern": {
              "fillmode": "overlay",
              "size": 10,
              "solidity": 0.2
             }
            },
            "type": "bar"
           }
          ],
          "barpolar": [
           {
            "marker": {
             "line": {
              "color": "#E5ECF6",
              "width": 0.5
             },
             "pattern": {
              "fillmode": "overlay",
              "size": 10,
              "solidity": 0.2
             }
            },
            "type": "barpolar"
           }
          ],
          "carpet": [
           {
            "aaxis": {
             "endlinecolor": "#2a3f5f",
             "gridcolor": "white",
             "linecolor": "white",
             "minorgridcolor": "white",
             "startlinecolor": "#2a3f5f"
            },
            "baxis": {
             "endlinecolor": "#2a3f5f",
             "gridcolor": "white",
             "linecolor": "white",
             "minorgridcolor": "white",
             "startlinecolor": "#2a3f5f"
            },
            "type": "carpet"
           }
          ],
          "choropleth": [
           {
            "colorbar": {
             "outlinewidth": 0,
             "ticks": ""
            },
            "type": "choropleth"
           }
          ],
          "contour": [
           {
            "colorbar": {
             "outlinewidth": 0,
             "ticks": ""
            },
            "colorscale": [
             [
              0,
              "#0d0887"
             ],
             [
              0.1111111111111111,
              "#46039f"
             ],
             [
              0.2222222222222222,
              "#7201a8"
             ],
             [
              0.3333333333333333,
              "#9c179e"
             ],
             [
              0.4444444444444444,
              "#bd3786"
             ],
             [
              0.5555555555555556,
              "#d8576b"
             ],
             [
              0.6666666666666666,
              "#ed7953"
             ],
             [
              0.7777777777777778,
              "#fb9f3a"
             ],
             [
              0.8888888888888888,
              "#fdca26"
             ],
             [
              1,
              "#f0f921"
             ]
            ],
            "type": "contour"
           }
          ],
          "contourcarpet": [
           {
            "colorbar": {
             "outlinewidth": 0,
             "ticks": ""
            },
            "type": "contourcarpet"
           }
          ],
          "heatmap": [
           {
            "colorbar": {
             "outlinewidth": 0,
             "ticks": ""
            },
            "colorscale": [
             [
              0,
              "#0d0887"
             ],
             [
              0.1111111111111111,
              "#46039f"
             ],
             [
              0.2222222222222222,
              "#7201a8"
             ],
             [
              0.3333333333333333,
              "#9c179e"
             ],
             [
              0.4444444444444444,
              "#bd3786"
             ],
             [
              0.5555555555555556,
              "#d8576b"
             ],
             [
              0.6666666666666666,
              "#ed7953"
             ],
             [
              0.7777777777777778,
              "#fb9f3a"
             ],
             [
              0.8888888888888888,
              "#fdca26"
             ],
             [
              1,
              "#f0f921"
             ]
            ],
            "type": "heatmap"
           }
          ],
          "heatmapgl": [
           {
            "colorbar": {
             "outlinewidth": 0,
             "ticks": ""
            },
            "colorscale": [
             [
              0,
              "#0d0887"
             ],
             [
              0.1111111111111111,
              "#46039f"
             ],
             [
              0.2222222222222222,
              "#7201a8"
             ],
             [
              0.3333333333333333,
              "#9c179e"
             ],
             [
              0.4444444444444444,
              "#bd3786"
             ],
             [
              0.5555555555555556,
              "#d8576b"
             ],
             [
              0.6666666666666666,
              "#ed7953"
             ],
             [
              0.7777777777777778,
              "#fb9f3a"
             ],
             [
              0.8888888888888888,
              "#fdca26"
             ],
             [
              1,
              "#f0f921"
             ]
            ],
            "type": "heatmapgl"
           }
          ],
          "histogram": [
           {
            "marker": {
             "pattern": {
              "fillmode": "overlay",
              "size": 10,
              "solidity": 0.2
             }
            },
            "type": "histogram"
           }
          ],
          "histogram2d": [
           {
            "colorbar": {
             "outlinewidth": 0,
             "ticks": ""
            },
            "colorscale": [
             [
              0,
              "#0d0887"
             ],
             [
              0.1111111111111111,
              "#46039f"
             ],
             [
              0.2222222222222222,
              "#7201a8"
             ],
             [
              0.3333333333333333,
              "#9c179e"
             ],
             [
              0.4444444444444444,
              "#bd3786"
             ],
             [
              0.5555555555555556,
              "#d8576b"
             ],
             [
              0.6666666666666666,
              "#ed7953"
             ],
             [
              0.7777777777777778,
              "#fb9f3a"
             ],
             [
              0.8888888888888888,
              "#fdca26"
             ],
             [
              1,
              "#f0f921"
             ]
            ],
            "type": "histogram2d"
           }
          ],
          "histogram2dcontour": [
           {
            "colorbar": {
             "outlinewidth": 0,
             "ticks": ""
            },
            "colorscale": [
             [
              0,
              "#0d0887"
             ],
             [
              0.1111111111111111,
              "#46039f"
             ],
             [
              0.2222222222222222,
              "#7201a8"
             ],
             [
              0.3333333333333333,
              "#9c179e"
             ],
             [
              0.4444444444444444,
              "#bd3786"
             ],
             [
              0.5555555555555556,
              "#d8576b"
             ],
             [
              0.6666666666666666,
              "#ed7953"
             ],
             [
              0.7777777777777778,
              "#fb9f3a"
             ],
             [
              0.8888888888888888,
              "#fdca26"
             ],
             [
              1,
              "#f0f921"
             ]
            ],
            "type": "histogram2dcontour"
           }
          ],
          "mesh3d": [
           {
            "colorbar": {
             "outlinewidth": 0,
             "ticks": ""
            },
            "type": "mesh3d"
           }
          ],
          "parcoords": [
           {
            "line": {
             "colorbar": {
              "outlinewidth": 0,
              "ticks": ""
             }
            },
            "type": "parcoords"
           }
          ],
          "pie": [
           {
            "automargin": true,
            "type": "pie"
           }
          ],
          "scatter": [
           {
            "fillpattern": {
             "fillmode": "overlay",
             "size": 10,
             "solidity": 0.2
            },
            "type": "scatter"
           }
          ],
          "scatter3d": [
           {
            "line": {
             "colorbar": {
              "outlinewidth": 0,
              "ticks": ""
             }
            },
            "marker": {
             "colorbar": {
              "outlinewidth": 0,
              "ticks": ""
             }
            },
            "type": "scatter3d"
           }
          ],
          "scattercarpet": [
           {
            "marker": {
             "colorbar": {
              "outlinewidth": 0,
              "ticks": ""
             }
            },
            "type": "scattercarpet"
           }
          ],
          "scattergeo": [
           {
            "marker": {
             "colorbar": {
              "outlinewidth": 0,
              "ticks": ""
             }
            },
            "type": "scattergeo"
           }
          ],
          "scattergl": [
           {
            "marker": {
             "colorbar": {
              "outlinewidth": 0,
              "ticks": ""
             }
            },
            "type": "scattergl"
           }
          ],
          "scattermapbox": [
           {
            "marker": {
             "colorbar": {
              "outlinewidth": 0,
              "ticks": ""
             }
            },
            "type": "scattermapbox"
           }
          ],
          "scatterpolar": [
           {
            "marker": {
             "colorbar": {
              "outlinewidth": 0,
              "ticks": ""
             }
            },
            "type": "scatterpolar"
           }
          ],
          "scatterpolargl": [
           {
            "marker": {
             "colorbar": {
              "outlinewidth": 0,
              "ticks": ""
             }
            },
            "type": "scatterpolargl"
           }
          ],
          "scatterternary": [
           {
            "marker": {
             "colorbar": {
              "outlinewidth": 0,
              "ticks": ""
             }
            },
            "type": "scatterternary"
           }
          ],
          "surface": [
           {
            "colorbar": {
             "outlinewidth": 0,
             "ticks": ""
            },
            "colorscale": [
             [
              0,
              "#0d0887"
             ],
             [
              0.1111111111111111,
              "#46039f"
             ],
             [
              0.2222222222222222,
              "#7201a8"
             ],
             [
              0.3333333333333333,
              "#9c179e"
             ],
             [
              0.4444444444444444,
              "#bd3786"
             ],
             [
              0.5555555555555556,
              "#d8576b"
             ],
             [
              0.6666666666666666,
              "#ed7953"
             ],
             [
              0.7777777777777778,
              "#fb9f3a"
             ],
             [
              0.8888888888888888,
              "#fdca26"
             ],
             [
              1,
              "#f0f921"
             ]
            ],
            "type": "surface"
           }
          ],
          "table": [
           {
            "cells": {
             "fill": {
              "color": "#EBF0F8"
             },
             "line": {
              "color": "white"
             }
            },
            "header": {
             "fill": {
              "color": "#C8D4E3"
             },
             "line": {
              "color": "white"
             }
            },
            "type": "table"
           }
          ]
         },
         "layout": {
          "annotationdefaults": {
           "arrowcolor": "#2a3f5f",
           "arrowhead": 0,
           "arrowwidth": 1
          },
          "autotypenumbers": "strict",
          "coloraxis": {
           "colorbar": {
            "outlinewidth": 0,
            "ticks": ""
           }
          },
          "colorscale": {
           "diverging": [
            [
             0,
             "#8e0152"
            ],
            [
             0.1,
             "#c51b7d"
            ],
            [
             0.2,
             "#de77ae"
            ],
            [
             0.3,
             "#f1b6da"
            ],
            [
             0.4,
             "#fde0ef"
            ],
            [
             0.5,
             "#f7f7f7"
            ],
            [
             0.6,
             "#e6f5d0"
            ],
            [
             0.7,
             "#b8e186"
            ],
            [
             0.8,
             "#7fbc41"
            ],
            [
             0.9,
             "#4d9221"
            ],
            [
             1,
             "#276419"
            ]
           ],
           "sequential": [
            [
             0,
             "#0d0887"
            ],
            [
             0.1111111111111111,
             "#46039f"
            ],
            [
             0.2222222222222222,
             "#7201a8"
            ],
            [
             0.3333333333333333,
             "#9c179e"
            ],
            [
             0.4444444444444444,
             "#bd3786"
            ],
            [
             0.5555555555555556,
             "#d8576b"
            ],
            [
             0.6666666666666666,
             "#ed7953"
            ],
            [
             0.7777777777777778,
             "#fb9f3a"
            ],
            [
             0.8888888888888888,
             "#fdca26"
            ],
            [
             1,
             "#f0f921"
            ]
           ],
           "sequentialminus": [
            [
             0,
             "#0d0887"
            ],
            [
             0.1111111111111111,
             "#46039f"
            ],
            [
             0.2222222222222222,
             "#7201a8"
            ],
            [
             0.3333333333333333,
             "#9c179e"
            ],
            [
             0.4444444444444444,
             "#bd3786"
            ],
            [
             0.5555555555555556,
             "#d8576b"
            ],
            [
             0.6666666666666666,
             "#ed7953"
            ],
            [
             0.7777777777777778,
             "#fb9f3a"
            ],
            [
             0.8888888888888888,
             "#fdca26"
            ],
            [
             1,
             "#f0f921"
            ]
           ]
          },
          "colorway": [
           "#636efa",
           "#EF553B",
           "#00cc96",
           "#ab63fa",
           "#FFA15A",
           "#19d3f3",
           "#FF6692",
           "#B6E880",
           "#FF97FF",
           "#FECB52"
          ],
          "font": {
           "color": "#2a3f5f"
          },
          "geo": {
           "bgcolor": "white",
           "lakecolor": "white",
           "landcolor": "#E5ECF6",
           "showlakes": true,
           "showland": true,
           "subunitcolor": "white"
          },
          "hoverlabel": {
           "align": "left"
          },
          "hovermode": "closest",
          "mapbox": {
           "style": "light"
          },
          "paper_bgcolor": "white",
          "plot_bgcolor": "#E5ECF6",
          "polar": {
           "angularaxis": {
            "gridcolor": "white",
            "linecolor": "white",
            "ticks": ""
           },
           "bgcolor": "#E5ECF6",
           "radialaxis": {
            "gridcolor": "white",
            "linecolor": "white",
            "ticks": ""
           }
          },
          "scene": {
           "xaxis": {
            "backgroundcolor": "#E5ECF6",
            "gridcolor": "white",
            "gridwidth": 2,
            "linecolor": "white",
            "showbackground": true,
            "ticks": "",
            "zerolinecolor": "white"
           },
           "yaxis": {
            "backgroundcolor": "#E5ECF6",
            "gridcolor": "white",
            "gridwidth": 2,
            "linecolor": "white",
            "showbackground": true,
            "ticks": "",
            "zerolinecolor": "white"
           },
           "zaxis": {
            "backgroundcolor": "#E5ECF6",
            "gridcolor": "white",
            "gridwidth": 2,
            "linecolor": "white",
            "showbackground": true,
            "ticks": "",
            "zerolinecolor": "white"
           }
          },
          "shapedefaults": {
           "line": {
            "color": "#2a3f5f"
           }
          },
          "ternary": {
           "aaxis": {
            "gridcolor": "white",
            "linecolor": "white",
            "ticks": ""
           },
           "baxis": {
            "gridcolor": "white",
            "linecolor": "white",
            "ticks": ""
           },
           "bgcolor": "#E5ECF6",
           "caxis": {
            "gridcolor": "white",
            "linecolor": "white",
            "ticks": ""
           }
          },
          "title": {
           "x": 0.05
          },
          "xaxis": {
           "automargin": true,
           "gridcolor": "white",
           "linecolor": "white",
           "ticks": "",
           "title": {
            "standoff": 15
           },
           "zerolinecolor": "white",
           "zerolinewidth": 2
          },
          "yaxis": {
           "automargin": true,
           "gridcolor": "white",
           "linecolor": "white",
           "ticks": "",
           "title": {
            "standoff": 15
           },
           "zerolinecolor": "white",
           "zerolinewidth": 2
          }
         }
        },
        "title": {
         "text": "Purchase/Customer"
        },
        "xaxis": {
         "anchor": "y",
         "categoryarray": [
          "Cluster 1",
          "Cluster 2",
          "Cluster 3",
          "Cluster 4"
         ],
         "categoryorder": "array",
         "domain": [
          0,
          1
         ],
         "title": {
          "text": "Cluster"
         }
        },
        "yaxis": {
         "anchor": "x",
         "domain": [
          0,
          1
         ],
         "title": {
          "text": "Purchase/Customer"
         }
        }
       }
      }
     },
     "metadata": {},
     "output_type": "display_data"
    }
   ],
   "source": [
    "df_plot = df_[['Total_Purchases', 'Cluster', 'ID']].groupby(['Cluster']).agg({\"ID\":\"count\", \"Total_Purchases\":\"sum\"})\n",
    "df_plot.reset_index(inplace=True)\n",
    "df_plot.rename(columns={\"Total_Purchases\":\"Number of Purchases\", \"ID\":\"Customers\"}, inplace=True)\n",
    "df_plot['Purchase/Customer'] = df_plot['Number of Purchases']/df_plot['Customers']\n",
    "\n",
    "fig = px.bar(df_plot, x=\"Cluster\", y=\"Purchase/Customer\",\n",
    "             color='Cluster',\n",
    "             height=400)\n",
    "fig.update_layout(title=\"Purchase/Customer\")\n",
    "fig.show()"
   ]
  },
  {
   "cell_type": "code",
   "execution_count": 571,
   "metadata": {},
   "outputs": [
    {
     "data": {
      "application/vnd.plotly.v1+json": {
       "config": {
        "plotlyServerURL": "https://plot.ly"
       },
       "data": [
        {
         "alignmentgroup": "True",
         "hovertemplate": "Cluster=%{x}<br>Spend/Purchase=%{y}<extra></extra>",
         "legendgroup": "Cluster 1",
         "marker": {
          "color": "#636efa",
          "pattern": {
           "shape": ""
          }
         },
         "name": "Cluster 1",
         "offsetgroup": "Cluster 1",
         "orientation": "v",
         "showlegend": true,
         "textposition": "auto",
         "type": "bar",
         "x": [
          "Cluster 1"
         ],
         "xaxis": "x",
         "y": [
          22.800665241149918
         ],
         "yaxis": "y"
        },
        {
         "alignmentgroup": "True",
         "hovertemplate": "Cluster=%{x}<br>Spend/Purchase=%{y}<extra></extra>",
         "legendgroup": "Cluster 2",
         "marker": {
          "color": "#EF553B",
          "pattern": {
           "shape": ""
          }
         },
         "name": "Cluster 2",
         "offsetgroup": "Cluster 2",
         "orientation": "v",
         "showlegend": true,
         "textposition": "auto",
         "type": "bar",
         "x": [
          "Cluster 2"
         ],
         "xaxis": "x",
         "y": [
          23.181433109777622
         ],
         "yaxis": "y"
        },
        {
         "alignmentgroup": "True",
         "hovertemplate": "Cluster=%{x}<br>Spend/Purchase=%{y}<extra></extra>",
         "legendgroup": "Cluster 3",
         "marker": {
          "color": "#00cc96",
          "pattern": {
           "shape": ""
          }
         },
         "name": "Cluster 3",
         "offsetgroup": "Cluster 3",
         "orientation": "v",
         "showlegend": true,
         "textposition": "auto",
         "type": "bar",
         "x": [
          "Cluster 3"
         ],
         "xaxis": "x",
         "y": [
          62.87242699856391
         ],
         "yaxis": "y"
        },
        {
         "alignmentgroup": "True",
         "hovertemplate": "Cluster=%{x}<br>Spend/Purchase=%{y}<extra></extra>",
         "legendgroup": "Cluster 4",
         "marker": {
          "color": "#ab63fa",
          "pattern": {
           "shape": ""
          }
         },
         "name": "Cluster 4",
         "offsetgroup": "Cluster 4",
         "orientation": "v",
         "showlegend": true,
         "textposition": "auto",
         "type": "bar",
         "x": [
          "Cluster 4"
         ],
         "xaxis": "x",
         "y": [
          61.31629848315178
         ],
         "yaxis": "y"
        }
       ],
       "layout": {
        "barmode": "relative",
        "height": 400,
        "legend": {
         "title": {
          "text": "Cluster"
         },
         "tracegroupgap": 0
        },
        "margin": {
         "t": 60
        },
        "template": {
         "data": {
          "bar": [
           {
            "error_x": {
             "color": "#2a3f5f"
            },
            "error_y": {
             "color": "#2a3f5f"
            },
            "marker": {
             "line": {
              "color": "#E5ECF6",
              "width": 0.5
             },
             "pattern": {
              "fillmode": "overlay",
              "size": 10,
              "solidity": 0.2
             }
            },
            "type": "bar"
           }
          ],
          "barpolar": [
           {
            "marker": {
             "line": {
              "color": "#E5ECF6",
              "width": 0.5
             },
             "pattern": {
              "fillmode": "overlay",
              "size": 10,
              "solidity": 0.2
             }
            },
            "type": "barpolar"
           }
          ],
          "carpet": [
           {
            "aaxis": {
             "endlinecolor": "#2a3f5f",
             "gridcolor": "white",
             "linecolor": "white",
             "minorgridcolor": "white",
             "startlinecolor": "#2a3f5f"
            },
            "baxis": {
             "endlinecolor": "#2a3f5f",
             "gridcolor": "white",
             "linecolor": "white",
             "minorgridcolor": "white",
             "startlinecolor": "#2a3f5f"
            },
            "type": "carpet"
           }
          ],
          "choropleth": [
           {
            "colorbar": {
             "outlinewidth": 0,
             "ticks": ""
            },
            "type": "choropleth"
           }
          ],
          "contour": [
           {
            "colorbar": {
             "outlinewidth": 0,
             "ticks": ""
            },
            "colorscale": [
             [
              0,
              "#0d0887"
             ],
             [
              0.1111111111111111,
              "#46039f"
             ],
             [
              0.2222222222222222,
              "#7201a8"
             ],
             [
              0.3333333333333333,
              "#9c179e"
             ],
             [
              0.4444444444444444,
              "#bd3786"
             ],
             [
              0.5555555555555556,
              "#d8576b"
             ],
             [
              0.6666666666666666,
              "#ed7953"
             ],
             [
              0.7777777777777778,
              "#fb9f3a"
             ],
             [
              0.8888888888888888,
              "#fdca26"
             ],
             [
              1,
              "#f0f921"
             ]
            ],
            "type": "contour"
           }
          ],
          "contourcarpet": [
           {
            "colorbar": {
             "outlinewidth": 0,
             "ticks": ""
            },
            "type": "contourcarpet"
           }
          ],
          "heatmap": [
           {
            "colorbar": {
             "outlinewidth": 0,
             "ticks": ""
            },
            "colorscale": [
             [
              0,
              "#0d0887"
             ],
             [
              0.1111111111111111,
              "#46039f"
             ],
             [
              0.2222222222222222,
              "#7201a8"
             ],
             [
              0.3333333333333333,
              "#9c179e"
             ],
             [
              0.4444444444444444,
              "#bd3786"
             ],
             [
              0.5555555555555556,
              "#d8576b"
             ],
             [
              0.6666666666666666,
              "#ed7953"
             ],
             [
              0.7777777777777778,
              "#fb9f3a"
             ],
             [
              0.8888888888888888,
              "#fdca26"
             ],
             [
              1,
              "#f0f921"
             ]
            ],
            "type": "heatmap"
           }
          ],
          "heatmapgl": [
           {
            "colorbar": {
             "outlinewidth": 0,
             "ticks": ""
            },
            "colorscale": [
             [
              0,
              "#0d0887"
             ],
             [
              0.1111111111111111,
              "#46039f"
             ],
             [
              0.2222222222222222,
              "#7201a8"
             ],
             [
              0.3333333333333333,
              "#9c179e"
             ],
             [
              0.4444444444444444,
              "#bd3786"
             ],
             [
              0.5555555555555556,
              "#d8576b"
             ],
             [
              0.6666666666666666,
              "#ed7953"
             ],
             [
              0.7777777777777778,
              "#fb9f3a"
             ],
             [
              0.8888888888888888,
              "#fdca26"
             ],
             [
              1,
              "#f0f921"
             ]
            ],
            "type": "heatmapgl"
           }
          ],
          "histogram": [
           {
            "marker": {
             "pattern": {
              "fillmode": "overlay",
              "size": 10,
              "solidity": 0.2
             }
            },
            "type": "histogram"
           }
          ],
          "histogram2d": [
           {
            "colorbar": {
             "outlinewidth": 0,
             "ticks": ""
            },
            "colorscale": [
             [
              0,
              "#0d0887"
             ],
             [
              0.1111111111111111,
              "#46039f"
             ],
             [
              0.2222222222222222,
              "#7201a8"
             ],
             [
              0.3333333333333333,
              "#9c179e"
             ],
             [
              0.4444444444444444,
              "#bd3786"
             ],
             [
              0.5555555555555556,
              "#d8576b"
             ],
             [
              0.6666666666666666,
              "#ed7953"
             ],
             [
              0.7777777777777778,
              "#fb9f3a"
             ],
             [
              0.8888888888888888,
              "#fdca26"
             ],
             [
              1,
              "#f0f921"
             ]
            ],
            "type": "histogram2d"
           }
          ],
          "histogram2dcontour": [
           {
            "colorbar": {
             "outlinewidth": 0,
             "ticks": ""
            },
            "colorscale": [
             [
              0,
              "#0d0887"
             ],
             [
              0.1111111111111111,
              "#46039f"
             ],
             [
              0.2222222222222222,
              "#7201a8"
             ],
             [
              0.3333333333333333,
              "#9c179e"
             ],
             [
              0.4444444444444444,
              "#bd3786"
             ],
             [
              0.5555555555555556,
              "#d8576b"
             ],
             [
              0.6666666666666666,
              "#ed7953"
             ],
             [
              0.7777777777777778,
              "#fb9f3a"
             ],
             [
              0.8888888888888888,
              "#fdca26"
             ],
             [
              1,
              "#f0f921"
             ]
            ],
            "type": "histogram2dcontour"
           }
          ],
          "mesh3d": [
           {
            "colorbar": {
             "outlinewidth": 0,
             "ticks": ""
            },
            "type": "mesh3d"
           }
          ],
          "parcoords": [
           {
            "line": {
             "colorbar": {
              "outlinewidth": 0,
              "ticks": ""
             }
            },
            "type": "parcoords"
           }
          ],
          "pie": [
           {
            "automargin": true,
            "type": "pie"
           }
          ],
          "scatter": [
           {
            "fillpattern": {
             "fillmode": "overlay",
             "size": 10,
             "solidity": 0.2
            },
            "type": "scatter"
           }
          ],
          "scatter3d": [
           {
            "line": {
             "colorbar": {
              "outlinewidth": 0,
              "ticks": ""
             }
            },
            "marker": {
             "colorbar": {
              "outlinewidth": 0,
              "ticks": ""
             }
            },
            "type": "scatter3d"
           }
          ],
          "scattercarpet": [
           {
            "marker": {
             "colorbar": {
              "outlinewidth": 0,
              "ticks": ""
             }
            },
            "type": "scattercarpet"
           }
          ],
          "scattergeo": [
           {
            "marker": {
             "colorbar": {
              "outlinewidth": 0,
              "ticks": ""
             }
            },
            "type": "scattergeo"
           }
          ],
          "scattergl": [
           {
            "marker": {
             "colorbar": {
              "outlinewidth": 0,
              "ticks": ""
             }
            },
            "type": "scattergl"
           }
          ],
          "scattermapbox": [
           {
            "marker": {
             "colorbar": {
              "outlinewidth": 0,
              "ticks": ""
             }
            },
            "type": "scattermapbox"
           }
          ],
          "scatterpolar": [
           {
            "marker": {
             "colorbar": {
              "outlinewidth": 0,
              "ticks": ""
             }
            },
            "type": "scatterpolar"
           }
          ],
          "scatterpolargl": [
           {
            "marker": {
             "colorbar": {
              "outlinewidth": 0,
              "ticks": ""
             }
            },
            "type": "scatterpolargl"
           }
          ],
          "scatterternary": [
           {
            "marker": {
             "colorbar": {
              "outlinewidth": 0,
              "ticks": ""
             }
            },
            "type": "scatterternary"
           }
          ],
          "surface": [
           {
            "colorbar": {
             "outlinewidth": 0,
             "ticks": ""
            },
            "colorscale": [
             [
              0,
              "#0d0887"
             ],
             [
              0.1111111111111111,
              "#46039f"
             ],
             [
              0.2222222222222222,
              "#7201a8"
             ],
             [
              0.3333333333333333,
              "#9c179e"
             ],
             [
              0.4444444444444444,
              "#bd3786"
             ],
             [
              0.5555555555555556,
              "#d8576b"
             ],
             [
              0.6666666666666666,
              "#ed7953"
             ],
             [
              0.7777777777777778,
              "#fb9f3a"
             ],
             [
              0.8888888888888888,
              "#fdca26"
             ],
             [
              1,
              "#f0f921"
             ]
            ],
            "type": "surface"
           }
          ],
          "table": [
           {
            "cells": {
             "fill": {
              "color": "#EBF0F8"
             },
             "line": {
              "color": "white"
             }
            },
            "header": {
             "fill": {
              "color": "#C8D4E3"
             },
             "line": {
              "color": "white"
             }
            },
            "type": "table"
           }
          ]
         },
         "layout": {
          "annotationdefaults": {
           "arrowcolor": "#2a3f5f",
           "arrowhead": 0,
           "arrowwidth": 1
          },
          "autotypenumbers": "strict",
          "coloraxis": {
           "colorbar": {
            "outlinewidth": 0,
            "ticks": ""
           }
          },
          "colorscale": {
           "diverging": [
            [
             0,
             "#8e0152"
            ],
            [
             0.1,
             "#c51b7d"
            ],
            [
             0.2,
             "#de77ae"
            ],
            [
             0.3,
             "#f1b6da"
            ],
            [
             0.4,
             "#fde0ef"
            ],
            [
             0.5,
             "#f7f7f7"
            ],
            [
             0.6,
             "#e6f5d0"
            ],
            [
             0.7,
             "#b8e186"
            ],
            [
             0.8,
             "#7fbc41"
            ],
            [
             0.9,
             "#4d9221"
            ],
            [
             1,
             "#276419"
            ]
           ],
           "sequential": [
            [
             0,
             "#0d0887"
            ],
            [
             0.1111111111111111,
             "#46039f"
            ],
            [
             0.2222222222222222,
             "#7201a8"
            ],
            [
             0.3333333333333333,
             "#9c179e"
            ],
            [
             0.4444444444444444,
             "#bd3786"
            ],
            [
             0.5555555555555556,
             "#d8576b"
            ],
            [
             0.6666666666666666,
             "#ed7953"
            ],
            [
             0.7777777777777778,
             "#fb9f3a"
            ],
            [
             0.8888888888888888,
             "#fdca26"
            ],
            [
             1,
             "#f0f921"
            ]
           ],
           "sequentialminus": [
            [
             0,
             "#0d0887"
            ],
            [
             0.1111111111111111,
             "#46039f"
            ],
            [
             0.2222222222222222,
             "#7201a8"
            ],
            [
             0.3333333333333333,
             "#9c179e"
            ],
            [
             0.4444444444444444,
             "#bd3786"
            ],
            [
             0.5555555555555556,
             "#d8576b"
            ],
            [
             0.6666666666666666,
             "#ed7953"
            ],
            [
             0.7777777777777778,
             "#fb9f3a"
            ],
            [
             0.8888888888888888,
             "#fdca26"
            ],
            [
             1,
             "#f0f921"
            ]
           ]
          },
          "colorway": [
           "#636efa",
           "#EF553B",
           "#00cc96",
           "#ab63fa",
           "#FFA15A",
           "#19d3f3",
           "#FF6692",
           "#B6E880",
           "#FF97FF",
           "#FECB52"
          ],
          "font": {
           "color": "#2a3f5f"
          },
          "geo": {
           "bgcolor": "white",
           "lakecolor": "white",
           "landcolor": "#E5ECF6",
           "showlakes": true,
           "showland": true,
           "subunitcolor": "white"
          },
          "hoverlabel": {
           "align": "left"
          },
          "hovermode": "closest",
          "mapbox": {
           "style": "light"
          },
          "paper_bgcolor": "white",
          "plot_bgcolor": "#E5ECF6",
          "polar": {
           "angularaxis": {
            "gridcolor": "white",
            "linecolor": "white",
            "ticks": ""
           },
           "bgcolor": "#E5ECF6",
           "radialaxis": {
            "gridcolor": "white",
            "linecolor": "white",
            "ticks": ""
           }
          },
          "scene": {
           "xaxis": {
            "backgroundcolor": "#E5ECF6",
            "gridcolor": "white",
            "gridwidth": 2,
            "linecolor": "white",
            "showbackground": true,
            "ticks": "",
            "zerolinecolor": "white"
           },
           "yaxis": {
            "backgroundcolor": "#E5ECF6",
            "gridcolor": "white",
            "gridwidth": 2,
            "linecolor": "white",
            "showbackground": true,
            "ticks": "",
            "zerolinecolor": "white"
           },
           "zaxis": {
            "backgroundcolor": "#E5ECF6",
            "gridcolor": "white",
            "gridwidth": 2,
            "linecolor": "white",
            "showbackground": true,
            "ticks": "",
            "zerolinecolor": "white"
           }
          },
          "shapedefaults": {
           "line": {
            "color": "#2a3f5f"
           }
          },
          "ternary": {
           "aaxis": {
            "gridcolor": "white",
            "linecolor": "white",
            "ticks": ""
           },
           "baxis": {
            "gridcolor": "white",
            "linecolor": "white",
            "ticks": ""
           },
           "bgcolor": "#E5ECF6",
           "caxis": {
            "gridcolor": "white",
            "linecolor": "white",
            "ticks": ""
           }
          },
          "title": {
           "x": 0.05
          },
          "xaxis": {
           "automargin": true,
           "gridcolor": "white",
           "linecolor": "white",
           "ticks": "",
           "title": {
            "standoff": 15
           },
           "zerolinecolor": "white",
           "zerolinewidth": 2
          },
          "yaxis": {
           "automargin": true,
           "gridcolor": "white",
           "linecolor": "white",
           "ticks": "",
           "title": {
            "standoff": 15
           },
           "zerolinecolor": "white",
           "zerolinewidth": 2
          }
         }
        },
        "title": {
         "text": "Spend/Customer"
        },
        "xaxis": {
         "anchor": "y",
         "categoryarray": [
          "Cluster 1",
          "Cluster 2",
          "Cluster 3",
          "Cluster 4"
         ],
         "categoryorder": "array",
         "domain": [
          0,
          1
         ],
         "title": {
          "text": "Cluster"
         }
        },
        "yaxis": {
         "anchor": "x",
         "domain": [
          0,
          1
         ],
         "title": {
          "text": "Spend/Purchase"
         }
        }
       }
      }
     },
     "metadata": {},
     "output_type": "display_data"
    }
   ],
   "source": [
    "df_plot = df_[['Total_Purchases', 'Cluster', 'Total_Spend']].groupby(['Cluster']).agg({\"Total_Spend\":\"sum\", \"Total_Purchases\":\"sum\"})\n",
    "df_plot.reset_index(inplace=True)\n",
    "df_plot.rename(columns={\"Total_Purchases\":\"Total Purchases\", \"Total_Spend\":\"Spend\"}, inplace=True)\n",
    "\n",
    "df_plot['Spend/Purchase'] = df_plot['Spend']/df_plot['Total Purchases']\n",
    "fig = px.bar(df_plot, x=\"Cluster\", y=\"Spend/Purchase\",\n",
    "             color='Cluster',\n",
    "             height=400)\n",
    "fig.update_layout(title=\"Spend/Customer\")\n",
    "fig.show()"
   ]
  },
  {
   "cell_type": "code",
   "execution_count": 572,
   "metadata": {},
   "outputs": [
    {
     "data": {
      "application/vnd.plotly.v1+json": {
       "config": {
        "plotlyServerURL": "https://plot.ly"
       },
       "data": [
        {
         "alignmentgroup": "True",
         "hovertemplate": "Cluster=%{x}<br>Deals/Customers=%{y}<extra></extra>",
         "legendgroup": "Cluster 1",
         "marker": {
          "color": "#636efa",
          "pattern": {
           "shape": ""
          }
         },
         "name": "Cluster 1",
         "offsetgroup": "Cluster 1",
         "orientation": "v",
         "showlegend": true,
         "textposition": "auto",
         "type": "bar",
         "x": [
          "Cluster 1"
         ],
         "xaxis": "x",
         "y": [
          2.467741935483871
         ],
         "yaxis": "y"
        },
        {
         "alignmentgroup": "True",
         "hovertemplate": "Cluster=%{x}<br>Deals/Customers=%{y}<extra></extra>",
         "legendgroup": "Cluster 2",
         "marker": {
          "color": "#EF553B",
          "pattern": {
           "shape": ""
          }
         },
         "name": "Cluster 2",
         "offsetgroup": "Cluster 2",
         "orientation": "v",
         "showlegend": true,
         "textposition": "auto",
         "type": "bar",
         "x": [
          "Cluster 2"
         ],
         "xaxis": "x",
         "y": [
          2.618279569892473
         ],
         "yaxis": "y"
        },
        {
         "alignmentgroup": "True",
         "hovertemplate": "Cluster=%{x}<br>Deals/Customers=%{y}<extra></extra>",
         "legendgroup": "Cluster 3",
         "marker": {
          "color": "#00cc96",
          "pattern": {
           "shape": ""
          }
         },
         "name": "Cluster 3",
         "offsetgroup": "Cluster 3",
         "orientation": "v",
         "showlegend": true,
         "textposition": "auto",
         "type": "bar",
         "x": [
          "Cluster 3"
         ],
         "xaxis": "x",
         "y": [
          1.9791666666666667
         ],
         "yaxis": "y"
        },
        {
         "alignmentgroup": "True",
         "hovertemplate": "Cluster=%{x}<br>Deals/Customers=%{y}<extra></extra>",
         "legendgroup": "Cluster 4",
         "marker": {
          "color": "#ab63fa",
          "pattern": {
           "shape": ""
          }
         },
         "name": "Cluster 4",
         "offsetgroup": "Cluster 4",
         "orientation": "v",
         "showlegend": true,
         "textposition": "auto",
         "type": "bar",
         "x": [
          "Cluster 4"
         ],
         "xaxis": "x",
         "y": [
          2.0338645418326693
         ],
         "yaxis": "y"
        }
       ],
       "layout": {
        "barmode": "relative",
        "height": 400,
        "legend": {
         "title": {
          "text": "Cluster"
         },
         "tracegroupgap": 0
        },
        "margin": {
         "t": 60
        },
        "template": {
         "data": {
          "bar": [
           {
            "error_x": {
             "color": "#2a3f5f"
            },
            "error_y": {
             "color": "#2a3f5f"
            },
            "marker": {
             "line": {
              "color": "#E5ECF6",
              "width": 0.5
             },
             "pattern": {
              "fillmode": "overlay",
              "size": 10,
              "solidity": 0.2
             }
            },
            "type": "bar"
           }
          ],
          "barpolar": [
           {
            "marker": {
             "line": {
              "color": "#E5ECF6",
              "width": 0.5
             },
             "pattern": {
              "fillmode": "overlay",
              "size": 10,
              "solidity": 0.2
             }
            },
            "type": "barpolar"
           }
          ],
          "carpet": [
           {
            "aaxis": {
             "endlinecolor": "#2a3f5f",
             "gridcolor": "white",
             "linecolor": "white",
             "minorgridcolor": "white",
             "startlinecolor": "#2a3f5f"
            },
            "baxis": {
             "endlinecolor": "#2a3f5f",
             "gridcolor": "white",
             "linecolor": "white",
             "minorgridcolor": "white",
             "startlinecolor": "#2a3f5f"
            },
            "type": "carpet"
           }
          ],
          "choropleth": [
           {
            "colorbar": {
             "outlinewidth": 0,
             "ticks": ""
            },
            "type": "choropleth"
           }
          ],
          "contour": [
           {
            "colorbar": {
             "outlinewidth": 0,
             "ticks": ""
            },
            "colorscale": [
             [
              0,
              "#0d0887"
             ],
             [
              0.1111111111111111,
              "#46039f"
             ],
             [
              0.2222222222222222,
              "#7201a8"
             ],
             [
              0.3333333333333333,
              "#9c179e"
             ],
             [
              0.4444444444444444,
              "#bd3786"
             ],
             [
              0.5555555555555556,
              "#d8576b"
             ],
             [
              0.6666666666666666,
              "#ed7953"
             ],
             [
              0.7777777777777778,
              "#fb9f3a"
             ],
             [
              0.8888888888888888,
              "#fdca26"
             ],
             [
              1,
              "#f0f921"
             ]
            ],
            "type": "contour"
           }
          ],
          "contourcarpet": [
           {
            "colorbar": {
             "outlinewidth": 0,
             "ticks": ""
            },
            "type": "contourcarpet"
           }
          ],
          "heatmap": [
           {
            "colorbar": {
             "outlinewidth": 0,
             "ticks": ""
            },
            "colorscale": [
             [
              0,
              "#0d0887"
             ],
             [
              0.1111111111111111,
              "#46039f"
             ],
             [
              0.2222222222222222,
              "#7201a8"
             ],
             [
              0.3333333333333333,
              "#9c179e"
             ],
             [
              0.4444444444444444,
              "#bd3786"
             ],
             [
              0.5555555555555556,
              "#d8576b"
             ],
             [
              0.6666666666666666,
              "#ed7953"
             ],
             [
              0.7777777777777778,
              "#fb9f3a"
             ],
             [
              0.8888888888888888,
              "#fdca26"
             ],
             [
              1,
              "#f0f921"
             ]
            ],
            "type": "heatmap"
           }
          ],
          "heatmapgl": [
           {
            "colorbar": {
             "outlinewidth": 0,
             "ticks": ""
            },
            "colorscale": [
             [
              0,
              "#0d0887"
             ],
             [
              0.1111111111111111,
              "#46039f"
             ],
             [
              0.2222222222222222,
              "#7201a8"
             ],
             [
              0.3333333333333333,
              "#9c179e"
             ],
             [
              0.4444444444444444,
              "#bd3786"
             ],
             [
              0.5555555555555556,
              "#d8576b"
             ],
             [
              0.6666666666666666,
              "#ed7953"
             ],
             [
              0.7777777777777778,
              "#fb9f3a"
             ],
             [
              0.8888888888888888,
              "#fdca26"
             ],
             [
              1,
              "#f0f921"
             ]
            ],
            "type": "heatmapgl"
           }
          ],
          "histogram": [
           {
            "marker": {
             "pattern": {
              "fillmode": "overlay",
              "size": 10,
              "solidity": 0.2
             }
            },
            "type": "histogram"
           }
          ],
          "histogram2d": [
           {
            "colorbar": {
             "outlinewidth": 0,
             "ticks": ""
            },
            "colorscale": [
             [
              0,
              "#0d0887"
             ],
             [
              0.1111111111111111,
              "#46039f"
             ],
             [
              0.2222222222222222,
              "#7201a8"
             ],
             [
              0.3333333333333333,
              "#9c179e"
             ],
             [
              0.4444444444444444,
              "#bd3786"
             ],
             [
              0.5555555555555556,
              "#d8576b"
             ],
             [
              0.6666666666666666,
              "#ed7953"
             ],
             [
              0.7777777777777778,
              "#fb9f3a"
             ],
             [
              0.8888888888888888,
              "#fdca26"
             ],
             [
              1,
              "#f0f921"
             ]
            ],
            "type": "histogram2d"
           }
          ],
          "histogram2dcontour": [
           {
            "colorbar": {
             "outlinewidth": 0,
             "ticks": ""
            },
            "colorscale": [
             [
              0,
              "#0d0887"
             ],
             [
              0.1111111111111111,
              "#46039f"
             ],
             [
              0.2222222222222222,
              "#7201a8"
             ],
             [
              0.3333333333333333,
              "#9c179e"
             ],
             [
              0.4444444444444444,
              "#bd3786"
             ],
             [
              0.5555555555555556,
              "#d8576b"
             ],
             [
              0.6666666666666666,
              "#ed7953"
             ],
             [
              0.7777777777777778,
              "#fb9f3a"
             ],
             [
              0.8888888888888888,
              "#fdca26"
             ],
             [
              1,
              "#f0f921"
             ]
            ],
            "type": "histogram2dcontour"
           }
          ],
          "mesh3d": [
           {
            "colorbar": {
             "outlinewidth": 0,
             "ticks": ""
            },
            "type": "mesh3d"
           }
          ],
          "parcoords": [
           {
            "line": {
             "colorbar": {
              "outlinewidth": 0,
              "ticks": ""
             }
            },
            "type": "parcoords"
           }
          ],
          "pie": [
           {
            "automargin": true,
            "type": "pie"
           }
          ],
          "scatter": [
           {
            "fillpattern": {
             "fillmode": "overlay",
             "size": 10,
             "solidity": 0.2
            },
            "type": "scatter"
           }
          ],
          "scatter3d": [
           {
            "line": {
             "colorbar": {
              "outlinewidth": 0,
              "ticks": ""
             }
            },
            "marker": {
             "colorbar": {
              "outlinewidth": 0,
              "ticks": ""
             }
            },
            "type": "scatter3d"
           }
          ],
          "scattercarpet": [
           {
            "marker": {
             "colorbar": {
              "outlinewidth": 0,
              "ticks": ""
             }
            },
            "type": "scattercarpet"
           }
          ],
          "scattergeo": [
           {
            "marker": {
             "colorbar": {
              "outlinewidth": 0,
              "ticks": ""
             }
            },
            "type": "scattergeo"
           }
          ],
          "scattergl": [
           {
            "marker": {
             "colorbar": {
              "outlinewidth": 0,
              "ticks": ""
             }
            },
            "type": "scattergl"
           }
          ],
          "scattermapbox": [
           {
            "marker": {
             "colorbar": {
              "outlinewidth": 0,
              "ticks": ""
             }
            },
            "type": "scattermapbox"
           }
          ],
          "scatterpolar": [
           {
            "marker": {
             "colorbar": {
              "outlinewidth": 0,
              "ticks": ""
             }
            },
            "type": "scatterpolar"
           }
          ],
          "scatterpolargl": [
           {
            "marker": {
             "colorbar": {
              "outlinewidth": 0,
              "ticks": ""
             }
            },
            "type": "scatterpolargl"
           }
          ],
          "scatterternary": [
           {
            "marker": {
             "colorbar": {
              "outlinewidth": 0,
              "ticks": ""
             }
            },
            "type": "scatterternary"
           }
          ],
          "surface": [
           {
            "colorbar": {
             "outlinewidth": 0,
             "ticks": ""
            },
            "colorscale": [
             [
              0,
              "#0d0887"
             ],
             [
              0.1111111111111111,
              "#46039f"
             ],
             [
              0.2222222222222222,
              "#7201a8"
             ],
             [
              0.3333333333333333,
              "#9c179e"
             ],
             [
              0.4444444444444444,
              "#bd3786"
             ],
             [
              0.5555555555555556,
              "#d8576b"
             ],
             [
              0.6666666666666666,
              "#ed7953"
             ],
             [
              0.7777777777777778,
              "#fb9f3a"
             ],
             [
              0.8888888888888888,
              "#fdca26"
             ],
             [
              1,
              "#f0f921"
             ]
            ],
            "type": "surface"
           }
          ],
          "table": [
           {
            "cells": {
             "fill": {
              "color": "#EBF0F8"
             },
             "line": {
              "color": "white"
             }
            },
            "header": {
             "fill": {
              "color": "#C8D4E3"
             },
             "line": {
              "color": "white"
             }
            },
            "type": "table"
           }
          ]
         },
         "layout": {
          "annotationdefaults": {
           "arrowcolor": "#2a3f5f",
           "arrowhead": 0,
           "arrowwidth": 1
          },
          "autotypenumbers": "strict",
          "coloraxis": {
           "colorbar": {
            "outlinewidth": 0,
            "ticks": ""
           }
          },
          "colorscale": {
           "diverging": [
            [
             0,
             "#8e0152"
            ],
            [
             0.1,
             "#c51b7d"
            ],
            [
             0.2,
             "#de77ae"
            ],
            [
             0.3,
             "#f1b6da"
            ],
            [
             0.4,
             "#fde0ef"
            ],
            [
             0.5,
             "#f7f7f7"
            ],
            [
             0.6,
             "#e6f5d0"
            ],
            [
             0.7,
             "#b8e186"
            ],
            [
             0.8,
             "#7fbc41"
            ],
            [
             0.9,
             "#4d9221"
            ],
            [
             1,
             "#276419"
            ]
           ],
           "sequential": [
            [
             0,
             "#0d0887"
            ],
            [
             0.1111111111111111,
             "#46039f"
            ],
            [
             0.2222222222222222,
             "#7201a8"
            ],
            [
             0.3333333333333333,
             "#9c179e"
            ],
            [
             0.4444444444444444,
             "#bd3786"
            ],
            [
             0.5555555555555556,
             "#d8576b"
            ],
            [
             0.6666666666666666,
             "#ed7953"
            ],
            [
             0.7777777777777778,
             "#fb9f3a"
            ],
            [
             0.8888888888888888,
             "#fdca26"
            ],
            [
             1,
             "#f0f921"
            ]
           ],
           "sequentialminus": [
            [
             0,
             "#0d0887"
            ],
            [
             0.1111111111111111,
             "#46039f"
            ],
            [
             0.2222222222222222,
             "#7201a8"
            ],
            [
             0.3333333333333333,
             "#9c179e"
            ],
            [
             0.4444444444444444,
             "#bd3786"
            ],
            [
             0.5555555555555556,
             "#d8576b"
            ],
            [
             0.6666666666666666,
             "#ed7953"
            ],
            [
             0.7777777777777778,
             "#fb9f3a"
            ],
            [
             0.8888888888888888,
             "#fdca26"
            ],
            [
             1,
             "#f0f921"
            ]
           ]
          },
          "colorway": [
           "#636efa",
           "#EF553B",
           "#00cc96",
           "#ab63fa",
           "#FFA15A",
           "#19d3f3",
           "#FF6692",
           "#B6E880",
           "#FF97FF",
           "#FECB52"
          ],
          "font": {
           "color": "#2a3f5f"
          },
          "geo": {
           "bgcolor": "white",
           "lakecolor": "white",
           "landcolor": "#E5ECF6",
           "showlakes": true,
           "showland": true,
           "subunitcolor": "white"
          },
          "hoverlabel": {
           "align": "left"
          },
          "hovermode": "closest",
          "mapbox": {
           "style": "light"
          },
          "paper_bgcolor": "white",
          "plot_bgcolor": "#E5ECF6",
          "polar": {
           "angularaxis": {
            "gridcolor": "white",
            "linecolor": "white",
            "ticks": ""
           },
           "bgcolor": "#E5ECF6",
           "radialaxis": {
            "gridcolor": "white",
            "linecolor": "white",
            "ticks": ""
           }
          },
          "scene": {
           "xaxis": {
            "backgroundcolor": "#E5ECF6",
            "gridcolor": "white",
            "gridwidth": 2,
            "linecolor": "white",
            "showbackground": true,
            "ticks": "",
            "zerolinecolor": "white"
           },
           "yaxis": {
            "backgroundcolor": "#E5ECF6",
            "gridcolor": "white",
            "gridwidth": 2,
            "linecolor": "white",
            "showbackground": true,
            "ticks": "",
            "zerolinecolor": "white"
           },
           "zaxis": {
            "backgroundcolor": "#E5ECF6",
            "gridcolor": "white",
            "gridwidth": 2,
            "linecolor": "white",
            "showbackground": true,
            "ticks": "",
            "zerolinecolor": "white"
           }
          },
          "shapedefaults": {
           "line": {
            "color": "#2a3f5f"
           }
          },
          "ternary": {
           "aaxis": {
            "gridcolor": "white",
            "linecolor": "white",
            "ticks": ""
           },
           "baxis": {
            "gridcolor": "white",
            "linecolor": "white",
            "ticks": ""
           },
           "bgcolor": "#E5ECF6",
           "caxis": {
            "gridcolor": "white",
            "linecolor": "white",
            "ticks": ""
           }
          },
          "title": {
           "x": 0.05
          },
          "xaxis": {
           "automargin": true,
           "gridcolor": "white",
           "linecolor": "white",
           "ticks": "",
           "title": {
            "standoff": 15
           },
           "zerolinecolor": "white",
           "zerolinewidth": 2
          },
          "yaxis": {
           "automargin": true,
           "gridcolor": "white",
           "linecolor": "white",
           "ticks": "",
           "title": {
            "standoff": 15
           },
           "zerolinecolor": "white",
           "zerolinewidth": 2
          }
         }
        },
        "title": {
         "text": "Deals/Customers"
        },
        "xaxis": {
         "anchor": "y",
         "categoryarray": [
          "Cluster 1",
          "Cluster 2",
          "Cluster 3",
          "Cluster 4"
         ],
         "categoryorder": "array",
         "domain": [
          0,
          1
         ],
         "title": {
          "text": "Cluster"
         }
        },
        "yaxis": {
         "anchor": "x",
         "domain": [
          0,
          1
         ],
         "title": {
          "text": "Deals/Customers"
         }
        }
       }
      }
     },
     "metadata": {},
     "output_type": "display_data"
    }
   ],
   "source": [
    "df_plot = df_[['NumDealsPurchases', 'Cluster', 'ID']].groupby(['Cluster']).agg({\"ID\":\"count\", \"NumDealsPurchases\":\"sum\"})\n",
    "df_plot.reset_index(inplace=True)\n",
    "df_plot.rename(columns={\"ID\":\"Total Customers\", \"NumDealsPurchases\":\"Deals\"}, inplace=True)\n",
    "\n",
    "df_plot['Deals/Customers'] = df_plot['Deals']/df_plot['Total Customers']\n",
    "fig = px.bar(df_plot, x=\"Cluster\", y=\"Deals/Customers\",\n",
    "             color='Cluster',\n",
    "             height=400)\n",
    "fig.update_layout(title=\"Deals/Customers\")\n",
    "fig.show()"
   ]
  },
  {
   "cell_type": "code",
   "execution_count": 573,
   "metadata": {},
   "outputs": [
    {
     "data": {
      "application/vnd.plotly.v1+json": {
       "config": {
        "plotlyServerURL": "https://plot.ly"
       },
       "data": [
        {
         "alignmentgroup": "True",
         "hovertemplate": "Cluster=%{x}<br>Days since Enrollment=%{y}<extra></extra>",
         "legendgroup": "Cluster 1",
         "marker": {
          "color": "#636efa",
          "pattern": {
           "shape": ""
          }
         },
         "name": "Cluster 1",
         "offsetgroup": "Cluster 1",
         "orientation": "v",
         "showlegend": true,
         "textposition": "auto",
         "type": "bar",
         "x": [
          "Cluster 1"
         ],
         "xaxis": "x",
         "y": [
          336.1648745519713
         ],
         "yaxis": "y"
        },
        {
         "alignmentgroup": "True",
         "hovertemplate": "Cluster=%{x}<br>Days since Enrollment=%{y}<extra></extra>",
         "legendgroup": "Cluster 2",
         "marker": {
          "color": "#EF553B",
          "pattern": {
           "shape": ""
          }
         },
         "name": "Cluster 2",
         "offsetgroup": "Cluster 2",
         "orientation": "v",
         "showlegend": true,
         "textposition": "auto",
         "type": "bar",
         "x": [
          "Cluster 2"
         ],
         "xaxis": "x",
         "y": [
          337.9126344086022
         ],
         "yaxis": "y"
        },
        {
         "alignmentgroup": "True",
         "hovertemplate": "Cluster=%{x}<br>Days since Enrollment=%{y}<extra></extra>",
         "legendgroup": "Cluster 3",
         "marker": {
          "color": "#00cc96",
          "pattern": {
           "shape": ""
          }
         },
         "name": "Cluster 3",
         "offsetgroup": "Cluster 3",
         "orientation": "v",
         "showlegend": true,
         "textposition": "auto",
         "type": "bar",
         "x": [
          "Cluster 3"
         ],
         "xaxis": "x",
         "y": [
          390.2453703703704
         ],
         "yaxis": "y"
        },
        {
         "alignmentgroup": "True",
         "hovertemplate": "Cluster=%{x}<br>Days since Enrollment=%{y}<extra></extra>",
         "legendgroup": "Cluster 4",
         "marker": {
          "color": "#ab63fa",
          "pattern": {
           "shape": ""
          }
         },
         "name": "Cluster 4",
         "offsetgroup": "Cluster 4",
         "orientation": "v",
         "showlegend": true,
         "textposition": "auto",
         "type": "bar",
         "x": [
          "Cluster 4"
         ],
         "xaxis": "x",
         "y": [
          365.46613545816734
         ],
         "yaxis": "y"
        }
       ],
       "layout": {
        "barmode": "relative",
        "height": 400,
        "legend": {
         "title": {
          "text": "Cluster"
         },
         "tracegroupgap": 0
        },
        "margin": {
         "t": 60
        },
        "template": {
         "data": {
          "bar": [
           {
            "error_x": {
             "color": "#2a3f5f"
            },
            "error_y": {
             "color": "#2a3f5f"
            },
            "marker": {
             "line": {
              "color": "#E5ECF6",
              "width": 0.5
             },
             "pattern": {
              "fillmode": "overlay",
              "size": 10,
              "solidity": 0.2
             }
            },
            "type": "bar"
           }
          ],
          "barpolar": [
           {
            "marker": {
             "line": {
              "color": "#E5ECF6",
              "width": 0.5
             },
             "pattern": {
              "fillmode": "overlay",
              "size": 10,
              "solidity": 0.2
             }
            },
            "type": "barpolar"
           }
          ],
          "carpet": [
           {
            "aaxis": {
             "endlinecolor": "#2a3f5f",
             "gridcolor": "white",
             "linecolor": "white",
             "minorgridcolor": "white",
             "startlinecolor": "#2a3f5f"
            },
            "baxis": {
             "endlinecolor": "#2a3f5f",
             "gridcolor": "white",
             "linecolor": "white",
             "minorgridcolor": "white",
             "startlinecolor": "#2a3f5f"
            },
            "type": "carpet"
           }
          ],
          "choropleth": [
           {
            "colorbar": {
             "outlinewidth": 0,
             "ticks": ""
            },
            "type": "choropleth"
           }
          ],
          "contour": [
           {
            "colorbar": {
             "outlinewidth": 0,
             "ticks": ""
            },
            "colorscale": [
             [
              0,
              "#0d0887"
             ],
             [
              0.1111111111111111,
              "#46039f"
             ],
             [
              0.2222222222222222,
              "#7201a8"
             ],
             [
              0.3333333333333333,
              "#9c179e"
             ],
             [
              0.4444444444444444,
              "#bd3786"
             ],
             [
              0.5555555555555556,
              "#d8576b"
             ],
             [
              0.6666666666666666,
              "#ed7953"
             ],
             [
              0.7777777777777778,
              "#fb9f3a"
             ],
             [
              0.8888888888888888,
              "#fdca26"
             ],
             [
              1,
              "#f0f921"
             ]
            ],
            "type": "contour"
           }
          ],
          "contourcarpet": [
           {
            "colorbar": {
             "outlinewidth": 0,
             "ticks": ""
            },
            "type": "contourcarpet"
           }
          ],
          "heatmap": [
           {
            "colorbar": {
             "outlinewidth": 0,
             "ticks": ""
            },
            "colorscale": [
             [
              0,
              "#0d0887"
             ],
             [
              0.1111111111111111,
              "#46039f"
             ],
             [
              0.2222222222222222,
              "#7201a8"
             ],
             [
              0.3333333333333333,
              "#9c179e"
             ],
             [
              0.4444444444444444,
              "#bd3786"
             ],
             [
              0.5555555555555556,
              "#d8576b"
             ],
             [
              0.6666666666666666,
              "#ed7953"
             ],
             [
              0.7777777777777778,
              "#fb9f3a"
             ],
             [
              0.8888888888888888,
              "#fdca26"
             ],
             [
              1,
              "#f0f921"
             ]
            ],
            "type": "heatmap"
           }
          ],
          "heatmapgl": [
           {
            "colorbar": {
             "outlinewidth": 0,
             "ticks": ""
            },
            "colorscale": [
             [
              0,
              "#0d0887"
             ],
             [
              0.1111111111111111,
              "#46039f"
             ],
             [
              0.2222222222222222,
              "#7201a8"
             ],
             [
              0.3333333333333333,
              "#9c179e"
             ],
             [
              0.4444444444444444,
              "#bd3786"
             ],
             [
              0.5555555555555556,
              "#d8576b"
             ],
             [
              0.6666666666666666,
              "#ed7953"
             ],
             [
              0.7777777777777778,
              "#fb9f3a"
             ],
             [
              0.8888888888888888,
              "#fdca26"
             ],
             [
              1,
              "#f0f921"
             ]
            ],
            "type": "heatmapgl"
           }
          ],
          "histogram": [
           {
            "marker": {
             "pattern": {
              "fillmode": "overlay",
              "size": 10,
              "solidity": 0.2
             }
            },
            "type": "histogram"
           }
          ],
          "histogram2d": [
           {
            "colorbar": {
             "outlinewidth": 0,
             "ticks": ""
            },
            "colorscale": [
             [
              0,
              "#0d0887"
             ],
             [
              0.1111111111111111,
              "#46039f"
             ],
             [
              0.2222222222222222,
              "#7201a8"
             ],
             [
              0.3333333333333333,
              "#9c179e"
             ],
             [
              0.4444444444444444,
              "#bd3786"
             ],
             [
              0.5555555555555556,
              "#d8576b"
             ],
             [
              0.6666666666666666,
              "#ed7953"
             ],
             [
              0.7777777777777778,
              "#fb9f3a"
             ],
             [
              0.8888888888888888,
              "#fdca26"
             ],
             [
              1,
              "#f0f921"
             ]
            ],
            "type": "histogram2d"
           }
          ],
          "histogram2dcontour": [
           {
            "colorbar": {
             "outlinewidth": 0,
             "ticks": ""
            },
            "colorscale": [
             [
              0,
              "#0d0887"
             ],
             [
              0.1111111111111111,
              "#46039f"
             ],
             [
              0.2222222222222222,
              "#7201a8"
             ],
             [
              0.3333333333333333,
              "#9c179e"
             ],
             [
              0.4444444444444444,
              "#bd3786"
             ],
             [
              0.5555555555555556,
              "#d8576b"
             ],
             [
              0.6666666666666666,
              "#ed7953"
             ],
             [
              0.7777777777777778,
              "#fb9f3a"
             ],
             [
              0.8888888888888888,
              "#fdca26"
             ],
             [
              1,
              "#f0f921"
             ]
            ],
            "type": "histogram2dcontour"
           }
          ],
          "mesh3d": [
           {
            "colorbar": {
             "outlinewidth": 0,
             "ticks": ""
            },
            "type": "mesh3d"
           }
          ],
          "parcoords": [
           {
            "line": {
             "colorbar": {
              "outlinewidth": 0,
              "ticks": ""
             }
            },
            "type": "parcoords"
           }
          ],
          "pie": [
           {
            "automargin": true,
            "type": "pie"
           }
          ],
          "scatter": [
           {
            "fillpattern": {
             "fillmode": "overlay",
             "size": 10,
             "solidity": 0.2
            },
            "type": "scatter"
           }
          ],
          "scatter3d": [
           {
            "line": {
             "colorbar": {
              "outlinewidth": 0,
              "ticks": ""
             }
            },
            "marker": {
             "colorbar": {
              "outlinewidth": 0,
              "ticks": ""
             }
            },
            "type": "scatter3d"
           }
          ],
          "scattercarpet": [
           {
            "marker": {
             "colorbar": {
              "outlinewidth": 0,
              "ticks": ""
             }
            },
            "type": "scattercarpet"
           }
          ],
          "scattergeo": [
           {
            "marker": {
             "colorbar": {
              "outlinewidth": 0,
              "ticks": ""
             }
            },
            "type": "scattergeo"
           }
          ],
          "scattergl": [
           {
            "marker": {
             "colorbar": {
              "outlinewidth": 0,
              "ticks": ""
             }
            },
            "type": "scattergl"
           }
          ],
          "scattermapbox": [
           {
            "marker": {
             "colorbar": {
              "outlinewidth": 0,
              "ticks": ""
             }
            },
            "type": "scattermapbox"
           }
          ],
          "scatterpolar": [
           {
            "marker": {
             "colorbar": {
              "outlinewidth": 0,
              "ticks": ""
             }
            },
            "type": "scatterpolar"
           }
          ],
          "scatterpolargl": [
           {
            "marker": {
             "colorbar": {
              "outlinewidth": 0,
              "ticks": ""
             }
            },
            "type": "scatterpolargl"
           }
          ],
          "scatterternary": [
           {
            "marker": {
             "colorbar": {
              "outlinewidth": 0,
              "ticks": ""
             }
            },
            "type": "scatterternary"
           }
          ],
          "surface": [
           {
            "colorbar": {
             "outlinewidth": 0,
             "ticks": ""
            },
            "colorscale": [
             [
              0,
              "#0d0887"
             ],
             [
              0.1111111111111111,
              "#46039f"
             ],
             [
              0.2222222222222222,
              "#7201a8"
             ],
             [
              0.3333333333333333,
              "#9c179e"
             ],
             [
              0.4444444444444444,
              "#bd3786"
             ],
             [
              0.5555555555555556,
              "#d8576b"
             ],
             [
              0.6666666666666666,
              "#ed7953"
             ],
             [
              0.7777777777777778,
              "#fb9f3a"
             ],
             [
              0.8888888888888888,
              "#fdca26"
             ],
             [
              1,
              "#f0f921"
             ]
            ],
            "type": "surface"
           }
          ],
          "table": [
           {
            "cells": {
             "fill": {
              "color": "#EBF0F8"
             },
             "line": {
              "color": "white"
             }
            },
            "header": {
             "fill": {
              "color": "#C8D4E3"
             },
             "line": {
              "color": "white"
             }
            },
            "type": "table"
           }
          ]
         },
         "layout": {
          "annotationdefaults": {
           "arrowcolor": "#2a3f5f",
           "arrowhead": 0,
           "arrowwidth": 1
          },
          "autotypenumbers": "strict",
          "coloraxis": {
           "colorbar": {
            "outlinewidth": 0,
            "ticks": ""
           }
          },
          "colorscale": {
           "diverging": [
            [
             0,
             "#8e0152"
            ],
            [
             0.1,
             "#c51b7d"
            ],
            [
             0.2,
             "#de77ae"
            ],
            [
             0.3,
             "#f1b6da"
            ],
            [
             0.4,
             "#fde0ef"
            ],
            [
             0.5,
             "#f7f7f7"
            ],
            [
             0.6,
             "#e6f5d0"
            ],
            [
             0.7,
             "#b8e186"
            ],
            [
             0.8,
             "#7fbc41"
            ],
            [
             0.9,
             "#4d9221"
            ],
            [
             1,
             "#276419"
            ]
           ],
           "sequential": [
            [
             0,
             "#0d0887"
            ],
            [
             0.1111111111111111,
             "#46039f"
            ],
            [
             0.2222222222222222,
             "#7201a8"
            ],
            [
             0.3333333333333333,
             "#9c179e"
            ],
            [
             0.4444444444444444,
             "#bd3786"
            ],
            [
             0.5555555555555556,
             "#d8576b"
            ],
            [
             0.6666666666666666,
             "#ed7953"
            ],
            [
             0.7777777777777778,
             "#fb9f3a"
            ],
            [
             0.8888888888888888,
             "#fdca26"
            ],
            [
             1,
             "#f0f921"
            ]
           ],
           "sequentialminus": [
            [
             0,
             "#0d0887"
            ],
            [
             0.1111111111111111,
             "#46039f"
            ],
            [
             0.2222222222222222,
             "#7201a8"
            ],
            [
             0.3333333333333333,
             "#9c179e"
            ],
            [
             0.4444444444444444,
             "#bd3786"
            ],
            [
             0.5555555555555556,
             "#d8576b"
            ],
            [
             0.6666666666666666,
             "#ed7953"
            ],
            [
             0.7777777777777778,
             "#fb9f3a"
            ],
            [
             0.8888888888888888,
             "#fdca26"
            ],
            [
             1,
             "#f0f921"
            ]
           ]
          },
          "colorway": [
           "#636efa",
           "#EF553B",
           "#00cc96",
           "#ab63fa",
           "#FFA15A",
           "#19d3f3",
           "#FF6692",
           "#B6E880",
           "#FF97FF",
           "#FECB52"
          ],
          "font": {
           "color": "#2a3f5f"
          },
          "geo": {
           "bgcolor": "white",
           "lakecolor": "white",
           "landcolor": "#E5ECF6",
           "showlakes": true,
           "showland": true,
           "subunitcolor": "white"
          },
          "hoverlabel": {
           "align": "left"
          },
          "hovermode": "closest",
          "mapbox": {
           "style": "light"
          },
          "paper_bgcolor": "white",
          "plot_bgcolor": "#E5ECF6",
          "polar": {
           "angularaxis": {
            "gridcolor": "white",
            "linecolor": "white",
            "ticks": ""
           },
           "bgcolor": "#E5ECF6",
           "radialaxis": {
            "gridcolor": "white",
            "linecolor": "white",
            "ticks": ""
           }
          },
          "scene": {
           "xaxis": {
            "backgroundcolor": "#E5ECF6",
            "gridcolor": "white",
            "gridwidth": 2,
            "linecolor": "white",
            "showbackground": true,
            "ticks": "",
            "zerolinecolor": "white"
           },
           "yaxis": {
            "backgroundcolor": "#E5ECF6",
            "gridcolor": "white",
            "gridwidth": 2,
            "linecolor": "white",
            "showbackground": true,
            "ticks": "",
            "zerolinecolor": "white"
           },
           "zaxis": {
            "backgroundcolor": "#E5ECF6",
            "gridcolor": "white",
            "gridwidth": 2,
            "linecolor": "white",
            "showbackground": true,
            "ticks": "",
            "zerolinecolor": "white"
           }
          },
          "shapedefaults": {
           "line": {
            "color": "#2a3f5f"
           }
          },
          "ternary": {
           "aaxis": {
            "gridcolor": "white",
            "linecolor": "white",
            "ticks": ""
           },
           "baxis": {
            "gridcolor": "white",
            "linecolor": "white",
            "ticks": ""
           },
           "bgcolor": "#E5ECF6",
           "caxis": {
            "gridcolor": "white",
            "linecolor": "white",
            "ticks": ""
           }
          },
          "title": {
           "x": 0.05
          },
          "xaxis": {
           "automargin": true,
           "gridcolor": "white",
           "linecolor": "white",
           "ticks": "",
           "title": {
            "standoff": 15
           },
           "zerolinecolor": "white",
           "zerolinewidth": 2
          },
          "yaxis": {
           "automargin": true,
           "gridcolor": "white",
           "linecolor": "white",
           "ticks": "",
           "title": {
            "standoff": 15
           },
           "zerolinecolor": "white",
           "zerolinewidth": 2
          }
         }
        },
        "title": {
         "text": "Days since Enrollment"
        },
        "xaxis": {
         "anchor": "y",
         "categoryarray": [
          "Cluster 1",
          "Cluster 2",
          "Cluster 3",
          "Cluster 4"
         ],
         "categoryorder": "array",
         "domain": [
          0,
          1
         ],
         "title": {
          "text": "Cluster"
         }
        },
        "yaxis": {
         "anchor": "x",
         "domain": [
          0,
          1
         ],
         "title": {
          "text": "Days since Enrollment"
         }
        }
       }
      }
     },
     "metadata": {},
     "output_type": "display_data"
    }
   ],
   "source": [
    "df_plot = df_[['Cluster', 'Days_Enrolled']].groupby(['Cluster']).agg({'Days_Enrolled': 'mean'})\n",
    "df_plot.reset_index(inplace=True)\n",
    "df_plot.rename(columns={\"Days_Enrolled\":\"Days since Enrollment\"}, inplace=True)\n",
    "\n",
    "fig = px.bar(df_plot, x=\"Cluster\", y=\"Days since Enrollment\",\n",
    "             color='Cluster',\n",
    "             height=400)\n",
    "fig.update_layout(title=\"Days since Enrollment\")\n",
    "fig.show()"
   ]
  }
 ],
 "metadata": {
  "kernelspec": {
   "display_name": "Python 3",
   "language": "python",
   "name": "python3"
  },
  "language_info": {
   "codemirror_mode": {
    "name": "ipython",
    "version": 3
   },
   "file_extension": ".py",
   "mimetype": "text/x-python",
   "name": "python",
   "nbconvert_exporter": "python",
   "pygments_lexer": "ipython3",
   "version": "3.9.6"
  }
 },
 "nbformat": 4,
 "nbformat_minor": 2
}
